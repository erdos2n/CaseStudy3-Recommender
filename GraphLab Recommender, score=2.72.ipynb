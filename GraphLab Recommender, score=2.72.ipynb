{
 "cells": [
  {
   "cell_type": "code",
   "execution_count": 1,
   "metadata": {},
   "outputs": [],
   "source": [
    "from recommender import Recommender\n",
    "import pandas as pd\n",
    "import numpy as np\n",
    "from scoring import *\n",
    "import graphlab"
   ]
  },
  {
   "cell_type": "code",
   "execution_count": 2,
   "metadata": {
    "collapsed": true
   },
   "outputs": [],
   "source": [
    "df_train = pd.read_csv('jester_train.csv')\n",
    "df_test = pd.read_csv('jester_test.csv')"
   ]
  },
  {
   "cell_type": "code",
   "execution_count": 3,
   "metadata": {},
   "outputs": [
    {
     "data": {
      "text/html": [
       "<div>\n",
       "<table border=\"1\" class=\"dataframe\">\n",
       "  <thead>\n",
       "    <tr style=\"text-align: right;\">\n",
       "      <th></th>\n",
       "      <th>user_id</th>\n",
       "      <th>joke_id</th>\n",
       "      <th>rating</th>\n",
       "    </tr>\n",
       "  </thead>\n",
       "  <tbody>\n",
       "    <tr>\n",
       "      <th>0</th>\n",
       "      <td>7302</td>\n",
       "      <td>29</td>\n",
       "      <td>7.156</td>\n",
       "    </tr>\n",
       "    <tr>\n",
       "      <th>1</th>\n",
       "      <td>61815</td>\n",
       "      <td>46</td>\n",
       "      <td>6.375</td>\n",
       "    </tr>\n",
       "    <tr>\n",
       "      <th>2</th>\n",
       "      <td>31128</td>\n",
       "      <td>96</td>\n",
       "      <td>2.281</td>\n",
       "    </tr>\n",
       "    <tr>\n",
       "      <th>3</th>\n",
       "      <td>36125</td>\n",
       "      <td>147</td>\n",
       "      <td>-1.781</td>\n",
       "    </tr>\n",
       "    <tr>\n",
       "      <th>4</th>\n",
       "      <td>18007</td>\n",
       "      <td>60</td>\n",
       "      <td>2.188</td>\n",
       "    </tr>\n",
       "  </tbody>\n",
       "</table>\n",
       "</div>"
      ],
      "text/plain": [
       "   user_id  joke_id  rating\n",
       "0     7302       29   7.156\n",
       "1    61815       46   6.375\n",
       "2    31128       96   2.281\n",
       "3    36125      147  -1.781\n",
       "4    18007       60   2.188"
      ]
     },
     "execution_count": 3,
     "metadata": {},
     "output_type": "execute_result"
    }
   ],
   "source": [
    "df_train.head()"
   ]
  },
  {
   "cell_type": "code",
   "execution_count": 4,
   "metadata": {},
   "outputs": [
    {
     "name": "stdout",
     "output_type": "stream",
     "text": [
      "This non-commercial license of GraphLab Create for academic use is assigned to rafacarrasco07@gmail.com and will expire on May 15, 2018.\n"
     ]
    },
    {
     "name": "stderr",
     "output_type": "stream",
     "text": [
      "[INFO] graphlab.cython.cy_server: GraphLab Create v2.1 started. Logging: /tmp/graphlab_server_1494876916.log\n"
     ]
    },
    {
     "data": {
      "text/html": [
       "<div style=\"max-height:1000px;max-width:1500px;overflow:auto;\"><table frame=\"box\" rules=\"cols\">\n",
       "    <tr>\n",
       "        <th style=\"padding-left: 1em; padding-right: 1em; text-align: center\">user_id</th>\n",
       "        <th style=\"padding-left: 1em; padding-right: 1em; text-align: center\">joke_id</th>\n",
       "        <th style=\"padding-left: 1em; padding-right: 1em; text-align: center\">rating</th>\n",
       "    </tr>\n",
       "    <tr>\n",
       "        <td style=\"padding-left: 1em; padding-right: 1em; text-align: center; vertical-align: top\">7302</td>\n",
       "        <td style=\"padding-left: 1em; padding-right: 1em; text-align: center; vertical-align: top\">29</td>\n",
       "        <td style=\"padding-left: 1em; padding-right: 1em; text-align: center; vertical-align: top\">7.156</td>\n",
       "    </tr>\n",
       "    <tr>\n",
       "        <td style=\"padding-left: 1em; padding-right: 1em; text-align: center; vertical-align: top\">61815</td>\n",
       "        <td style=\"padding-left: 1em; padding-right: 1em; text-align: center; vertical-align: top\">46</td>\n",
       "        <td style=\"padding-left: 1em; padding-right: 1em; text-align: center; vertical-align: top\">6.375</td>\n",
       "    </tr>\n",
       "    <tr>\n",
       "        <td style=\"padding-left: 1em; padding-right: 1em; text-align: center; vertical-align: top\">31128</td>\n",
       "        <td style=\"padding-left: 1em; padding-right: 1em; text-align: center; vertical-align: top\">96</td>\n",
       "        <td style=\"padding-left: 1em; padding-right: 1em; text-align: center; vertical-align: top\">2.281</td>\n",
       "    </tr>\n",
       "    <tr>\n",
       "        <td style=\"padding-left: 1em; padding-right: 1em; text-align: center; vertical-align: top\">36125</td>\n",
       "        <td style=\"padding-left: 1em; padding-right: 1em; text-align: center; vertical-align: top\">147</td>\n",
       "        <td style=\"padding-left: 1em; padding-right: 1em; text-align: center; vertical-align: top\">-1.781</td>\n",
       "    </tr>\n",
       "    <tr>\n",
       "        <td style=\"padding-left: 1em; padding-right: 1em; text-align: center; vertical-align: top\">18007</td>\n",
       "        <td style=\"padding-left: 1em; padding-right: 1em; text-align: center; vertical-align: top\">60</td>\n",
       "        <td style=\"padding-left: 1em; padding-right: 1em; text-align: center; vertical-align: top\">2.188</td>\n",
       "    </tr>\n",
       "    <tr>\n",
       "        <td style=\"padding-left: 1em; padding-right: 1em; text-align: center; vertical-align: top\">7387</td>\n",
       "        <td style=\"padding-left: 1em; padding-right: 1em; text-align: center; vertical-align: top\">99</td>\n",
       "        <td style=\"padding-left: 1em; padding-right: 1em; text-align: center; vertical-align: top\">3.594</td>\n",
       "    </tr>\n",
       "    <tr>\n",
       "        <td style=\"padding-left: 1em; padding-right: 1em; text-align: center; vertical-align: top\">12007</td>\n",
       "        <td style=\"padding-left: 1em; padding-right: 1em; text-align: center; vertical-align: top\">18</td>\n",
       "        <td style=\"padding-left: 1em; padding-right: 1em; text-align: center; vertical-align: top\">-2.094</td>\n",
       "    </tr>\n",
       "    <tr>\n",
       "        <td style=\"padding-left: 1em; padding-right: 1em; text-align: center; vertical-align: top\">30302</td>\n",
       "        <td style=\"padding-left: 1em; padding-right: 1em; text-align: center; vertical-align: top\">105</td>\n",
       "        <td style=\"padding-left: 1em; padding-right: 1em; text-align: center; vertical-align: top\">5.406</td>\n",
       "    </tr>\n",
       "    <tr>\n",
       "        <td style=\"padding-left: 1em; padding-right: 1em; text-align: center; vertical-align: top\">46742</td>\n",
       "        <td style=\"padding-left: 1em; padding-right: 1em; text-align: center; vertical-align: top\">8</td>\n",
       "        <td style=\"padding-left: 1em; padding-right: 1em; text-align: center; vertical-align: top\">1.562</td>\n",
       "    </tr>\n",
       "    <tr>\n",
       "        <td style=\"padding-left: 1em; padding-right: 1em; text-align: center; vertical-align: top\">26187</td>\n",
       "        <td style=\"padding-left: 1em; padding-right: 1em; text-align: center; vertical-align: top\">125</td>\n",
       "        <td style=\"padding-left: 1em; padding-right: 1em; text-align: center; vertical-align: top\">1.312</td>\n",
       "    </tr>\n",
       "</table>\n",
       "[1000000 rows x 3 columns]<br/>Note: Only the head of the SFrame is printed.<br/>You can use print_rows(num_rows=m, num_columns=n) to print more rows and columns.\n",
       "</div>"
      ],
      "text/plain": [
       "Columns:\n",
       "\tuser_id\tint\n",
       "\tjoke_id\tint\n",
       "\trating\tfloat\n",
       "\n",
       "Rows: 1000000\n",
       "\n",
       "Data:\n",
       "+---------+---------+--------+\n",
       "| user_id | joke_id | rating |\n",
       "+---------+---------+--------+\n",
       "|   7302  |    29   | 7.156  |\n",
       "|  61815  |    46   | 6.375  |\n",
       "|  31128  |    96   | 2.281  |\n",
       "|  36125  |   147   | -1.781 |\n",
       "|  18007  |    60   | 2.188  |\n",
       "|   7387  |    99   | 3.594  |\n",
       "|  12007  |    18   | -2.094 |\n",
       "|  30302  |   105   | 5.406  |\n",
       "|  46742  |    8    | 1.562  |\n",
       "|  26187  |   125   | 1.312  |\n",
       "+---------+---------+--------+\n",
       "[1000000 rows x 3 columns]\n",
       "Note: Only the head of the SFrame is printed.\n",
       "You can use print_rows(num_rows=m, num_columns=n) to print more rows and columns."
      ]
     },
     "execution_count": 4,
     "metadata": {},
     "output_type": "execute_result"
    }
   ],
   "source": [
    "sf_train = graphlab.SFrame(df_train[['user_id', 'joke_id', 'rating']])\n",
    "sf_train"
   ]
  },
  {
   "cell_type": "markdown",
   "metadata": {},
   "source": [
    "## ALS (Alternating Least Squares)"
   ]
  },
  {
   "cell_type": "code",
   "execution_count": 61,
   "metadata": {
    "scrolled": true
   },
   "outputs": [
    {
     "data": {
      "text/html": [
       "<pre>Recsys training: model = factorization_recommender</pre>"
      ],
      "text/plain": [
       "Recsys training: model = factorization_recommender"
      ]
     },
     "metadata": {},
     "output_type": "display_data"
    },
    {
     "data": {
      "text/html": [
       "<pre>Preparing data set.</pre>"
      ],
      "text/plain": [
       "Preparing data set."
      ]
     },
     "metadata": {},
     "output_type": "display_data"
    },
    {
     "data": {
      "text/html": [
       "<pre>    Data has 1000000 observations with 58125 users and 140 items.</pre>"
      ],
      "text/plain": [
       "    Data has 1000000 observations with 58125 users and 140 items."
      ]
     },
     "metadata": {},
     "output_type": "display_data"
    },
    {
     "data": {
      "text/html": [
       "<pre>    Data prepared in: 1.38414s</pre>"
      ],
      "text/plain": [
       "    Data prepared in: 1.38414s"
      ]
     },
     "metadata": {},
     "output_type": "display_data"
    },
    {
     "data": {
      "text/html": [
       "<pre>Training factorization_recommender for recommendations.</pre>"
      ],
      "text/plain": [
       "Training factorization_recommender for recommendations."
      ]
     },
     "metadata": {},
     "output_type": "display_data"
    },
    {
     "data": {
      "text/html": [
       "<pre>+------------------------------+--------------------------------------------------+----------+</pre>"
      ],
      "text/plain": [
       "+------------------------------+--------------------------------------------------+----------+"
      ]
     },
     "metadata": {},
     "output_type": "display_data"
    },
    {
     "data": {
      "text/html": [
       "<pre>| Parameter                    | Description                                      | Value    |</pre>"
      ],
      "text/plain": [
       "| Parameter                    | Description                                      | Value    |"
      ]
     },
     "metadata": {},
     "output_type": "display_data"
    },
    {
     "data": {
      "text/html": [
       "<pre>+------------------------------+--------------------------------------------------+----------+</pre>"
      ],
      "text/plain": [
       "+------------------------------+--------------------------------------------------+----------+"
      ]
     },
     "metadata": {},
     "output_type": "display_data"
    },
    {
     "data": {
      "text/html": [
       "<pre>| num_factors                  | Factor Dimension                                 | 20       |</pre>"
      ],
      "text/plain": [
       "| num_factors                  | Factor Dimension                                 | 20       |"
      ]
     },
     "metadata": {},
     "output_type": "display_data"
    },
    {
     "data": {
      "text/html": [
       "<pre>| regularization               | L2 Regularization on Factors                     | 1e-08    |</pre>"
      ],
      "text/plain": [
       "| regularization               | L2 Regularization on Factors                     | 1e-08    |"
      ]
     },
     "metadata": {},
     "output_type": "display_data"
    },
    {
     "data": {
      "text/html": [
       "<pre>| max_iterations               | Maximum Number of Iterations                     | 300      |</pre>"
      ],
      "text/plain": [
       "| max_iterations               | Maximum Number of Iterations                     | 300      |"
      ]
     },
     "metadata": {},
     "output_type": "display_data"
    },
    {
     "data": {
      "text/html": [
       "<pre>| solver                       | Solver used for training                         | als      |</pre>"
      ],
      "text/plain": [
       "| solver                       | Solver used for training                         | als      |"
      ]
     },
     "metadata": {},
     "output_type": "display_data"
    },
    {
     "data": {
      "text/html": [
       "<pre>+------------------------------+--------------------------------------------------+----------+</pre>"
      ],
      "text/plain": [
       "+------------------------------+--------------------------------------------------+----------+"
      ]
     },
     "metadata": {},
     "output_type": "display_data"
    },
    {
     "data": {
      "text/html": [
       "<pre>+---------+--------------+------------------------+</pre>"
      ],
      "text/plain": [
       "+---------+--------------+------------------------+"
      ]
     },
     "metadata": {},
     "output_type": "display_data"
    },
    {
     "data": {
      "text/html": [
       "<pre>| Iter.   | Elapsed time | RMSE                   |</pre>"
      ],
      "text/plain": [
       "| Iter.   | Elapsed time | RMSE                   |"
      ]
     },
     "metadata": {},
     "output_type": "display_data"
    },
    {
     "data": {
      "text/html": [
       "<pre>+---------+--------------+------------------------+</pre>"
      ],
      "text/plain": [
       "+---------+--------------+------------------------+"
      ]
     },
     "metadata": {},
     "output_type": "display_data"
    },
    {
     "data": {
      "text/html": [
       "<pre>| Initial | 94us         | NA                     |</pre>"
      ],
      "text/plain": [
       "| Initial | 94us         | NA                     |"
      ]
     },
     "metadata": {},
     "output_type": "display_data"
    },
    {
     "data": {
      "text/html": [
       "<pre>+---------+--------------+------------------------+</pre>"
      ],
      "text/plain": [
       "+---------+--------------+------------------------+"
      ]
     },
     "metadata": {},
     "output_type": "display_data"
    },
    {
     "data": {
      "text/html": [
       "<pre>| 0       | 1.39s        | 3.54647                |</pre>"
      ],
      "text/plain": [
       "| 0       | 1.39s        | 3.54647                |"
      ]
     },
     "metadata": {},
     "output_type": "display_data"
    },
    {
     "data": {
      "text/html": [
       "<pre>| 1       | 2.69s        | 2.22387                |</pre>"
      ],
      "text/plain": [
       "| 1       | 2.69s        | 2.22387                |"
      ]
     },
     "metadata": {},
     "output_type": "display_data"
    },
    {
     "data": {
      "text/html": [
       "<pre>| 2       | 4.05s        | 2.19023                |</pre>"
      ],
      "text/plain": [
       "| 2       | 4.05s        | 2.19023                |"
      ]
     },
     "metadata": {},
     "output_type": "display_data"
    },
    {
     "data": {
      "text/html": [
       "<pre>| 3       | 5.72s        | 2.1669                 |</pre>"
      ],
      "text/plain": [
       "| 3       | 5.72s        | 2.1669                 |"
      ]
     },
     "metadata": {},
     "output_type": "display_data"
    },
    {
     "data": {
      "text/html": [
       "<pre>| 4       | 7.24s        | 2.14872                |</pre>"
      ],
      "text/plain": [
       "| 4       | 7.24s        | 2.14872                |"
      ]
     },
     "metadata": {},
     "output_type": "display_data"
    },
    {
     "data": {
      "text/html": [
       "<pre>| 5       | 8.62s        | 2.13385                |</pre>"
      ],
      "text/plain": [
       "| 5       | 8.62s        | 2.13385                |"
      ]
     },
     "metadata": {},
     "output_type": "display_data"
    },
    {
     "data": {
      "text/html": [
       "<pre>| 6       | 9.91s        | 2.12135                |</pre>"
      ],
      "text/plain": [
       "| 6       | 9.91s        | 2.12135                |"
      ]
     },
     "metadata": {},
     "output_type": "display_data"
    },
    {
     "data": {
      "text/html": [
       "<pre>| 7       | 11.20s       | 2.11078                |</pre>"
      ],
      "text/plain": [
       "| 7       | 11.20s       | 2.11078                |"
      ]
     },
     "metadata": {},
     "output_type": "display_data"
    },
    {
     "data": {
      "text/html": [
       "<pre>| 8       | 12.48s       | 2.10174                |</pre>"
      ],
      "text/plain": [
       "| 8       | 12.48s       | 2.10174                |"
      ]
     },
     "metadata": {},
     "output_type": "display_data"
    },
    {
     "data": {
      "text/html": [
       "<pre>| 9       | 13.76s       | 2.09386                |</pre>"
      ],
      "text/plain": [
       "| 9       | 13.76s       | 2.09386                |"
      ]
     },
     "metadata": {},
     "output_type": "display_data"
    },
    {
     "data": {
      "text/html": [
       "<pre>| 10      | 15.02s       | 2.0869                 |</pre>"
      ],
      "text/plain": [
       "| 10      | 15.02s       | 2.0869                 |"
      ]
     },
     "metadata": {},
     "output_type": "display_data"
    },
    {
     "data": {
      "text/html": [
       "<pre>| 11      | 16.29s       | 2.08074                |</pre>"
      ],
      "text/plain": [
       "| 11      | 16.29s       | 2.08074                |"
      ]
     },
     "metadata": {},
     "output_type": "display_data"
    },
    {
     "data": {
      "text/html": [
       "<pre>| 12      | 17.55s       | 2.07521                |</pre>"
      ],
      "text/plain": [
       "| 12      | 17.55s       | 2.07521                |"
      ]
     },
     "metadata": {},
     "output_type": "display_data"
    },
    {
     "data": {
      "text/html": [
       "<pre>| 13      | 18.82s       | 2.07022                |</pre>"
      ],
      "text/plain": [
       "| 13      | 18.82s       | 2.07022                |"
      ]
     },
     "metadata": {},
     "output_type": "display_data"
    },
    {
     "data": {
      "text/html": [
       "<pre>| 14      | 20.11s       | 2.06571                |</pre>"
      ],
      "text/plain": [
       "| 14      | 20.11s       | 2.06571                |"
      ]
     },
     "metadata": {},
     "output_type": "display_data"
    },
    {
     "data": {
      "text/html": [
       "<pre>| 15      | 21.35s       | 2.06162                |</pre>"
      ],
      "text/plain": [
       "| 15      | 21.35s       | 2.06162                |"
      ]
     },
     "metadata": {},
     "output_type": "display_data"
    },
    {
     "data": {
      "text/html": [
       "<pre>| 16      | 22.63s       | 2.05793                |</pre>"
      ],
      "text/plain": [
       "| 16      | 22.63s       | 2.05793                |"
      ]
     },
     "metadata": {},
     "output_type": "display_data"
    },
    {
     "data": {
      "text/html": [
       "<pre>| 17      | 23.89s       | 2.05456                |</pre>"
      ],
      "text/plain": [
       "| 17      | 23.89s       | 2.05456                |"
      ]
     },
     "metadata": {},
     "output_type": "display_data"
    },
    {
     "data": {
      "text/html": [
       "<pre>| 18      | 25.16s       | 2.05147                |</pre>"
      ],
      "text/plain": [
       "| 18      | 25.16s       | 2.05147                |"
      ]
     },
     "metadata": {},
     "output_type": "display_data"
    },
    {
     "data": {
      "text/html": [
       "<pre>| 19      | 26.44s       | 2.04861                |</pre>"
      ],
      "text/plain": [
       "| 19      | 26.44s       | 2.04861                |"
      ]
     },
     "metadata": {},
     "output_type": "display_data"
    },
    {
     "data": {
      "text/html": [
       "<pre>| 20      | 27.72s       | 2.04595                |</pre>"
      ],
      "text/plain": [
       "| 20      | 27.72s       | 2.04595                |"
      ]
     },
     "metadata": {},
     "output_type": "display_data"
    },
    {
     "data": {
      "text/html": [
       "<pre>| 21      | 28.99s       | 2.04345                |</pre>"
      ],
      "text/plain": [
       "| 21      | 28.99s       | 2.04345                |"
      ]
     },
     "metadata": {},
     "output_type": "display_data"
    },
    {
     "data": {
      "text/html": [
       "<pre>| 22      | 30.28s       | 2.04112                |</pre>"
      ],
      "text/plain": [
       "| 22      | 30.28s       | 2.04112                |"
      ]
     },
     "metadata": {},
     "output_type": "display_data"
    },
    {
     "data": {
      "text/html": [
       "<pre>| 23      | 31.56s       | 2.03894                |</pre>"
      ],
      "text/plain": [
       "| 23      | 31.56s       | 2.03894                |"
      ]
     },
     "metadata": {},
     "output_type": "display_data"
    },
    {
     "data": {
      "text/html": [
       "<pre>| 24      | 32.87s       | 2.03689                |</pre>"
      ],
      "text/plain": [
       "| 24      | 32.87s       | 2.03689                |"
      ]
     },
     "metadata": {},
     "output_type": "display_data"
    },
    {
     "data": {
      "text/html": [
       "<pre>| 25      | 34.16s       | 2.03497                |</pre>"
      ],
      "text/plain": [
       "| 25      | 34.16s       | 2.03497                |"
      ]
     },
     "metadata": {},
     "output_type": "display_data"
    },
    {
     "data": {
      "text/html": [
       "<pre>| 26      | 35.42s       | 2.03319                |</pre>"
      ],
      "text/plain": [
       "| 26      | 35.42s       | 2.03319                |"
      ]
     },
     "metadata": {},
     "output_type": "display_data"
    },
    {
     "data": {
      "text/html": [
       "<pre>| 27      | 36.68s       | 2.03153                |</pre>"
      ],
      "text/plain": [
       "| 27      | 36.68s       | 2.03153                |"
      ]
     },
     "metadata": {},
     "output_type": "display_data"
    },
    {
     "data": {
      "text/html": [
       "<pre>| 28      | 37.95s       | 2.02997                |</pre>"
      ],
      "text/plain": [
       "| 28      | 37.95s       | 2.02997                |"
      ]
     },
     "metadata": {},
     "output_type": "display_data"
    },
    {
     "data": {
      "text/html": [
       "<pre>| 29      | 39.23s       | 2.0285                 |</pre>"
      ],
      "text/plain": [
       "| 29      | 39.23s       | 2.0285                 |"
      ]
     },
     "metadata": {},
     "output_type": "display_data"
    },
    {
     "data": {
      "text/html": [
       "<pre>| 30      | 40.49s       | 2.02711                |</pre>"
      ],
      "text/plain": [
       "| 30      | 40.49s       | 2.02711                |"
      ]
     },
     "metadata": {},
     "output_type": "display_data"
    },
    {
     "data": {
      "text/html": [
       "<pre>| 31      | 41.76s       | 2.02579                |</pre>"
      ],
      "text/plain": [
       "| 31      | 41.76s       | 2.02579                |"
      ]
     },
     "metadata": {},
     "output_type": "display_data"
    },
    {
     "data": {
      "text/html": [
       "<pre>| 32      | 43.03s       | 2.02454                |</pre>"
      ],
      "text/plain": [
       "| 32      | 43.03s       | 2.02454                |"
      ]
     },
     "metadata": {},
     "output_type": "display_data"
    },
    {
     "data": {
      "text/html": [
       "<pre>| 33      | 44.35s       | 2.02334                |</pre>"
      ],
      "text/plain": [
       "| 33      | 44.35s       | 2.02334                |"
      ]
     },
     "metadata": {},
     "output_type": "display_data"
    },
    {
     "data": {
      "text/html": [
       "<pre>| 34      | 45.66s       | 2.0222                 |</pre>"
      ],
      "text/plain": [
       "| 34      | 45.66s       | 2.0222                 |"
      ]
     },
     "metadata": {},
     "output_type": "display_data"
    },
    {
     "data": {
      "text/html": [
       "<pre>| 35      | 46.93s       | 2.0211                 |</pre>"
      ],
      "text/plain": [
       "| 35      | 46.93s       | 2.0211                 |"
      ]
     },
     "metadata": {},
     "output_type": "display_data"
    },
    {
     "data": {
      "text/html": [
       "<pre>| 36      | 48.24s       | 2.02005                |</pre>"
      ],
      "text/plain": [
       "| 36      | 48.24s       | 2.02005                |"
      ]
     },
     "metadata": {},
     "output_type": "display_data"
    },
    {
     "data": {
      "text/html": [
       "<pre>| 37      | 49.53s       | 2.01904                |</pre>"
      ],
      "text/plain": [
       "| 37      | 49.53s       | 2.01904                |"
      ]
     },
     "metadata": {},
     "output_type": "display_data"
    },
    {
     "data": {
      "text/html": [
       "<pre>| 38      | 50.80s       | 2.01806                |</pre>"
      ],
      "text/plain": [
       "| 38      | 50.80s       | 2.01806                |"
      ]
     },
     "metadata": {},
     "output_type": "display_data"
    },
    {
     "data": {
      "text/html": [
       "<pre>| 39      | 52.07s       | 2.01713                |</pre>"
      ],
      "text/plain": [
       "| 39      | 52.07s       | 2.01713                |"
      ]
     },
     "metadata": {},
     "output_type": "display_data"
    },
    {
     "data": {
      "text/html": [
       "<pre>| 40      | 53.33s       | 2.01623                |</pre>"
      ],
      "text/plain": [
       "| 40      | 53.33s       | 2.01623                |"
      ]
     },
     "metadata": {},
     "output_type": "display_data"
    },
    {
     "data": {
      "text/html": [
       "<pre>| 41      | 54.59s       | 2.01537                |</pre>"
      ],
      "text/plain": [
       "| 41      | 54.59s       | 2.01537                |"
      ]
     },
     "metadata": {},
     "output_type": "display_data"
    },
    {
     "data": {
      "text/html": [
       "<pre>| 42      | 55.84s       | 2.01454                |</pre>"
      ],
      "text/plain": [
       "| 42      | 55.84s       | 2.01454                |"
      ]
     },
     "metadata": {},
     "output_type": "display_data"
    },
    {
     "data": {
      "text/html": [
       "<pre>| 43      | 57.11s       | 2.01375                |</pre>"
      ],
      "text/plain": [
       "| 43      | 57.11s       | 2.01375                |"
      ]
     },
     "metadata": {},
     "output_type": "display_data"
    },
    {
     "data": {
      "text/html": [
       "<pre>| 44      | 58.39s       | 2.013                  |</pre>"
      ],
      "text/plain": [
       "| 44      | 58.39s       | 2.013                  |"
      ]
     },
     "metadata": {},
     "output_type": "display_data"
    },
    {
     "data": {
      "text/html": [
       "<pre>| 45      | 59.66s       | 2.01228                |</pre>"
      ],
      "text/plain": [
       "| 45      | 59.66s       | 2.01228                |"
      ]
     },
     "metadata": {},
     "output_type": "display_data"
    },
    {
     "data": {
      "text/html": [
       "<pre>| 46      | 1m 0s        | 2.01159                |</pre>"
      ],
      "text/plain": [
       "| 46      | 1m 0s        | 2.01159                |"
      ]
     },
     "metadata": {},
     "output_type": "display_data"
    },
    {
     "data": {
      "text/html": [
       "<pre>| 47      | 1m 2s        | 2.01093                |</pre>"
      ],
      "text/plain": [
       "| 47      | 1m 2s        | 2.01093                |"
      ]
     },
     "metadata": {},
     "output_type": "display_data"
    },
    {
     "data": {
      "text/html": [
       "<pre>| 48      | 1m 3s        | 2.0103                 |</pre>"
      ],
      "text/plain": [
       "| 48      | 1m 3s        | 2.0103                 |"
      ]
     },
     "metadata": {},
     "output_type": "display_data"
    },
    {
     "data": {
      "text/html": [
       "<pre>| 49      | 1m 4s        | 2.00969                |</pre>"
      ],
      "text/plain": [
       "| 49      | 1m 4s        | 2.00969                |"
      ]
     },
     "metadata": {},
     "output_type": "display_data"
    },
    {
     "data": {
      "text/html": [
       "<pre>| 50      | 1m 5s        | 2.00911                |</pre>"
      ],
      "text/plain": [
       "| 50      | 1m 5s        | 2.00911                |"
      ]
     },
     "metadata": {},
     "output_type": "display_data"
    },
    {
     "data": {
      "text/html": [
       "<pre>| 51      | 1m 7s        | 2.00855                |</pre>"
      ],
      "text/plain": [
       "| 51      | 1m 7s        | 2.00855                |"
      ]
     },
     "metadata": {},
     "output_type": "display_data"
    },
    {
     "data": {
      "text/html": [
       "<pre>| 52      | 1m 8s        | 2.00801                |</pre>"
      ],
      "text/plain": [
       "| 52      | 1m 8s        | 2.00801                |"
      ]
     },
     "metadata": {},
     "output_type": "display_data"
    },
    {
     "data": {
      "text/html": [
       "<pre>| 53      | 1m 9s        | 2.00749                |</pre>"
      ],
      "text/plain": [
       "| 53      | 1m 9s        | 2.00749                |"
      ]
     },
     "metadata": {},
     "output_type": "display_data"
    },
    {
     "data": {
      "text/html": [
       "<pre>| 54      | 1m 11s       | 2.00699                |</pre>"
      ],
      "text/plain": [
       "| 54      | 1m 11s       | 2.00699                |"
      ]
     },
     "metadata": {},
     "output_type": "display_data"
    },
    {
     "data": {
      "text/html": [
       "<pre>| 55      | 1m 12s       | 2.00651                |</pre>"
      ],
      "text/plain": [
       "| 55      | 1m 12s       | 2.00651                |"
      ]
     },
     "metadata": {},
     "output_type": "display_data"
    },
    {
     "data": {
      "text/html": [
       "<pre>| 56      | 1m 13s       | 2.00604                |</pre>"
      ],
      "text/plain": [
       "| 56      | 1m 13s       | 2.00604                |"
      ]
     },
     "metadata": {},
     "output_type": "display_data"
    },
    {
     "data": {
      "text/html": [
       "<pre>| 57      | 1m 14s       | 2.00558                |</pre>"
      ],
      "text/plain": [
       "| 57      | 1m 14s       | 2.00558                |"
      ]
     },
     "metadata": {},
     "output_type": "display_data"
    },
    {
     "data": {
      "text/html": [
       "<pre>| 58      | 1m 16s       | 2.00514                |</pre>"
      ],
      "text/plain": [
       "| 58      | 1m 16s       | 2.00514                |"
      ]
     },
     "metadata": {},
     "output_type": "display_data"
    },
    {
     "data": {
      "text/html": [
       "<pre>| 59      | 1m 17s       | 2.00471                |</pre>"
      ],
      "text/plain": [
       "| 59      | 1m 17s       | 2.00471                |"
      ]
     },
     "metadata": {},
     "output_type": "display_data"
    },
    {
     "data": {
      "text/html": [
       "<pre>| 60      | 1m 18s       | 2.00428                |</pre>"
      ],
      "text/plain": [
       "| 60      | 1m 18s       | 2.00428                |"
      ]
     },
     "metadata": {},
     "output_type": "display_data"
    },
    {
     "data": {
      "text/html": [
       "<pre>| 61      | 1m 20s       | 2.00387                |</pre>"
      ],
      "text/plain": [
       "| 61      | 1m 20s       | 2.00387                |"
      ]
     },
     "metadata": {},
     "output_type": "display_data"
    },
    {
     "data": {
      "text/html": [
       "<pre>| 62      | 1m 21s       | 2.00346                |</pre>"
      ],
      "text/plain": [
       "| 62      | 1m 21s       | 2.00346                |"
      ]
     },
     "metadata": {},
     "output_type": "display_data"
    },
    {
     "data": {
      "text/html": [
       "<pre>| 63      | 1m 23s       | 2.00306                |</pre>"
      ],
      "text/plain": [
       "| 63      | 1m 23s       | 2.00306                |"
      ]
     },
     "metadata": {},
     "output_type": "display_data"
    },
    {
     "data": {
      "text/html": [
       "<pre>| 64      | 1m 24s       | 2.00267                |</pre>"
      ],
      "text/plain": [
       "| 64      | 1m 24s       | 2.00267                |"
      ]
     },
     "metadata": {},
     "output_type": "display_data"
    },
    {
     "data": {
      "text/html": [
       "<pre>| 65      | 1m 26s       | 2.00229                |</pre>"
      ],
      "text/plain": [
       "| 65      | 1m 26s       | 2.00229                |"
      ]
     },
     "metadata": {},
     "output_type": "display_data"
    },
    {
     "data": {
      "text/html": [
       "<pre>| 66      | 1m 28s       | 2.00192                |</pre>"
      ],
      "text/plain": [
       "| 66      | 1m 28s       | 2.00192                |"
      ]
     },
     "metadata": {},
     "output_type": "display_data"
    },
    {
     "data": {
      "text/html": [
       "<pre>| 67      | 1m 29s       | 2.00155                |</pre>"
      ],
      "text/plain": [
       "| 67      | 1m 29s       | 2.00155                |"
      ]
     },
     "metadata": {},
     "output_type": "display_data"
    },
    {
     "data": {
      "text/html": [
       "<pre>| 68      | 1m 31s       | 2.00119                |</pre>"
      ],
      "text/plain": [
       "| 68      | 1m 31s       | 2.00119                |"
      ]
     },
     "metadata": {},
     "output_type": "display_data"
    },
    {
     "data": {
      "text/html": [
       "<pre>| 69      | 1m 33s       | 2.00084                |</pre>"
      ],
      "text/plain": [
       "| 69      | 1m 33s       | 2.00084                |"
      ]
     },
     "metadata": {},
     "output_type": "display_data"
    },
    {
     "data": {
      "text/html": [
       "<pre>| 70      | 1m 34s       | 2.0005                 |</pre>"
      ],
      "text/plain": [
       "| 70      | 1m 34s       | 2.0005                 |"
      ]
     },
     "metadata": {},
     "output_type": "display_data"
    },
    {
     "data": {
      "text/html": [
       "<pre>| 71      | 1m 36s       | 2.00018                |</pre>"
      ],
      "text/plain": [
       "| 71      | 1m 36s       | 2.00018                |"
      ]
     },
     "metadata": {},
     "output_type": "display_data"
    },
    {
     "data": {
      "text/html": [
       "<pre>| 72      | 1m 37s       | 1.99986                |</pre>"
      ],
      "text/plain": [
       "| 72      | 1m 37s       | 1.99986                |"
      ]
     },
     "metadata": {},
     "output_type": "display_data"
    },
    {
     "data": {
      "text/html": [
       "<pre>| 73      | 1m 38s       | 1.99955                |</pre>"
      ],
      "text/plain": [
       "| 73      | 1m 38s       | 1.99955                |"
      ]
     },
     "metadata": {},
     "output_type": "display_data"
    },
    {
     "data": {
      "text/html": [
       "<pre>| 74      | 1m 40s       | 1.99925                |</pre>"
      ],
      "text/plain": [
       "| 74      | 1m 40s       | 1.99925                |"
      ]
     },
     "metadata": {},
     "output_type": "display_data"
    },
    {
     "data": {
      "text/html": [
       "<pre>| 75      | 1m 41s       | 1.99895                |</pre>"
      ],
      "text/plain": [
       "| 75      | 1m 41s       | 1.99895                |"
      ]
     },
     "metadata": {},
     "output_type": "display_data"
    },
    {
     "data": {
      "text/html": [
       "<pre>| 76      | 1m 42s       | 1.99867                |</pre>"
      ],
      "text/plain": [
       "| 76      | 1m 42s       | 1.99867                |"
      ]
     },
     "metadata": {},
     "output_type": "display_data"
    },
    {
     "data": {
      "text/html": [
       "<pre>| 77      | 1m 43s       | 1.9984                 |</pre>"
      ],
      "text/plain": [
       "| 77      | 1m 43s       | 1.9984                 |"
      ]
     },
     "metadata": {},
     "output_type": "display_data"
    },
    {
     "data": {
      "text/html": [
       "<pre>| 78      | 1m 45s       | 1.99813                |</pre>"
      ],
      "text/plain": [
       "| 78      | 1m 45s       | 1.99813                |"
      ]
     },
     "metadata": {},
     "output_type": "display_data"
    },
    {
     "data": {
      "text/html": [
       "<pre>| 79      | 1m 46s       | 1.99787                |</pre>"
      ],
      "text/plain": [
       "| 79      | 1m 46s       | 1.99787                |"
      ]
     },
     "metadata": {},
     "output_type": "display_data"
    },
    {
     "data": {
      "text/html": [
       "<pre>| 80      | 1m 47s       | 1.99762                |</pre>"
      ],
      "text/plain": [
       "| 80      | 1m 47s       | 1.99762                |"
      ]
     },
     "metadata": {},
     "output_type": "display_data"
    },
    {
     "data": {
      "text/html": [
       "<pre>| 81      | 1m 49s       | 1.99737                |</pre>"
      ],
      "text/plain": [
       "| 81      | 1m 49s       | 1.99737                |"
      ]
     },
     "metadata": {},
     "output_type": "display_data"
    },
    {
     "data": {
      "text/html": [
       "<pre>| 82      | 1m 50s       | 1.99713                |</pre>"
      ],
      "text/plain": [
       "| 82      | 1m 50s       | 1.99713                |"
      ]
     },
     "metadata": {},
     "output_type": "display_data"
    },
    {
     "data": {
      "text/html": [
       "<pre>| 83      | 1m 51s       | 1.99689                |</pre>"
      ],
      "text/plain": [
       "| 83      | 1m 51s       | 1.99689                |"
      ]
     },
     "metadata": {},
     "output_type": "display_data"
    },
    {
     "data": {
      "text/html": [
       "<pre>| 84      | 1m 52s       | 1.99666                |</pre>"
      ],
      "text/plain": [
       "| 84      | 1m 52s       | 1.99666                |"
      ]
     },
     "metadata": {},
     "output_type": "display_data"
    },
    {
     "data": {
      "text/html": [
       "<pre>| 85      | 1m 54s       | 1.99644                |</pre>"
      ],
      "text/plain": [
       "| 85      | 1m 54s       | 1.99644                |"
      ]
     },
     "metadata": {},
     "output_type": "display_data"
    },
    {
     "data": {
      "text/html": [
       "<pre>| 86      | 1m 55s       | 1.99622                |</pre>"
      ],
      "text/plain": [
       "| 86      | 1m 55s       | 1.99622                |"
      ]
     },
     "metadata": {},
     "output_type": "display_data"
    },
    {
     "data": {
      "text/html": [
       "<pre>| 87      | 1m 56s       | 1.99601                |</pre>"
      ],
      "text/plain": [
       "| 87      | 1m 56s       | 1.99601                |"
      ]
     },
     "metadata": {},
     "output_type": "display_data"
    },
    {
     "data": {
      "text/html": [
       "<pre>| 88      | 1m 57s       | 1.9958                 |</pre>"
      ],
      "text/plain": [
       "| 88      | 1m 57s       | 1.9958                 |"
      ]
     },
     "metadata": {},
     "output_type": "display_data"
    },
    {
     "data": {
      "text/html": [
       "<pre>| 89      | 1m 59s       | 1.9956                 |</pre>"
      ],
      "text/plain": [
       "| 89      | 1m 59s       | 1.9956                 |"
      ]
     },
     "metadata": {},
     "output_type": "display_data"
    },
    {
     "data": {
      "text/html": [
       "<pre>| 90      | 2m 0s        | 1.99539                |</pre>"
      ],
      "text/plain": [
       "| 90      | 2m 0s        | 1.99539                |"
      ]
     },
     "metadata": {},
     "output_type": "display_data"
    },
    {
     "data": {
      "text/html": [
       "<pre>| 91      | 2m 1s        | 1.99519                |</pre>"
      ],
      "text/plain": [
       "| 91      | 2m 1s        | 1.99519                |"
      ]
     },
     "metadata": {},
     "output_type": "display_data"
    },
    {
     "data": {
      "text/html": [
       "<pre>| 92      | 2m 3s        | 1.995                  |</pre>"
      ],
      "text/plain": [
       "| 92      | 2m 3s        | 1.995                  |"
      ]
     },
     "metadata": {},
     "output_type": "display_data"
    },
    {
     "data": {
      "text/html": [
       "<pre>| 93      | 2m 4s        | 1.99481                |</pre>"
      ],
      "text/plain": [
       "| 93      | 2m 4s        | 1.99481                |"
      ]
     },
     "metadata": {},
     "output_type": "display_data"
    },
    {
     "data": {
      "text/html": [
       "<pre>| 94      | 2m 5s        | 1.99462                |</pre>"
      ],
      "text/plain": [
       "| 94      | 2m 5s        | 1.99462                |"
      ]
     },
     "metadata": {},
     "output_type": "display_data"
    },
    {
     "data": {
      "text/html": [
       "<pre>| 95      | 2m 7s        | 1.99443                |</pre>"
      ],
      "text/plain": [
       "| 95      | 2m 7s        | 1.99443                |"
      ]
     },
     "metadata": {},
     "output_type": "display_data"
    },
    {
     "data": {
      "text/html": [
       "<pre>| 96      | 2m 8s        | 1.99425                |</pre>"
      ],
      "text/plain": [
       "| 96      | 2m 8s        | 1.99425                |"
      ]
     },
     "metadata": {},
     "output_type": "display_data"
    },
    {
     "data": {
      "text/html": [
       "<pre>| 97      | 2m 9s        | 1.99407                |</pre>"
      ],
      "text/plain": [
       "| 97      | 2m 9s        | 1.99407                |"
      ]
     },
     "metadata": {},
     "output_type": "display_data"
    },
    {
     "data": {
      "text/html": [
       "<pre>| 98      | 2m 11s       | 1.99389                |</pre>"
      ],
      "text/plain": [
       "| 98      | 2m 11s       | 1.99389                |"
      ]
     },
     "metadata": {},
     "output_type": "display_data"
    },
    {
     "data": {
      "text/html": [
       "<pre>| 99      | 2m 12s       | 1.99371                |</pre>"
      ],
      "text/plain": [
       "| 99      | 2m 12s       | 1.99371                |"
      ]
     },
     "metadata": {},
     "output_type": "display_data"
    },
    {
     "data": {
      "text/html": [
       "<pre>| 100     | 2m 13s       | 1.99354                |</pre>"
      ],
      "text/plain": [
       "| 100     | 2m 13s       | 1.99354                |"
      ]
     },
     "metadata": {},
     "output_type": "display_data"
    },
    {
     "data": {
      "text/html": [
       "<pre>| 101     | 2m 15s       | 1.99337                |</pre>"
      ],
      "text/plain": [
       "| 101     | 2m 15s       | 1.99337                |"
      ]
     },
     "metadata": {},
     "output_type": "display_data"
    },
    {
     "data": {
      "text/html": [
       "<pre>| 102     | 2m 16s       | 1.99321                |</pre>"
      ],
      "text/plain": [
       "| 102     | 2m 16s       | 1.99321                |"
      ]
     },
     "metadata": {},
     "output_type": "display_data"
    },
    {
     "data": {
      "text/html": [
       "<pre>| 103     | 2m 17s       | 1.99304                |</pre>"
      ],
      "text/plain": [
       "| 103     | 2m 17s       | 1.99304                |"
      ]
     },
     "metadata": {},
     "output_type": "display_data"
    },
    {
     "data": {
      "text/html": [
       "<pre>| 104     | 2m 19s       | 1.99288                |</pre>"
      ],
      "text/plain": [
       "| 104     | 2m 19s       | 1.99288                |"
      ]
     },
     "metadata": {},
     "output_type": "display_data"
    },
    {
     "data": {
      "text/html": [
       "<pre>| 105     | 2m 20s       | 1.99272                |</pre>"
      ],
      "text/plain": [
       "| 105     | 2m 20s       | 1.99272                |"
      ]
     },
     "metadata": {},
     "output_type": "display_data"
    },
    {
     "data": {
      "text/html": [
       "<pre>| 106     | 2m 21s       | 1.99256                |</pre>"
      ],
      "text/plain": [
       "| 106     | 2m 21s       | 1.99256                |"
      ]
     },
     "metadata": {},
     "output_type": "display_data"
    },
    {
     "data": {
      "text/html": [
       "<pre>| 107     | 2m 23s       | 1.9924                 |</pre>"
      ],
      "text/plain": [
       "| 107     | 2m 23s       | 1.9924                 |"
      ]
     },
     "metadata": {},
     "output_type": "display_data"
    },
    {
     "data": {
      "text/html": [
       "<pre>| 108     | 2m 24s       | 1.99225                |</pre>"
      ],
      "text/plain": [
       "| 108     | 2m 24s       | 1.99225                |"
      ]
     },
     "metadata": {},
     "output_type": "display_data"
    },
    {
     "data": {
      "text/html": [
       "<pre>| 109     | 2m 25s       | 1.9921                 |</pre>"
      ],
      "text/plain": [
       "| 109     | 2m 25s       | 1.9921                 |"
      ]
     },
     "metadata": {},
     "output_type": "display_data"
    },
    {
     "data": {
      "text/html": [
       "<pre>| 110     | 2m 27s       | 1.99194                |</pre>"
      ],
      "text/plain": [
       "| 110     | 2m 27s       | 1.99194                |"
      ]
     },
     "metadata": {},
     "output_type": "display_data"
    },
    {
     "data": {
      "text/html": [
       "<pre>| 111     | 2m 28s       | 1.99179                |</pre>"
      ],
      "text/plain": [
       "| 111     | 2m 28s       | 1.99179                |"
      ]
     },
     "metadata": {},
     "output_type": "display_data"
    },
    {
     "data": {
      "text/html": [
       "<pre>| 112     | 2m 30s       | 1.99164                |</pre>"
      ],
      "text/plain": [
       "| 112     | 2m 30s       | 1.99164                |"
      ]
     },
     "metadata": {},
     "output_type": "display_data"
    },
    {
     "data": {
      "text/html": [
       "<pre>| 113     | 2m 31s       | 1.99148                |</pre>"
      ],
      "text/plain": [
       "| 113     | 2m 31s       | 1.99148                |"
      ]
     },
     "metadata": {},
     "output_type": "display_data"
    },
    {
     "data": {
      "text/html": [
       "<pre>| 114     | 2m 32s       | 1.99133                |</pre>"
      ],
      "text/plain": [
       "| 114     | 2m 32s       | 1.99133                |"
      ]
     },
     "metadata": {},
     "output_type": "display_data"
    },
    {
     "data": {
      "text/html": [
       "<pre>| 115     | 2m 34s       | 1.99118                |</pre>"
      ],
      "text/plain": [
       "| 115     | 2m 34s       | 1.99118                |"
      ]
     },
     "metadata": {},
     "output_type": "display_data"
    },
    {
     "data": {
      "text/html": [
       "<pre>| 116     | 2m 35s       | 1.99103                |</pre>"
      ],
      "text/plain": [
       "| 116     | 2m 35s       | 1.99103                |"
      ]
     },
     "metadata": {},
     "output_type": "display_data"
    },
    {
     "data": {
      "text/html": [
       "<pre>| 117     | 2m 36s       | 1.99088                |</pre>"
      ],
      "text/plain": [
       "| 117     | 2m 36s       | 1.99088                |"
      ]
     },
     "metadata": {},
     "output_type": "display_data"
    },
    {
     "data": {
      "text/html": [
       "<pre>| 118     | 2m 38s       | 1.99073                |</pre>"
      ],
      "text/plain": [
       "| 118     | 2m 38s       | 1.99073                |"
      ]
     },
     "metadata": {},
     "output_type": "display_data"
    },
    {
     "data": {
      "text/html": [
       "<pre>| 119     | 2m 39s       | 1.99058                |</pre>"
      ],
      "text/plain": [
       "| 119     | 2m 39s       | 1.99058                |"
      ]
     },
     "metadata": {},
     "output_type": "display_data"
    },
    {
     "data": {
      "text/html": [
       "<pre>| 120     | 2m 41s       | 1.99043                |</pre>"
      ],
      "text/plain": [
       "| 120     | 2m 41s       | 1.99043                |"
      ]
     },
     "metadata": {},
     "output_type": "display_data"
    },
    {
     "data": {
      "text/html": [
       "<pre>| 121     | 2m 42s       | 1.99028                |</pre>"
      ],
      "text/plain": [
       "| 121     | 2m 42s       | 1.99028                |"
      ]
     },
     "metadata": {},
     "output_type": "display_data"
    },
    {
     "data": {
      "text/html": [
       "<pre>| 122     | 2m 44s       | 1.99014                |</pre>"
      ],
      "text/plain": [
       "| 122     | 2m 44s       | 1.99014                |"
      ]
     },
     "metadata": {},
     "output_type": "display_data"
    },
    {
     "data": {
      "text/html": [
       "<pre>| 123     | 2m 45s       | 1.98999                |</pre>"
      ],
      "text/plain": [
       "| 123     | 2m 45s       | 1.98999                |"
      ]
     },
     "metadata": {},
     "output_type": "display_data"
    },
    {
     "data": {
      "text/html": [
       "<pre>| 124     | 2m 46s       | 1.98985                |</pre>"
      ],
      "text/plain": [
       "| 124     | 2m 46s       | 1.98985                |"
      ]
     },
     "metadata": {},
     "output_type": "display_data"
    },
    {
     "data": {
      "text/html": [
       "<pre>| 125     | 2m 48s       | 1.9897                 |</pre>"
      ],
      "text/plain": [
       "| 125     | 2m 48s       | 1.9897                 |"
      ]
     },
     "metadata": {},
     "output_type": "display_data"
    },
    {
     "data": {
      "text/html": [
       "<pre>| 126     | 2m 49s       | 1.98956                |</pre>"
      ],
      "text/plain": [
       "| 126     | 2m 49s       | 1.98956                |"
      ]
     },
     "metadata": {},
     "output_type": "display_data"
    },
    {
     "data": {
      "text/html": [
       "<pre>| 127     | 2m 51s       | 1.98942                |</pre>"
      ],
      "text/plain": [
       "| 127     | 2m 51s       | 1.98942                |"
      ]
     },
     "metadata": {},
     "output_type": "display_data"
    },
    {
     "data": {
      "text/html": [
       "<pre>| 128     | 2m 52s       | 1.98928                |</pre>"
      ],
      "text/plain": [
       "| 128     | 2m 52s       | 1.98928                |"
      ]
     },
     "metadata": {},
     "output_type": "display_data"
    },
    {
     "data": {
      "text/html": [
       "<pre>| 129     | 2m 53s       | 1.98913                |</pre>"
      ],
      "text/plain": [
       "| 129     | 2m 53s       | 1.98913                |"
      ]
     },
     "metadata": {},
     "output_type": "display_data"
    },
    {
     "data": {
      "text/html": [
       "<pre>| 130     | 2m 55s       | 1.98899                |</pre>"
      ],
      "text/plain": [
       "| 130     | 2m 55s       | 1.98899                |"
      ]
     },
     "metadata": {},
     "output_type": "display_data"
    },
    {
     "data": {
      "text/html": [
       "<pre>| 131     | 2m 56s       | 1.98884                |</pre>"
      ],
      "text/plain": [
       "| 131     | 2m 56s       | 1.98884                |"
      ]
     },
     "metadata": {},
     "output_type": "display_data"
    },
    {
     "data": {
      "text/html": [
       "<pre>| 132     | 2m 58s       | 1.98869                |</pre>"
      ],
      "text/plain": [
       "| 132     | 2m 58s       | 1.98869                |"
      ]
     },
     "metadata": {},
     "output_type": "display_data"
    },
    {
     "data": {
      "text/html": [
       "<pre>| 133     | 2m 59s       | 1.98854                |</pre>"
      ],
      "text/plain": [
       "| 133     | 2m 59s       | 1.98854                |"
      ]
     },
     "metadata": {},
     "output_type": "display_data"
    },
    {
     "data": {
      "text/html": [
       "<pre>| 134     | 3m 1s        | 1.98841                |</pre>"
      ],
      "text/plain": [
       "| 134     | 3m 1s        | 1.98841                |"
      ]
     },
     "metadata": {},
     "output_type": "display_data"
    },
    {
     "data": {
      "text/html": [
       "<pre>| 135     | 3m 2s        | 1.98827                |</pre>"
      ],
      "text/plain": [
       "| 135     | 3m 2s        | 1.98827                |"
      ]
     },
     "metadata": {},
     "output_type": "display_data"
    },
    {
     "data": {
      "text/html": [
       "<pre>| 136     | 3m 4s        | 1.98814                |</pre>"
      ],
      "text/plain": [
       "| 136     | 3m 4s        | 1.98814                |"
      ]
     },
     "metadata": {},
     "output_type": "display_data"
    },
    {
     "data": {
      "text/html": [
       "<pre>| 137     | 3m 5s        | 1.98801                |</pre>"
      ],
      "text/plain": [
       "| 137     | 3m 5s        | 1.98801                |"
      ]
     },
     "metadata": {},
     "output_type": "display_data"
    },
    {
     "data": {
      "text/html": [
       "<pre>| 138     | 3m 6s        | 1.98789                |</pre>"
      ],
      "text/plain": [
       "| 138     | 3m 6s        | 1.98789                |"
      ]
     },
     "metadata": {},
     "output_type": "display_data"
    },
    {
     "data": {
      "text/html": [
       "<pre>| 139     | 3m 8s        | 1.98776                |</pre>"
      ],
      "text/plain": [
       "| 139     | 3m 8s        | 1.98776                |"
      ]
     },
     "metadata": {},
     "output_type": "display_data"
    },
    {
     "data": {
      "text/html": [
       "<pre>| 140     | 3m 9s        | 1.98764                |</pre>"
      ],
      "text/plain": [
       "| 140     | 3m 9s        | 1.98764                |"
      ]
     },
     "metadata": {},
     "output_type": "display_data"
    },
    {
     "data": {
      "text/html": [
       "<pre>| 141     | 3m 11s       | 1.98752                |</pre>"
      ],
      "text/plain": [
       "| 141     | 3m 11s       | 1.98752                |"
      ]
     },
     "metadata": {},
     "output_type": "display_data"
    },
    {
     "data": {
      "text/html": [
       "<pre>| 142     | 3m 12s       | 1.9874                 |</pre>"
      ],
      "text/plain": [
       "| 142     | 3m 12s       | 1.9874                 |"
      ]
     },
     "metadata": {},
     "output_type": "display_data"
    },
    {
     "data": {
      "text/html": [
       "<pre>| 143     | 3m 14s       | 1.98729                |</pre>"
      ],
      "text/plain": [
       "| 143     | 3m 14s       | 1.98729                |"
      ]
     },
     "metadata": {},
     "output_type": "display_data"
    },
    {
     "data": {
      "text/html": [
       "<pre>| 144     | 3m 15s       | 1.98717                |</pre>"
      ],
      "text/plain": [
       "| 144     | 3m 15s       | 1.98717                |"
      ]
     },
     "metadata": {},
     "output_type": "display_data"
    },
    {
     "data": {
      "text/html": [
       "<pre>| 145     | 3m 16s       | 1.98706                |</pre>"
      ],
      "text/plain": [
       "| 145     | 3m 16s       | 1.98706                |"
      ]
     },
     "metadata": {},
     "output_type": "display_data"
    },
    {
     "data": {
      "text/html": [
       "<pre>| 146     | 3m 18s       | 1.98695                |</pre>"
      ],
      "text/plain": [
       "| 146     | 3m 18s       | 1.98695                |"
      ]
     },
     "metadata": {},
     "output_type": "display_data"
    },
    {
     "data": {
      "text/html": [
       "<pre>| 147     | 3m 20s       | 1.98684                |</pre>"
      ],
      "text/plain": [
       "| 147     | 3m 20s       | 1.98684                |"
      ]
     },
     "metadata": {},
     "output_type": "display_data"
    },
    {
     "data": {
      "text/html": [
       "<pre>| 148     | 3m 22s       | 1.98673                |</pre>"
      ],
      "text/plain": [
       "| 148     | 3m 22s       | 1.98673                |"
      ]
     },
     "metadata": {},
     "output_type": "display_data"
    },
    {
     "data": {
      "text/html": [
       "<pre>| 149     | 3m 23s       | 1.98662                |</pre>"
      ],
      "text/plain": [
       "| 149     | 3m 23s       | 1.98662                |"
      ]
     },
     "metadata": {},
     "output_type": "display_data"
    },
    {
     "data": {
      "text/html": [
       "<pre>| 150     | 3m 25s       | 1.98651                |</pre>"
      ],
      "text/plain": [
       "| 150     | 3m 25s       | 1.98651                |"
      ]
     },
     "metadata": {},
     "output_type": "display_data"
    },
    {
     "data": {
      "text/html": [
       "<pre>| 151     | 3m 27s       | 1.9864                 |</pre>"
      ],
      "text/plain": [
       "| 151     | 3m 27s       | 1.9864                 |"
      ]
     },
     "metadata": {},
     "output_type": "display_data"
    },
    {
     "data": {
      "text/html": [
       "<pre>| 152     | 3m 28s       | 1.98629                |</pre>"
      ],
      "text/plain": [
       "| 152     | 3m 28s       | 1.98629                |"
      ]
     },
     "metadata": {},
     "output_type": "display_data"
    },
    {
     "data": {
      "text/html": [
       "<pre>| 153     | 3m 30s       | 1.98619                |</pre>"
      ],
      "text/plain": [
       "| 153     | 3m 30s       | 1.98619                |"
      ]
     },
     "metadata": {},
     "output_type": "display_data"
    },
    {
     "data": {
      "text/html": [
       "<pre>| 154     | 3m 31s       | 1.98608                |</pre>"
      ],
      "text/plain": [
       "| 154     | 3m 31s       | 1.98608                |"
      ]
     },
     "metadata": {},
     "output_type": "display_data"
    },
    {
     "data": {
      "text/html": [
       "<pre>| 155     | 3m 33s       | 1.98598                |</pre>"
      ],
      "text/plain": [
       "| 155     | 3m 33s       | 1.98598                |"
      ]
     },
     "metadata": {},
     "output_type": "display_data"
    },
    {
     "data": {
      "text/html": [
       "<pre>| 156     | 3m 34s       | 1.98588                |</pre>"
      ],
      "text/plain": [
       "| 156     | 3m 34s       | 1.98588                |"
      ]
     },
     "metadata": {},
     "output_type": "display_data"
    },
    {
     "data": {
      "text/html": [
       "<pre>| 157     | 3m 36s       | 1.98578                |</pre>"
      ],
      "text/plain": [
       "| 157     | 3m 36s       | 1.98578                |"
      ]
     },
     "metadata": {},
     "output_type": "display_data"
    },
    {
     "data": {
      "text/html": [
       "<pre>| 158     | 3m 37s       | 1.98568                |</pre>"
      ],
      "text/plain": [
       "| 158     | 3m 37s       | 1.98568                |"
      ]
     },
     "metadata": {},
     "output_type": "display_data"
    },
    {
     "data": {
      "text/html": [
       "<pre>| 159     | 3m 39s       | 1.98558                |</pre>"
      ],
      "text/plain": [
       "| 159     | 3m 39s       | 1.98558                |"
      ]
     },
     "metadata": {},
     "output_type": "display_data"
    },
    {
     "data": {
      "text/html": [
       "<pre>| 160     | 3m 41s       | 1.98548                |</pre>"
      ],
      "text/plain": [
       "| 160     | 3m 41s       | 1.98548                |"
      ]
     },
     "metadata": {},
     "output_type": "display_data"
    },
    {
     "data": {
      "text/html": [
       "<pre>| 161     | 3m 42s       | 1.98538                |</pre>"
      ],
      "text/plain": [
       "| 161     | 3m 42s       | 1.98538                |"
      ]
     },
     "metadata": {},
     "output_type": "display_data"
    },
    {
     "data": {
      "text/html": [
       "<pre>| 162     | 3m 44s       | 1.98529                |</pre>"
      ],
      "text/plain": [
       "| 162     | 3m 44s       | 1.98529                |"
      ]
     },
     "metadata": {},
     "output_type": "display_data"
    },
    {
     "data": {
      "text/html": [
       "<pre>| 163     | 3m 45s       | 1.9852                 |</pre>"
      ],
      "text/plain": [
       "| 163     | 3m 45s       | 1.9852                 |"
      ]
     },
     "metadata": {},
     "output_type": "display_data"
    },
    {
     "data": {
      "text/html": [
       "<pre>| 164     | 3m 47s       | 1.9851                 |</pre>"
      ],
      "text/plain": [
       "| 164     | 3m 47s       | 1.9851                 |"
      ]
     },
     "metadata": {},
     "output_type": "display_data"
    },
    {
     "data": {
      "text/html": [
       "<pre>| 165     | 3m 48s       | 1.98501                |</pre>"
      ],
      "text/plain": [
       "| 165     | 3m 48s       | 1.98501                |"
      ]
     },
     "metadata": {},
     "output_type": "display_data"
    },
    {
     "data": {
      "text/html": [
       "<pre>| 166     | 3m 50s       | 1.98492                |</pre>"
      ],
      "text/plain": [
       "| 166     | 3m 50s       | 1.98492                |"
      ]
     },
     "metadata": {},
     "output_type": "display_data"
    },
    {
     "data": {
      "text/html": [
       "<pre>| 167     | 3m 51s       | 1.98483                |</pre>"
      ],
      "text/plain": [
       "| 167     | 3m 51s       | 1.98483                |"
      ]
     },
     "metadata": {},
     "output_type": "display_data"
    },
    {
     "data": {
      "text/html": [
       "<pre>| 168     | 3m 53s       | 1.98474                |</pre>"
      ],
      "text/plain": [
       "| 168     | 3m 53s       | 1.98474                |"
      ]
     },
     "metadata": {},
     "output_type": "display_data"
    },
    {
     "data": {
      "text/html": [
       "<pre>| 169     | 3m 54s       | 1.98466                |</pre>"
      ],
      "text/plain": [
       "| 169     | 3m 54s       | 1.98466                |"
      ]
     },
     "metadata": {},
     "output_type": "display_data"
    },
    {
     "data": {
      "text/html": [
       "<pre>| 170     | 3m 56s       | 1.98457                |</pre>"
      ],
      "text/plain": [
       "| 170     | 3m 56s       | 1.98457                |"
      ]
     },
     "metadata": {},
     "output_type": "display_data"
    },
    {
     "data": {
      "text/html": [
       "<pre>| 171     | 3m 57s       | 1.98448                |</pre>"
      ],
      "text/plain": [
       "| 171     | 3m 57s       | 1.98448                |"
      ]
     },
     "metadata": {},
     "output_type": "display_data"
    },
    {
     "data": {
      "text/html": [
       "<pre>| 172     | 3m 58s       | 1.9844                 |</pre>"
      ],
      "text/plain": [
       "| 172     | 3m 58s       | 1.9844                 |"
      ]
     },
     "metadata": {},
     "output_type": "display_data"
    },
    {
     "data": {
      "text/html": [
       "<pre>| 173     | 4m 0s        | 1.98432                |</pre>"
      ],
      "text/plain": [
       "| 173     | 4m 0s        | 1.98432                |"
      ]
     },
     "metadata": {},
     "output_type": "display_data"
    },
    {
     "data": {
      "text/html": [
       "<pre>| 174     | 4m 2s        | 1.98423                |</pre>"
      ],
      "text/plain": [
       "| 174     | 4m 2s        | 1.98423                |"
      ]
     },
     "metadata": {},
     "output_type": "display_data"
    },
    {
     "data": {
      "text/html": [
       "<pre>| 175     | 4m 3s        | 1.98415                |</pre>"
      ],
      "text/plain": [
       "| 175     | 4m 3s        | 1.98415                |"
      ]
     },
     "metadata": {},
     "output_type": "display_data"
    },
    {
     "data": {
      "text/html": [
       "<pre>| 176     | 4m 5s        | 1.98407                |</pre>"
      ],
      "text/plain": [
       "| 176     | 4m 5s        | 1.98407                |"
      ]
     },
     "metadata": {},
     "output_type": "display_data"
    },
    {
     "data": {
      "text/html": [
       "<pre>| 177     | 4m 6s        | 1.98399                |</pre>"
      ],
      "text/plain": [
       "| 177     | 4m 6s        | 1.98399                |"
      ]
     },
     "metadata": {},
     "output_type": "display_data"
    },
    {
     "data": {
      "text/html": [
       "<pre>| 178     | 4m 8s        | 1.9839                 |</pre>"
      ],
      "text/plain": [
       "| 178     | 4m 8s        | 1.9839                 |"
      ]
     },
     "metadata": {},
     "output_type": "display_data"
    },
    {
     "data": {
      "text/html": [
       "<pre>| 179     | 4m 9s        | 1.98382                |</pre>"
      ],
      "text/plain": [
       "| 179     | 4m 9s        | 1.98382                |"
      ]
     },
     "metadata": {},
     "output_type": "display_data"
    },
    {
     "data": {
      "text/html": [
       "<pre>| 180     | 4m 11s       | 1.98374                |</pre>"
      ],
      "text/plain": [
       "| 180     | 4m 11s       | 1.98374                |"
      ]
     },
     "metadata": {},
     "output_type": "display_data"
    },
    {
     "data": {
      "text/html": [
       "<pre>| 181     | 4m 12s       | 1.98366                |</pre>"
      ],
      "text/plain": [
       "| 181     | 4m 12s       | 1.98366                |"
      ]
     },
     "metadata": {},
     "output_type": "display_data"
    },
    {
     "data": {
      "text/html": [
       "<pre>| 182     | 4m 14s       | 1.98358                |</pre>"
      ],
      "text/plain": [
       "| 182     | 4m 14s       | 1.98358                |"
      ]
     },
     "metadata": {},
     "output_type": "display_data"
    },
    {
     "data": {
      "text/html": [
       "<pre>| 183     | 4m 15s       | 1.98351                |</pre>"
      ],
      "text/plain": [
       "| 183     | 4m 15s       | 1.98351                |"
      ]
     },
     "metadata": {},
     "output_type": "display_data"
    },
    {
     "data": {
      "text/html": [
       "<pre>| 184     | 4m 17s       | 1.98343                |</pre>"
      ],
      "text/plain": [
       "| 184     | 4m 17s       | 1.98343                |"
      ]
     },
     "metadata": {},
     "output_type": "display_data"
    },
    {
     "data": {
      "text/html": [
       "<pre>| 185     | 4m 18s       | 1.98335                |</pre>"
      ],
      "text/plain": [
       "| 185     | 4m 18s       | 1.98335                |"
      ]
     },
     "metadata": {},
     "output_type": "display_data"
    },
    {
     "data": {
      "text/html": [
       "<pre>| 186     | 4m 19s       | 1.98328                |</pre>"
      ],
      "text/plain": [
       "| 186     | 4m 19s       | 1.98328                |"
      ]
     },
     "metadata": {},
     "output_type": "display_data"
    },
    {
     "data": {
      "text/html": [
       "<pre>| 187     | 4m 21s       | 1.9832                 |</pre>"
      ],
      "text/plain": [
       "| 187     | 4m 21s       | 1.9832                 |"
      ]
     },
     "metadata": {},
     "output_type": "display_data"
    },
    {
     "data": {
      "text/html": [
       "<pre>| 188     | 4m 22s       | 1.98313                |</pre>"
      ],
      "text/plain": [
       "| 188     | 4m 22s       | 1.98313                |"
      ]
     },
     "metadata": {},
     "output_type": "display_data"
    },
    {
     "data": {
      "text/html": [
       "<pre>| 189     | 4m 24s       | 1.98305                |</pre>"
      ],
      "text/plain": [
       "| 189     | 4m 24s       | 1.98305                |"
      ]
     },
     "metadata": {},
     "output_type": "display_data"
    },
    {
     "data": {
      "text/html": [
       "<pre>| 190     | 4m 25s       | 1.98298                |</pre>"
      ],
      "text/plain": [
       "| 190     | 4m 25s       | 1.98298                |"
      ]
     },
     "metadata": {},
     "output_type": "display_data"
    },
    {
     "data": {
      "text/html": [
       "<pre>| 191     | 4m 26s       | 1.9829                 |</pre>"
      ],
      "text/plain": [
       "| 191     | 4m 26s       | 1.9829                 |"
      ]
     },
     "metadata": {},
     "output_type": "display_data"
    },
    {
     "data": {
      "text/html": [
       "<pre>| 192     | 4m 28s       | 1.98283                |</pre>"
      ],
      "text/plain": [
       "| 192     | 4m 28s       | 1.98283                |"
      ]
     },
     "metadata": {},
     "output_type": "display_data"
    },
    {
     "data": {
      "text/html": [
       "<pre>| 193     | 4m 29s       | 1.98275                |</pre>"
      ],
      "text/plain": [
       "| 193     | 4m 29s       | 1.98275                |"
      ]
     },
     "metadata": {},
     "output_type": "display_data"
    },
    {
     "data": {
      "text/html": [
       "<pre>| 194     | 4m 30s       | 1.98267                |</pre>"
      ],
      "text/plain": [
       "| 194     | 4m 30s       | 1.98267                |"
      ]
     },
     "metadata": {},
     "output_type": "display_data"
    },
    {
     "data": {
      "text/html": [
       "<pre>| 195     | 4m 32s       | 1.98259                |</pre>"
      ],
      "text/plain": [
       "| 195     | 4m 32s       | 1.98259                |"
      ]
     },
     "metadata": {},
     "output_type": "display_data"
    },
    {
     "data": {
      "text/html": [
       "<pre>| 196     | 4m 33s       | 1.9825                 |</pre>"
      ],
      "text/plain": [
       "| 196     | 4m 33s       | 1.9825                 |"
      ]
     },
     "metadata": {},
     "output_type": "display_data"
    },
    {
     "data": {
      "text/html": [
       "<pre>| 197     | 4m 35s       | 1.98242                |</pre>"
      ],
      "text/plain": [
       "| 197     | 4m 35s       | 1.98242                |"
      ]
     },
     "metadata": {},
     "output_type": "display_data"
    },
    {
     "data": {
      "text/html": [
       "<pre>| 198     | 4m 36s       | 1.98234                |</pre>"
      ],
      "text/plain": [
       "| 198     | 4m 36s       | 1.98234                |"
      ]
     },
     "metadata": {},
     "output_type": "display_data"
    },
    {
     "data": {
      "text/html": [
       "<pre>| 199     | 4m 37s       | 1.98226                |</pre>"
      ],
      "text/plain": [
       "| 199     | 4m 37s       | 1.98226                |"
      ]
     },
     "metadata": {},
     "output_type": "display_data"
    },
    {
     "data": {
      "text/html": [
       "<pre>| 200     | 4m 39s       | 1.98218                |</pre>"
      ],
      "text/plain": [
       "| 200     | 4m 39s       | 1.98218                |"
      ]
     },
     "metadata": {},
     "output_type": "display_data"
    },
    {
     "data": {
      "text/html": [
       "<pre>| 201     | 4m 40s       | 1.98211                |</pre>"
      ],
      "text/plain": [
       "| 201     | 4m 40s       | 1.98211                |"
      ]
     },
     "metadata": {},
     "output_type": "display_data"
    },
    {
     "data": {
      "text/html": [
       "<pre>| 202     | 4m 42s       | 1.98203                |</pre>"
      ],
      "text/plain": [
       "| 202     | 4m 42s       | 1.98203                |"
      ]
     },
     "metadata": {},
     "output_type": "display_data"
    },
    {
     "data": {
      "text/html": [
       "<pre>| 203     | 4m 43s       | 1.98196                |</pre>"
      ],
      "text/plain": [
       "| 203     | 4m 43s       | 1.98196                |"
      ]
     },
     "metadata": {},
     "output_type": "display_data"
    },
    {
     "data": {
      "text/html": [
       "<pre>| 204     | 4m 44s       | 1.98189                |</pre>"
      ],
      "text/plain": [
       "| 204     | 4m 44s       | 1.98189                |"
      ]
     },
     "metadata": {},
     "output_type": "display_data"
    },
    {
     "data": {
      "text/html": [
       "<pre>| 205     | 4m 46s       | 1.98182                |</pre>"
      ],
      "text/plain": [
       "| 205     | 4m 46s       | 1.98182                |"
      ]
     },
     "metadata": {},
     "output_type": "display_data"
    },
    {
     "data": {
      "text/html": [
       "<pre>| 206     | 4m 47s       | 1.98175                |</pre>"
      ],
      "text/plain": [
       "| 206     | 4m 47s       | 1.98175                |"
      ]
     },
     "metadata": {},
     "output_type": "display_data"
    },
    {
     "data": {
      "text/html": [
       "<pre>| 207     | 4m 49s       | 1.98168                |</pre>"
      ],
      "text/plain": [
       "| 207     | 4m 49s       | 1.98168                |"
      ]
     },
     "metadata": {},
     "output_type": "display_data"
    },
    {
     "data": {
      "text/html": [
       "<pre>| 208     | 4m 50s       | 1.9816                 |</pre>"
      ],
      "text/plain": [
       "| 208     | 4m 50s       | 1.9816                 |"
      ]
     },
     "metadata": {},
     "output_type": "display_data"
    },
    {
     "data": {
      "text/html": [
       "<pre>| 209     | 4m 52s       | 1.98153                |</pre>"
      ],
      "text/plain": [
       "| 209     | 4m 52s       | 1.98153                |"
      ]
     },
     "metadata": {},
     "output_type": "display_data"
    },
    {
     "data": {
      "text/html": [
       "<pre>| 210     | 4m 53s       | 1.98147                |</pre>"
      ],
      "text/plain": [
       "| 210     | 4m 53s       | 1.98147                |"
      ]
     },
     "metadata": {},
     "output_type": "display_data"
    },
    {
     "data": {
      "text/html": [
       "<pre>| 211     | 4m 54s       | 1.9814                 |</pre>"
      ],
      "text/plain": [
       "| 211     | 4m 54s       | 1.9814                 |"
      ]
     },
     "metadata": {},
     "output_type": "display_data"
    },
    {
     "data": {
      "text/html": [
       "<pre>| 212     | 4m 56s       | 1.98133                |</pre>"
      ],
      "text/plain": [
       "| 212     | 4m 56s       | 1.98133                |"
      ]
     },
     "metadata": {},
     "output_type": "display_data"
    },
    {
     "data": {
      "text/html": [
       "<pre>| 213     | 4m 57s       | 1.98126                |</pre>"
      ],
      "text/plain": [
       "| 213     | 4m 57s       | 1.98126                |"
      ]
     },
     "metadata": {},
     "output_type": "display_data"
    },
    {
     "data": {
      "text/html": [
       "<pre>| 214     | 4m 58s       | 1.9812                 |</pre>"
      ],
      "text/plain": [
       "| 214     | 4m 58s       | 1.9812                 |"
      ]
     },
     "metadata": {},
     "output_type": "display_data"
    },
    {
     "data": {
      "text/html": [
       "<pre>| 215     | 5m 0s        | 1.98114                |</pre>"
      ],
      "text/plain": [
       "| 215     | 5m 0s        | 1.98114                |"
      ]
     },
     "metadata": {},
     "output_type": "display_data"
    },
    {
     "data": {
      "text/html": [
       "<pre>| 216     | 5m 2s        | 1.98107                |</pre>"
      ],
      "text/plain": [
       "| 216     | 5m 2s        | 1.98107                |"
      ]
     },
     "metadata": {},
     "output_type": "display_data"
    },
    {
     "data": {
      "text/html": [
       "<pre>| 217     | 5m 4s        | 1.98101                |</pre>"
      ],
      "text/plain": [
       "| 217     | 5m 4s        | 1.98101                |"
      ]
     },
     "metadata": {},
     "output_type": "display_data"
    },
    {
     "data": {
      "text/html": [
       "<pre>| 218     | 5m 6s        | 1.98095                |</pre>"
      ],
      "text/plain": [
       "| 218     | 5m 6s        | 1.98095                |"
      ]
     },
     "metadata": {},
     "output_type": "display_data"
    },
    {
     "data": {
      "text/html": [
       "<pre>| 219     | 5m 7s        | 1.98088                |</pre>"
      ],
      "text/plain": [
       "| 219     | 5m 7s        | 1.98088                |"
      ]
     },
     "metadata": {},
     "output_type": "display_data"
    },
    {
     "data": {
      "text/html": [
       "<pre>| 220     | 5m 9s        | 1.98082                |</pre>"
      ],
      "text/plain": [
       "| 220     | 5m 9s        | 1.98082                |"
      ]
     },
     "metadata": {},
     "output_type": "display_data"
    },
    {
     "data": {
      "text/html": [
       "<pre>| 221     | 5m 10s       | 1.98076                |</pre>"
      ],
      "text/plain": [
       "| 221     | 5m 10s       | 1.98076                |"
      ]
     },
     "metadata": {},
     "output_type": "display_data"
    },
    {
     "data": {
      "text/html": [
       "<pre>| 222     | 5m 12s       | 1.9807                 |</pre>"
      ],
      "text/plain": [
       "| 222     | 5m 12s       | 1.9807                 |"
      ]
     },
     "metadata": {},
     "output_type": "display_data"
    },
    {
     "data": {
      "text/html": [
       "<pre>| 223     | 5m 13s       | 1.98065                |</pre>"
      ],
      "text/plain": [
       "| 223     | 5m 13s       | 1.98065                |"
      ]
     },
     "metadata": {},
     "output_type": "display_data"
    },
    {
     "data": {
      "text/html": [
       "<pre>| 224     | 5m 15s       | 1.98059                |</pre>"
      ],
      "text/plain": [
       "| 224     | 5m 15s       | 1.98059                |"
      ]
     },
     "metadata": {},
     "output_type": "display_data"
    },
    {
     "data": {
      "text/html": [
       "<pre>| 225     | 5m 16s       | 1.98053                |</pre>"
      ],
      "text/plain": [
       "| 225     | 5m 16s       | 1.98053                |"
      ]
     },
     "metadata": {},
     "output_type": "display_data"
    },
    {
     "data": {
      "text/html": [
       "<pre>| 226     | 5m 18s       | 1.98048                |</pre>"
      ],
      "text/plain": [
       "| 226     | 5m 18s       | 1.98048                |"
      ]
     },
     "metadata": {},
     "output_type": "display_data"
    },
    {
     "data": {
      "text/html": [
       "<pre>| 227     | 5m 19s       | 1.98042                |</pre>"
      ],
      "text/plain": [
       "| 227     | 5m 19s       | 1.98042                |"
      ]
     },
     "metadata": {},
     "output_type": "display_data"
    },
    {
     "data": {
      "text/html": [
       "<pre>| 228     | 5m 21s       | 1.98037                |</pre>"
      ],
      "text/plain": [
       "| 228     | 5m 21s       | 1.98037                |"
      ]
     },
     "metadata": {},
     "output_type": "display_data"
    },
    {
     "data": {
      "text/html": [
       "<pre>| 229     | 5m 22s       | 1.98031                |</pre>"
      ],
      "text/plain": [
       "| 229     | 5m 22s       | 1.98031                |"
      ]
     },
     "metadata": {},
     "output_type": "display_data"
    },
    {
     "data": {
      "text/html": [
       "<pre>| 230     | 5m 24s       | 1.98026                |</pre>"
      ],
      "text/plain": [
       "| 230     | 5m 24s       | 1.98026                |"
      ]
     },
     "metadata": {},
     "output_type": "display_data"
    },
    {
     "data": {
      "text/html": [
       "<pre>| 231     | 5m 25s       | 1.9802                 |</pre>"
      ],
      "text/plain": [
       "| 231     | 5m 25s       | 1.9802                 |"
      ]
     },
     "metadata": {},
     "output_type": "display_data"
    },
    {
     "data": {
      "text/html": [
       "<pre>| 232     | 5m 26s       | 1.98015                |</pre>"
      ],
      "text/plain": [
       "| 232     | 5m 26s       | 1.98015                |"
      ]
     },
     "metadata": {},
     "output_type": "display_data"
    },
    {
     "data": {
      "text/html": [
       "<pre>| 233     | 5m 28s       | 1.9801                 |</pre>"
      ],
      "text/plain": [
       "| 233     | 5m 28s       | 1.9801                 |"
      ]
     },
     "metadata": {},
     "output_type": "display_data"
    },
    {
     "data": {
      "text/html": [
       "<pre>| 234     | 5m 29s       | 1.98005                |</pre>"
      ],
      "text/plain": [
       "| 234     | 5m 29s       | 1.98005                |"
      ]
     },
     "metadata": {},
     "output_type": "display_data"
    },
    {
     "data": {
      "text/html": [
       "<pre>| 235     | 5m 31s       | 1.98                   |</pre>"
      ],
      "text/plain": [
       "| 235     | 5m 31s       | 1.98                   |"
      ]
     },
     "metadata": {},
     "output_type": "display_data"
    },
    {
     "data": {
      "text/html": [
       "<pre>| 236     | 5m 32s       | 1.97995                |</pre>"
      ],
      "text/plain": [
       "| 236     | 5m 32s       | 1.97995                |"
      ]
     },
     "metadata": {},
     "output_type": "display_data"
    },
    {
     "data": {
      "text/html": [
       "<pre>| 237     | 5m 33s       | 1.9799                 |</pre>"
      ],
      "text/plain": [
       "| 237     | 5m 33s       | 1.9799                 |"
      ]
     },
     "metadata": {},
     "output_type": "display_data"
    },
    {
     "data": {
      "text/html": [
       "<pre>| 238     | 5m 35s       | 1.97985                |</pre>"
      ],
      "text/plain": [
       "| 238     | 5m 35s       | 1.97985                |"
      ]
     },
     "metadata": {},
     "output_type": "display_data"
    },
    {
     "data": {
      "text/html": [
       "<pre>| 239     | 5m 36s       | 1.9798                 |</pre>"
      ],
      "text/plain": [
       "| 239     | 5m 36s       | 1.9798                 |"
      ]
     },
     "metadata": {},
     "output_type": "display_data"
    },
    {
     "data": {
      "text/html": [
       "<pre>| 240     | 5m 37s       | 1.97975                |</pre>"
      ],
      "text/plain": [
       "| 240     | 5m 37s       | 1.97975                |"
      ]
     },
     "metadata": {},
     "output_type": "display_data"
    },
    {
     "data": {
      "text/html": [
       "<pre>| 241     | 5m 39s       | 1.97971                |</pre>"
      ],
      "text/plain": [
       "| 241     | 5m 39s       | 1.97971                |"
      ]
     },
     "metadata": {},
     "output_type": "display_data"
    },
    {
     "data": {
      "text/html": [
       "<pre>| 242     | 5m 40s       | 1.97966                |</pre>"
      ],
      "text/plain": [
       "| 242     | 5m 40s       | 1.97966                |"
      ]
     },
     "metadata": {},
     "output_type": "display_data"
    },
    {
     "data": {
      "text/html": [
       "<pre>| 243     | 5m 42s       | 1.97961                |</pre>"
      ],
      "text/plain": [
       "| 243     | 5m 42s       | 1.97961                |"
      ]
     },
     "metadata": {},
     "output_type": "display_data"
    },
    {
     "data": {
      "text/html": [
       "<pre>| 244     | 5m 43s       | 1.97957                |</pre>"
      ],
      "text/plain": [
       "| 244     | 5m 43s       | 1.97957                |"
      ]
     },
     "metadata": {},
     "output_type": "display_data"
    },
    {
     "data": {
      "text/html": [
       "<pre>| 245     | 5m 45s       | 1.97952                |</pre>"
      ],
      "text/plain": [
       "| 245     | 5m 45s       | 1.97952                |"
      ]
     },
     "metadata": {},
     "output_type": "display_data"
    },
    {
     "data": {
      "text/html": [
       "<pre>| 246     | 5m 46s       | 1.97948                |</pre>"
      ],
      "text/plain": [
       "| 246     | 5m 46s       | 1.97948                |"
      ]
     },
     "metadata": {},
     "output_type": "display_data"
    },
    {
     "data": {
      "text/html": [
       "<pre>| 247     | 5m 47s       | 1.97943                |</pre>"
      ],
      "text/plain": [
       "| 247     | 5m 47s       | 1.97943                |"
      ]
     },
     "metadata": {},
     "output_type": "display_data"
    },
    {
     "data": {
      "text/html": [
       "<pre>| 248     | 5m 49s       | 1.97939                |</pre>"
      ],
      "text/plain": [
       "| 248     | 5m 49s       | 1.97939                |"
      ]
     },
     "metadata": {},
     "output_type": "display_data"
    },
    {
     "data": {
      "text/html": [
       "<pre>| 249     | 5m 50s       | 1.97934                |</pre>"
      ],
      "text/plain": [
       "| 249     | 5m 50s       | 1.97934                |"
      ]
     },
     "metadata": {},
     "output_type": "display_data"
    },
    {
     "data": {
      "text/html": [
       "<pre>| 250     | 5m 52s       | 1.9793                 |</pre>"
      ],
      "text/plain": [
       "| 250     | 5m 52s       | 1.9793                 |"
      ]
     },
     "metadata": {},
     "output_type": "display_data"
    },
    {
     "data": {
      "text/html": [
       "<pre>| 251     | 5m 53s       | 1.97926                |</pre>"
      ],
      "text/plain": [
       "| 251     | 5m 53s       | 1.97926                |"
      ]
     },
     "metadata": {},
     "output_type": "display_data"
    },
    {
     "data": {
      "text/html": [
       "<pre>| 252     | 5m 54s       | 1.97922                |</pre>"
      ],
      "text/plain": [
       "| 252     | 5m 54s       | 1.97922                |"
      ]
     },
     "metadata": {},
     "output_type": "display_data"
    },
    {
     "data": {
      "text/html": [
       "<pre>| 253     | 5m 56s       | 1.97917                |</pre>"
      ],
      "text/plain": [
       "| 253     | 5m 56s       | 1.97917                |"
      ]
     },
     "metadata": {},
     "output_type": "display_data"
    },
    {
     "data": {
      "text/html": [
       "<pre>| 254     | 5m 57s       | 1.97913                |</pre>"
      ],
      "text/plain": [
       "| 254     | 5m 57s       | 1.97913                |"
      ]
     },
     "metadata": {},
     "output_type": "display_data"
    },
    {
     "data": {
      "text/html": [
       "<pre>| 255     | 5m 59s       | 1.97909                |</pre>"
      ],
      "text/plain": [
       "| 255     | 5m 59s       | 1.97909                |"
      ]
     },
     "metadata": {},
     "output_type": "display_data"
    },
    {
     "data": {
      "text/html": [
       "<pre>| 256     | 6m 0s        | 1.97905                |</pre>"
      ],
      "text/plain": [
       "| 256     | 6m 0s        | 1.97905                |"
      ]
     },
     "metadata": {},
     "output_type": "display_data"
    },
    {
     "data": {
      "text/html": [
       "<pre>| 257     | 6m 2s        | 1.97901                |</pre>"
      ],
      "text/plain": [
       "| 257     | 6m 2s        | 1.97901                |"
      ]
     },
     "metadata": {},
     "output_type": "display_data"
    },
    {
     "data": {
      "text/html": [
       "<pre>| 258     | 6m 3s        | 1.97897                |</pre>"
      ],
      "text/plain": [
       "| 258     | 6m 3s        | 1.97897                |"
      ]
     },
     "metadata": {},
     "output_type": "display_data"
    },
    {
     "data": {
      "text/html": [
       "<pre>| 259     | 6m 5s        | 1.97893                |</pre>"
      ],
      "text/plain": [
       "| 259     | 6m 5s        | 1.97893                |"
      ]
     },
     "metadata": {},
     "output_type": "display_data"
    },
    {
     "data": {
      "text/html": [
       "<pre>| 260     | 6m 6s        | 1.97889                |</pre>"
      ],
      "text/plain": [
       "| 260     | 6m 6s        | 1.97889                |"
      ]
     },
     "metadata": {},
     "output_type": "display_data"
    },
    {
     "data": {
      "text/html": [
       "<pre>| 261     | 6m 7s        | 1.97885                |</pre>"
      ],
      "text/plain": [
       "| 261     | 6m 7s        | 1.97885                |"
      ]
     },
     "metadata": {},
     "output_type": "display_data"
    },
    {
     "data": {
      "text/html": [
       "<pre>| 262     | 6m 9s        | 1.97881                |</pre>"
      ],
      "text/plain": [
       "| 262     | 6m 9s        | 1.97881                |"
      ]
     },
     "metadata": {},
     "output_type": "display_data"
    },
    {
     "data": {
      "text/html": [
       "<pre>| 263     | 6m 10s       | 1.97877                |</pre>"
      ],
      "text/plain": [
       "| 263     | 6m 10s       | 1.97877                |"
      ]
     },
     "metadata": {},
     "output_type": "display_data"
    },
    {
     "data": {
      "text/html": [
       "<pre>| 264     | 6m 11s       | 1.97873                |</pre>"
      ],
      "text/plain": [
       "| 264     | 6m 11s       | 1.97873                |"
      ]
     },
     "metadata": {},
     "output_type": "display_data"
    },
    {
     "data": {
      "text/html": [
       "<pre>| 265     | 6m 13s       | 1.97869                |</pre>"
      ],
      "text/plain": [
       "| 265     | 6m 13s       | 1.97869                |"
      ]
     },
     "metadata": {},
     "output_type": "display_data"
    },
    {
     "data": {
      "text/html": [
       "<pre>| 266     | 6m 14s       | 1.97865                |</pre>"
      ],
      "text/plain": [
       "| 266     | 6m 14s       | 1.97865                |"
      ]
     },
     "metadata": {},
     "output_type": "display_data"
    },
    {
     "data": {
      "text/html": [
       "<pre>| 267     | 6m 16s       | 1.97861                |</pre>"
      ],
      "text/plain": [
       "| 267     | 6m 16s       | 1.97861                |"
      ]
     },
     "metadata": {},
     "output_type": "display_data"
    },
    {
     "data": {
      "text/html": [
       "<pre>| 268     | 6m 17s       | 1.97858                |</pre>"
      ],
      "text/plain": [
       "| 268     | 6m 17s       | 1.97858                |"
      ]
     },
     "metadata": {},
     "output_type": "display_data"
    },
    {
     "data": {
      "text/html": [
       "<pre>| 269     | 6m 19s       | 1.97854                |</pre>"
      ],
      "text/plain": [
       "| 269     | 6m 19s       | 1.97854                |"
      ]
     },
     "metadata": {},
     "output_type": "display_data"
    },
    {
     "data": {
      "text/html": [
       "<pre>| 270     | 6m 20s       | 1.9785                 |</pre>"
      ],
      "text/plain": [
       "| 270     | 6m 20s       | 1.9785                 |"
      ]
     },
     "metadata": {},
     "output_type": "display_data"
    },
    {
     "data": {
      "text/html": [
       "<pre>| 271     | 6m 22s       | 1.97846                |</pre>"
      ],
      "text/plain": [
       "| 271     | 6m 22s       | 1.97846                |"
      ]
     },
     "metadata": {},
     "output_type": "display_data"
    },
    {
     "data": {
      "text/html": [
       "<pre>| 272     | 6m 24s       | 1.97843                |</pre>"
      ],
      "text/plain": [
       "| 272     | 6m 24s       | 1.97843                |"
      ]
     },
     "metadata": {},
     "output_type": "display_data"
    },
    {
     "data": {
      "text/html": [
       "<pre>| 273     | 6m 26s       | 1.97839                |</pre>"
      ],
      "text/plain": [
       "| 273     | 6m 26s       | 1.97839                |"
      ]
     },
     "metadata": {},
     "output_type": "display_data"
    },
    {
     "data": {
      "text/html": [
       "<pre>| 274     | 6m 28s       | 1.97835                |</pre>"
      ],
      "text/plain": [
       "| 274     | 6m 28s       | 1.97835                |"
      ]
     },
     "metadata": {},
     "output_type": "display_data"
    },
    {
     "data": {
      "text/html": [
       "<pre>| 275     | 6m 30s       | 1.97832                |</pre>"
      ],
      "text/plain": [
       "| 275     | 6m 30s       | 1.97832                |"
      ]
     },
     "metadata": {},
     "output_type": "display_data"
    },
    {
     "data": {
      "text/html": [
       "<pre>| 276     | 6m 32s       | 1.97828                |</pre>"
      ],
      "text/plain": [
       "| 276     | 6m 32s       | 1.97828                |"
      ]
     },
     "metadata": {},
     "output_type": "display_data"
    },
    {
     "data": {
      "text/html": [
       "<pre>| 277     | 6m 33s       | 1.97824                |</pre>"
      ],
      "text/plain": [
       "| 277     | 6m 33s       | 1.97824                |"
      ]
     },
     "metadata": {},
     "output_type": "display_data"
    },
    {
     "data": {
      "text/html": [
       "<pre>| 278     | 6m 35s       | 1.97821                |</pre>"
      ],
      "text/plain": [
       "| 278     | 6m 35s       | 1.97821                |"
      ]
     },
     "metadata": {},
     "output_type": "display_data"
    },
    {
     "data": {
      "text/html": [
       "<pre>| 279     | 6m 37s       | 1.97817                |</pre>"
      ],
      "text/plain": [
       "| 279     | 6m 37s       | 1.97817                |"
      ]
     },
     "metadata": {},
     "output_type": "display_data"
    },
    {
     "data": {
      "text/html": [
       "<pre>| 280     | 6m 39s       | 1.97814                |</pre>"
      ],
      "text/plain": [
       "| 280     | 6m 39s       | 1.97814                |"
      ]
     },
     "metadata": {},
     "output_type": "display_data"
    },
    {
     "data": {
      "text/html": [
       "<pre>| 281     | 6m 41s       | 1.9781                 |</pre>"
      ],
      "text/plain": [
       "| 281     | 6m 41s       | 1.9781                 |"
      ]
     },
     "metadata": {},
     "output_type": "display_data"
    },
    {
     "data": {
      "text/html": [
       "<pre>| 282     | 6m 42s       | 1.97806                |</pre>"
      ],
      "text/plain": [
       "| 282     | 6m 42s       | 1.97806                |"
      ]
     },
     "metadata": {},
     "output_type": "display_data"
    },
    {
     "data": {
      "text/html": [
       "<pre>| 283     | 6m 44s       | 1.97803                |</pre>"
      ],
      "text/plain": [
       "| 283     | 6m 44s       | 1.97803                |"
      ]
     },
     "metadata": {},
     "output_type": "display_data"
    },
    {
     "data": {
      "text/html": [
       "<pre>| 284     | 6m 46s       | 1.97799                |</pre>"
      ],
      "text/plain": [
       "| 284     | 6m 46s       | 1.97799                |"
      ]
     },
     "metadata": {},
     "output_type": "display_data"
    },
    {
     "data": {
      "text/html": [
       "<pre>| 285     | 6m 48s       | 1.97796                |</pre>"
      ],
      "text/plain": [
       "| 285     | 6m 48s       | 1.97796                |"
      ]
     },
     "metadata": {},
     "output_type": "display_data"
    },
    {
     "data": {
      "text/html": [
       "<pre>| 286     | 6m 50s       | 1.97793                |</pre>"
      ],
      "text/plain": [
       "| 286     | 6m 50s       | 1.97793                |"
      ]
     },
     "metadata": {},
     "output_type": "display_data"
    },
    {
     "data": {
      "text/html": [
       "<pre>| 287     | 6m 51s       | 1.97789                |</pre>"
      ],
      "text/plain": [
       "| 287     | 6m 51s       | 1.97789                |"
      ]
     },
     "metadata": {},
     "output_type": "display_data"
    },
    {
     "data": {
      "text/html": [
       "<pre>| 288     | 6m 53s       | 1.97786                |</pre>"
      ],
      "text/plain": [
       "| 288     | 6m 53s       | 1.97786                |"
      ]
     },
     "metadata": {},
     "output_type": "display_data"
    },
    {
     "data": {
      "text/html": [
       "<pre>| 289     | 6m 54s       | 1.97782                |</pre>"
      ],
      "text/plain": [
       "| 289     | 6m 54s       | 1.97782                |"
      ]
     },
     "metadata": {},
     "output_type": "display_data"
    },
    {
     "data": {
      "text/html": [
       "<pre>| 290     | 6m 56s       | 1.97779                |</pre>"
      ],
      "text/plain": [
       "| 290     | 6m 56s       | 1.97779                |"
      ]
     },
     "metadata": {},
     "output_type": "display_data"
    },
    {
     "data": {
      "text/html": [
       "<pre>| 291     | 6m 58s       | 1.97776                |</pre>"
      ],
      "text/plain": [
       "| 291     | 6m 58s       | 1.97776                |"
      ]
     },
     "metadata": {},
     "output_type": "display_data"
    },
    {
     "data": {
      "text/html": [
       "<pre>| 292     | 7m 0s        | 1.97772                |</pre>"
      ],
      "text/plain": [
       "| 292     | 7m 0s        | 1.97772                |"
      ]
     },
     "metadata": {},
     "output_type": "display_data"
    },
    {
     "data": {
      "text/html": [
       "<pre>| 293     | 7m 2s        | 1.97769                |</pre>"
      ],
      "text/plain": [
       "| 293     | 7m 2s        | 1.97769                |"
      ]
     },
     "metadata": {},
     "output_type": "display_data"
    },
    {
     "data": {
      "text/html": [
       "<pre>| 294     | 7m 4s        | 1.97766                |</pre>"
      ],
      "text/plain": [
       "| 294     | 7m 4s        | 1.97766                |"
      ]
     },
     "metadata": {},
     "output_type": "display_data"
    },
    {
     "data": {
      "text/html": [
       "<pre>| 295     | 7m 6s        | 1.97762                |</pre>"
      ],
      "text/plain": [
       "| 295     | 7m 6s        | 1.97762                |"
      ]
     },
     "metadata": {},
     "output_type": "display_data"
    },
    {
     "data": {
      "text/html": [
       "<pre>| 296     | 7m 8s        | 1.97759                |</pre>"
      ],
      "text/plain": [
       "| 296     | 7m 8s        | 1.97759                |"
      ]
     },
     "metadata": {},
     "output_type": "display_data"
    },
    {
     "data": {
      "text/html": [
       "<pre>| 297     | 7m 10s       | 1.97755                |</pre>"
      ],
      "text/plain": [
       "| 297     | 7m 10s       | 1.97755                |"
      ]
     },
     "metadata": {},
     "output_type": "display_data"
    },
    {
     "data": {
      "text/html": [
       "<pre>| 298     | 7m 11s       | 1.97752                |</pre>"
      ],
      "text/plain": [
       "| 298     | 7m 11s       | 1.97752                |"
      ]
     },
     "metadata": {},
     "output_type": "display_data"
    },
    {
     "data": {
      "text/html": [
       "<pre>| 299     | 7m 13s       | 1.97749                |</pre>"
      ],
      "text/plain": [
       "| 299     | 7m 13s       | 1.97749                |"
      ]
     },
     "metadata": {},
     "output_type": "display_data"
    },
    {
     "data": {
      "text/html": [
       "<pre>| FINAL   | 7m 13s       | 1.97749                |</pre>"
      ],
      "text/plain": [
       "| FINAL   | 7m 13s       | 1.97749                |"
      ]
     },
     "metadata": {},
     "output_type": "display_data"
    },
    {
     "data": {
      "text/html": [
       "<pre>+---------+--------------+------------------------+</pre>"
      ],
      "text/plain": [
       "+---------+--------------+------------------------+"
      ]
     },
     "metadata": {},
     "output_type": "display_data"
    },
    {
     "data": {
      "text/html": [
       "<pre>Optimization Complete: Iteration limit reached.</pre>"
      ],
      "text/plain": [
       "Optimization Complete: Iteration limit reached."
      ]
     },
     "metadata": {},
     "output_type": "display_data"
    }
   ],
   "source": [
    "rec_als = graphlab.recommender.factorization_recommender.create(\n",
    "                sf_train,\n",
    "                user_id='user_id',\n",
    "                item_id='joke_id',\n",
    "                target='rating',\n",
    "                solver='als',\n",
    "                max_iterations=300,\n",
    "                num_factors=20,\n",
    "                side_data_factorization=False)"
   ]
  },
  {
   "cell_type": "code",
   "execution_count": 62,
   "metadata": {},
   "outputs": [
    {
     "data": {
      "text/html": [
       "<div style=\"max-height:1000px;max-width:1500px;overflow:auto;\"><table frame=\"box\" rules=\"cols\">\n",
       "    <tr>\n",
       "        <th style=\"padding-left: 1em; padding-right: 1em; text-align: center\">user_id</th>\n",
       "        <th style=\"padding-left: 1em; padding-right: 1em; text-align: center\">joke_id</th>\n",
       "    </tr>\n",
       "    <tr>\n",
       "        <td style=\"padding-left: 1em; padding-right: 1em; text-align: center; vertical-align: top\">30762</td>\n",
       "        <td style=\"padding-left: 1em; padding-right: 1em; text-align: center; vertical-align: top\">24</td>\n",
       "    </tr>\n",
       "    <tr>\n",
       "        <td style=\"padding-left: 1em; padding-right: 1em; text-align: center; vertical-align: top\">54667</td>\n",
       "        <td style=\"padding-left: 1em; padding-right: 1em; text-align: center; vertical-align: top\">128</td>\n",
       "    </tr>\n",
       "    <tr>\n",
       "        <td style=\"padding-left: 1em; padding-right: 1em; text-align: center; vertical-align: top\">38515</td>\n",
       "        <td style=\"padding-left: 1em; padding-right: 1em; text-align: center; vertical-align: top\">68</td>\n",
       "    </tr>\n",
       "    <tr>\n",
       "        <td style=\"padding-left: 1em; padding-right: 1em; text-align: center; vertical-align: top\">44643</td>\n",
       "        <td style=\"padding-left: 1em; padding-right: 1em; text-align: center; vertical-align: top\">39</td>\n",
       "    </tr>\n",
       "    <tr>\n",
       "        <td style=\"padding-left: 1em; padding-right: 1em; text-align: center; vertical-align: top\">58677</td>\n",
       "        <td style=\"padding-left: 1em; padding-right: 1em; text-align: center; vertical-align: top\">13</td>\n",
       "    </tr>\n",
       "    <tr>\n",
       "        <td style=\"padding-left: 1em; padding-right: 1em; text-align: center; vertical-align: top\">30046</td>\n",
       "        <td style=\"padding-left: 1em; padding-right: 1em; text-align: center; vertical-align: top\">101</td>\n",
       "    </tr>\n",
       "    <tr>\n",
       "        <td style=\"padding-left: 1em; padding-right: 1em; text-align: center; vertical-align: top\">62508</td>\n",
       "        <td style=\"padding-left: 1em; padding-right: 1em; text-align: center; vertical-align: top\">16</td>\n",
       "    </tr>\n",
       "    <tr>\n",
       "        <td style=\"padding-left: 1em; padding-right: 1em; text-align: center; vertical-align: top\">14488</td>\n",
       "        <td style=\"padding-left: 1em; padding-right: 1em; text-align: center; vertical-align: top\">7</td>\n",
       "    </tr>\n",
       "    <tr>\n",
       "        <td style=\"padding-left: 1em; padding-right: 1em; text-align: center; vertical-align: top\">39459</td>\n",
       "        <td style=\"padding-left: 1em; padding-right: 1em; text-align: center; vertical-align: top\">72</td>\n",
       "    </tr>\n",
       "    <tr>\n",
       "        <td style=\"padding-left: 1em; padding-right: 1em; text-align: center; vertical-align: top\">62442</td>\n",
       "        <td style=\"padding-left: 1em; padding-right: 1em; text-align: center; vertical-align: top\">88</td>\n",
       "    </tr>\n",
       "</table>\n",
       "[10 rows x 2 columns]<br/>\n",
       "</div>"
      ],
      "text/plain": [
       "Columns:\n",
       "\tuser_id\tint\n",
       "\tjoke_id\tint\n",
       "\n",
       "Rows: 10\n",
       "\n",
       "Data:\n",
       "+---------+---------+\n",
       "| user_id | joke_id |\n",
       "+---------+---------+\n",
       "|  30762  |    24   |\n",
       "|  54667  |   128   |\n",
       "|  38515  |    68   |\n",
       "|  44643  |    39   |\n",
       "|  58677  |    13   |\n",
       "|  30046  |   101   |\n",
       "|  62508  |    16   |\n",
       "|  14488  |    7    |\n",
       "|  39459  |    72   |\n",
       "|  62442  |    88   |\n",
       "+---------+---------+\n",
       "[10 rows x 2 columns]"
      ]
     },
     "execution_count": 62,
     "metadata": {},
     "output_type": "execute_result"
    }
   ],
   "source": [
    "sf_test = graphlab.SFrame(df_test[['user_id', 'joke_id']])\n",
    "sf_test.head()"
   ]
  },
  {
   "cell_type": "code",
   "execution_count": 63,
   "metadata": {
    "collapsed": true
   },
   "outputs": [],
   "source": [
    "test_als_pred = rec_als.predict(sf_test)"
   ]
  },
  {
   "cell_type": "code",
   "execution_count": 64,
   "metadata": {},
   "outputs": [
    {
     "data": {
      "text/html": [
       "<div style=\"max-height:1000px;max-width:1500px;overflow:auto;\"><table frame=\"box\" rules=\"cols\">\n",
       "    <tr>\n",
       "        <th style=\"padding-left: 1em; padding-right: 1em; text-align: center\">user_id</th>\n",
       "        <th style=\"padding-left: 1em; padding-right: 1em; text-align: center\">joke_id</th>\n",
       "        <th style=\"padding-left: 1em; padding-right: 1em; text-align: center\">rating_target</th>\n",
       "    </tr>\n",
       "    <tr>\n",
       "        <td style=\"padding-left: 1em; padding-right: 1em; text-align: center; vertical-align: top\">30762</td>\n",
       "        <td style=\"padding-left: 1em; padding-right: 1em; text-align: center; vertical-align: top\">24</td>\n",
       "        <td style=\"padding-left: 1em; padding-right: 1em; text-align: center; vertical-align: top\">-4.22934367764</td>\n",
       "    </tr>\n",
       "    <tr>\n",
       "        <td style=\"padding-left: 1em; padding-right: 1em; text-align: center; vertical-align: top\">54667</td>\n",
       "        <td style=\"padding-left: 1em; padding-right: 1em; text-align: center; vertical-align: top\">128</td>\n",
       "        <td style=\"padding-left: 1em; padding-right: 1em; text-align: center; vertical-align: top\">9.5032493819</td>\n",
       "    </tr>\n",
       "    <tr>\n",
       "        <td style=\"padding-left: 1em; padding-right: 1em; text-align: center; vertical-align: top\">38515</td>\n",
       "        <td style=\"padding-left: 1em; padding-right: 1em; text-align: center; vertical-align: top\">68</td>\n",
       "        <td style=\"padding-left: 1em; padding-right: 1em; text-align: center; vertical-align: top\">6.94140980137</td>\n",
       "    </tr>\n",
       "    <tr>\n",
       "        <td style=\"padding-left: 1em; padding-right: 1em; text-align: center; vertical-align: top\">44643</td>\n",
       "        <td style=\"padding-left: 1em; padding-right: 1em; text-align: center; vertical-align: top\">39</td>\n",
       "        <td style=\"padding-left: 1em; padding-right: 1em; text-align: center; vertical-align: top\">4.11755940807</td>\n",
       "    </tr>\n",
       "    <tr>\n",
       "        <td style=\"padding-left: 1em; padding-right: 1em; text-align: center; vertical-align: top\">58677</td>\n",
       "        <td style=\"padding-left: 1em; padding-right: 1em; text-align: center; vertical-align: top\">13</td>\n",
       "        <td style=\"padding-left: 1em; padding-right: 1em; text-align: center; vertical-align: top\">12.0144808043</td>\n",
       "    </tr>\n",
       "    <tr>\n",
       "        <td style=\"padding-left: 1em; padding-right: 1em; text-align: center; vertical-align: top\">30046</td>\n",
       "        <td style=\"padding-left: 1em; padding-right: 1em; text-align: center; vertical-align: top\">101</td>\n",
       "        <td style=\"padding-left: 1em; padding-right: 1em; text-align: center; vertical-align: top\">-6.10502317059</td>\n",
       "    </tr>\n",
       "    <tr>\n",
       "        <td style=\"padding-left: 1em; padding-right: 1em; text-align: center; vertical-align: top\">62508</td>\n",
       "        <td style=\"padding-left: 1em; padding-right: 1em; text-align: center; vertical-align: top\">16</td>\n",
       "        <td style=\"padding-left: 1em; padding-right: 1em; text-align: center; vertical-align: top\">2.09150770796</td>\n",
       "    </tr>\n",
       "    <tr>\n",
       "        <td style=\"padding-left: 1em; padding-right: 1em; text-align: center; vertical-align: top\">14488</td>\n",
       "        <td style=\"padding-left: 1em; padding-right: 1em; text-align: center; vertical-align: top\">7</td>\n",
       "        <td style=\"padding-left: 1em; padding-right: 1em; text-align: center; vertical-align: top\">-0.682110811349</td>\n",
       "    </tr>\n",
       "    <tr>\n",
       "        <td style=\"padding-left: 1em; padding-right: 1em; text-align: center; vertical-align: top\">39459</td>\n",
       "        <td style=\"padding-left: 1em; padding-right: 1em; text-align: center; vertical-align: top\">72</td>\n",
       "        <td style=\"padding-left: 1em; padding-right: 1em; text-align: center; vertical-align: top\">10.2417623748</td>\n",
       "    </tr>\n",
       "    <tr>\n",
       "        <td style=\"padding-left: 1em; padding-right: 1em; text-align: center; vertical-align: top\">62442</td>\n",
       "        <td style=\"padding-left: 1em; padding-right: 1em; text-align: center; vertical-align: top\">88</td>\n",
       "        <td style=\"padding-left: 1em; padding-right: 1em; text-align: center; vertical-align: top\">3.14281079662</td>\n",
       "    </tr>\n",
       "</table>\n",
       "[10 rows x 3 columns]<br/>\n",
       "</div>"
      ],
      "text/plain": [
       "Columns:\n",
       "\tuser_id\tint\n",
       "\tjoke_id\tint\n",
       "\trating_target\tfloat\n",
       "\n",
       "Rows: 10\n",
       "\n",
       "Data:\n",
       "+---------+---------+-----------------+\n",
       "| user_id | joke_id |  rating_target  |\n",
       "+---------+---------+-----------------+\n",
       "|  30762  |    24   |  -4.22934367764 |\n",
       "|  54667  |   128   |   9.5032493819  |\n",
       "|  38515  |    68   |  6.94140980137  |\n",
       "|  44643  |    39   |  4.11755940807  |\n",
       "|  58677  |    13   |  12.0144808043  |\n",
       "|  30046  |   101   |  -6.10502317059 |\n",
       "|  62508  |    16   |  2.09150770796  |\n",
       "|  14488  |    7    | -0.682110811349 |\n",
       "|  39459  |    72   |  10.2417623748  |\n",
       "|  62442  |    88   |  3.14281079662  |\n",
       "+---------+---------+-----------------+\n",
       "[10 rows x 3 columns]"
      ]
     },
     "execution_count": 64,
     "metadata": {},
     "output_type": "execute_result"
    }
   ],
   "source": [
    "sf_test_als = sf_test.copy()\n",
    "sf_test_als['rating_target'] = test_als_pred\n",
    "sf_test_als.head()"
   ]
  },
  {
   "cell_type": "code",
   "execution_count": 65,
   "metadata": {},
   "outputs": [
    {
     "data": {
      "text/html": [
       "<div>\n",
       "<table border=\"1\" class=\"dataframe\">\n",
       "  <thead>\n",
       "    <tr style=\"text-align: right;\">\n",
       "      <th></th>\n",
       "      <th>user_id</th>\n",
       "      <th>joke_id</th>\n",
       "      <th>rating_target</th>\n",
       "    </tr>\n",
       "  </thead>\n",
       "  <tbody>\n",
       "    <tr>\n",
       "      <th>0</th>\n",
       "      <td>30762</td>\n",
       "      <td>24</td>\n",
       "      <td>-4.229344</td>\n",
       "    </tr>\n",
       "    <tr>\n",
       "      <th>1</th>\n",
       "      <td>54667</td>\n",
       "      <td>128</td>\n",
       "      <td>9.503249</td>\n",
       "    </tr>\n",
       "    <tr>\n",
       "      <th>2</th>\n",
       "      <td>38515</td>\n",
       "      <td>68</td>\n",
       "      <td>6.941410</td>\n",
       "    </tr>\n",
       "    <tr>\n",
       "      <th>3</th>\n",
       "      <td>44643</td>\n",
       "      <td>39</td>\n",
       "      <td>4.117559</td>\n",
       "    </tr>\n",
       "    <tr>\n",
       "      <th>4</th>\n",
       "      <td>58677</td>\n",
       "      <td>13</td>\n",
       "      <td>12.014481</td>\n",
       "    </tr>\n",
       "  </tbody>\n",
       "</table>\n",
       "</div>"
      ],
      "text/plain": [
       "   user_id  joke_id  rating_target\n",
       "0    30762       24      -4.229344\n",
       "1    54667      128       9.503249\n",
       "2    38515       68       6.941410\n",
       "3    44643       39       4.117559\n",
       "4    58677       13      12.014481"
      ]
     },
     "execution_count": 65,
     "metadata": {},
     "output_type": "execute_result"
    }
   ],
   "source": [
    "df_test_als = sf_test_als.to_dataframe()\n",
    "df_test_als.head()"
   ]
  },
  {
   "cell_type": "code",
   "execution_count": 66,
   "metadata": {},
   "outputs": [
    {
     "data": {
      "text/plain": [
       "2.7012449401115313"
      ]
     },
     "execution_count": 66,
     "metadata": {},
     "output_type": "execute_result"
    }
   ],
   "source": [
    "score_top_5_percent(df_test_als)"
   ]
  },
  {
   "cell_type": "markdown",
   "metadata": {},
   "source": [
    "## Comments: we tried number of iterations of 100 and 300, which result in similar scores. But increasing the num_factor (k) from the default value 8 to 20 imporves the score from 2.6 to 2.7."
   ]
  },
  {
   "cell_type": "markdown",
   "metadata": {},
   "source": [
    "## Increase the num_factors (k), and we expect higher precision but longer running time"
   ]
  },
  {
   "cell_type": "code",
   "execution_count": 67,
   "metadata": {},
   "outputs": [
    {
     "data": {
      "text/html": [
       "<pre>Recsys training: model = factorization_recommender</pre>"
      ],
      "text/plain": [
       "Recsys training: model = factorization_recommender"
      ]
     },
     "metadata": {},
     "output_type": "display_data"
    },
    {
     "data": {
      "text/html": [
       "<pre>Preparing data set.</pre>"
      ],
      "text/plain": [
       "Preparing data set."
      ]
     },
     "metadata": {},
     "output_type": "display_data"
    },
    {
     "data": {
      "text/html": [
       "<pre>    Data has 1000000 observations with 58125 users and 140 items.</pre>"
      ],
      "text/plain": [
       "    Data has 1000000 observations with 58125 users and 140 items."
      ]
     },
     "metadata": {},
     "output_type": "display_data"
    },
    {
     "data": {
      "text/html": [
       "<pre>    Data prepared in: 1.47179s</pre>"
      ],
      "text/plain": [
       "    Data prepared in: 1.47179s"
      ]
     },
     "metadata": {},
     "output_type": "display_data"
    },
    {
     "data": {
      "text/html": [
       "<pre>Training factorization_recommender for recommendations.</pre>"
      ],
      "text/plain": [
       "Training factorization_recommender for recommendations."
      ]
     },
     "metadata": {},
     "output_type": "display_data"
    },
    {
     "data": {
      "text/html": [
       "<pre>+------------------------------+--------------------------------------------------+----------+</pre>"
      ],
      "text/plain": [
       "+------------------------------+--------------------------------------------------+----------+"
      ]
     },
     "metadata": {},
     "output_type": "display_data"
    },
    {
     "data": {
      "text/html": [
       "<pre>| Parameter                    | Description                                      | Value    |</pre>"
      ],
      "text/plain": [
       "| Parameter                    | Description                                      | Value    |"
      ]
     },
     "metadata": {},
     "output_type": "display_data"
    },
    {
     "data": {
      "text/html": [
       "<pre>+------------------------------+--------------------------------------------------+----------+</pre>"
      ],
      "text/plain": [
       "+------------------------------+--------------------------------------------------+----------+"
      ]
     },
     "metadata": {},
     "output_type": "display_data"
    },
    {
     "data": {
      "text/html": [
       "<pre>| num_factors                  | Factor Dimension                                 | 30       |</pre>"
      ],
      "text/plain": [
       "| num_factors                  | Factor Dimension                                 | 30       |"
      ]
     },
     "metadata": {},
     "output_type": "display_data"
    },
    {
     "data": {
      "text/html": [
       "<pre>| regularization               | L2 Regularization on Factors                     | 1e-08    |</pre>"
      ],
      "text/plain": [
       "| regularization               | L2 Regularization on Factors                     | 1e-08    |"
      ]
     },
     "metadata": {},
     "output_type": "display_data"
    },
    {
     "data": {
      "text/html": [
       "<pre>| max_iterations               | Maximum Number of Iterations                     | 100      |</pre>"
      ],
      "text/plain": [
       "| max_iterations               | Maximum Number of Iterations                     | 100      |"
      ]
     },
     "metadata": {},
     "output_type": "display_data"
    },
    {
     "data": {
      "text/html": [
       "<pre>| solver                       | Solver used for training                         | als      |</pre>"
      ],
      "text/plain": [
       "| solver                       | Solver used for training                         | als      |"
      ]
     },
     "metadata": {},
     "output_type": "display_data"
    },
    {
     "data": {
      "text/html": [
       "<pre>+------------------------------+--------------------------------------------------+----------+</pre>"
      ],
      "text/plain": [
       "+------------------------------+--------------------------------------------------+----------+"
      ]
     },
     "metadata": {},
     "output_type": "display_data"
    },
    {
     "data": {
      "text/html": [
       "<pre>+---------+--------------+------------------------+</pre>"
      ],
      "text/plain": [
       "+---------+--------------+------------------------+"
      ]
     },
     "metadata": {},
     "output_type": "display_data"
    },
    {
     "data": {
      "text/html": [
       "<pre>| Iter.   | Elapsed time | RMSE                   |</pre>"
      ],
      "text/plain": [
       "| Iter.   | Elapsed time | RMSE                   |"
      ]
     },
     "metadata": {},
     "output_type": "display_data"
    },
    {
     "data": {
      "text/html": [
       "<pre>+---------+--------------+------------------------+</pre>"
      ],
      "text/plain": [
       "+---------+--------------+------------------------+"
      ]
     },
     "metadata": {},
     "output_type": "display_data"
    },
    {
     "data": {
      "text/html": [
       "<pre>| Initial | 81us         | NA                     |</pre>"
      ],
      "text/plain": [
       "| Initial | 81us         | NA                     |"
      ]
     },
     "metadata": {},
     "output_type": "display_data"
    },
    {
     "data": {
      "text/html": [
       "<pre>+---------+--------------+------------------------+</pre>"
      ],
      "text/plain": [
       "+---------+--------------+------------------------+"
      ]
     },
     "metadata": {},
     "output_type": "display_data"
    },
    {
     "data": {
      "text/html": [
       "<pre>| 0       | 3.10s        | 3.29614                |</pre>"
      ],
      "text/plain": [
       "| 0       | 3.10s        | 3.29614                |"
      ]
     },
     "metadata": {},
     "output_type": "display_data"
    },
    {
     "data": {
      "text/html": [
       "<pre>| 1       | 5.39s        | 1.78656                |</pre>"
      ],
      "text/plain": [
       "| 1       | 5.39s        | 1.78656                |"
      ]
     },
     "metadata": {},
     "output_type": "display_data"
    },
    {
     "data": {
      "text/html": [
       "<pre>| 2       | 7.70s        | 1.75995                |</pre>"
      ],
      "text/plain": [
       "| 2       | 7.70s        | 1.75995                |"
      ]
     },
     "metadata": {},
     "output_type": "display_data"
    },
    {
     "data": {
      "text/html": [
       "<pre>| 3       | 10.09s       | 1.73929                |</pre>"
      ],
      "text/plain": [
       "| 3       | 10.09s       | 1.73929                |"
      ]
     },
     "metadata": {},
     "output_type": "display_data"
    },
    {
     "data": {
      "text/html": [
       "<pre>| 4       | 12.93s       | 1.72223                |</pre>"
      ],
      "text/plain": [
       "| 4       | 12.93s       | 1.72223                |"
      ]
     },
     "metadata": {},
     "output_type": "display_data"
    },
    {
     "data": {
      "text/html": [
       "<pre>| 5       | 15.91s       | 1.70764                |</pre>"
      ],
      "text/plain": [
       "| 5       | 15.91s       | 1.70764                |"
      ]
     },
     "metadata": {},
     "output_type": "display_data"
    },
    {
     "data": {
      "text/html": [
       "<pre>| 6       | 18.77s       | 1.69492                |</pre>"
      ],
      "text/plain": [
       "| 6       | 18.77s       | 1.69492                |"
      ]
     },
     "metadata": {},
     "output_type": "display_data"
    },
    {
     "data": {
      "text/html": [
       "<pre>| 7       | 21.08s       | 1.68379                |</pre>"
      ],
      "text/plain": [
       "| 7       | 21.08s       | 1.68379                |"
      ]
     },
     "metadata": {},
     "output_type": "display_data"
    },
    {
     "data": {
      "text/html": [
       "<pre>| 8       | 24.04s       | 1.67395                |</pre>"
      ],
      "text/plain": [
       "| 8       | 24.04s       | 1.67395                |"
      ]
     },
     "metadata": {},
     "output_type": "display_data"
    },
    {
     "data": {
      "text/html": [
       "<pre>| 9       | 26.70s       | 1.6652                 |</pre>"
      ],
      "text/plain": [
       "| 9       | 26.70s       | 1.6652                 |"
      ]
     },
     "metadata": {},
     "output_type": "display_data"
    },
    {
     "data": {
      "text/html": [
       "<pre>| 10      | 29.05s       | 1.65741                |</pre>"
      ],
      "text/plain": [
       "| 10      | 29.05s       | 1.65741                |"
      ]
     },
     "metadata": {},
     "output_type": "display_data"
    },
    {
     "data": {
      "text/html": [
       "<pre>| 11      | 31.34s       | 1.65044                |</pre>"
      ],
      "text/plain": [
       "| 11      | 31.34s       | 1.65044                |"
      ]
     },
     "metadata": {},
     "output_type": "display_data"
    },
    {
     "data": {
      "text/html": [
       "<pre>| 12      | 33.61s       | 1.64415                |</pre>"
      ],
      "text/plain": [
       "| 12      | 33.61s       | 1.64415                |"
      ]
     },
     "metadata": {},
     "output_type": "display_data"
    },
    {
     "data": {
      "text/html": [
       "<pre>| 13      | 36.08s       | 1.63843                |</pre>"
      ],
      "text/plain": [
       "| 13      | 36.08s       | 1.63843                |"
      ]
     },
     "metadata": {},
     "output_type": "display_data"
    },
    {
     "data": {
      "text/html": [
       "<pre>| 14      | 38.53s       | 1.6332                 |</pre>"
      ],
      "text/plain": [
       "| 14      | 38.53s       | 1.6332                 |"
      ]
     },
     "metadata": {},
     "output_type": "display_data"
    },
    {
     "data": {
      "text/html": [
       "<pre>| 15      | 40.87s       | 1.62841                |</pre>"
      ],
      "text/plain": [
       "| 15      | 40.87s       | 1.62841                |"
      ]
     },
     "metadata": {},
     "output_type": "display_data"
    },
    {
     "data": {
      "text/html": [
       "<pre>| 16      | 43.22s       | 1.624                  |</pre>"
      ],
      "text/plain": [
       "| 16      | 43.22s       | 1.624                  |"
      ]
     },
     "metadata": {},
     "output_type": "display_data"
    },
    {
     "data": {
      "text/html": [
       "<pre>| 17      | 45.75s       | 1.61994                |</pre>"
      ],
      "text/plain": [
       "| 17      | 45.75s       | 1.61994                |"
      ]
     },
     "metadata": {},
     "output_type": "display_data"
    },
    {
     "data": {
      "text/html": [
       "<pre>| 18      | 48.26s       | 1.61618                |</pre>"
      ],
      "text/plain": [
       "| 18      | 48.26s       | 1.61618                |"
      ]
     },
     "metadata": {},
     "output_type": "display_data"
    },
    {
     "data": {
      "text/html": [
       "<pre>| 19      | 51.06s       | 1.61268                |</pre>"
      ],
      "text/plain": [
       "| 19      | 51.06s       | 1.61268                |"
      ]
     },
     "metadata": {},
     "output_type": "display_data"
    },
    {
     "data": {
      "text/html": [
       "<pre>| 20      | 54.03s       | 1.60943                |</pre>"
      ],
      "text/plain": [
       "| 20      | 54.03s       | 1.60943                |"
      ]
     },
     "metadata": {},
     "output_type": "display_data"
    },
    {
     "data": {
      "text/html": [
       "<pre>| 21      | 56.34s       | 1.6064                 |</pre>"
      ],
      "text/plain": [
       "| 21      | 56.34s       | 1.6064                 |"
      ]
     },
     "metadata": {},
     "output_type": "display_data"
    },
    {
     "data": {
      "text/html": [
       "<pre>| 22      | 58.60s       | 1.60357                |</pre>"
      ],
      "text/plain": [
       "| 22      | 58.60s       | 1.60357                |"
      ]
     },
     "metadata": {},
     "output_type": "display_data"
    },
    {
     "data": {
      "text/html": [
       "<pre>| 23      | 1m 0s        | 1.60092                |</pre>"
      ],
      "text/plain": [
       "| 23      | 1m 0s        | 1.60092                |"
      ]
     },
     "metadata": {},
     "output_type": "display_data"
    },
    {
     "data": {
      "text/html": [
       "<pre>| 24      | 1m 3s        | 1.59841                |</pre>"
      ],
      "text/plain": [
       "| 24      | 1m 3s        | 1.59841                |"
      ]
     },
     "metadata": {},
     "output_type": "display_data"
    },
    {
     "data": {
      "text/html": [
       "<pre>| 25      | 1m 5s        | 1.59603                |</pre>"
      ],
      "text/plain": [
       "| 25      | 1m 5s        | 1.59603                |"
      ]
     },
     "metadata": {},
     "output_type": "display_data"
    },
    {
     "data": {
      "text/html": [
       "<pre>| 26      | 1m 8s        | 1.59379                |</pre>"
      ],
      "text/plain": [
       "| 26      | 1m 8s        | 1.59379                |"
      ]
     },
     "metadata": {},
     "output_type": "display_data"
    },
    {
     "data": {
      "text/html": [
       "<pre>| 27      | 1m 10s       | 1.59166                |</pre>"
      ],
      "text/plain": [
       "| 27      | 1m 10s       | 1.59166                |"
      ]
     },
     "metadata": {},
     "output_type": "display_data"
    },
    {
     "data": {
      "text/html": [
       "<pre>| 28      | 1m 14s       | 1.58964                |</pre>"
      ],
      "text/plain": [
       "| 28      | 1m 14s       | 1.58964                |"
      ]
     },
     "metadata": {},
     "output_type": "display_data"
    },
    {
     "data": {
      "text/html": [
       "<pre>| 29      | 1m 16s       | 1.58771                |</pre>"
      ],
      "text/plain": [
       "| 29      | 1m 16s       | 1.58771                |"
      ]
     },
     "metadata": {},
     "output_type": "display_data"
    },
    {
     "data": {
      "text/html": [
       "<pre>| 30      | 1m 19s       | 1.58588                |</pre>"
      ],
      "text/plain": [
       "| 30      | 1m 19s       | 1.58588                |"
      ]
     },
     "metadata": {},
     "output_type": "display_data"
    },
    {
     "data": {
      "text/html": [
       "<pre>| 31      | 1m 21s       | 1.58414                |</pre>"
      ],
      "text/plain": [
       "| 31      | 1m 21s       | 1.58414                |"
      ]
     },
     "metadata": {},
     "output_type": "display_data"
    },
    {
     "data": {
      "text/html": [
       "<pre>| 32      | 1m 24s       | 1.58248                |</pre>"
      ],
      "text/plain": [
       "| 32      | 1m 24s       | 1.58248                |"
      ]
     },
     "metadata": {},
     "output_type": "display_data"
    },
    {
     "data": {
      "text/html": [
       "<pre>| 33      | 1m 26s       | 1.58089                |</pre>"
      ],
      "text/plain": [
       "| 33      | 1m 26s       | 1.58089                |"
      ]
     },
     "metadata": {},
     "output_type": "display_data"
    },
    {
     "data": {
      "text/html": [
       "<pre>| 34      | 1m 30s       | 1.57936                |</pre>"
      ],
      "text/plain": [
       "| 34      | 1m 30s       | 1.57936                |"
      ]
     },
     "metadata": {},
     "output_type": "display_data"
    },
    {
     "data": {
      "text/html": [
       "<pre>| 35      | 1m 33s       | 1.57789                |</pre>"
      ],
      "text/plain": [
       "| 35      | 1m 33s       | 1.57789                |"
      ]
     },
     "metadata": {},
     "output_type": "display_data"
    },
    {
     "data": {
      "text/html": [
       "<pre>| 36      | 1m 36s       | 1.57648                |</pre>"
      ],
      "text/plain": [
       "| 36      | 1m 36s       | 1.57648                |"
      ]
     },
     "metadata": {},
     "output_type": "display_data"
    },
    {
     "data": {
      "text/html": [
       "<pre>| 37      | 1m 41s       | 1.57513                |</pre>"
      ],
      "text/plain": [
       "| 37      | 1m 41s       | 1.57513                |"
      ]
     },
     "metadata": {},
     "output_type": "display_data"
    },
    {
     "data": {
      "text/html": [
       "<pre>| 38      | 1m 45s       | 1.57382                |</pre>"
      ],
      "text/plain": [
       "| 38      | 1m 45s       | 1.57382                |"
      ]
     },
     "metadata": {},
     "output_type": "display_data"
    },
    {
     "data": {
      "text/html": [
       "<pre>| 39      | 1m 48s       | 1.57255                |</pre>"
      ],
      "text/plain": [
       "| 39      | 1m 48s       | 1.57255                |"
      ]
     },
     "metadata": {},
     "output_type": "display_data"
    },
    {
     "data": {
      "text/html": [
       "<pre>| 40      | 1m 51s       | 1.57132                |</pre>"
      ],
      "text/plain": [
       "| 40      | 1m 51s       | 1.57132                |"
      ]
     },
     "metadata": {},
     "output_type": "display_data"
    },
    {
     "data": {
      "text/html": [
       "<pre>| 41      | 1m 54s       | 1.57013                |</pre>"
      ],
      "text/plain": [
       "| 41      | 1m 54s       | 1.57013                |"
      ]
     },
     "metadata": {},
     "output_type": "display_data"
    },
    {
     "data": {
      "text/html": [
       "<pre>| 42      | 1m 56s       | 1.56898                |</pre>"
      ],
      "text/plain": [
       "| 42      | 1m 56s       | 1.56898                |"
      ]
     },
     "metadata": {},
     "output_type": "display_data"
    },
    {
     "data": {
      "text/html": [
       "<pre>| 43      | 2m 0s        | 1.56787                |</pre>"
      ],
      "text/plain": [
       "| 43      | 2m 0s        | 1.56787                |"
      ]
     },
     "metadata": {},
     "output_type": "display_data"
    },
    {
     "data": {
      "text/html": [
       "<pre>| 44      | 2m 3s        | 1.56678                |</pre>"
      ],
      "text/plain": [
       "| 44      | 2m 3s        | 1.56678                |"
      ]
     },
     "metadata": {},
     "output_type": "display_data"
    },
    {
     "data": {
      "text/html": [
       "<pre>| 45      | 2m 5s        | 1.56573                |</pre>"
      ],
      "text/plain": [
       "| 45      | 2m 5s        | 1.56573                |"
      ]
     },
     "metadata": {},
     "output_type": "display_data"
    },
    {
     "data": {
      "text/html": [
       "<pre>| 46      | 2m 8s        | 1.56471                |</pre>"
      ],
      "text/plain": [
       "| 46      | 2m 8s        | 1.56471                |"
      ]
     },
     "metadata": {},
     "output_type": "display_data"
    },
    {
     "data": {
      "text/html": [
       "<pre>| 47      | 2m 10s       | 1.56372                |</pre>"
      ],
      "text/plain": [
       "| 47      | 2m 10s       | 1.56372                |"
      ]
     },
     "metadata": {},
     "output_type": "display_data"
    },
    {
     "data": {
      "text/html": [
       "<pre>| 48      | 2m 13s       | 1.56275                |</pre>"
      ],
      "text/plain": [
       "| 48      | 2m 13s       | 1.56275                |"
      ]
     },
     "metadata": {},
     "output_type": "display_data"
    },
    {
     "data": {
      "text/html": [
       "<pre>| 49      | 2m 15s       | 1.56181                |</pre>"
      ],
      "text/plain": [
       "| 49      | 2m 15s       | 1.56181                |"
      ]
     },
     "metadata": {},
     "output_type": "display_data"
    },
    {
     "data": {
      "text/html": [
       "<pre>| 50      | 2m 18s       | 1.5609                 |</pre>"
      ],
      "text/plain": [
       "| 50      | 2m 18s       | 1.5609                 |"
      ]
     },
     "metadata": {},
     "output_type": "display_data"
    },
    {
     "data": {
      "text/html": [
       "<pre>| 51      | 2m 20s       | 1.56001                |</pre>"
      ],
      "text/plain": [
       "| 51      | 2m 20s       | 1.56001                |"
      ]
     },
     "metadata": {},
     "output_type": "display_data"
    },
    {
     "data": {
      "text/html": [
       "<pre>| 52      | 2m 23s       | 1.55914                |</pre>"
      ],
      "text/plain": [
       "| 52      | 2m 23s       | 1.55914                |"
      ]
     },
     "metadata": {},
     "output_type": "display_data"
    },
    {
     "data": {
      "text/html": [
       "<pre>| 53      | 2m 27s       | 1.5583                 |</pre>"
      ],
      "text/plain": [
       "| 53      | 2m 27s       | 1.5583                 |"
      ]
     },
     "metadata": {},
     "output_type": "display_data"
    },
    {
     "data": {
      "text/html": [
       "<pre>| 54      | 2m 31s       | 1.55749                |</pre>"
      ],
      "text/plain": [
       "| 54      | 2m 31s       | 1.55749                |"
      ]
     },
     "metadata": {},
     "output_type": "display_data"
    },
    {
     "data": {
      "text/html": [
       "<pre>| 55      | 2m 36s       | 1.55669                |</pre>"
      ],
      "text/plain": [
       "| 55      | 2m 36s       | 1.55669                |"
      ]
     },
     "metadata": {},
     "output_type": "display_data"
    },
    {
     "data": {
      "text/html": [
       "<pre>| 56      | 2m 39s       | 1.55592                |</pre>"
      ],
      "text/plain": [
       "| 56      | 2m 39s       | 1.55592                |"
      ]
     },
     "metadata": {},
     "output_type": "display_data"
    },
    {
     "data": {
      "text/html": [
       "<pre>| 57      | 2m 42s       | 1.55517                |</pre>"
      ],
      "text/plain": [
       "| 57      | 2m 42s       | 1.55517                |"
      ]
     },
     "metadata": {},
     "output_type": "display_data"
    },
    {
     "data": {
      "text/html": [
       "<pre>| 58      | 2m 45s       | 1.55445                |</pre>"
      ],
      "text/plain": [
       "| 58      | 2m 45s       | 1.55445                |"
      ]
     },
     "metadata": {},
     "output_type": "display_data"
    },
    {
     "data": {
      "text/html": [
       "<pre>| 59      | 2m 49s       | 1.55374                |</pre>"
      ],
      "text/plain": [
       "| 59      | 2m 49s       | 1.55374                |"
      ]
     },
     "metadata": {},
     "output_type": "display_data"
    },
    {
     "data": {
      "text/html": [
       "<pre>| 60      | 2m 52s       | 1.55306                |</pre>"
      ],
      "text/plain": [
       "| 60      | 2m 52s       | 1.55306                |"
      ]
     },
     "metadata": {},
     "output_type": "display_data"
    },
    {
     "data": {
      "text/html": [
       "<pre>| 61      | 2m 56s       | 1.55239                |</pre>"
      ],
      "text/plain": [
       "| 61      | 2m 56s       | 1.55239                |"
      ]
     },
     "metadata": {},
     "output_type": "display_data"
    },
    {
     "data": {
      "text/html": [
       "<pre>| 62      | 2m 59s       | 1.55174                |</pre>"
      ],
      "text/plain": [
       "| 62      | 2m 59s       | 1.55174                |"
      ]
     },
     "metadata": {},
     "output_type": "display_data"
    },
    {
     "data": {
      "text/html": [
       "<pre>| 63      | 3m 2s        | 1.55112                |</pre>"
      ],
      "text/plain": [
       "| 63      | 3m 2s        | 1.55112                |"
      ]
     },
     "metadata": {},
     "output_type": "display_data"
    },
    {
     "data": {
      "text/html": [
       "<pre>| 64      | 3m 6s        | 1.55051                |</pre>"
      ],
      "text/plain": [
       "| 64      | 3m 6s        | 1.55051                |"
      ]
     },
     "metadata": {},
     "output_type": "display_data"
    },
    {
     "data": {
      "text/html": [
       "<pre>| 65      | 3m 9s        | 1.54991                |</pre>"
      ],
      "text/plain": [
       "| 65      | 3m 9s        | 1.54991                |"
      ]
     },
     "metadata": {},
     "output_type": "display_data"
    },
    {
     "data": {
      "text/html": [
       "<pre>| 66      | 3m 12s       | 1.54934                |</pre>"
      ],
      "text/plain": [
       "| 66      | 3m 12s       | 1.54934                |"
      ]
     },
     "metadata": {},
     "output_type": "display_data"
    },
    {
     "data": {
      "text/html": [
       "<pre>| 67      | 3m 15s       | 1.54877                |</pre>"
      ],
      "text/plain": [
       "| 67      | 3m 15s       | 1.54877                |"
      ]
     },
     "metadata": {},
     "output_type": "display_data"
    },
    {
     "data": {
      "text/html": [
       "<pre>| 68      | 3m 19s       | 1.54823                |</pre>"
      ],
      "text/plain": [
       "| 68      | 3m 19s       | 1.54823                |"
      ]
     },
     "metadata": {},
     "output_type": "display_data"
    },
    {
     "data": {
      "text/html": [
       "<pre>| 69      | 3m 22s       | 1.5477                 |</pre>"
      ],
      "text/plain": [
       "| 69      | 3m 22s       | 1.5477                 |"
      ]
     },
     "metadata": {},
     "output_type": "display_data"
    },
    {
     "data": {
      "text/html": [
       "<pre>| 70      | 3m 25s       | 1.54719                |</pre>"
      ],
      "text/plain": [
       "| 70      | 3m 25s       | 1.54719                |"
      ]
     },
     "metadata": {},
     "output_type": "display_data"
    },
    {
     "data": {
      "text/html": [
       "<pre>| 71      | 3m 29s       | 1.54669                |</pre>"
      ],
      "text/plain": [
       "| 71      | 3m 29s       | 1.54669                |"
      ]
     },
     "metadata": {},
     "output_type": "display_data"
    },
    {
     "data": {
      "text/html": [
       "<pre>| 72      | 3m 32s       | 1.54621                |</pre>"
      ],
      "text/plain": [
       "| 72      | 3m 32s       | 1.54621                |"
      ]
     },
     "metadata": {},
     "output_type": "display_data"
    },
    {
     "data": {
      "text/html": [
       "<pre>| 73      | 3m 35s       | 1.54573                |</pre>"
      ],
      "text/plain": [
       "| 73      | 3m 35s       | 1.54573                |"
      ]
     },
     "metadata": {},
     "output_type": "display_data"
    },
    {
     "data": {
      "text/html": [
       "<pre>| 74      | 3m 38s       | 1.54527                |</pre>"
      ],
      "text/plain": [
       "| 74      | 3m 38s       | 1.54527                |"
      ]
     },
     "metadata": {},
     "output_type": "display_data"
    },
    {
     "data": {
      "text/html": [
       "<pre>| 75      | 3m 42s       | 1.54481                |</pre>"
      ],
      "text/plain": [
       "| 75      | 3m 42s       | 1.54481                |"
      ]
     },
     "metadata": {},
     "output_type": "display_data"
    },
    {
     "data": {
      "text/html": [
       "<pre>| 76      | 3m 45s       | 1.54437                |</pre>"
      ],
      "text/plain": [
       "| 76      | 3m 45s       | 1.54437                |"
      ]
     },
     "metadata": {},
     "output_type": "display_data"
    },
    {
     "data": {
      "text/html": [
       "<pre>| 77      | 3m 47s       | 1.54394                |</pre>"
      ],
      "text/plain": [
       "| 77      | 3m 47s       | 1.54394                |"
      ]
     },
     "metadata": {},
     "output_type": "display_data"
    },
    {
     "data": {
      "text/html": [
       "<pre>| 78      | 3m 50s       | 1.54351                |</pre>"
      ],
      "text/plain": [
       "| 78      | 3m 50s       | 1.54351                |"
      ]
     },
     "metadata": {},
     "output_type": "display_data"
    },
    {
     "data": {
      "text/html": [
       "<pre>| 79      | 3m 53s       | 1.54309                |</pre>"
      ],
      "text/plain": [
       "| 79      | 3m 53s       | 1.54309                |"
      ]
     },
     "metadata": {},
     "output_type": "display_data"
    },
    {
     "data": {
      "text/html": [
       "<pre>| 80      | 3m 56s       | 1.54269                |</pre>"
      ],
      "text/plain": [
       "| 80      | 3m 56s       | 1.54269                |"
      ]
     },
     "metadata": {},
     "output_type": "display_data"
    },
    {
     "data": {
      "text/html": [
       "<pre>| 81      | 3m 59s       | 1.54228                |</pre>"
      ],
      "text/plain": [
       "| 81      | 3m 59s       | 1.54228                |"
      ]
     },
     "metadata": {},
     "output_type": "display_data"
    },
    {
     "data": {
      "text/html": [
       "<pre>| 82      | 4m 2s        | 1.54189                |</pre>"
      ],
      "text/plain": [
       "| 82      | 4m 2s        | 1.54189                |"
      ]
     },
     "metadata": {},
     "output_type": "display_data"
    },
    {
     "data": {
      "text/html": [
       "<pre>| 83      | 4m 5s        | 1.54151                |</pre>"
      ],
      "text/plain": [
       "| 83      | 4m 5s        | 1.54151                |"
      ]
     },
     "metadata": {},
     "output_type": "display_data"
    },
    {
     "data": {
      "text/html": [
       "<pre>| 84      | 4m 8s        | 1.54113                |</pre>"
      ],
      "text/plain": [
       "| 84      | 4m 8s        | 1.54113                |"
      ]
     },
     "metadata": {},
     "output_type": "display_data"
    },
    {
     "data": {
      "text/html": [
       "<pre>| 85      | 4m 11s       | 1.54076                |</pre>"
      ],
      "text/plain": [
       "| 85      | 4m 11s       | 1.54076                |"
      ]
     },
     "metadata": {},
     "output_type": "display_data"
    },
    {
     "data": {
      "text/html": [
       "<pre>| 86      | 4m 14s       | 1.54039                |</pre>"
      ],
      "text/plain": [
       "| 86      | 4m 14s       | 1.54039                |"
      ]
     },
     "metadata": {},
     "output_type": "display_data"
    },
    {
     "data": {
      "text/html": [
       "<pre>| 87      | 4m 17s       | 1.54004                |</pre>"
      ],
      "text/plain": [
       "| 87      | 4m 17s       | 1.54004                |"
      ]
     },
     "metadata": {},
     "output_type": "display_data"
    },
    {
     "data": {
      "text/html": [
       "<pre>| 88      | 4m 20s       | 1.53969                |</pre>"
      ],
      "text/plain": [
       "| 88      | 4m 20s       | 1.53969                |"
      ]
     },
     "metadata": {},
     "output_type": "display_data"
    },
    {
     "data": {
      "text/html": [
       "<pre>| 89      | 4m 23s       | 1.53935                |</pre>"
      ],
      "text/plain": [
       "| 89      | 4m 23s       | 1.53935                |"
      ]
     },
     "metadata": {},
     "output_type": "display_data"
    },
    {
     "data": {
      "text/html": [
       "<pre>| 90      | 4m 26s       | 1.53902                |</pre>"
      ],
      "text/plain": [
       "| 90      | 4m 26s       | 1.53902                |"
      ]
     },
     "metadata": {},
     "output_type": "display_data"
    },
    {
     "data": {
      "text/html": [
       "<pre>| 91      | 4m 29s       | 1.5387                 |</pre>"
      ],
      "text/plain": [
       "| 91      | 4m 29s       | 1.5387                 |"
      ]
     },
     "metadata": {},
     "output_type": "display_data"
    },
    {
     "data": {
      "text/html": [
       "<pre>| 92      | 4m 33s       | 1.53838                |</pre>"
      ],
      "text/plain": [
       "| 92      | 4m 33s       | 1.53838                |"
      ]
     },
     "metadata": {},
     "output_type": "display_data"
    },
    {
     "data": {
      "text/html": [
       "<pre>| 93      | 4m 35s       | 1.53808                |</pre>"
      ],
      "text/plain": [
       "| 93      | 4m 35s       | 1.53808                |"
      ]
     },
     "metadata": {},
     "output_type": "display_data"
    },
    {
     "data": {
      "text/html": [
       "<pre>| 94      | 4m 38s       | 1.53778                |</pre>"
      ],
      "text/plain": [
       "| 94      | 4m 38s       | 1.53778                |"
      ]
     },
     "metadata": {},
     "output_type": "display_data"
    },
    {
     "data": {
      "text/html": [
       "<pre>| 95      | 4m 41s       | 1.53749                |</pre>"
      ],
      "text/plain": [
       "| 95      | 4m 41s       | 1.53749                |"
      ]
     },
     "metadata": {},
     "output_type": "display_data"
    },
    {
     "data": {
      "text/html": [
       "<pre>| 96      | 4m 44s       | 1.53721                |</pre>"
      ],
      "text/plain": [
       "| 96      | 4m 44s       | 1.53721                |"
      ]
     },
     "metadata": {},
     "output_type": "display_data"
    },
    {
     "data": {
      "text/html": [
       "<pre>| 97      | 4m 46s       | 1.53694                |</pre>"
      ],
      "text/plain": [
       "| 97      | 4m 46s       | 1.53694                |"
      ]
     },
     "metadata": {},
     "output_type": "display_data"
    },
    {
     "data": {
      "text/html": [
       "<pre>| 98      | 4m 49s       | 1.53667                |</pre>"
      ],
      "text/plain": [
       "| 98      | 4m 49s       | 1.53667                |"
      ]
     },
     "metadata": {},
     "output_type": "display_data"
    },
    {
     "data": {
      "text/html": [
       "<pre>| 99      | 4m 52s       | 1.53641                |</pre>"
      ],
      "text/plain": [
       "| 99      | 4m 52s       | 1.53641                |"
      ]
     },
     "metadata": {},
     "output_type": "display_data"
    },
    {
     "data": {
      "text/html": [
       "<pre>| FINAL   | 4m 52s       | 1.53641                |</pre>"
      ],
      "text/plain": [
       "| FINAL   | 4m 52s       | 1.53641                |"
      ]
     },
     "metadata": {},
     "output_type": "display_data"
    },
    {
     "data": {
      "text/html": [
       "<pre>+---------+--------------+------------------------+</pre>"
      ],
      "text/plain": [
       "+---------+--------------+------------------------+"
      ]
     },
     "metadata": {},
     "output_type": "display_data"
    },
    {
     "data": {
      "text/html": [
       "<pre>Optimization Complete: Iteration limit reached.</pre>"
      ],
      "text/plain": [
       "Optimization Complete: Iteration limit reached."
      ]
     },
     "metadata": {},
     "output_type": "display_data"
    }
   ],
   "source": [
    "rec_als = graphlab.recommender.factorization_recommender.create(\n",
    "                sf_train,\n",
    "                user_id='user_id',\n",
    "                item_id='joke_id',\n",
    "                target='rating',\n",
    "                solver='als',\n",
    "                max_iterations=100,\n",
    "                num_factors=30,\n",
    "                side_data_factorization=False)"
   ]
  },
  {
   "cell_type": "code",
   "execution_count": 68,
   "metadata": {
    "scrolled": true
   },
   "outputs": [
    {
     "data": {
      "text/html": [
       "<div>\n",
       "<table border=\"1\" class=\"dataframe\">\n",
       "  <thead>\n",
       "    <tr style=\"text-align: right;\">\n",
       "      <th></th>\n",
       "      <th>user_id</th>\n",
       "      <th>joke_id</th>\n",
       "      <th>rating_target</th>\n",
       "    </tr>\n",
       "  </thead>\n",
       "  <tbody>\n",
       "    <tr>\n",
       "      <th>0</th>\n",
       "      <td>30762</td>\n",
       "      <td>24</td>\n",
       "      <td>-5.495719</td>\n",
       "    </tr>\n",
       "    <tr>\n",
       "      <th>1</th>\n",
       "      <td>54667</td>\n",
       "      <td>128</td>\n",
       "      <td>8.450664</td>\n",
       "    </tr>\n",
       "    <tr>\n",
       "      <th>2</th>\n",
       "      <td>38515</td>\n",
       "      <td>68</td>\n",
       "      <td>6.138362</td>\n",
       "    </tr>\n",
       "    <tr>\n",
       "      <th>3</th>\n",
       "      <td>44643</td>\n",
       "      <td>39</td>\n",
       "      <td>5.655689</td>\n",
       "    </tr>\n",
       "    <tr>\n",
       "      <th>4</th>\n",
       "      <td>58677</td>\n",
       "      <td>13</td>\n",
       "      <td>-5.195402</td>\n",
       "    </tr>\n",
       "  </tbody>\n",
       "</table>\n",
       "</div>"
      ],
      "text/plain": [
       "   user_id  joke_id  rating_target\n",
       "0    30762       24      -5.495719\n",
       "1    54667      128       8.450664\n",
       "2    38515       68       6.138362\n",
       "3    44643       39       5.655689\n",
       "4    58677       13      -5.195402"
      ]
     },
     "execution_count": 68,
     "metadata": {},
     "output_type": "execute_result"
    }
   ],
   "source": [
    "sf_test = graphlab.SFrame(df_test[['user_id', 'joke_id']])\n",
    "test_als_pred = rec_als.predict(sf_test)\n",
    "sf_test_als = sf_test.copy()\n",
    "sf_test_als['rating_target'] = test_als_pred\n",
    "df_test_als = sf_test_als.to_dataframe()\n",
    "df_test_als.head()"
   ]
  },
  {
   "cell_type": "code",
   "execution_count": 69,
   "metadata": {},
   "outputs": [
    {
     "data": {
      "text/plain": [
       "2.455077367338268"
      ]
     },
     "execution_count": 69,
     "metadata": {},
     "output_type": "execute_result"
    }
   ],
   "source": [
    "score_top_5_percent(df_test_als)"
   ]
  },
  {
   "cell_type": "markdown",
   "metadata": {},
   "source": [
    "## Comments: looks overfitting"
   ]
  },
  {
   "cell_type": "markdown",
   "metadata": {},
   "source": [
    "## Play around the regularization parameters"
   ]
  },
  {
   "cell_type": "code",
   "execution_count": 5,
   "metadata": {},
   "outputs": [
    {
     "data": {
      "text/html": [
       "<pre>Recsys training: model = factorization_recommender</pre>"
      ],
      "text/plain": [
       "Recsys training: model = factorization_recommender"
      ]
     },
     "metadata": {},
     "output_type": "display_data"
    },
    {
     "data": {
      "text/html": [
       "<pre>Preparing data set.</pre>"
      ],
      "text/plain": [
       "Preparing data set."
      ]
     },
     "metadata": {},
     "output_type": "display_data"
    },
    {
     "data": {
      "text/html": [
       "<pre>    Data has 1000000 observations with 58125 users and 140 items.</pre>"
      ],
      "text/plain": [
       "    Data has 1000000 observations with 58125 users and 140 items."
      ]
     },
     "metadata": {},
     "output_type": "display_data"
    },
    {
     "data": {
      "text/html": [
       "<pre>    Data prepared in: 1.35032s</pre>"
      ],
      "text/plain": [
       "    Data prepared in: 1.35032s"
      ]
     },
     "metadata": {},
     "output_type": "display_data"
    },
    {
     "data": {
      "text/html": [
       "<pre>Training factorization_recommender for recommendations.</pre>"
      ],
      "text/plain": [
       "Training factorization_recommender for recommendations."
      ]
     },
     "metadata": {},
     "output_type": "display_data"
    },
    {
     "data": {
      "text/html": [
       "<pre>+------------------------------+--------------------------------------------------+----------+</pre>"
      ],
      "text/plain": [
       "+------------------------------+--------------------------------------------------+----------+"
      ]
     },
     "metadata": {},
     "output_type": "display_data"
    },
    {
     "data": {
      "text/html": [
       "<pre>| Parameter                    | Description                                      | Value    |</pre>"
      ],
      "text/plain": [
       "| Parameter                    | Description                                      | Value    |"
      ]
     },
     "metadata": {},
     "output_type": "display_data"
    },
    {
     "data": {
      "text/html": [
       "<pre>+------------------------------+--------------------------------------------------+----------+</pre>"
      ],
      "text/plain": [
       "+------------------------------+--------------------------------------------------+----------+"
      ]
     },
     "metadata": {},
     "output_type": "display_data"
    },
    {
     "data": {
      "text/html": [
       "<pre>| num_factors                  | Factor Dimension                                 | 20       |</pre>"
      ],
      "text/plain": [
       "| num_factors                  | Factor Dimension                                 | 20       |"
      ]
     },
     "metadata": {},
     "output_type": "display_data"
    },
    {
     "data": {
      "text/html": [
       "<pre>| regularization               | L2 Regularization on Factors                     | 1e-08    |</pre>"
      ],
      "text/plain": [
       "| regularization               | L2 Regularization on Factors                     | 1e-08    |"
      ]
     },
     "metadata": {},
     "output_type": "display_data"
    },
    {
     "data": {
      "text/html": [
       "<pre>| max_iterations               | Maximum Number of Iterations                     | 200      |</pre>"
      ],
      "text/plain": [
       "| max_iterations               | Maximum Number of Iterations                     | 200      |"
      ]
     },
     "metadata": {},
     "output_type": "display_data"
    },
    {
     "data": {
      "text/html": [
       "<pre>| solver                       | Solver used for training                         | als      |</pre>"
      ],
      "text/plain": [
       "| solver                       | Solver used for training                         | als      |"
      ]
     },
     "metadata": {},
     "output_type": "display_data"
    },
    {
     "data": {
      "text/html": [
       "<pre>+------------------------------+--------------------------------------------------+----------+</pre>"
      ],
      "text/plain": [
       "+------------------------------+--------------------------------------------------+----------+"
      ]
     },
     "metadata": {},
     "output_type": "display_data"
    },
    {
     "data": {
      "text/html": [
       "<pre>+---------+--------------+------------------------+</pre>"
      ],
      "text/plain": [
       "+---------+--------------+------------------------+"
      ]
     },
     "metadata": {},
     "output_type": "display_data"
    },
    {
     "data": {
      "text/html": [
       "<pre>| Iter.   | Elapsed time | RMSE                   |</pre>"
      ],
      "text/plain": [
       "| Iter.   | Elapsed time | RMSE                   |"
      ]
     },
     "metadata": {},
     "output_type": "display_data"
    },
    {
     "data": {
      "text/html": [
       "<pre>+---------+--------------+------------------------+</pre>"
      ],
      "text/plain": [
       "+---------+--------------+------------------------+"
      ]
     },
     "metadata": {},
     "output_type": "display_data"
    },
    {
     "data": {
      "text/html": [
       "<pre>| Initial | 73us         | NA                     |</pre>"
      ],
      "text/plain": [
       "| Initial | 73us         | NA                     |"
      ]
     },
     "metadata": {},
     "output_type": "display_data"
    },
    {
     "data": {
      "text/html": [
       "<pre>+---------+--------------+------------------------+</pre>"
      ],
      "text/plain": [
       "+---------+--------------+------------------------+"
      ]
     },
     "metadata": {},
     "output_type": "display_data"
    },
    {
     "data": {
      "text/html": [
       "<pre>| 0       | 1.00s        | 3.54647                |</pre>"
      ],
      "text/plain": [
       "| 0       | 1.00s        | 3.54647                |"
      ]
     },
     "metadata": {},
     "output_type": "display_data"
    },
    {
     "data": {
      "text/html": [
       "<pre>| 1       | 2.15s        | 2.22387                |</pre>"
      ],
      "text/plain": [
       "| 1       | 2.15s        | 2.22387                |"
      ]
     },
     "metadata": {},
     "output_type": "display_data"
    },
    {
     "data": {
      "text/html": [
       "<pre>| 2       | 3.41s        | 2.19023                |</pre>"
      ],
      "text/plain": [
       "| 2       | 3.41s        | 2.19023                |"
      ]
     },
     "metadata": {},
     "output_type": "display_data"
    },
    {
     "data": {
      "text/html": [
       "<pre>| 3       | 4.36s        | 2.1669                 |</pre>"
      ],
      "text/plain": [
       "| 3       | 4.36s        | 2.1669                 |"
      ]
     },
     "metadata": {},
     "output_type": "display_data"
    },
    {
     "data": {
      "text/html": [
       "<pre>| 4       | 5.31s        | 2.14872                |</pre>"
      ],
      "text/plain": [
       "| 4       | 5.31s        | 2.14872                |"
      ]
     },
     "metadata": {},
     "output_type": "display_data"
    },
    {
     "data": {
      "text/html": [
       "<pre>| 5       | 6.28s        | 2.13385                |</pre>"
      ],
      "text/plain": [
       "| 5       | 6.28s        | 2.13385                |"
      ]
     },
     "metadata": {},
     "output_type": "display_data"
    },
    {
     "data": {
      "text/html": [
       "<pre>| 6       | 7.27s        | 2.12135                |</pre>"
      ],
      "text/plain": [
       "| 6       | 7.27s        | 2.12135                |"
      ]
     },
     "metadata": {},
     "output_type": "display_data"
    },
    {
     "data": {
      "text/html": [
       "<pre>| 7       | 8.22s        | 2.11078                |</pre>"
      ],
      "text/plain": [
       "| 7       | 8.22s        | 2.11078                |"
      ]
     },
     "metadata": {},
     "output_type": "display_data"
    },
    {
     "data": {
      "text/html": [
       "<pre>| 8       | 9.18s        | 2.10174                |</pre>"
      ],
      "text/plain": [
       "| 8       | 9.18s        | 2.10174                |"
      ]
     },
     "metadata": {},
     "output_type": "display_data"
    },
    {
     "data": {
      "text/html": [
       "<pre>| 9       | 10.14s       | 2.09386                |</pre>"
      ],
      "text/plain": [
       "| 9       | 10.14s       | 2.09386                |"
      ]
     },
     "metadata": {},
     "output_type": "display_data"
    },
    {
     "data": {
      "text/html": [
       "<pre>| 10      | 11.09s       | 2.0869                 |</pre>"
      ],
      "text/plain": [
       "| 10      | 11.09s       | 2.0869                 |"
      ]
     },
     "metadata": {},
     "output_type": "display_data"
    },
    {
     "data": {
      "text/html": [
       "<pre>| 11      | 12.05s       | 2.08074                |</pre>"
      ],
      "text/plain": [
       "| 11      | 12.05s       | 2.08074                |"
      ]
     },
     "metadata": {},
     "output_type": "display_data"
    },
    {
     "data": {
      "text/html": [
       "<pre>| 12      | 13.02s       | 2.07521                |</pre>"
      ],
      "text/plain": [
       "| 12      | 13.02s       | 2.07521                |"
      ]
     },
     "metadata": {},
     "output_type": "display_data"
    },
    {
     "data": {
      "text/html": [
       "<pre>| 13      | 13.95s       | 2.07022                |</pre>"
      ],
      "text/plain": [
       "| 13      | 13.95s       | 2.07022                |"
      ]
     },
     "metadata": {},
     "output_type": "display_data"
    },
    {
     "data": {
      "text/html": [
       "<pre>| 14      | 14.95s       | 2.06571                |</pre>"
      ],
      "text/plain": [
       "| 14      | 14.95s       | 2.06571                |"
      ]
     },
     "metadata": {},
     "output_type": "display_data"
    },
    {
     "data": {
      "text/html": [
       "<pre>| 15      | 15.97s       | 2.06162                |</pre>"
      ],
      "text/plain": [
       "| 15      | 15.97s       | 2.06162                |"
      ]
     },
     "metadata": {},
     "output_type": "display_data"
    },
    {
     "data": {
      "text/html": [
       "<pre>| 16      | 16.97s       | 2.05793                |</pre>"
      ],
      "text/plain": [
       "| 16      | 16.97s       | 2.05793                |"
      ]
     },
     "metadata": {},
     "output_type": "display_data"
    },
    {
     "data": {
      "text/html": [
       "<pre>| 17      | 18.05s       | 2.05456                |</pre>"
      ],
      "text/plain": [
       "| 17      | 18.05s       | 2.05456                |"
      ]
     },
     "metadata": {},
     "output_type": "display_data"
    },
    {
     "data": {
      "text/html": [
       "<pre>| 18      | 19.17s       | 2.05147                |</pre>"
      ],
      "text/plain": [
       "| 18      | 19.17s       | 2.05147                |"
      ]
     },
     "metadata": {},
     "output_type": "display_data"
    },
    {
     "data": {
      "text/html": [
       "<pre>| 19      | 20.57s       | 2.04861                |</pre>"
      ],
      "text/plain": [
       "| 19      | 20.57s       | 2.04861                |"
      ]
     },
     "metadata": {},
     "output_type": "display_data"
    },
    {
     "data": {
      "text/html": [
       "<pre>| 20      | 21.79s       | 2.04595                |</pre>"
      ],
      "text/plain": [
       "| 20      | 21.79s       | 2.04595                |"
      ]
     },
     "metadata": {},
     "output_type": "display_data"
    },
    {
     "data": {
      "text/html": [
       "<pre>| 21      | 22.80s       | 2.04345                |</pre>"
      ],
      "text/plain": [
       "| 21      | 22.80s       | 2.04345                |"
      ]
     },
     "metadata": {},
     "output_type": "display_data"
    },
    {
     "data": {
      "text/html": [
       "<pre>| 22      | 23.85s       | 2.04112                |</pre>"
      ],
      "text/plain": [
       "| 22      | 23.85s       | 2.04112                |"
      ]
     },
     "metadata": {},
     "output_type": "display_data"
    },
    {
     "data": {
      "text/html": [
       "<pre>| 23      | 24.84s       | 2.03894                |</pre>"
      ],
      "text/plain": [
       "| 23      | 24.84s       | 2.03894                |"
      ]
     },
     "metadata": {},
     "output_type": "display_data"
    },
    {
     "data": {
      "text/html": [
       "<pre>| 24      | 25.80s       | 2.03689                |</pre>"
      ],
      "text/plain": [
       "| 24      | 25.80s       | 2.03689                |"
      ]
     },
     "metadata": {},
     "output_type": "display_data"
    },
    {
     "data": {
      "text/html": [
       "<pre>| 25      | 26.75s       | 2.03497                |</pre>"
      ],
      "text/plain": [
       "| 25      | 26.75s       | 2.03497                |"
      ]
     },
     "metadata": {},
     "output_type": "display_data"
    },
    {
     "data": {
      "text/html": [
       "<pre>| 26      | 28.22s       | 2.03319                |</pre>"
      ],
      "text/plain": [
       "| 26      | 28.22s       | 2.03319                |"
      ]
     },
     "metadata": {},
     "output_type": "display_data"
    },
    {
     "data": {
      "text/html": [
       "<pre>| 27      | 29.33s       | 2.03153                |</pre>"
      ],
      "text/plain": [
       "| 27      | 29.33s       | 2.03153                |"
      ]
     },
     "metadata": {},
     "output_type": "display_data"
    },
    {
     "data": {
      "text/html": [
       "<pre>| 28      | 30.44s       | 2.02997                |</pre>"
      ],
      "text/plain": [
       "| 28      | 30.44s       | 2.02997                |"
      ]
     },
     "metadata": {},
     "output_type": "display_data"
    },
    {
     "data": {
      "text/html": [
       "<pre>| 29      | 31.45s       | 2.0285                 |</pre>"
      ],
      "text/plain": [
       "| 29      | 31.45s       | 2.0285                 |"
      ]
     },
     "metadata": {},
     "output_type": "display_data"
    },
    {
     "data": {
      "text/html": [
       "<pre>| 30      | 32.50s       | 2.02711                |</pre>"
      ],
      "text/plain": [
       "| 30      | 32.50s       | 2.02711                |"
      ]
     },
     "metadata": {},
     "output_type": "display_data"
    },
    {
     "data": {
      "text/html": [
       "<pre>| 31      | 33.59s       | 2.02579                |</pre>"
      ],
      "text/plain": [
       "| 31      | 33.59s       | 2.02579                |"
      ]
     },
     "metadata": {},
     "output_type": "display_data"
    },
    {
     "data": {
      "text/html": [
       "<pre>| 32      | 34.70s       | 2.02454                |</pre>"
      ],
      "text/plain": [
       "| 32      | 34.70s       | 2.02454                |"
      ]
     },
     "metadata": {},
     "output_type": "display_data"
    },
    {
     "data": {
      "text/html": [
       "<pre>| 33      | 35.66s       | 2.02334                |</pre>"
      ],
      "text/plain": [
       "| 33      | 35.66s       | 2.02334                |"
      ]
     },
     "metadata": {},
     "output_type": "display_data"
    },
    {
     "data": {
      "text/html": [
       "<pre>| 34      | 36.60s       | 2.0222                 |</pre>"
      ],
      "text/plain": [
       "| 34      | 36.60s       | 2.0222                 |"
      ]
     },
     "metadata": {},
     "output_type": "display_data"
    },
    {
     "data": {
      "text/html": [
       "<pre>| 35      | 37.57s       | 2.0211                 |</pre>"
      ],
      "text/plain": [
       "| 35      | 37.57s       | 2.0211                 |"
      ]
     },
     "metadata": {},
     "output_type": "display_data"
    },
    {
     "data": {
      "text/html": [
       "<pre>| 36      | 38.51s       | 2.02005                |</pre>"
      ],
      "text/plain": [
       "| 36      | 38.51s       | 2.02005                |"
      ]
     },
     "metadata": {},
     "output_type": "display_data"
    },
    {
     "data": {
      "text/html": [
       "<pre>| 37      | 39.46s       | 2.01904                |</pre>"
      ],
      "text/plain": [
       "| 37      | 39.46s       | 2.01904                |"
      ]
     },
     "metadata": {},
     "output_type": "display_data"
    },
    {
     "data": {
      "text/html": [
       "<pre>| 38      | 40.42s       | 2.01806                |</pre>"
      ],
      "text/plain": [
       "| 38      | 40.42s       | 2.01806                |"
      ]
     },
     "metadata": {},
     "output_type": "display_data"
    },
    {
     "data": {
      "text/html": [
       "<pre>| 39      | 41.37s       | 2.01713                |</pre>"
      ],
      "text/plain": [
       "| 39      | 41.37s       | 2.01713                |"
      ]
     },
     "metadata": {},
     "output_type": "display_data"
    },
    {
     "data": {
      "text/html": [
       "<pre>| 40      | 42.32s       | 2.01623                |</pre>"
      ],
      "text/plain": [
       "| 40      | 42.32s       | 2.01623                |"
      ]
     },
     "metadata": {},
     "output_type": "display_data"
    },
    {
     "data": {
      "text/html": [
       "<pre>| 41      | 43.27s       | 2.01537                |</pre>"
      ],
      "text/plain": [
       "| 41      | 43.27s       | 2.01537                |"
      ]
     },
     "metadata": {},
     "output_type": "display_data"
    },
    {
     "data": {
      "text/html": [
       "<pre>| 42      | 44.22s       | 2.01454                |</pre>"
      ],
      "text/plain": [
       "| 42      | 44.22s       | 2.01454                |"
      ]
     },
     "metadata": {},
     "output_type": "display_data"
    },
    {
     "data": {
      "text/html": [
       "<pre>| 43      | 45.16s       | 2.01375                |</pre>"
      ],
      "text/plain": [
       "| 43      | 45.16s       | 2.01375                |"
      ]
     },
     "metadata": {},
     "output_type": "display_data"
    },
    {
     "data": {
      "text/html": [
       "<pre>| 44      | 46.11s       | 2.013                  |</pre>"
      ],
      "text/plain": [
       "| 44      | 46.11s       | 2.013                  |"
      ]
     },
     "metadata": {},
     "output_type": "display_data"
    },
    {
     "data": {
      "text/html": [
       "<pre>| 45      | 47.06s       | 2.01228                |</pre>"
      ],
      "text/plain": [
       "| 45      | 47.06s       | 2.01228                |"
      ]
     },
     "metadata": {},
     "output_type": "display_data"
    },
    {
     "data": {
      "text/html": [
       "<pre>| 46      | 48.02s       | 2.01159                |</pre>"
      ],
      "text/plain": [
       "| 46      | 48.02s       | 2.01159                |"
      ]
     },
     "metadata": {},
     "output_type": "display_data"
    },
    {
     "data": {
      "text/html": [
       "<pre>| 47      | 48.98s       | 2.01093                |</pre>"
      ],
      "text/plain": [
       "| 47      | 48.98s       | 2.01093                |"
      ]
     },
     "metadata": {},
     "output_type": "display_data"
    },
    {
     "data": {
      "text/html": [
       "<pre>| 48      | 49.94s       | 2.0103                 |</pre>"
      ],
      "text/plain": [
       "| 48      | 49.94s       | 2.0103                 |"
      ]
     },
     "metadata": {},
     "output_type": "display_data"
    },
    {
     "data": {
      "text/html": [
       "<pre>| 49      | 50.89s       | 2.00969                |</pre>"
      ],
      "text/plain": [
       "| 49      | 50.89s       | 2.00969                |"
      ]
     },
     "metadata": {},
     "output_type": "display_data"
    },
    {
     "data": {
      "text/html": [
       "<pre>| 50      | 51.86s       | 2.00911                |</pre>"
      ],
      "text/plain": [
       "| 50      | 51.86s       | 2.00911                |"
      ]
     },
     "metadata": {},
     "output_type": "display_data"
    },
    {
     "data": {
      "text/html": [
       "<pre>| 51      | 52.82s       | 2.00855                |</pre>"
      ],
      "text/plain": [
       "| 51      | 52.82s       | 2.00855                |"
      ]
     },
     "metadata": {},
     "output_type": "display_data"
    },
    {
     "data": {
      "text/html": [
       "<pre>| 52      | 53.80s       | 2.00801                |</pre>"
      ],
      "text/plain": [
       "| 52      | 53.80s       | 2.00801                |"
      ]
     },
     "metadata": {},
     "output_type": "display_data"
    },
    {
     "data": {
      "text/html": [
       "<pre>| 53      | 54.78s       | 2.00749                |</pre>"
      ],
      "text/plain": [
       "| 53      | 54.78s       | 2.00749                |"
      ]
     },
     "metadata": {},
     "output_type": "display_data"
    },
    {
     "data": {
      "text/html": [
       "<pre>| 54      | 55.73s       | 2.00699                |</pre>"
      ],
      "text/plain": [
       "| 54      | 55.73s       | 2.00699                |"
      ]
     },
     "metadata": {},
     "output_type": "display_data"
    },
    {
     "data": {
      "text/html": [
       "<pre>| 55      | 56.71s       | 2.00651                |</pre>"
      ],
      "text/plain": [
       "| 55      | 56.71s       | 2.00651                |"
      ]
     },
     "metadata": {},
     "output_type": "display_data"
    },
    {
     "data": {
      "text/html": [
       "<pre>| 56      | 57.68s       | 2.00604                |</pre>"
      ],
      "text/plain": [
       "| 56      | 57.68s       | 2.00604                |"
      ]
     },
     "metadata": {},
     "output_type": "display_data"
    },
    {
     "data": {
      "text/html": [
       "<pre>| 57      | 58.64s       | 2.00558                |</pre>"
      ],
      "text/plain": [
       "| 57      | 58.64s       | 2.00558                |"
      ]
     },
     "metadata": {},
     "output_type": "display_data"
    },
    {
     "data": {
      "text/html": [
       "<pre>| 58      | 59.60s       | 2.00514                |</pre>"
      ],
      "text/plain": [
       "| 58      | 59.60s       | 2.00514                |"
      ]
     },
     "metadata": {},
     "output_type": "display_data"
    },
    {
     "data": {
      "text/html": [
       "<pre>| 59      | 1m 0s        | 2.00471                |</pre>"
      ],
      "text/plain": [
       "| 59      | 1m 0s        | 2.00471                |"
      ]
     },
     "metadata": {},
     "output_type": "display_data"
    },
    {
     "data": {
      "text/html": [
       "<pre>| 60      | 1m 1s        | 2.00428                |</pre>"
      ],
      "text/plain": [
       "| 60      | 1m 1s        | 2.00428                |"
      ]
     },
     "metadata": {},
     "output_type": "display_data"
    },
    {
     "data": {
      "text/html": [
       "<pre>| 61      | 1m 2s        | 2.00387                |</pre>"
      ],
      "text/plain": [
       "| 61      | 1m 2s        | 2.00387                |"
      ]
     },
     "metadata": {},
     "output_type": "display_data"
    },
    {
     "data": {
      "text/html": [
       "<pre>| 62      | 1m 3s        | 2.00346                |</pre>"
      ],
      "text/plain": [
       "| 62      | 1m 3s        | 2.00346                |"
      ]
     },
     "metadata": {},
     "output_type": "display_data"
    },
    {
     "data": {
      "text/html": [
       "<pre>| 63      | 1m 4s        | 2.00306                |</pre>"
      ],
      "text/plain": [
       "| 63      | 1m 4s        | 2.00306                |"
      ]
     },
     "metadata": {},
     "output_type": "display_data"
    },
    {
     "data": {
      "text/html": [
       "<pre>| 64      | 1m 5s        | 2.00267                |</pre>"
      ],
      "text/plain": [
       "| 64      | 1m 5s        | 2.00267                |"
      ]
     },
     "metadata": {},
     "output_type": "display_data"
    },
    {
     "data": {
      "text/html": [
       "<pre>| 65      | 1m 6s        | 2.00229                |</pre>"
      ],
      "text/plain": [
       "| 65      | 1m 6s        | 2.00229                |"
      ]
     },
     "metadata": {},
     "output_type": "display_data"
    },
    {
     "data": {
      "text/html": [
       "<pre>| 66      | 1m 7s        | 2.00192                |</pre>"
      ],
      "text/plain": [
       "| 66      | 1m 7s        | 2.00192                |"
      ]
     },
     "metadata": {},
     "output_type": "display_data"
    },
    {
     "data": {
      "text/html": [
       "<pre>| 67      | 1m 8s        | 2.00155                |</pre>"
      ],
      "text/plain": [
       "| 67      | 1m 8s        | 2.00155                |"
      ]
     },
     "metadata": {},
     "output_type": "display_data"
    },
    {
     "data": {
      "text/html": [
       "<pre>| 68      | 1m 9s        | 2.00119                |</pre>"
      ],
      "text/plain": [
       "| 68      | 1m 9s        | 2.00119                |"
      ]
     },
     "metadata": {},
     "output_type": "display_data"
    },
    {
     "data": {
      "text/html": [
       "<pre>| 69      | 1m 10s       | 2.00084                |</pre>"
      ],
      "text/plain": [
       "| 69      | 1m 10s       | 2.00084                |"
      ]
     },
     "metadata": {},
     "output_type": "display_data"
    },
    {
     "data": {
      "text/html": [
       "<pre>| 70      | 1m 11s       | 2.0005                 |</pre>"
      ],
      "text/plain": [
       "| 70      | 1m 11s       | 2.0005                 |"
      ]
     },
     "metadata": {},
     "output_type": "display_data"
    },
    {
     "data": {
      "text/html": [
       "<pre>| 71      | 1m 12s       | 2.00018                |</pre>"
      ],
      "text/plain": [
       "| 71      | 1m 12s       | 2.00018                |"
      ]
     },
     "metadata": {},
     "output_type": "display_data"
    },
    {
     "data": {
      "text/html": [
       "<pre>| 72      | 1m 13s       | 1.99986                |</pre>"
      ],
      "text/plain": [
       "| 72      | 1m 13s       | 1.99986                |"
      ]
     },
     "metadata": {},
     "output_type": "display_data"
    },
    {
     "data": {
      "text/html": [
       "<pre>| 73      | 1m 13s       | 1.99955                |</pre>"
      ],
      "text/plain": [
       "| 73      | 1m 13s       | 1.99955                |"
      ]
     },
     "metadata": {},
     "output_type": "display_data"
    },
    {
     "data": {
      "text/html": [
       "<pre>| 74      | 1m 14s       | 1.99925                |</pre>"
      ],
      "text/plain": [
       "| 74      | 1m 14s       | 1.99925                |"
      ]
     },
     "metadata": {},
     "output_type": "display_data"
    },
    {
     "data": {
      "text/html": [
       "<pre>| 75      | 1m 15s       | 1.99895                |</pre>"
      ],
      "text/plain": [
       "| 75      | 1m 15s       | 1.99895                |"
      ]
     },
     "metadata": {},
     "output_type": "display_data"
    },
    {
     "data": {
      "text/html": [
       "<pre>| 76      | 1m 16s       | 1.99867                |</pre>"
      ],
      "text/plain": [
       "| 76      | 1m 16s       | 1.99867                |"
      ]
     },
     "metadata": {},
     "output_type": "display_data"
    },
    {
     "data": {
      "text/html": [
       "<pre>| 77      | 1m 17s       | 1.9984                 |</pre>"
      ],
      "text/plain": [
       "| 77      | 1m 17s       | 1.9984                 |"
      ]
     },
     "metadata": {},
     "output_type": "display_data"
    },
    {
     "data": {
      "text/html": [
       "<pre>| 78      | 1m 18s       | 1.99813                |</pre>"
      ],
      "text/plain": [
       "| 78      | 1m 18s       | 1.99813                |"
      ]
     },
     "metadata": {},
     "output_type": "display_data"
    },
    {
     "data": {
      "text/html": [
       "<pre>| 79      | 1m 19s       | 1.99787                |</pre>"
      ],
      "text/plain": [
       "| 79      | 1m 19s       | 1.99787                |"
      ]
     },
     "metadata": {},
     "output_type": "display_data"
    },
    {
     "data": {
      "text/html": [
       "<pre>| 80      | 1m 20s       | 1.99762                |</pre>"
      ],
      "text/plain": [
       "| 80      | 1m 20s       | 1.99762                |"
      ]
     },
     "metadata": {},
     "output_type": "display_data"
    },
    {
     "data": {
      "text/html": [
       "<pre>| 81      | 1m 21s       | 1.99737                |</pre>"
      ],
      "text/plain": [
       "| 81      | 1m 21s       | 1.99737                |"
      ]
     },
     "metadata": {},
     "output_type": "display_data"
    },
    {
     "data": {
      "text/html": [
       "<pre>| 82      | 1m 22s       | 1.99713                |</pre>"
      ],
      "text/plain": [
       "| 82      | 1m 22s       | 1.99713                |"
      ]
     },
     "metadata": {},
     "output_type": "display_data"
    },
    {
     "data": {
      "text/html": [
       "<pre>| 83      | 1m 23s       | 1.99689                |</pre>"
      ],
      "text/plain": [
       "| 83      | 1m 23s       | 1.99689                |"
      ]
     },
     "metadata": {},
     "output_type": "display_data"
    },
    {
     "data": {
      "text/html": [
       "<pre>| 84      | 1m 24s       | 1.99666                |</pre>"
      ],
      "text/plain": [
       "| 84      | 1m 24s       | 1.99666                |"
      ]
     },
     "metadata": {},
     "output_type": "display_data"
    },
    {
     "data": {
      "text/html": [
       "<pre>| 85      | 1m 25s       | 1.99644                |</pre>"
      ],
      "text/plain": [
       "| 85      | 1m 25s       | 1.99644                |"
      ]
     },
     "metadata": {},
     "output_type": "display_data"
    },
    {
     "data": {
      "text/html": [
       "<pre>| 86      | 1m 26s       | 1.99622                |</pre>"
      ],
      "text/plain": [
       "| 86      | 1m 26s       | 1.99622                |"
      ]
     },
     "metadata": {},
     "output_type": "display_data"
    },
    {
     "data": {
      "text/html": [
       "<pre>| 87      | 1m 27s       | 1.99601                |</pre>"
      ],
      "text/plain": [
       "| 87      | 1m 27s       | 1.99601                |"
      ]
     },
     "metadata": {},
     "output_type": "display_data"
    },
    {
     "data": {
      "text/html": [
       "<pre>| 88      | 1m 28s       | 1.9958                 |</pre>"
      ],
      "text/plain": [
       "| 88      | 1m 28s       | 1.9958                 |"
      ]
     },
     "metadata": {},
     "output_type": "display_data"
    },
    {
     "data": {
      "text/html": [
       "<pre>| 89      | 1m 29s       | 1.9956                 |</pre>"
      ],
      "text/plain": [
       "| 89      | 1m 29s       | 1.9956                 |"
      ]
     },
     "metadata": {},
     "output_type": "display_data"
    },
    {
     "data": {
      "text/html": [
       "<pre>| 90      | 1m 30s       | 1.99539                |</pre>"
      ],
      "text/plain": [
       "| 90      | 1m 30s       | 1.99539                |"
      ]
     },
     "metadata": {},
     "output_type": "display_data"
    },
    {
     "data": {
      "text/html": [
       "<pre>| 91      | 1m 31s       | 1.99519                |</pre>"
      ],
      "text/plain": [
       "| 91      | 1m 31s       | 1.99519                |"
      ]
     },
     "metadata": {},
     "output_type": "display_data"
    },
    {
     "data": {
      "text/html": [
       "<pre>| 92      | 1m 32s       | 1.995                  |</pre>"
      ],
      "text/plain": [
       "| 92      | 1m 32s       | 1.995                  |"
      ]
     },
     "metadata": {},
     "output_type": "display_data"
    },
    {
     "data": {
      "text/html": [
       "<pre>| 93      | 1m 33s       | 1.99481                |</pre>"
      ],
      "text/plain": [
       "| 93      | 1m 33s       | 1.99481                |"
      ]
     },
     "metadata": {},
     "output_type": "display_data"
    },
    {
     "data": {
      "text/html": [
       "<pre>| 94      | 1m 34s       | 1.99462                |</pre>"
      ],
      "text/plain": [
       "| 94      | 1m 34s       | 1.99462                |"
      ]
     },
     "metadata": {},
     "output_type": "display_data"
    },
    {
     "data": {
      "text/html": [
       "<pre>| 95      | 1m 35s       | 1.99443                |</pre>"
      ],
      "text/plain": [
       "| 95      | 1m 35s       | 1.99443                |"
      ]
     },
     "metadata": {},
     "output_type": "display_data"
    },
    {
     "data": {
      "text/html": [
       "<pre>| 96      | 1m 36s       | 1.99425                |</pre>"
      ],
      "text/plain": [
       "| 96      | 1m 36s       | 1.99425                |"
      ]
     },
     "metadata": {},
     "output_type": "display_data"
    },
    {
     "data": {
      "text/html": [
       "<pre>| 97      | 1m 36s       | 1.99407                |</pre>"
      ],
      "text/plain": [
       "| 97      | 1m 36s       | 1.99407                |"
      ]
     },
     "metadata": {},
     "output_type": "display_data"
    },
    {
     "data": {
      "text/html": [
       "<pre>| 98      | 1m 37s       | 1.99389                |</pre>"
      ],
      "text/plain": [
       "| 98      | 1m 37s       | 1.99389                |"
      ]
     },
     "metadata": {},
     "output_type": "display_data"
    },
    {
     "data": {
      "text/html": [
       "<pre>| 99      | 1m 38s       | 1.99371                |</pre>"
      ],
      "text/plain": [
       "| 99      | 1m 38s       | 1.99371                |"
      ]
     },
     "metadata": {},
     "output_type": "display_data"
    },
    {
     "data": {
      "text/html": [
       "<pre>| 100     | 1m 39s       | 1.99354                |</pre>"
      ],
      "text/plain": [
       "| 100     | 1m 39s       | 1.99354                |"
      ]
     },
     "metadata": {},
     "output_type": "display_data"
    },
    {
     "data": {
      "text/html": [
       "<pre>| 101     | 1m 40s       | 1.99337                |</pre>"
      ],
      "text/plain": [
       "| 101     | 1m 40s       | 1.99337                |"
      ]
     },
     "metadata": {},
     "output_type": "display_data"
    },
    {
     "data": {
      "text/html": [
       "<pre>| 102     | 1m 41s       | 1.99321                |</pre>"
      ],
      "text/plain": [
       "| 102     | 1m 41s       | 1.99321                |"
      ]
     },
     "metadata": {},
     "output_type": "display_data"
    },
    {
     "data": {
      "text/html": [
       "<pre>| 103     | 1m 42s       | 1.99304                |</pre>"
      ],
      "text/plain": [
       "| 103     | 1m 42s       | 1.99304                |"
      ]
     },
     "metadata": {},
     "output_type": "display_data"
    },
    {
     "data": {
      "text/html": [
       "<pre>| 104     | 1m 43s       | 1.99288                |</pre>"
      ],
      "text/plain": [
       "| 104     | 1m 43s       | 1.99288                |"
      ]
     },
     "metadata": {},
     "output_type": "display_data"
    },
    {
     "data": {
      "text/html": [
       "<pre>| 105     | 1m 44s       | 1.99272                |</pre>"
      ],
      "text/plain": [
       "| 105     | 1m 44s       | 1.99272                |"
      ]
     },
     "metadata": {},
     "output_type": "display_data"
    },
    {
     "data": {
      "text/html": [
       "<pre>| 106     | 1m 45s       | 1.99256                |</pre>"
      ],
      "text/plain": [
       "| 106     | 1m 45s       | 1.99256                |"
      ]
     },
     "metadata": {},
     "output_type": "display_data"
    },
    {
     "data": {
      "text/html": [
       "<pre>| 107     | 1m 46s       | 1.9924                 |</pre>"
      ],
      "text/plain": [
       "| 107     | 1m 46s       | 1.9924                 |"
      ]
     },
     "metadata": {},
     "output_type": "display_data"
    },
    {
     "data": {
      "text/html": [
       "<pre>| 108     | 1m 47s       | 1.99225                |</pre>"
      ],
      "text/plain": [
       "| 108     | 1m 47s       | 1.99225                |"
      ]
     },
     "metadata": {},
     "output_type": "display_data"
    },
    {
     "data": {
      "text/html": [
       "<pre>| 109     | 1m 48s       | 1.9921                 |</pre>"
      ],
      "text/plain": [
       "| 109     | 1m 48s       | 1.9921                 |"
      ]
     },
     "metadata": {},
     "output_type": "display_data"
    },
    {
     "data": {
      "text/html": [
       "<pre>| 110     | 1m 49s       | 1.99194                |</pre>"
      ],
      "text/plain": [
       "| 110     | 1m 49s       | 1.99194                |"
      ]
     },
     "metadata": {},
     "output_type": "display_data"
    },
    {
     "data": {
      "text/html": [
       "<pre>| 111     | 1m 50s       | 1.99179                |</pre>"
      ],
      "text/plain": [
       "| 111     | 1m 50s       | 1.99179                |"
      ]
     },
     "metadata": {},
     "output_type": "display_data"
    },
    {
     "data": {
      "text/html": [
       "<pre>| 112     | 1m 51s       | 1.99164                |</pre>"
      ],
      "text/plain": [
       "| 112     | 1m 51s       | 1.99164                |"
      ]
     },
     "metadata": {},
     "output_type": "display_data"
    },
    {
     "data": {
      "text/html": [
       "<pre>| 113     | 1m 52s       | 1.99148                |</pre>"
      ],
      "text/plain": [
       "| 113     | 1m 52s       | 1.99148                |"
      ]
     },
     "metadata": {},
     "output_type": "display_data"
    },
    {
     "data": {
      "text/html": [
       "<pre>| 114     | 1m 53s       | 1.99133                |</pre>"
      ],
      "text/plain": [
       "| 114     | 1m 53s       | 1.99133                |"
      ]
     },
     "metadata": {},
     "output_type": "display_data"
    },
    {
     "data": {
      "text/html": [
       "<pre>| 115     | 1m 54s       | 1.99118                |</pre>"
      ],
      "text/plain": [
       "| 115     | 1m 54s       | 1.99118                |"
      ]
     },
     "metadata": {},
     "output_type": "display_data"
    },
    {
     "data": {
      "text/html": [
       "<pre>| 116     | 1m 55s       | 1.99103                |</pre>"
      ],
      "text/plain": [
       "| 116     | 1m 55s       | 1.99103                |"
      ]
     },
     "metadata": {},
     "output_type": "display_data"
    },
    {
     "data": {
      "text/html": [
       "<pre>| 117     | 1m 56s       | 1.99088                |</pre>"
      ],
      "text/plain": [
       "| 117     | 1m 56s       | 1.99088                |"
      ]
     },
     "metadata": {},
     "output_type": "display_data"
    },
    {
     "data": {
      "text/html": [
       "<pre>| 118     | 1m 57s       | 1.99073                |</pre>"
      ],
      "text/plain": [
       "| 118     | 1m 57s       | 1.99073                |"
      ]
     },
     "metadata": {},
     "output_type": "display_data"
    },
    {
     "data": {
      "text/html": [
       "<pre>| 119     | 1m 58s       | 1.99058                |</pre>"
      ],
      "text/plain": [
       "| 119     | 1m 58s       | 1.99058                |"
      ]
     },
     "metadata": {},
     "output_type": "display_data"
    },
    {
     "data": {
      "text/html": [
       "<pre>| 120     | 1m 59s       | 1.99043                |</pre>"
      ],
      "text/plain": [
       "| 120     | 1m 59s       | 1.99043                |"
      ]
     },
     "metadata": {},
     "output_type": "display_data"
    },
    {
     "data": {
      "text/html": [
       "<pre>| 121     | 2m 0s        | 1.99028                |</pre>"
      ],
      "text/plain": [
       "| 121     | 2m 0s        | 1.99028                |"
      ]
     },
     "metadata": {},
     "output_type": "display_data"
    },
    {
     "data": {
      "text/html": [
       "<pre>| 122     | 2m 1s        | 1.99014                |</pre>"
      ],
      "text/plain": [
       "| 122     | 2m 1s        | 1.99014                |"
      ]
     },
     "metadata": {},
     "output_type": "display_data"
    },
    {
     "data": {
      "text/html": [
       "<pre>| 123     | 2m 2s        | 1.98999                |</pre>"
      ],
      "text/plain": [
       "| 123     | 2m 2s        | 1.98999                |"
      ]
     },
     "metadata": {},
     "output_type": "display_data"
    },
    {
     "data": {
      "text/html": [
       "<pre>| 124     | 2m 3s        | 1.98985                |</pre>"
      ],
      "text/plain": [
       "| 124     | 2m 3s        | 1.98985                |"
      ]
     },
     "metadata": {},
     "output_type": "display_data"
    },
    {
     "data": {
      "text/html": [
       "<pre>| 125     | 2m 3s        | 1.9897                 |</pre>"
      ],
      "text/plain": [
       "| 125     | 2m 3s        | 1.9897                 |"
      ]
     },
     "metadata": {},
     "output_type": "display_data"
    },
    {
     "data": {
      "text/html": [
       "<pre>| 126     | 2m 4s        | 1.98956                |</pre>"
      ],
      "text/plain": [
       "| 126     | 2m 4s        | 1.98956                |"
      ]
     },
     "metadata": {},
     "output_type": "display_data"
    },
    {
     "data": {
      "text/html": [
       "<pre>| 127     | 2m 5s        | 1.98942                |</pre>"
      ],
      "text/plain": [
       "| 127     | 2m 5s        | 1.98942                |"
      ]
     },
     "metadata": {},
     "output_type": "display_data"
    },
    {
     "data": {
      "text/html": [
       "<pre>| 128     | 2m 6s        | 1.98928                |</pre>"
      ],
      "text/plain": [
       "| 128     | 2m 6s        | 1.98928                |"
      ]
     },
     "metadata": {},
     "output_type": "display_data"
    },
    {
     "data": {
      "text/html": [
       "<pre>| 129     | 2m 7s        | 1.98913                |</pre>"
      ],
      "text/plain": [
       "| 129     | 2m 7s        | 1.98913                |"
      ]
     },
     "metadata": {},
     "output_type": "display_data"
    },
    {
     "data": {
      "text/html": [
       "<pre>| 130     | 2m 8s        | 1.98899                |</pre>"
      ],
      "text/plain": [
       "| 130     | 2m 8s        | 1.98899                |"
      ]
     },
     "metadata": {},
     "output_type": "display_data"
    },
    {
     "data": {
      "text/html": [
       "<pre>| 131     | 2m 9s        | 1.98884                |</pre>"
      ],
      "text/plain": [
       "| 131     | 2m 9s        | 1.98884                |"
      ]
     },
     "metadata": {},
     "output_type": "display_data"
    },
    {
     "data": {
      "text/html": [
       "<pre>| 132     | 2m 10s       | 1.98869                |</pre>"
      ],
      "text/plain": [
       "| 132     | 2m 10s       | 1.98869                |"
      ]
     },
     "metadata": {},
     "output_type": "display_data"
    },
    {
     "data": {
      "text/html": [
       "<pre>| 133     | 2m 11s       | 1.98854                |</pre>"
      ],
      "text/plain": [
       "| 133     | 2m 11s       | 1.98854                |"
      ]
     },
     "metadata": {},
     "output_type": "display_data"
    },
    {
     "data": {
      "text/html": [
       "<pre>| 134     | 2m 12s       | 1.98841                |</pre>"
      ],
      "text/plain": [
       "| 134     | 2m 12s       | 1.98841                |"
      ]
     },
     "metadata": {},
     "output_type": "display_data"
    },
    {
     "data": {
      "text/html": [
       "<pre>| 135     | 2m 13s       | 1.98827                |</pre>"
      ],
      "text/plain": [
       "| 135     | 2m 13s       | 1.98827                |"
      ]
     },
     "metadata": {},
     "output_type": "display_data"
    },
    {
     "data": {
      "text/html": [
       "<pre>| 136     | 2m 14s       | 1.98814                |</pre>"
      ],
      "text/plain": [
       "| 136     | 2m 14s       | 1.98814                |"
      ]
     },
     "metadata": {},
     "output_type": "display_data"
    },
    {
     "data": {
      "text/html": [
       "<pre>| 137     | 2m 15s       | 1.98801                |</pre>"
      ],
      "text/plain": [
       "| 137     | 2m 15s       | 1.98801                |"
      ]
     },
     "metadata": {},
     "output_type": "display_data"
    },
    {
     "data": {
      "text/html": [
       "<pre>| 138     | 2m 16s       | 1.98789                |</pre>"
      ],
      "text/plain": [
       "| 138     | 2m 16s       | 1.98789                |"
      ]
     },
     "metadata": {},
     "output_type": "display_data"
    },
    {
     "data": {
      "text/html": [
       "<pre>| 139     | 2m 17s       | 1.98776                |</pre>"
      ],
      "text/plain": [
       "| 139     | 2m 17s       | 1.98776                |"
      ]
     },
     "metadata": {},
     "output_type": "display_data"
    },
    {
     "data": {
      "text/html": [
       "<pre>| 140     | 2m 18s       | 1.98764                |</pre>"
      ],
      "text/plain": [
       "| 140     | 2m 18s       | 1.98764                |"
      ]
     },
     "metadata": {},
     "output_type": "display_data"
    },
    {
     "data": {
      "text/html": [
       "<pre>| 141     | 2m 19s       | 1.98752                |</pre>"
      ],
      "text/plain": [
       "| 141     | 2m 19s       | 1.98752                |"
      ]
     },
     "metadata": {},
     "output_type": "display_data"
    },
    {
     "data": {
      "text/html": [
       "<pre>| 142     | 2m 20s       | 1.9874                 |</pre>"
      ],
      "text/plain": [
       "| 142     | 2m 20s       | 1.9874                 |"
      ]
     },
     "metadata": {},
     "output_type": "display_data"
    },
    {
     "data": {
      "text/html": [
       "<pre>| 143     | 2m 21s       | 1.98729                |</pre>"
      ],
      "text/plain": [
       "| 143     | 2m 21s       | 1.98729                |"
      ]
     },
     "metadata": {},
     "output_type": "display_data"
    },
    {
     "data": {
      "text/html": [
       "<pre>| 144     | 2m 22s       | 1.98717                |</pre>"
      ],
      "text/plain": [
       "| 144     | 2m 22s       | 1.98717                |"
      ]
     },
     "metadata": {},
     "output_type": "display_data"
    },
    {
     "data": {
      "text/html": [
       "<pre>| 145     | 2m 23s       | 1.98706                |</pre>"
      ],
      "text/plain": [
       "| 145     | 2m 23s       | 1.98706                |"
      ]
     },
     "metadata": {},
     "output_type": "display_data"
    },
    {
     "data": {
      "text/html": [
       "<pre>| 146     | 2m 24s       | 1.98695                |</pre>"
      ],
      "text/plain": [
       "| 146     | 2m 24s       | 1.98695                |"
      ]
     },
     "metadata": {},
     "output_type": "display_data"
    },
    {
     "data": {
      "text/html": [
       "<pre>| 147     | 2m 25s       | 1.98684                |</pre>"
      ],
      "text/plain": [
       "| 147     | 2m 25s       | 1.98684                |"
      ]
     },
     "metadata": {},
     "output_type": "display_data"
    },
    {
     "data": {
      "text/html": [
       "<pre>| 148     | 2m 26s       | 1.98673                |</pre>"
      ],
      "text/plain": [
       "| 148     | 2m 26s       | 1.98673                |"
      ]
     },
     "metadata": {},
     "output_type": "display_data"
    },
    {
     "data": {
      "text/html": [
       "<pre>| 149     | 2m 27s       | 1.98662                |</pre>"
      ],
      "text/plain": [
       "| 149     | 2m 27s       | 1.98662                |"
      ]
     },
     "metadata": {},
     "output_type": "display_data"
    },
    {
     "data": {
      "text/html": [
       "<pre>| 150     | 2m 28s       | 1.98651                |</pre>"
      ],
      "text/plain": [
       "| 150     | 2m 28s       | 1.98651                |"
      ]
     },
     "metadata": {},
     "output_type": "display_data"
    },
    {
     "data": {
      "text/html": [
       "<pre>| 151     | 2m 30s       | 1.9864                 |</pre>"
      ],
      "text/plain": [
       "| 151     | 2m 30s       | 1.9864                 |"
      ]
     },
     "metadata": {},
     "output_type": "display_data"
    },
    {
     "data": {
      "text/html": [
       "<pre>| 152     | 2m 31s       | 1.98629                |</pre>"
      ],
      "text/plain": [
       "| 152     | 2m 31s       | 1.98629                |"
      ]
     },
     "metadata": {},
     "output_type": "display_data"
    },
    {
     "data": {
      "text/html": [
       "<pre>| 153     | 2m 32s       | 1.98619                |</pre>"
      ],
      "text/plain": [
       "| 153     | 2m 32s       | 1.98619                |"
      ]
     },
     "metadata": {},
     "output_type": "display_data"
    },
    {
     "data": {
      "text/html": [
       "<pre>| 154     | 2m 33s       | 1.98608                |</pre>"
      ],
      "text/plain": [
       "| 154     | 2m 33s       | 1.98608                |"
      ]
     },
     "metadata": {},
     "output_type": "display_data"
    },
    {
     "data": {
      "text/html": [
       "<pre>| 155     | 2m 34s       | 1.98598                |</pre>"
      ],
      "text/plain": [
       "| 155     | 2m 34s       | 1.98598                |"
      ]
     },
     "metadata": {},
     "output_type": "display_data"
    },
    {
     "data": {
      "text/html": [
       "<pre>| 156     | 2m 35s       | 1.98588                |</pre>"
      ],
      "text/plain": [
       "| 156     | 2m 35s       | 1.98588                |"
      ]
     },
     "metadata": {},
     "output_type": "display_data"
    },
    {
     "data": {
      "text/html": [
       "<pre>| 157     | 2m 36s       | 1.98578                |</pre>"
      ],
      "text/plain": [
       "| 157     | 2m 36s       | 1.98578                |"
      ]
     },
     "metadata": {},
     "output_type": "display_data"
    },
    {
     "data": {
      "text/html": [
       "<pre>| 158     | 2m 37s       | 1.98568                |</pre>"
      ],
      "text/plain": [
       "| 158     | 2m 37s       | 1.98568                |"
      ]
     },
     "metadata": {},
     "output_type": "display_data"
    },
    {
     "data": {
      "text/html": [
       "<pre>| 159     | 2m 38s       | 1.98558                |</pre>"
      ],
      "text/plain": [
       "| 159     | 2m 38s       | 1.98558                |"
      ]
     },
     "metadata": {},
     "output_type": "display_data"
    },
    {
     "data": {
      "text/html": [
       "<pre>| 160     | 2m 39s       | 1.98548                |</pre>"
      ],
      "text/plain": [
       "| 160     | 2m 39s       | 1.98548                |"
      ]
     },
     "metadata": {},
     "output_type": "display_data"
    },
    {
     "data": {
      "text/html": [
       "<pre>| 161     | 2m 40s       | 1.98538                |</pre>"
      ],
      "text/plain": [
       "| 161     | 2m 40s       | 1.98538                |"
      ]
     },
     "metadata": {},
     "output_type": "display_data"
    },
    {
     "data": {
      "text/html": [
       "<pre>| 162     | 2m 41s       | 1.98529                |</pre>"
      ],
      "text/plain": [
       "| 162     | 2m 41s       | 1.98529                |"
      ]
     },
     "metadata": {},
     "output_type": "display_data"
    },
    {
     "data": {
      "text/html": [
       "<pre>| 163     | 2m 42s       | 1.9852                 |</pre>"
      ],
      "text/plain": [
       "| 163     | 2m 42s       | 1.9852                 |"
      ]
     },
     "metadata": {},
     "output_type": "display_data"
    },
    {
     "data": {
      "text/html": [
       "<pre>| 164     | 2m 43s       | 1.9851                 |</pre>"
      ],
      "text/plain": [
       "| 164     | 2m 43s       | 1.9851                 |"
      ]
     },
     "metadata": {},
     "output_type": "display_data"
    },
    {
     "data": {
      "text/html": [
       "<pre>| 165     | 2m 44s       | 1.98501                |</pre>"
      ],
      "text/plain": [
       "| 165     | 2m 44s       | 1.98501                |"
      ]
     },
     "metadata": {},
     "output_type": "display_data"
    },
    {
     "data": {
      "text/html": [
       "<pre>| 166     | 2m 45s       | 1.98492                |</pre>"
      ],
      "text/plain": [
       "| 166     | 2m 45s       | 1.98492                |"
      ]
     },
     "metadata": {},
     "output_type": "display_data"
    },
    {
     "data": {
      "text/html": [
       "<pre>| 167     | 2m 46s       | 1.98483                |</pre>"
      ],
      "text/plain": [
       "| 167     | 2m 46s       | 1.98483                |"
      ]
     },
     "metadata": {},
     "output_type": "display_data"
    },
    {
     "data": {
      "text/html": [
       "<pre>| 168     | 2m 47s       | 1.98474                |</pre>"
      ],
      "text/plain": [
       "| 168     | 2m 47s       | 1.98474                |"
      ]
     },
     "metadata": {},
     "output_type": "display_data"
    },
    {
     "data": {
      "text/html": [
       "<pre>| 169     | 2m 47s       | 1.98466                |</pre>"
      ],
      "text/plain": [
       "| 169     | 2m 47s       | 1.98466                |"
      ]
     },
     "metadata": {},
     "output_type": "display_data"
    },
    {
     "data": {
      "text/html": [
       "<pre>| 170     | 2m 48s       | 1.98457                |</pre>"
      ],
      "text/plain": [
       "| 170     | 2m 48s       | 1.98457                |"
      ]
     },
     "metadata": {},
     "output_type": "display_data"
    },
    {
     "data": {
      "text/html": [
       "<pre>| 171     | 2m 49s       | 1.98448                |</pre>"
      ],
      "text/plain": [
       "| 171     | 2m 49s       | 1.98448                |"
      ]
     },
     "metadata": {},
     "output_type": "display_data"
    },
    {
     "data": {
      "text/html": [
       "<pre>| 172     | 2m 50s       | 1.9844                 |</pre>"
      ],
      "text/plain": [
       "| 172     | 2m 50s       | 1.9844                 |"
      ]
     },
     "metadata": {},
     "output_type": "display_data"
    },
    {
     "data": {
      "text/html": [
       "<pre>| 173     | 2m 51s       | 1.98432                |</pre>"
      ],
      "text/plain": [
       "| 173     | 2m 51s       | 1.98432                |"
      ]
     },
     "metadata": {},
     "output_type": "display_data"
    },
    {
     "data": {
      "text/html": [
       "<pre>| 174     | 2m 52s       | 1.98423                |</pre>"
      ],
      "text/plain": [
       "| 174     | 2m 52s       | 1.98423                |"
      ]
     },
     "metadata": {},
     "output_type": "display_data"
    },
    {
     "data": {
      "text/html": [
       "<pre>| 175     | 2m 53s       | 1.98415                |</pre>"
      ],
      "text/plain": [
       "| 175     | 2m 53s       | 1.98415                |"
      ]
     },
     "metadata": {},
     "output_type": "display_data"
    },
    {
     "data": {
      "text/html": [
       "<pre>| 176     | 2m 54s       | 1.98407                |</pre>"
      ],
      "text/plain": [
       "| 176     | 2m 54s       | 1.98407                |"
      ]
     },
     "metadata": {},
     "output_type": "display_data"
    },
    {
     "data": {
      "text/html": [
       "<pre>| 177     | 2m 55s       | 1.98399                |</pre>"
      ],
      "text/plain": [
       "| 177     | 2m 55s       | 1.98399                |"
      ]
     },
     "metadata": {},
     "output_type": "display_data"
    },
    {
     "data": {
      "text/html": [
       "<pre>| 178     | 2m 56s       | 1.9839                 |</pre>"
      ],
      "text/plain": [
       "| 178     | 2m 56s       | 1.9839                 |"
      ]
     },
     "metadata": {},
     "output_type": "display_data"
    },
    {
     "data": {
      "text/html": [
       "<pre>| 179     | 2m 57s       | 1.98382                |</pre>"
      ],
      "text/plain": [
       "| 179     | 2m 57s       | 1.98382                |"
      ]
     },
     "metadata": {},
     "output_type": "display_data"
    },
    {
     "data": {
      "text/html": [
       "<pre>| 180     | 2m 58s       | 1.98374                |</pre>"
      ],
      "text/plain": [
       "| 180     | 2m 58s       | 1.98374                |"
      ]
     },
     "metadata": {},
     "output_type": "display_data"
    },
    {
     "data": {
      "text/html": [
       "<pre>| 181     | 2m 59s       | 1.98366                |</pre>"
      ],
      "text/plain": [
       "| 181     | 2m 59s       | 1.98366                |"
      ]
     },
     "metadata": {},
     "output_type": "display_data"
    },
    {
     "data": {
      "text/html": [
       "<pre>| 182     | 3m 0s        | 1.98358                |</pre>"
      ],
      "text/plain": [
       "| 182     | 3m 0s        | 1.98358                |"
      ]
     },
     "metadata": {},
     "output_type": "display_data"
    },
    {
     "data": {
      "text/html": [
       "<pre>| 183     | 3m 1s        | 1.98351                |</pre>"
      ],
      "text/plain": [
       "| 183     | 3m 1s        | 1.98351                |"
      ]
     },
     "metadata": {},
     "output_type": "display_data"
    },
    {
     "data": {
      "text/html": [
       "<pre>| 184     | 3m 2s        | 1.98343                |</pre>"
      ],
      "text/plain": [
       "| 184     | 3m 2s        | 1.98343                |"
      ]
     },
     "metadata": {},
     "output_type": "display_data"
    },
    {
     "data": {
      "text/html": [
       "<pre>| 185     | 3m 3s        | 1.98335                |</pre>"
      ],
      "text/plain": [
       "| 185     | 3m 3s        | 1.98335                |"
      ]
     },
     "metadata": {},
     "output_type": "display_data"
    },
    {
     "data": {
      "text/html": [
       "<pre>| 186     | 3m 4s        | 1.98328                |</pre>"
      ],
      "text/plain": [
       "| 186     | 3m 4s        | 1.98328                |"
      ]
     },
     "metadata": {},
     "output_type": "display_data"
    },
    {
     "data": {
      "text/html": [
       "<pre>| 187     | 3m 5s        | 1.9832                 |</pre>"
      ],
      "text/plain": [
       "| 187     | 3m 5s        | 1.9832                 |"
      ]
     },
     "metadata": {},
     "output_type": "display_data"
    },
    {
     "data": {
      "text/html": [
       "<pre>| 188     | 3m 5s        | 1.98313                |</pre>"
      ],
      "text/plain": [
       "| 188     | 3m 5s        | 1.98313                |"
      ]
     },
     "metadata": {},
     "output_type": "display_data"
    },
    {
     "data": {
      "text/html": [
       "<pre>| 189     | 3m 6s        | 1.98305                |</pre>"
      ],
      "text/plain": [
       "| 189     | 3m 6s        | 1.98305                |"
      ]
     },
     "metadata": {},
     "output_type": "display_data"
    },
    {
     "data": {
      "text/html": [
       "<pre>| 190     | 3m 7s        | 1.98298                |</pre>"
      ],
      "text/plain": [
       "| 190     | 3m 7s        | 1.98298                |"
      ]
     },
     "metadata": {},
     "output_type": "display_data"
    },
    {
     "data": {
      "text/html": [
       "<pre>| 191     | 3m 8s        | 1.9829                 |</pre>"
      ],
      "text/plain": [
       "| 191     | 3m 8s        | 1.9829                 |"
      ]
     },
     "metadata": {},
     "output_type": "display_data"
    },
    {
     "data": {
      "text/html": [
       "<pre>| 192     | 3m 9s        | 1.98283                |</pre>"
      ],
      "text/plain": [
       "| 192     | 3m 9s        | 1.98283                |"
      ]
     },
     "metadata": {},
     "output_type": "display_data"
    },
    {
     "data": {
      "text/html": [
       "<pre>| 193     | 3m 10s       | 1.98275                |</pre>"
      ],
      "text/plain": [
       "| 193     | 3m 10s       | 1.98275                |"
      ]
     },
     "metadata": {},
     "output_type": "display_data"
    },
    {
     "data": {
      "text/html": [
       "<pre>| 194     | 3m 11s       | 1.98267                |</pre>"
      ],
      "text/plain": [
       "| 194     | 3m 11s       | 1.98267                |"
      ]
     },
     "metadata": {},
     "output_type": "display_data"
    },
    {
     "data": {
      "text/html": [
       "<pre>| 195     | 3m 12s       | 1.98259                |</pre>"
      ],
      "text/plain": [
       "| 195     | 3m 12s       | 1.98259                |"
      ]
     },
     "metadata": {},
     "output_type": "display_data"
    },
    {
     "data": {
      "text/html": [
       "<pre>| 196     | 3m 13s       | 1.9825                 |</pre>"
      ],
      "text/plain": [
       "| 196     | 3m 13s       | 1.9825                 |"
      ]
     },
     "metadata": {},
     "output_type": "display_data"
    },
    {
     "data": {
      "text/html": [
       "<pre>| 197     | 3m 14s       | 1.98242                |</pre>"
      ],
      "text/plain": [
       "| 197     | 3m 14s       | 1.98242                |"
      ]
     },
     "metadata": {},
     "output_type": "display_data"
    },
    {
     "data": {
      "text/html": [
       "<pre>| 198     | 3m 15s       | 1.98234                |</pre>"
      ],
      "text/plain": [
       "| 198     | 3m 15s       | 1.98234                |"
      ]
     },
     "metadata": {},
     "output_type": "display_data"
    },
    {
     "data": {
      "text/html": [
       "<pre>| 199     | 3m 16s       | 1.98226                |</pre>"
      ],
      "text/plain": [
       "| 199     | 3m 16s       | 1.98226                |"
      ]
     },
     "metadata": {},
     "output_type": "display_data"
    },
    {
     "data": {
      "text/html": [
       "<pre>| FINAL   | 3m 16s       | 1.98226                |</pre>"
      ],
      "text/plain": [
       "| FINAL   | 3m 16s       | 1.98226                |"
      ]
     },
     "metadata": {},
     "output_type": "display_data"
    },
    {
     "data": {
      "text/html": [
       "<pre>+---------+--------------+------------------------+</pre>"
      ],
      "text/plain": [
       "+---------+--------------+------------------------+"
      ]
     },
     "metadata": {},
     "output_type": "display_data"
    },
    {
     "data": {
      "text/html": [
       "<pre>Optimization Complete: Iteration limit reached.</pre>"
      ],
      "text/plain": [
       "Optimization Complete: Iteration limit reached."
      ]
     },
     "metadata": {},
     "output_type": "display_data"
    }
   ],
   "source": [
    "rec_als = graphlab.recommender.factorization_recommender.create(\n",
    "                sf_train,\n",
    "                user_id='user_id',\n",
    "                item_id='joke_id',\n",
    "                target='rating',\n",
    "                solver='als',\n",
    "                regularization=1e-08,  #default is 1e-08; change to 1e-06 not help\n",
    "                linear_regularization=1e-8, #default is 1e-10 \n",
    "                max_iterations=200,\n",
    "                num_factors=20,\n",
    "                side_data_factorization=False)"
   ]
  },
  {
   "cell_type": "code",
   "execution_count": 77,
   "metadata": {},
   "outputs": [
    {
     "data": {
      "text/html": [
       "<div>\n",
       "<table border=\"1\" class=\"dataframe\">\n",
       "  <thead>\n",
       "    <tr style=\"text-align: right;\">\n",
       "      <th></th>\n",
       "      <th>user_id</th>\n",
       "      <th>joke_id</th>\n",
       "      <th>rating_target</th>\n",
       "    </tr>\n",
       "  </thead>\n",
       "  <tbody>\n",
       "    <tr>\n",
       "      <th>0</th>\n",
       "      <td>30762</td>\n",
       "      <td>24</td>\n",
       "      <td>-2.561652</td>\n",
       "    </tr>\n",
       "    <tr>\n",
       "      <th>1</th>\n",
       "      <td>54667</td>\n",
       "      <td>128</td>\n",
       "      <td>21.910599</td>\n",
       "    </tr>\n",
       "    <tr>\n",
       "      <th>2</th>\n",
       "      <td>38515</td>\n",
       "      <td>68</td>\n",
       "      <td>6.970868</td>\n",
       "    </tr>\n",
       "    <tr>\n",
       "      <th>3</th>\n",
       "      <td>44643</td>\n",
       "      <td>39</td>\n",
       "      <td>4.055817</td>\n",
       "    </tr>\n",
       "    <tr>\n",
       "      <th>4</th>\n",
       "      <td>58677</td>\n",
       "      <td>13</td>\n",
       "      <td>4.745552</td>\n",
       "    </tr>\n",
       "  </tbody>\n",
       "</table>\n",
       "</div>"
      ],
      "text/plain": [
       "   user_id  joke_id  rating_target\n",
       "0    30762       24      -2.561652\n",
       "1    54667      128      21.910599\n",
       "2    38515       68       6.970868\n",
       "3    44643       39       4.055817\n",
       "4    58677       13       4.745552"
      ]
     },
     "execution_count": 77,
     "metadata": {},
     "output_type": "execute_result"
    }
   ],
   "source": [
    "sf_test = graphlab.SFrame(df_test[['user_id', 'joke_id']])\n",
    "test_als_pred = rec_als.predict(sf_test)\n",
    "sf_test_als = sf_test.copy()\n",
    "sf_test_als['rating_target'] = test_als_pred\n",
    "df_test_als = sf_test_als.to_dataframe()\n",
    "df_test_als.head()"
   ]
  },
  {
   "cell_type": "code",
   "execution_count": 78,
   "metadata": {},
   "outputs": [
    {
     "data": {
      "text/plain": [
       "2.7183156863807025"
      ]
     },
     "execution_count": 78,
     "metadata": {},
     "output_type": "execute_result"
    }
   ],
   "source": [
    "score_top_5_percent(df_test_als)"
   ]
  },
  {
   "cell_type": "markdown",
   "metadata": {},
   "source": [
    "# BEST ONE!!!!!!"
   ]
  },
  {
   "cell_type": "code",
   "execution_count": null,
   "metadata": {
    "collapsed": true
   },
   "outputs": [],
   "source": []
  }
 ],
 "metadata": {
  "kernelspec": {
   "display_name": "Python 2",
   "language": "python",
   "name": "python2"
  },
  "language_info": {
   "codemirror_mode": {
    "name": "ipython",
    "version": 2
   },
   "file_extension": ".py",
   "mimetype": "text/x-python",
   "name": "python",
   "nbconvert_exporter": "python",
   "pygments_lexer": "ipython2",
   "version": "2.7.13"
  }
 },
 "nbformat": 4,
 "nbformat_minor": 1
}
