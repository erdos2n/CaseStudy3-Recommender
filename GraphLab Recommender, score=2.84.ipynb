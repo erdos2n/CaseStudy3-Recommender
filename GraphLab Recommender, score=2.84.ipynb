{
 "cells": [
  {
   "cell_type": "code",
   "execution_count": 18,
   "metadata": {
    "collapsed": false
   },
   "outputs": [],
   "source": [
    "from recommender import Recommender\n",
    "import pandas as pd\n",
    "import numpy as np\n",
    "from scoring import *\n",
    "import graphlab\n",
    "import matplotlib.pyplot as plt\n",
    "%matplotlib inline"
   ]
  },
  {
   "cell_type": "code",
   "execution_count": 4,
   "metadata": {
    "collapsed": true
   },
   "outputs": [],
   "source": [
    "df_train = pd.read_csv('jester_train.csv')\n",
    "df_test = pd.read_csv('jester_test.csv')"
   ]
  },
  {
   "cell_type": "code",
   "execution_count": 5,
   "metadata": {
    "collapsed": false
   },
   "outputs": [
    {
     "data": {
      "text/html": [
       "<div>\n",
       "<table border=\"1\" class=\"dataframe\">\n",
       "  <thead>\n",
       "    <tr style=\"text-align: right;\">\n",
       "      <th></th>\n",
       "      <th>user_id</th>\n",
       "      <th>joke_id</th>\n",
       "      <th>rating</th>\n",
       "    </tr>\n",
       "  </thead>\n",
       "  <tbody>\n",
       "    <tr>\n",
       "      <th>0</th>\n",
       "      <td>7302</td>\n",
       "      <td>29</td>\n",
       "      <td>7.156</td>\n",
       "    </tr>\n",
       "    <tr>\n",
       "      <th>1</th>\n",
       "      <td>61815</td>\n",
       "      <td>46</td>\n",
       "      <td>6.375</td>\n",
       "    </tr>\n",
       "    <tr>\n",
       "      <th>2</th>\n",
       "      <td>31128</td>\n",
       "      <td>96</td>\n",
       "      <td>2.281</td>\n",
       "    </tr>\n",
       "    <tr>\n",
       "      <th>3</th>\n",
       "      <td>36125</td>\n",
       "      <td>147</td>\n",
       "      <td>-1.781</td>\n",
       "    </tr>\n",
       "    <tr>\n",
       "      <th>4</th>\n",
       "      <td>18007</td>\n",
       "      <td>60</td>\n",
       "      <td>2.188</td>\n",
       "    </tr>\n",
       "  </tbody>\n",
       "</table>\n",
       "</div>"
      ],
      "text/plain": [
       "   user_id  joke_id  rating\n",
       "0     7302       29   7.156\n",
       "1    61815       46   6.375\n",
       "2    31128       96   2.281\n",
       "3    36125      147  -1.781\n",
       "4    18007       60   2.188"
      ]
     },
     "execution_count": 5,
     "metadata": {},
     "output_type": "execute_result"
    }
   ],
   "source": [
    "df_train.head()"
   ]
  },
  {
   "cell_type": "code",
   "execution_count": 6,
   "metadata": {
    "collapsed": true
   },
   "outputs": [
    {
     "name": "stdout",
     "output_type": "stream",
     "text": [
      "This non-commercial license of GraphLab Create for academic use is assigned to yanmi617@gmail.com and will expire on September 18, 2017.\n"
     ]
    },
    {
     "name": "stderr",
     "output_type": "stream",
     "text": [
      "[INFO] graphlab.cython.cy_server: GraphLab Create v2.1 started. Logging: /tmp/graphlab_server_1494875611.log\n"
     ]
    },
    {
     "data": {
      "text/html": [
       "<div style=\"max-height:1000px;max-width:1500px;overflow:auto;\"><table frame=\"box\" rules=\"cols\">\n",
       "    <tr>\n",
       "        <th style=\"padding-left: 1em; padding-right: 1em; text-align: center\">user_id</th>\n",
       "        <th style=\"padding-left: 1em; padding-right: 1em; text-align: center\">joke_id</th>\n",
       "        <th style=\"padding-left: 1em; padding-right: 1em; text-align: center\">rating</th>\n",
       "    </tr>\n",
       "    <tr>\n",
       "        <td style=\"padding-left: 1em; padding-right: 1em; text-align: center; vertical-align: top\">7302</td>\n",
       "        <td style=\"padding-left: 1em; padding-right: 1em; text-align: center; vertical-align: top\">29</td>\n",
       "        <td style=\"padding-left: 1em; padding-right: 1em; text-align: center; vertical-align: top\">7.156</td>\n",
       "    </tr>\n",
       "    <tr>\n",
       "        <td style=\"padding-left: 1em; padding-right: 1em; text-align: center; vertical-align: top\">61815</td>\n",
       "        <td style=\"padding-left: 1em; padding-right: 1em; text-align: center; vertical-align: top\">46</td>\n",
       "        <td style=\"padding-left: 1em; padding-right: 1em; text-align: center; vertical-align: top\">6.375</td>\n",
       "    </tr>\n",
       "    <tr>\n",
       "        <td style=\"padding-left: 1em; padding-right: 1em; text-align: center; vertical-align: top\">31128</td>\n",
       "        <td style=\"padding-left: 1em; padding-right: 1em; text-align: center; vertical-align: top\">96</td>\n",
       "        <td style=\"padding-left: 1em; padding-right: 1em; text-align: center; vertical-align: top\">2.281</td>\n",
       "    </tr>\n",
       "    <tr>\n",
       "        <td style=\"padding-left: 1em; padding-right: 1em; text-align: center; vertical-align: top\">36125</td>\n",
       "        <td style=\"padding-left: 1em; padding-right: 1em; text-align: center; vertical-align: top\">147</td>\n",
       "        <td style=\"padding-left: 1em; padding-right: 1em; text-align: center; vertical-align: top\">-1.781</td>\n",
       "    </tr>\n",
       "    <tr>\n",
       "        <td style=\"padding-left: 1em; padding-right: 1em; text-align: center; vertical-align: top\">18007</td>\n",
       "        <td style=\"padding-left: 1em; padding-right: 1em; text-align: center; vertical-align: top\">60</td>\n",
       "        <td style=\"padding-left: 1em; padding-right: 1em; text-align: center; vertical-align: top\">2.188</td>\n",
       "    </tr>\n",
       "    <tr>\n",
       "        <td style=\"padding-left: 1em; padding-right: 1em; text-align: center; vertical-align: top\">7387</td>\n",
       "        <td style=\"padding-left: 1em; padding-right: 1em; text-align: center; vertical-align: top\">99</td>\n",
       "        <td style=\"padding-left: 1em; padding-right: 1em; text-align: center; vertical-align: top\">3.594</td>\n",
       "    </tr>\n",
       "    <tr>\n",
       "        <td style=\"padding-left: 1em; padding-right: 1em; text-align: center; vertical-align: top\">12007</td>\n",
       "        <td style=\"padding-left: 1em; padding-right: 1em; text-align: center; vertical-align: top\">18</td>\n",
       "        <td style=\"padding-left: 1em; padding-right: 1em; text-align: center; vertical-align: top\">-2.094</td>\n",
       "    </tr>\n",
       "    <tr>\n",
       "        <td style=\"padding-left: 1em; padding-right: 1em; text-align: center; vertical-align: top\">30302</td>\n",
       "        <td style=\"padding-left: 1em; padding-right: 1em; text-align: center; vertical-align: top\">105</td>\n",
       "        <td style=\"padding-left: 1em; padding-right: 1em; text-align: center; vertical-align: top\">5.406</td>\n",
       "    </tr>\n",
       "    <tr>\n",
       "        <td style=\"padding-left: 1em; padding-right: 1em; text-align: center; vertical-align: top\">46742</td>\n",
       "        <td style=\"padding-left: 1em; padding-right: 1em; text-align: center; vertical-align: top\">8</td>\n",
       "        <td style=\"padding-left: 1em; padding-right: 1em; text-align: center; vertical-align: top\">1.562</td>\n",
       "    </tr>\n",
       "    <tr>\n",
       "        <td style=\"padding-left: 1em; padding-right: 1em; text-align: center; vertical-align: top\">26187</td>\n",
       "        <td style=\"padding-left: 1em; padding-right: 1em; text-align: center; vertical-align: top\">125</td>\n",
       "        <td style=\"padding-left: 1em; padding-right: 1em; text-align: center; vertical-align: top\">1.312</td>\n",
       "    </tr>\n",
       "</table>\n",
       "[1000000 rows x 3 columns]<br/>Note: Only the head of the SFrame is printed.<br/>You can use print_rows(num_rows=m, num_columns=n) to print more rows and columns.\n",
       "</div>"
      ],
      "text/plain": [
       "Columns:\n",
       "\tuser_id\tint\n",
       "\tjoke_id\tint\n",
       "\trating\tfloat\n",
       "\n",
       "Rows: 1000000\n",
       "\n",
       "Data:\n",
       "+---------+---------+--------+\n",
       "| user_id | joke_id | rating |\n",
       "+---------+---------+--------+\n",
       "|   7302  |    29   | 7.156  |\n",
       "|  61815  |    46   | 6.375  |\n",
       "|  31128  |    96   | 2.281  |\n",
       "|  36125  |   147   | -1.781 |\n",
       "|  18007  |    60   | 2.188  |\n",
       "|   7387  |    99   | 3.594  |\n",
       "|  12007  |    18   | -2.094 |\n",
       "|  30302  |   105   | 5.406  |\n",
       "|  46742  |    8    | 1.562  |\n",
       "|  26187  |   125   | 1.312  |\n",
       "+---------+---------+--------+\n",
       "[1000000 rows x 3 columns]\n",
       "Note: Only the head of the SFrame is printed.\n",
       "You can use print_rows(num_rows=m, num_columns=n) to print more rows and columns."
      ]
     },
     "execution_count": 6,
     "metadata": {},
     "output_type": "execute_result"
    }
   ],
   "source": [
    "sf_train = graphlab.SFrame(df_train[['user_id', 'joke_id', 'rating']])\n",
    "sf_train"
   ]
  },
  {
   "cell_type": "code",
   "execution_count": 19,
   "metadata": {
    "collapsed": false
   },
   "outputs": [
    {
     "data": {
      "text/plain": [
       "(array([  61126.,   51836.,   64556.,   73284.,   85347.,  143491.,\n",
       "         153289.,  133086.,  108448.,  125537.]),\n",
       " array([-10.,  -8.,  -6.,  -4.,  -2.,   0.,   2.,   4.,   6.,   8.,  10.]),\n",
       " <a list of 10 Patch objects>)"
      ]
     },
     "execution_count": 19,
     "metadata": {},
     "output_type": "execute_result"
    },
    {
     "data": {
      "image/png": "[encoded data removed]",
      "text/plain": [
       "<matplotlib.figure.Figure at 0x131759a10>"
      ]
     },
     "metadata": {},
     "output_type": "display_data"
    }
   ],
   "source": [
    "plt.hist(df_train['rating'].values)"
   ]
  },
  {
   "cell_type": "markdown",
   "metadata": {},
   "source": [
    "## ALS (Alternating Least Squares)"
   ]
  },
  {
   "cell_type": "code",
   "execution_count": 61,
   "metadata": {
    "collapsed": true
   },
   "outputs": [
    {
     "data": {
      "text/html": [
       "<pre>Recsys training: model = factorization_recommender</pre>"
      ],
      "text/plain": [
       "Recsys training: model = factorization_recommender"
      ]
     },
     "metadata": {},
     "output_type": "display_data"
    },
    {
     "data": {
      "text/html": [
       "<pre>Preparing data set.</pre>"
      ],
      "text/plain": [
       "Preparing data set."
      ]
     },
     "metadata": {},
     "output_type": "display_data"
    },
    {
     "data": {
      "text/html": [
       "<pre>    Data has 1000000 observations with 58125 users and 140 items.</pre>"
      ],
      "text/plain": [
       "    Data has 1000000 observations with 58125 users and 140 items."
      ]
     },
     "metadata": {},
     "output_type": "display_data"
    },
    {
     "data": {
      "text/html": [
       "<pre>    Data prepared in: 1.38414s</pre>"
      ],
      "text/plain": [
       "    Data prepared in: 1.38414s"
      ]
     },
     "metadata": {},
     "output_type": "display_data"
    },
    {
     "data": {
      "text/html": [
       "<pre>Training factorization_recommender for recommendations.</pre>"
      ],
      "text/plain": [
       "Training factorization_recommender for recommendations."
      ]
     },
     "metadata": {},
     "output_type": "display_data"
    },
    {
     "data": {
      "text/html": [
       "<pre>+------------------------------+--------------------------------------------------+----------+</pre>"
      ],
      "text/plain": [
       "+------------------------------+--------------------------------------------------+----------+"
      ]
     },
     "metadata": {},
     "output_type": "display_data"
    },
    {
     "data": {
      "text/html": [
       "<pre>| Parameter                    | Description                                      | Value    |</pre>"
      ],
      "text/plain": [
       "| Parameter                    | Description                                      | Value    |"
      ]
     },
     "metadata": {},
     "output_type": "display_data"
    },
    {
     "data": {
      "text/html": [
       "<pre>+------------------------------+--------------------------------------------------+----------+</pre>"
      ],
      "text/plain": [
       "+------------------------------+--------------------------------------------------+----------+"
      ]
     },
     "metadata": {},
     "output_type": "display_data"
    },
    {
     "data": {
      "text/html": [
       "<pre>| num_factors                  | Factor Dimension                                 | 20       |</pre>"
      ],
      "text/plain": [
       "| num_factors                  | Factor Dimension                                 | 20       |"
      ]
     },
     "metadata": {},
     "output_type": "display_data"
    },
    {
     "data": {
      "text/html": [
       "<pre>| regularization               | L2 Regularization on Factors                     | 1e-08    |</pre>"
      ],
      "text/plain": [
       "| regularization               | L2 Regularization on Factors                     | 1e-08    |"
      ]
     },
     "metadata": {},
     "output_type": "display_data"
    },
    {
     "data": {
      "text/html": [
       "<pre>| max_iterations               | Maximum Number of Iterations                     | 300      |</pre>"
      ],
      "text/plain": [
       "| max_iterations               | Maximum Number of Iterations                     | 300      |"
      ]
     },
     "metadata": {},
     "output_type": "display_data"
    },
    {
     "data": {
      "text/html": [
       "<pre>| solver                       | Solver used for training                         | als      |</pre>"
      ],
      "text/plain": [
       "| solver                       | Solver used for training                         | als      |"
      ]
     },
     "metadata": {},
     "output_type": "display_data"
    },
    {
     "data": {
      "text/html": [
       "<pre>+------------------------------+--------------------------------------------------+----------+</pre>"
      ],
      "text/plain": [
       "+------------------------------+--------------------------------------------------+----------+"
      ]
     },
     "metadata": {},
     "output_type": "display_data"
    },
    {
     "data": {
      "text/html": [
       "<pre>+---------+--------------+------------------------+</pre>"
      ],
      "text/plain": [
       "+---------+--------------+------------------------+"
      ]
     },
     "metadata": {},
     "output_type": "display_data"
    },
    {
     "data": {
      "text/html": [
       "<pre>| Iter.   | Elapsed time | RMSE                   |</pre>"
      ],
      "text/plain": [
       "| Iter.   | Elapsed time | RMSE                   |"
      ]
     },
     "metadata": {},
     "output_type": "display_data"
    },
    {
     "data": {
      "text/html": [
       "<pre>+---------+--------------+------------------------+</pre>"
      ],
      "text/plain": [
       "+---------+--------------+------------------------+"
      ]
     },
     "metadata": {},
     "output_type": "display_data"
    },
    {
     "data": {
      "text/html": [
       "<pre>| Initial | 94us         | NA                     |</pre>"
      ],
      "text/plain": [
       "| Initial | 94us         | NA                     |"
      ]
     },
     "metadata": {},
     "output_type": "display_data"
    },
    {
     "data": {
      "text/html": [
       "<pre>+---------+--------------+------------------------+</pre>"
      ],
      "text/plain": [
       "+---------+--------------+------------------------+"
      ]
     },
     "metadata": {},
     "output_type": "display_data"
    },
    {
     "data": {
      "text/html": [
       "<pre>| 0       | 1.39s        | 3.54647                |</pre>"
      ],
      "text/plain": [
       "| 0       | 1.39s        | 3.54647                |"
      ]
     },
     "metadata": {},
     "output_type": "display_data"
    },
    {
     "data": {
      "text/html": [
       "<pre>| 1       | 2.69s        | 2.22387                |</pre>"
      ],
      "text/plain": [
       "| 1       | 2.69s        | 2.22387                |"
      ]
     },
     "metadata": {},
     "output_type": "display_data"
    },
    {
     "data": {
      "text/html": [
       "<pre>| 2       | 4.05s        | 2.19023                |</pre>"
      ],
      "text/plain": [
       "| 2       | 4.05s        | 2.19023                |"
      ]
     },
     "metadata": {},
     "output_type": "display_data"
    },
    {
     "data": {
      "text/html": [
       "<pre>| 3       | 5.72s        | 2.1669                 |</pre>"
      ],
      "text/plain": [
       "| 3       | 5.72s        | 2.1669                 |"
      ]
     },
     "metadata": {},
     "output_type": "display_data"
    },
    {
     "data": {
      "text/html": [
       "<pre>| 4       | 7.24s        | 2.14872                |</pre>"
      ],
      "text/plain": [
       "| 4       | 7.24s        | 2.14872                |"
      ]
     },
     "metadata": {},
     "output_type": "display_data"
    },
    {
     "data": {
      "text/html": [
       "<pre>| 5       | 8.62s        | 2.13385                |</pre>"
      ],
      "text/plain": [
       "| 5       | 8.62s        | 2.13385                |"
      ]
     },
     "metadata": {},
     "output_type": "display_data"
    },
    {
     "data": {
      "text/html": [
       "<pre>| 6       | 9.91s        | 2.12135                |</pre>"
      ],
      "text/plain": [
       "| 6       | 9.91s        | 2.12135                |"
      ]
     },
     "metadata": {},
     "output_type": "display_data"
    },
    {
     "data": {
      "text/html": [
       "<pre>| 7       | 11.20s       | 2.11078                |</pre>"
      ],
      "text/plain": [
       "| 7       | 11.20s       | 2.11078                |"
      ]
     },
     "metadata": {},
     "output_type": "display_data"
    },
    {
     "data": {
      "text/html": [
       "<pre>| 8       | 12.48s       | 2.10174                |</pre>"
      ],
      "text/plain": [
       "| 8       | 12.48s       | 2.10174                |"
      ]
     },
     "metadata": {},
     "output_type": "display_data"
    },
    {
     "data": {
      "text/html": [
       "<pre>| 9       | 13.76s       | 2.09386                |</pre>"
      ],
      "text/plain": [
       "| 9       | 13.76s       | 2.09386                |"
      ]
     },
     "metadata": {},
     "output_type": "display_data"
    },
    {
     "data": {
      "text/html": [
       "<pre>| 10      | 15.02s       | 2.0869                 |</pre>"
      ],
      "text/plain": [
       "| 10      | 15.02s       | 2.0869                 |"
      ]
     },
     "metadata": {},
     "output_type": "display_data"
    },
    {
     "data": {
      "text/html": [
       "<pre>| 11      | 16.29s       | 2.08074                |</pre>"
      ],
      "text/plain": [
       "| 11      | 16.29s       | 2.08074                |"
      ]
     },
     "metadata": {},
     "output_type": "display_data"
    },
    {
     "data": {
      "text/html": [
       "<pre>| 12      | 17.55s       | 2.07521                |</pre>"
      ],
      "text/plain": [
       "| 12      | 17.55s       | 2.07521                |"
      ]
     },
     "metadata": {},
     "output_type": "display_data"
    },
    {
     "data": {
      "text/html": [
       "<pre>| 13      | 18.82s       | 2.07022                |</pre>"
      ],
      "text/plain": [
       "| 13      | 18.82s       | 2.07022                |"
      ]
     },
     "metadata": {},
     "output_type": "display_data"
    },
    {
     "data": {
      "text/html": [
       "<pre>| 14      | 20.11s       | 2.06571                |</pre>"
      ],
      "text/plain": [
       "| 14      | 20.11s       | 2.06571                |"
      ]
     },
     "metadata": {},
     "output_type": "display_data"
    },
    {
     "data": {
      "text/html": [
       "<pre>| 15      | 21.35s       | 2.06162                |</pre>"
      ],
      "text/plain": [
       "| 15      | 21.35s       | 2.06162                |"
      ]
     },
     "metadata": {},
     "output_type": "display_data"
    },
    {
     "data": {
      "text/html": [
       "<pre>| 16      | 22.63s       | 2.05793                |</pre>"
      ],
      "text/plain": [
       "| 16      | 22.63s       | 2.05793                |"
      ]
     },
     "metadata": {},
     "output_type": "display_data"
    },
    {
     "data": {
      "text/html": [
       "<pre>| 17      | 23.89s       | 2.05456                |</pre>"
      ],
      "text/plain": [
       "| 17      | 23.89s       | 2.05456                |"
      ]
     },
     "metadata": {},
     "output_type": "display_data"
    },
    {
     "data": {
      "text/html": [
       "<pre>| 18      | 25.16s       | 2.05147                |</pre>"
      ],
      "text/plain": [
       "| 18      | 25.16s       | 2.05147                |"
      ]
     },
     "metadata": {},
     "output_type": "display_data"
    },
    {
     "data": {
      "text/html": [
       "<pre>| 19      | 26.44s       | 2.04861                |</pre>"
      ],
      "text/plain": [
       "| 19      | 26.44s       | 2.04861                |"
      ]
     },
     "metadata": {},
     "output_type": "display_data"
    },
    {
     "data": {
      "text/html": [
       "<pre>| 20      | 27.72s       | 2.04595                |</pre>"
      ],
      "text/plain": [
       "| 20      | 27.72s       | 2.04595                |"
      ]
     },
     "metadata": {},
     "output_type": "display_data"
    },
    {
     "data": {
      "text/html": [
       "<pre>| 21      | 28.99s       | 2.04345                |</pre>"
      ],
      "text/plain": [
       "| 21      | 28.99s       | 2.04345                |"
      ]
     },
     "metadata": {},
     "output_type": "display_data"
    },
    {
     "data": {
      "text/html": [
       "<pre>| 22      | 30.28s       | 2.04112                |</pre>"
      ],
      "text/plain": [
       "| 22      | 30.28s       | 2.04112                |"
      ]
     },
     "metadata": {},
     "output_type": "display_data"
    },
    {
     "data": {
      "text/html": [
       "<pre>| 23      | 31.56s       | 2.03894                |</pre>"
      ],
      "text/plain": [
       "| 23      | 31.56s       | 2.03894                |"
      ]
     },
     "metadata": {},
     "output_type": "display_data"
    },
    {
     "data": {
      "text/html": [
       "<pre>| 24      | 32.87s       | 2.03689                |</pre>"
      ],
      "text/plain": [
       "| 24      | 32.87s       | 2.03689                |"
      ]
     },
     "metadata": {},
     "output_type": "display_data"
    },
    {
     "data": {
      "text/html": [
       "<pre>| 25      | 34.16s       | 2.03497                |</pre>"
      ],
      "text/plain": [
       "| 25      | 34.16s       | 2.03497                |"
      ]
     },
     "metadata": {},
     "output_type": "display_data"
    },
    {
     "data": {
      "text/html": [
       "<pre>| 26      | 35.42s       | 2.03319                |</pre>"
      ],
      "text/plain": [
       "| 26      | 35.42s       | 2.03319                |"
      ]
     },
     "metadata": {},
     "output_type": "display_data"
    },
    {
     "data": {
      "text/html": [
       "<pre>| 27      | 36.68s       | 2.03153                |</pre>"
      ],
      "text/plain": [
       "| 27      | 36.68s       | 2.03153                |"
      ]
     },
     "metadata": {},
     "output_type": "display_data"
    },
    {
     "data": {
      "text/html": [
       "<pre>| 28      | 37.95s       | 2.02997                |</pre>"
      ],
      "text/plain": [
       "| 28      | 37.95s       | 2.02997                |"
      ]
     },
     "metadata": {},
     "output_type": "display_data"
    },
    {
     "data": {
      "text/html": [
       "<pre>| 29      | 39.23s       | 2.0285                 |</pre>"
      ],
      "text/plain": [
       "| 29      | 39.23s       | 2.0285                 |"
      ]
     },
     "metadata": {},
     "output_type": "display_data"
    },
    {
     "data": {
      "text/html": [
       "<pre>| 30      | 40.49s       | 2.02711                |</pre>"
      ],
      "text/plain": [
       "| 30      | 40.49s       | 2.02711                |"
      ]
     },
     "metadata": {},
     "output_type": "display_data"
    },
    {
     "data": {
      "text/html": [
       "<pre>| 31      | 41.76s       | 2.02579                |</pre>"
      ],
      "text/plain": [
       "| 31      | 41.76s       | 2.02579                |"
      ]
     },
     "metadata": {},
     "output_type": "display_data"
    },
    {
     "data": {
      "text/html": [
       "<pre>| 32      | 43.03s       | 2.02454                |</pre>"
      ],
      "text/plain": [
       "| 32      | 43.03s       | 2.02454                |"
      ]
     },
     "metadata": {},
     "output_type": "display_data"
    },
    {
     "data": {
      "text/html": [
       "<pre>| 33      | 44.35s       | 2.02334                |</pre>"
      ],
      "text/plain": [
       "| 33      | 44.35s       | 2.02334                |"
      ]
     },
     "metadata": {},
     "output_type": "display_data"
    },
    {
     "data": {
      "text/html": [
       "<pre>| 34      | 45.66s       | 2.0222                 |</pre>"
      ],
      "text/plain": [
       "| 34      | 45.66s       | 2.0222                 |"
      ]
     },
     "metadata": {},
     "output_type": "display_data"
    },
    {
     "data": {
      "text/html": [
       "<pre>| 35      | 46.93s       | 2.0211                 |</pre>"
      ],
      "text/plain": [
       "| 35      | 46.93s       | 2.0211                 |"
      ]
     },
     "metadata": {},
     "output_type": "display_data"
    },
    {
     "data": {
      "text/html": [
       "<pre>| 36      | 48.24s       | 2.02005                |</pre>"
      ],
      "text/plain": [
       "| 36      | 48.24s       | 2.02005                |"
      ]
     },
     "metadata": {},
     "output_type": "display_data"
    },
    {
     "data": {
      "text/html": [
       "<pre>| 37      | 49.53s       | 2.01904                |</pre>"
      ],
      "text/plain": [
       "| 37      | 49.53s       | 2.01904                |"
      ]
     },
     "metadata": {},
     "output_type": "display_data"
    },
    {
     "data": {
      "text/html": [
       "<pre>| 38      | 50.80s       | 2.01806                |</pre>"
      ],
      "text/plain": [
       "| 38      | 50.80s       | 2.01806                |"
      ]
     },
     "metadata": {},
     "output_type": "display_data"
    },
    {
     "data": {
      "text/html": [
       "<pre>| 39      | 52.07s       | 2.01713                |</pre>"
      ],
      "text/plain": [
       "| 39      | 52.07s       | 2.01713                |"
      ]
     },
     "metadata": {},
     "output_type": "display_data"
    },
    {
     "data": {
      "text/html": [
       "<pre>| 40      | 53.33s       | 2.01623                |</pre>"
      ],
      "text/plain": [
       "| 40      | 53.33s       | 2.01623                |"
      ]
     },
     "metadata": {},
     "output_type": "display_data"
    },
    {
     "data": {
      "text/html": [
       "<pre>| 41      | 54.59s       | 2.01537                |</pre>"
      ],
      "text/plain": [
       "| 41      | 54.59s       | 2.01537                |"
      ]
     },
     "metadata": {},
     "output_type": "display_data"
    },
    {
     "data": {
      "text/html": [
       "<pre>| 42      | 55.84s       | 2.01454                |</pre>"
      ],
      "text/plain": [
       "| 42      | 55.84s       | 2.01454                |"
      ]
     },
     "metadata": {},
     "output_type": "display_data"
    },
    {
     "data": {
      "text/html": [
       "<pre>| 43      | 57.11s       | 2.01375                |</pre>"
      ],
      "text/plain": [
       "| 43      | 57.11s       | 2.01375                |"
      ]
     },
     "metadata": {},
     "output_type": "display_data"
    },
    {
     "data": {
      "text/html": [
       "<pre>| 44      | 58.39s       | 2.013                  |</pre>"
      ],
      "text/plain": [
       "| 44      | 58.39s       | 2.013                  |"
      ]
     },
     "metadata": {},
     "output_type": "display_data"
    },
    {
     "data": {
      "text/html": [
       "<pre>| 45      | 59.66s       | 2.01228                |</pre>"
      ],
      "text/plain": [
       "| 45      | 59.66s       | 2.01228                |"
      ]
     },
     "metadata": {},
     "output_type": "display_data"
    },
    {
     "data": {
      "text/html": [
       "<pre>| 46      | 1m 0s        | 2.01159                |</pre>"
      ],
      "text/plain": [
       "| 46      | 1m 0s        | 2.01159                |"
      ]
     },
     "metadata": {},
     "output_type": "display_data"
    },
    {
     "data": {
      "text/html": [
       "<pre>| 47      | 1m 2s        | 2.01093                |</pre>"
      ],
      "text/plain": [
       "| 47      | 1m 2s        | 2.01093                |"
      ]
     },
     "metadata": {},
     "output_type": "display_data"
    },
    {
     "data": {
      "text/html": [
       "<pre>| 48      | 1m 3s        | 2.0103                 |</pre>"
      ],
      "text/plain": [
       "| 48      | 1m 3s        | 2.0103                 |"
      ]
     },
     "metadata": {},
     "output_type": "display_data"
    },
    {
     "data": {
      "text/html": [
       "<pre>| 49      | 1m 4s        | 2.00969                |</pre>"
      ],
      "text/plain": [
       "| 49      | 1m 4s        | 2.00969                |"
      ]
     },
     "metadata": {},
     "output_type": "display_data"
    },
    {
     "data": {
      "text/html": [
       "<pre>| 50      | 1m 5s        | 2.00911                |</pre>"
      ],
      "text/plain": [
       "| 50      | 1m 5s        | 2.00911                |"
      ]
     },
     "metadata": {},
     "output_type": "display_data"
    },
    {
     "data": {
      "text/html": [
       "<pre>| 51      | 1m 7s        | 2.00855                |</pre>"
      ],
      "text/plain": [
       "| 51      | 1m 7s        | 2.00855                |"
      ]
     },
     "metadata": {},
     "output_type": "display_data"
    },
    {
     "data": {
      "text/html": [
       "<pre>| 52      | 1m 8s        | 2.00801                |</pre>"
      ],
      "text/plain": [
       "| 52      | 1m 8s        | 2.00801                |"
      ]
     },
     "metadata": {},
     "output_type": "display_data"
    },
    {
     "data": {
      "text/html": [
       "<pre>| 53      | 1m 9s        | 2.00749                |</pre>"
      ],
      "text/plain": [
       "| 53      | 1m 9s        | 2.00749                |"
      ]
     },
     "metadata": {},
     "output_type": "display_data"
    },
    {
     "data": {
      "text/html": [
       "<pre>| 54      | 1m 11s       | 2.00699                |</pre>"
      ],
      "text/plain": [
       "| 54      | 1m 11s       | 2.00699                |"
      ]
     },
     "metadata": {},
     "output_type": "display_data"
    },
    {
     "data": {
      "text/html": [
       "<pre>| 55      | 1m 12s       | 2.00651                |</pre>"
      ],
      "text/plain": [
       "| 55      | 1m 12s       | 2.00651                |"
      ]
     },
     "metadata": {},
     "output_type": "display_data"
    },
    {
     "data": {
      "text/html": [
       "<pre>| 56      | 1m 13s       | 2.00604                |</pre>"
      ],
      "text/plain": [
       "| 56      | 1m 13s       | 2.00604                |"
      ]
     },
     "metadata": {},
     "output_type": "display_data"
    },
    {
     "data": {
      "text/html": [
       "<pre>| 57      | 1m 14s       | 2.00558                |</pre>"
      ],
      "text/plain": [
       "| 57      | 1m 14s       | 2.00558                |"
      ]
     },
     "metadata": {},
     "output_type": "display_data"
    },
    {
     "data": {
      "text/html": [
       "<pre>| 58      | 1m 16s       | 2.00514                |</pre>"
      ],
      "text/plain": [
       "| 58      | 1m 16s       | 2.00514                |"
      ]
     },
     "metadata": {},
     "output_type": "display_data"
    },
    {
     "data": {
      "text/html": [
       "<pre>| 59      | 1m 17s       | 2.00471                |</pre>"
      ],
      "text/plain": [
       "| 59      | 1m 17s       | 2.00471                |"
      ]
     },
     "metadata": {},
     "output_type": "display_data"
    },
    {
     "data": {
      "text/html": [
       "<pre>| 60      | 1m 18s       | 2.00428                |</pre>"
      ],
      "text/plain": [
       "| 60      | 1m 18s       | 2.00428                |"
      ]
     },
     "metadata": {},
     "output_type": "display_data"
    },
    {
     "data": {
      "text/html": [
       "<pre>| 61      | 1m 20s       | 2.00387                |</pre>"
      ],
      "text/plain": [
       "| 61      | 1m 20s       | 2.00387                |"
      ]
     },
     "metadata": {},
     "output_type": "display_data"
    },
    {
     "data": {
      "text/html": [
       "<pre>| 62      | 1m 21s       | 2.00346                |</pre>"
      ],
      "text/plain": [
       "| 62      | 1m 21s       | 2.00346                |"
      ]
     },
     "metadata": {},
     "output_type": "display_data"
    },
    {
     "data": {
      "text/html": [
       "<pre>| 63      | 1m 23s       | 2.00306                |</pre>"
      ],
      "text/plain": [
       "| 63      | 1m 23s       | 2.00306                |"
      ]
     },
     "metadata": {},
     "output_type": "display_data"
    },
    {
     "data": {
      "text/html": [
       "<pre>| 64      | 1m 24s       | 2.00267                |</pre>"
      ],
      "text/plain": [
       "| 64      | 1m 24s       | 2.00267                |"
      ]
     },
     "metadata": {},
     "output_type": "display_data"
    },
    {
     "data": {
      "text/html": [
       "<pre>| 65      | 1m 26s       | 2.00229                |</pre>"
      ],
      "text/plain": [
       "| 65      | 1m 26s       | 2.00229                |"
      ]
     },
     "metadata": {},
     "output_type": "display_data"
    },
    {
     "data": {
      "text/html": [
       "<pre>| 66      | 1m 28s       | 2.00192                |</pre>"
      ],
      "text/plain": [
       "| 66      | 1m 28s       | 2.00192                |"
      ]
     },
     "metadata": {},
     "output_type": "display_data"
    },
    {
     "data": {
      "text/html": [
       "<pre>| 67      | 1m 29s       | 2.00155                |</pre>"
      ],
      "text/plain": [
       "| 67      | 1m 29s       | 2.00155                |"
      ]
     },
     "metadata": {},
     "output_type": "display_data"
    },
    {
     "data": {
      "text/html": [
       "<pre>| 68      | 1m 31s       | 2.00119                |</pre>"
      ],
      "text/plain": [
       "| 68      | 1m 31s       | 2.00119                |"
      ]
     },
     "metadata": {},
     "output_type": "display_data"
    },
    {
     "data": {
      "text/html": [
       "<pre>| 69      | 1m 33s       | 2.00084                |</pre>"
      ],
      "text/plain": [
       "| 69      | 1m 33s       | 2.00084                |"
      ]
     },
     "metadata": {},
     "output_type": "display_data"
    },
    {
     "data": {
      "text/html": [
       "<pre>| 70      | 1m 34s       | 2.0005                 |</pre>"
      ],
      "text/plain": [
       "| 70      | 1m 34s       | 2.0005                 |"
      ]
     },
     "metadata": {},
     "output_type": "display_data"
    },
    {
     "data": {
      "text/html": [
       "<pre>| 71      | 1m 36s       | 2.00018                |</pre>"
      ],
      "text/plain": [
       "| 71      | 1m 36s       | 2.00018                |"
      ]
     },
     "metadata": {},
     "output_type": "display_data"
    },
    {
     "data": {
      "text/html": [
       "<pre>| 72      | 1m 37s       | 1.99986                |</pre>"
      ],
      "text/plain": [
       "| 72      | 1m 37s       | 1.99986                |"
      ]
     },
     "metadata": {},
     "output_type": "display_data"
    },
    {
     "data": {
      "text/html": [
       "<pre>| 73      | 1m 38s       | 1.99955                |</pre>"
      ],
      "text/plain": [
       "| 73      | 1m 38s       | 1.99955                |"
      ]
     },
     "metadata": {},
     "output_type": "display_data"
    },
    {
     "data": {
      "text/html": [
       "<pre>| 74      | 1m 40s       | 1.99925                |</pre>"
      ],
      "text/plain": [
       "| 74      | 1m 40s       | 1.99925                |"
      ]
     },
     "metadata": {},
     "output_type": "display_data"
    },
    {
     "data": {
      "text/html": [
       "<pre>| 75      | 1m 41s       | 1.99895                |</pre>"
      ],
      "text/plain": [
       "| 75      | 1m 41s       | 1.99895                |"
      ]
     },
     "metadata": {},
     "output_type": "display_data"
    },
    {
     "data": {
      "text/html": [
       "<pre>| 76      | 1m 42s       | 1.99867                |</pre>"
      ],
      "text/plain": [
       "| 76      | 1m 42s       | 1.99867                |"
      ]
     },
     "metadata": {},
     "output_type": "display_data"
    },
    {
     "data": {
      "text/html": [
       "<pre>| 77      | 1m 43s       | 1.9984                 |</pre>"
      ],
      "text/plain": [
       "| 77      | 1m 43s       | 1.9984                 |"
      ]
     },
     "metadata": {},
     "output_type": "display_data"
    },
    {
     "data": {
      "text/html": [
       "<pre>| 78      | 1m 45s       | 1.99813                |</pre>"
      ],
      "text/plain": [
       "| 78      | 1m 45s       | 1.99813                |"
      ]
     },
     "metadata": {},
     "output_type": "display_data"
    },
    {
     "data": {
      "text/html": [
       "<pre>| 79      | 1m 46s       | 1.99787                |</pre>"
      ],
      "text/plain": [
       "| 79      | 1m 46s       | 1.99787                |"
      ]
     },
     "metadata": {},
     "output_type": "display_data"
    },
    {
     "data": {
      "text/html": [
       "<pre>| 80      | 1m 47s       | 1.99762                |</pre>"
      ],
      "text/plain": [
       "| 80      | 1m 47s       | 1.99762                |"
      ]
     },
     "metadata": {},
     "output_type": "display_data"
    },
    {
     "data": {
      "text/html": [
       "<pre>| 81      | 1m 49s       | 1.99737                |</pre>"
      ],
      "text/plain": [
       "| 81      | 1m 49s       | 1.99737                |"
      ]
     },
     "metadata": {},
     "output_type": "display_data"
    },
    {
     "data": {
      "text/html": [
       "<pre>| 82      | 1m 50s       | 1.99713                |</pre>"
      ],
      "text/plain": [
       "| 82      | 1m 50s       | 1.99713                |"
      ]
     },
     "metadata": {},
     "output_type": "display_data"
    },
    {
     "data": {
      "text/html": [
       "<pre>| 83      | 1m 51s       | 1.99689                |</pre>"
      ],
      "text/plain": [
       "| 83      | 1m 51s       | 1.99689                |"
      ]
     },
     "metadata": {},
     "output_type": "display_data"
    },
    {
     "data": {
      "text/html": [
       "<pre>| 84      | 1m 52s       | 1.99666                |</pre>"
      ],
      "text/plain": [
       "| 84      | 1m 52s       | 1.99666                |"
      ]
     },
     "metadata": {},
     "output_type": "display_data"
    },
    {
     "data": {
      "text/html": [
       "<pre>| 85      | 1m 54s       | 1.99644                |</pre>"
      ],
      "text/plain": [
       "| 85      | 1m 54s       | 1.99644                |"
      ]
     },
     "metadata": {},
     "output_type": "display_data"
    },
    {
     "data": {
      "text/html": [
       "<pre>| 86      | 1m 55s       | 1.99622                |</pre>"
      ],
      "text/plain": [
       "| 86      | 1m 55s       | 1.99622                |"
      ]
     },
     "metadata": {},
     "output_type": "display_data"
    },
    {
     "data": {
      "text/html": [
       "<pre>| 87      | 1m 56s       | 1.99601                |</pre>"
      ],
      "text/plain": [
       "| 87      | 1m 56s       | 1.99601                |"
      ]
     },
     "metadata": {},
     "output_type": "display_data"
    },
    {
     "data": {
      "text/html": [
       "<pre>| 88      | 1m 57s       | 1.9958                 |</pre>"
      ],
      "text/plain": [
       "| 88      | 1m 57s       | 1.9958                 |"
      ]
     },
     "metadata": {},
     "output_type": "display_data"
    },
    {
     "data": {
      "text/html": [
       "<pre>| 89      | 1m 59s       | 1.9956                 |</pre>"
      ],
      "text/plain": [
       "| 89      | 1m 59s       | 1.9956                 |"
      ]
     },
     "metadata": {},
     "output_type": "display_data"
    },
    {
     "data": {
      "text/html": [
       "<pre>| 90      | 2m 0s        | 1.99539                |</pre>"
      ],
      "text/plain": [
       "| 90      | 2m 0s        | 1.99539                |"
      ]
     },
     "metadata": {},
     "output_type": "display_data"
    },
    {
     "data": {
      "text/html": [
       "<pre>| 91      | 2m 1s        | 1.99519                |</pre>"
      ],
      "text/plain": [
       "| 91      | 2m 1s        | 1.99519                |"
      ]
     },
     "metadata": {},
     "output_type": "display_data"
    },
    {
     "data": {
      "text/html": [
       "<pre>| 92      | 2m 3s        | 1.995                  |</pre>"
      ],
      "text/plain": [
       "| 92      | 2m 3s        | 1.995                  |"
      ]
     },
     "metadata": {},
     "output_type": "display_data"
    },
    {
     "data": {
      "text/html": [
       "<pre>| 93      | 2m 4s        | 1.99481                |</pre>"
      ],
      "text/plain": [
       "| 93      | 2m 4s        | 1.99481                |"
      ]
     },
     "metadata": {},
     "output_type": "display_data"
    },
    {
     "data": {
      "text/html": [
       "<pre>| 94      | 2m 5s        | 1.99462                |</pre>"
      ],
      "text/plain": [
       "| 94      | 2m 5s        | 1.99462                |"
      ]
     },
     "metadata": {},
     "output_type": "display_data"
    },
    {
     "data": {
      "text/html": [
       "<pre>| 95      | 2m 7s        | 1.99443                |</pre>"
      ],
      "text/plain": [
       "| 95      | 2m 7s        | 1.99443                |"
      ]
     },
     "metadata": {},
     "output_type": "display_data"
    },
    {
     "data": {
      "text/html": [
       "<pre>| 96      | 2m 8s        | 1.99425                |</pre>"
      ],
      "text/plain": [
       "| 96      | 2m 8s        | 1.99425                |"
      ]
     },
     "metadata": {},
     "output_type": "display_data"
    },
    {
     "data": {
      "text/html": [
       "<pre>| 97      | 2m 9s        | 1.99407                |</pre>"
      ],
      "text/plain": [
       "| 97      | 2m 9s        | 1.99407                |"
      ]
     },
     "metadata": {},
     "output_type": "display_data"
    },
    {
     "data": {
      "text/html": [
       "<pre>| 98      | 2m 11s       | 1.99389                |</pre>"
      ],
      "text/plain": [
       "| 98      | 2m 11s       | 1.99389                |"
      ]
     },
     "metadata": {},
     "output_type": "display_data"
    },
    {
     "data": {
      "text/html": [
       "<pre>| 99      | 2m 12s       | 1.99371                |</pre>"
      ],
      "text/plain": [
       "| 99      | 2m 12s       | 1.99371                |"
      ]
     },
     "metadata": {},
     "output_type": "display_data"
    },
    {
     "data": {
      "text/html": [
       "<pre>| 100     | 2m 13s       | 1.99354                |</pre>"
      ],
      "text/plain": [
       "| 100     | 2m 13s       | 1.99354                |"
      ]
     },
     "metadata": {},
     "output_type": "display_data"
    },
    {
     "data": {
      "text/html": [
       "<pre>| 101     | 2m 15s       | 1.99337                |</pre>"
      ],
      "text/plain": [
       "| 101     | 2m 15s       | 1.99337                |"
      ]
     },
     "metadata": {},
     "output_type": "display_data"
    },
    {
     "data": {
      "text/html": [
       "<pre>| 102     | 2m 16s       | 1.99321                |</pre>"
      ],
      "text/plain": [
       "| 102     | 2m 16s       | 1.99321                |"
      ]
     },
     "metadata": {},
     "output_type": "display_data"
    },
    {
     "data": {
      "text/html": [
       "<pre>| 103     | 2m 17s       | 1.99304                |</pre>"
      ],
      "text/plain": [
       "| 103     | 2m 17s       | 1.99304                |"
      ]
     },
     "metadata": {},
     "output_type": "display_data"
    },
    {
     "data": {
      "text/html": [
       "<pre>| 104     | 2m 19s       | 1.99288                |</pre>"
      ],
      "text/plain": [
       "| 104     | 2m 19s       | 1.99288                |"
      ]
     },
     "metadata": {},
     "output_type": "display_data"
    },
    {
     "data": {
      "text/html": [
       "<pre>| 105     | 2m 20s       | 1.99272                |</pre>"
      ],
      "text/plain": [
       "| 105     | 2m 20s       | 1.99272                |"
      ]
     },
     "metadata": {},
     "output_type": "display_data"
    },
    {
     "data": {
      "text/html": [
       "<pre>| 106     | 2m 21s       | 1.99256                |</pre>"
      ],
      "text/plain": [
       "| 106     | 2m 21s       | 1.99256                |"
      ]
     },
     "metadata": {},
     "output_type": "display_data"
    },
    {
     "data": {
      "text/html": [
       "<pre>| 107     | 2m 23s       | 1.9924                 |</pre>"
      ],
      "text/plain": [
       "| 107     | 2m 23s       | 1.9924                 |"
      ]
     },
     "metadata": {},
     "output_type": "display_data"
    },
    {
     "data": {
      "text/html": [
       "<pre>| 108     | 2m 24s       | 1.99225                |</pre>"
      ],
      "text/plain": [
       "| 108     | 2m 24s       | 1.99225                |"
      ]
     },
     "metadata": {},
     "output_type": "display_data"
    },
    {
     "data": {
      "text/html": [
       "<pre>| 109     | 2m 25s       | 1.9921                 |</pre>"
      ],
      "text/plain": [
       "| 109     | 2m 25s       | 1.9921                 |"
      ]
     },
     "metadata": {},
     "output_type": "display_data"
    },
    {
     "data": {
      "text/html": [
       "<pre>| 110     | 2m 27s       | 1.99194                |</pre>"
      ],
      "text/plain": [
       "| 110     | 2m 27s       | 1.99194                |"
      ]
     },
     "metadata": {},
     "output_type": "display_data"
    },
    {
     "data": {
      "text/html": [
       "<pre>| 111     | 2m 28s       | 1.99179                |</pre>"
      ],
      "text/plain": [
       "| 111     | 2m 28s       | 1.99179                |"
      ]
     },
     "metadata": {},
     "output_type": "display_data"
    },
    {
     "data": {
      "text/html": [
       "<pre>| 112     | 2m 30s       | 1.99164                |</pre>"
      ],
      "text/plain": [
       "| 112     | 2m 30s       | 1.99164                |"
      ]
     },
     "metadata": {},
     "output_type": "display_data"
    },
    {
     "data": {
      "text/html": [
       "<pre>| 113     | 2m 31s       | 1.99148                |</pre>"
      ],
      "text/plain": [
       "| 113     | 2m 31s       | 1.99148                |"
      ]
     },
     "metadata": {},
     "output_type": "display_data"
    },
    {
     "data": {
      "text/html": [
       "<pre>| 114     | 2m 32s       | 1.99133                |</pre>"
      ],
      "text/plain": [
       "| 114     | 2m 32s       | 1.99133                |"
      ]
     },
     "metadata": {},
     "output_type": "display_data"
    },
    {
     "data": {
      "text/html": [
       "<pre>| 115     | 2m 34s       | 1.99118                |</pre>"
      ],
      "text/plain": [
       "| 115     | 2m 34s       | 1.99118                |"
      ]
     },
     "metadata": {},
     "output_type": "display_data"
    },
    {
     "data": {
      "text/html": [
       "<pre>| 116     | 2m 35s       | 1.99103                |</pre>"
      ],
      "text/plain": [
       "| 116     | 2m 35s       | 1.99103                |"
      ]
     },
     "metadata": {},
     "output_type": "display_data"
    },
    {
     "data": {
      "text/html": [
       "<pre>| 117     | 2m 36s       | 1.99088                |</pre>"
      ],
      "text/plain": [
       "| 117     | 2m 36s       | 1.99088                |"
      ]
     },
     "metadata": {},
     "output_type": "display_data"
    },
    {
     "data": {
      "text/html": [
       "<pre>| 118     | 2m 38s       | 1.99073                |</pre>"
      ],
      "text/plain": [
       "| 118     | 2m 38s       | 1.99073                |"
      ]
     },
     "metadata": {},
     "output_type": "display_data"
    },
    {
     "data": {
      "text/html": [
       "<pre>| 119     | 2m 39s       | 1.99058                |</pre>"
      ],
      "text/plain": [
       "| 119     | 2m 39s       | 1.99058                |"
      ]
     },
     "metadata": {},
     "output_type": "display_data"
    },
    {
     "data": {
      "text/html": [
       "<pre>| 120     | 2m 41s       | 1.99043                |</pre>"
      ],
      "text/plain": [
       "| 120     | 2m 41s       | 1.99043                |"
      ]
     },
     "metadata": {},
     "output_type": "display_data"
    },
    {
     "data": {
      "text/html": [
       "<pre>| 121     | 2m 42s       | 1.99028                |</pre>"
      ],
      "text/plain": [
       "| 121     | 2m 42s       | 1.99028                |"
      ]
     },
     "metadata": {},
     "output_type": "display_data"
    },
    {
     "data": {
      "text/html": [
       "<pre>| 122     | 2m 44s       | 1.99014                |</pre>"
      ],
      "text/plain": [
       "| 122     | 2m 44s       | 1.99014                |"
      ]
     },
     "metadata": {},
     "output_type": "display_data"
    },
    {
     "data": {
      "text/html": [
       "<pre>| 123     | 2m 45s       | 1.98999                |</pre>"
      ],
      "text/plain": [
       "| 123     | 2m 45s       | 1.98999                |"
      ]
     },
     "metadata": {},
     "output_type": "display_data"
    },
    {
     "data": {
      "text/html": [
       "<pre>| 124     | 2m 46s       | 1.98985                |</pre>"
      ],
      "text/plain": [
       "| 124     | 2m 46s       | 1.98985                |"
      ]
     },
     "metadata": {},
     "output_type": "display_data"
    },
    {
     "data": {
      "text/html": [
       "<pre>| 125     | 2m 48s       | 1.9897                 |</pre>"
      ],
      "text/plain": [
       "| 125     | 2m 48s       | 1.9897                 |"
      ]
     },
     "metadata": {},
     "output_type": "display_data"
    },
    {
     "data": {
      "text/html": [
       "<pre>| 126     | 2m 49s       | 1.98956                |</pre>"
      ],
      "text/plain": [
       "| 126     | 2m 49s       | 1.98956                |"
      ]
     },
     "metadata": {},
     "output_type": "display_data"
    },
    {
     "data": {
      "text/html": [
       "<pre>| 127     | 2m 51s       | 1.98942                |</pre>"
      ],
      "text/plain": [
       "| 127     | 2m 51s       | 1.98942                |"
      ]
     },
     "metadata": {},
     "output_type": "display_data"
    },
    {
     "data": {
      "text/html": [
       "<pre>| 128     | 2m 52s       | 1.98928                |</pre>"
      ],
      "text/plain": [
       "| 128     | 2m 52s       | 1.98928                |"
      ]
     },
     "metadata": {},
     "output_type": "display_data"
    },
    {
     "data": {
      "text/html": [
       "<pre>| 129     | 2m 53s       | 1.98913                |</pre>"
      ],
      "text/plain": [
       "| 129     | 2m 53s       | 1.98913                |"
      ]
     },
     "metadata": {},
     "output_type": "display_data"
    },
    {
     "data": {
      "text/html": [
       "<pre>| 130     | 2m 55s       | 1.98899                |</pre>"
      ],
      "text/plain": [
       "| 130     | 2m 55s       | 1.98899                |"
      ]
     },
     "metadata": {},
     "output_type": "display_data"
    },
    {
     "data": {
      "text/html": [
       "<pre>| 131     | 2m 56s       | 1.98884                |</pre>"
      ],
      "text/plain": [
       "| 131     | 2m 56s       | 1.98884                |"
      ]
     },
     "metadata": {},
     "output_type": "display_data"
    },
    {
     "data": {
      "text/html": [
       "<pre>| 132     | 2m 58s       | 1.98869                |</pre>"
      ],
      "text/plain": [
       "| 132     | 2m 58s       | 1.98869                |"
      ]
     },
     "metadata": {},
     "output_type": "display_data"
    },
    {
     "data": {
      "text/html": [
       "<pre>| 133     | 2m 59s       | 1.98854                |</pre>"
      ],
      "text/plain": [
       "| 133     | 2m 59s       | 1.98854                |"
      ]
     },
     "metadata": {},
     "output_type": "display_data"
    },
    {
     "data": {
      "text/html": [
       "<pre>| 134     | 3m 1s        | 1.98841                |</pre>"
      ],
      "text/plain": [
       "| 134     | 3m 1s        | 1.98841                |"
      ]
     },
     "metadata": {},
     "output_type": "display_data"
    },
    {
     "data": {
      "text/html": [
       "<pre>| 135     | 3m 2s        | 1.98827                |</pre>"
      ],
      "text/plain": [
       "| 135     | 3m 2s        | 1.98827                |"
      ]
     },
     "metadata": {},
     "output_type": "display_data"
    },
    {
     "data": {
      "text/html": [
       "<pre>| 136     | 3m 4s        | 1.98814                |</pre>"
      ],
      "text/plain": [
       "| 136     | 3m 4s        | 1.98814                |"
      ]
     },
     "metadata": {},
     "output_type": "display_data"
    },
    {
     "data": {
      "text/html": [
       "<pre>| 137     | 3m 5s        | 1.98801                |</pre>"
      ],
      "text/plain": [
       "| 137     | 3m 5s        | 1.98801                |"
      ]
     },
     "metadata": {},
     "output_type": "display_data"
    },
    {
     "data": {
      "text/html": [
       "<pre>| 138     | 3m 6s        | 1.98789                |</pre>"
      ],
      "text/plain": [
       "| 138     | 3m 6s        | 1.98789                |"
      ]
     },
     "metadata": {},
     "output_type": "display_data"
    },
    {
     "data": {
      "text/html": [
       "<pre>| 139     | 3m 8s        | 1.98776                |</pre>"
      ],
      "text/plain": [
       "| 139     | 3m 8s        | 1.98776                |"
      ]
     },
     "metadata": {},
     "output_type": "display_data"
    },
    {
     "data": {
      "text/html": [
       "<pre>| 140     | 3m 9s        | 1.98764                |</pre>"
      ],
      "text/plain": [
       "| 140     | 3m 9s        | 1.98764                |"
      ]
     },
     "metadata": {},
     "output_type": "display_data"
    },
    {
     "data": {
      "text/html": [
       "<pre>| 141     | 3m 11s       | 1.98752                |</pre>"
      ],
      "text/plain": [
       "| 141     | 3m 11s       | 1.98752                |"
      ]
     },
     "metadata": {},
     "output_type": "display_data"
    },
    {
     "data": {
      "text/html": [
       "<pre>| 142     | 3m 12s       | 1.9874                 |</pre>"
      ],
      "text/plain": [
       "| 142     | 3m 12s       | 1.9874                 |"
      ]
     },
     "metadata": {},
     "output_type": "display_data"
    },
    {
     "data": {
      "text/html": [
       "<pre>| 143     | 3m 14s       | 1.98729                |</pre>"
      ],
      "text/plain": [
       "| 143     | 3m 14s       | 1.98729                |"
      ]
     },
     "metadata": {},
     "output_type": "display_data"
    },
    {
     "data": {
      "text/html": [
       "<pre>| 144     | 3m 15s       | 1.98717                |</pre>"
      ],
      "text/plain": [
       "| 144     | 3m 15s       | 1.98717                |"
      ]
     },
     "metadata": {},
     "output_type": "display_data"
    },
    {
     "data": {
      "text/html": [
       "<pre>| 145     | 3m 16s       | 1.98706                |</pre>"
      ],
      "text/plain": [
       "| 145     | 3m 16s       | 1.98706                |"
      ]
     },
     "metadata": {},
     "output_type": "display_data"
    },
    {
     "data": {
      "text/html": [
       "<pre>| 146     | 3m 18s       | 1.98695                |</pre>"
      ],
      "text/plain": [
       "| 146     | 3m 18s       | 1.98695                |"
      ]
     },
     "metadata": {},
     "output_type": "display_data"
    },
    {
     "data": {
      "text/html": [
       "<pre>| 147     | 3m 20s       | 1.98684                |</pre>"
      ],
      "text/plain": [
       "| 147     | 3m 20s       | 1.98684                |"
      ]
     },
     "metadata": {},
     "output_type": "display_data"
    },
    {
     "data": {
      "text/html": [
       "<pre>| 148     | 3m 22s       | 1.98673                |</pre>"
      ],
      "text/plain": [
       "| 148     | 3m 22s       | 1.98673                |"
      ]
     },
     "metadata": {},
     "output_type": "display_data"
    },
    {
     "data": {
      "text/html": [
       "<pre>| 149     | 3m 23s       | 1.98662                |</pre>"
      ],
      "text/plain": [
       "| 149     | 3m 23s       | 1.98662                |"
      ]
     },
     "metadata": {},
     "output_type": "display_data"
    },
    {
     "data": {
      "text/html": [
       "<pre>| 150     | 3m 25s       | 1.98651                |</pre>"
      ],
      "text/plain": [
       "| 150     | 3m 25s       | 1.98651                |"
      ]
     },
     "metadata": {},
     "output_type": "display_data"
    },
    {
     "data": {
      "text/html": [
       "<pre>| 151     | 3m 27s       | 1.9864                 |</pre>"
      ],
      "text/plain": [
       "| 151     | 3m 27s       | 1.9864                 |"
      ]
     },
     "metadata": {},
     "output_type": "display_data"
    },
    {
     "data": {
      "text/html": [
       "<pre>| 152     | 3m 28s       | 1.98629                |</pre>"
      ],
      "text/plain": [
       "| 152     | 3m 28s       | 1.98629                |"
      ]
     },
     "metadata": {},
     "output_type": "display_data"
    },
    {
     "data": {
      "text/html": [
       "<pre>| 153     | 3m 30s       | 1.98619                |</pre>"
      ],
      "text/plain": [
       "| 153     | 3m 30s       | 1.98619                |"
      ]
     },
     "metadata": {},
     "output_type": "display_data"
    },
    {
     "data": {
      "text/html": [
       "<pre>| 154     | 3m 31s       | 1.98608                |</pre>"
      ],
      "text/plain": [
       "| 154     | 3m 31s       | 1.98608                |"
      ]
     },
     "metadata": {},
     "output_type": "display_data"
    },
    {
     "data": {
      "text/html": [
       "<pre>| 155     | 3m 33s       | 1.98598                |</pre>"
      ],
      "text/plain": [
       "| 155     | 3m 33s       | 1.98598                |"
      ]
     },
     "metadata": {},
     "output_type": "display_data"
    },
    {
     "data": {
      "text/html": [
       "<pre>| 156     | 3m 34s       | 1.98588                |</pre>"
      ],
      "text/plain": [
       "| 156     | 3m 34s       | 1.98588                |"
      ]
     },
     "metadata": {},
     "output_type": "display_data"
    },
    {
     "data": {
      "text/html": [
       "<pre>| 157     | 3m 36s       | 1.98578                |</pre>"
      ],
      "text/plain": [
       "| 157     | 3m 36s       | 1.98578                |"
      ]
     },
     "metadata": {},
     "output_type": "display_data"
    },
    {
     "data": {
      "text/html": [
       "<pre>| 158     | 3m 37s       | 1.98568                |</pre>"
      ],
      "text/plain": [
       "| 158     | 3m 37s       | 1.98568                |"
      ]
     },
     "metadata": {},
     "output_type": "display_data"
    },
    {
     "data": {
      "text/html": [
       "<pre>| 159     | 3m 39s       | 1.98558                |</pre>"
      ],
      "text/plain": [
       "| 159     | 3m 39s       | 1.98558                |"
      ]
     },
     "metadata": {},
     "output_type": "display_data"
    },
    {
     "data": {
      "text/html": [
       "<pre>| 160     | 3m 41s       | 1.98548                |</pre>"
      ],
      "text/plain": [
       "| 160     | 3m 41s       | 1.98548                |"
      ]
     },
     "metadata": {},
     "output_type": "display_data"
    },
    {
     "data": {
      "text/html": [
       "<pre>| 161     | 3m 42s       | 1.98538                |</pre>"
      ],
      "text/plain": [
       "| 161     | 3m 42s       | 1.98538                |"
      ]
     },
     "metadata": {},
     "output_type": "display_data"
    },
    {
     "data": {
      "text/html": [
       "<pre>| 162     | 3m 44s       | 1.98529                |</pre>"
      ],
      "text/plain": [
       "| 162     | 3m 44s       | 1.98529                |"
      ]
     },
     "metadata": {},
     "output_type": "display_data"
    },
    {
     "data": {
      "text/html": [
       "<pre>| 163     | 3m 45s       | 1.9852                 |</pre>"
      ],
      "text/plain": [
       "| 163     | 3m 45s       | 1.9852                 |"
      ]
     },
     "metadata": {},
     "output_type": "display_data"
    },
    {
     "data": {
      "text/html": [
       "<pre>| 164     | 3m 47s       | 1.9851                 |</pre>"
      ],
      "text/plain": [
       "| 164     | 3m 47s       | 1.9851                 |"
      ]
     },
     "metadata": {},
     "output_type": "display_data"
    },
    {
     "data": {
      "text/html": [
       "<pre>| 165     | 3m 48s       | 1.98501                |</pre>"
      ],
      "text/plain": [
       "| 165     | 3m 48s       | 1.98501                |"
      ]
     },
     "metadata": {},
     "output_type": "display_data"
    },
    {
     "data": {
      "text/html": [
       "<pre>| 166     | 3m 50s       | 1.98492                |</pre>"
      ],
      "text/plain": [
       "| 166     | 3m 50s       | 1.98492                |"
      ]
     },
     "metadata": {},
     "output_type": "display_data"
    },
    {
     "data": {
      "text/html": [
       "<pre>| 167     | 3m 51s       | 1.98483                |</pre>"
      ],
      "text/plain": [
       "| 167     | 3m 51s       | 1.98483                |"
      ]
     },
     "metadata": {},
     "output_type": "display_data"
    },
    {
     "data": {
      "text/html": [
       "<pre>| 168     | 3m 53s       | 1.98474                |</pre>"
      ],
      "text/plain": [
       "| 168     | 3m 53s       | 1.98474                |"
      ]
     },
     "metadata": {},
     "output_type": "display_data"
    },
    {
     "data": {
      "text/html": [
       "<pre>| 169     | 3m 54s       | 1.98466                |</pre>"
      ],
      "text/plain": [
       "| 169     | 3m 54s       | 1.98466                |"
      ]
     },
     "metadata": {},
     "output_type": "display_data"
    },
    {
     "data": {
      "text/html": [
       "<pre>| 170     | 3m 56s       | 1.98457                |</pre>"
      ],
      "text/plain": [
       "| 170     | 3m 56s       | 1.98457                |"
      ]
     },
     "metadata": {},
     "output_type": "display_data"
    },
    {
     "data": {
      "text/html": [
       "<pre>| 171     | 3m 57s       | 1.98448                |</pre>"
      ],
      "text/plain": [
       "| 171     | 3m 57s       | 1.98448                |"
      ]
     },
     "metadata": {},
     "output_type": "display_data"
    },
    {
     "data": {
      "text/html": [
       "<pre>| 172     | 3m 58s       | 1.9844                 |</pre>"
      ],
      "text/plain": [
       "| 172     | 3m 58s       | 1.9844                 |"
      ]
     },
     "metadata": {},
     "output_type": "display_data"
    },
    {
     "data": {
      "text/html": [
       "<pre>| 173     | 4m 0s        | 1.98432                |</pre>"
      ],
      "text/plain": [
       "| 173     | 4m 0s        | 1.98432                |"
      ]
     },
     "metadata": {},
     "output_type": "display_data"
    },
    {
     "data": {
      "text/html": [
       "<pre>| 174     | 4m 2s        | 1.98423                |</pre>"
      ],
      "text/plain": [
       "| 174     | 4m 2s        | 1.98423                |"
      ]
     },
     "metadata": {},
     "output_type": "display_data"
    },
    {
     "data": {
      "text/html": [
       "<pre>| 175     | 4m 3s        | 1.98415                |</pre>"
      ],
      "text/plain": [
       "| 175     | 4m 3s        | 1.98415                |"
      ]
     },
     "metadata": {},
     "output_type": "display_data"
    },
    {
     "data": {
      "text/html": [
       "<pre>| 176     | 4m 5s        | 1.98407                |</pre>"
      ],
      "text/plain": [
       "| 176     | 4m 5s        | 1.98407                |"
      ]
     },
     "metadata": {},
     "output_type": "display_data"
    },
    {
     "data": {
      "text/html": [
       "<pre>| 177     | 4m 6s        | 1.98399                |</pre>"
      ],
      "text/plain": [
       "| 177     | 4m 6s        | 1.98399                |"
      ]
     },
     "metadata": {},
     "output_type": "display_data"
    },
    {
     "data": {
      "text/html": [
       "<pre>| 178     | 4m 8s        | 1.9839                 |</pre>"
      ],
      "text/plain": [
       "| 178     | 4m 8s        | 1.9839                 |"
      ]
     },
     "metadata": {},
     "output_type": "display_data"
    },
    {
     "data": {
      "text/html": [
       "<pre>| 179     | 4m 9s        | 1.98382                |</pre>"
      ],
      "text/plain": [
       "| 179     | 4m 9s        | 1.98382                |"
      ]
     },
     "metadata": {},
     "output_type": "display_data"
    },
    {
     "data": {
      "text/html": [
       "<pre>| 180     | 4m 11s       | 1.98374                |</pre>"
      ],
      "text/plain": [
       "| 180     | 4m 11s       | 1.98374                |"
      ]
     },
     "metadata": {},
     "output_type": "display_data"
    },
    {
     "data": {
      "text/html": [
       "<pre>| 181     | 4m 12s       | 1.98366                |</pre>"
      ],
      "text/plain": [
       "| 181     | 4m 12s       | 1.98366                |"
      ]
     },
     "metadata": {},
     "output_type": "display_data"
    },
    {
     "data": {
      "text/html": [
       "<pre>| 182     | 4m 14s       | 1.98358                |</pre>"
      ],
      "text/plain": [
       "| 182     | 4m 14s       | 1.98358                |"
      ]
     },
     "metadata": {},
     "output_type": "display_data"
    },
    {
     "data": {
      "text/html": [
       "<pre>| 183     | 4m 15s       | 1.98351                |</pre>"
      ],
      "text/plain": [
       "| 183     | 4m 15s       | 1.98351                |"
      ]
     },
     "metadata": {},
     "output_type": "display_data"
    },
    {
     "data": {
      "text/html": [
       "<pre>| 184     | 4m 17s       | 1.98343                |</pre>"
      ],
      "text/plain": [
       "| 184     | 4m 17s       | 1.98343                |"
      ]
     },
     "metadata": {},
     "output_type": "display_data"
    },
    {
     "data": {
      "text/html": [
       "<pre>| 185     | 4m 18s       | 1.98335                |</pre>"
      ],
      "text/plain": [
       "| 185     | 4m 18s       | 1.98335                |"
      ]
     },
     "metadata": {},
     "output_type": "display_data"
    },
    {
     "data": {
      "text/html": [
       "<pre>| 186     | 4m 19s       | 1.98328                |</pre>"
      ],
      "text/plain": [
       "| 186     | 4m 19s       | 1.98328                |"
      ]
     },
     "metadata": {},
     "output_type": "display_data"
    },
    {
     "data": {
      "text/html": [
       "<pre>| 187     | 4m 21s       | 1.9832                 |</pre>"
      ],
      "text/plain": [
       "| 187     | 4m 21s       | 1.9832                 |"
      ]
     },
     "metadata": {},
     "output_type": "display_data"
    },
    {
     "data": {
      "text/html": [
       "<pre>| 188     | 4m 22s       | 1.98313                |</pre>"
      ],
      "text/plain": [
       "| 188     | 4m 22s       | 1.98313                |"
      ]
     },
     "metadata": {},
     "output_type": "display_data"
    },
    {
     "data": {
      "text/html": [
       "<pre>| 189     | 4m 24s       | 1.98305                |</pre>"
      ],
      "text/plain": [
       "| 189     | 4m 24s       | 1.98305                |"
      ]
     },
     "metadata": {},
     "output_type": "display_data"
    },
    {
     "data": {
      "text/html": [
       "<pre>| 190     | 4m 25s       | 1.98298                |</pre>"
      ],
      "text/plain": [
       "| 190     | 4m 25s       | 1.98298                |"
      ]
     },
     "metadata": {},
     "output_type": "display_data"
    },
    {
     "data": {
      "text/html": [
       "<pre>| 191     | 4m 26s       | 1.9829                 |</pre>"
      ],
      "text/plain": [
       "| 191     | 4m 26s       | 1.9829                 |"
      ]
     },
     "metadata": {},
     "output_type": "display_data"
    },
    {
     "data": {
      "text/html": [
       "<pre>| 192     | 4m 28s       | 1.98283                |</pre>"
      ],
      "text/plain": [
       "| 192     | 4m 28s       | 1.98283                |"
      ]
     },
     "metadata": {},
     "output_type": "display_data"
    },
    {
     "data": {
      "text/html": [
       "<pre>| 193     | 4m 29s       | 1.98275                |</pre>"
      ],
      "text/plain": [
       "| 193     | 4m 29s       | 1.98275                |"
      ]
     },
     "metadata": {},
     "output_type": "display_data"
    },
    {
     "data": {
      "text/html": [
       "<pre>| 194     | 4m 30s       | 1.98267                |</pre>"
      ],
      "text/plain": [
       "| 194     | 4m 30s       | 1.98267                |"
      ]
     },
     "metadata": {},
     "output_type": "display_data"
    },
    {
     "data": {
      "text/html": [
       "<pre>| 195     | 4m 32s       | 1.98259                |</pre>"
      ],
      "text/plain": [
       "| 195     | 4m 32s       | 1.98259                |"
      ]
     },
     "metadata": {},
     "output_type": "display_data"
    },
    {
     "data": {
      "text/html": [
       "<pre>| 196     | 4m 33s       | 1.9825                 |</pre>"
      ],
      "text/plain": [
       "| 196     | 4m 33s       | 1.9825                 |"
      ]
     },
     "metadata": {},
     "output_type": "display_data"
    },
    {
     "data": {
      "text/html": [
       "<pre>| 197     | 4m 35s       | 1.98242                |</pre>"
      ],
      "text/plain": [
       "| 197     | 4m 35s       | 1.98242                |"
      ]
     },
     "metadata": {},
     "output_type": "display_data"
    },
    {
     "data": {
      "text/html": [
       "<pre>| 198     | 4m 36s       | 1.98234                |</pre>"
      ],
      "text/plain": [
       "| 198     | 4m 36s       | 1.98234                |"
      ]
     },
     "metadata": {},
     "output_type": "display_data"
    },
    {
     "data": {
      "text/html": [
       "<pre>| 199     | 4m 37s       | 1.98226                |</pre>"
      ],
      "text/plain": [
       "| 199     | 4m 37s       | 1.98226                |"
      ]
     },
     "metadata": {},
     "output_type": "display_data"
    },
    {
     "data": {
      "text/html": [
       "<pre>| 200     | 4m 39s       | 1.98218                |</pre>"
      ],
      "text/plain": [
       "| 200     | 4m 39s       | 1.98218                |"
      ]
     },
     "metadata": {},
     "output_type": "display_data"
    },
    {
     "data": {
      "text/html": [
       "<pre>| 201     | 4m 40s       | 1.98211                |</pre>"
      ],
      "text/plain": [
       "| 201     | 4m 40s       | 1.98211                |"
      ]
     },
     "metadata": {},
     "output_type": "display_data"
    },
    {
     "data": {
      "text/html": [
       "<pre>| 202     | 4m 42s       | 1.98203                |</pre>"
      ],
      "text/plain": [
       "| 202     | 4m 42s       | 1.98203                |"
      ]
     },
     "metadata": {},
     "output_type": "display_data"
    },
    {
     "data": {
      "text/html": [
       "<pre>| 203     | 4m 43s       | 1.98196                |</pre>"
      ],
      "text/plain": [
       "| 203     | 4m 43s       | 1.98196                |"
      ]
     },
     "metadata": {},
     "output_type": "display_data"
    },
    {
     "data": {
      "text/html": [
       "<pre>| 204     | 4m 44s       | 1.98189                |</pre>"
      ],
      "text/plain": [
       "| 204     | 4m 44s       | 1.98189                |"
      ]
     },
     "metadata": {},
     "output_type": "display_data"
    },
    {
     "data": {
      "text/html": [
       "<pre>| 205     | 4m 46s       | 1.98182                |</pre>"
      ],
      "text/plain": [
       "| 205     | 4m 46s       | 1.98182                |"
      ]
     },
     "metadata": {},
     "output_type": "display_data"
    },
    {
     "data": {
      "text/html": [
       "<pre>| 206     | 4m 47s       | 1.98175                |</pre>"
      ],
      "text/plain": [
       "| 206     | 4m 47s       | 1.98175                |"
      ]
     },
     "metadata": {},
     "output_type": "display_data"
    },
    {
     "data": {
      "text/html": [
       "<pre>| 207     | 4m 49s       | 1.98168                |</pre>"
      ],
      "text/plain": [
       "| 207     | 4m 49s       | 1.98168                |"
      ]
     },
     "metadata": {},
     "output_type": "display_data"
    },
    {
     "data": {
      "text/html": [
       "<pre>| 208     | 4m 50s       | 1.9816                 |</pre>"
      ],
      "text/plain": [
       "| 208     | 4m 50s       | 1.9816                 |"
      ]
     },
     "metadata": {},
     "output_type": "display_data"
    },
    {
     "data": {
      "text/html": [
       "<pre>| 209     | 4m 52s       | 1.98153                |</pre>"
      ],
      "text/plain": [
       "| 209     | 4m 52s       | 1.98153                |"
      ]
     },
     "metadata": {},
     "output_type": "display_data"
    },
    {
     "data": {
      "text/html": [
       "<pre>| 210     | 4m 53s       | 1.98147                |</pre>"
      ],
      "text/plain": [
       "| 210     | 4m 53s       | 1.98147                |"
      ]
     },
     "metadata": {},
     "output_type": "display_data"
    },
    {
     "data": {
      "text/html": [
       "<pre>| 211     | 4m 54s       | 1.9814                 |</pre>"
      ],
      "text/plain": [
       "| 211     | 4m 54s       | 1.9814                 |"
      ]
     },
     "metadata": {},
     "output_type": "display_data"
    },
    {
     "data": {
      "text/html": [
       "<pre>| 212     | 4m 56s       | 1.98133                |</pre>"
      ],
      "text/plain": [
       "| 212     | 4m 56s       | 1.98133                |"
      ]
     },
     "metadata": {},
     "output_type": "display_data"
    },
    {
     "data": {
      "text/html": [
       "<pre>| 213     | 4m 57s       | 1.98126                |</pre>"
      ],
      "text/plain": [
       "| 213     | 4m 57s       | 1.98126                |"
      ]
     },
     "metadata": {},
     "output_type": "display_data"
    },
    {
     "data": {
      "text/html": [
       "<pre>| 214     | 4m 58s       | 1.9812                 |</pre>"
      ],
      "text/plain": [
       "| 214     | 4m 58s       | 1.9812                 |"
      ]
     },
     "metadata": {},
     "output_type": "display_data"
    },
    {
     "data": {
      "text/html": [
       "<pre>| 215     | 5m 0s        | 1.98114                |</pre>"
      ],
      "text/plain": [
       "| 215     | 5m 0s        | 1.98114                |"
      ]
     },
     "metadata": {},
     "output_type": "display_data"
    },
    {
     "data": {
      "text/html": [
       "<pre>| 216     | 5m 2s        | 1.98107                |</pre>"
      ],
      "text/plain": [
       "| 216     | 5m 2s        | 1.98107                |"
      ]
     },
     "metadata": {},
     "output_type": "display_data"
    },
    {
     "data": {
      "text/html": [
       "<pre>| 217     | 5m 4s        | 1.98101                |</pre>"
      ],
      "text/plain": [
       "| 217     | 5m 4s        | 1.98101                |"
      ]
     },
     "metadata": {},
     "output_type": "display_data"
    },
    {
     "data": {
      "text/html": [
       "<pre>| 218     | 5m 6s        | 1.98095                |</pre>"
      ],
      "text/plain": [
       "| 218     | 5m 6s        | 1.98095                |"
      ]
     },
     "metadata": {},
     "output_type": "display_data"
    },
    {
     "data": {
      "text/html": [
       "<pre>| 219     | 5m 7s        | 1.98088                |</pre>"
      ],
      "text/plain": [
       "| 219     | 5m 7s        | 1.98088                |"
      ]
     },
     "metadata": {},
     "output_type": "display_data"
    },
    {
     "data": {
      "text/html": [
       "<pre>| 220     | 5m 9s        | 1.98082                |</pre>"
      ],
      "text/plain": [
       "| 220     | 5m 9s        | 1.98082                |"
      ]
     },
     "metadata": {},
     "output_type": "display_data"
    },
    {
     "data": {
      "text/html": [
       "<pre>| 221     | 5m 10s       | 1.98076                |</pre>"
      ],
      "text/plain": [
       "| 221     | 5m 10s       | 1.98076                |"
      ]
     },
     "metadata": {},
     "output_type": "display_data"
    },
    {
     "data": {
      "text/html": [
       "<pre>| 222     | 5m 12s       | 1.9807                 |</pre>"
      ],
      "text/plain": [
       "| 222     | 5m 12s       | 1.9807                 |"
      ]
     },
     "metadata": {},
     "output_type": "display_data"
    },
    {
     "data": {
      "text/html": [
       "<pre>| 223     | 5m 13s       | 1.98065                |</pre>"
      ],
      "text/plain": [
       "| 223     | 5m 13s       | 1.98065                |"
      ]
     },
     "metadata": {},
     "output_type": "display_data"
    },
    {
     "data": {
      "text/html": [
       "<pre>| 224     | 5m 15s       | 1.98059                |</pre>"
      ],
      "text/plain": [
       "| 224     | 5m 15s       | 1.98059                |"
      ]
     },
     "metadata": {},
     "output_type": "display_data"
    },
    {
     "data": {
      "text/html": [
       "<pre>| 225     | 5m 16s       | 1.98053                |</pre>"
      ],
      "text/plain": [
       "| 225     | 5m 16s       | 1.98053                |"
      ]
     },
     "metadata": {},
     "output_type": "display_data"
    },
    {
     "data": {
      "text/html": [
       "<pre>| 226     | 5m 18s       | 1.98048                |</pre>"
      ],
      "text/plain": [
       "| 226     | 5m 18s       | 1.98048                |"
      ]
     },
     "metadata": {},
     "output_type": "display_data"
    },
    {
     "data": {
      "text/html": [
       "<pre>| 227     | 5m 19s       | 1.98042                |</pre>"
      ],
      "text/plain": [
       "| 227     | 5m 19s       | 1.98042                |"
      ]
     },
     "metadata": {},
     "output_type": "display_data"
    },
    {
     "data": {
      "text/html": [
       "<pre>| 228     | 5m 21s       | 1.98037                |</pre>"
      ],
      "text/plain": [
       "| 228     | 5m 21s       | 1.98037                |"
      ]
     },
     "metadata": {},
     "output_type": "display_data"
    },
    {
     "data": {
      "text/html": [
       "<pre>| 229     | 5m 22s       | 1.98031                |</pre>"
      ],
      "text/plain": [
       "| 229     | 5m 22s       | 1.98031                |"
      ]
     },
     "metadata": {},
     "output_type": "display_data"
    },
    {
     "data": {
      "text/html": [
       "<pre>| 230     | 5m 24s       | 1.98026                |</pre>"
      ],
      "text/plain": [
       "| 230     | 5m 24s       | 1.98026                |"
      ]
     },
     "metadata": {},
     "output_type": "display_data"
    },
    {
     "data": {
      "text/html": [
       "<pre>| 231     | 5m 25s       | 1.9802                 |</pre>"
      ],
      "text/plain": [
       "| 231     | 5m 25s       | 1.9802                 |"
      ]
     },
     "metadata": {},
     "output_type": "display_data"
    },
    {
     "data": {
      "text/html": [
       "<pre>| 232     | 5m 26s       | 1.98015                |</pre>"
      ],
      "text/plain": [
       "| 232     | 5m 26s       | 1.98015                |"
      ]
     },
     "metadata": {},
     "output_type": "display_data"
    },
    {
     "data": {
      "text/html": [
       "<pre>| 233     | 5m 28s       | 1.9801                 |</pre>"
      ],
      "text/plain": [
       "| 233     | 5m 28s       | 1.9801                 |"
      ]
     },
     "metadata": {},
     "output_type": "display_data"
    },
    {
     "data": {
      "text/html": [
       "<pre>| 234     | 5m 29s       | 1.98005                |</pre>"
      ],
      "text/plain": [
       "| 234     | 5m 29s       | 1.98005                |"
      ]
     },
     "metadata": {},
     "output_type": "display_data"
    },
    {
     "data": {
      "text/html": [
       "<pre>| 235     | 5m 31s       | 1.98                   |</pre>"
      ],
      "text/plain": [
       "| 235     | 5m 31s       | 1.98                   |"
      ]
     },
     "metadata": {},
     "output_type": "display_data"
    },
    {
     "data": {
      "text/html": [
       "<pre>| 236     | 5m 32s       | 1.97995                |</pre>"
      ],
      "text/plain": [
       "| 236     | 5m 32s       | 1.97995                |"
      ]
     },
     "metadata": {},
     "output_type": "display_data"
    },
    {
     "data": {
      "text/html": [
       "<pre>| 237     | 5m 33s       | 1.9799                 |</pre>"
      ],
      "text/plain": [
       "| 237     | 5m 33s       | 1.9799                 |"
      ]
     },
     "metadata": {},
     "output_type": "display_data"
    },
    {
     "data": {
      "text/html": [
       "<pre>| 238     | 5m 35s       | 1.97985                |</pre>"
      ],
      "text/plain": [
       "| 238     | 5m 35s       | 1.97985                |"
      ]
     },
     "metadata": {},
     "output_type": "display_data"
    },
    {
     "data": {
      "text/html": [
       "<pre>| 239     | 5m 36s       | 1.9798                 |</pre>"
      ],
      "text/plain": [
       "| 239     | 5m 36s       | 1.9798                 |"
      ]
     },
     "metadata": {},
     "output_type": "display_data"
    },
    {
     "data": {
      "text/html": [
       "<pre>| 240     | 5m 37s       | 1.97975                |</pre>"
      ],
      "text/plain": [
       "| 240     | 5m 37s       | 1.97975                |"
      ]
     },
     "metadata": {},
     "output_type": "display_data"
    },
    {
     "data": {
      "text/html": [
       "<pre>| 241     | 5m 39s       | 1.97971                |</pre>"
      ],
      "text/plain": [
       "| 241     | 5m 39s       | 1.97971                |"
      ]
     },
     "metadata": {},
     "output_type": "display_data"
    },
    {
     "data": {
      "text/html": [
       "<pre>| 242     | 5m 40s       | 1.97966                |</pre>"
      ],
      "text/plain": [
       "| 242     | 5m 40s       | 1.97966                |"
      ]
     },
     "metadata": {},
     "output_type": "display_data"
    },
    {
     "data": {
      "text/html": [
       "<pre>| 243     | 5m 42s       | 1.97961                |</pre>"
      ],
      "text/plain": [
       "| 243     | 5m 42s       | 1.97961                |"
      ]
     },
     "metadata": {},
     "output_type": "display_data"
    },
    {
     "data": {
      "text/html": [
       "<pre>| 244     | 5m 43s       | 1.97957                |</pre>"
      ],
      "text/plain": [
       "| 244     | 5m 43s       | 1.97957                |"
      ]
     },
     "metadata": {},
     "output_type": "display_data"
    },
    {
     "data": {
      "text/html": [
       "<pre>| 245     | 5m 45s       | 1.97952                |</pre>"
      ],
      "text/plain": [
       "| 245     | 5m 45s       | 1.97952                |"
      ]
     },
     "metadata": {},
     "output_type": "display_data"
    },
    {
     "data": {
      "text/html": [
       "<pre>| 246     | 5m 46s       | 1.97948                |</pre>"
      ],
      "text/plain": [
       "| 246     | 5m 46s       | 1.97948                |"
      ]
     },
     "metadata": {},
     "output_type": "display_data"
    },
    {
     "data": {
      "text/html": [
       "<pre>| 247     | 5m 47s       | 1.97943                |</pre>"
      ],
      "text/plain": [
       "| 247     | 5m 47s       | 1.97943                |"
      ]
     },
     "metadata": {},
     "output_type": "display_data"
    },
    {
     "data": {
      "text/html": [
       "<pre>| 248     | 5m 49s       | 1.97939                |</pre>"
      ],
      "text/plain": [
       "| 248     | 5m 49s       | 1.97939                |"
      ]
     },
     "metadata": {},
     "output_type": "display_data"
    },
    {
     "data": {
      "text/html": [
       "<pre>| 249     | 5m 50s       | 1.97934                |</pre>"
      ],
      "text/plain": [
       "| 249     | 5m 50s       | 1.97934                |"
      ]
     },
     "metadata": {},
     "output_type": "display_data"
    },
    {
     "data": {
      "text/html": [
       "<pre>| 250     | 5m 52s       | 1.9793                 |</pre>"
      ],
      "text/plain": [
       "| 250     | 5m 52s       | 1.9793                 |"
      ]
     },
     "metadata": {},
     "output_type": "display_data"
    },
    {
     "data": {
      "text/html": [
       "<pre>| 251     | 5m 53s       | 1.97926                |</pre>"
      ],
      "text/plain": [
       "| 251     | 5m 53s       | 1.97926                |"
      ]
     },
     "metadata": {},
     "output_type": "display_data"
    },
    {
     "data": {
      "text/html": [
       "<pre>| 252     | 5m 54s       | 1.97922                |</pre>"
      ],
      "text/plain": [
       "| 252     | 5m 54s       | 1.97922                |"
      ]
     },
     "metadata": {},
     "output_type": "display_data"
    },
    {
     "data": {
      "text/html": [
       "<pre>| 253     | 5m 56s       | 1.97917                |</pre>"
      ],
      "text/plain": [
       "| 253     | 5m 56s       | 1.97917                |"
      ]
     },
     "metadata": {},
     "output_type": "display_data"
    },
    {
     "data": {
      "text/html": [
       "<pre>| 254     | 5m 57s       | 1.97913                |</pre>"
      ],
      "text/plain": [
       "| 254     | 5m 57s       | 1.97913                |"
      ]
     },
     "metadata": {},
     "output_type": "display_data"
    },
    {
     "data": {
      "text/html": [
       "<pre>| 255     | 5m 59s       | 1.97909                |</pre>"
      ],
      "text/plain": [
       "| 255     | 5m 59s       | 1.97909                |"
      ]
     },
     "metadata": {},
     "output_type": "display_data"
    },
    {
     "data": {
      "text/html": [
       "<pre>| 256     | 6m 0s        | 1.97905                |</pre>"
      ],
      "text/plain": [
       "| 256     | 6m 0s        | 1.97905                |"
      ]
     },
     "metadata": {},
     "output_type": "display_data"
    },
    {
     "data": {
      "text/html": [
       "<pre>| 257     | 6m 2s        | 1.97901                |</pre>"
      ],
      "text/plain": [
       "| 257     | 6m 2s        | 1.97901                |"
      ]
     },
     "metadata": {},
     "output_type": "display_data"
    },
    {
     "data": {
      "text/html": [
       "<pre>| 258     | 6m 3s        | 1.97897                |</pre>"
      ],
      "text/plain": [
       "| 258     | 6m 3s        | 1.97897                |"
      ]
     },
     "metadata": {},
     "output_type": "display_data"
    },
    {
     "data": {
      "text/html": [
       "<pre>| 259     | 6m 5s        | 1.97893                |</pre>"
      ],
      "text/plain": [
       "| 259     | 6m 5s        | 1.97893                |"
      ]
     },
     "metadata": {},
     "output_type": "display_data"
    },
    {
     "data": {
      "text/html": [
       "<pre>| 260     | 6m 6s        | 1.97889                |</pre>"
      ],
      "text/plain": [
       "| 260     | 6m 6s        | 1.97889                |"
      ]
     },
     "metadata": {},
     "output_type": "display_data"
    },
    {
     "data": {
      "text/html": [
       "<pre>| 261     | 6m 7s        | 1.97885                |</pre>"
      ],
      "text/plain": [
       "| 261     | 6m 7s        | 1.97885                |"
      ]
     },
     "metadata": {},
     "output_type": "display_data"
    },
    {
     "data": {
      "text/html": [
       "<pre>| 262     | 6m 9s        | 1.97881                |</pre>"
      ],
      "text/plain": [
       "| 262     | 6m 9s        | 1.97881                |"
      ]
     },
     "metadata": {},
     "output_type": "display_data"
    },
    {
     "data": {
      "text/html": [
       "<pre>| 263     | 6m 10s       | 1.97877                |</pre>"
      ],
      "text/plain": [
       "| 263     | 6m 10s       | 1.97877                |"
      ]
     },
     "metadata": {},
     "output_type": "display_data"
    },
    {
     "data": {
      "text/html": [
       "<pre>| 264     | 6m 11s       | 1.97873                |</pre>"
      ],
      "text/plain": [
       "| 264     | 6m 11s       | 1.97873                |"
      ]
     },
     "metadata": {},
     "output_type": "display_data"
    },
    {
     "data": {
      "text/html": [
       "<pre>| 265     | 6m 13s       | 1.97869                |</pre>"
      ],
      "text/plain": [
       "| 265     | 6m 13s       | 1.97869                |"
      ]
     },
     "metadata": {},
     "output_type": "display_data"
    },
    {
     "data": {
      "text/html": [
       "<pre>| 266     | 6m 14s       | 1.97865                |</pre>"
      ],
      "text/plain": [
       "| 266     | 6m 14s       | 1.97865                |"
      ]
     },
     "metadata": {},
     "output_type": "display_data"
    },
    {
     "data": {
      "text/html": [
       "<pre>| 267     | 6m 16s       | 1.97861                |</pre>"
      ],
      "text/plain": [
       "| 267     | 6m 16s       | 1.97861                |"
      ]
     },
     "metadata": {},
     "output_type": "display_data"
    },
    {
     "data": {
      "text/html": [
       "<pre>| 268     | 6m 17s       | 1.97858                |</pre>"
      ],
      "text/plain": [
       "| 268     | 6m 17s       | 1.97858                |"
      ]
     },
     "metadata": {},
     "output_type": "display_data"
    },
    {
     "data": {
      "text/html": [
       "<pre>| 269     | 6m 19s       | 1.97854                |</pre>"
      ],
      "text/plain": [
       "| 269     | 6m 19s       | 1.97854                |"
      ]
     },
     "metadata": {},
     "output_type": "display_data"
    },
    {
     "data": {
      "text/html": [
       "<pre>| 270     | 6m 20s       | 1.9785                 |</pre>"
      ],
      "text/plain": [
       "| 270     | 6m 20s       | 1.9785                 |"
      ]
     },
     "metadata": {},
     "output_type": "display_data"
    },
    {
     "data": {
      "text/html": [
       "<pre>| 271     | 6m 22s       | 1.97846                |</pre>"
      ],
      "text/plain": [
       "| 271     | 6m 22s       | 1.97846                |"
      ]
     },
     "metadata": {},
     "output_type": "display_data"
    },
    {
     "data": {
      "text/html": [
       "<pre>| 272     | 6m 24s       | 1.97843                |</pre>"
      ],
      "text/plain": [
       "| 272     | 6m 24s       | 1.97843                |"
      ]
     },
     "metadata": {},
     "output_type": "display_data"
    },
    {
     "data": {
      "text/html": [
       "<pre>| 273     | 6m 26s       | 1.97839                |</pre>"
      ],
      "text/plain": [
       "| 273     | 6m 26s       | 1.97839                |"
      ]
     },
     "metadata": {},
     "output_type": "display_data"
    },
    {
     "data": {
      "text/html": [
       "<pre>| 274     | 6m 28s       | 1.97835                |</pre>"
      ],
      "text/plain": [
       "| 274     | 6m 28s       | 1.97835                |"
      ]
     },
     "metadata": {},
     "output_type": "display_data"
    },
    {
     "data": {
      "text/html": [
       "<pre>| 275     | 6m 30s       | 1.97832                |</pre>"
      ],
      "text/plain": [
       "| 275     | 6m 30s       | 1.97832                |"
      ]
     },
     "metadata": {},
     "output_type": "display_data"
    },
    {
     "data": {
      "text/html": [
       "<pre>| 276     | 6m 32s       | 1.97828                |</pre>"
      ],
      "text/plain": [
       "| 276     | 6m 32s       | 1.97828                |"
      ]
     },
     "metadata": {},
     "output_type": "display_data"
    },
    {
     "data": {
      "text/html": [
       "<pre>| 277     | 6m 33s       | 1.97824                |</pre>"
      ],
      "text/plain": [
       "| 277     | 6m 33s       | 1.97824                |"
      ]
     },
     "metadata": {},
     "output_type": "display_data"
    },
    {
     "data": {
      "text/html": [
       "<pre>| 278     | 6m 35s       | 1.97821                |</pre>"
      ],
      "text/plain": [
       "| 278     | 6m 35s       | 1.97821                |"
      ]
     },
     "metadata": {},
     "output_type": "display_data"
    },
    {
     "data": {
      "text/html": [
       "<pre>| 279     | 6m 37s       | 1.97817                |</pre>"
      ],
      "text/plain": [
       "| 279     | 6m 37s       | 1.97817                |"
      ]
     },
     "metadata": {},
     "output_type": "display_data"
    },
    {
     "data": {
      "text/html": [
       "<pre>| 280     | 6m 39s       | 1.97814                |</pre>"
      ],
      "text/plain": [
       "| 280     | 6m 39s       | 1.97814                |"
      ]
     },
     "metadata": {},
     "output_type": "display_data"
    },
    {
     "data": {
      "text/html": [
       "<pre>| 281     | 6m 41s       | 1.9781                 |</pre>"
      ],
      "text/plain": [
       "| 281     | 6m 41s       | 1.9781                 |"
      ]
     },
     "metadata": {},
     "output_type": "display_data"
    },
    {
     "data": {
      "text/html": [
       "<pre>| 282     | 6m 42s       | 1.97806                |</pre>"
      ],
      "text/plain": [
       "| 282     | 6m 42s       | 1.97806                |"
      ]
     },
     "metadata": {},
     "output_type": "display_data"
    },
    {
     "data": {
      "text/html": [
       "<pre>| 283     | 6m 44s       | 1.97803                |</pre>"
      ],
      "text/plain": [
       "| 283     | 6m 44s       | 1.97803                |"
      ]
     },
     "metadata": {},
     "output_type": "display_data"
    },
    {
     "data": {
      "text/html": [
       "<pre>| 284     | 6m 46s       | 1.97799                |</pre>"
      ],
      "text/plain": [
       "| 284     | 6m 46s       | 1.97799                |"
      ]
     },
     "metadata": {},
     "output_type": "display_data"
    },
    {
     "data": {
      "text/html": [
       "<pre>| 285     | 6m 48s       | 1.97796                |</pre>"
      ],
      "text/plain": [
       "| 285     | 6m 48s       | 1.97796                |"
      ]
     },
     "metadata": {},
     "output_type": "display_data"
    },
    {
     "data": {
      "text/html": [
       "<pre>| 286     | 6m 50s       | 1.97793                |</pre>"
      ],
      "text/plain": [
       "| 286     | 6m 50s       | 1.97793                |"
      ]
     },
     "metadata": {},
     "output_type": "display_data"
    },
    {
     "data": {
      "text/html": [
       "<pre>| 287     | 6m 51s       | 1.97789                |</pre>"
      ],
      "text/plain": [
       "| 287     | 6m 51s       | 1.97789                |"
      ]
     },
     "metadata": {},
     "output_type": "display_data"
    },
    {
     "data": {
      "text/html": [
       "<pre>| 288     | 6m 53s       | 1.97786                |</pre>"
      ],
      "text/plain": [
       "| 288     | 6m 53s       | 1.97786                |"
      ]
     },
     "metadata": {},
     "output_type": "display_data"
    },
    {
     "data": {
      "text/html": [
       "<pre>| 289     | 6m 54s       | 1.97782                |</pre>"
      ],
      "text/plain": [
       "| 289     | 6m 54s       | 1.97782                |"
      ]
     },
     "metadata": {},
     "output_type": "display_data"
    },
    {
     "data": {
      "text/html": [
       "<pre>| 290     | 6m 56s       | 1.97779                |</pre>"
      ],
      "text/plain": [
       "| 290     | 6m 56s       | 1.97779                |"
      ]
     },
     "metadata": {},
     "output_type": "display_data"
    },
    {
     "data": {
      "text/html": [
       "<pre>| 291     | 6m 58s       | 1.97776                |</pre>"
      ],
      "text/plain": [
       "| 291     | 6m 58s       | 1.97776                |"
      ]
     },
     "metadata": {},
     "output_type": "display_data"
    },
    {
     "data": {
      "text/html": [
       "<pre>| 292     | 7m 0s        | 1.97772                |</pre>"
      ],
      "text/plain": [
       "| 292     | 7m 0s        | 1.97772                |"
      ]
     },
     "metadata": {},
     "output_type": "display_data"
    },
    {
     "data": {
      "text/html": [
       "<pre>| 293     | 7m 2s        | 1.97769                |</pre>"
      ],
      "text/plain": [
       "| 293     | 7m 2s        | 1.97769                |"
      ]
     },
     "metadata": {},
     "output_type": "display_data"
    },
    {
     "data": {
      "text/html": [
       "<pre>| 294     | 7m 4s        | 1.97766                |</pre>"
      ],
      "text/plain": [
       "| 294     | 7m 4s        | 1.97766                |"
      ]
     },
     "metadata": {},
     "output_type": "display_data"
    },
    {
     "data": {
      "text/html": [
       "<pre>| 295     | 7m 6s        | 1.97762                |</pre>"
      ],
      "text/plain": [
       "| 295     | 7m 6s        | 1.97762                |"
      ]
     },
     "metadata": {},
     "output_type": "display_data"
    },
    {
     "data": {
      "text/html": [
       "<pre>| 296     | 7m 8s        | 1.97759                |</pre>"
      ],
      "text/plain": [
       "| 296     | 7m 8s        | 1.97759                |"
      ]
     },
     "metadata": {},
     "output_type": "display_data"
    },
    {
     "data": {
      "text/html": [
       "<pre>| 297     | 7m 10s       | 1.97755                |</pre>"
      ],
      "text/plain": [
       "| 297     | 7m 10s       | 1.97755                |"
      ]
     },
     "metadata": {},
     "output_type": "display_data"
    },
    {
     "data": {
      "text/html": [
       "<pre>| 298     | 7m 11s       | 1.97752                |</pre>"
      ],
      "text/plain": [
       "| 298     | 7m 11s       | 1.97752                |"
      ]
     },
     "metadata": {},
     "output_type": "display_data"
    },
    {
     "data": {
      "text/html": [
       "<pre>| 299     | 7m 13s       | 1.97749                |</pre>"
      ],
      "text/plain": [
       "| 299     | 7m 13s       | 1.97749                |"
      ]
     },
     "metadata": {},
     "output_type": "display_data"
    },
    {
     "data": {
      "text/html": [
       "<pre>| FINAL   | 7m 13s       | 1.97749                |</pre>"
      ],
      "text/plain": [
       "| FINAL   | 7m 13s       | 1.97749                |"
      ]
     },
     "metadata": {},
     "output_type": "display_data"
    },
    {
     "data": {
      "text/html": [
       "<pre>+---------+--------------+------------------------+</pre>"
      ],
      "text/plain": [
       "+---------+--------------+------------------------+"
      ]
     },
     "metadata": {},
     "output_type": "display_data"
    },
    {
     "data": {
      "text/html": [
       "<pre>Optimization Complete: Iteration limit reached.</pre>"
      ],
      "text/plain": [
       "Optimization Complete: Iteration limit reached."
      ]
     },
     "metadata": {},
     "output_type": "display_data"
    }
   ],
   "source": [
    "rec_als = graphlab.recommender.factorization_recommender.create(\n",
    "                sf_train,\n",
    "                user_id='user_id',\n",
    "                item_id='joke_id',\n",
    "                target='rating',\n",
    "                solver='als',\n",
    "                max_iterations=300,\n",
    "                num_factors=20,\n",
    "                side_data_factorization=False)"
   ]
  },
  {
   "cell_type": "code",
   "execution_count": 62,
   "metadata": {
    "collapsed": false
   },
   "outputs": [
    {
     "data": {
      "text/html": [
       "<div style=\"max-height:1000px;max-width:1500px;overflow:auto;\"><table frame=\"box\" rules=\"cols\">\n",
       "    <tr>\n",
       "        <th style=\"padding-left: 1em; padding-right: 1em; text-align: center\">user_id</th>\n",
       "        <th style=\"padding-left: 1em; padding-right: 1em; text-align: center\">joke_id</th>\n",
       "    </tr>\n",
       "    <tr>\n",
       "        <td style=\"padding-left: 1em; padding-right: 1em; text-align: center; vertical-align: top\">30762</td>\n",
       "        <td style=\"padding-left: 1em; padding-right: 1em; text-align: center; vertical-align: top\">24</td>\n",
       "    </tr>\n",
       "    <tr>\n",
       "        <td style=\"padding-left: 1em; padding-right: 1em; text-align: center; vertical-align: top\">54667</td>\n",
       "        <td style=\"padding-left: 1em; padding-right: 1em; text-align: center; vertical-align: top\">128</td>\n",
       "    </tr>\n",
       "    <tr>\n",
       "        <td style=\"padding-left: 1em; padding-right: 1em; text-align: center; vertical-align: top\">38515</td>\n",
       "        <td style=\"padding-left: 1em; padding-right: 1em; text-align: center; vertical-align: top\">68</td>\n",
       "    </tr>\n",
       "    <tr>\n",
       "        <td style=\"padding-left: 1em; padding-right: 1em; text-align: center; vertical-align: top\">44643</td>\n",
       "        <td style=\"padding-left: 1em; padding-right: 1em; text-align: center; vertical-align: top\">39</td>\n",
       "    </tr>\n",
       "    <tr>\n",
       "        <td style=\"padding-left: 1em; padding-right: 1em; text-align: center; vertical-align: top\">58677</td>\n",
       "        <td style=\"padding-left: 1em; padding-right: 1em; text-align: center; vertical-align: top\">13</td>\n",
       "    </tr>\n",
       "    <tr>\n",
       "        <td style=\"padding-left: 1em; padding-right: 1em; text-align: center; vertical-align: top\">30046</td>\n",
       "        <td style=\"padding-left: 1em; padding-right: 1em; text-align: center; vertical-align: top\">101</td>\n",
       "    </tr>\n",
       "    <tr>\n",
       "        <td style=\"padding-left: 1em; padding-right: 1em; text-align: center; vertical-align: top\">62508</td>\n",
       "        <td style=\"padding-left: 1em; padding-right: 1em; text-align: center; vertical-align: top\">16</td>\n",
       "    </tr>\n",
       "    <tr>\n",
       "        <td style=\"padding-left: 1em; padding-right: 1em; text-align: center; vertical-align: top\">14488</td>\n",
       "        <td style=\"padding-left: 1em; padding-right: 1em; text-align: center; vertical-align: top\">7</td>\n",
       "    </tr>\n",
       "    <tr>\n",
       "        <td style=\"padding-left: 1em; padding-right: 1em; text-align: center; vertical-align: top\">39459</td>\n",
       "        <td style=\"padding-left: 1em; padding-right: 1em; text-align: center; vertical-align: top\">72</td>\n",
       "    </tr>\n",
       "    <tr>\n",
       "        <td style=\"padding-left: 1em; padding-right: 1em; text-align: center; vertical-align: top\">62442</td>\n",
       "        <td style=\"padding-left: 1em; padding-right: 1em; text-align: center; vertical-align: top\">88</td>\n",
       "    </tr>\n",
       "</table>\n",
       "[10 rows x 2 columns]<br/>\n",
       "</div>"
      ],
      "text/plain": [
       "Columns:\n",
       "\tuser_id\tint\n",
       "\tjoke_id\tint\n",
       "\n",
       "Rows: 10\n",
       "\n",
       "Data:\n",
       "+---------+---------+\n",
       "| user_id | joke_id |\n",
       "+---------+---------+\n",
       "|  30762  |    24   |\n",
       "|  54667  |   128   |\n",
       "|  38515  |    68   |\n",
       "|  44643  |    39   |\n",
       "|  58677  |    13   |\n",
       "|  30046  |   101   |\n",
       "|  62508  |    16   |\n",
       "|  14488  |    7    |\n",
       "|  39459  |    72   |\n",
       "|  62442  |    88   |\n",
       "+---------+---------+\n",
       "[10 rows x 2 columns]"
      ]
     },
     "execution_count": 62,
     "metadata": {},
     "output_type": "execute_result"
    }
   ],
   "source": [
    "sf_test = graphlab.SFrame(df_test[['user_id', 'joke_id']])\n",
    "sf_test.head()"
   ]
  },
  {
   "cell_type": "code",
   "execution_count": 63,
   "metadata": {
    "collapsed": true
   },
   "outputs": [],
   "source": [
    "test_als_pred = rec_als.predict(sf_test)"
   ]
  },
  {
   "cell_type": "code",
   "execution_count": 64,
   "metadata": {
    "collapsed": false
   },
   "outputs": [
    {
     "data": {
      "text/html": [
       "<div style=\"max-height:1000px;max-width:1500px;overflow:auto;\"><table frame=\"box\" rules=\"cols\">\n",
       "    <tr>\n",
       "        <th style=\"padding-left: 1em; padding-right: 1em; text-align: center\">user_id</th>\n",
       "        <th style=\"padding-left: 1em; padding-right: 1em; text-align: center\">joke_id</th>\n",
       "        <th style=\"padding-left: 1em; padding-right: 1em; text-align: center\">rating_target</th>\n",
       "    </tr>\n",
       "    <tr>\n",
       "        <td style=\"padding-left: 1em; padding-right: 1em; text-align: center; vertical-align: top\">30762</td>\n",
       "        <td style=\"padding-left: 1em; padding-right: 1em; text-align: center; vertical-align: top\">24</td>\n",
       "        <td style=\"padding-left: 1em; padding-right: 1em; text-align: center; vertical-align: top\">-4.22934367764</td>\n",
       "    </tr>\n",
       "    <tr>\n",
       "        <td style=\"padding-left: 1em; padding-right: 1em; text-align: center; vertical-align: top\">54667</td>\n",
       "        <td style=\"padding-left: 1em; padding-right: 1em; text-align: center; vertical-align: top\">128</td>\n",
       "        <td style=\"padding-left: 1em; padding-right: 1em; text-align: center; vertical-align: top\">9.5032493819</td>\n",
       "    </tr>\n",
       "    <tr>\n",
       "        <td style=\"padding-left: 1em; padding-right: 1em; text-align: center; vertical-align: top\">38515</td>\n",
       "        <td style=\"padding-left: 1em; padding-right: 1em; text-align: center; vertical-align: top\">68</td>\n",
       "        <td style=\"padding-left: 1em; padding-right: 1em; text-align: center; vertical-align: top\">6.94140980137</td>\n",
       "    </tr>\n",
       "    <tr>\n",
       "        <td style=\"padding-left: 1em; padding-right: 1em; text-align: center; vertical-align: top\">44643</td>\n",
       "        <td style=\"padding-left: 1em; padding-right: 1em; text-align: center; vertical-align: top\">39</td>\n",
       "        <td style=\"padding-left: 1em; padding-right: 1em; text-align: center; vertical-align: top\">4.11755940807</td>\n",
       "    </tr>\n",
       "    <tr>\n",
       "        <td style=\"padding-left: 1em; padding-right: 1em; text-align: center; vertical-align: top\">58677</td>\n",
       "        <td style=\"padding-left: 1em; padding-right: 1em; text-align: center; vertical-align: top\">13</td>\n",
       "        <td style=\"padding-left: 1em; padding-right: 1em; text-align: center; vertical-align: top\">12.0144808043</td>\n",
       "    </tr>\n",
       "    <tr>\n",
       "        <td style=\"padding-left: 1em; padding-right: 1em; text-align: center; vertical-align: top\">30046</td>\n",
       "        <td style=\"padding-left: 1em; padding-right: 1em; text-align: center; vertical-align: top\">101</td>\n",
       "        <td style=\"padding-left: 1em; padding-right: 1em; text-align: center; vertical-align: top\">-6.10502317059</td>\n",
       "    </tr>\n",
       "    <tr>\n",
       "        <td style=\"padding-left: 1em; padding-right: 1em; text-align: center; vertical-align: top\">62508</td>\n",
       "        <td style=\"padding-left: 1em; padding-right: 1em; text-align: center; vertical-align: top\">16</td>\n",
       "        <td style=\"padding-left: 1em; padding-right: 1em; text-align: center; vertical-align: top\">2.09150770796</td>\n",
       "    </tr>\n",
       "    <tr>\n",
       "        <td style=\"padding-left: 1em; padding-right: 1em; text-align: center; vertical-align: top\">14488</td>\n",
       "        <td style=\"padding-left: 1em; padding-right: 1em; text-align: center; vertical-align: top\">7</td>\n",
       "        <td style=\"padding-left: 1em; padding-right: 1em; text-align: center; vertical-align: top\">-0.682110811349</td>\n",
       "    </tr>\n",
       "    <tr>\n",
       "        <td style=\"padding-left: 1em; padding-right: 1em; text-align: center; vertical-align: top\">39459</td>\n",
       "        <td style=\"padding-left: 1em; padding-right: 1em; text-align: center; vertical-align: top\">72</td>\n",
       "        <td style=\"padding-left: 1em; padding-right: 1em; text-align: center; vertical-align: top\">10.2417623748</td>\n",
       "    </tr>\n",
       "    <tr>\n",
       "        <td style=\"padding-left: 1em; padding-right: 1em; text-align: center; vertical-align: top\">62442</td>\n",
       "        <td style=\"padding-left: 1em; padding-right: 1em; text-align: center; vertical-align: top\">88</td>\n",
       "        <td style=\"padding-left: 1em; padding-right: 1em; text-align: center; vertical-align: top\">3.14281079662</td>\n",
       "    </tr>\n",
       "</table>\n",
       "[10 rows x 3 columns]<br/>\n",
       "</div>"
      ],
      "text/plain": [
       "Columns:\n",
       "\tuser_id\tint\n",
       "\tjoke_id\tint\n",
       "\trating_target\tfloat\n",
       "\n",
       "Rows: 10\n",
       "\n",
       "Data:\n",
       "+---------+---------+-----------------+\n",
       "| user_id | joke_id |  rating_target  |\n",
       "+---------+---------+-----------------+\n",
       "|  30762  |    24   |  -4.22934367764 |\n",
       "|  54667  |   128   |   9.5032493819  |\n",
       "|  38515  |    68   |  6.94140980137  |\n",
       "|  44643  |    39   |  4.11755940807  |\n",
       "|  58677  |    13   |  12.0144808043  |\n",
       "|  30046  |   101   |  -6.10502317059 |\n",
       "|  62508  |    16   |  2.09150770796  |\n",
       "|  14488  |    7    | -0.682110811349 |\n",
       "|  39459  |    72   |  10.2417623748  |\n",
       "|  62442  |    88   |  3.14281079662  |\n",
       "+---------+---------+-----------------+\n",
       "[10 rows x 3 columns]"
      ]
     },
     "execution_count": 64,
     "metadata": {},
     "output_type": "execute_result"
    }
   ],
   "source": [
    "sf_test_als = sf_test.copy()\n",
    "sf_test_als['rating_target'] = test_als_pred\n",
    "sf_test_als.head()"
   ]
  },
  {
   "cell_type": "code",
   "execution_count": 65,
   "metadata": {
    "collapsed": false
   },
   "outputs": [
    {
     "data": {
      "text/html": [
       "<div>\n",
       "<table border=\"1\" class=\"dataframe\">\n",
       "  <thead>\n",
       "    <tr style=\"text-align: right;\">\n",
       "      <th></th>\n",
       "      <th>user_id</th>\n",
       "      <th>joke_id</th>\n",
       "      <th>rating_target</th>\n",
       "    </tr>\n",
       "  </thead>\n",
       "  <tbody>\n",
       "    <tr>\n",
       "      <th>0</th>\n",
       "      <td>30762</td>\n",
       "      <td>24</td>\n",
       "      <td>-4.229344</td>\n",
       "    </tr>\n",
       "    <tr>\n",
       "      <th>1</th>\n",
       "      <td>54667</td>\n",
       "      <td>128</td>\n",
       "      <td>9.503249</td>\n",
       "    </tr>\n",
       "    <tr>\n",
       "      <th>2</th>\n",
       "      <td>38515</td>\n",
       "      <td>68</td>\n",
       "      <td>6.941410</td>\n",
       "    </tr>\n",
       "    <tr>\n",
       "      <th>3</th>\n",
       "      <td>44643</td>\n",
       "      <td>39</td>\n",
       "      <td>4.117559</td>\n",
       "    </tr>\n",
       "    <tr>\n",
       "      <th>4</th>\n",
       "      <td>58677</td>\n",
       "      <td>13</td>\n",
       "      <td>12.014481</td>\n",
       "    </tr>\n",
       "  </tbody>\n",
       "</table>\n",
       "</div>"
      ],
      "text/plain": [
       "   user_id  joke_id  rating_target\n",
       "0    30762       24      -4.229344\n",
       "1    54667      128       9.503249\n",
       "2    38515       68       6.941410\n",
       "3    44643       39       4.117559\n",
       "4    58677       13      12.014481"
      ]
     },
     "execution_count": 65,
     "metadata": {},
     "output_type": "execute_result"
    }
   ],
   "source": [
    "df_test_als = sf_test_als.to_dataframe()\n",
    "df_test_als.head()"
   ]
  },
  {
   "cell_type": "code",
   "execution_count": 66,
   "metadata": {
    "collapsed": false
   },
   "outputs": [
    {
     "data": {
      "text/plain": [
       "2.7012449401115313"
      ]
     },
     "execution_count": 66,
     "metadata": {},
     "output_type": "execute_result"
    }
   ],
   "source": [
    "score_top_5_percent(df_test_als)"
   ]
  },
  {
   "cell_type": "markdown",
   "metadata": {},
   "source": [
    "## Comments: we tried number of iterations of 100 and 300, which result in similar scores. But increasing the num_factor (k) from the default value 8 to 20 imporves the score from 2.6 to 2.7."
   ]
  },
  {
   "cell_type": "markdown",
   "metadata": {},
   "source": [
    "## Increase the num_factors (k), and we expect higher precision but longer running time"
   ]
  },
  {
   "cell_type": "code",
   "execution_count": 67,
   "metadata": {
    "collapsed": true
   },
   "outputs": [
    {
     "data": {
      "text/html": [
       "<pre>Recsys training: model = factorization_recommender</pre>"
      ],
      "text/plain": [
       "Recsys training: model = factorization_recommender"
      ]
     },
     "metadata": {},
     "output_type": "display_data"
    },
    {
     "data": {
      "text/html": [
       "<pre>Preparing data set.</pre>"
      ],
      "text/plain": [
       "Preparing data set."
      ]
     },
     "metadata": {},
     "output_type": "display_data"
    },
    {
     "data": {
      "text/html": [
       "<pre>    Data has 1000000 observations with 58125 users and 140 items.</pre>"
      ],
      "text/plain": [
       "    Data has 1000000 observations with 58125 users and 140 items."
      ]
     },
     "metadata": {},
     "output_type": "display_data"
    },
    {
     "data": {
      "text/html": [
       "<pre>    Data prepared in: 1.47179s</pre>"
      ],
      "text/plain": [
       "    Data prepared in: 1.47179s"
      ]
     },
     "metadata": {},
     "output_type": "display_data"
    },
    {
     "data": {
      "text/html": [
       "<pre>Training factorization_recommender for recommendations.</pre>"
      ],
      "text/plain": [
       "Training factorization_recommender for recommendations."
      ]
     },
     "metadata": {},
     "output_type": "display_data"
    },
    {
     "data": {
      "text/html": [
       "<pre>+------------------------------+--------------------------------------------------+----------+</pre>"
      ],
      "text/plain": [
       "+------------------------------+--------------------------------------------------+----------+"
      ]
     },
     "metadata": {},
     "output_type": "display_data"
    },
    {
     "data": {
      "text/html": [
       "<pre>| Parameter                    | Description                                      | Value    |</pre>"
      ],
      "text/plain": [
       "| Parameter                    | Description                                      | Value    |"
      ]
     },
     "metadata": {},
     "output_type": "display_data"
    },
    {
     "data": {
      "text/html": [
       "<pre>+------------------------------+--------------------------------------------------+----------+</pre>"
      ],
      "text/plain": [
       "+------------------------------+--------------------------------------------------+----------+"
      ]
     },
     "metadata": {},
     "output_type": "display_data"
    },
    {
     "data": {
      "text/html": [
       "<pre>| num_factors                  | Factor Dimension                                 | 30       |</pre>"
      ],
      "text/plain": [
       "| num_factors                  | Factor Dimension                                 | 30       |"
      ]
     },
     "metadata": {},
     "output_type": "display_data"
    },
    {
     "data": {
      "text/html": [
       "<pre>| regularization               | L2 Regularization on Factors                     | 1e-08    |</pre>"
      ],
      "text/plain": [
       "| regularization               | L2 Regularization on Factors                     | 1e-08    |"
      ]
     },
     "metadata": {},
     "output_type": "display_data"
    },
    {
     "data": {
      "text/html": [
       "<pre>| max_iterations               | Maximum Number of Iterations                     | 100      |</pre>"
      ],
      "text/plain": [
       "| max_iterations               | Maximum Number of Iterations                     | 100      |"
      ]
     },
     "metadata": {},
     "output_type": "display_data"
    },
    {
     "data": {
      "text/html": [
       "<pre>| solver                       | Solver used for training                         | als      |</pre>"
      ],
      "text/plain": [
       "| solver                       | Solver used for training                         | als      |"
      ]
     },
     "metadata": {},
     "output_type": "display_data"
    },
    {
     "data": {
      "text/html": [
       "<pre>+------------------------------+--------------------------------------------------+----------+</pre>"
      ],
      "text/plain": [
       "+------------------------------+--------------------------------------------------+----------+"
      ]
     },
     "metadata": {},
     "output_type": "display_data"
    },
    {
     "data": {
      "text/html": [
       "<pre>+---------+--------------+------------------------+</pre>"
      ],
      "text/plain": [
       "+---------+--------------+------------------------+"
      ]
     },
     "metadata": {},
     "output_type": "display_data"
    },
    {
     "data": {
      "text/html": [
       "<pre>| Iter.   | Elapsed time | RMSE                   |</pre>"
      ],
      "text/plain": [
       "| Iter.   | Elapsed time | RMSE                   |"
      ]
     },
     "metadata": {},
     "output_type": "display_data"
    },
    {
     "data": {
      "text/html": [
       "<pre>+---------+--------------+------------------------+</pre>"
      ],
      "text/plain": [
       "+---------+--------------+------------------------+"
      ]
     },
     "metadata": {},
     "output_type": "display_data"
    },
    {
     "data": {
      "text/html": [
       "<pre>| Initial | 81us         | NA                     |</pre>"
      ],
      "text/plain": [
       "| Initial | 81us         | NA                     |"
      ]
     },
     "metadata": {},
     "output_type": "display_data"
    },
    {
     "data": {
      "text/html": [
       "<pre>+---------+--------------+------------------------+</pre>"
      ],
      "text/plain": [
       "+---------+--------------+------------------------+"
      ]
     },
     "metadata": {},
     "output_type": "display_data"
    },
    {
     "data": {
      "text/html": [
       "<pre>| 0       | 3.10s        | 3.29614                |</pre>"
      ],
      "text/plain": [
       "| 0       | 3.10s        | 3.29614                |"
      ]
     },
     "metadata": {},
     "output_type": "display_data"
    },
    {
     "data": {
      "text/html": [
       "<pre>| 1       | 5.39s        | 1.78656                |</pre>"
      ],
      "text/plain": [
       "| 1       | 5.39s        | 1.78656                |"
      ]
     },
     "metadata": {},
     "output_type": "display_data"
    },
    {
     "data": {
      "text/html": [
       "<pre>| 2       | 7.70s        | 1.75995                |</pre>"
      ],
      "text/plain": [
       "| 2       | 7.70s        | 1.75995                |"
      ]
     },
     "metadata": {},
     "output_type": "display_data"
    },
    {
     "data": {
      "text/html": [
       "<pre>| 3       | 10.09s       | 1.73929                |</pre>"
      ],
      "text/plain": [
       "| 3       | 10.09s       | 1.73929                |"
      ]
     },
     "metadata": {},
     "output_type": "display_data"
    },
    {
     "data": {
      "text/html": [
       "<pre>| 4       | 12.93s       | 1.72223                |</pre>"
      ],
      "text/plain": [
       "| 4       | 12.93s       | 1.72223                |"
      ]
     },
     "metadata": {},
     "output_type": "display_data"
    },
    {
     "data": {
      "text/html": [
       "<pre>| 5       | 15.91s       | 1.70764                |</pre>"
      ],
      "text/plain": [
       "| 5       | 15.91s       | 1.70764                |"
      ]
     },
     "metadata": {},
     "output_type": "display_data"
    },
    {
     "data": {
      "text/html": [
       "<pre>| 6       | 18.77s       | 1.69492                |</pre>"
      ],
      "text/plain": [
       "| 6       | 18.77s       | 1.69492                |"
      ]
     },
     "metadata": {},
     "output_type": "display_data"
    },
    {
     "data": {
      "text/html": [
       "<pre>| 7       | 21.08s       | 1.68379                |</pre>"
      ],
      "text/plain": [
       "| 7       | 21.08s       | 1.68379                |"
      ]
     },
     "metadata": {},
     "output_type": "display_data"
    },
    {
     "data": {
      "text/html": [
       "<pre>| 8       | 24.04s       | 1.67395                |</pre>"
      ],
      "text/plain": [
       "| 8       | 24.04s       | 1.67395                |"
      ]
     },
     "metadata": {},
     "output_type": "display_data"
    },
    {
     "data": {
      "text/html": [
       "<pre>| 9       | 26.70s       | 1.6652                 |</pre>"
      ],
      "text/plain": [
       "| 9       | 26.70s       | 1.6652                 |"
      ]
     },
     "metadata": {},
     "output_type": "display_data"
    },
    {
     "data": {
      "text/html": [
       "<pre>| 10      | 29.05s       | 1.65741                |</pre>"
      ],
      "text/plain": [
       "| 10      | 29.05s       | 1.65741                |"
      ]
     },
     "metadata": {},
     "output_type": "display_data"
    },
    {
     "data": {
      "text/html": [
       "<pre>| 11      | 31.34s       | 1.65044                |</pre>"
      ],
      "text/plain": [
       "| 11      | 31.34s       | 1.65044                |"
      ]
     },
     "metadata": {},
     "output_type": "display_data"
    },
    {
     "data": {
      "text/html": [
       "<pre>| 12      | 33.61s       | 1.64415                |</pre>"
      ],
      "text/plain": [
       "| 12      | 33.61s       | 1.64415                |"
      ]
     },
     "metadata": {},
     "output_type": "display_data"
    },
    {
     "data": {
      "text/html": [
       "<pre>| 13      | 36.08s       | 1.63843                |</pre>"
      ],
      "text/plain": [
       "| 13      | 36.08s       | 1.63843                |"
      ]
     },
     "metadata": {},
     "output_type": "display_data"
    },
    {
     "data": {
      "text/html": [
       "<pre>| 14      | 38.53s       | 1.6332                 |</pre>"
      ],
      "text/plain": [
       "| 14      | 38.53s       | 1.6332                 |"
      ]
     },
     "metadata": {},
     "output_type": "display_data"
    },
    {
     "data": {
      "text/html": [
       "<pre>| 15      | 40.87s       | 1.62841                |</pre>"
      ],
      "text/plain": [
       "| 15      | 40.87s       | 1.62841                |"
      ]
     },
     "metadata": {},
     "output_type": "display_data"
    },
    {
     "data": {
      "text/html": [
       "<pre>| 16      | 43.22s       | 1.624                  |</pre>"
      ],
      "text/plain": [
       "| 16      | 43.22s       | 1.624                  |"
      ]
     },
     "metadata": {},
     "output_type": "display_data"
    },
    {
     "data": {
      "text/html": [
       "<pre>| 17      | 45.75s       | 1.61994                |</pre>"
      ],
      "text/plain": [
       "| 17      | 45.75s       | 1.61994                |"
      ]
     },
     "metadata": {},
     "output_type": "display_data"
    },
    {
     "data": {
      "text/html": [
       "<pre>| 18      | 48.26s       | 1.61618                |</pre>"
      ],
      "text/plain": [
       "| 18      | 48.26s       | 1.61618                |"
      ]
     },
     "metadata": {},
     "output_type": "display_data"
    },
    {
     "data": {
      "text/html": [
       "<pre>| 19      | 51.06s       | 1.61268                |</pre>"
      ],
      "text/plain": [
       "| 19      | 51.06s       | 1.61268                |"
      ]
     },
     "metadata": {},
     "output_type": "display_data"
    },
    {
     "data": {
      "text/html": [
       "<pre>| 20      | 54.03s       | 1.60943                |</pre>"
      ],
      "text/plain": [
       "| 20      | 54.03s       | 1.60943                |"
      ]
     },
     "metadata": {},
     "output_type": "display_data"
    },
    {
     "data": {
      "text/html": [
       "<pre>| 21      | 56.34s       | 1.6064                 |</pre>"
      ],
      "text/plain": [
       "| 21      | 56.34s       | 1.6064                 |"
      ]
     },
     "metadata": {},
     "output_type": "display_data"
    },
    {
     "data": {
      "text/html": [
       "<pre>| 22      | 58.60s       | 1.60357                |</pre>"
      ],
      "text/plain": [
       "| 22      | 58.60s       | 1.60357                |"
      ]
     },
     "metadata": {},
     "output_type": "display_data"
    },
    {
     "data": {
      "text/html": [
       "<pre>| 23      | 1m 0s        | 1.60092                |</pre>"
      ],
      "text/plain": [
       "| 23      | 1m 0s        | 1.60092                |"
      ]
     },
     "metadata": {},
     "output_type": "display_data"
    },
    {
     "data": {
      "text/html": [
       "<pre>| 24      | 1m 3s        | 1.59841                |</pre>"
      ],
      "text/plain": [
       "| 24      | 1m 3s        | 1.59841                |"
      ]
     },
     "metadata": {},
     "output_type": "display_data"
    },
    {
     "data": {
      "text/html": [
       "<pre>| 25      | 1m 5s        | 1.59603                |</pre>"
      ],
      "text/plain": [
       "| 25      | 1m 5s        | 1.59603                |"
      ]
     },
     "metadata": {},
     "output_type": "display_data"
    },
    {
     "data": {
      "text/html": [
       "<pre>| 26      | 1m 8s        | 1.59379                |</pre>"
      ],
      "text/plain": [
       "| 26      | 1m 8s        | 1.59379                |"
      ]
     },
     "metadata": {},
     "output_type": "display_data"
    },
    {
     "data": {
      "text/html": [
       "<pre>| 27      | 1m 10s       | 1.59166                |</pre>"
      ],
      "text/plain": [
       "| 27      | 1m 10s       | 1.59166                |"
      ]
     },
     "metadata": {},
     "output_type": "display_data"
    },
    {
     "data": {
      "text/html": [
       "<pre>| 28      | 1m 14s       | 1.58964                |</pre>"
      ],
      "text/plain": [
       "| 28      | 1m 14s       | 1.58964                |"
      ]
     },
     "metadata": {},
     "output_type": "display_data"
    },
    {
     "data": {
      "text/html": [
       "<pre>| 29      | 1m 16s       | 1.58771                |</pre>"
      ],
      "text/plain": [
       "| 29      | 1m 16s       | 1.58771                |"
      ]
     },
     "metadata": {},
     "output_type": "display_data"
    },
    {
     "data": {
      "text/html": [
       "<pre>| 30      | 1m 19s       | 1.58588                |</pre>"
      ],
      "text/plain": [
       "| 30      | 1m 19s       | 1.58588                |"
      ]
     },
     "metadata": {},
     "output_type": "display_data"
    },
    {
     "data": {
      "text/html": [
       "<pre>| 31      | 1m 21s       | 1.58414                |</pre>"
      ],
      "text/plain": [
       "| 31      | 1m 21s       | 1.58414                |"
      ]
     },
     "metadata": {},
     "output_type": "display_data"
    },
    {
     "data": {
      "text/html": [
       "<pre>| 32      | 1m 24s       | 1.58248                |</pre>"
      ],
      "text/plain": [
       "| 32      | 1m 24s       | 1.58248                |"
      ]
     },
     "metadata": {},
     "output_type": "display_data"
    },
    {
     "data": {
      "text/html": [
       "<pre>| 33      | 1m 26s       | 1.58089                |</pre>"
      ],
      "text/plain": [
       "| 33      | 1m 26s       | 1.58089                |"
      ]
     },
     "metadata": {},
     "output_type": "display_data"
    },
    {
     "data": {
      "text/html": [
       "<pre>| 34      | 1m 30s       | 1.57936                |</pre>"
      ],
      "text/plain": [
       "| 34      | 1m 30s       | 1.57936                |"
      ]
     },
     "metadata": {},
     "output_type": "display_data"
    },
    {
     "data": {
      "text/html": [
       "<pre>| 35      | 1m 33s       | 1.57789                |</pre>"
      ],
      "text/plain": [
       "| 35      | 1m 33s       | 1.57789                |"
      ]
     },
     "metadata": {},
     "output_type": "display_data"
    },
    {
     "data": {
      "text/html": [
       "<pre>| 36      | 1m 36s       | 1.57648                |</pre>"
      ],
      "text/plain": [
       "| 36      | 1m 36s       | 1.57648                |"
      ]
     },
     "metadata": {},
     "output_type": "display_data"
    },
    {
     "data": {
      "text/html": [
       "<pre>| 37      | 1m 41s       | 1.57513                |</pre>"
      ],
      "text/plain": [
       "| 37      | 1m 41s       | 1.57513                |"
      ]
     },
     "metadata": {},
     "output_type": "display_data"
    },
    {
     "data": {
      "text/html": [
       "<pre>| 38      | 1m 45s       | 1.57382                |</pre>"
      ],
      "text/plain": [
       "| 38      | 1m 45s       | 1.57382                |"
      ]
     },
     "metadata": {},
     "output_type": "display_data"
    },
    {
     "data": {
      "text/html": [
       "<pre>| 39      | 1m 48s       | 1.57255                |</pre>"
      ],
      "text/plain": [
       "| 39      | 1m 48s       | 1.57255                |"
      ]
     },
     "metadata": {},
     "output_type": "display_data"
    },
    {
     "data": {
      "text/html": [
       "<pre>| 40      | 1m 51s       | 1.57132                |</pre>"
      ],
      "text/plain": [
       "| 40      | 1m 51s       | 1.57132                |"
      ]
     },
     "metadata": {},
     "output_type": "display_data"
    },
    {
     "data": {
      "text/html": [
       "<pre>| 41      | 1m 54s       | 1.57013                |</pre>"
      ],
      "text/plain": [
       "| 41      | 1m 54s       | 1.57013                |"
      ]
     },
     "metadata": {},
     "output_type": "display_data"
    },
    {
     "data": {
      "text/html": [
       "<pre>| 42      | 1m 56s       | 1.56898                |</pre>"
      ],
      "text/plain": [
       "| 42      | 1m 56s       | 1.56898                |"
      ]
     },
     "metadata": {},
     "output_type": "display_data"
    },
    {
     "data": {
      "text/html": [
       "<pre>| 43      | 2m 0s        | 1.56787                |</pre>"
      ],
      "text/plain": [
       "| 43      | 2m 0s        | 1.56787                |"
      ]
     },
     "metadata": {},
     "output_type": "display_data"
    },
    {
     "data": {
      "text/html": [
       "<pre>| 44      | 2m 3s        | 1.56678                |</pre>"
      ],
      "text/plain": [
       "| 44      | 2m 3s        | 1.56678                |"
      ]
     },
     "metadata": {},
     "output_type": "display_data"
    },
    {
     "data": {
      "text/html": [
       "<pre>| 45      | 2m 5s        | 1.56573                |</pre>"
      ],
      "text/plain": [
       "| 45      | 2m 5s        | 1.56573                |"
      ]
     },
     "metadata": {},
     "output_type": "display_data"
    },
    {
     "data": {
      "text/html": [
       "<pre>| 46      | 2m 8s        | 1.56471                |</pre>"
      ],
      "text/plain": [
       "| 46      | 2m 8s        | 1.56471                |"
      ]
     },
     "metadata": {},
     "output_type": "display_data"
    },
    {
     "data": {
      "text/html": [
       "<pre>| 47      | 2m 10s       | 1.56372                |</pre>"
      ],
      "text/plain": [
       "| 47      | 2m 10s       | 1.56372                |"
      ]
     },
     "metadata": {},
     "output_type": "display_data"
    },
    {
     "data": {
      "text/html": [
       "<pre>| 48      | 2m 13s       | 1.56275                |</pre>"
      ],
      "text/plain": [
       "| 48      | 2m 13s       | 1.56275                |"
      ]
     },
     "metadata": {},
     "output_type": "display_data"
    },
    {
     "data": {
      "text/html": [
       "<pre>| 49      | 2m 15s       | 1.56181                |</pre>"
      ],
      "text/plain": [
       "| 49      | 2m 15s       | 1.56181                |"
      ]
     },
     "metadata": {},
     "output_type": "display_data"
    },
    {
     "data": {
      "text/html": [
       "<pre>| 50      | 2m 18s       | 1.5609                 |</pre>"
      ],
      "text/plain": [
       "| 50      | 2m 18s       | 1.5609                 |"
      ]
     },
     "metadata": {},
     "output_type": "display_data"
    },
    {
     "data": {
      "text/html": [
       "<pre>| 51      | 2m 20s       | 1.56001                |</pre>"
      ],
      "text/plain": [
       "| 51      | 2m 20s       | 1.56001                |"
      ]
     },
     "metadata": {},
     "output_type": "display_data"
    },
    {
     "data": {
      "text/html": [
       "<pre>| 52      | 2m 23s       | 1.55914                |</pre>"
      ],
      "text/plain": [
       "| 52      | 2m 23s       | 1.55914                |"
      ]
     },
     "metadata": {},
     "output_type": "display_data"
    },
    {
     "data": {
      "text/html": [
       "<pre>| 53      | 2m 27s       | 1.5583                 |</pre>"
      ],
      "text/plain": [
       "| 53      | 2m 27s       | 1.5583                 |"
      ]
     },
     "metadata": {},
     "output_type": "display_data"
    },
    {
     "data": {
      "text/html": [
       "<pre>| 54      | 2m 31s       | 1.55749                |</pre>"
      ],
      "text/plain": [
       "| 54      | 2m 31s       | 1.55749                |"
      ]
     },
     "metadata": {},
     "output_type": "display_data"
    },
    {
     "data": {
      "text/html": [
       "<pre>| 55      | 2m 36s       | 1.55669                |</pre>"
      ],
      "text/plain": [
       "| 55      | 2m 36s       | 1.55669                |"
      ]
     },
     "metadata": {},
     "output_type": "display_data"
    },
    {
     "data": {
      "text/html": [
       "<pre>| 56      | 2m 39s       | 1.55592                |</pre>"
      ],
      "text/plain": [
       "| 56      | 2m 39s       | 1.55592                |"
      ]
     },
     "metadata": {},
     "output_type": "display_data"
    },
    {
     "data": {
      "text/html": [
       "<pre>| 57      | 2m 42s       | 1.55517                |</pre>"
      ],
      "text/plain": [
       "| 57      | 2m 42s       | 1.55517                |"
      ]
     },
     "metadata": {},
     "output_type": "display_data"
    },
    {
     "data": {
      "text/html": [
       "<pre>| 58      | 2m 45s       | 1.55445                |</pre>"
      ],
      "text/plain": [
       "| 58      | 2m 45s       | 1.55445                |"
      ]
     },
     "metadata": {},
     "output_type": "display_data"
    },
    {
     "data": {
      "text/html": [
       "<pre>| 59      | 2m 49s       | 1.55374                |</pre>"
      ],
      "text/plain": [
       "| 59      | 2m 49s       | 1.55374                |"
      ]
     },
     "metadata": {},
     "output_type": "display_data"
    },
    {
     "data": {
      "text/html": [
       "<pre>| 60      | 2m 52s       | 1.55306                |</pre>"
      ],
      "text/plain": [
       "| 60      | 2m 52s       | 1.55306                |"
      ]
     },
     "metadata": {},
     "output_type": "display_data"
    },
    {
     "data": {
      "text/html": [
       "<pre>| 61      | 2m 56s       | 1.55239                |</pre>"
      ],
      "text/plain": [
       "| 61      | 2m 56s       | 1.55239                |"
      ]
     },
     "metadata": {},
     "output_type": "display_data"
    },
    {
     "data": {
      "text/html": [
       "<pre>| 62      | 2m 59s       | 1.55174                |</pre>"
      ],
      "text/plain": [
       "| 62      | 2m 59s       | 1.55174                |"
      ]
     },
     "metadata": {},
     "output_type": "display_data"
    },
    {
     "data": {
      "text/html": [
       "<pre>| 63      | 3m 2s        | 1.55112                |</pre>"
      ],
      "text/plain": [
       "| 63      | 3m 2s        | 1.55112                |"
      ]
     },
     "metadata": {},
     "output_type": "display_data"
    },
    {
     "data": {
      "text/html": [
       "<pre>| 64      | 3m 6s        | 1.55051                |</pre>"
      ],
      "text/plain": [
       "| 64      | 3m 6s        | 1.55051                |"
      ]
     },
     "metadata": {},
     "output_type": "display_data"
    },
    {
     "data": {
      "text/html": [
       "<pre>| 65      | 3m 9s        | 1.54991                |</pre>"
      ],
      "text/plain": [
       "| 65      | 3m 9s        | 1.54991                |"
      ]
     },
     "metadata": {},
     "output_type": "display_data"
    },
    {
     "data": {
      "text/html": [
       "<pre>| 66      | 3m 12s       | 1.54934                |</pre>"
      ],
      "text/plain": [
       "| 66      | 3m 12s       | 1.54934                |"
      ]
     },
     "metadata": {},
     "output_type": "display_data"
    },
    {
     "data": {
      "text/html": [
       "<pre>| 67      | 3m 15s       | 1.54877                |</pre>"
      ],
      "text/plain": [
       "| 67      | 3m 15s       | 1.54877                |"
      ]
     },
     "metadata": {},
     "output_type": "display_data"
    },
    {
     "data": {
      "text/html": [
       "<pre>| 68      | 3m 19s       | 1.54823                |</pre>"
      ],
      "text/plain": [
       "| 68      | 3m 19s       | 1.54823                |"
      ]
     },
     "metadata": {},
     "output_type": "display_data"
    },
    {
     "data": {
      "text/html": [
       "<pre>| 69      | 3m 22s       | 1.5477                 |</pre>"
      ],
      "text/plain": [
       "| 69      | 3m 22s       | 1.5477                 |"
      ]
     },
     "metadata": {},
     "output_type": "display_data"
    },
    {
     "data": {
      "text/html": [
       "<pre>| 70      | 3m 25s       | 1.54719                |</pre>"
      ],
      "text/plain": [
       "| 70      | 3m 25s       | 1.54719                |"
      ]
     },
     "metadata": {},
     "output_type": "display_data"
    },
    {
     "data": {
      "text/html": [
       "<pre>| 71      | 3m 29s       | 1.54669                |</pre>"
      ],
      "text/plain": [
       "| 71      | 3m 29s       | 1.54669                |"
      ]
     },
     "metadata": {},
     "output_type": "display_data"
    },
    {
     "data": {
      "text/html": [
       "<pre>| 72      | 3m 32s       | 1.54621                |</pre>"
      ],
      "text/plain": [
       "| 72      | 3m 32s       | 1.54621                |"
      ]
     },
     "metadata": {},
     "output_type": "display_data"
    },
    {
     "data": {
      "text/html": [
       "<pre>| 73      | 3m 35s       | 1.54573                |</pre>"
      ],
      "text/plain": [
       "| 73      | 3m 35s       | 1.54573                |"
      ]
     },
     "metadata": {},
     "output_type": "display_data"
    },
    {
     "data": {
      "text/html": [
       "<pre>| 74      | 3m 38s       | 1.54527                |</pre>"
      ],
      "text/plain": [
       "| 74      | 3m 38s       | 1.54527                |"
      ]
     },
     "metadata": {},
     "output_type": "display_data"
    },
    {
     "data": {
      "text/html": [
       "<pre>| 75      | 3m 42s       | 1.54481                |</pre>"
      ],
      "text/plain": [
       "| 75      | 3m 42s       | 1.54481                |"
      ]
     },
     "metadata": {},
     "output_type": "display_data"
    },
    {
     "data": {
      "text/html": [
       "<pre>| 76      | 3m 45s       | 1.54437                |</pre>"
      ],
      "text/plain": [
       "| 76      | 3m 45s       | 1.54437                |"
      ]
     },
     "metadata": {},
     "output_type": "display_data"
    },
    {
     "data": {
      "text/html": [
       "<pre>| 77      | 3m 47s       | 1.54394                |</pre>"
      ],
      "text/plain": [
       "| 77      | 3m 47s       | 1.54394                |"
      ]
     },
     "metadata": {},
     "output_type": "display_data"
    },
    {
     "data": {
      "text/html": [
       "<pre>| 78      | 3m 50s       | 1.54351                |</pre>"
      ],
      "text/plain": [
       "| 78      | 3m 50s       | 1.54351                |"
      ]
     },
     "metadata": {},
     "output_type": "display_data"
    },
    {
     "data": {
      "text/html": [
       "<pre>| 79      | 3m 53s       | 1.54309                |</pre>"
      ],
      "text/plain": [
       "| 79      | 3m 53s       | 1.54309                |"
      ]
     },
     "metadata": {},
     "output_type": "display_data"
    },
    {
     "data": {
      "text/html": [
       "<pre>| 80      | 3m 56s       | 1.54269                |</pre>"
      ],
      "text/plain": [
       "| 80      | 3m 56s       | 1.54269                |"
      ]
     },
     "metadata": {},
     "output_type": "display_data"
    },
    {
     "data": {
      "text/html": [
       "<pre>| 81      | 3m 59s       | 1.54228                |</pre>"
      ],
      "text/plain": [
       "| 81      | 3m 59s       | 1.54228                |"
      ]
     },
     "metadata": {},
     "output_type": "display_data"
    },
    {
     "data": {
      "text/html": [
       "<pre>| 82      | 4m 2s        | 1.54189                |</pre>"
      ],
      "text/plain": [
       "| 82      | 4m 2s        | 1.54189                |"
      ]
     },
     "metadata": {},
     "output_type": "display_data"
    },
    {
     "data": {
      "text/html": [
       "<pre>| 83      | 4m 5s        | 1.54151                |</pre>"
      ],
      "text/plain": [
       "| 83      | 4m 5s        | 1.54151                |"
      ]
     },
     "metadata": {},
     "output_type": "display_data"
    },
    {
     "data": {
      "text/html": [
       "<pre>| 84      | 4m 8s        | 1.54113                |</pre>"
      ],
      "text/plain": [
       "| 84      | 4m 8s        | 1.54113                |"
      ]
     },
     "metadata": {},
     "output_type": "display_data"
    },
    {
     "data": {
      "text/html": [
       "<pre>| 85      | 4m 11s       | 1.54076                |</pre>"
      ],
      "text/plain": [
       "| 85      | 4m 11s       | 1.54076                |"
      ]
     },
     "metadata": {},
     "output_type": "display_data"
    },
    {
     "data": {
      "text/html": [
       "<pre>| 86      | 4m 14s       | 1.54039                |</pre>"
      ],
      "text/plain": [
       "| 86      | 4m 14s       | 1.54039                |"
      ]
     },
     "metadata": {},
     "output_type": "display_data"
    },
    {
     "data": {
      "text/html": [
       "<pre>| 87      | 4m 17s       | 1.54004                |</pre>"
      ],
      "text/plain": [
       "| 87      | 4m 17s       | 1.54004                |"
      ]
     },
     "metadata": {},
     "output_type": "display_data"
    },
    {
     "data": {
      "text/html": [
       "<pre>| 88      | 4m 20s       | 1.53969                |</pre>"
      ],
      "text/plain": [
       "| 88      | 4m 20s       | 1.53969                |"
      ]
     },
     "metadata": {},
     "output_type": "display_data"
    },
    {
     "data": {
      "text/html": [
       "<pre>| 89      | 4m 23s       | 1.53935                |</pre>"
      ],
      "text/plain": [
       "| 89      | 4m 23s       | 1.53935                |"
      ]
     },
     "metadata": {},
     "output_type": "display_data"
    },
    {
     "data": {
      "text/html": [
       "<pre>| 90      | 4m 26s       | 1.53902                |</pre>"
      ],
      "text/plain": [
       "| 90      | 4m 26s       | 1.53902                |"
      ]
     },
     "metadata": {},
     "output_type": "display_data"
    },
    {
     "data": {
      "text/html": [
       "<pre>| 91      | 4m 29s       | 1.5387                 |</pre>"
      ],
      "text/plain": [
       "| 91      | 4m 29s       | 1.5387                 |"
      ]
     },
     "metadata": {},
     "output_type": "display_data"
    },
    {
     "data": {
      "text/html": [
       "<pre>| 92      | 4m 33s       | 1.53838                |</pre>"
      ],
      "text/plain": [
       "| 92      | 4m 33s       | 1.53838                |"
      ]
     },
     "metadata": {},
     "output_type": "display_data"
    },
    {
     "data": {
      "text/html": [
       "<pre>| 93      | 4m 35s       | 1.53808                |</pre>"
      ],
      "text/plain": [
       "| 93      | 4m 35s       | 1.53808                |"
      ]
     },
     "metadata": {},
     "output_type": "display_data"
    },
    {
     "data": {
      "text/html": [
       "<pre>| 94      | 4m 38s       | 1.53778                |</pre>"
      ],
      "text/plain": [
       "| 94      | 4m 38s       | 1.53778                |"
      ]
     },
     "metadata": {},
     "output_type": "display_data"
    },
    {
     "data": {
      "text/html": [
       "<pre>| 95      | 4m 41s       | 1.53749                |</pre>"
      ],
      "text/plain": [
       "| 95      | 4m 41s       | 1.53749                |"
      ]
     },
     "metadata": {},
     "output_type": "display_data"
    },
    {
     "data": {
      "text/html": [
       "<pre>| 96      | 4m 44s       | 1.53721                |</pre>"
      ],
      "text/plain": [
       "| 96      | 4m 44s       | 1.53721                |"
      ]
     },
     "metadata": {},
     "output_type": "display_data"
    },
    {
     "data": {
      "text/html": [
       "<pre>| 97      | 4m 46s       | 1.53694                |</pre>"
      ],
      "text/plain": [
       "| 97      | 4m 46s       | 1.53694                |"
      ]
     },
     "metadata": {},
     "output_type": "display_data"
    },
    {
     "data": {
      "text/html": [
       "<pre>| 98      | 4m 49s       | 1.53667                |</pre>"
      ],
      "text/plain": [
       "| 98      | 4m 49s       | 1.53667                |"
      ]
     },
     "metadata": {},
     "output_type": "display_data"
    },
    {
     "data": {
      "text/html": [
       "<pre>| 99      | 4m 52s       | 1.53641                |</pre>"
      ],
      "text/plain": [
       "| 99      | 4m 52s       | 1.53641                |"
      ]
     },
     "metadata": {},
     "output_type": "display_data"
    },
    {
     "data": {
      "text/html": [
       "<pre>| FINAL   | 4m 52s       | 1.53641                |</pre>"
      ],
      "text/plain": [
       "| FINAL   | 4m 52s       | 1.53641                |"
      ]
     },
     "metadata": {},
     "output_type": "display_data"
    },
    {
     "data": {
      "text/html": [
       "<pre>+---------+--------------+------------------------+</pre>"
      ],
      "text/plain": [
       "+---------+--------------+------------------------+"
      ]
     },
     "metadata": {},
     "output_type": "display_data"
    },
    {
     "data": {
      "text/html": [
       "<pre>Optimization Complete: Iteration limit reached.</pre>"
      ],
      "text/plain": [
       "Optimization Complete: Iteration limit reached."
      ]
     },
     "metadata": {},
     "output_type": "display_data"
    }
   ],
   "source": [
    "rec_als = graphlab.recommender.factorization_recommender.create(\n",
    "                sf_train,\n",
    "                user_id='user_id',\n",
    "                item_id='joke_id',\n",
    "                target='rating',\n",
    "                solver='als',\n",
    "                max_iterations=100,\n",
    "                num_factors=30,\n",
    "                side_data_factorization=False)"
   ]
  },
  {
   "cell_type": "code",
   "execution_count": 68,
   "metadata": {
    "collapsed": false,
    "scrolled": true
   },
   "outputs": [
    {
     "data": {
      "text/html": [
       "<div>\n",
       "<table border=\"1\" class=\"dataframe\">\n",
       "  <thead>\n",
       "    <tr style=\"text-align: right;\">\n",
       "      <th></th>\n",
       "      <th>user_id</th>\n",
       "      <th>joke_id</th>\n",
       "      <th>rating_target</th>\n",
       "    </tr>\n",
       "  </thead>\n",
       "  <tbody>\n",
       "    <tr>\n",
       "      <th>0</th>\n",
       "      <td>30762</td>\n",
       "      <td>24</td>\n",
       "      <td>-5.495719</td>\n",
       "    </tr>\n",
       "    <tr>\n",
       "      <th>1</th>\n",
       "      <td>54667</td>\n",
       "      <td>128</td>\n",
       "      <td>8.450664</td>\n",
       "    </tr>\n",
       "    <tr>\n",
       "      <th>2</th>\n",
       "      <td>38515</td>\n",
       "      <td>68</td>\n",
       "      <td>6.138362</td>\n",
       "    </tr>\n",
       "    <tr>\n",
       "      <th>3</th>\n",
       "      <td>44643</td>\n",
       "      <td>39</td>\n",
       "      <td>5.655689</td>\n",
       "    </tr>\n",
       "    <tr>\n",
       "      <th>4</th>\n",
       "      <td>58677</td>\n",
       "      <td>13</td>\n",
       "      <td>-5.195402</td>\n",
       "    </tr>\n",
       "  </tbody>\n",
       "</table>\n",
       "</div>"
      ],
      "text/plain": [
       "   user_id  joke_id  rating_target\n",
       "0    30762       24      -5.495719\n",
       "1    54667      128       8.450664\n",
       "2    38515       68       6.138362\n",
       "3    44643       39       5.655689\n",
       "4    58677       13      -5.195402"
      ]
     },
     "execution_count": 68,
     "metadata": {},
     "output_type": "execute_result"
    }
   ],
   "source": [
    "sf_test = graphlab.SFrame(df_test[['user_id', 'joke_id']])\n",
    "test_als_pred = rec_als.predict(sf_test)\n",
    "sf_test_als = sf_test.copy()\n",
    "sf_test_als['rating_target'] = test_als_pred\n",
    "df_test_als = sf_test_als.to_dataframe()\n",
    "df_test_als.head()"
   ]
  },
  {
   "cell_type": "code",
   "execution_count": 69,
   "metadata": {
    "collapsed": false
   },
   "outputs": [
    {
     "data": {
      "text/plain": [
       "2.455077367338268"
      ]
     },
     "execution_count": 69,
     "metadata": {},
     "output_type": "execute_result"
    }
   ],
   "source": [
    "score_top_5_percent(df_test_als)"
   ]
  },
  {
   "cell_type": "markdown",
   "metadata": {},
   "source": [
    "## Comments: looks overfitting"
   ]
  },
  {
   "cell_type": "markdown",
   "metadata": {},
   "source": [
    "## Play around the regularization parameters"
   ]
  },
  {
   "cell_type": "code",
   "execution_count": 20,
   "metadata": {
    "collapsed": false
   },
   "outputs": [
    {
     "data": {
      "text/html": [
       "<pre>Recsys training: model = factorization_recommender</pre>"
      ],
      "text/plain": [
       "Recsys training: model = factorization_recommender"
      ]
     },
     "metadata": {},
     "output_type": "display_data"
    },
    {
     "data": {
      "text/html": [
       "<pre>Preparing data set.</pre>"
      ],
      "text/plain": [
       "Preparing data set."
      ]
     },
     "metadata": {},
     "output_type": "display_data"
    },
    {
     "data": {
      "text/html": [
       "<pre>    Data has 1000000 observations with 58125 users and 140 items.</pre>"
      ],
      "text/plain": [
       "    Data has 1000000 observations with 58125 users and 140 items."
      ]
     },
     "metadata": {},
     "output_type": "display_data"
    },
    {
     "data": {
      "text/html": [
       "<pre>    Data prepared in: 1.59742s</pre>"
      ],
      "text/plain": [
       "    Data prepared in: 1.59742s"
      ]
     },
     "metadata": {},
     "output_type": "display_data"
    },
    {
     "data": {
      "text/html": [
       "<pre>Training factorization_recommender for recommendations.</pre>"
      ],
      "text/plain": [
       "Training factorization_recommender for recommendations."
      ]
     },
     "metadata": {},
     "output_type": "display_data"
    },
    {
     "data": {
      "text/html": [
       "<pre>+------------------------------+--------------------------------------------------+----------+</pre>"
      ],
      "text/plain": [
       "+------------------------------+--------------------------------------------------+----------+"
      ]
     },
     "metadata": {},
     "output_type": "display_data"
    },
    {
     "data": {
      "text/html": [
       "<pre>| Parameter                    | Description                                      | Value    |</pre>"
      ],
      "text/plain": [
       "| Parameter                    | Description                                      | Value    |"
      ]
     },
     "metadata": {},
     "output_type": "display_data"
    },
    {
     "data": {
      "text/html": [
       "<pre>+------------------------------+--------------------------------------------------+----------+</pre>"
      ],
      "text/plain": [
       "+------------------------------+--------------------------------------------------+----------+"
      ]
     },
     "metadata": {},
     "output_type": "display_data"
    },
    {
     "data": {
      "text/html": [
       "<pre>| num_factors                  | Factor Dimension                                 | 20       |</pre>"
      ],
      "text/plain": [
       "| num_factors                  | Factor Dimension                                 | 20       |"
      ]
     },
     "metadata": {},
     "output_type": "display_data"
    },
    {
     "data": {
      "text/html": [
       "<pre>| regularization               | L2 Regularization on Factors                     | 1e-08    |</pre>"
      ],
      "text/plain": [
       "| regularization               | L2 Regularization on Factors                     | 1e-08    |"
      ]
     },
     "metadata": {},
     "output_type": "display_data"
    },
    {
     "data": {
      "text/html": [
       "<pre>| max_iterations               | Maximum Number of Iterations                     | 2000     |</pre>"
      ],
      "text/plain": [
       "| max_iterations               | Maximum Number of Iterations                     | 2000     |"
      ]
     },
     "metadata": {},
     "output_type": "display_data"
    },
    {
     "data": {
      "text/html": [
       "<pre>| solver                       | Solver used for training                         | als      |</pre>"
      ],
      "text/plain": [
       "| solver                       | Solver used for training                         | als      |"
      ]
     },
     "metadata": {},
     "output_type": "display_data"
    },
    {
     "data": {
      "text/html": [
       "<pre>+------------------------------+--------------------------------------------------+----------+</pre>"
      ],
      "text/plain": [
       "+------------------------------+--------------------------------------------------+----------+"
      ]
     },
     "metadata": {},
     "output_type": "display_data"
    },
    {
     "data": {
      "text/html": [
       "<pre>+---------+--------------+------------------------+</pre>"
      ],
      "text/plain": [
       "+---------+--------------+------------------------+"
      ]
     },
     "metadata": {},
     "output_type": "display_data"
    },
    {
     "data": {
      "text/html": [
       "<pre>| Iter.   | Elapsed time | RMSE                   |</pre>"
      ],
      "text/plain": [
       "| Iter.   | Elapsed time | RMSE                   |"
      ]
     },
     "metadata": {},
     "output_type": "display_data"
    },
    {
     "data": {
      "text/html": [
       "<pre>+---------+--------------+------------------------+</pre>"
      ],
      "text/plain": [
       "+---------+--------------+------------------------+"
      ]
     },
     "metadata": {},
     "output_type": "display_data"
    },
    {
     "data": {
      "text/html": [
       "<pre>| Initial | 84us         | NA                     |</pre>"
      ],
      "text/plain": [
       "| Initial | 84us         | NA                     |"
      ]
     },
     "metadata": {},
     "output_type": "display_data"
    },
    {
     "data": {
      "text/html": [
       "<pre>+---------+--------------+------------------------+</pre>"
      ],
      "text/plain": [
       "+---------+--------------+------------------------+"
      ]
     },
     "metadata": {},
     "output_type": "display_data"
    },
    {
     "data": {
      "text/html": [
       "<pre>| 0       | 1.38s        | 3.54647                |</pre>"
      ],
      "text/plain": [
       "| 0       | 1.38s        | 3.54647                |"
      ]
     },
     "metadata": {},
     "output_type": "display_data"
    },
    {
     "data": {
      "text/html": [
       "<pre>| 1       | 2.78s        | 2.22387                |</pre>"
      ],
      "text/plain": [
       "| 1       | 2.78s        | 2.22387                |"
      ]
     },
     "metadata": {},
     "output_type": "display_data"
    },
    {
     "data": {
      "text/html": [
       "<pre>| 2       | 4.52s        | 2.19023                |</pre>"
      ],
      "text/plain": [
       "| 2       | 4.52s        | 2.19023                |"
      ]
     },
     "metadata": {},
     "output_type": "display_data"
    },
    {
     "data": {
      "text/html": [
       "<pre>| 3       | 6.22s        | 2.1669                 |</pre>"
      ],
      "text/plain": [
       "| 3       | 6.22s        | 2.1669                 |"
      ]
     },
     "metadata": {},
     "output_type": "display_data"
    },
    {
     "data": {
      "text/html": [
       "<pre>| 4       | 7.69s        | 2.14872                |</pre>"
      ],
      "text/plain": [
       "| 4       | 7.69s        | 2.14872                |"
      ]
     },
     "metadata": {},
     "output_type": "display_data"
    },
    {
     "data": {
      "text/html": [
       "<pre>| 5       | 8.95s        | 2.13385                |</pre>"
      ],
      "text/plain": [
       "| 5       | 8.95s        | 2.13385                |"
      ]
     },
     "metadata": {},
     "output_type": "display_data"
    },
    {
     "data": {
      "text/html": [
       "<pre>| 6       | 10.19s       | 2.12135                |</pre>"
      ],
      "text/plain": [
       "| 6       | 10.19s       | 2.12135                |"
      ]
     },
     "metadata": {},
     "output_type": "display_data"
    },
    {
     "data": {
      "text/html": [
       "<pre>| 7       | 11.44s       | 2.11078                |</pre>"
      ],
      "text/plain": [
       "| 7       | 11.44s       | 2.11078                |"
      ]
     },
     "metadata": {},
     "output_type": "display_data"
    },
    {
     "data": {
      "text/html": [
       "<pre>| 8       | 12.72s       | 2.10174                |</pre>"
      ],
      "text/plain": [
       "| 8       | 12.72s       | 2.10174                |"
      ]
     },
     "metadata": {},
     "output_type": "display_data"
    },
    {
     "data": {
      "text/html": [
       "<pre>| 9       | 13.97s       | 2.09386                |</pre>"
      ],
      "text/plain": [
       "| 9       | 13.97s       | 2.09386                |"
      ]
     },
     "metadata": {},
     "output_type": "display_data"
    },
    {
     "data": {
      "text/html": [
       "<pre>| 10      | 15.22s       | 2.0869                 |</pre>"
      ],
      "text/plain": [
       "| 10      | 15.22s       | 2.0869                 |"
      ]
     },
     "metadata": {},
     "output_type": "display_data"
    },
    {
     "data": {
      "text/html": [
       "<pre>| 11      | 16.47s       | 2.08074                |</pre>"
      ],
      "text/plain": [
       "| 11      | 16.47s       | 2.08074                |"
      ]
     },
     "metadata": {},
     "output_type": "display_data"
    },
    {
     "data": {
      "text/html": [
       "<pre>| 12      | 17.74s       | 2.07521                |</pre>"
      ],
      "text/plain": [
       "| 12      | 17.74s       | 2.07521                |"
      ]
     },
     "metadata": {},
     "output_type": "display_data"
    },
    {
     "data": {
      "text/html": [
       "<pre>| 13      | 18.99s       | 2.07022                |</pre>"
      ],
      "text/plain": [
       "| 13      | 18.99s       | 2.07022                |"
      ]
     },
     "metadata": {},
     "output_type": "display_data"
    },
    {
     "data": {
      "text/html": [
       "<pre>| 14      | 20.25s       | 2.06571                |</pre>"
      ],
      "text/plain": [
       "| 14      | 20.25s       | 2.06571                |"
      ]
     },
     "metadata": {},
     "output_type": "display_data"
    },
    {
     "data": {
      "text/html": [
       "<pre>| 15      | 21.52s       | 2.06162                |</pre>"
      ],
      "text/plain": [
       "| 15      | 21.52s       | 2.06162                |"
      ]
     },
     "metadata": {},
     "output_type": "display_data"
    },
    {
     "data": {
      "text/html": [
       "<pre>| 16      | 22.81s       | 2.05793                |</pre>"
      ],
      "text/plain": [
       "| 16      | 22.81s       | 2.05793                |"
      ]
     },
     "metadata": {},
     "output_type": "display_data"
    },
    {
     "data": {
      "text/html": [
       "<pre>| 17      | 24.06s       | 2.05456                |</pre>"
      ],
      "text/plain": [
       "| 17      | 24.06s       | 2.05456                |"
      ]
     },
     "metadata": {},
     "output_type": "display_data"
    },
    {
     "data": {
      "text/html": [
       "<pre>| 18      | 25.36s       | 2.05147                |</pre>"
      ],
      "text/plain": [
       "| 18      | 25.36s       | 2.05147                |"
      ]
     },
     "metadata": {},
     "output_type": "display_data"
    },
    {
     "data": {
      "text/html": [
       "<pre>| 19      | 26.61s       | 2.04861                |</pre>"
      ],
      "text/plain": [
       "| 19      | 26.61s       | 2.04861                |"
      ]
     },
     "metadata": {},
     "output_type": "display_data"
    },
    {
     "data": {
      "text/html": [
       "<pre>| 20      | 27.87s       | 2.04595                |</pre>"
      ],
      "text/plain": [
       "| 20      | 27.87s       | 2.04595                |"
      ]
     },
     "metadata": {},
     "output_type": "display_data"
    },
    {
     "data": {
      "text/html": [
       "<pre>| 21      | 29.12s       | 2.04345                |</pre>"
      ],
      "text/plain": [
       "| 21      | 29.12s       | 2.04345                |"
      ]
     },
     "metadata": {},
     "output_type": "display_data"
    },
    {
     "data": {
      "text/html": [
       "<pre>| 22      | 30.36s       | 2.04112                |</pre>"
      ],
      "text/plain": [
       "| 22      | 30.36s       | 2.04112                |"
      ]
     },
     "metadata": {},
     "output_type": "display_data"
    },
    {
     "data": {
      "text/html": [
       "<pre>| 23      | 31.61s       | 2.03894                |</pre>"
      ],
      "text/plain": [
       "| 23      | 31.61s       | 2.03894                |"
      ]
     },
     "metadata": {},
     "output_type": "display_data"
    },
    {
     "data": {
      "text/html": [
       "<pre>| 24      | 32.92s       | 2.03689                |</pre>"
      ],
      "text/plain": [
       "| 24      | 32.92s       | 2.03689                |"
      ]
     },
     "metadata": {},
     "output_type": "display_data"
    },
    {
     "data": {
      "text/html": [
       "<pre>| 25      | 34.19s       | 2.03497                |</pre>"
      ],
      "text/plain": [
       "| 25      | 34.19s       | 2.03497                |"
      ]
     },
     "metadata": {},
     "output_type": "display_data"
    },
    {
     "data": {
      "text/html": [
       "<pre>| 26      | 35.46s       | 2.03319                |</pre>"
      ],
      "text/plain": [
       "| 26      | 35.46s       | 2.03319                |"
      ]
     },
     "metadata": {},
     "output_type": "display_data"
    },
    {
     "data": {
      "text/html": [
       "<pre>| 27      | 36.70s       | 2.03153                |</pre>"
      ],
      "text/plain": [
       "| 27      | 36.70s       | 2.03153                |"
      ]
     },
     "metadata": {},
     "output_type": "display_data"
    },
    {
     "data": {
      "text/html": [
       "<pre>| 28      | 37.97s       | 2.02997                |</pre>"
      ],
      "text/plain": [
       "| 28      | 37.97s       | 2.02997                |"
      ]
     },
     "metadata": {},
     "output_type": "display_data"
    },
    {
     "data": {
      "text/html": [
       "<pre>| 29      | 39.21s       | 2.0285                 |</pre>"
      ],
      "text/plain": [
       "| 29      | 39.21s       | 2.0285                 |"
      ]
     },
     "metadata": {},
     "output_type": "display_data"
    },
    {
     "data": {
      "text/html": [
       "<pre>| 30      | 40.48s       | 2.02711                |</pre>"
      ],
      "text/plain": [
       "| 30      | 40.48s       | 2.02711                |"
      ]
     },
     "metadata": {},
     "output_type": "display_data"
    },
    {
     "data": {
      "text/html": [
       "<pre>| 31      | 41.75s       | 2.02579                |</pre>"
      ],
      "text/plain": [
       "| 31      | 41.75s       | 2.02579                |"
      ]
     },
     "metadata": {},
     "output_type": "display_data"
    },
    {
     "data": {
      "text/html": [
       "<pre>| 32      | 43.02s       | 2.02454                |</pre>"
      ],
      "text/plain": [
       "| 32      | 43.02s       | 2.02454                |"
      ]
     },
     "metadata": {},
     "output_type": "display_data"
    },
    {
     "data": {
      "text/html": [
       "<pre>| 33      | 44.30s       | 2.02334                |</pre>"
      ],
      "text/plain": [
       "| 33      | 44.30s       | 2.02334                |"
      ]
     },
     "metadata": {},
     "output_type": "display_data"
    },
    {
     "data": {
      "text/html": [
       "<pre>| 34      | 45.54s       | 2.0222                 |</pre>"
      ],
      "text/plain": [
       "| 34      | 45.54s       | 2.0222                 |"
      ]
     },
     "metadata": {},
     "output_type": "display_data"
    },
    {
     "data": {
      "text/html": [
       "<pre>| 35      | 46.79s       | 2.0211                 |</pre>"
      ],
      "text/plain": [
       "| 35      | 46.79s       | 2.0211                 |"
      ]
     },
     "metadata": {},
     "output_type": "display_data"
    },
    {
     "data": {
      "text/html": [
       "<pre>| 36      | 48.07s       | 2.02005                |</pre>"
      ],
      "text/plain": [
       "| 36      | 48.07s       | 2.02005                |"
      ]
     },
     "metadata": {},
     "output_type": "display_data"
    },
    {
     "data": {
      "text/html": [
       "<pre>| 37      | 49.31s       | 2.01904                |</pre>"
      ],
      "text/plain": [
       "| 37      | 49.31s       | 2.01904                |"
      ]
     },
     "metadata": {},
     "output_type": "display_data"
    },
    {
     "data": {
      "text/html": [
       "<pre>| 38      | 50.53s       | 2.01806                |</pre>"
      ],
      "text/plain": [
       "| 38      | 50.53s       | 2.01806                |"
      ]
     },
     "metadata": {},
     "output_type": "display_data"
    },
    {
     "data": {
      "text/html": [
       "<pre>| 39      | 51.81s       | 2.01713                |</pre>"
      ],
      "text/plain": [
       "| 39      | 51.81s       | 2.01713                |"
      ]
     },
     "metadata": {},
     "output_type": "display_data"
    },
    {
     "data": {
      "text/html": [
       "<pre>| 40      | 53.07s       | 2.01623                |</pre>"
      ],
      "text/plain": [
       "| 40      | 53.07s       | 2.01623                |"
      ]
     },
     "metadata": {},
     "output_type": "display_data"
    },
    {
     "data": {
      "text/html": [
       "<pre>| 41      | 54.31s       | 2.01537                |</pre>"
      ],
      "text/plain": [
       "| 41      | 54.31s       | 2.01537                |"
      ]
     },
     "metadata": {},
     "output_type": "display_data"
    },
    {
     "data": {
      "text/html": [
       "<pre>| 42      | 55.56s       | 2.01454                |</pre>"
      ],
      "text/plain": [
       "| 42      | 55.56s       | 2.01454                |"
      ]
     },
     "metadata": {},
     "output_type": "display_data"
    },
    {
     "data": {
      "text/html": [
       "<pre>| 43      | 56.89s       | 2.01375                |</pre>"
      ],
      "text/plain": [
       "| 43      | 56.89s       | 2.01375                |"
      ]
     },
     "metadata": {},
     "output_type": "display_data"
    },
    {
     "data": {
      "text/html": [
       "<pre>| 44      | 58.12s       | 2.013                  |</pre>"
      ],
      "text/plain": [
       "| 44      | 58.12s       | 2.013                  |"
      ]
     },
     "metadata": {},
     "output_type": "display_data"
    },
    {
     "data": {
      "text/html": [
       "<pre>| 45      | 59.38s       | 2.01228                |</pre>"
      ],
      "text/plain": [
       "| 45      | 59.38s       | 2.01228                |"
      ]
     },
     "metadata": {},
     "output_type": "display_data"
    },
    {
     "data": {
      "text/html": [
       "<pre>| 46      | 1m 0s        | 2.01159                |</pre>"
      ],
      "text/plain": [
       "| 46      | 1m 0s        | 2.01159                |"
      ]
     },
     "metadata": {},
     "output_type": "display_data"
    },
    {
     "data": {
      "text/html": [
       "<pre>| 47      | 1m 1s        | 2.01093                |</pre>"
      ],
      "text/plain": [
       "| 47      | 1m 1s        | 2.01093                |"
      ]
     },
     "metadata": {},
     "output_type": "display_data"
    },
    {
     "data": {
      "text/html": [
       "<pre>| 48      | 1m 3s        | 2.0103                 |</pre>"
      ],
      "text/plain": [
       "| 48      | 1m 3s        | 2.0103                 |"
      ]
     },
     "metadata": {},
     "output_type": "display_data"
    },
    {
     "data": {
      "text/html": [
       "<pre>| 49      | 1m 5s        | 2.00969                |</pre>"
      ],
      "text/plain": [
       "| 49      | 1m 5s        | 2.00969                |"
      ]
     },
     "metadata": {},
     "output_type": "display_data"
    },
    {
     "data": {
      "text/html": [
       "<pre>| 50      | 1m 6s        | 2.00911                |</pre>"
      ],
      "text/plain": [
       "| 50      | 1m 6s        | 2.00911                |"
      ]
     },
     "metadata": {},
     "output_type": "display_data"
    },
    {
     "data": {
      "text/html": [
       "<pre>| 51      | 1m 8s        | 2.00855                |</pre>"
      ],
      "text/plain": [
       "| 51      | 1m 8s        | 2.00855                |"
      ]
     },
     "metadata": {},
     "output_type": "display_data"
    },
    {
     "data": {
      "text/html": [
       "<pre>| 52      | 1m 9s        | 2.00801                |</pre>"
      ],
      "text/plain": [
       "| 52      | 1m 9s        | 2.00801                |"
      ]
     },
     "metadata": {},
     "output_type": "display_data"
    },
    {
     "data": {
      "text/html": [
       "<pre>| 53      | 1m 10s       | 2.00749                |</pre>"
      ],
      "text/plain": [
       "| 53      | 1m 10s       | 2.00749                |"
      ]
     },
     "metadata": {},
     "output_type": "display_data"
    },
    {
     "data": {
      "text/html": [
       "<pre>| 54      | 1m 12s       | 2.00699                |</pre>"
      ],
      "text/plain": [
       "| 54      | 1m 12s       | 2.00699                |"
      ]
     },
     "metadata": {},
     "output_type": "display_data"
    },
    {
     "data": {
      "text/html": [
       "<pre>| 55      | 1m 13s       | 2.00651                |</pre>"
      ],
      "text/plain": [
       "| 55      | 1m 13s       | 2.00651                |"
      ]
     },
     "metadata": {},
     "output_type": "display_data"
    },
    {
     "data": {
      "text/html": [
       "<pre>| 56      | 1m 14s       | 2.00604                |</pre>"
      ],
      "text/plain": [
       "| 56      | 1m 14s       | 2.00604                |"
      ]
     },
     "metadata": {},
     "output_type": "display_data"
    },
    {
     "data": {
      "text/html": [
       "<pre>| 57      | 1m 16s       | 2.00558                |</pre>"
      ],
      "text/plain": [
       "| 57      | 1m 16s       | 2.00558                |"
      ]
     },
     "metadata": {},
     "output_type": "display_data"
    },
    {
     "data": {
      "text/html": [
       "<pre>| 58      | 1m 17s       | 2.00514                |</pre>"
      ],
      "text/plain": [
       "| 58      | 1m 17s       | 2.00514                |"
      ]
     },
     "metadata": {},
     "output_type": "display_data"
    },
    {
     "data": {
      "text/html": [
       "<pre>| 59      | 1m 19s       | 2.00471                |</pre>"
      ],
      "text/plain": [
       "| 59      | 1m 19s       | 2.00471                |"
      ]
     },
     "metadata": {},
     "output_type": "display_data"
    },
    {
     "data": {
      "text/html": [
       "<pre>| 60      | 1m 21s       | 2.00428                |</pre>"
      ],
      "text/plain": [
       "| 60      | 1m 21s       | 2.00428                |"
      ]
     },
     "metadata": {},
     "output_type": "display_data"
    },
    {
     "data": {
      "text/html": [
       "<pre>| 61      | 1m 22s       | 2.00387                |</pre>"
      ],
      "text/plain": [
       "| 61      | 1m 22s       | 2.00387                |"
      ]
     },
     "metadata": {},
     "output_type": "display_data"
    },
    {
     "data": {
      "text/html": [
       "<pre>| 62      | 1m 24s       | 2.00346                |</pre>"
      ],
      "text/plain": [
       "| 62      | 1m 24s       | 2.00346                |"
      ]
     },
     "metadata": {},
     "output_type": "display_data"
    },
    {
     "data": {
      "text/html": [
       "<pre>| 63      | 1m 25s       | 2.00306                |</pre>"
      ],
      "text/plain": [
       "| 63      | 1m 25s       | 2.00306                |"
      ]
     },
     "metadata": {},
     "output_type": "display_data"
    },
    {
     "data": {
      "text/html": [
       "<pre>| 64      | 1m 27s       | 2.00267                |</pre>"
      ],
      "text/plain": [
       "| 64      | 1m 27s       | 2.00267                |"
      ]
     },
     "metadata": {},
     "output_type": "display_data"
    },
    {
     "data": {
      "text/html": [
       "<pre>| 65      | 1m 29s       | 2.00229                |</pre>"
      ],
      "text/plain": [
       "| 65      | 1m 29s       | 2.00229                |"
      ]
     },
     "metadata": {},
     "output_type": "display_data"
    },
    {
     "data": {
      "text/html": [
       "<pre>| 66      | 1m 30s       | 2.00192                |</pre>"
      ],
      "text/plain": [
       "| 66      | 1m 30s       | 2.00192                |"
      ]
     },
     "metadata": {},
     "output_type": "display_data"
    },
    {
     "data": {
      "text/html": [
       "<pre>| 67      | 1m 31s       | 2.00155                |</pre>"
      ],
      "text/plain": [
       "| 67      | 1m 31s       | 2.00155                |"
      ]
     },
     "metadata": {},
     "output_type": "display_data"
    },
    {
     "data": {
      "text/html": [
       "<pre>| 68      | 1m 32s       | 2.00119                |</pre>"
      ],
      "text/plain": [
       "| 68      | 1m 32s       | 2.00119                |"
      ]
     },
     "metadata": {},
     "output_type": "display_data"
    },
    {
     "data": {
      "text/html": [
       "<pre>| 69      | 1m 34s       | 2.00084                |</pre>"
      ],
      "text/plain": [
       "| 69      | 1m 34s       | 2.00084                |"
      ]
     },
     "metadata": {},
     "output_type": "display_data"
    },
    {
     "data": {
      "text/html": [
       "<pre>| 70      | 1m 35s       | 2.0005                 |</pre>"
      ],
      "text/plain": [
       "| 70      | 1m 35s       | 2.0005                 |"
      ]
     },
     "metadata": {},
     "output_type": "display_data"
    },
    {
     "data": {
      "text/html": [
       "<pre>| 71      | 1m 37s       | 2.00018                |</pre>"
      ],
      "text/plain": [
       "| 71      | 1m 37s       | 2.00018                |"
      ]
     },
     "metadata": {},
     "output_type": "display_data"
    },
    {
     "data": {
      "text/html": [
       "<pre>| 72      | 1m 38s       | 1.99986                |</pre>"
      ],
      "text/plain": [
       "| 72      | 1m 38s       | 1.99986                |"
      ]
     },
     "metadata": {},
     "output_type": "display_data"
    },
    {
     "data": {
      "text/html": [
       "<pre>| 73      | 1m 40s       | 1.99955                |</pre>"
      ],
      "text/plain": [
       "| 73      | 1m 40s       | 1.99955                |"
      ]
     },
     "metadata": {},
     "output_type": "display_data"
    },
    {
     "data": {
      "text/html": [
       "<pre>| 74      | 1m 41s       | 1.99925                |</pre>"
      ],
      "text/plain": [
       "| 74      | 1m 41s       | 1.99925                |"
      ]
     },
     "metadata": {},
     "output_type": "display_data"
    },
    {
     "data": {
      "text/html": [
       "<pre>| 75      | 1m 43s       | 1.99895                |</pre>"
      ],
      "text/plain": [
       "| 75      | 1m 43s       | 1.99895                |"
      ]
     },
     "metadata": {},
     "output_type": "display_data"
    },
    {
     "data": {
      "text/html": [
       "<pre>| 76      | 1m 44s       | 1.99867                |</pre>"
      ],
      "text/plain": [
       "| 76      | 1m 44s       | 1.99867                |"
      ]
     },
     "metadata": {},
     "output_type": "display_data"
    },
    {
     "data": {
      "text/html": [
       "<pre>| 77      | 1m 46s       | 1.9984                 |</pre>"
      ],
      "text/plain": [
       "| 77      | 1m 46s       | 1.9984                 |"
      ]
     },
     "metadata": {},
     "output_type": "display_data"
    },
    {
     "data": {
      "text/html": [
       "<pre>| 78      | 1m 47s       | 1.99813                |</pre>"
      ],
      "text/plain": [
       "| 78      | 1m 47s       | 1.99813                |"
      ]
     },
     "metadata": {},
     "output_type": "display_data"
    },
    {
     "data": {
      "text/html": [
       "<pre>| 79      | 1m 48s       | 1.99787                |</pre>"
      ],
      "text/plain": [
       "| 79      | 1m 48s       | 1.99787                |"
      ]
     },
     "metadata": {},
     "output_type": "display_data"
    },
    {
     "data": {
      "text/html": [
       "<pre>| 80      | 1m 49s       | 1.99762                |</pre>"
      ],
      "text/plain": [
       "| 80      | 1m 49s       | 1.99762                |"
      ]
     },
     "metadata": {},
     "output_type": "display_data"
    },
    {
     "data": {
      "text/html": [
       "<pre>| 81      | 1m 51s       | 1.99737                |</pre>"
      ],
      "text/plain": [
       "| 81      | 1m 51s       | 1.99737                |"
      ]
     },
     "metadata": {},
     "output_type": "display_data"
    },
    {
     "data": {
      "text/html": [
       "<pre>| 82      | 1m 52s       | 1.99713                |</pre>"
      ],
      "text/plain": [
       "| 82      | 1m 52s       | 1.99713                |"
      ]
     },
     "metadata": {},
     "output_type": "display_data"
    },
    {
     "data": {
      "text/html": [
       "<pre>| 83      | 1m 53s       | 1.99689                |</pre>"
      ],
      "text/plain": [
       "| 83      | 1m 53s       | 1.99689                |"
      ]
     },
     "metadata": {},
     "output_type": "display_data"
    },
    {
     "data": {
      "text/html": [
       "<pre>| 84      | 1m 55s       | 1.99666                |</pre>"
      ],
      "text/plain": [
       "| 84      | 1m 55s       | 1.99666                |"
      ]
     },
     "metadata": {},
     "output_type": "display_data"
    },
    {
     "data": {
      "text/html": [
       "<pre>| 85      | 1m 56s       | 1.99644                |</pre>"
      ],
      "text/plain": [
       "| 85      | 1m 56s       | 1.99644                |"
      ]
     },
     "metadata": {},
     "output_type": "display_data"
    },
    {
     "data": {
      "text/html": [
       "<pre>| 86      | 1m 57s       | 1.99622                |</pre>"
      ],
      "text/plain": [
       "| 86      | 1m 57s       | 1.99622                |"
      ]
     },
     "metadata": {},
     "output_type": "display_data"
    },
    {
     "data": {
      "text/html": [
       "<pre>| 87      | 1m 58s       | 1.99601                |</pre>"
      ],
      "text/plain": [
       "| 87      | 1m 58s       | 1.99601                |"
      ]
     },
     "metadata": {},
     "output_type": "display_data"
    },
    {
     "data": {
      "text/html": [
       "<pre>| 88      | 2m 0s        | 1.9958                 |</pre>"
      ],
      "text/plain": [
       "| 88      | 2m 0s        | 1.9958                 |"
      ]
     },
     "metadata": {},
     "output_type": "display_data"
    },
    {
     "data": {
      "text/html": [
       "<pre>| 89      | 2m 1s        | 1.9956                 |</pre>"
      ],
      "text/plain": [
       "| 89      | 2m 1s        | 1.9956                 |"
      ]
     },
     "metadata": {},
     "output_type": "display_data"
    },
    {
     "data": {
      "text/html": [
       "<pre>| 90      | 2m 2s        | 1.99539                |</pre>"
      ],
      "text/plain": [
       "| 90      | 2m 2s        | 1.99539                |"
      ]
     },
     "metadata": {},
     "output_type": "display_data"
    },
    {
     "data": {
      "text/html": [
       "<pre>| 91      | 2m 3s        | 1.99519                |</pre>"
      ],
      "text/plain": [
       "| 91      | 2m 3s        | 1.99519                |"
      ]
     },
     "metadata": {},
     "output_type": "display_data"
    },
    {
     "data": {
      "text/html": [
       "<pre>| 92      | 2m 5s        | 1.995                  |</pre>"
      ],
      "text/plain": [
       "| 92      | 2m 5s        | 1.995                  |"
      ]
     },
     "metadata": {},
     "output_type": "display_data"
    },
    {
     "data": {
      "text/html": [
       "<pre>| 93      | 2m 6s        | 1.99481                |</pre>"
      ],
      "text/plain": [
       "| 93      | 2m 6s        | 1.99481                |"
      ]
     },
     "metadata": {},
     "output_type": "display_data"
    },
    {
     "data": {
      "text/html": [
       "<pre>| 94      | 2m 7s        | 1.99462                |</pre>"
      ],
      "text/plain": [
       "| 94      | 2m 7s        | 1.99462                |"
      ]
     },
     "metadata": {},
     "output_type": "display_data"
    },
    {
     "data": {
      "text/html": [
       "<pre>| 95      | 2m 8s        | 1.99443                |</pre>"
      ],
      "text/plain": [
       "| 95      | 2m 8s        | 1.99443                |"
      ]
     },
     "metadata": {},
     "output_type": "display_data"
    },
    {
     "data": {
      "text/html": [
       "<pre>| 96      | 2m 10s       | 1.99425                |</pre>"
      ],
      "text/plain": [
       "| 96      | 2m 10s       | 1.99425                |"
      ]
     },
     "metadata": {},
     "output_type": "display_data"
    },
    {
     "data": {
      "text/html": [
       "<pre>| 97      | 2m 11s       | 1.99407                |</pre>"
      ],
      "text/plain": [
       "| 97      | 2m 11s       | 1.99407                |"
      ]
     },
     "metadata": {},
     "output_type": "display_data"
    },
    {
     "data": {
      "text/html": [
       "<pre>| 98      | 2m 12s       | 1.99389                |</pre>"
      ],
      "text/plain": [
       "| 98      | 2m 12s       | 1.99389                |"
      ]
     },
     "metadata": {},
     "output_type": "display_data"
    },
    {
     "data": {
      "text/html": [
       "<pre>| 99      | 2m 13s       | 1.99371                |</pre>"
      ],
      "text/plain": [
       "| 99      | 2m 13s       | 1.99371                |"
      ]
     },
     "metadata": {},
     "output_type": "display_data"
    },
    {
     "data": {
      "text/html": [
       "<pre>| 100     | 2m 15s       | 1.99354                |</pre>"
      ],
      "text/plain": [
       "| 100     | 2m 15s       | 1.99354                |"
      ]
     },
     "metadata": {},
     "output_type": "display_data"
    },
    {
     "data": {
      "text/html": [
       "<pre>| 101     | 2m 16s       | 1.99337                |</pre>"
      ],
      "text/plain": [
       "| 101     | 2m 16s       | 1.99337                |"
      ]
     },
     "metadata": {},
     "output_type": "display_data"
    },
    {
     "data": {
      "text/html": [
       "<pre>| 102     | 2m 17s       | 1.9932                 |</pre>"
      ],
      "text/plain": [
       "| 102     | 2m 17s       | 1.9932                 |"
      ]
     },
     "metadata": {},
     "output_type": "display_data"
    },
    {
     "data": {
      "text/html": [
       "<pre>| 103     | 2m 19s       | 1.99304                |</pre>"
      ],
      "text/plain": [
       "| 103     | 2m 19s       | 1.99304                |"
      ]
     },
     "metadata": {},
     "output_type": "display_data"
    },
    {
     "data": {
      "text/html": [
       "<pre>| 104     | 2m 20s       | 1.99288                |</pre>"
      ],
      "text/plain": [
       "| 104     | 2m 20s       | 1.99288                |"
      ]
     },
     "metadata": {},
     "output_type": "display_data"
    },
    {
     "data": {
      "text/html": [
       "<pre>| 105     | 2m 21s       | 1.99272                |</pre>"
      ],
      "text/plain": [
       "| 105     | 2m 21s       | 1.99272                |"
      ]
     },
     "metadata": {},
     "output_type": "display_data"
    },
    {
     "data": {
      "text/html": [
       "<pre>| 106     | 2m 22s       | 1.99256                |</pre>"
      ],
      "text/plain": [
       "| 106     | 2m 22s       | 1.99256                |"
      ]
     },
     "metadata": {},
     "output_type": "display_data"
    },
    {
     "data": {
      "text/html": [
       "<pre>| 107     | 2m 24s       | 1.9924                 |</pre>"
      ],
      "text/plain": [
       "| 107     | 2m 24s       | 1.9924                 |"
      ]
     },
     "metadata": {},
     "output_type": "display_data"
    },
    {
     "data": {
      "text/html": [
       "<pre>| 108     | 2m 25s       | 1.99225                |</pre>"
      ],
      "text/plain": [
       "| 108     | 2m 25s       | 1.99225                |"
      ]
     },
     "metadata": {},
     "output_type": "display_data"
    },
    {
     "data": {
      "text/html": [
       "<pre>| 109     | 2m 26s       | 1.9921                 |</pre>"
      ],
      "text/plain": [
       "| 109     | 2m 26s       | 1.9921                 |"
      ]
     },
     "metadata": {},
     "output_type": "display_data"
    },
    {
     "data": {
      "text/html": [
       "<pre>| 110     | 2m 27s       | 1.99194                |</pre>"
      ],
      "text/plain": [
       "| 110     | 2m 27s       | 1.99194                |"
      ]
     },
     "metadata": {},
     "output_type": "display_data"
    },
    {
     "data": {
      "text/html": [
       "<pre>| 111     | 2m 29s       | 1.99179                |</pre>"
      ],
      "text/plain": [
       "| 111     | 2m 29s       | 1.99179                |"
      ]
     },
     "metadata": {},
     "output_type": "display_data"
    },
    {
     "data": {
      "text/html": [
       "<pre>| 112     | 2m 30s       | 1.99164                |</pre>"
      ],
      "text/plain": [
       "| 112     | 2m 30s       | 1.99164                |"
      ]
     },
     "metadata": {},
     "output_type": "display_data"
    },
    {
     "data": {
      "text/html": [
       "<pre>| 113     | 2m 32s       | 1.99148                |</pre>"
      ],
      "text/plain": [
       "| 113     | 2m 32s       | 1.99148                |"
      ]
     },
     "metadata": {},
     "output_type": "display_data"
    },
    {
     "data": {
      "text/html": [
       "<pre>| 114     | 2m 34s       | 1.99133                |</pre>"
      ],
      "text/plain": [
       "| 114     | 2m 34s       | 1.99133                |"
      ]
     },
     "metadata": {},
     "output_type": "display_data"
    },
    {
     "data": {
      "text/html": [
       "<pre>| 115     | 2m 35s       | 1.99118                |</pre>"
      ],
      "text/plain": [
       "| 115     | 2m 35s       | 1.99118                |"
      ]
     },
     "metadata": {},
     "output_type": "display_data"
    },
    {
     "data": {
      "text/html": [
       "<pre>| 116     | 2m 37s       | 1.99103                |</pre>"
      ],
      "text/plain": [
       "| 116     | 2m 37s       | 1.99103                |"
      ]
     },
     "metadata": {},
     "output_type": "display_data"
    },
    {
     "data": {
      "text/html": [
       "<pre>| 117     | 2m 38s       | 1.99088                |</pre>"
      ],
      "text/plain": [
       "| 117     | 2m 38s       | 1.99088                |"
      ]
     },
     "metadata": {},
     "output_type": "display_data"
    },
    {
     "data": {
      "text/html": [
       "<pre>| 118     | 2m 40s       | 1.99073                |</pre>"
      ],
      "text/plain": [
       "| 118     | 2m 40s       | 1.99073                |"
      ]
     },
     "metadata": {},
     "output_type": "display_data"
    },
    {
     "data": {
      "text/html": [
       "<pre>| 119     | 2m 42s       | 1.99058                |</pre>"
      ],
      "text/plain": [
       "| 119     | 2m 42s       | 1.99058                |"
      ]
     },
     "metadata": {},
     "output_type": "display_data"
    },
    {
     "data": {
      "text/html": [
       "<pre>| 120     | 2m 44s       | 1.99043                |</pre>"
      ],
      "text/plain": [
       "| 120     | 2m 44s       | 1.99043                |"
      ]
     },
     "metadata": {},
     "output_type": "display_data"
    },
    {
     "data": {
      "text/html": [
       "<pre>| 121     | 2m 45s       | 1.99028                |</pre>"
      ],
      "text/plain": [
       "| 121     | 2m 45s       | 1.99028                |"
      ]
     },
     "metadata": {},
     "output_type": "display_data"
    },
    {
     "data": {
      "text/html": [
       "<pre>| 122     | 2m 47s       | 1.99014                |</pre>"
      ],
      "text/plain": [
       "| 122     | 2m 47s       | 1.99014                |"
      ]
     },
     "metadata": {},
     "output_type": "display_data"
    },
    {
     "data": {
      "text/html": [
       "<pre>| 123     | 2m 49s       | 1.98999                |</pre>"
      ],
      "text/plain": [
       "| 123     | 2m 49s       | 1.98999                |"
      ]
     },
     "metadata": {},
     "output_type": "display_data"
    },
    {
     "data": {
      "text/html": [
       "<pre>| 124     | 2m 51s       | 1.98984                |</pre>"
      ],
      "text/plain": [
       "| 124     | 2m 51s       | 1.98984                |"
      ]
     },
     "metadata": {},
     "output_type": "display_data"
    },
    {
     "data": {
      "text/html": [
       "<pre>| 125     | 2m 53s       | 1.9897                 |</pre>"
      ],
      "text/plain": [
       "| 125     | 2m 53s       | 1.9897                 |"
      ]
     },
     "metadata": {},
     "output_type": "display_data"
    },
    {
     "data": {
      "text/html": [
       "<pre>| 126     | 2m 55s       | 1.98956                |</pre>"
      ],
      "text/plain": [
       "| 126     | 2m 55s       | 1.98956                |"
      ]
     },
     "metadata": {},
     "output_type": "display_data"
    },
    {
     "data": {
      "text/html": [
       "<pre>| 127     | 2m 56s       | 1.98942                |</pre>"
      ],
      "text/plain": [
       "| 127     | 2m 56s       | 1.98942                |"
      ]
     },
     "metadata": {},
     "output_type": "display_data"
    },
    {
     "data": {
      "text/html": [
       "<pre>| 128     | 2m 57s       | 1.98928                |</pre>"
      ],
      "text/plain": [
       "| 128     | 2m 57s       | 1.98928                |"
      ]
     },
     "metadata": {},
     "output_type": "display_data"
    },
    {
     "data": {
      "text/html": [
       "<pre>| 129     | 2m 59s       | 1.98913                |</pre>"
      ],
      "text/plain": [
       "| 129     | 2m 59s       | 1.98913                |"
      ]
     },
     "metadata": {},
     "output_type": "display_data"
    },
    {
     "data": {
      "text/html": [
       "<pre>| 130     | 3m 0s        | 1.98899                |</pre>"
      ],
      "text/plain": [
       "| 130     | 3m 0s        | 1.98899                |"
      ]
     },
     "metadata": {},
     "output_type": "display_data"
    },
    {
     "data": {
      "text/html": [
       "<pre>| 131     | 3m 1s        | 1.98884                |</pre>"
      ],
      "text/plain": [
       "| 131     | 3m 1s        | 1.98884                |"
      ]
     },
     "metadata": {},
     "output_type": "display_data"
    },
    {
     "data": {
      "text/html": [
       "<pre>| 132     | 3m 3s        | 1.98869                |</pre>"
      ],
      "text/plain": [
       "| 132     | 3m 3s        | 1.98869                |"
      ]
     },
     "metadata": {},
     "output_type": "display_data"
    },
    {
     "data": {
      "text/html": [
       "<pre>| 133     | 3m 4s        | 1.98854                |</pre>"
      ],
      "text/plain": [
       "| 133     | 3m 4s        | 1.98854                |"
      ]
     },
     "metadata": {},
     "output_type": "display_data"
    },
    {
     "data": {
      "text/html": [
       "<pre>| 134     | 3m 5s        | 1.98841                |</pre>"
      ],
      "text/plain": [
       "| 134     | 3m 5s        | 1.98841                |"
      ]
     },
     "metadata": {},
     "output_type": "display_data"
    },
    {
     "data": {
      "text/html": [
       "<pre>| 135     | 3m 7s        | 1.98827                |</pre>"
      ],
      "text/plain": [
       "| 135     | 3m 7s        | 1.98827                |"
      ]
     },
     "metadata": {},
     "output_type": "display_data"
    },
    {
     "data": {
      "text/html": [
       "<pre>| 136     | 3m 8s        | 1.98814                |</pre>"
      ],
      "text/plain": [
       "| 136     | 3m 8s        | 1.98814                |"
      ]
     },
     "metadata": {},
     "output_type": "display_data"
    },
    {
     "data": {
      "text/html": [
       "<pre>| 137     | 3m 9s        | 1.98801                |</pre>"
      ],
      "text/plain": [
       "| 137     | 3m 9s        | 1.98801                |"
      ]
     },
     "metadata": {},
     "output_type": "display_data"
    },
    {
     "data": {
      "text/html": [
       "<pre>| 138     | 3m 11s       | 1.98789                |</pre>"
      ],
      "text/plain": [
       "| 138     | 3m 11s       | 1.98789                |"
      ]
     },
     "metadata": {},
     "output_type": "display_data"
    },
    {
     "data": {
      "text/html": [
       "<pre>| 139     | 3m 12s       | 1.98776                |</pre>"
      ],
      "text/plain": [
       "| 139     | 3m 12s       | 1.98776                |"
      ]
     },
     "metadata": {},
     "output_type": "display_data"
    },
    {
     "data": {
      "text/html": [
       "<pre>| 140     | 3m 14s       | 1.98764                |</pre>"
      ],
      "text/plain": [
       "| 140     | 3m 14s       | 1.98764                |"
      ]
     },
     "metadata": {},
     "output_type": "display_data"
    },
    {
     "data": {
      "text/html": [
       "<pre>| 141     | 3m 15s       | 1.98752                |</pre>"
      ],
      "text/plain": [
       "| 141     | 3m 15s       | 1.98752                |"
      ]
     },
     "metadata": {},
     "output_type": "display_data"
    },
    {
     "data": {
      "text/html": [
       "<pre>| 142     | 3m 17s       | 1.9874                 |</pre>"
      ],
      "text/plain": [
       "| 142     | 3m 17s       | 1.9874                 |"
      ]
     },
     "metadata": {},
     "output_type": "display_data"
    },
    {
     "data": {
      "text/html": [
       "<pre>| 143     | 3m 18s       | 1.98729                |</pre>"
      ],
      "text/plain": [
       "| 143     | 3m 18s       | 1.98729                |"
      ]
     },
     "metadata": {},
     "output_type": "display_data"
    },
    {
     "data": {
      "text/html": [
       "<pre>| 144     | 3m 20s       | 1.98717                |</pre>"
      ],
      "text/plain": [
       "| 144     | 3m 20s       | 1.98717                |"
      ]
     },
     "metadata": {},
     "output_type": "display_data"
    },
    {
     "data": {
      "text/html": [
       "<pre>| 145     | 3m 21s       | 1.98706                |</pre>"
      ],
      "text/plain": [
       "| 145     | 3m 21s       | 1.98706                |"
      ]
     },
     "metadata": {},
     "output_type": "display_data"
    },
    {
     "data": {
      "text/html": [
       "<pre>| 146     | 3m 23s       | 1.98695                |</pre>"
      ],
      "text/plain": [
       "| 146     | 3m 23s       | 1.98695                |"
      ]
     },
     "metadata": {},
     "output_type": "display_data"
    },
    {
     "data": {
      "text/html": [
       "<pre>| 147     | 3m 24s       | 1.98684                |</pre>"
      ],
      "text/plain": [
       "| 147     | 3m 24s       | 1.98684                |"
      ]
     },
     "metadata": {},
     "output_type": "display_data"
    },
    {
     "data": {
      "text/html": [
       "<pre>| 148     | 3m 26s       | 1.98673                |</pre>"
      ],
      "text/plain": [
       "| 148     | 3m 26s       | 1.98673                |"
      ]
     },
     "metadata": {},
     "output_type": "display_data"
    },
    {
     "data": {
      "text/html": [
       "<pre>| 149     | 3m 28s       | 1.98662                |</pre>"
      ],
      "text/plain": [
       "| 149     | 3m 28s       | 1.98662                |"
      ]
     },
     "metadata": {},
     "output_type": "display_data"
    },
    {
     "data": {
      "text/html": [
       "<pre>| 150     | 3m 30s       | 1.98651                |</pre>"
      ],
      "text/plain": [
       "| 150     | 3m 30s       | 1.98651                |"
      ]
     },
     "metadata": {},
     "output_type": "display_data"
    },
    {
     "data": {
      "text/html": [
       "<pre>| 151     | 3m 31s       | 1.9864                 |</pre>"
      ],
      "text/plain": [
       "| 151     | 3m 31s       | 1.9864                 |"
      ]
     },
     "metadata": {},
     "output_type": "display_data"
    },
    {
     "data": {
      "text/html": [
       "<pre>| 152     | 3m 33s       | 1.98629                |</pre>"
      ],
      "text/plain": [
       "| 152     | 3m 33s       | 1.98629                |"
      ]
     },
     "metadata": {},
     "output_type": "display_data"
    },
    {
     "data": {
      "text/html": [
       "<pre>| 153     | 3m 35s       | 1.98619                |</pre>"
      ],
      "text/plain": [
       "| 153     | 3m 35s       | 1.98619                |"
      ]
     },
     "metadata": {},
     "output_type": "display_data"
    },
    {
     "data": {
      "text/html": [
       "<pre>| 154     | 3m 36s       | 1.98608                |</pre>"
      ],
      "text/plain": [
       "| 154     | 3m 36s       | 1.98608                |"
      ]
     },
     "metadata": {},
     "output_type": "display_data"
    },
    {
     "data": {
      "text/html": [
       "<pre>| 155     | 3m 38s       | 1.98598                |</pre>"
      ],
      "text/plain": [
       "| 155     | 3m 38s       | 1.98598                |"
      ]
     },
     "metadata": {},
     "output_type": "display_data"
    },
    {
     "data": {
      "text/html": [
       "<pre>| 156     | 3m 39s       | 1.98588                |</pre>"
      ],
      "text/plain": [
       "| 156     | 3m 39s       | 1.98588                |"
      ]
     },
     "metadata": {},
     "output_type": "display_data"
    },
    {
     "data": {
      "text/html": [
       "<pre>| 157     | 3m 40s       | 1.98578                |</pre>"
      ],
      "text/plain": [
       "| 157     | 3m 40s       | 1.98578                |"
      ]
     },
     "metadata": {},
     "output_type": "display_data"
    },
    {
     "data": {
      "text/html": [
       "<pre>| 158     | 3m 42s       | 1.98568                |</pre>"
      ],
      "text/plain": [
       "| 158     | 3m 42s       | 1.98568                |"
      ]
     },
     "metadata": {},
     "output_type": "display_data"
    },
    {
     "data": {
      "text/html": [
       "<pre>| 159     | 3m 44s       | 1.98558                |</pre>"
      ],
      "text/plain": [
       "| 159     | 3m 44s       | 1.98558                |"
      ]
     },
     "metadata": {},
     "output_type": "display_data"
    },
    {
     "data": {
      "text/html": [
       "<pre>| 160     | 3m 45s       | 1.98548                |</pre>"
      ],
      "text/plain": [
       "| 160     | 3m 45s       | 1.98548                |"
      ]
     },
     "metadata": {},
     "output_type": "display_data"
    },
    {
     "data": {
      "text/html": [
       "<pre>| 161     | 3m 46s       | 1.98538                |</pre>"
      ],
      "text/plain": [
       "| 161     | 3m 46s       | 1.98538                |"
      ]
     },
     "metadata": {},
     "output_type": "display_data"
    },
    {
     "data": {
      "text/html": [
       "<pre>| 162     | 3m 48s       | 1.98529                |</pre>"
      ],
      "text/plain": [
       "| 162     | 3m 48s       | 1.98529                |"
      ]
     },
     "metadata": {},
     "output_type": "display_data"
    },
    {
     "data": {
      "text/html": [
       "<pre>| 163     | 3m 49s       | 1.98519                |</pre>"
      ],
      "text/plain": [
       "| 163     | 3m 49s       | 1.98519                |"
      ]
     },
     "metadata": {},
     "output_type": "display_data"
    },
    {
     "data": {
      "text/html": [
       "<pre>| 164     | 3m 51s       | 1.9851                 |</pre>"
      ],
      "text/plain": [
       "| 164     | 3m 51s       | 1.9851                 |"
      ]
     },
     "metadata": {},
     "output_type": "display_data"
    },
    {
     "data": {
      "text/html": [
       "<pre>| 165     | 3m 52s       | 1.98501                |</pre>"
      ],
      "text/plain": [
       "| 165     | 3m 52s       | 1.98501                |"
      ]
     },
     "metadata": {},
     "output_type": "display_data"
    },
    {
     "data": {
      "text/html": [
       "<pre>| 166     | 3m 54s       | 1.98492                |</pre>"
      ],
      "text/plain": [
       "| 166     | 3m 54s       | 1.98492                |"
      ]
     },
     "metadata": {},
     "output_type": "display_data"
    },
    {
     "data": {
      "text/html": [
       "<pre>| 167     | 3m 55s       | 1.98483                |</pre>"
      ],
      "text/plain": [
       "| 167     | 3m 55s       | 1.98483                |"
      ]
     },
     "metadata": {},
     "output_type": "display_data"
    },
    {
     "data": {
      "text/html": [
       "<pre>| 168     | 3m 56s       | 1.98474                |</pre>"
      ],
      "text/plain": [
       "| 168     | 3m 56s       | 1.98474                |"
      ]
     },
     "metadata": {},
     "output_type": "display_data"
    },
    {
     "data": {
      "text/html": [
       "<pre>| 169     | 3m 58s       | 1.98465                |</pre>"
      ],
      "text/plain": [
       "| 169     | 3m 58s       | 1.98465                |"
      ]
     },
     "metadata": {},
     "output_type": "display_data"
    },
    {
     "data": {
      "text/html": [
       "<pre>| 170     | 3m 59s       | 1.98457                |</pre>"
      ],
      "text/plain": [
       "| 170     | 3m 59s       | 1.98457                |"
      ]
     },
     "metadata": {},
     "output_type": "display_data"
    },
    {
     "data": {
      "text/html": [
       "<pre>| 171     | 4m 1s        | 1.98448                |</pre>"
      ],
      "text/plain": [
       "| 171     | 4m 1s        | 1.98448                |"
      ]
     },
     "metadata": {},
     "output_type": "display_data"
    },
    {
     "data": {
      "text/html": [
       "<pre>| 172     | 4m 2s        | 1.9844                 |</pre>"
      ],
      "text/plain": [
       "| 172     | 4m 2s        | 1.9844                 |"
      ]
     },
     "metadata": {},
     "output_type": "display_data"
    },
    {
     "data": {
      "text/html": [
       "<pre>| 173     | 4m 3s        | 1.98431                |</pre>"
      ],
      "text/plain": [
       "| 173     | 4m 3s        | 1.98431                |"
      ]
     },
     "metadata": {},
     "output_type": "display_data"
    },
    {
     "data": {
      "text/html": [
       "<pre>| 174     | 4m 5s        | 1.98423                |</pre>"
      ],
      "text/plain": [
       "| 174     | 4m 5s        | 1.98423                |"
      ]
     },
     "metadata": {},
     "output_type": "display_data"
    },
    {
     "data": {
      "text/html": [
       "<pre>| 175     | 4m 6s        | 1.98415                |</pre>"
      ],
      "text/plain": [
       "| 175     | 4m 6s        | 1.98415                |"
      ]
     },
     "metadata": {},
     "output_type": "display_data"
    },
    {
     "data": {
      "text/html": [
       "<pre>| 176     | 4m 8s        | 1.98407                |</pre>"
      ],
      "text/plain": [
       "| 176     | 4m 8s        | 1.98407                |"
      ]
     },
     "metadata": {},
     "output_type": "display_data"
    },
    {
     "data": {
      "text/html": [
       "<pre>| 177     | 4m 9s        | 1.98398                |</pre>"
      ],
      "text/plain": [
       "| 177     | 4m 9s        | 1.98398                |"
      ]
     },
     "metadata": {},
     "output_type": "display_data"
    },
    {
     "data": {
      "text/html": [
       "<pre>| 178     | 4m 10s       | 1.9839                 |</pre>"
      ],
      "text/plain": [
       "| 178     | 4m 10s       | 1.9839                 |"
      ]
     },
     "metadata": {},
     "output_type": "display_data"
    },
    {
     "data": {
      "text/html": [
       "<pre>| 179     | 4m 12s       | 1.98382                |</pre>"
      ],
      "text/plain": [
       "| 179     | 4m 12s       | 1.98382                |"
      ]
     },
     "metadata": {},
     "output_type": "display_data"
    },
    {
     "data": {
      "text/html": [
       "<pre>| 180     | 4m 13s       | 1.98374                |</pre>"
      ],
      "text/plain": [
       "| 180     | 4m 13s       | 1.98374                |"
      ]
     },
     "metadata": {},
     "output_type": "display_data"
    },
    {
     "data": {
      "text/html": [
       "<pre>| 181     | 4m 14s       | 1.98366                |</pre>"
      ],
      "text/plain": [
       "| 181     | 4m 14s       | 1.98366                |"
      ]
     },
     "metadata": {},
     "output_type": "display_data"
    },
    {
     "data": {
      "text/html": [
       "<pre>| 182     | 4m 15s       | 1.98358                |</pre>"
      ],
      "text/plain": [
       "| 182     | 4m 15s       | 1.98358                |"
      ]
     },
     "metadata": {},
     "output_type": "display_data"
    },
    {
     "data": {
      "text/html": [
       "<pre>| 183     | 4m 17s       | 1.9835                 |</pre>"
      ],
      "text/plain": [
       "| 183     | 4m 17s       | 1.9835                 |"
      ]
     },
     "metadata": {},
     "output_type": "display_data"
    },
    {
     "data": {
      "text/html": [
       "<pre>| 184     | 4m 18s       | 1.98343                |</pre>"
      ],
      "text/plain": [
       "| 184     | 4m 18s       | 1.98343                |"
      ]
     },
     "metadata": {},
     "output_type": "display_data"
    },
    {
     "data": {
      "text/html": [
       "<pre>| 185     | 4m 20s       | 1.98335                |</pre>"
      ],
      "text/plain": [
       "| 185     | 4m 20s       | 1.98335                |"
      ]
     },
     "metadata": {},
     "output_type": "display_data"
    },
    {
     "data": {
      "text/html": [
       "<pre>| 186     | 4m 21s       | 1.98328                |</pre>"
      ],
      "text/plain": [
       "| 186     | 4m 21s       | 1.98328                |"
      ]
     },
     "metadata": {},
     "output_type": "display_data"
    },
    {
     "data": {
      "text/html": [
       "<pre>| 187     | 4m 22s       | 1.9832                 |</pre>"
      ],
      "text/plain": [
       "| 187     | 4m 22s       | 1.9832                 |"
      ]
     },
     "metadata": {},
     "output_type": "display_data"
    },
    {
     "data": {
      "text/html": [
       "<pre>| 188     | 4m 24s       | 1.98313                |</pre>"
      ],
      "text/plain": [
       "| 188     | 4m 24s       | 1.98313                |"
      ]
     },
     "metadata": {},
     "output_type": "display_data"
    },
    {
     "data": {
      "text/html": [
       "<pre>| 189     | 4m 25s       | 1.98305                |</pre>"
      ],
      "text/plain": [
       "| 189     | 4m 25s       | 1.98305                |"
      ]
     },
     "metadata": {},
     "output_type": "display_data"
    },
    {
     "data": {
      "text/html": [
       "<pre>| 190     | 4m 26s       | 1.98298                |</pre>"
      ],
      "text/plain": [
       "| 190     | 4m 26s       | 1.98298                |"
      ]
     },
     "metadata": {},
     "output_type": "display_data"
    },
    {
     "data": {
      "text/html": [
       "<pre>| 191     | 4m 28s       | 1.9829                 |</pre>"
      ],
      "text/plain": [
       "| 191     | 4m 28s       | 1.9829                 |"
      ]
     },
     "metadata": {},
     "output_type": "display_data"
    },
    {
     "data": {
      "text/html": [
       "<pre>| 192     | 4m 29s       | 1.98282                |</pre>"
      ],
      "text/plain": [
       "| 192     | 4m 29s       | 1.98282                |"
      ]
     },
     "metadata": {},
     "output_type": "display_data"
    },
    {
     "data": {
      "text/html": [
       "<pre>| 193     | 4m 31s       | 1.98275                |</pre>"
      ],
      "text/plain": [
       "| 193     | 4m 31s       | 1.98275                |"
      ]
     },
     "metadata": {},
     "output_type": "display_data"
    },
    {
     "data": {
      "text/html": [
       "<pre>| 194     | 4m 32s       | 1.98267                |</pre>"
      ],
      "text/plain": [
       "| 194     | 4m 32s       | 1.98267                |"
      ]
     },
     "metadata": {},
     "output_type": "display_data"
    },
    {
     "data": {
      "text/html": [
       "<pre>| 195     | 4m 33s       | 1.98259                |</pre>"
      ],
      "text/plain": [
       "| 195     | 4m 33s       | 1.98259                |"
      ]
     },
     "metadata": {},
     "output_type": "display_data"
    },
    {
     "data": {
      "text/html": [
       "<pre>| 196     | 4m 35s       | 1.9825                 |</pre>"
      ],
      "text/plain": [
       "| 196     | 4m 35s       | 1.9825                 |"
      ]
     },
     "metadata": {},
     "output_type": "display_data"
    },
    {
     "data": {
      "text/html": [
       "<pre>| 197     | 4m 36s       | 1.98242                |</pre>"
      ],
      "text/plain": [
       "| 197     | 4m 36s       | 1.98242                |"
      ]
     },
     "metadata": {},
     "output_type": "display_data"
    },
    {
     "data": {
      "text/html": [
       "<pre>| 198     | 4m 37s       | 1.98234                |</pre>"
      ],
      "text/plain": [
       "| 198     | 4m 37s       | 1.98234                |"
      ]
     },
     "metadata": {},
     "output_type": "display_data"
    },
    {
     "data": {
      "text/html": [
       "<pre>| 199     | 4m 38s       | 1.98226                |</pre>"
      ],
      "text/plain": [
       "| 199     | 4m 38s       | 1.98226                |"
      ]
     },
     "metadata": {},
     "output_type": "display_data"
    },
    {
     "data": {
      "text/html": [
       "<pre>| 200     | 4m 40s       | 1.98218                |</pre>"
      ],
      "text/plain": [
       "| 200     | 4m 40s       | 1.98218                |"
      ]
     },
     "metadata": {},
     "output_type": "display_data"
    },
    {
     "data": {
      "text/html": [
       "<pre>| 201     | 4m 41s       | 1.98211                |</pre>"
      ],
      "text/plain": [
       "| 201     | 4m 41s       | 1.98211                |"
      ]
     },
     "metadata": {},
     "output_type": "display_data"
    },
    {
     "data": {
      "text/html": [
       "<pre>| 202     | 4m 43s       | 1.98203                |</pre>"
      ],
      "text/plain": [
       "| 202     | 4m 43s       | 1.98203                |"
      ]
     },
     "metadata": {},
     "output_type": "display_data"
    },
    {
     "data": {
      "text/html": [
       "<pre>| 203     | 4m 44s       | 1.98196                |</pre>"
      ],
      "text/plain": [
       "| 203     | 4m 44s       | 1.98196                |"
      ]
     },
     "metadata": {},
     "output_type": "display_data"
    },
    {
     "data": {
      "text/html": [
       "<pre>| 204     | 4m 45s       | 1.98189                |</pre>"
      ],
      "text/plain": [
       "| 204     | 4m 45s       | 1.98189                |"
      ]
     },
     "metadata": {},
     "output_type": "display_data"
    },
    {
     "data": {
      "text/html": [
       "<pre>| 205     | 4m 46s       | 1.98182                |</pre>"
      ],
      "text/plain": [
       "| 205     | 4m 46s       | 1.98182                |"
      ]
     },
     "metadata": {},
     "output_type": "display_data"
    },
    {
     "data": {
      "text/html": [
       "<pre>| 206     | 4m 48s       | 1.98175                |</pre>"
      ],
      "text/plain": [
       "| 206     | 4m 48s       | 1.98175                |"
      ]
     },
     "metadata": {},
     "output_type": "display_data"
    },
    {
     "data": {
      "text/html": [
       "<pre>| 207     | 4m 49s       | 1.98167                |</pre>"
      ],
      "text/plain": [
       "| 207     | 4m 49s       | 1.98167                |"
      ]
     },
     "metadata": {},
     "output_type": "display_data"
    },
    {
     "data": {
      "text/html": [
       "<pre>| 208     | 4m 50s       | 1.9816                 |</pre>"
      ],
      "text/plain": [
       "| 208     | 4m 50s       | 1.9816                 |"
      ]
     },
     "metadata": {},
     "output_type": "display_data"
    },
    {
     "data": {
      "text/html": [
       "<pre>| 209     | 4m 51s       | 1.98153                |</pre>"
      ],
      "text/plain": [
       "| 209     | 4m 51s       | 1.98153                |"
      ]
     },
     "metadata": {},
     "output_type": "display_data"
    },
    {
     "data": {
      "text/html": [
       "<pre>| 210     | 4m 53s       | 1.98146                |</pre>"
      ],
      "text/plain": [
       "| 210     | 4m 53s       | 1.98146                |"
      ]
     },
     "metadata": {},
     "output_type": "display_data"
    },
    {
     "data": {
      "text/html": [
       "<pre>| 211     | 4m 54s       | 1.9814                 |</pre>"
      ],
      "text/plain": [
       "| 211     | 4m 54s       | 1.9814                 |"
      ]
     },
     "metadata": {},
     "output_type": "display_data"
    },
    {
     "data": {
      "text/html": [
       "<pre>| 212     | 4m 55s       | 1.98133                |</pre>"
      ],
      "text/plain": [
       "| 212     | 4m 55s       | 1.98133                |"
      ]
     },
     "metadata": {},
     "output_type": "display_data"
    },
    {
     "data": {
      "text/html": [
       "<pre>| 213     | 4m 56s       | 1.98126                |</pre>"
      ],
      "text/plain": [
       "| 213     | 4m 56s       | 1.98126                |"
      ]
     },
     "metadata": {},
     "output_type": "display_data"
    },
    {
     "data": {
      "text/html": [
       "<pre>| 214     | 4m 58s       | 1.9812                 |</pre>"
      ],
      "text/plain": [
       "| 214     | 4m 58s       | 1.9812                 |"
      ]
     },
     "metadata": {},
     "output_type": "display_data"
    },
    {
     "data": {
      "text/html": [
       "<pre>| 215     | 4m 59s       | 1.98113                |</pre>"
      ],
      "text/plain": [
       "| 215     | 4m 59s       | 1.98113                |"
      ]
     },
     "metadata": {},
     "output_type": "display_data"
    },
    {
     "data": {
      "text/html": [
       "<pre>| 216     | 5m 0s        | 1.98107                |</pre>"
      ],
      "text/plain": [
       "| 216     | 5m 0s        | 1.98107                |"
      ]
     },
     "metadata": {},
     "output_type": "display_data"
    },
    {
     "data": {
      "text/html": [
       "<pre>| 217     | 5m 2s        | 1.98101                |</pre>"
      ],
      "text/plain": [
       "| 217     | 5m 2s        | 1.98101                |"
      ]
     },
     "metadata": {},
     "output_type": "display_data"
    },
    {
     "data": {
      "text/html": [
       "<pre>| 218     | 5m 3s        | 1.98095                |</pre>"
      ],
      "text/plain": [
       "| 218     | 5m 3s        | 1.98095                |"
      ]
     },
     "metadata": {},
     "output_type": "display_data"
    },
    {
     "data": {
      "text/html": [
       "<pre>| 219     | 5m 4s        | 1.98088                |</pre>"
      ],
      "text/plain": [
       "| 219     | 5m 4s        | 1.98088                |"
      ]
     },
     "metadata": {},
     "output_type": "display_data"
    },
    {
     "data": {
      "text/html": [
       "<pre>| 220     | 5m 5s        | 1.98082                |</pre>"
      ],
      "text/plain": [
       "| 220     | 5m 5s        | 1.98082                |"
      ]
     },
     "metadata": {},
     "output_type": "display_data"
    },
    {
     "data": {
      "text/html": [
       "<pre>| 221     | 5m 7s        | 1.98076                |</pre>"
      ],
      "text/plain": [
       "| 221     | 5m 7s        | 1.98076                |"
      ]
     },
     "metadata": {},
     "output_type": "display_data"
    },
    {
     "data": {
      "text/html": [
       "<pre>| 222     | 5m 8s        | 1.9807                 |</pre>"
      ],
      "text/plain": [
       "| 222     | 5m 8s        | 1.9807                 |"
      ]
     },
     "metadata": {},
     "output_type": "display_data"
    },
    {
     "data": {
      "text/html": [
       "<pre>| 223     | 5m 9s        | 1.98065                |</pre>"
      ],
      "text/plain": [
       "| 223     | 5m 9s        | 1.98065                |"
      ]
     },
     "metadata": {},
     "output_type": "display_data"
    },
    {
     "data": {
      "text/html": [
       "<pre>| 224     | 5m 10s       | 1.98059                |</pre>"
      ],
      "text/plain": [
       "| 224     | 5m 10s       | 1.98059                |"
      ]
     },
     "metadata": {},
     "output_type": "display_data"
    },
    {
     "data": {
      "text/html": [
       "<pre>| 225     | 5m 12s       | 1.98053                |</pre>"
      ],
      "text/plain": [
       "| 225     | 5m 12s       | 1.98053                |"
      ]
     },
     "metadata": {},
     "output_type": "display_data"
    },
    {
     "data": {
      "text/html": [
       "<pre>| 226     | 5m 13s       | 1.98048                |</pre>"
      ],
      "text/plain": [
       "| 226     | 5m 13s       | 1.98048                |"
      ]
     },
     "metadata": {},
     "output_type": "display_data"
    },
    {
     "data": {
      "text/html": [
       "<pre>| 227     | 5m 15s       | 1.98042                |</pre>"
      ],
      "text/plain": [
       "| 227     | 5m 15s       | 1.98042                |"
      ]
     },
     "metadata": {},
     "output_type": "display_data"
    },
    {
     "data": {
      "text/html": [
       "<pre>| 228     | 5m 16s       | 1.98037                |</pre>"
      ],
      "text/plain": [
       "| 228     | 5m 16s       | 1.98037                |"
      ]
     },
     "metadata": {},
     "output_type": "display_data"
    },
    {
     "data": {
      "text/html": [
       "<pre>| 229     | 5m 17s       | 1.98031                |</pre>"
      ],
      "text/plain": [
       "| 229     | 5m 17s       | 1.98031                |"
      ]
     },
     "metadata": {},
     "output_type": "display_data"
    },
    {
     "data": {
      "text/html": [
       "<pre>| 230     | 5m 18s       | 1.98026                |</pre>"
      ],
      "text/plain": [
       "| 230     | 5m 18s       | 1.98026                |"
      ]
     },
     "metadata": {},
     "output_type": "display_data"
    },
    {
     "data": {
      "text/html": [
       "<pre>| 231     | 5m 20s       | 1.98021                |</pre>"
      ],
      "text/plain": [
       "| 231     | 5m 20s       | 1.98021                |"
      ]
     },
     "metadata": {},
     "output_type": "display_data"
    },
    {
     "data": {
      "text/html": [
       "<pre>| 232     | 5m 21s       | 1.98015                |</pre>"
      ],
      "text/plain": [
       "| 232     | 5m 21s       | 1.98015                |"
      ]
     },
     "metadata": {},
     "output_type": "display_data"
    },
    {
     "data": {
      "text/html": [
       "<pre>| 233     | 5m 22s       | 1.9801                 |</pre>"
      ],
      "text/plain": [
       "| 233     | 5m 22s       | 1.9801                 |"
      ]
     },
     "metadata": {},
     "output_type": "display_data"
    },
    {
     "data": {
      "text/html": [
       "<pre>| 234     | 5m 24s       | 1.98005                |</pre>"
      ],
      "text/plain": [
       "| 234     | 5m 24s       | 1.98005                |"
      ]
     },
     "metadata": {},
     "output_type": "display_data"
    },
    {
     "data": {
      "text/html": [
       "<pre>| 235     | 5m 25s       | 1.98                   |</pre>"
      ],
      "text/plain": [
       "| 235     | 5m 25s       | 1.98                   |"
      ]
     },
     "metadata": {},
     "output_type": "display_data"
    },
    {
     "data": {
      "text/html": [
       "<pre>| 236     | 5m 27s       | 1.97995                |</pre>"
      ],
      "text/plain": [
       "| 236     | 5m 27s       | 1.97995                |"
      ]
     },
     "metadata": {},
     "output_type": "display_data"
    },
    {
     "data": {
      "text/html": [
       "<pre>| 237     | 5m 28s       | 1.9799                 |</pre>"
      ],
      "text/plain": [
       "| 237     | 5m 28s       | 1.9799                 |"
      ]
     },
     "metadata": {},
     "output_type": "display_data"
    },
    {
     "data": {
      "text/html": [
       "<pre>| 238     | 5m 29s       | 1.97985                |</pre>"
      ],
      "text/plain": [
       "| 238     | 5m 29s       | 1.97985                |"
      ]
     },
     "metadata": {},
     "output_type": "display_data"
    },
    {
     "data": {
      "text/html": [
       "<pre>| 239     | 5m 31s       | 1.9798                 |</pre>"
      ],
      "text/plain": [
       "| 239     | 5m 31s       | 1.9798                 |"
      ]
     },
     "metadata": {},
     "output_type": "display_data"
    },
    {
     "data": {
      "text/html": [
       "<pre>| 240     | 5m 32s       | 1.97975                |</pre>"
      ],
      "text/plain": [
       "| 240     | 5m 32s       | 1.97975                |"
      ]
     },
     "metadata": {},
     "output_type": "display_data"
    },
    {
     "data": {
      "text/html": [
       "<pre>| 241     | 5m 33s       | 1.97971                |</pre>"
      ],
      "text/plain": [
       "| 241     | 5m 33s       | 1.97971                |"
      ]
     },
     "metadata": {},
     "output_type": "display_data"
    },
    {
     "data": {
      "text/html": [
       "<pre>| 242     | 5m 34s       | 1.97966                |</pre>"
      ],
      "text/plain": [
       "| 242     | 5m 34s       | 1.97966                |"
      ]
     },
     "metadata": {},
     "output_type": "display_data"
    },
    {
     "data": {
      "text/html": [
       "<pre>| 243     | 5m 36s       | 1.97961                |</pre>"
      ],
      "text/plain": [
       "| 243     | 5m 36s       | 1.97961                |"
      ]
     },
     "metadata": {},
     "output_type": "display_data"
    },
    {
     "data": {
      "text/html": [
       "<pre>| 244     | 5m 37s       | 1.97957                |</pre>"
      ],
      "text/plain": [
       "| 244     | 5m 37s       | 1.97957                |"
      ]
     },
     "metadata": {},
     "output_type": "display_data"
    },
    {
     "data": {
      "text/html": [
       "<pre>| 245     | 5m 39s       | 1.97952                |</pre>"
      ],
      "text/plain": [
       "| 245     | 5m 39s       | 1.97952                |"
      ]
     },
     "metadata": {},
     "output_type": "display_data"
    },
    {
     "data": {
      "text/html": [
       "<pre>| 246     | 5m 40s       | 1.97948                |</pre>"
      ],
      "text/plain": [
       "| 246     | 5m 40s       | 1.97948                |"
      ]
     },
     "metadata": {},
     "output_type": "display_data"
    },
    {
     "data": {
      "text/html": [
       "<pre>| 247     | 5m 41s       | 1.97943                |</pre>"
      ],
      "text/plain": [
       "| 247     | 5m 41s       | 1.97943                |"
      ]
     },
     "metadata": {},
     "output_type": "display_data"
    },
    {
     "data": {
      "text/html": [
       "<pre>| 248     | 5m 42s       | 1.97939                |</pre>"
      ],
      "text/plain": [
       "| 248     | 5m 42s       | 1.97939                |"
      ]
     },
     "metadata": {},
     "output_type": "display_data"
    },
    {
     "data": {
      "text/html": [
       "<pre>| 249     | 5m 44s       | 1.97934                |</pre>"
      ],
      "text/plain": [
       "| 249     | 5m 44s       | 1.97934                |"
      ]
     },
     "metadata": {},
     "output_type": "display_data"
    },
    {
     "data": {
      "text/html": [
       "<pre>| 250     | 5m 45s       | 1.9793                 |</pre>"
      ],
      "text/plain": [
       "| 250     | 5m 45s       | 1.9793                 |"
      ]
     },
     "metadata": {},
     "output_type": "display_data"
    },
    {
     "data": {
      "text/html": [
       "<pre>| 251     | 5m 46s       | 1.97926                |</pre>"
      ],
      "text/plain": [
       "| 251     | 5m 46s       | 1.97926                |"
      ]
     },
     "metadata": {},
     "output_type": "display_data"
    },
    {
     "data": {
      "text/html": [
       "<pre>| 252     | 5m 48s       | 1.97922                |</pre>"
      ],
      "text/plain": [
       "| 252     | 5m 48s       | 1.97922                |"
      ]
     },
     "metadata": {},
     "output_type": "display_data"
    },
    {
     "data": {
      "text/html": [
       "<pre>| 253     | 5m 49s       | 1.97917                |</pre>"
      ],
      "text/plain": [
       "| 253     | 5m 49s       | 1.97917                |"
      ]
     },
     "metadata": {},
     "output_type": "display_data"
    },
    {
     "data": {
      "text/html": [
       "<pre>| 254     | 5m 50s       | 1.97913                |</pre>"
      ],
      "text/plain": [
       "| 254     | 5m 50s       | 1.97913                |"
      ]
     },
     "metadata": {},
     "output_type": "display_data"
    },
    {
     "data": {
      "text/html": [
       "<pre>| 255     | 5m 51s       | 1.97909                |</pre>"
      ],
      "text/plain": [
       "| 255     | 5m 51s       | 1.97909                |"
      ]
     },
     "metadata": {},
     "output_type": "display_data"
    },
    {
     "data": {
      "text/html": [
       "<pre>| 256     | 5m 53s       | 1.97905                |</pre>"
      ],
      "text/plain": [
       "| 256     | 5m 53s       | 1.97905                |"
      ]
     },
     "metadata": {},
     "output_type": "display_data"
    },
    {
     "data": {
      "text/html": [
       "<pre>| 257     | 5m 54s       | 1.97901                |</pre>"
      ],
      "text/plain": [
       "| 257     | 5m 54s       | 1.97901                |"
      ]
     },
     "metadata": {},
     "output_type": "display_data"
    },
    {
     "data": {
      "text/html": [
       "<pre>| 258     | 5m 55s       | 1.97897                |</pre>"
      ],
      "text/plain": [
       "| 258     | 5m 55s       | 1.97897                |"
      ]
     },
     "metadata": {},
     "output_type": "display_data"
    },
    {
     "data": {
      "text/html": [
       "<pre>| 259     | 5m 57s       | 1.97893                |</pre>"
      ],
      "text/plain": [
       "| 259     | 5m 57s       | 1.97893                |"
      ]
     },
     "metadata": {},
     "output_type": "display_data"
    },
    {
     "data": {
      "text/html": [
       "<pre>| 260     | 5m 58s       | 1.97889                |</pre>"
      ],
      "text/plain": [
       "| 260     | 5m 58s       | 1.97889                |"
      ]
     },
     "metadata": {},
     "output_type": "display_data"
    },
    {
     "data": {
      "text/html": [
       "<pre>| 261     | 5m 59s       | 1.97885                |</pre>"
      ],
      "text/plain": [
       "| 261     | 5m 59s       | 1.97885                |"
      ]
     },
     "metadata": {},
     "output_type": "display_data"
    },
    {
     "data": {
      "text/html": [
       "<pre>| 262     | 6m 0s        | 1.97881                |</pre>"
      ],
      "text/plain": [
       "| 262     | 6m 0s        | 1.97881                |"
      ]
     },
     "metadata": {},
     "output_type": "display_data"
    },
    {
     "data": {
      "text/html": [
       "<pre>| 263     | 6m 2s        | 1.97877                |</pre>"
      ],
      "text/plain": [
       "| 263     | 6m 2s        | 1.97877                |"
      ]
     },
     "metadata": {},
     "output_type": "display_data"
    },
    {
     "data": {
      "text/html": [
       "<pre>| 264     | 6m 3s        | 1.97873                |</pre>"
      ],
      "text/plain": [
       "| 264     | 6m 3s        | 1.97873                |"
      ]
     },
     "metadata": {},
     "output_type": "display_data"
    },
    {
     "data": {
      "text/html": [
       "<pre>| 265     | 6m 4s        | 1.97869                |</pre>"
      ],
      "text/plain": [
       "| 265     | 6m 4s        | 1.97869                |"
      ]
     },
     "metadata": {},
     "output_type": "display_data"
    },
    {
     "data": {
      "text/html": [
       "<pre>| 266     | 6m 5s        | 1.97865                |</pre>"
      ],
      "text/plain": [
       "| 266     | 6m 5s        | 1.97865                |"
      ]
     },
     "metadata": {},
     "output_type": "display_data"
    },
    {
     "data": {
      "text/html": [
       "<pre>| 267     | 6m 7s        | 1.97862                |</pre>"
      ],
      "text/plain": [
       "| 267     | 6m 7s        | 1.97862                |"
      ]
     },
     "metadata": {},
     "output_type": "display_data"
    },
    {
     "data": {
      "text/html": [
       "<pre>| 268     | 6m 8s        | 1.97858                |</pre>"
      ],
      "text/plain": [
       "| 268     | 6m 8s        | 1.97858                |"
      ]
     },
     "metadata": {},
     "output_type": "display_data"
    },
    {
     "data": {
      "text/html": [
       "<pre>| 269     | 6m 10s       | 1.97854                |</pre>"
      ],
      "text/plain": [
       "| 269     | 6m 10s       | 1.97854                |"
      ]
     },
     "metadata": {},
     "output_type": "display_data"
    },
    {
     "data": {
      "text/html": [
       "<pre>| 270     | 6m 11s       | 1.9785                 |</pre>"
      ],
      "text/plain": [
       "| 270     | 6m 11s       | 1.9785                 |"
      ]
     },
     "metadata": {},
     "output_type": "display_data"
    },
    {
     "data": {
      "text/html": [
       "<pre>| 271     | 6m 13s       | 1.97846                |</pre>"
      ],
      "text/plain": [
       "| 271     | 6m 13s       | 1.97846                |"
      ]
     },
     "metadata": {},
     "output_type": "display_data"
    },
    {
     "data": {
      "text/html": [
       "<pre>| 272     | 6m 14s       | 1.97843                |</pre>"
      ],
      "text/plain": [
       "| 272     | 6m 14s       | 1.97843                |"
      ]
     },
     "metadata": {},
     "output_type": "display_data"
    },
    {
     "data": {
      "text/html": [
       "<pre>| 273     | 6m 15s       | 1.97839                |</pre>"
      ],
      "text/plain": [
       "| 273     | 6m 15s       | 1.97839                |"
      ]
     },
     "metadata": {},
     "output_type": "display_data"
    },
    {
     "data": {
      "text/html": [
       "<pre>| 274     | 6m 17s       | 1.97835                |</pre>"
      ],
      "text/plain": [
       "| 274     | 6m 17s       | 1.97835                |"
      ]
     },
     "metadata": {},
     "output_type": "display_data"
    },
    {
     "data": {
      "text/html": [
       "<pre>| 275     | 6m 18s       | 1.97832                |</pre>"
      ],
      "text/plain": [
       "| 275     | 6m 18s       | 1.97832                |"
      ]
     },
     "metadata": {},
     "output_type": "display_data"
    },
    {
     "data": {
      "text/html": [
       "<pre>| 276     | 6m 20s       | 1.97828                |</pre>"
      ],
      "text/plain": [
       "| 276     | 6m 20s       | 1.97828                |"
      ]
     },
     "metadata": {},
     "output_type": "display_data"
    },
    {
     "data": {
      "text/html": [
       "<pre>| 277     | 6m 21s       | 1.97824                |</pre>"
      ],
      "text/plain": [
       "| 277     | 6m 21s       | 1.97824                |"
      ]
     },
     "metadata": {},
     "output_type": "display_data"
    },
    {
     "data": {
      "text/html": [
       "<pre>| 278     | 6m 22s       | 1.97821                |</pre>"
      ],
      "text/plain": [
       "| 278     | 6m 22s       | 1.97821                |"
      ]
     },
     "metadata": {},
     "output_type": "display_data"
    },
    {
     "data": {
      "text/html": [
       "<pre>| 279     | 6m 24s       | 1.97817                |</pre>"
      ],
      "text/plain": [
       "| 279     | 6m 24s       | 1.97817                |"
      ]
     },
     "metadata": {},
     "output_type": "display_data"
    },
    {
     "data": {
      "text/html": [
       "<pre>| 280     | 6m 25s       | 1.97814                |</pre>"
      ],
      "text/plain": [
       "| 280     | 6m 25s       | 1.97814                |"
      ]
     },
     "metadata": {},
     "output_type": "display_data"
    },
    {
     "data": {
      "text/html": [
       "<pre>| 281     | 6m 26s       | 1.9781                 |</pre>"
      ],
      "text/plain": [
       "| 281     | 6m 26s       | 1.9781                 |"
      ]
     },
     "metadata": {},
     "output_type": "display_data"
    },
    {
     "data": {
      "text/html": [
       "<pre>| 282     | 6m 28s       | 1.97807                |</pre>"
      ],
      "text/plain": [
       "| 282     | 6m 28s       | 1.97807                |"
      ]
     },
     "metadata": {},
     "output_type": "display_data"
    },
    {
     "data": {
      "text/html": [
       "<pre>| 283     | 6m 29s       | 1.97803                |</pre>"
      ],
      "text/plain": [
       "| 283     | 6m 29s       | 1.97803                |"
      ]
     },
     "metadata": {},
     "output_type": "display_data"
    },
    {
     "data": {
      "text/html": [
       "<pre>| 284     | 6m 31s       | 1.978                  |</pre>"
      ],
      "text/plain": [
       "| 284     | 6m 31s       | 1.978                  |"
      ]
     },
     "metadata": {},
     "output_type": "display_data"
    },
    {
     "data": {
      "text/html": [
       "<pre>| 285     | 6m 32s       | 1.97796                |</pre>"
      ],
      "text/plain": [
       "| 285     | 6m 32s       | 1.97796                |"
      ]
     },
     "metadata": {},
     "output_type": "display_data"
    },
    {
     "data": {
      "text/html": [
       "<pre>| 286     | 6m 33s       | 1.97793                |</pre>"
      ],
      "text/plain": [
       "| 286     | 6m 33s       | 1.97793                |"
      ]
     },
     "metadata": {},
     "output_type": "display_data"
    },
    {
     "data": {
      "text/html": [
       "<pre>| 287     | 6m 35s       | 1.97789                |</pre>"
      ],
      "text/plain": [
       "| 287     | 6m 35s       | 1.97789                |"
      ]
     },
     "metadata": {},
     "output_type": "display_data"
    },
    {
     "data": {
      "text/html": [
       "<pre>| 288     | 6m 36s       | 1.97786                |</pre>"
      ],
      "text/plain": [
       "| 288     | 6m 36s       | 1.97786                |"
      ]
     },
     "metadata": {},
     "output_type": "display_data"
    },
    {
     "data": {
      "text/html": [
       "<pre>| 289     | 6m 38s       | 1.97782                |</pre>"
      ],
      "text/plain": [
       "| 289     | 6m 38s       | 1.97782                |"
      ]
     },
     "metadata": {},
     "output_type": "display_data"
    },
    {
     "data": {
      "text/html": [
       "<pre>| 290     | 6m 39s       | 1.97779                |</pre>"
      ],
      "text/plain": [
       "| 290     | 6m 39s       | 1.97779                |"
      ]
     },
     "metadata": {},
     "output_type": "display_data"
    },
    {
     "data": {
      "text/html": [
       "<pre>| 291     | 6m 41s       | 1.97776                |</pre>"
      ],
      "text/plain": [
       "| 291     | 6m 41s       | 1.97776                |"
      ]
     },
     "metadata": {},
     "output_type": "display_data"
    },
    {
     "data": {
      "text/html": [
       "<pre>| 292     | 6m 42s       | 1.97772                |</pre>"
      ],
      "text/plain": [
       "| 292     | 6m 42s       | 1.97772                |"
      ]
     },
     "metadata": {},
     "output_type": "display_data"
    },
    {
     "data": {
      "text/html": [
       "<pre>| 293     | 6m 44s       | 1.97769                |</pre>"
      ],
      "text/plain": [
       "| 293     | 6m 44s       | 1.97769                |"
      ]
     },
     "metadata": {},
     "output_type": "display_data"
    },
    {
     "data": {
      "text/html": [
       "<pre>| 294     | 6m 45s       | 1.97766                |</pre>"
      ],
      "text/plain": [
       "| 294     | 6m 45s       | 1.97766                |"
      ]
     },
     "metadata": {},
     "output_type": "display_data"
    },
    {
     "data": {
      "text/html": [
       "<pre>| 295     | 6m 47s       | 1.97762                |</pre>"
      ],
      "text/plain": [
       "| 295     | 6m 47s       | 1.97762                |"
      ]
     },
     "metadata": {},
     "output_type": "display_data"
    },
    {
     "data": {
      "text/html": [
       "<pre>| 296     | 6m 48s       | 1.97759                |</pre>"
      ],
      "text/plain": [
       "| 296     | 6m 48s       | 1.97759                |"
      ]
     },
     "metadata": {},
     "output_type": "display_data"
    },
    {
     "data": {
      "text/html": [
       "<pre>| 297     | 6m 50s       | 1.97756                |</pre>"
      ],
      "text/plain": [
       "| 297     | 6m 50s       | 1.97756                |"
      ]
     },
     "metadata": {},
     "output_type": "display_data"
    },
    {
     "data": {
      "text/html": [
       "<pre>| 298     | 6m 51s       | 1.97752                |</pre>"
      ],
      "text/plain": [
       "| 298     | 6m 51s       | 1.97752                |"
      ]
     },
     "metadata": {},
     "output_type": "display_data"
    },
    {
     "data": {
      "text/html": [
       "<pre>| 299     | 6m 52s       | 1.97749                |</pre>"
      ],
      "text/plain": [
       "| 299     | 6m 52s       | 1.97749                |"
      ]
     },
     "metadata": {},
     "output_type": "display_data"
    },
    {
     "data": {
      "text/html": [
       "<pre>| 300     | 6m 54s       | 1.97746                |</pre>"
      ],
      "text/plain": [
       "| 300     | 6m 54s       | 1.97746                |"
      ]
     },
     "metadata": {},
     "output_type": "display_data"
    },
    {
     "data": {
      "text/html": [
       "<pre>| 301     | 6m 55s       | 1.97743                |</pre>"
      ],
      "text/plain": [
       "| 301     | 6m 55s       | 1.97743                |"
      ]
     },
     "metadata": {},
     "output_type": "display_data"
    },
    {
     "data": {
      "text/html": [
       "<pre>| 302     | 6m 56s       | 1.97739                |</pre>"
      ],
      "text/plain": [
       "| 302     | 6m 56s       | 1.97739                |"
      ]
     },
     "metadata": {},
     "output_type": "display_data"
    },
    {
     "data": {
      "text/html": [
       "<pre>| 303     | 6m 58s       | 1.97736                |</pre>"
      ],
      "text/plain": [
       "| 303     | 6m 58s       | 1.97736                |"
      ]
     },
     "metadata": {},
     "output_type": "display_data"
    },
    {
     "data": {
      "text/html": [
       "<pre>| 304     | 6m 59s       | 1.97733                |</pre>"
      ],
      "text/plain": [
       "| 304     | 6m 59s       | 1.97733                |"
      ]
     },
     "metadata": {},
     "output_type": "display_data"
    },
    {
     "data": {
      "text/html": [
       "<pre>| 305     | 7m 0s        | 1.9773                 |</pre>"
      ],
      "text/plain": [
       "| 305     | 7m 0s        | 1.9773                 |"
      ]
     },
     "metadata": {},
     "output_type": "display_data"
    },
    {
     "data": {
      "text/html": [
       "<pre>| 306     | 7m 1s        | 1.97727                |</pre>"
      ],
      "text/plain": [
       "| 306     | 7m 1s        | 1.97727                |"
      ]
     },
     "metadata": {},
     "output_type": "display_data"
    },
    {
     "data": {
      "text/html": [
       "<pre>| 307     | 7m 3s        | 1.97724                |</pre>"
      ],
      "text/plain": [
       "| 307     | 7m 3s        | 1.97724                |"
      ]
     },
     "metadata": {},
     "output_type": "display_data"
    },
    {
     "data": {
      "text/html": [
       "<pre>| 308     | 7m 4s        | 1.97721                |</pre>"
      ],
      "text/plain": [
       "| 308     | 7m 4s        | 1.97721                |"
      ]
     },
     "metadata": {},
     "output_type": "display_data"
    },
    {
     "data": {
      "text/html": [
       "<pre>| 309     | 7m 6s        | 1.97717                |</pre>"
      ],
      "text/plain": [
       "| 309     | 7m 6s        | 1.97717                |"
      ]
     },
     "metadata": {},
     "output_type": "display_data"
    },
    {
     "data": {
      "text/html": [
       "<pre>| 310     | 7m 7s        | 1.97714                |</pre>"
      ],
      "text/plain": [
       "| 310     | 7m 7s        | 1.97714                |"
      ]
     },
     "metadata": {},
     "output_type": "display_data"
    },
    {
     "data": {
      "text/html": [
       "<pre>| 311     | 7m 9s        | 1.97711                |</pre>"
      ],
      "text/plain": [
       "| 311     | 7m 9s        | 1.97711                |"
      ]
     },
     "metadata": {},
     "output_type": "display_data"
    },
    {
     "data": {
      "text/html": [
       "<pre>| 312     | 7m 11s       | 1.97709                |</pre>"
      ],
      "text/plain": [
       "| 312     | 7m 11s       | 1.97709                |"
      ]
     },
     "metadata": {},
     "output_type": "display_data"
    },
    {
     "data": {
      "text/html": [
       "<pre>| 313     | 7m 12s       | 1.97706                |</pre>"
      ],
      "text/plain": [
       "| 313     | 7m 12s       | 1.97706                |"
      ]
     },
     "metadata": {},
     "output_type": "display_data"
    },
    {
     "data": {
      "text/html": [
       "<pre>| 314     | 7m 13s       | 1.97703                |</pre>"
      ],
      "text/plain": [
       "| 314     | 7m 13s       | 1.97703                |"
      ]
     },
     "metadata": {},
     "output_type": "display_data"
    },
    {
     "data": {
      "text/html": [
       "<pre>| 315     | 7m 15s       | 1.977                  |</pre>"
      ],
      "text/plain": [
       "| 315     | 7m 15s       | 1.977                  |"
      ]
     },
     "metadata": {},
     "output_type": "display_data"
    },
    {
     "data": {
      "text/html": [
       "<pre>| 316     | 7m 17s       | 1.97697                |</pre>"
      ],
      "text/plain": [
       "| 316     | 7m 17s       | 1.97697                |"
      ]
     },
     "metadata": {},
     "output_type": "display_data"
    },
    {
     "data": {
      "text/html": [
       "<pre>| 317     | 7m 18s       | 1.97694                |</pre>"
      ],
      "text/plain": [
       "| 317     | 7m 18s       | 1.97694                |"
      ]
     },
     "metadata": {},
     "output_type": "display_data"
    },
    {
     "data": {
      "text/html": [
       "<pre>| 318     | 7m 20s       | 1.97692                |</pre>"
      ],
      "text/plain": [
       "| 318     | 7m 20s       | 1.97692                |"
      ]
     },
     "metadata": {},
     "output_type": "display_data"
    },
    {
     "data": {
      "text/html": [
       "<pre>| 319     | 7m 21s       | 1.97689                |</pre>"
      ],
      "text/plain": [
       "| 319     | 7m 21s       | 1.97689                |"
      ]
     },
     "metadata": {},
     "output_type": "display_data"
    },
    {
     "data": {
      "text/html": [
       "<pre>| 320     | 7m 23s       | 1.97686                |</pre>"
      ],
      "text/plain": [
       "| 320     | 7m 23s       | 1.97686                |"
      ]
     },
     "metadata": {},
     "output_type": "display_data"
    },
    {
     "data": {
      "text/html": [
       "<pre>| 321     | 7m 24s       | 1.97684                |</pre>"
      ],
      "text/plain": [
       "| 321     | 7m 24s       | 1.97684                |"
      ]
     },
     "metadata": {},
     "output_type": "display_data"
    },
    {
     "data": {
      "text/html": [
       "<pre>| 322     | 7m 26s       | 1.97681                |</pre>"
      ],
      "text/plain": [
       "| 322     | 7m 26s       | 1.97681                |"
      ]
     },
     "metadata": {},
     "output_type": "display_data"
    },
    {
     "data": {
      "text/html": [
       "<pre>| 323     | 7m 27s       | 1.97678                |</pre>"
      ],
      "text/plain": [
       "| 323     | 7m 27s       | 1.97678                |"
      ]
     },
     "metadata": {},
     "output_type": "display_data"
    },
    {
     "data": {
      "text/html": [
       "<pre>| 324     | 7m 29s       | 1.97676                |</pre>"
      ],
      "text/plain": [
       "| 324     | 7m 29s       | 1.97676                |"
      ]
     },
     "metadata": {},
     "output_type": "display_data"
    },
    {
     "data": {
      "text/html": [
       "<pre>| 325     | 7m 30s       | 1.97673                |</pre>"
      ],
      "text/plain": [
       "| 325     | 7m 30s       | 1.97673                |"
      ]
     },
     "metadata": {},
     "output_type": "display_data"
    },
    {
     "data": {
      "text/html": [
       "<pre>| 326     | 7m 32s       | 1.97671                |</pre>"
      ],
      "text/plain": [
       "| 326     | 7m 32s       | 1.97671                |"
      ]
     },
     "metadata": {},
     "output_type": "display_data"
    },
    {
     "data": {
      "text/html": [
       "<pre>| 327     | 7m 33s       | 1.97668                |</pre>"
      ],
      "text/plain": [
       "| 327     | 7m 33s       | 1.97668                |"
      ]
     },
     "metadata": {},
     "output_type": "display_data"
    },
    {
     "data": {
      "text/html": [
       "<pre>| 328     | 7m 35s       | 1.97666                |</pre>"
      ],
      "text/plain": [
       "| 328     | 7m 35s       | 1.97666                |"
      ]
     },
     "metadata": {},
     "output_type": "display_data"
    },
    {
     "data": {
      "text/html": [
       "<pre>| 329     | 7m 37s       | 1.97663                |</pre>"
      ],
      "text/plain": [
       "| 329     | 7m 37s       | 1.97663                |"
      ]
     },
     "metadata": {},
     "output_type": "display_data"
    },
    {
     "data": {
      "text/html": [
       "<pre>| 330     | 7m 38s       | 1.97661                |</pre>"
      ],
      "text/plain": [
       "| 330     | 7m 38s       | 1.97661                |"
      ]
     },
     "metadata": {},
     "output_type": "display_data"
    },
    {
     "data": {
      "text/html": [
       "<pre>| 331     | 7m 40s       | 1.97658                |</pre>"
      ],
      "text/plain": [
       "| 331     | 7m 40s       | 1.97658                |"
      ]
     },
     "metadata": {},
     "output_type": "display_data"
    },
    {
     "data": {
      "text/html": [
       "<pre>| 332     | 7m 41s       | 1.97656                |</pre>"
      ],
      "text/plain": [
       "| 332     | 7m 41s       | 1.97656                |"
      ]
     },
     "metadata": {},
     "output_type": "display_data"
    },
    {
     "data": {
      "text/html": [
       "<pre>| 333     | 7m 43s       | 1.97654                |</pre>"
      ],
      "text/plain": [
       "| 333     | 7m 43s       | 1.97654                |"
      ]
     },
     "metadata": {},
     "output_type": "display_data"
    },
    {
     "data": {
      "text/html": [
       "<pre>| 334     | 7m 45s       | 1.97651                |</pre>"
      ],
      "text/plain": [
       "| 334     | 7m 45s       | 1.97651                |"
      ]
     },
     "metadata": {},
     "output_type": "display_data"
    },
    {
     "data": {
      "text/html": [
       "<pre>| 335     | 7m 46s       | 1.97649                |</pre>"
      ],
      "text/plain": [
       "| 335     | 7m 46s       | 1.97649                |"
      ]
     },
     "metadata": {},
     "output_type": "display_data"
    },
    {
     "data": {
      "text/html": [
       "<pre>| 336     | 7m 48s       | 1.97646                |</pre>"
      ],
      "text/plain": [
       "| 336     | 7m 48s       | 1.97646                |"
      ]
     },
     "metadata": {},
     "output_type": "display_data"
    },
    {
     "data": {
      "text/html": [
       "<pre>| 337     | 7m 50s       | 1.97644                |</pre>"
      ],
      "text/plain": [
       "| 337     | 7m 50s       | 1.97644                |"
      ]
     },
     "metadata": {},
     "output_type": "display_data"
    },
    {
     "data": {
      "text/html": [
       "<pre>| 338     | 7m 51s       | 1.97642                |</pre>"
      ],
      "text/plain": [
       "| 338     | 7m 51s       | 1.97642                |"
      ]
     },
     "metadata": {},
     "output_type": "display_data"
    },
    {
     "data": {
      "text/html": [
       "<pre>| 339     | 7m 53s       | 1.97639                |</pre>"
      ],
      "text/plain": [
       "| 339     | 7m 53s       | 1.97639                |"
      ]
     },
     "metadata": {},
     "output_type": "display_data"
    },
    {
     "data": {
      "text/html": [
       "<pre>| 340     | 7m 54s       | 1.97637                |</pre>"
      ],
      "text/plain": [
       "| 340     | 7m 54s       | 1.97637                |"
      ]
     },
     "metadata": {},
     "output_type": "display_data"
    },
    {
     "data": {
      "text/html": [
       "<pre>| 341     | 7m 56s       | 1.97635                |</pre>"
      ],
      "text/plain": [
       "| 341     | 7m 56s       | 1.97635                |"
      ]
     },
     "metadata": {},
     "output_type": "display_data"
    },
    {
     "data": {
      "text/html": [
       "<pre>| 342     | 7m 57s       | 1.97632                |</pre>"
      ],
      "text/plain": [
       "| 342     | 7m 57s       | 1.97632                |"
      ]
     },
     "metadata": {},
     "output_type": "display_data"
    },
    {
     "data": {
      "text/html": [
       "<pre>| 343     | 7m 59s       | 1.9763                 |</pre>"
      ],
      "text/plain": [
       "| 343     | 7m 59s       | 1.9763                 |"
      ]
     },
     "metadata": {},
     "output_type": "display_data"
    },
    {
     "data": {
      "text/html": [
       "<pre>| 344     | 8m 1s        | 1.97628                |</pre>"
      ],
      "text/plain": [
       "| 344     | 8m 1s        | 1.97628                |"
      ]
     },
     "metadata": {},
     "output_type": "display_data"
    },
    {
     "data": {
      "text/html": [
       "<pre>| 345     | 8m 2s        | 1.97625                |</pre>"
      ],
      "text/plain": [
       "| 345     | 8m 2s        | 1.97625                |"
      ]
     },
     "metadata": {},
     "output_type": "display_data"
    },
    {
     "data": {
      "text/html": [
       "<pre>| 346     | 8m 3s        | 1.97623                |</pre>"
      ],
      "text/plain": [
       "| 346     | 8m 3s        | 1.97623                |"
      ]
     },
     "metadata": {},
     "output_type": "display_data"
    },
    {
     "data": {
      "text/html": [
       "<pre>| 347     | 8m 5s        | 1.97621                |</pre>"
      ],
      "text/plain": [
       "| 347     | 8m 5s        | 1.97621                |"
      ]
     },
     "metadata": {},
     "output_type": "display_data"
    },
    {
     "data": {
      "text/html": [
       "<pre>| 348     | 8m 6s        | 1.97619                |</pre>"
      ],
      "text/plain": [
       "| 348     | 8m 6s        | 1.97619                |"
      ]
     },
     "metadata": {},
     "output_type": "display_data"
    },
    {
     "data": {
      "text/html": [
       "<pre>| 349     | 8m 8s        | 1.97616                |</pre>"
      ],
      "text/plain": [
       "| 349     | 8m 8s        | 1.97616                |"
      ]
     },
     "metadata": {},
     "output_type": "display_data"
    },
    {
     "data": {
      "text/html": [
       "<pre>| 350     | 8m 10s       | 1.97614                |</pre>"
      ],
      "text/plain": [
       "| 350     | 8m 10s       | 1.97614                |"
      ]
     },
     "metadata": {},
     "output_type": "display_data"
    },
    {
     "data": {
      "text/html": [
       "<pre>| 351     | 8m 12s       | 1.97612                |</pre>"
      ],
      "text/plain": [
       "| 351     | 8m 12s       | 1.97612                |"
      ]
     },
     "metadata": {},
     "output_type": "display_data"
    },
    {
     "data": {
      "text/html": [
       "<pre>| 352     | 8m 13s       | 1.97609                |</pre>"
      ],
      "text/plain": [
       "| 352     | 8m 13s       | 1.97609                |"
      ]
     },
     "metadata": {},
     "output_type": "display_data"
    },
    {
     "data": {
      "text/html": [
       "<pre>| 353     | 8m 14s       | 1.97607                |</pre>"
      ],
      "text/plain": [
       "| 353     | 8m 14s       | 1.97607                |"
      ]
     },
     "metadata": {},
     "output_type": "display_data"
    },
    {
     "data": {
      "text/html": [
       "<pre>| 354     | 8m 16s       | 1.97604                |</pre>"
      ],
      "text/plain": [
       "| 354     | 8m 16s       | 1.97604                |"
      ]
     },
     "metadata": {},
     "output_type": "display_data"
    },
    {
     "data": {
      "text/html": [
       "<pre>| 355     | 8m 17s       | 1.97602                |</pre>"
      ],
      "text/plain": [
       "| 355     | 8m 17s       | 1.97602                |"
      ]
     },
     "metadata": {},
     "output_type": "display_data"
    },
    {
     "data": {
      "text/html": [
       "<pre>| 356     | 8m 18s       | 1.97599                |</pre>"
      ],
      "text/plain": [
       "| 356     | 8m 18s       | 1.97599                |"
      ]
     },
     "metadata": {},
     "output_type": "display_data"
    },
    {
     "data": {
      "text/html": [
       "<pre>| 357     | 8m 19s       | 1.97597                |</pre>"
      ],
      "text/plain": [
       "| 357     | 8m 19s       | 1.97597                |"
      ]
     },
     "metadata": {},
     "output_type": "display_data"
    },
    {
     "data": {
      "text/html": [
       "<pre>| 358     | 8m 21s       | 1.97594                |</pre>"
      ],
      "text/plain": [
       "| 358     | 8m 21s       | 1.97594                |"
      ]
     },
     "metadata": {},
     "output_type": "display_data"
    },
    {
     "data": {
      "text/html": [
       "<pre>| 359     | 8m 22s       | 1.97591                |</pre>"
      ],
      "text/plain": [
       "| 359     | 8m 22s       | 1.97591                |"
      ]
     },
     "metadata": {},
     "output_type": "display_data"
    },
    {
     "data": {
      "text/html": [
       "<pre>| 360     | 8m 23s       | 1.97589                |</pre>"
      ],
      "text/plain": [
       "| 360     | 8m 23s       | 1.97589                |"
      ]
     },
     "metadata": {},
     "output_type": "display_data"
    },
    {
     "data": {
      "text/html": [
       "<pre>| 361     | 8m 25s       | 1.97587                |</pre>"
      ],
      "text/plain": [
       "| 361     | 8m 25s       | 1.97587                |"
      ]
     },
     "metadata": {},
     "output_type": "display_data"
    },
    {
     "data": {
      "text/html": [
       "<pre>| 362     | 8m 26s       | 1.97584                |</pre>"
      ],
      "text/plain": [
       "| 362     | 8m 26s       | 1.97584                |"
      ]
     },
     "metadata": {},
     "output_type": "display_data"
    },
    {
     "data": {
      "text/html": [
       "<pre>| 363     | 8m 27s       | 1.97582                |</pre>"
      ],
      "text/plain": [
       "| 363     | 8m 27s       | 1.97582                |"
      ]
     },
     "metadata": {},
     "output_type": "display_data"
    },
    {
     "data": {
      "text/html": [
       "<pre>| 364     | 8m 28s       | 1.9758                 |</pre>"
      ],
      "text/plain": [
       "| 364     | 8m 28s       | 1.9758                 |"
      ]
     },
     "metadata": {},
     "output_type": "display_data"
    },
    {
     "data": {
      "text/html": [
       "<pre>| 365     | 8m 30s       | 1.97577                |</pre>"
      ],
      "text/plain": [
       "| 365     | 8m 30s       | 1.97577                |"
      ]
     },
     "metadata": {},
     "output_type": "display_data"
    },
    {
     "data": {
      "text/html": [
       "<pre>| 366     | 8m 31s       | 1.97575                |</pre>"
      ],
      "text/plain": [
       "| 366     | 8m 31s       | 1.97575                |"
      ]
     },
     "metadata": {},
     "output_type": "display_data"
    },
    {
     "data": {
      "text/html": [
       "<pre>| 367     | 8m 32s       | 1.97573                |</pre>"
      ],
      "text/plain": [
       "| 367     | 8m 32s       | 1.97573                |"
      ]
     },
     "metadata": {},
     "output_type": "display_data"
    },
    {
     "data": {
      "text/html": [
       "<pre>| 368     | 8m 34s       | 1.97571                |</pre>"
      ],
      "text/plain": [
       "| 368     | 8m 34s       | 1.97571                |"
      ]
     },
     "metadata": {},
     "output_type": "display_data"
    },
    {
     "data": {
      "text/html": [
       "<pre>| 369     | 8m 35s       | 1.97568                |</pre>"
      ],
      "text/plain": [
       "| 369     | 8m 35s       | 1.97568                |"
      ]
     },
     "metadata": {},
     "output_type": "display_data"
    },
    {
     "data": {
      "text/html": [
       "<pre>| 370     | 8m 36s       | 1.97566                |</pre>"
      ],
      "text/plain": [
       "| 370     | 8m 36s       | 1.97566                |"
      ]
     },
     "metadata": {},
     "output_type": "display_data"
    },
    {
     "data": {
      "text/html": [
       "<pre>| 371     | 8m 37s       | 1.97564                |</pre>"
      ],
      "text/plain": [
       "| 371     | 8m 37s       | 1.97564                |"
      ]
     },
     "metadata": {},
     "output_type": "display_data"
    },
    {
     "data": {
      "text/html": [
       "<pre>| 372     | 8m 39s       | 1.97562                |</pre>"
      ],
      "text/plain": [
       "| 372     | 8m 39s       | 1.97562                |"
      ]
     },
     "metadata": {},
     "output_type": "display_data"
    },
    {
     "data": {
      "text/html": [
       "<pre>| 373     | 8m 40s       | 1.9756                 |</pre>"
      ],
      "text/plain": [
       "| 373     | 8m 40s       | 1.9756                 |"
      ]
     },
     "metadata": {},
     "output_type": "display_data"
    },
    {
     "data": {
      "text/html": [
       "<pre>| 374     | 8m 41s       | 1.97558                |</pre>"
      ],
      "text/plain": [
       "| 374     | 8m 41s       | 1.97558                |"
      ]
     },
     "metadata": {},
     "output_type": "display_data"
    },
    {
     "data": {
      "text/html": [
       "<pre>| 375     | 8m 42s       | 1.97556                |</pre>"
      ],
      "text/plain": [
       "| 375     | 8m 42s       | 1.97556                |"
      ]
     },
     "metadata": {},
     "output_type": "display_data"
    },
    {
     "data": {
      "text/html": [
       "<pre>| 376     | 8m 44s       | 1.97554                |</pre>"
      ],
      "text/plain": [
       "| 376     | 8m 44s       | 1.97554                |"
      ]
     },
     "metadata": {},
     "output_type": "display_data"
    },
    {
     "data": {
      "text/html": [
       "<pre>| 377     | 8m 45s       | 1.97551                |</pre>"
      ],
      "text/plain": [
       "| 377     | 8m 45s       | 1.97551                |"
      ]
     },
     "metadata": {},
     "output_type": "display_data"
    },
    {
     "data": {
      "text/html": [
       "<pre>| 378     | 8m 46s       | 1.97549                |</pre>"
      ],
      "text/plain": [
       "| 378     | 8m 46s       | 1.97549                |"
      ]
     },
     "metadata": {},
     "output_type": "display_data"
    },
    {
     "data": {
      "text/html": [
       "<pre>| 379     | 8m 47s       | 1.97547                |</pre>"
      ],
      "text/plain": [
       "| 379     | 8m 47s       | 1.97547                |"
      ]
     },
     "metadata": {},
     "output_type": "display_data"
    },
    {
     "data": {
      "text/html": [
       "<pre>| 380     | 8m 49s       | 1.97545                |</pre>"
      ],
      "text/plain": [
       "| 380     | 8m 49s       | 1.97545                |"
      ]
     },
     "metadata": {},
     "output_type": "display_data"
    },
    {
     "data": {
      "text/html": [
       "<pre>| 381     | 8m 50s       | 1.97543                |</pre>"
      ],
      "text/plain": [
       "| 381     | 8m 50s       | 1.97543                |"
      ]
     },
     "metadata": {},
     "output_type": "display_data"
    },
    {
     "data": {
      "text/html": [
       "<pre>| 382     | 8m 51s       | 1.97541                |</pre>"
      ],
      "text/plain": [
       "| 382     | 8m 51s       | 1.97541                |"
      ]
     },
     "metadata": {},
     "output_type": "display_data"
    },
    {
     "data": {
      "text/html": [
       "<pre>| 383     | 8m 52s       | 1.97539                |</pre>"
      ],
      "text/plain": [
       "| 383     | 8m 52s       | 1.97539                |"
      ]
     },
     "metadata": {},
     "output_type": "display_data"
    },
    {
     "data": {
      "text/html": [
       "<pre>| 384     | 8m 54s       | 1.97537                |</pre>"
      ],
      "text/plain": [
       "| 384     | 8m 54s       | 1.97537                |"
      ]
     },
     "metadata": {},
     "output_type": "display_data"
    },
    {
     "data": {
      "text/html": [
       "<pre>| 385     | 8m 55s       | 1.97535                |</pre>"
      ],
      "text/plain": [
       "| 385     | 8m 55s       | 1.97535                |"
      ]
     },
     "metadata": {},
     "output_type": "display_data"
    },
    {
     "data": {
      "text/html": [
       "<pre>| 386     | 8m 57s       | 1.97534                |</pre>"
      ],
      "text/plain": [
       "| 386     | 8m 57s       | 1.97534                |"
      ]
     },
     "metadata": {},
     "output_type": "display_data"
    },
    {
     "data": {
      "text/html": [
       "<pre>| 387     | 8m 58s       | 1.97532                |</pre>"
      ],
      "text/plain": [
       "| 387     | 8m 58s       | 1.97532                |"
      ]
     },
     "metadata": {},
     "output_type": "display_data"
    },
    {
     "data": {
      "text/html": [
       "<pre>| 388     | 8m 59s       | 1.9753                 |</pre>"
      ],
      "text/plain": [
       "| 388     | 8m 59s       | 1.9753                 |"
      ]
     },
     "metadata": {},
     "output_type": "display_data"
    },
    {
     "data": {
      "text/html": [
       "<pre>| 389     | 9m 1s        | 1.97528                |</pre>"
      ],
      "text/plain": [
       "| 389     | 9m 1s        | 1.97528                |"
      ]
     },
     "metadata": {},
     "output_type": "display_data"
    },
    {
     "data": {
      "text/html": [
       "<pre>| 390     | 9m 2s        | 1.97526                |</pre>"
      ],
      "text/plain": [
       "| 390     | 9m 2s        | 1.97526                |"
      ]
     },
     "metadata": {},
     "output_type": "display_data"
    },
    {
     "data": {
      "text/html": [
       "<pre>| 391     | 9m 3s        | 1.97524                |</pre>"
      ],
      "text/plain": [
       "| 391     | 9m 3s        | 1.97524                |"
      ]
     },
     "metadata": {},
     "output_type": "display_data"
    },
    {
     "data": {
      "text/html": [
       "<pre>| 392     | 9m 4s        | 1.97522                |</pre>"
      ],
      "text/plain": [
       "| 392     | 9m 4s        | 1.97522                |"
      ]
     },
     "metadata": {},
     "output_type": "display_data"
    },
    {
     "data": {
      "text/html": [
       "<pre>| 393     | 9m 6s        | 1.9752                 |</pre>"
      ],
      "text/plain": [
       "| 393     | 9m 6s        | 1.9752                 |"
      ]
     },
     "metadata": {},
     "output_type": "display_data"
    },
    {
     "data": {
      "text/html": [
       "<pre>| 394     | 9m 7s        | 1.97518                |</pre>"
      ],
      "text/plain": [
       "| 394     | 9m 7s        | 1.97518                |"
      ]
     },
     "metadata": {},
     "output_type": "display_data"
    },
    {
     "data": {
      "text/html": [
       "<pre>| 395     | 9m 8s        | 1.97516                |</pre>"
      ],
      "text/plain": [
       "| 395     | 9m 8s        | 1.97516                |"
      ]
     },
     "metadata": {},
     "output_type": "display_data"
    },
    {
     "data": {
      "text/html": [
       "<pre>| 396     | 9m 9s        | 1.97514                |</pre>"
      ],
      "text/plain": [
       "| 396     | 9m 9s        | 1.97514                |"
      ]
     },
     "metadata": {},
     "output_type": "display_data"
    },
    {
     "data": {
      "text/html": [
       "<pre>| 397     | 9m 11s       | 1.97513                |</pre>"
      ],
      "text/plain": [
       "| 397     | 9m 11s       | 1.97513                |"
      ]
     },
     "metadata": {},
     "output_type": "display_data"
    },
    {
     "data": {
      "text/html": [
       "<pre>| 398     | 9m 12s       | 1.97511                |</pre>"
      ],
      "text/plain": [
       "| 398     | 9m 12s       | 1.97511                |"
      ]
     },
     "metadata": {},
     "output_type": "display_data"
    },
    {
     "data": {
      "text/html": [
       "<pre>| 399     | 9m 13s       | 1.97509                |</pre>"
      ],
      "text/plain": [
       "| 399     | 9m 13s       | 1.97509                |"
      ]
     },
     "metadata": {},
     "output_type": "display_data"
    },
    {
     "data": {
      "text/html": [
       "<pre>| 400     | 9m 14s       | 1.97507                |</pre>"
      ],
      "text/plain": [
       "| 400     | 9m 14s       | 1.97507                |"
      ]
     },
     "metadata": {},
     "output_type": "display_data"
    },
    {
     "data": {
      "text/html": [
       "<pre>| 401     | 9m 16s       | 1.97505                |</pre>"
      ],
      "text/plain": [
       "| 401     | 9m 16s       | 1.97505                |"
      ]
     },
     "metadata": {},
     "output_type": "display_data"
    },
    {
     "data": {
      "text/html": [
       "<pre>| 402     | 9m 17s       | 1.97503                |</pre>"
      ],
      "text/plain": [
       "| 402     | 9m 17s       | 1.97503                |"
      ]
     },
     "metadata": {},
     "output_type": "display_data"
    },
    {
     "data": {
      "text/html": [
       "<pre>| 403     | 9m 18s       | 1.97502                |</pre>"
      ],
      "text/plain": [
       "| 403     | 9m 18s       | 1.97502                |"
      ]
     },
     "metadata": {},
     "output_type": "display_data"
    },
    {
     "data": {
      "text/html": [
       "<pre>| 404     | 9m 19s       | 1.975                  |</pre>"
      ],
      "text/plain": [
       "| 404     | 9m 19s       | 1.975                  |"
      ]
     },
     "metadata": {},
     "output_type": "display_data"
    },
    {
     "data": {
      "text/html": [
       "<pre>| 405     | 9m 21s       | 1.97498                |</pre>"
      ],
      "text/plain": [
       "| 405     | 9m 21s       | 1.97498                |"
      ]
     },
     "metadata": {},
     "output_type": "display_data"
    },
    {
     "data": {
      "text/html": [
       "<pre>| 406     | 9m 22s       | 1.97496                |</pre>"
      ],
      "text/plain": [
       "| 406     | 9m 22s       | 1.97496                |"
      ]
     },
     "metadata": {},
     "output_type": "display_data"
    },
    {
     "data": {
      "text/html": [
       "<pre>| 407     | 9m 23s       | 1.97495                |</pre>"
      ],
      "text/plain": [
       "| 407     | 9m 23s       | 1.97495                |"
      ]
     },
     "metadata": {},
     "output_type": "display_data"
    },
    {
     "data": {
      "text/html": [
       "<pre>| 408     | 9m 25s       | 1.97493                |</pre>"
      ],
      "text/plain": [
       "| 408     | 9m 25s       | 1.97493                |"
      ]
     },
     "metadata": {},
     "output_type": "display_data"
    },
    {
     "data": {
      "text/html": [
       "<pre>| 409     | 9m 26s       | 1.97491                |</pre>"
      ],
      "text/plain": [
       "| 409     | 9m 26s       | 1.97491                |"
      ]
     },
     "metadata": {},
     "output_type": "display_data"
    },
    {
     "data": {
      "text/html": [
       "<pre>| 410     | 9m 27s       | 1.97489                |</pre>"
      ],
      "text/plain": [
       "| 410     | 9m 27s       | 1.97489                |"
      ]
     },
     "metadata": {},
     "output_type": "display_data"
    },
    {
     "data": {
      "text/html": [
       "<pre>| 411     | 9m 28s       | 1.97488                |</pre>"
      ],
      "text/plain": [
       "| 411     | 9m 28s       | 1.97488                |"
      ]
     },
     "metadata": {},
     "output_type": "display_data"
    },
    {
     "data": {
      "text/html": [
       "<pre>| 412     | 9m 30s       | 1.97486                |</pre>"
      ],
      "text/plain": [
       "| 412     | 9m 30s       | 1.97486                |"
      ]
     },
     "metadata": {},
     "output_type": "display_data"
    },
    {
     "data": {
      "text/html": [
       "<pre>| 413     | 9m 31s       | 1.97484                |</pre>"
      ],
      "text/plain": [
       "| 413     | 9m 31s       | 1.97484                |"
      ]
     },
     "metadata": {},
     "output_type": "display_data"
    },
    {
     "data": {
      "text/html": [
       "<pre>| 414     | 9m 33s       | 1.97482                |</pre>"
      ],
      "text/plain": [
       "| 414     | 9m 33s       | 1.97482                |"
      ]
     },
     "metadata": {},
     "output_type": "display_data"
    },
    {
     "data": {
      "text/html": [
       "<pre>| 415     | 9m 34s       | 1.97481                |</pre>"
      ],
      "text/plain": [
       "| 415     | 9m 34s       | 1.97481                |"
      ]
     },
     "metadata": {},
     "output_type": "display_data"
    },
    {
     "data": {
      "text/html": [
       "<pre>| 416     | 9m 36s       | 1.97479                |</pre>"
      ],
      "text/plain": [
       "| 416     | 9m 36s       | 1.97479                |"
      ]
     },
     "metadata": {},
     "output_type": "display_data"
    },
    {
     "data": {
      "text/html": [
       "<pre>| 417     | 9m 37s       | 1.97477                |</pre>"
      ],
      "text/plain": [
       "| 417     | 9m 37s       | 1.97477                |"
      ]
     },
     "metadata": {},
     "output_type": "display_data"
    },
    {
     "data": {
      "text/html": [
       "<pre>| 418     | 9m 39s       | 1.97476                |</pre>"
      ],
      "text/plain": [
       "| 418     | 9m 39s       | 1.97476                |"
      ]
     },
     "metadata": {},
     "output_type": "display_data"
    },
    {
     "data": {
      "text/html": [
       "<pre>| 419     | 9m 40s       | 1.97474                |</pre>"
      ],
      "text/plain": [
       "| 419     | 9m 40s       | 1.97474                |"
      ]
     },
     "metadata": {},
     "output_type": "display_data"
    },
    {
     "data": {
      "text/html": [
       "<pre>| 420     | 9m 42s       | 1.97472                |</pre>"
      ],
      "text/plain": [
       "| 420     | 9m 42s       | 1.97472                |"
      ]
     },
     "metadata": {},
     "output_type": "display_data"
    },
    {
     "data": {
      "text/html": [
       "<pre>| 421     | 9m 43s       | 1.97471                |</pre>"
      ],
      "text/plain": [
       "| 421     | 9m 43s       | 1.97471                |"
      ]
     },
     "metadata": {},
     "output_type": "display_data"
    },
    {
     "data": {
      "text/html": [
       "<pre>| 422     | 9m 45s       | 1.97469                |</pre>"
      ],
      "text/plain": [
       "| 422     | 9m 45s       | 1.97469                |"
      ]
     },
     "metadata": {},
     "output_type": "display_data"
    },
    {
     "data": {
      "text/html": [
       "<pre>| 423     | 9m 46s       | 1.97467                |</pre>"
      ],
      "text/plain": [
       "| 423     | 9m 46s       | 1.97467                |"
      ]
     },
     "metadata": {},
     "output_type": "display_data"
    },
    {
     "data": {
      "text/html": [
       "<pre>| 424     | 9m 48s       | 1.97466                |</pre>"
      ],
      "text/plain": [
       "| 424     | 9m 48s       | 1.97466                |"
      ]
     },
     "metadata": {},
     "output_type": "display_data"
    },
    {
     "data": {
      "text/html": [
       "<pre>| 425     | 9m 49s       | 1.97464                |</pre>"
      ],
      "text/plain": [
       "| 425     | 9m 49s       | 1.97464                |"
      ]
     },
     "metadata": {},
     "output_type": "display_data"
    },
    {
     "data": {
      "text/html": [
       "<pre>| 426     | 9m 51s       | 1.97462                |</pre>"
      ],
      "text/plain": [
       "| 426     | 9m 51s       | 1.97462                |"
      ]
     },
     "metadata": {},
     "output_type": "display_data"
    },
    {
     "data": {
      "text/html": [
       "<pre>| 427     | 9m 52s       | 1.97461                |</pre>"
      ],
      "text/plain": [
       "| 427     | 9m 52s       | 1.97461                |"
      ]
     },
     "metadata": {},
     "output_type": "display_data"
    },
    {
     "data": {
      "text/html": [
       "<pre>| 428     | 9m 54s       | 1.97459                |</pre>"
      ],
      "text/plain": [
       "| 428     | 9m 54s       | 1.97459                |"
      ]
     },
     "metadata": {},
     "output_type": "display_data"
    },
    {
     "data": {
      "text/html": [
       "<pre>| 429     | 9m 55s       | 1.97457                |</pre>"
      ],
      "text/plain": [
       "| 429     | 9m 55s       | 1.97457                |"
      ]
     },
     "metadata": {},
     "output_type": "display_data"
    },
    {
     "data": {
      "text/html": [
       "<pre>| 430     | 9m 57s       | 1.97455                |</pre>"
      ],
      "text/plain": [
       "| 430     | 9m 57s       | 1.97455                |"
      ]
     },
     "metadata": {},
     "output_type": "display_data"
    },
    {
     "data": {
      "text/html": [
       "<pre>| 431     | 9m 58s       | 1.97454                |</pre>"
      ],
      "text/plain": [
       "| 431     | 9m 58s       | 1.97454                |"
      ]
     },
     "metadata": {},
     "output_type": "display_data"
    },
    {
     "data": {
      "text/html": [
       "<pre>| 432     | 10m 0s       | 1.97452                |</pre>"
      ],
      "text/plain": [
       "| 432     | 10m 0s       | 1.97452                |"
      ]
     },
     "metadata": {},
     "output_type": "display_data"
    },
    {
     "data": {
      "text/html": [
       "<pre>| 433     | 10m 1s       | 1.97451                |</pre>"
      ],
      "text/plain": [
       "| 433     | 10m 1s       | 1.97451                |"
      ]
     },
     "metadata": {},
     "output_type": "display_data"
    },
    {
     "data": {
      "text/html": [
       "<pre>| 434     | 10m 3s       | 1.97449                |</pre>"
      ],
      "text/plain": [
       "| 434     | 10m 3s       | 1.97449                |"
      ]
     },
     "metadata": {},
     "output_type": "display_data"
    },
    {
     "data": {
      "text/html": [
       "<pre>| 435     | 10m 4s       | 1.97447                |</pre>"
      ],
      "text/plain": [
       "| 435     | 10m 4s       | 1.97447                |"
      ]
     },
     "metadata": {},
     "output_type": "display_data"
    },
    {
     "data": {
      "text/html": [
       "<pre>| 436     | 10m 5s       | 1.97446                |</pre>"
      ],
      "text/plain": [
       "| 436     | 10m 5s       | 1.97446                |"
      ]
     },
     "metadata": {},
     "output_type": "display_data"
    },
    {
     "data": {
      "text/html": [
       "<pre>| 437     | 10m 7s       | 1.97444                |</pre>"
      ],
      "text/plain": [
       "| 437     | 10m 7s       | 1.97444                |"
      ]
     },
     "metadata": {},
     "output_type": "display_data"
    },
    {
     "data": {
      "text/html": [
       "<pre>| 438     | 10m 8s       | 1.97442                |</pre>"
      ],
      "text/plain": [
       "| 438     | 10m 8s       | 1.97442                |"
      ]
     },
     "metadata": {},
     "output_type": "display_data"
    },
    {
     "data": {
      "text/html": [
       "<pre>| 439     | 10m 9s       | 1.97441                |</pre>"
      ],
      "text/plain": [
       "| 439     | 10m 9s       | 1.97441                |"
      ]
     },
     "metadata": {},
     "output_type": "display_data"
    },
    {
     "data": {
      "text/html": [
       "<pre>| 440     | 10m 11s      | 1.97439                |</pre>"
      ],
      "text/plain": [
       "| 440     | 10m 11s      | 1.97439                |"
      ]
     },
     "metadata": {},
     "output_type": "display_data"
    },
    {
     "data": {
      "text/html": [
       "<pre>| 441     | 10m 12s      | 1.97437                |</pre>"
      ],
      "text/plain": [
       "| 441     | 10m 12s      | 1.97437                |"
      ]
     },
     "metadata": {},
     "output_type": "display_data"
    },
    {
     "data": {
      "text/html": [
       "<pre>| 442     | 10m 13s      | 1.97436                |</pre>"
      ],
      "text/plain": [
       "| 442     | 10m 13s      | 1.97436                |"
      ]
     },
     "metadata": {},
     "output_type": "display_data"
    },
    {
     "data": {
      "text/html": [
       "<pre>| 443     | 10m 15s      | 1.97434                |</pre>"
      ],
      "text/plain": [
       "| 443     | 10m 15s      | 1.97434                |"
      ]
     },
     "metadata": {},
     "output_type": "display_data"
    },
    {
     "data": {
      "text/html": [
       "<pre>| 444     | 10m 16s      | 1.97432                |</pre>"
      ],
      "text/plain": [
       "| 444     | 10m 16s      | 1.97432                |"
      ]
     },
     "metadata": {},
     "output_type": "display_data"
    },
    {
     "data": {
      "text/html": [
       "<pre>| 445     | 10m 17s      | 1.97431                |</pre>"
      ],
      "text/plain": [
       "| 445     | 10m 17s      | 1.97431                |"
      ]
     },
     "metadata": {},
     "output_type": "display_data"
    },
    {
     "data": {
      "text/html": [
       "<pre>| 446     | 10m 18s      | 1.97429                |</pre>"
      ],
      "text/plain": [
       "| 446     | 10m 18s      | 1.97429                |"
      ]
     },
     "metadata": {},
     "output_type": "display_data"
    },
    {
     "data": {
      "text/html": [
       "<pre>| 447     | 10m 20s      | 1.97427                |</pre>"
      ],
      "text/plain": [
       "| 447     | 10m 20s      | 1.97427                |"
      ]
     },
     "metadata": {},
     "output_type": "display_data"
    },
    {
     "data": {
      "text/html": [
       "<pre>| 448     | 10m 21s      | 1.97426                |</pre>"
      ],
      "text/plain": [
       "| 448     | 10m 21s      | 1.97426                |"
      ]
     },
     "metadata": {},
     "output_type": "display_data"
    },
    {
     "data": {
      "text/html": [
       "<pre>| 449     | 10m 22s      | 1.97424                |</pre>"
      ],
      "text/plain": [
       "| 449     | 10m 22s      | 1.97424                |"
      ]
     },
     "metadata": {},
     "output_type": "display_data"
    },
    {
     "data": {
      "text/html": [
       "<pre>| 450     | 10m 23s      | 1.97422                |</pre>"
      ],
      "text/plain": [
       "| 450     | 10m 23s      | 1.97422                |"
      ]
     },
     "metadata": {},
     "output_type": "display_data"
    },
    {
     "data": {
      "text/html": [
       "<pre>| 451     | 10m 25s      | 1.97421                |</pre>"
      ],
      "text/plain": [
       "| 451     | 10m 25s      | 1.97421                |"
      ]
     },
     "metadata": {},
     "output_type": "display_data"
    },
    {
     "data": {
      "text/html": [
       "<pre>| 452     | 10m 26s      | 1.97419                |</pre>"
      ],
      "text/plain": [
       "| 452     | 10m 26s      | 1.97419                |"
      ]
     },
     "metadata": {},
     "output_type": "display_data"
    },
    {
     "data": {
      "text/html": [
       "<pre>| 453     | 10m 27s      | 1.97418                |</pre>"
      ],
      "text/plain": [
       "| 453     | 10m 27s      | 1.97418                |"
      ]
     },
     "metadata": {},
     "output_type": "display_data"
    },
    {
     "data": {
      "text/html": [
       "<pre>| 454     | 10m 28s      | 1.97416                |</pre>"
      ],
      "text/plain": [
       "| 454     | 10m 28s      | 1.97416                |"
      ]
     },
     "metadata": {},
     "output_type": "display_data"
    },
    {
     "data": {
      "text/html": [
       "<pre>| 455     | 10m 30s      | 1.97414                |</pre>"
      ],
      "text/plain": [
       "| 455     | 10m 30s      | 1.97414                |"
      ]
     },
     "metadata": {},
     "output_type": "display_data"
    },
    {
     "data": {
      "text/html": [
       "<pre>| 456     | 10m 31s      | 1.97413                |</pre>"
      ],
      "text/plain": [
       "| 456     | 10m 31s      | 1.97413                |"
      ]
     },
     "metadata": {},
     "output_type": "display_data"
    },
    {
     "data": {
      "text/html": [
       "<pre>| 457     | 10m 33s      | 1.97411                |</pre>"
      ],
      "text/plain": [
       "| 457     | 10m 33s      | 1.97411                |"
      ]
     },
     "metadata": {},
     "output_type": "display_data"
    },
    {
     "data": {
      "text/html": [
       "<pre>| 458     | 10m 34s      | 1.9741                 |</pre>"
      ],
      "text/plain": [
       "| 458     | 10m 34s      | 1.9741                 |"
      ]
     },
     "metadata": {},
     "output_type": "display_data"
    },
    {
     "data": {
      "text/html": [
       "<pre>| 459     | 10m 35s      | 1.97408                |</pre>"
      ],
      "text/plain": [
       "| 459     | 10m 35s      | 1.97408                |"
      ]
     },
     "metadata": {},
     "output_type": "display_data"
    },
    {
     "data": {
      "text/html": [
       "<pre>| 460     | 10m 37s      | 1.97406                |</pre>"
      ],
      "text/plain": [
       "| 460     | 10m 37s      | 1.97406                |"
      ]
     },
     "metadata": {},
     "output_type": "display_data"
    },
    {
     "data": {
      "text/html": [
       "<pre>| 461     | 10m 38s      | 1.97405                |</pre>"
      ],
      "text/plain": [
       "| 461     | 10m 38s      | 1.97405                |"
      ]
     },
     "metadata": {},
     "output_type": "display_data"
    },
    {
     "data": {
      "text/html": [
       "<pre>| 462     | 10m 39s      | 1.97403                |</pre>"
      ],
      "text/plain": [
       "| 462     | 10m 39s      | 1.97403                |"
      ]
     },
     "metadata": {},
     "output_type": "display_data"
    },
    {
     "data": {
      "text/html": [
       "<pre>| 463     | 10m 40s      | 1.97402                |</pre>"
      ],
      "text/plain": [
       "| 463     | 10m 40s      | 1.97402                |"
      ]
     },
     "metadata": {},
     "output_type": "display_data"
    },
    {
     "data": {
      "text/html": [
       "<pre>| 464     | 10m 42s      | 1.974                  |</pre>"
      ],
      "text/plain": [
       "| 464     | 10m 42s      | 1.974                  |"
      ]
     },
     "metadata": {},
     "output_type": "display_data"
    },
    {
     "data": {
      "text/html": [
       "<pre>| 465     | 10m 43s      | 1.97398                |</pre>"
      ],
      "text/plain": [
       "| 465     | 10m 43s      | 1.97398                |"
      ]
     },
     "metadata": {},
     "output_type": "display_data"
    },
    {
     "data": {
      "text/html": [
       "<pre>| 466     | 10m 44s      | 1.97397                |</pre>"
      ],
      "text/plain": [
       "| 466     | 10m 44s      | 1.97397                |"
      ]
     },
     "metadata": {},
     "output_type": "display_data"
    },
    {
     "data": {
      "text/html": [
       "<pre>| 467     | 10m 45s      | 1.97395                |</pre>"
      ],
      "text/plain": [
       "| 467     | 10m 45s      | 1.97395                |"
      ]
     },
     "metadata": {},
     "output_type": "display_data"
    },
    {
     "data": {
      "text/html": [
       "<pre>| 468     | 10m 47s      | 1.97394                |</pre>"
      ],
      "text/plain": [
       "| 468     | 10m 47s      | 1.97394                |"
      ]
     },
     "metadata": {},
     "output_type": "display_data"
    },
    {
     "data": {
      "text/html": [
       "<pre>| 469     | 10m 48s      | 1.97392                |</pre>"
      ],
      "text/plain": [
       "| 469     | 10m 48s      | 1.97392                |"
      ]
     },
     "metadata": {},
     "output_type": "display_data"
    },
    {
     "data": {
      "text/html": [
       "<pre>| 470     | 10m 49s      | 1.9739                 |</pre>"
      ],
      "text/plain": [
       "| 470     | 10m 49s      | 1.9739                 |"
      ]
     },
     "metadata": {},
     "output_type": "display_data"
    },
    {
     "data": {
      "text/html": [
       "<pre>| 471     | 10m 51s      | 1.97389                |</pre>"
      ],
      "text/plain": [
       "| 471     | 10m 51s      | 1.97389                |"
      ]
     },
     "metadata": {},
     "output_type": "display_data"
    },
    {
     "data": {
      "text/html": [
       "<pre>| 472     | 10m 52s      | 1.97387                |</pre>"
      ],
      "text/plain": [
       "| 472     | 10m 52s      | 1.97387                |"
      ]
     },
     "metadata": {},
     "output_type": "display_data"
    },
    {
     "data": {
      "text/html": [
       "<pre>| 473     | 10m 53s      | 1.97385                |</pre>"
      ],
      "text/plain": [
       "| 473     | 10m 53s      | 1.97385                |"
      ]
     },
     "metadata": {},
     "output_type": "display_data"
    },
    {
     "data": {
      "text/html": [
       "<pre>| 474     | 10m 55s      | 1.97384                |</pre>"
      ],
      "text/plain": [
       "| 474     | 10m 55s      | 1.97384                |"
      ]
     },
     "metadata": {},
     "output_type": "display_data"
    },
    {
     "data": {
      "text/html": [
       "<pre>| 475     | 10m 56s      | 1.97382                |</pre>"
      ],
      "text/plain": [
       "| 475     | 10m 56s      | 1.97382                |"
      ]
     },
     "metadata": {},
     "output_type": "display_data"
    },
    {
     "data": {
      "text/html": [
       "<pre>| 476     | 10m 57s      | 1.97381                |</pre>"
      ],
      "text/plain": [
       "| 476     | 10m 57s      | 1.97381                |"
      ]
     },
     "metadata": {},
     "output_type": "display_data"
    },
    {
     "data": {
      "text/html": [
       "<pre>| 477     | 10m 58s      | 1.97379                |</pre>"
      ],
      "text/plain": [
       "| 477     | 10m 58s      | 1.97379                |"
      ]
     },
     "metadata": {},
     "output_type": "display_data"
    },
    {
     "data": {
      "text/html": [
       "<pre>| 478     | 11m 0s       | 1.97377                |</pre>"
      ],
      "text/plain": [
       "| 478     | 11m 0s       | 1.97377                |"
      ]
     },
     "metadata": {},
     "output_type": "display_data"
    },
    {
     "data": {
      "text/html": [
       "<pre>| 479     | 11m 1s       | 1.97376                |</pre>"
      ],
      "text/plain": [
       "| 479     | 11m 1s       | 1.97376                |"
      ]
     },
     "metadata": {},
     "output_type": "display_data"
    },
    {
     "data": {
      "text/html": [
       "<pre>| 480     | 11m 2s       | 1.97374                |</pre>"
      ],
      "text/plain": [
       "| 480     | 11m 2s       | 1.97374                |"
      ]
     },
     "metadata": {},
     "output_type": "display_data"
    },
    {
     "data": {
      "text/html": [
       "<pre>| 481     | 11m 4s       | 1.97373                |</pre>"
      ],
      "text/plain": [
       "| 481     | 11m 4s       | 1.97373                |"
      ]
     },
     "metadata": {},
     "output_type": "display_data"
    },
    {
     "data": {
      "text/html": [
       "<pre>| 482     | 11m 5s       | 1.97371                |</pre>"
      ],
      "text/plain": [
       "| 482     | 11m 5s       | 1.97371                |"
      ]
     },
     "metadata": {},
     "output_type": "display_data"
    },
    {
     "data": {
      "text/html": [
       "<pre>| 483     | 11m 6s       | 1.97369                |</pre>"
      ],
      "text/plain": [
       "| 483     | 11m 6s       | 1.97369                |"
      ]
     },
     "metadata": {},
     "output_type": "display_data"
    },
    {
     "data": {
      "text/html": [
       "<pre>| 484     | 11m 8s       | 1.97368                |</pre>"
      ],
      "text/plain": [
       "| 484     | 11m 8s       | 1.97368                |"
      ]
     },
     "metadata": {},
     "output_type": "display_data"
    },
    {
     "data": {
      "text/html": [
       "<pre>| 485     | 11m 9s       | 1.97366                |</pre>"
      ],
      "text/plain": [
       "| 485     | 11m 9s       | 1.97366                |"
      ]
     },
     "metadata": {},
     "output_type": "display_data"
    },
    {
     "data": {
      "text/html": [
       "<pre>| 486     | 11m 10s      | 1.97364                |</pre>"
      ],
      "text/plain": [
       "| 486     | 11m 10s      | 1.97364                |"
      ]
     },
     "metadata": {},
     "output_type": "display_data"
    },
    {
     "data": {
      "text/html": [
       "<pre>| 487     | 11m 12s      | 1.97363                |</pre>"
      ],
      "text/plain": [
       "| 487     | 11m 12s      | 1.97363                |"
      ]
     },
     "metadata": {},
     "output_type": "display_data"
    },
    {
     "data": {
      "text/html": [
       "<pre>| 488     | 11m 13s      | 1.97361                |</pre>"
      ],
      "text/plain": [
       "| 488     | 11m 13s      | 1.97361                |"
      ]
     },
     "metadata": {},
     "output_type": "display_data"
    },
    {
     "data": {
      "text/html": [
       "<pre>| 489     | 11m 14s      | 1.9736                 |</pre>"
      ],
      "text/plain": [
       "| 489     | 11m 14s      | 1.9736                 |"
      ]
     },
     "metadata": {},
     "output_type": "display_data"
    },
    {
     "data": {
      "text/html": [
       "<pre>| 490     | 11m 15s      | 1.97358                |</pre>"
      ],
      "text/plain": [
       "| 490     | 11m 15s      | 1.97358                |"
      ]
     },
     "metadata": {},
     "output_type": "display_data"
    },
    {
     "data": {
      "text/html": [
       "<pre>| 491     | 11m 17s      | 1.97357                |</pre>"
      ],
      "text/plain": [
       "| 491     | 11m 17s      | 1.97357                |"
      ]
     },
     "metadata": {},
     "output_type": "display_data"
    },
    {
     "data": {
      "text/html": [
       "<pre>| 492     | 11m 18s      | 1.97355                |</pre>"
      ],
      "text/plain": [
       "| 492     | 11m 18s      | 1.97355                |"
      ]
     },
     "metadata": {},
     "output_type": "display_data"
    },
    {
     "data": {
      "text/html": [
       "<pre>| 493     | 11m 19s      | 1.97354                |</pre>"
      ],
      "text/plain": [
       "| 493     | 11m 19s      | 1.97354                |"
      ]
     },
     "metadata": {},
     "output_type": "display_data"
    },
    {
     "data": {
      "text/html": [
       "<pre>| 494     | 11m 20s      | 1.97352                |</pre>"
      ],
      "text/plain": [
       "| 494     | 11m 20s      | 1.97352                |"
      ]
     },
     "metadata": {},
     "output_type": "display_data"
    },
    {
     "data": {
      "text/html": [
       "<pre>| 495     | 11m 22s      | 1.97351                |</pre>"
      ],
      "text/plain": [
       "| 495     | 11m 22s      | 1.97351                |"
      ]
     },
     "metadata": {},
     "output_type": "display_data"
    },
    {
     "data": {
      "text/html": [
       "<pre>| 496     | 11m 23s      | 1.97349                |</pre>"
      ],
      "text/plain": [
       "| 496     | 11m 23s      | 1.97349                |"
      ]
     },
     "metadata": {},
     "output_type": "display_data"
    },
    {
     "data": {
      "text/html": [
       "<pre>| 497     | 11m 24s      | 1.97348                |</pre>"
      ],
      "text/plain": [
       "| 497     | 11m 24s      | 1.97348                |"
      ]
     },
     "metadata": {},
     "output_type": "display_data"
    },
    {
     "data": {
      "text/html": [
       "<pre>| 498     | 11m 25s      | 1.97346                |</pre>"
      ],
      "text/plain": [
       "| 498     | 11m 25s      | 1.97346                |"
      ]
     },
     "metadata": {},
     "output_type": "display_data"
    },
    {
     "data": {
      "text/html": [
       "<pre>| 499     | 11m 27s      | 1.97345                |</pre>"
      ],
      "text/plain": [
       "| 499     | 11m 27s      | 1.97345                |"
      ]
     },
     "metadata": {},
     "output_type": "display_data"
    },
    {
     "data": {
      "text/html": [
       "<pre>| 500     | 11m 28s      | 1.97343                |</pre>"
      ],
      "text/plain": [
       "| 500     | 11m 28s      | 1.97343                |"
      ]
     },
     "metadata": {},
     "output_type": "display_data"
    },
    {
     "data": {
      "text/html": [
       "<pre>| 501     | 11m 30s      | 1.97342                |</pre>"
      ],
      "text/plain": [
       "| 501     | 11m 30s      | 1.97342                |"
      ]
     },
     "metadata": {},
     "output_type": "display_data"
    },
    {
     "data": {
      "text/html": [
       "<pre>| 502     | 11m 31s      | 1.9734                 |</pre>"
      ],
      "text/plain": [
       "| 502     | 11m 31s      | 1.9734                 |"
      ]
     },
     "metadata": {},
     "output_type": "display_data"
    },
    {
     "data": {
      "text/html": [
       "<pre>| 503     | 11m 32s      | 1.97339                |</pre>"
      ],
      "text/plain": [
       "| 503     | 11m 32s      | 1.97339                |"
      ]
     },
     "metadata": {},
     "output_type": "display_data"
    },
    {
     "data": {
      "text/html": [
       "<pre>| 504     | 11m 34s      | 1.97337                |</pre>"
      ],
      "text/plain": [
       "| 504     | 11m 34s      | 1.97337                |"
      ]
     },
     "metadata": {},
     "output_type": "display_data"
    },
    {
     "data": {
      "text/html": [
       "<pre>| 505     | 11m 35s      | 1.97336                |</pre>"
      ],
      "text/plain": [
       "| 505     | 11m 35s      | 1.97336                |"
      ]
     },
     "metadata": {},
     "output_type": "display_data"
    },
    {
     "data": {
      "text/html": [
       "<pre>| 506     | 11m 36s      | 1.97335                |</pre>"
      ],
      "text/plain": [
       "| 506     | 11m 36s      | 1.97335                |"
      ]
     },
     "metadata": {},
     "output_type": "display_data"
    },
    {
     "data": {
      "text/html": [
       "<pre>| 507     | 11m 38s      | 1.97333                |</pre>"
      ],
      "text/plain": [
       "| 507     | 11m 38s      | 1.97333                |"
      ]
     },
     "metadata": {},
     "output_type": "display_data"
    },
    {
     "data": {
      "text/html": [
       "<pre>| 508     | 11m 39s      | 1.97332                |</pre>"
      ],
      "text/plain": [
       "| 508     | 11m 39s      | 1.97332                |"
      ]
     },
     "metadata": {},
     "output_type": "display_data"
    },
    {
     "data": {
      "text/html": [
       "<pre>| 509     | 11m 40s      | 1.9733                 |</pre>"
      ],
      "text/plain": [
       "| 509     | 11m 40s      | 1.9733                 |"
      ]
     },
     "metadata": {},
     "output_type": "display_data"
    },
    {
     "data": {
      "text/html": [
       "<pre>| 510     | 11m 41s      | 1.97329                |</pre>"
      ],
      "text/plain": [
       "| 510     | 11m 41s      | 1.97329                |"
      ]
     },
     "metadata": {},
     "output_type": "display_data"
    },
    {
     "data": {
      "text/html": [
       "<pre>| 511     | 11m 43s      | 1.97328                |</pre>"
      ],
      "text/plain": [
       "| 511     | 11m 43s      | 1.97328                |"
      ]
     },
     "metadata": {},
     "output_type": "display_data"
    },
    {
     "data": {
      "text/html": [
       "<pre>| 512     | 11m 44s      | 1.97326                |</pre>"
      ],
      "text/plain": [
       "| 512     | 11m 44s      | 1.97326                |"
      ]
     },
     "metadata": {},
     "output_type": "display_data"
    },
    {
     "data": {
      "text/html": [
       "<pre>| 513     | 11m 45s      | 1.97325                |</pre>"
      ],
      "text/plain": [
       "| 513     | 11m 45s      | 1.97325                |"
      ]
     },
     "metadata": {},
     "output_type": "display_data"
    },
    {
     "data": {
      "text/html": [
       "<pre>| 514     | 11m 46s      | 1.97324                |</pre>"
      ],
      "text/plain": [
       "| 514     | 11m 46s      | 1.97324                |"
      ]
     },
     "metadata": {},
     "output_type": "display_data"
    },
    {
     "data": {
      "text/html": [
       "<pre>| 515     | 11m 48s      | 1.97323                |</pre>"
      ],
      "text/plain": [
       "| 515     | 11m 48s      | 1.97323                |"
      ]
     },
     "metadata": {},
     "output_type": "display_data"
    },
    {
     "data": {
      "text/html": [
       "<pre>| 516     | 11m 49s      | 1.97321                |</pre>"
      ],
      "text/plain": [
       "| 516     | 11m 49s      | 1.97321                |"
      ]
     },
     "metadata": {},
     "output_type": "display_data"
    },
    {
     "data": {
      "text/html": [
       "<pre>| 517     | 11m 50s      | 1.9732                 |</pre>"
      ],
      "text/plain": [
       "| 517     | 11m 50s      | 1.9732                 |"
      ]
     },
     "metadata": {},
     "output_type": "display_data"
    },
    {
     "data": {
      "text/html": [
       "<pre>| 518     | 11m 51s      | 1.97319                |</pre>"
      ],
      "text/plain": [
       "| 518     | 11m 51s      | 1.97319                |"
      ]
     },
     "metadata": {},
     "output_type": "display_data"
    },
    {
     "data": {
      "text/html": [
       "<pre>| 519     | 11m 53s      | 1.97318                |</pre>"
      ],
      "text/plain": [
       "| 519     | 11m 53s      | 1.97318                |"
      ]
     },
     "metadata": {},
     "output_type": "display_data"
    },
    {
     "data": {
      "text/html": [
       "<pre>| 520     | 11m 54s      | 1.97316                |</pre>"
      ],
      "text/plain": [
       "| 520     | 11m 54s      | 1.97316                |"
      ]
     },
     "metadata": {},
     "output_type": "display_data"
    },
    {
     "data": {
      "text/html": [
       "<pre>| 521     | 11m 55s      | 1.97315                |</pre>"
      ],
      "text/plain": [
       "| 521     | 11m 55s      | 1.97315                |"
      ]
     },
     "metadata": {},
     "output_type": "display_data"
    },
    {
     "data": {
      "text/html": [
       "<pre>| 522     | 11m 57s      | 1.97314                |</pre>"
      ],
      "text/plain": [
       "| 522     | 11m 57s      | 1.97314                |"
      ]
     },
     "metadata": {},
     "output_type": "display_data"
    },
    {
     "data": {
      "text/html": [
       "<pre>| 523     | 11m 58s      | 1.97313                |</pre>"
      ],
      "text/plain": [
       "| 523     | 11m 58s      | 1.97313                |"
      ]
     },
     "metadata": {},
     "output_type": "display_data"
    },
    {
     "data": {
      "text/html": [
       "<pre>| 524     | 11m 59s      | 1.97312                |</pre>"
      ],
      "text/plain": [
       "| 524     | 11m 59s      | 1.97312                |"
      ]
     },
     "metadata": {},
     "output_type": "display_data"
    },
    {
     "data": {
      "text/html": [
       "<pre>| 525     | 12m 0s       | 1.97311                |</pre>"
      ],
      "text/plain": [
       "| 525     | 12m 0s       | 1.97311                |"
      ]
     },
     "metadata": {},
     "output_type": "display_data"
    },
    {
     "data": {
      "text/html": [
       "<pre>| 526     | 12m 2s       | 1.97309                |</pre>"
      ],
      "text/plain": [
       "| 526     | 12m 2s       | 1.97309                |"
      ]
     },
     "metadata": {},
     "output_type": "display_data"
    },
    {
     "data": {
      "text/html": [
       "<pre>| 527     | 12m 3s       | 1.97308                |</pre>"
      ],
      "text/plain": [
       "| 527     | 12m 3s       | 1.97308                |"
      ]
     },
     "metadata": {},
     "output_type": "display_data"
    },
    {
     "data": {
      "text/html": [
       "<pre>| 528     | 12m 4s       | 1.97307                |</pre>"
      ],
      "text/plain": [
       "| 528     | 12m 4s       | 1.97307                |"
      ]
     },
     "metadata": {},
     "output_type": "display_data"
    },
    {
     "data": {
      "text/html": [
       "<pre>| 529     | 12m 6s       | 1.97306                |</pre>"
      ],
      "text/plain": [
       "| 529     | 12m 6s       | 1.97306                |"
      ]
     },
     "metadata": {},
     "output_type": "display_data"
    },
    {
     "data": {
      "text/html": [
       "<pre>| 530     | 12m 7s       | 1.97305                |</pre>"
      ],
      "text/plain": [
       "| 530     | 12m 7s       | 1.97305                |"
      ]
     },
     "metadata": {},
     "output_type": "display_data"
    },
    {
     "data": {
      "text/html": [
       "<pre>| 531     | 12m 8s       | 1.97304                |</pre>"
      ],
      "text/plain": [
       "| 531     | 12m 8s       | 1.97304                |"
      ]
     },
     "metadata": {},
     "output_type": "display_data"
    },
    {
     "data": {
      "text/html": [
       "<pre>| 532     | 12m 9s       | 1.97302                |</pre>"
      ],
      "text/plain": [
       "| 532     | 12m 9s       | 1.97302                |"
      ]
     },
     "metadata": {},
     "output_type": "display_data"
    },
    {
     "data": {
      "text/html": [
       "<pre>| 533     | 12m 11s      | 1.97301                |</pre>"
      ],
      "text/plain": [
       "| 533     | 12m 11s      | 1.97301                |"
      ]
     },
     "metadata": {},
     "output_type": "display_data"
    },
    {
     "data": {
      "text/html": [
       "<pre>| 534     | 12m 12s      | 1.973                  |</pre>"
      ],
      "text/plain": [
       "| 534     | 12m 12s      | 1.973                  |"
      ]
     },
     "metadata": {},
     "output_type": "display_data"
    },
    {
     "data": {
      "text/html": [
       "<pre>| 535     | 12m 13s      | 1.97298                |</pre>"
      ],
      "text/plain": [
       "| 535     | 12m 13s      | 1.97298                |"
      ]
     },
     "metadata": {},
     "output_type": "display_data"
    },
    {
     "data": {
      "text/html": [
       "<pre>| 536     | 12m 15s      | 1.97296                |</pre>"
      ],
      "text/plain": [
       "| 536     | 12m 15s      | 1.97296                |"
      ]
     },
     "metadata": {},
     "output_type": "display_data"
    },
    {
     "data": {
      "text/html": [
       "<pre>| 537     | 12m 16s      | 1.97295                |</pre>"
      ],
      "text/plain": [
       "| 537     | 12m 16s      | 1.97295                |"
      ]
     },
     "metadata": {},
     "output_type": "display_data"
    },
    {
     "data": {
      "text/html": [
       "<pre>| 538     | 12m 17s      | 1.97294                |</pre>"
      ],
      "text/plain": [
       "| 538     | 12m 17s      | 1.97294                |"
      ]
     },
     "metadata": {},
     "output_type": "display_data"
    },
    {
     "data": {
      "text/html": [
       "<pre>| 539     | 12m 18s      | 1.97292                |</pre>"
      ],
      "text/plain": [
       "| 539     | 12m 18s      | 1.97292                |"
      ]
     },
     "metadata": {},
     "output_type": "display_data"
    },
    {
     "data": {
      "text/html": [
       "<pre>| 540     | 12m 20s      | 1.97291                |</pre>"
      ],
      "text/plain": [
       "| 540     | 12m 20s      | 1.97291                |"
      ]
     },
     "metadata": {},
     "output_type": "display_data"
    },
    {
     "data": {
      "text/html": [
       "<pre>| 541     | 12m 21s      | 1.9729                 |</pre>"
      ],
      "text/plain": [
       "| 541     | 12m 21s      | 1.9729                 |"
      ]
     },
     "metadata": {},
     "output_type": "display_data"
    },
    {
     "data": {
      "text/html": [
       "<pre>| 542     | 12m 23s      | 1.97289                |</pre>"
      ],
      "text/plain": [
       "| 542     | 12m 23s      | 1.97289                |"
      ]
     },
     "metadata": {},
     "output_type": "display_data"
    },
    {
     "data": {
      "text/html": [
       "<pre>| 543     | 12m 24s      | 1.97288                |</pre>"
      ],
      "text/plain": [
       "| 543     | 12m 24s      | 1.97288                |"
      ]
     },
     "metadata": {},
     "output_type": "display_data"
    },
    {
     "data": {
      "text/html": [
       "<pre>| 544     | 12m 25s      | 1.97286                |</pre>"
      ],
      "text/plain": [
       "| 544     | 12m 25s      | 1.97286                |"
      ]
     },
     "metadata": {},
     "output_type": "display_data"
    },
    {
     "data": {
      "text/html": [
       "<pre>| 545     | 12m 27s      | 1.97285                |</pre>"
      ],
      "text/plain": [
       "| 545     | 12m 27s      | 1.97285                |"
      ]
     },
     "metadata": {},
     "output_type": "display_data"
    },
    {
     "data": {
      "text/html": [
       "<pre>| 546     | 12m 28s      | 1.97284                |</pre>"
      ],
      "text/plain": [
       "| 546     | 12m 28s      | 1.97284                |"
      ]
     },
     "metadata": {},
     "output_type": "display_data"
    },
    {
     "data": {
      "text/html": [
       "<pre>| 547     | 12m 29s      | 1.97283                |</pre>"
      ],
      "text/plain": [
       "| 547     | 12m 29s      | 1.97283                |"
      ]
     },
     "metadata": {},
     "output_type": "display_data"
    },
    {
     "data": {
      "text/html": [
       "<pre>| 548     | 12m 30s      | 1.97282                |</pre>"
      ],
      "text/plain": [
       "| 548     | 12m 30s      | 1.97282                |"
      ]
     },
     "metadata": {},
     "output_type": "display_data"
    },
    {
     "data": {
      "text/html": [
       "<pre>| 549     | 12m 32s      | 1.97281                |</pre>"
      ],
      "text/plain": [
       "| 549     | 12m 32s      | 1.97281                |"
      ]
     },
     "metadata": {},
     "output_type": "display_data"
    },
    {
     "data": {
      "text/html": [
       "<pre>| 550     | 12m 33s      | 1.9728                 |</pre>"
      ],
      "text/plain": [
       "| 550     | 12m 33s      | 1.9728                 |"
      ]
     },
     "metadata": {},
     "output_type": "display_data"
    },
    {
     "data": {
      "text/html": [
       "<pre>| 551     | 12m 34s      | 1.97279                |</pre>"
      ],
      "text/plain": [
       "| 551     | 12m 34s      | 1.97279                |"
      ]
     },
     "metadata": {},
     "output_type": "display_data"
    },
    {
     "data": {
      "text/html": [
       "<pre>| 552     | 12m 35s      | 1.97278                |</pre>"
      ],
      "text/plain": [
       "| 552     | 12m 35s      | 1.97278                |"
      ]
     },
     "metadata": {},
     "output_type": "display_data"
    },
    {
     "data": {
      "text/html": [
       "<pre>| 553     | 12m 37s      | 1.97277                |</pre>"
      ],
      "text/plain": [
       "| 553     | 12m 37s      | 1.97277                |"
      ]
     },
     "metadata": {},
     "output_type": "display_data"
    },
    {
     "data": {
      "text/html": [
       "<pre>| 554     | 12m 38s      | 1.97276                |</pre>"
      ],
      "text/plain": [
       "| 554     | 12m 38s      | 1.97276                |"
      ]
     },
     "metadata": {},
     "output_type": "display_data"
    },
    {
     "data": {
      "text/html": [
       "<pre>| 555     | 12m 39s      | 1.97275                |</pre>"
      ],
      "text/plain": [
       "| 555     | 12m 39s      | 1.97275                |"
      ]
     },
     "metadata": {},
     "output_type": "display_data"
    },
    {
     "data": {
      "text/html": [
       "<pre>| 556     | 12m 40s      | 1.97274                |</pre>"
      ],
      "text/plain": [
       "| 556     | 12m 40s      | 1.97274                |"
      ]
     },
     "metadata": {},
     "output_type": "display_data"
    },
    {
     "data": {
      "text/html": [
       "<pre>| 557     | 12m 42s      | 1.97273                |</pre>"
      ],
      "text/plain": [
       "| 557     | 12m 42s      | 1.97273                |"
      ]
     },
     "metadata": {},
     "output_type": "display_data"
    },
    {
     "data": {
      "text/html": [
       "<pre>| 558     | 12m 43s      | 1.97272                |</pre>"
      ],
      "text/plain": [
       "| 558     | 12m 43s      | 1.97272                |"
      ]
     },
     "metadata": {},
     "output_type": "display_data"
    },
    {
     "data": {
      "text/html": [
       "<pre>| 559     | 12m 45s      | 1.9727                 |</pre>"
      ],
      "text/plain": [
       "| 559     | 12m 45s      | 1.9727                 |"
      ]
     },
     "metadata": {},
     "output_type": "display_data"
    },
    {
     "data": {
      "text/html": [
       "<pre>| 560     | 12m 46s      | 1.97269                |</pre>"
      ],
      "text/plain": [
       "| 560     | 12m 46s      | 1.97269                |"
      ]
     },
     "metadata": {},
     "output_type": "display_data"
    },
    {
     "data": {
      "text/html": [
       "<pre>| 561     | 12m 48s      | 1.97268                |</pre>"
      ],
      "text/plain": [
       "| 561     | 12m 48s      | 1.97268                |"
      ]
     },
     "metadata": {},
     "output_type": "display_data"
    },
    {
     "data": {
      "text/html": [
       "<pre>| 562     | 12m 50s      | 1.97267                |</pre>"
      ],
      "text/plain": [
       "| 562     | 12m 50s      | 1.97267                |"
      ]
     },
     "metadata": {},
     "output_type": "display_data"
    },
    {
     "data": {
      "text/html": [
       "<pre>| 563     | 12m 51s      | 1.97266                |</pre>"
      ],
      "text/plain": [
       "| 563     | 12m 51s      | 1.97266                |"
      ]
     },
     "metadata": {},
     "output_type": "display_data"
    },
    {
     "data": {
      "text/html": [
       "<pre>| 564     | 12m 53s      | 1.97265                |</pre>"
      ],
      "text/plain": [
       "| 564     | 12m 53s      | 1.97265                |"
      ]
     },
     "metadata": {},
     "output_type": "display_data"
    },
    {
     "data": {
      "text/html": [
       "<pre>| 565     | 12m 54s      | 1.97264                |</pre>"
      ],
      "text/plain": [
       "| 565     | 12m 54s      | 1.97264                |"
      ]
     },
     "metadata": {},
     "output_type": "display_data"
    },
    {
     "data": {
      "text/html": [
       "<pre>| 566     | 12m 56s      | 1.97262                |</pre>"
      ],
      "text/plain": [
       "| 566     | 12m 56s      | 1.97262                |"
      ]
     },
     "metadata": {},
     "output_type": "display_data"
    },
    {
     "data": {
      "text/html": [
       "<pre>| 567     | 12m 57s      | 1.97261                |</pre>"
      ],
      "text/plain": [
       "| 567     | 12m 57s      | 1.97261                |"
      ]
     },
     "metadata": {},
     "output_type": "display_data"
    },
    {
     "data": {
      "text/html": [
       "<pre>| 568     | 12m 59s      | 1.9726                 |</pre>"
      ],
      "text/plain": [
       "| 568     | 12m 59s      | 1.9726                 |"
      ]
     },
     "metadata": {},
     "output_type": "display_data"
    },
    {
     "data": {
      "text/html": [
       "<pre>| 569     | 13m 0s       | 1.97259                |</pre>"
      ],
      "text/plain": [
       "| 569     | 13m 0s       | 1.97259                |"
      ]
     },
     "metadata": {},
     "output_type": "display_data"
    },
    {
     "data": {
      "text/html": [
       "<pre>| 570     | 13m 2s       | 1.97258                |</pre>"
      ],
      "text/plain": [
       "| 570     | 13m 2s       | 1.97258                |"
      ]
     },
     "metadata": {},
     "output_type": "display_data"
    },
    {
     "data": {
      "text/html": [
       "<pre>| 571     | 13m 3s       | 1.97257                |</pre>"
      ],
      "text/plain": [
       "| 571     | 13m 3s       | 1.97257                |"
      ]
     },
     "metadata": {},
     "output_type": "display_data"
    },
    {
     "data": {
      "text/html": [
       "<pre>| 572     | 13m 5s       | 1.97256                |</pre>"
      ],
      "text/plain": [
       "| 572     | 13m 5s       | 1.97256                |"
      ]
     },
     "metadata": {},
     "output_type": "display_data"
    },
    {
     "data": {
      "text/html": [
       "<pre>| 573     | 13m 6s       | 1.97255                |</pre>"
      ],
      "text/plain": [
       "| 573     | 13m 6s       | 1.97255                |"
      ]
     },
     "metadata": {},
     "output_type": "display_data"
    },
    {
     "data": {
      "text/html": [
       "<pre>| 574     | 13m 8s       | 1.97254                |</pre>"
      ],
      "text/plain": [
       "| 574     | 13m 8s       | 1.97254                |"
      ]
     },
     "metadata": {},
     "output_type": "display_data"
    },
    {
     "data": {
      "text/html": [
       "<pre>| 575     | 13m 9s       | 1.97253                |</pre>"
      ],
      "text/plain": [
       "| 575     | 13m 9s       | 1.97253                |"
      ]
     },
     "metadata": {},
     "output_type": "display_data"
    },
    {
     "data": {
      "text/html": [
       "<pre>| 576     | 13m 10s      | 1.97252                |</pre>"
      ],
      "text/plain": [
       "| 576     | 13m 10s      | 1.97252                |"
      ]
     },
     "metadata": {},
     "output_type": "display_data"
    },
    {
     "data": {
      "text/html": [
       "<pre>| 577     | 13m 12s      | 1.97251                |</pre>"
      ],
      "text/plain": [
       "| 577     | 13m 12s      | 1.97251                |"
      ]
     },
     "metadata": {},
     "output_type": "display_data"
    },
    {
     "data": {
      "text/html": [
       "<pre>| 578     | 13m 13s      | 1.97251                |</pre>"
      ],
      "text/plain": [
       "| 578     | 13m 13s      | 1.97251                |"
      ]
     },
     "metadata": {},
     "output_type": "display_data"
    },
    {
     "data": {
      "text/html": [
       "<pre>| 579     | 13m 14s      | 1.9725                 |</pre>"
      ],
      "text/plain": [
       "| 579     | 13m 14s      | 1.9725                 |"
      ]
     },
     "metadata": {},
     "output_type": "display_data"
    },
    {
     "data": {
      "text/html": [
       "<pre>| 580     | 13m 16s      | 1.97249                |</pre>"
      ],
      "text/plain": [
       "| 580     | 13m 16s      | 1.97249                |"
      ]
     },
     "metadata": {},
     "output_type": "display_data"
    },
    {
     "data": {
      "text/html": [
       "<pre>| 581     | 13m 17s      | 1.97248                |</pre>"
      ],
      "text/plain": [
       "| 581     | 13m 17s      | 1.97248                |"
      ]
     },
     "metadata": {},
     "output_type": "display_data"
    },
    {
     "data": {
      "text/html": [
       "<pre>| 582     | 13m 18s      | 1.97247                |</pre>"
      ],
      "text/plain": [
       "| 582     | 13m 18s      | 1.97247                |"
      ]
     },
     "metadata": {},
     "output_type": "display_data"
    },
    {
     "data": {
      "text/html": [
       "<pre>| 583     | 13m 20s      | 1.97246                |</pre>"
      ],
      "text/plain": [
       "| 583     | 13m 20s      | 1.97246                |"
      ]
     },
     "metadata": {},
     "output_type": "display_data"
    },
    {
     "data": {
      "text/html": [
       "<pre>| 584     | 13m 21s      | 1.97245                |</pre>"
      ],
      "text/plain": [
       "| 584     | 13m 21s      | 1.97245                |"
      ]
     },
     "metadata": {},
     "output_type": "display_data"
    },
    {
     "data": {
      "text/html": [
       "<pre>| 585     | 13m 22s      | 1.97244                |</pre>"
      ],
      "text/plain": [
       "| 585     | 13m 22s      | 1.97244                |"
      ]
     },
     "metadata": {},
     "output_type": "display_data"
    },
    {
     "data": {
      "text/html": [
       "<pre>| 586     | 13m 24s      | 1.97243                |</pre>"
      ],
      "text/plain": [
       "| 586     | 13m 24s      | 1.97243                |"
      ]
     },
     "metadata": {},
     "output_type": "display_data"
    },
    {
     "data": {
      "text/html": [
       "<pre>| 587     | 13m 25s      | 1.97242                |</pre>"
      ],
      "text/plain": [
       "| 587     | 13m 25s      | 1.97242                |"
      ]
     },
     "metadata": {},
     "output_type": "display_data"
    },
    {
     "data": {
      "text/html": [
       "<pre>| 588     | 13m 26s      | 1.97241                |</pre>"
      ],
      "text/plain": [
       "| 588     | 13m 26s      | 1.97241                |"
      ]
     },
     "metadata": {},
     "output_type": "display_data"
    },
    {
     "data": {
      "text/html": [
       "<pre>| 589     | 13m 27s      | 1.9724                 |</pre>"
      ],
      "text/plain": [
       "| 589     | 13m 27s      | 1.9724                 |"
      ]
     },
     "metadata": {},
     "output_type": "display_data"
    },
    {
     "data": {
      "text/html": [
       "<pre>| 590     | 13m 29s      | 1.97239                |</pre>"
      ],
      "text/plain": [
       "| 590     | 13m 29s      | 1.97239                |"
      ]
     },
     "metadata": {},
     "output_type": "display_data"
    },
    {
     "data": {
      "text/html": [
       "<pre>| 591     | 13m 30s      | 1.97238                |</pre>"
      ],
      "text/plain": [
       "| 591     | 13m 30s      | 1.97238                |"
      ]
     },
     "metadata": {},
     "output_type": "display_data"
    },
    {
     "data": {
      "text/html": [
       "<pre>| 592     | 13m 31s      | 1.97237                |</pre>"
      ],
      "text/plain": [
       "| 592     | 13m 31s      | 1.97237                |"
      ]
     },
     "metadata": {},
     "output_type": "display_data"
    },
    {
     "data": {
      "text/html": [
       "<pre>| 593     | 13m 33s      | 1.97236                |</pre>"
      ],
      "text/plain": [
       "| 593     | 13m 33s      | 1.97236                |"
      ]
     },
     "metadata": {},
     "output_type": "display_data"
    },
    {
     "data": {
      "text/html": [
       "<pre>| 594     | 13m 35s      | 1.97235                |</pre>"
      ],
      "text/plain": [
       "| 594     | 13m 35s      | 1.97235                |"
      ]
     },
     "metadata": {},
     "output_type": "display_data"
    },
    {
     "data": {
      "text/html": [
       "<pre>| 595     | 13m 37s      | 1.97234                |</pre>"
      ],
      "text/plain": [
       "| 595     | 13m 37s      | 1.97234                |"
      ]
     },
     "metadata": {},
     "output_type": "display_data"
    },
    {
     "data": {
      "text/html": [
       "<pre>| 596     | 13m 38s      | 1.97233                |</pre>"
      ],
      "text/plain": [
       "| 596     | 13m 38s      | 1.97233                |"
      ]
     },
     "metadata": {},
     "output_type": "display_data"
    },
    {
     "data": {
      "text/html": [
       "<pre>| 597     | 13m 39s      | 1.97232                |</pre>"
      ],
      "text/plain": [
       "| 597     | 13m 39s      | 1.97232                |"
      ]
     },
     "metadata": {},
     "output_type": "display_data"
    },
    {
     "data": {
      "text/html": [
       "<pre>| 598     | 13m 41s      | 1.97231                |</pre>"
      ],
      "text/plain": [
       "| 598     | 13m 41s      | 1.97231                |"
      ]
     },
     "metadata": {},
     "output_type": "display_data"
    },
    {
     "data": {
      "text/html": [
       "<pre>| 599     | 13m 42s      | 1.9723                 |</pre>"
      ],
      "text/plain": [
       "| 599     | 13m 42s      | 1.9723                 |"
      ]
     },
     "metadata": {},
     "output_type": "display_data"
    },
    {
     "data": {
      "text/html": [
       "<pre>| 600     | 13m 43s      | 1.97229                |</pre>"
      ],
      "text/plain": [
       "| 600     | 13m 43s      | 1.97229                |"
      ]
     },
     "metadata": {},
     "output_type": "display_data"
    },
    {
     "data": {
      "text/html": [
       "<pre>| 601     | 13m 44s      | 1.97228                |</pre>"
      ],
      "text/plain": [
       "| 601     | 13m 44s      | 1.97228                |"
      ]
     },
     "metadata": {},
     "output_type": "display_data"
    },
    {
     "data": {
      "text/html": [
       "<pre>| 602     | 13m 46s      | 1.97227                |</pre>"
      ],
      "text/plain": [
       "| 602     | 13m 46s      | 1.97227                |"
      ]
     },
     "metadata": {},
     "output_type": "display_data"
    },
    {
     "data": {
      "text/html": [
       "<pre>| 603     | 13m 47s      | 1.97226                |</pre>"
      ],
      "text/plain": [
       "| 603     | 13m 47s      | 1.97226                |"
      ]
     },
     "metadata": {},
     "output_type": "display_data"
    },
    {
     "data": {
      "text/html": [
       "<pre>| 604     | 13m 48s      | 1.97225                |</pre>"
      ],
      "text/plain": [
       "| 604     | 13m 48s      | 1.97225                |"
      ]
     },
     "metadata": {},
     "output_type": "display_data"
    },
    {
     "data": {
      "text/html": [
       "<pre>| 605     | 13m 50s      | 1.97224                |</pre>"
      ],
      "text/plain": [
       "| 605     | 13m 50s      | 1.97224                |"
      ]
     },
     "metadata": {},
     "output_type": "display_data"
    },
    {
     "data": {
      "text/html": [
       "<pre>| 606     | 13m 51s      | 1.97223                |</pre>"
      ],
      "text/plain": [
       "| 606     | 13m 51s      | 1.97223                |"
      ]
     },
     "metadata": {},
     "output_type": "display_data"
    },
    {
     "data": {
      "text/html": [
       "<pre>| 607     | 13m 52s      | 1.97222                |</pre>"
      ],
      "text/plain": [
       "| 607     | 13m 52s      | 1.97222                |"
      ]
     },
     "metadata": {},
     "output_type": "display_data"
    },
    {
     "data": {
      "text/html": [
       "<pre>| 608     | 13m 53s      | 1.97221                |</pre>"
      ],
      "text/plain": [
       "| 608     | 13m 53s      | 1.97221                |"
      ]
     },
     "metadata": {},
     "output_type": "display_data"
    },
    {
     "data": {
      "text/html": [
       "<pre>| 609     | 13m 55s      | 1.9722                 |</pre>"
      ],
      "text/plain": [
       "| 609     | 13m 55s      | 1.9722                 |"
      ]
     },
     "metadata": {},
     "output_type": "display_data"
    },
    {
     "data": {
      "text/html": [
       "<pre>| 610     | 13m 56s      | 1.97219                |</pre>"
      ],
      "text/plain": [
       "| 610     | 13m 56s      | 1.97219                |"
      ]
     },
     "metadata": {},
     "output_type": "display_data"
    },
    {
     "data": {
      "text/html": [
       "<pre>| 611     | 13m 57s      | 1.97218                |</pre>"
      ],
      "text/plain": [
       "| 611     | 13m 57s      | 1.97218                |"
      ]
     },
     "metadata": {},
     "output_type": "display_data"
    },
    {
     "data": {
      "text/html": [
       "<pre>| 612     | 13m 58s      | 1.97217                |</pre>"
      ],
      "text/plain": [
       "| 612     | 13m 58s      | 1.97217                |"
      ]
     },
     "metadata": {},
     "output_type": "display_data"
    },
    {
     "data": {
      "text/html": [
       "<pre>| 613     | 14m 0s       | 1.97216                |</pre>"
      ],
      "text/plain": [
       "| 613     | 14m 0s       | 1.97216                |"
      ]
     },
     "metadata": {},
     "output_type": "display_data"
    },
    {
     "data": {
      "text/html": [
       "<pre>| 614     | 14m 1s       | 1.97215                |</pre>"
      ],
      "text/plain": [
       "| 614     | 14m 1s       | 1.97215                |"
      ]
     },
     "metadata": {},
     "output_type": "display_data"
    },
    {
     "data": {
      "text/html": [
       "<pre>| 615     | 14m 2s       | 1.97214                |</pre>"
      ],
      "text/plain": [
       "| 615     | 14m 2s       | 1.97214                |"
      ]
     },
     "metadata": {},
     "output_type": "display_data"
    },
    {
     "data": {
      "text/html": [
       "<pre>| 616     | 14m 3s       | 1.97213                |</pre>"
      ],
      "text/plain": [
       "| 616     | 14m 3s       | 1.97213                |"
      ]
     },
     "metadata": {},
     "output_type": "display_data"
    },
    {
     "data": {
      "text/html": [
       "<pre>| 617     | 14m 5s       | 1.97212                |</pre>"
      ],
      "text/plain": [
       "| 617     | 14m 5s       | 1.97212                |"
      ]
     },
     "metadata": {},
     "output_type": "display_data"
    },
    {
     "data": {
      "text/html": [
       "<pre>| 618     | 14m 6s       | 1.97211                |</pre>"
      ],
      "text/plain": [
       "| 618     | 14m 6s       | 1.97211                |"
      ]
     },
     "metadata": {},
     "output_type": "display_data"
    },
    {
     "data": {
      "text/html": [
       "<pre>| 619     | 14m 7s       | 1.9721                 |</pre>"
      ],
      "text/plain": [
       "| 619     | 14m 7s       | 1.9721                 |"
      ]
     },
     "metadata": {},
     "output_type": "display_data"
    },
    {
     "data": {
      "text/html": [
       "<pre>| 620     | 14m 8s       | 1.97209                |</pre>"
      ],
      "text/plain": [
       "| 620     | 14m 8s       | 1.97209                |"
      ]
     },
     "metadata": {},
     "output_type": "display_data"
    },
    {
     "data": {
      "text/html": [
       "<pre>| 621     | 14m 10s      | 1.97208                |</pre>"
      ],
      "text/plain": [
       "| 621     | 14m 10s      | 1.97208                |"
      ]
     },
     "metadata": {},
     "output_type": "display_data"
    },
    {
     "data": {
      "text/html": [
       "<pre>| 622     | 14m 11s      | 1.97207                |</pre>"
      ],
      "text/plain": [
       "| 622     | 14m 11s      | 1.97207                |"
      ]
     },
     "metadata": {},
     "output_type": "display_data"
    },
    {
     "data": {
      "text/html": [
       "<pre>| 623     | 14m 12s      | 1.97206                |</pre>"
      ],
      "text/plain": [
       "| 623     | 14m 12s      | 1.97206                |"
      ]
     },
     "metadata": {},
     "output_type": "display_data"
    },
    {
     "data": {
      "text/html": [
       "<pre>| 624     | 14m 13s      | 1.97205                |</pre>"
      ],
      "text/plain": [
       "| 624     | 14m 13s      | 1.97205                |"
      ]
     },
     "metadata": {},
     "output_type": "display_data"
    },
    {
     "data": {
      "text/html": [
       "<pre>| 625     | 14m 15s      | 1.97204                |</pre>"
      ],
      "text/plain": [
       "| 625     | 14m 15s      | 1.97204                |"
      ]
     },
     "metadata": {},
     "output_type": "display_data"
    },
    {
     "data": {
      "text/html": [
       "<pre>| 626     | 14m 16s      | 1.97204                |</pre>"
      ],
      "text/plain": [
       "| 626     | 14m 16s      | 1.97204                |"
      ]
     },
     "metadata": {},
     "output_type": "display_data"
    },
    {
     "data": {
      "text/html": [
       "<pre>| 627     | 14m 17s      | 1.97203                |</pre>"
      ],
      "text/plain": [
       "| 627     | 14m 17s      | 1.97203                |"
      ]
     },
     "metadata": {},
     "output_type": "display_data"
    },
    {
     "data": {
      "text/html": [
       "<pre>| 628     | 14m 18s      | 1.97202                |</pre>"
      ],
      "text/plain": [
       "| 628     | 14m 18s      | 1.97202                |"
      ]
     },
     "metadata": {},
     "output_type": "display_data"
    },
    {
     "data": {
      "text/html": [
       "<pre>| 629     | 14m 20s      | 1.97201                |</pre>"
      ],
      "text/plain": [
       "| 629     | 14m 20s      | 1.97201                |"
      ]
     },
     "metadata": {},
     "output_type": "display_data"
    },
    {
     "data": {
      "text/html": [
       "<pre>| 630     | 14m 21s      | 1.972                  |</pre>"
      ],
      "text/plain": [
       "| 630     | 14m 21s      | 1.972                  |"
      ]
     },
     "metadata": {},
     "output_type": "display_data"
    },
    {
     "data": {
      "text/html": [
       "<pre>| 631     | 14m 22s      | 1.97199                |</pre>"
      ],
      "text/plain": [
       "| 631     | 14m 22s      | 1.97199                |"
      ]
     },
     "metadata": {},
     "output_type": "display_data"
    },
    {
     "data": {
      "text/html": [
       "<pre>| 632     | 14m 23s      | 1.97198                |</pre>"
      ],
      "text/plain": [
       "| 632     | 14m 23s      | 1.97198                |"
      ]
     },
     "metadata": {},
     "output_type": "display_data"
    },
    {
     "data": {
      "text/html": [
       "<pre>| 633     | 14m 25s      | 1.97197                |</pre>"
      ],
      "text/plain": [
       "| 633     | 14m 25s      | 1.97197                |"
      ]
     },
     "metadata": {},
     "output_type": "display_data"
    },
    {
     "data": {
      "text/html": [
       "<pre>| 634     | 14m 26s      | 1.97196                |</pre>"
      ],
      "text/plain": [
       "| 634     | 14m 26s      | 1.97196                |"
      ]
     },
     "metadata": {},
     "output_type": "display_data"
    },
    {
     "data": {
      "text/html": [
       "<pre>| 635     | 14m 27s      | 1.97196                |</pre>"
      ],
      "text/plain": [
       "| 635     | 14m 27s      | 1.97196                |"
      ]
     },
     "metadata": {},
     "output_type": "display_data"
    },
    {
     "data": {
      "text/html": [
       "<pre>| 636     | 14m 29s      | 1.97195                |</pre>"
      ],
      "text/plain": [
       "| 636     | 14m 29s      | 1.97195                |"
      ]
     },
     "metadata": {},
     "output_type": "display_data"
    },
    {
     "data": {
      "text/html": [
       "<pre>| 637     | 14m 30s      | 1.97194                |</pre>"
      ],
      "text/plain": [
       "| 637     | 14m 30s      | 1.97194                |"
      ]
     },
     "metadata": {},
     "output_type": "display_data"
    },
    {
     "data": {
      "text/html": [
       "<pre>| 638     | 14m 31s      | 1.97193                |</pre>"
      ],
      "text/plain": [
       "| 638     | 14m 31s      | 1.97193                |"
      ]
     },
     "metadata": {},
     "output_type": "display_data"
    },
    {
     "data": {
      "text/html": [
       "<pre>| 639     | 14m 32s      | 1.97192                |</pre>"
      ],
      "text/plain": [
       "| 639     | 14m 32s      | 1.97192                |"
      ]
     },
     "metadata": {},
     "output_type": "display_data"
    },
    {
     "data": {
      "text/html": [
       "<pre>| 640     | 14m 34s      | 1.97191                |</pre>"
      ],
      "text/plain": [
       "| 640     | 14m 34s      | 1.97191                |"
      ]
     },
     "metadata": {},
     "output_type": "display_data"
    },
    {
     "data": {
      "text/html": [
       "<pre>| 641     | 14m 35s      | 1.9719                 |</pre>"
      ],
      "text/plain": [
       "| 641     | 14m 35s      | 1.9719                 |"
      ]
     },
     "metadata": {},
     "output_type": "display_data"
    },
    {
     "data": {
      "text/html": [
       "<pre>| 642     | 14m 36s      | 1.97189                |</pre>"
      ],
      "text/plain": [
       "| 642     | 14m 36s      | 1.97189                |"
      ]
     },
     "metadata": {},
     "output_type": "display_data"
    },
    {
     "data": {
      "text/html": [
       "<pre>| 643     | 14m 38s      | 1.97189                |</pre>"
      ],
      "text/plain": [
       "| 643     | 14m 38s      | 1.97189                |"
      ]
     },
     "metadata": {},
     "output_type": "display_data"
    },
    {
     "data": {
      "text/html": [
       "<pre>| 644     | 14m 41s      | 1.97188                |</pre>"
      ],
      "text/plain": [
       "| 644     | 14m 41s      | 1.97188                |"
      ]
     },
     "metadata": {},
     "output_type": "display_data"
    },
    {
     "data": {
      "text/html": [
       "<pre>| 645     | 14m 42s      | 1.97187                |</pre>"
      ],
      "text/plain": [
       "| 645     | 14m 42s      | 1.97187                |"
      ]
     },
     "metadata": {},
     "output_type": "display_data"
    },
    {
     "data": {
      "text/html": [
       "<pre>| 646     | 14m 44s      | 1.97186                |</pre>"
      ],
      "text/plain": [
       "| 646     | 14m 44s      | 1.97186                |"
      ]
     },
     "metadata": {},
     "output_type": "display_data"
    },
    {
     "data": {
      "text/html": [
       "<pre>| 647     | 14m 45s      | 1.97185                |</pre>"
      ],
      "text/plain": [
       "| 647     | 14m 45s      | 1.97185                |"
      ]
     },
     "metadata": {},
     "output_type": "display_data"
    },
    {
     "data": {
      "text/html": [
       "<pre>| 648     | 14m 47s      | 1.97184                |</pre>"
      ],
      "text/plain": [
       "| 648     | 14m 47s      | 1.97184                |"
      ]
     },
     "metadata": {},
     "output_type": "display_data"
    },
    {
     "data": {
      "text/html": [
       "<pre>| 649     | 14m 49s      | 1.97183                |</pre>"
      ],
      "text/plain": [
       "| 649     | 14m 49s      | 1.97183                |"
      ]
     },
     "metadata": {},
     "output_type": "display_data"
    },
    {
     "data": {
      "text/html": [
       "<pre>| 650     | 14m 51s      | 1.97183                |</pre>"
      ],
      "text/plain": [
       "| 650     | 14m 51s      | 1.97183                |"
      ]
     },
     "metadata": {},
     "output_type": "display_data"
    },
    {
     "data": {
      "text/html": [
       "<pre>| 651     | 14m 52s      | 1.97182                |</pre>"
      ],
      "text/plain": [
       "| 651     | 14m 52s      | 1.97182                |"
      ]
     },
     "metadata": {},
     "output_type": "display_data"
    },
    {
     "data": {
      "text/html": [
       "<pre>| 652     | 14m 54s      | 1.97181                |</pre>"
      ],
      "text/plain": [
       "| 652     | 14m 54s      | 1.97181                |"
      ]
     },
     "metadata": {},
     "output_type": "display_data"
    },
    {
     "data": {
      "text/html": [
       "<pre>| 653     | 14m 55s      | 1.9718                 |</pre>"
      ],
      "text/plain": [
       "| 653     | 14m 55s      | 1.9718                 |"
      ]
     },
     "metadata": {},
     "output_type": "display_data"
    },
    {
     "data": {
      "text/html": [
       "<pre>| 654     | 14m 57s      | 1.97179                |</pre>"
      ],
      "text/plain": [
       "| 654     | 14m 57s      | 1.97179                |"
      ]
     },
     "metadata": {},
     "output_type": "display_data"
    },
    {
     "data": {
      "text/html": [
       "<pre>| 655     | 14m 58s      | 1.97178                |</pre>"
      ],
      "text/plain": [
       "| 655     | 14m 58s      | 1.97178                |"
      ]
     },
     "metadata": {},
     "output_type": "display_data"
    },
    {
     "data": {
      "text/html": [
       "<pre>| 656     | 15m 0s       | 1.97177                |</pre>"
      ],
      "text/plain": [
       "| 656     | 15m 0s       | 1.97177                |"
      ]
     },
     "metadata": {},
     "output_type": "display_data"
    },
    {
     "data": {
      "text/html": [
       "<pre>| 657     | 15m 1s       | 1.97176                |</pre>"
      ],
      "text/plain": [
       "| 657     | 15m 1s       | 1.97176                |"
      ]
     },
     "metadata": {},
     "output_type": "display_data"
    },
    {
     "data": {
      "text/html": [
       "<pre>| 658     | 15m 3s       | 1.97176                |</pre>"
      ],
      "text/plain": [
       "| 658     | 15m 3s       | 1.97176                |"
      ]
     },
     "metadata": {},
     "output_type": "display_data"
    },
    {
     "data": {
      "text/html": [
       "<pre>| 659     | 15m 5s       | 1.97175                |</pre>"
      ],
      "text/plain": [
       "| 659     | 15m 5s       | 1.97175                |"
      ]
     },
     "metadata": {},
     "output_type": "display_data"
    },
    {
     "data": {
      "text/html": [
       "<pre>| 660     | 15m 6s       | 1.97174                |</pre>"
      ],
      "text/plain": [
       "| 660     | 15m 6s       | 1.97174                |"
      ]
     },
     "metadata": {},
     "output_type": "display_data"
    },
    {
     "data": {
      "text/html": [
       "<pre>| 661     | 15m 7s       | 1.97173                |</pre>"
      ],
      "text/plain": [
       "| 661     | 15m 7s       | 1.97173                |"
      ]
     },
     "metadata": {},
     "output_type": "display_data"
    },
    {
     "data": {
      "text/html": [
       "<pre>| 662     | 15m 9s       | 1.97172                |</pre>"
      ],
      "text/plain": [
       "| 662     | 15m 9s       | 1.97172                |"
      ]
     },
     "metadata": {},
     "output_type": "display_data"
    },
    {
     "data": {
      "text/html": [
       "<pre>| 663     | 15m 10s      | 1.97171                |</pre>"
      ],
      "text/plain": [
       "| 663     | 15m 10s      | 1.97171                |"
      ]
     },
     "metadata": {},
     "output_type": "display_data"
    },
    {
     "data": {
      "text/html": [
       "<pre>| 664     | 15m 11s      | 1.9717                 |</pre>"
      ],
      "text/plain": [
       "| 664     | 15m 11s      | 1.9717                 |"
      ]
     },
     "metadata": {},
     "output_type": "display_data"
    },
    {
     "data": {
      "text/html": [
       "<pre>| 665     | 15m 13s      | 1.97169                |</pre>"
      ],
      "text/plain": [
       "| 665     | 15m 13s      | 1.97169                |"
      ]
     },
     "metadata": {},
     "output_type": "display_data"
    },
    {
     "data": {
      "text/html": [
       "<pre>| 666     | 15m 14s      | 1.97169                |</pre>"
      ],
      "text/plain": [
       "| 666     | 15m 14s      | 1.97169                |"
      ]
     },
     "metadata": {},
     "output_type": "display_data"
    },
    {
     "data": {
      "text/html": [
       "<pre>| 667     | 15m 15s      | 1.97168                |</pre>"
      ],
      "text/plain": [
       "| 667     | 15m 15s      | 1.97168                |"
      ]
     },
     "metadata": {},
     "output_type": "display_data"
    },
    {
     "data": {
      "text/html": [
       "<pre>| 668     | 15m 17s      | 1.97167                |</pre>"
      ],
      "text/plain": [
       "| 668     | 15m 17s      | 1.97167                |"
      ]
     },
     "metadata": {},
     "output_type": "display_data"
    },
    {
     "data": {
      "text/html": [
       "<pre>| 669     | 15m 18s      | 1.97166                |</pre>"
      ],
      "text/plain": [
       "| 669     | 15m 18s      | 1.97166                |"
      ]
     },
     "metadata": {},
     "output_type": "display_data"
    },
    {
     "data": {
      "text/html": [
       "<pre>| 670     | 15m 19s      | 1.97165                |</pre>"
      ],
      "text/plain": [
       "| 670     | 15m 19s      | 1.97165                |"
      ]
     },
     "metadata": {},
     "output_type": "display_data"
    },
    {
     "data": {
      "text/html": [
       "<pre>| 671     | 15m 21s      | 1.97164                |</pre>"
      ],
      "text/plain": [
       "| 671     | 15m 21s      | 1.97164                |"
      ]
     },
     "metadata": {},
     "output_type": "display_data"
    },
    {
     "data": {
      "text/html": [
       "<pre>| 672     | 15m 23s      | 1.97163                |</pre>"
      ],
      "text/plain": [
       "| 672     | 15m 23s      | 1.97163                |"
      ]
     },
     "metadata": {},
     "output_type": "display_data"
    },
    {
     "data": {
      "text/html": [
       "<pre>| 673     | 15m 26s      | 1.97162                |</pre>"
      ],
      "text/plain": [
       "| 673     | 15m 26s      | 1.97162                |"
      ]
     },
     "metadata": {},
     "output_type": "display_data"
    },
    {
     "data": {
      "text/html": [
       "<pre>| 674     | 15m 27s      | 1.97161                |</pre>"
      ],
      "text/plain": [
       "| 674     | 15m 27s      | 1.97161                |"
      ]
     },
     "metadata": {},
     "output_type": "display_data"
    },
    {
     "data": {
      "text/html": [
       "<pre>| 675     | 15m 29s      | 1.9716                 |</pre>"
      ],
      "text/plain": [
       "| 675     | 15m 29s      | 1.9716                 |"
      ]
     },
     "metadata": {},
     "output_type": "display_data"
    },
    {
     "data": {
      "text/html": [
       "<pre>| 676     | 15m 30s      | 1.9716                 |</pre>"
      ],
      "text/plain": [
       "| 676     | 15m 30s      | 1.9716                 |"
      ]
     },
     "metadata": {},
     "output_type": "display_data"
    },
    {
     "data": {
      "text/html": [
       "<pre>| 677     | 15m 31s      | 1.97159                |</pre>"
      ],
      "text/plain": [
       "| 677     | 15m 31s      | 1.97159                |"
      ]
     },
     "metadata": {},
     "output_type": "display_data"
    },
    {
     "data": {
      "text/html": [
       "<pre>| 678     | 15m 33s      | 1.97158                |</pre>"
      ],
      "text/plain": [
       "| 678     | 15m 33s      | 1.97158                |"
      ]
     },
     "metadata": {},
     "output_type": "display_data"
    },
    {
     "data": {
      "text/html": [
       "<pre>| 679     | 15m 34s      | 1.97157                |</pre>"
      ],
      "text/plain": [
       "| 679     | 15m 34s      | 1.97157                |"
      ]
     },
     "metadata": {},
     "output_type": "display_data"
    },
    {
     "data": {
      "text/html": [
       "<pre>| 680     | 15m 35s      | 1.97156                |</pre>"
      ],
      "text/plain": [
       "| 680     | 15m 35s      | 1.97156                |"
      ]
     },
     "metadata": {},
     "output_type": "display_data"
    },
    {
     "data": {
      "text/html": [
       "<pre>| 681     | 15m 37s      | 1.97155                |</pre>"
      ],
      "text/plain": [
       "| 681     | 15m 37s      | 1.97155                |"
      ]
     },
     "metadata": {},
     "output_type": "display_data"
    },
    {
     "data": {
      "text/html": [
       "<pre>| 682     | 15m 38s      | 1.97154                |</pre>"
      ],
      "text/plain": [
       "| 682     | 15m 38s      | 1.97154                |"
      ]
     },
     "metadata": {},
     "output_type": "display_data"
    },
    {
     "data": {
      "text/html": [
       "<pre>| 683     | 15m 40s      | 1.97153                |</pre>"
      ],
      "text/plain": [
       "| 683     | 15m 40s      | 1.97153                |"
      ]
     },
     "metadata": {},
     "output_type": "display_data"
    },
    {
     "data": {
      "text/html": [
       "<pre>| 684     | 15m 41s      | 1.97152                |</pre>"
      ],
      "text/plain": [
       "| 684     | 15m 41s      | 1.97152                |"
      ]
     },
     "metadata": {},
     "output_type": "display_data"
    },
    {
     "data": {
      "text/html": [
       "<pre>| 685     | 15m 42s      | 1.97151                |</pre>"
      ],
      "text/plain": [
       "| 685     | 15m 42s      | 1.97151                |"
      ]
     },
     "metadata": {},
     "output_type": "display_data"
    },
    {
     "data": {
      "text/html": [
       "<pre>| 686     | 15m 44s      | 1.9715                 |</pre>"
      ],
      "text/plain": [
       "| 686     | 15m 44s      | 1.9715                 |"
      ]
     },
     "metadata": {},
     "output_type": "display_data"
    },
    {
     "data": {
      "text/html": [
       "<pre>| 687     | 15m 45s      | 1.9715                 |</pre>"
      ],
      "text/plain": [
       "| 687     | 15m 45s      | 1.9715                 |"
      ]
     },
     "metadata": {},
     "output_type": "display_data"
    },
    {
     "data": {
      "text/html": [
       "<pre>| 688     | 15m 46s      | 1.97149                |</pre>"
      ],
      "text/plain": [
       "| 688     | 15m 46s      | 1.97149                |"
      ]
     },
     "metadata": {},
     "output_type": "display_data"
    },
    {
     "data": {
      "text/html": [
       "<pre>| 689     | 15m 48s      | 1.97148                |</pre>"
      ],
      "text/plain": [
       "| 689     | 15m 48s      | 1.97148                |"
      ]
     },
     "metadata": {},
     "output_type": "display_data"
    },
    {
     "data": {
      "text/html": [
       "<pre>| 690     | 15m 49s      | 1.97147                |</pre>"
      ],
      "text/plain": [
       "| 690     | 15m 49s      | 1.97147                |"
      ]
     },
     "metadata": {},
     "output_type": "display_data"
    },
    {
     "data": {
      "text/html": [
       "<pre>| 691     | 15m 51s      | 1.97146                |</pre>"
      ],
      "text/plain": [
       "| 691     | 15m 51s      | 1.97146                |"
      ]
     },
     "metadata": {},
     "output_type": "display_data"
    },
    {
     "data": {
      "text/html": [
       "<pre>| 692     | 15m 52s      | 1.97145                |</pre>"
      ],
      "text/plain": [
       "| 692     | 15m 52s      | 1.97145                |"
      ]
     },
     "metadata": {},
     "output_type": "display_data"
    },
    {
     "data": {
      "text/html": [
       "<pre>| 693     | 15m 54s      | 1.97144                |</pre>"
      ],
      "text/plain": [
       "| 693     | 15m 54s      | 1.97144                |"
      ]
     },
     "metadata": {},
     "output_type": "display_data"
    },
    {
     "data": {
      "text/html": [
       "<pre>| 694     | 15m 55s      | 1.97143                |</pre>"
      ],
      "text/plain": [
       "| 694     | 15m 55s      | 1.97143                |"
      ]
     },
     "metadata": {},
     "output_type": "display_data"
    },
    {
     "data": {
      "text/html": [
       "<pre>| 695     | 15m 57s      | 1.97143                |</pre>"
      ],
      "text/plain": [
       "| 695     | 15m 57s      | 1.97143                |"
      ]
     },
     "metadata": {},
     "output_type": "display_data"
    },
    {
     "data": {
      "text/html": [
       "<pre>| 696     | 15m 59s      | 1.97142                |</pre>"
      ],
      "text/plain": [
       "| 696     | 15m 59s      | 1.97142                |"
      ]
     },
     "metadata": {},
     "output_type": "display_data"
    },
    {
     "data": {
      "text/html": [
       "<pre>| 697     | 16m 1s       | 1.97141                |</pre>"
      ],
      "text/plain": [
       "| 697     | 16m 1s       | 1.97141                |"
      ]
     },
     "metadata": {},
     "output_type": "display_data"
    },
    {
     "data": {
      "text/html": [
       "<pre>| 698     | 16m 2s       | 1.9714                 |</pre>"
      ],
      "text/plain": [
       "| 698     | 16m 2s       | 1.9714                 |"
      ]
     },
     "metadata": {},
     "output_type": "display_data"
    },
    {
     "data": {
      "text/html": [
       "<pre>| 699     | 16m 4s       | 1.97139                |</pre>"
      ],
      "text/plain": [
       "| 699     | 16m 4s       | 1.97139                |"
      ]
     },
     "metadata": {},
     "output_type": "display_data"
    },
    {
     "data": {
      "text/html": [
       "<pre>| 700     | 16m 5s       | 1.97138                |</pre>"
      ],
      "text/plain": [
       "| 700     | 16m 5s       | 1.97138                |"
      ]
     },
     "metadata": {},
     "output_type": "display_data"
    },
    {
     "data": {
      "text/html": [
       "<pre>| 701     | 16m 6s       | 1.97138                |</pre>"
      ],
      "text/plain": [
       "| 701     | 16m 6s       | 1.97138                |"
      ]
     },
     "metadata": {},
     "output_type": "display_data"
    },
    {
     "data": {
      "text/html": [
       "<pre>| 702     | 16m 8s       | 1.97137                |</pre>"
      ],
      "text/plain": [
       "| 702     | 16m 8s       | 1.97137                |"
      ]
     },
     "metadata": {},
     "output_type": "display_data"
    },
    {
     "data": {
      "text/html": [
       "<pre>| 703     | 16m 9s       | 1.97136                |</pre>"
      ],
      "text/plain": [
       "| 703     | 16m 9s       | 1.97136                |"
      ]
     },
     "metadata": {},
     "output_type": "display_data"
    },
    {
     "data": {
      "text/html": [
       "<pre>| 704     | 16m 11s      | 1.97135                |</pre>"
      ],
      "text/plain": [
       "| 704     | 16m 11s      | 1.97135                |"
      ]
     },
     "metadata": {},
     "output_type": "display_data"
    },
    {
     "data": {
      "text/html": [
       "<pre>| 705     | 16m 12s      | 1.97134                |</pre>"
      ],
      "text/plain": [
       "| 705     | 16m 12s      | 1.97134                |"
      ]
     },
     "metadata": {},
     "output_type": "display_data"
    },
    {
     "data": {
      "text/html": [
       "<pre>| 706     | 16m 13s      | 1.97133                |</pre>"
      ],
      "text/plain": [
       "| 706     | 16m 13s      | 1.97133                |"
      ]
     },
     "metadata": {},
     "output_type": "display_data"
    },
    {
     "data": {
      "text/html": [
       "<pre>| 707     | 16m 15s      | 1.97133                |</pre>"
      ],
      "text/plain": [
       "| 707     | 16m 15s      | 1.97133                |"
      ]
     },
     "metadata": {},
     "output_type": "display_data"
    },
    {
     "data": {
      "text/html": [
       "<pre>| 708     | 16m 16s      | 1.97132                |</pre>"
      ],
      "text/plain": [
       "| 708     | 16m 16s      | 1.97132                |"
      ]
     },
     "metadata": {},
     "output_type": "display_data"
    },
    {
     "data": {
      "text/html": [
       "<pre>| 709     | 16m 17s      | 1.97131                |</pre>"
      ],
      "text/plain": [
       "| 709     | 16m 17s      | 1.97131                |"
      ]
     },
     "metadata": {},
     "output_type": "display_data"
    },
    {
     "data": {
      "text/html": [
       "<pre>| 710     | 16m 19s      | 1.9713                 |</pre>"
      ],
      "text/plain": [
       "| 710     | 16m 19s      | 1.9713                 |"
      ]
     },
     "metadata": {},
     "output_type": "display_data"
    },
    {
     "data": {
      "text/html": [
       "<pre>| 711     | 16m 20s      | 1.97129                |</pre>"
      ],
      "text/plain": [
       "| 711     | 16m 20s      | 1.97129                |"
      ]
     },
     "metadata": {},
     "output_type": "display_data"
    },
    {
     "data": {
      "text/html": [
       "<pre>| 712     | 16m 22s      | 1.97129                |</pre>"
      ],
      "text/plain": [
       "| 712     | 16m 22s      | 1.97129                |"
      ]
     },
     "metadata": {},
     "output_type": "display_data"
    },
    {
     "data": {
      "text/html": [
       "<pre>| 713     | 16m 23s      | 1.97128                |</pre>"
      ],
      "text/plain": [
       "| 713     | 16m 23s      | 1.97128                |"
      ]
     },
     "metadata": {},
     "output_type": "display_data"
    },
    {
     "data": {
      "text/html": [
       "<pre>| 714     | 16m 24s      | 1.97127                |</pre>"
      ],
      "text/plain": [
       "| 714     | 16m 24s      | 1.97127                |"
      ]
     },
     "metadata": {},
     "output_type": "display_data"
    },
    {
     "data": {
      "text/html": [
       "<pre>| 715     | 16m 26s      | 1.97126                |</pre>"
      ],
      "text/plain": [
       "| 715     | 16m 26s      | 1.97126                |"
      ]
     },
     "metadata": {},
     "output_type": "display_data"
    },
    {
     "data": {
      "text/html": [
       "<pre>| 716     | 16m 27s      | 1.97125                |</pre>"
      ],
      "text/plain": [
       "| 716     | 16m 27s      | 1.97125                |"
      ]
     },
     "metadata": {},
     "output_type": "display_data"
    },
    {
     "data": {
      "text/html": [
       "<pre>| 717     | 16m 28s      | 1.97125                |</pre>"
      ],
      "text/plain": [
       "| 717     | 16m 28s      | 1.97125                |"
      ]
     },
     "metadata": {},
     "output_type": "display_data"
    },
    {
     "data": {
      "text/html": [
       "<pre>| 718     | 16m 30s      | 1.97124                |</pre>"
      ],
      "text/plain": [
       "| 718     | 16m 30s      | 1.97124                |"
      ]
     },
     "metadata": {},
     "output_type": "display_data"
    },
    {
     "data": {
      "text/html": [
       "<pre>| 719     | 16m 31s      | 1.97123                |</pre>"
      ],
      "text/plain": [
       "| 719     | 16m 31s      | 1.97123                |"
      ]
     },
     "metadata": {},
     "output_type": "display_data"
    },
    {
     "data": {
      "text/html": [
       "<pre>| 720     | 16m 32s      | 1.97122                |</pre>"
      ],
      "text/plain": [
       "| 720     | 16m 32s      | 1.97122                |"
      ]
     },
     "metadata": {},
     "output_type": "display_data"
    },
    {
     "data": {
      "text/html": [
       "<pre>| 721     | 16m 34s      | 1.97121                |</pre>"
      ],
      "text/plain": [
       "| 721     | 16m 34s      | 1.97121                |"
      ]
     },
     "metadata": {},
     "output_type": "display_data"
    },
    {
     "data": {
      "text/html": [
       "<pre>| 722     | 16m 35s      | 1.9712                 |</pre>"
      ],
      "text/plain": [
       "| 722     | 16m 35s      | 1.9712                 |"
      ]
     },
     "metadata": {},
     "output_type": "display_data"
    },
    {
     "data": {
      "text/html": [
       "<pre>| 723     | 16m 36s      | 1.97119                |</pre>"
      ],
      "text/plain": [
       "| 723     | 16m 36s      | 1.97119                |"
      ]
     },
     "metadata": {},
     "output_type": "display_data"
    },
    {
     "data": {
      "text/html": [
       "<pre>| 724     | 16m 38s      | 1.97119                |</pre>"
      ],
      "text/plain": [
       "| 724     | 16m 38s      | 1.97119                |"
      ]
     },
     "metadata": {},
     "output_type": "display_data"
    },
    {
     "data": {
      "text/html": [
       "<pre>| 725     | 16m 40s      | 1.97118                |</pre>"
      ],
      "text/plain": [
       "| 725     | 16m 40s      | 1.97118                |"
      ]
     },
     "metadata": {},
     "output_type": "display_data"
    },
    {
     "data": {
      "text/html": [
       "<pre>| 726     | 16m 41s      | 1.97117                |</pre>"
      ],
      "text/plain": [
       "| 726     | 16m 41s      | 1.97117                |"
      ]
     },
     "metadata": {},
     "output_type": "display_data"
    },
    {
     "data": {
      "text/html": [
       "<pre>| 727     | 16m 43s      | 1.97116                |</pre>"
      ],
      "text/plain": [
       "| 727     | 16m 43s      | 1.97116                |"
      ]
     },
     "metadata": {},
     "output_type": "display_data"
    },
    {
     "data": {
      "text/html": [
       "<pre>| 728     | 16m 44s      | 1.97115                |</pre>"
      ],
      "text/plain": [
       "| 728     | 16m 44s      | 1.97115                |"
      ]
     },
     "metadata": {},
     "output_type": "display_data"
    },
    {
     "data": {
      "text/html": [
       "<pre>| 729     | 16m 45s      | 1.97114                |</pre>"
      ],
      "text/plain": [
       "| 729     | 16m 45s      | 1.97114                |"
      ]
     },
     "metadata": {},
     "output_type": "display_data"
    },
    {
     "data": {
      "text/html": [
       "<pre>| 730     | 16m 47s      | 1.97113                |</pre>"
      ],
      "text/plain": [
       "| 730     | 16m 47s      | 1.97113                |"
      ]
     },
     "metadata": {},
     "output_type": "display_data"
    },
    {
     "data": {
      "text/html": [
       "<pre>| 731     | 16m 48s      | 1.97113                |</pre>"
      ],
      "text/plain": [
       "| 731     | 16m 48s      | 1.97113                |"
      ]
     },
     "metadata": {},
     "output_type": "display_data"
    },
    {
     "data": {
      "text/html": [
       "<pre>| 732     | 16m 50s      | 1.97112                |</pre>"
      ],
      "text/plain": [
       "| 732     | 16m 50s      | 1.97112                |"
      ]
     },
     "metadata": {},
     "output_type": "display_data"
    },
    {
     "data": {
      "text/html": [
       "<pre>| 733     | 16m 51s      | 1.97111                |</pre>"
      ],
      "text/plain": [
       "| 733     | 16m 51s      | 1.97111                |"
      ]
     },
     "metadata": {},
     "output_type": "display_data"
    },
    {
     "data": {
      "text/html": [
       "<pre>| 734     | 16m 52s      | 1.9711                 |</pre>"
      ],
      "text/plain": [
       "| 734     | 16m 52s      | 1.9711                 |"
      ]
     },
     "metadata": {},
     "output_type": "display_data"
    },
    {
     "data": {
      "text/html": [
       "<pre>| 735     | 16m 54s      | 1.97109                |</pre>"
      ],
      "text/plain": [
       "| 735     | 16m 54s      | 1.97109                |"
      ]
     },
     "metadata": {},
     "output_type": "display_data"
    },
    {
     "data": {
      "text/html": [
       "<pre>| 736     | 16m 56s      | 1.97108                |</pre>"
      ],
      "text/plain": [
       "| 736     | 16m 56s      | 1.97108                |"
      ]
     },
     "metadata": {},
     "output_type": "display_data"
    },
    {
     "data": {
      "text/html": [
       "<pre>| 737     | 16m 57s      | 1.97108                |</pre>"
      ],
      "text/plain": [
       "| 737     | 16m 57s      | 1.97108                |"
      ]
     },
     "metadata": {},
     "output_type": "display_data"
    },
    {
     "data": {
      "text/html": [
       "<pre>| 738     | 16m 59s      | 1.97107                |</pre>"
      ],
      "text/plain": [
       "| 738     | 16m 59s      | 1.97107                |"
      ]
     },
     "metadata": {},
     "output_type": "display_data"
    },
    {
     "data": {
      "text/html": [
       "<pre>| 739     | 17m 0s       | 1.97106                |</pre>"
      ],
      "text/plain": [
       "| 739     | 17m 0s       | 1.97106                |"
      ]
     },
     "metadata": {},
     "output_type": "display_data"
    },
    {
     "data": {
      "text/html": [
       "<pre>| 740     | 17m 2s       | 1.97105                |</pre>"
      ],
      "text/plain": [
       "| 740     | 17m 2s       | 1.97105                |"
      ]
     },
     "metadata": {},
     "output_type": "display_data"
    },
    {
     "data": {
      "text/html": [
       "<pre>| 741     | 17m 3s       | 1.97104                |</pre>"
      ],
      "text/plain": [
       "| 741     | 17m 3s       | 1.97104                |"
      ]
     },
     "metadata": {},
     "output_type": "display_data"
    },
    {
     "data": {
      "text/html": [
       "<pre>| 742     | 17m 5s       | 1.97103                |</pre>"
      ],
      "text/plain": [
       "| 742     | 17m 5s       | 1.97103                |"
      ]
     },
     "metadata": {},
     "output_type": "display_data"
    },
    {
     "data": {
      "text/html": [
       "<pre>| 743     | 17m 7s       | 1.97102                |</pre>"
      ],
      "text/plain": [
       "| 743     | 17m 7s       | 1.97102                |"
      ]
     },
     "metadata": {},
     "output_type": "display_data"
    },
    {
     "data": {
      "text/html": [
       "<pre>| 744     | 17m 8s       | 1.97101                |</pre>"
      ],
      "text/plain": [
       "| 744     | 17m 8s       | 1.97101                |"
      ]
     },
     "metadata": {},
     "output_type": "display_data"
    },
    {
     "data": {
      "text/html": [
       "<pre>| 745     | 17m 10s      | 1.971                  |</pre>"
      ],
      "text/plain": [
       "| 745     | 17m 10s      | 1.971                  |"
      ]
     },
     "metadata": {},
     "output_type": "display_data"
    },
    {
     "data": {
      "text/html": [
       "<pre>| 746     | 17m 12s      | 1.971                  |</pre>"
      ],
      "text/plain": [
       "| 746     | 17m 12s      | 1.971                  |"
      ]
     },
     "metadata": {},
     "output_type": "display_data"
    },
    {
     "data": {
      "text/html": [
       "<pre>| 747     | 17m 13s      | 1.97099                |</pre>"
      ],
      "text/plain": [
       "| 747     | 17m 13s      | 1.97099                |"
      ]
     },
     "metadata": {},
     "output_type": "display_data"
    },
    {
     "data": {
      "text/html": [
       "<pre>| 748     | 17m 15s      | 1.97098                |</pre>"
      ],
      "text/plain": [
       "| 748     | 17m 15s      | 1.97098                |"
      ]
     },
     "metadata": {},
     "output_type": "display_data"
    },
    {
     "data": {
      "text/html": [
       "<pre>| 749     | 17m 17s      | 1.97097                |</pre>"
      ],
      "text/plain": [
       "| 749     | 17m 17s      | 1.97097                |"
      ]
     },
     "metadata": {},
     "output_type": "display_data"
    },
    {
     "data": {
      "text/html": [
       "<pre>| 750     | 17m 19s      | 1.97096                |</pre>"
      ],
      "text/plain": [
       "| 750     | 17m 19s      | 1.97096                |"
      ]
     },
     "metadata": {},
     "output_type": "display_data"
    },
    {
     "data": {
      "text/html": [
       "<pre>| 751     | 17m 21s      | 1.97095                |</pre>"
      ],
      "text/plain": [
       "| 751     | 17m 21s      | 1.97095                |"
      ]
     },
     "metadata": {},
     "output_type": "display_data"
    },
    {
     "data": {
      "text/html": [
       "<pre>| 752     | 17m 22s      | 1.97094                |</pre>"
      ],
      "text/plain": [
       "| 752     | 17m 22s      | 1.97094                |"
      ]
     },
     "metadata": {},
     "output_type": "display_data"
    },
    {
     "data": {
      "text/html": [
       "<pre>| 753     | 17m 24s      | 1.97094                |</pre>"
      ],
      "text/plain": [
       "| 753     | 17m 24s      | 1.97094                |"
      ]
     },
     "metadata": {},
     "output_type": "display_data"
    },
    {
     "data": {
      "text/html": [
       "<pre>| 754     | 17m 26s      | 1.97093                |</pre>"
      ],
      "text/plain": [
       "| 754     | 17m 26s      | 1.97093                |"
      ]
     },
     "metadata": {},
     "output_type": "display_data"
    },
    {
     "data": {
      "text/html": [
       "<pre>| 755     | 17m 27s      | 1.97092                |</pre>"
      ],
      "text/plain": [
       "| 755     | 17m 27s      | 1.97092                |"
      ]
     },
     "metadata": {},
     "output_type": "display_data"
    },
    {
     "data": {
      "text/html": [
       "<pre>| 756     | 17m 29s      | 1.97091                |</pre>"
      ],
      "text/plain": [
       "| 756     | 17m 29s      | 1.97091                |"
      ]
     },
     "metadata": {},
     "output_type": "display_data"
    },
    {
     "data": {
      "text/html": [
       "<pre>| 757     | 17m 31s      | 1.9709                 |</pre>"
      ],
      "text/plain": [
       "| 757     | 17m 31s      | 1.9709                 |"
      ]
     },
     "metadata": {},
     "output_type": "display_data"
    },
    {
     "data": {
      "text/html": [
       "<pre>| 758     | 17m 32s      | 1.97089                |</pre>"
      ],
      "text/plain": [
       "| 758     | 17m 32s      | 1.97089                |"
      ]
     },
     "metadata": {},
     "output_type": "display_data"
    },
    {
     "data": {
      "text/html": [
       "<pre>| 759     | 17m 34s      | 1.97088                |</pre>"
      ],
      "text/plain": [
       "| 759     | 17m 34s      | 1.97088                |"
      ]
     },
     "metadata": {},
     "output_type": "display_data"
    },
    {
     "data": {
      "text/html": [
       "<pre>| 760     | 17m 35s      | 1.97088                |</pre>"
      ],
      "text/plain": [
       "| 760     | 17m 35s      | 1.97088                |"
      ]
     },
     "metadata": {},
     "output_type": "display_data"
    },
    {
     "data": {
      "text/html": [
       "<pre>| 761     | 17m 37s      | 1.97087                |</pre>"
      ],
      "text/plain": [
       "| 761     | 17m 37s      | 1.97087                |"
      ]
     },
     "metadata": {},
     "output_type": "display_data"
    },
    {
     "data": {
      "text/html": [
       "<pre>| 762     | 17m 38s      | 1.97086                |</pre>"
      ],
      "text/plain": [
       "| 762     | 17m 38s      | 1.97086                |"
      ]
     },
     "metadata": {},
     "output_type": "display_data"
    },
    {
     "data": {
      "text/html": [
       "<pre>| 763     | 17m 40s      | 1.97085                |</pre>"
      ],
      "text/plain": [
       "| 763     | 17m 40s      | 1.97085                |"
      ]
     },
     "metadata": {},
     "output_type": "display_data"
    },
    {
     "data": {
      "text/html": [
       "<pre>| 764     | 17m 41s      | 1.97084                |</pre>"
      ],
      "text/plain": [
       "| 764     | 17m 41s      | 1.97084                |"
      ]
     },
     "metadata": {},
     "output_type": "display_data"
    },
    {
     "data": {
      "text/html": [
       "<pre>| 765     | 17m 43s      | 1.97083                |</pre>"
      ],
      "text/plain": [
       "| 765     | 17m 43s      | 1.97083                |"
      ]
     },
     "metadata": {},
     "output_type": "display_data"
    },
    {
     "data": {
      "text/html": [
       "<pre>| 766     | 17m 45s      | 1.97082                |</pre>"
      ],
      "text/plain": [
       "| 766     | 17m 45s      | 1.97082                |"
      ]
     },
     "metadata": {},
     "output_type": "display_data"
    },
    {
     "data": {
      "text/html": [
       "<pre>| 767     | 17m 46s      | 1.97082                |</pre>"
      ],
      "text/plain": [
       "| 767     | 17m 46s      | 1.97082                |"
      ]
     },
     "metadata": {},
     "output_type": "display_data"
    },
    {
     "data": {
      "text/html": [
       "<pre>| 768     | 17m 48s      | 1.97081                |</pre>"
      ],
      "text/plain": [
       "| 768     | 17m 48s      | 1.97081                |"
      ]
     },
     "metadata": {},
     "output_type": "display_data"
    },
    {
     "data": {
      "text/html": [
       "<pre>| 769     | 17m 50s      | 1.9708                 |</pre>"
      ],
      "text/plain": [
       "| 769     | 17m 50s      | 1.9708                 |"
      ]
     },
     "metadata": {},
     "output_type": "display_data"
    },
    {
     "data": {
      "text/html": [
       "<pre>| 770     | 17m 51s      | 1.97079                |</pre>"
      ],
      "text/plain": [
       "| 770     | 17m 51s      | 1.97079                |"
      ]
     },
     "metadata": {},
     "output_type": "display_data"
    },
    {
     "data": {
      "text/html": [
       "<pre>| 771     | 17m 53s      | 1.97078                |</pre>"
      ],
      "text/plain": [
       "| 771     | 17m 53s      | 1.97078                |"
      ]
     },
     "metadata": {},
     "output_type": "display_data"
    },
    {
     "data": {
      "text/html": [
       "<pre>| 772     | 17m 54s      | 1.97077                |</pre>"
      ],
      "text/plain": [
       "| 772     | 17m 54s      | 1.97077                |"
      ]
     },
     "metadata": {},
     "output_type": "display_data"
    },
    {
     "data": {
      "text/html": [
       "<pre>| 773     | 17m 55s      | 1.97076                |</pre>"
      ],
      "text/plain": [
       "| 773     | 17m 55s      | 1.97076                |"
      ]
     },
     "metadata": {},
     "output_type": "display_data"
    },
    {
     "data": {
      "text/html": [
       "<pre>| 774     | 17m 57s      | 1.97076                |</pre>"
      ],
      "text/plain": [
       "| 774     | 17m 57s      | 1.97076                |"
      ]
     },
     "metadata": {},
     "output_type": "display_data"
    },
    {
     "data": {
      "text/html": [
       "<pre>| 775     | 17m 59s      | 1.97075                |</pre>"
      ],
      "text/plain": [
       "| 775     | 17m 59s      | 1.97075                |"
      ]
     },
     "metadata": {},
     "output_type": "display_data"
    },
    {
     "data": {
      "text/html": [
       "<pre>| 776     | 18m 0s       | 1.97074                |</pre>"
      ],
      "text/plain": [
       "| 776     | 18m 0s       | 1.97074                |"
      ]
     },
     "metadata": {},
     "output_type": "display_data"
    },
    {
     "data": {
      "text/html": [
       "<pre>| 777     | 18m 2s       | 1.97073                |</pre>"
      ],
      "text/plain": [
       "| 777     | 18m 2s       | 1.97073                |"
      ]
     },
     "metadata": {},
     "output_type": "display_data"
    },
    {
     "data": {
      "text/html": [
       "<pre>| 778     | 18m 3s       | 1.97072                |</pre>"
      ],
      "text/plain": [
       "| 778     | 18m 3s       | 1.97072                |"
      ]
     },
     "metadata": {},
     "output_type": "display_data"
    },
    {
     "data": {
      "text/html": [
       "<pre>| 779     | 18m 4s       | 1.97071                |</pre>"
      ],
      "text/plain": [
       "| 779     | 18m 4s       | 1.97071                |"
      ]
     },
     "metadata": {},
     "output_type": "display_data"
    },
    {
     "data": {
      "text/html": [
       "<pre>| 780     | 18m 6s       | 1.9707                 |</pre>"
      ],
      "text/plain": [
       "| 780     | 18m 6s       | 1.9707                 |"
      ]
     },
     "metadata": {},
     "output_type": "display_data"
    },
    {
     "data": {
      "text/html": [
       "<pre>| 781     | 18m 7s       | 1.9707                 |</pre>"
      ],
      "text/plain": [
       "| 781     | 18m 7s       | 1.9707                 |"
      ]
     },
     "metadata": {},
     "output_type": "display_data"
    },
    {
     "data": {
      "text/html": [
       "<pre>| 782     | 18m 9s       | 1.97069                |</pre>"
      ],
      "text/plain": [
       "| 782     | 18m 9s       | 1.97069                |"
      ]
     },
     "metadata": {},
     "output_type": "display_data"
    },
    {
     "data": {
      "text/html": [
       "<pre>| 783     | 18m 10s      | 1.97068                |</pre>"
      ],
      "text/plain": [
       "| 783     | 18m 10s      | 1.97068                |"
      ]
     },
     "metadata": {},
     "output_type": "display_data"
    },
    {
     "data": {
      "text/html": [
       "<pre>| 784     | 18m 11s      | 1.97067                |</pre>"
      ],
      "text/plain": [
       "| 784     | 18m 11s      | 1.97067                |"
      ]
     },
     "metadata": {},
     "output_type": "display_data"
    },
    {
     "data": {
      "text/html": [
       "<pre>| 785     | 18m 12s      | 1.97066                |</pre>"
      ],
      "text/plain": [
       "| 785     | 18m 12s      | 1.97066                |"
      ]
     },
     "metadata": {},
     "output_type": "display_data"
    },
    {
     "data": {
      "text/html": [
       "<pre>| 786     | 18m 14s      | 1.97065                |</pre>"
      ],
      "text/plain": [
       "| 786     | 18m 14s      | 1.97065                |"
      ]
     },
     "metadata": {},
     "output_type": "display_data"
    },
    {
     "data": {
      "text/html": [
       "<pre>| 787     | 18m 15s      | 1.97065                |</pre>"
      ],
      "text/plain": [
       "| 787     | 18m 15s      | 1.97065                |"
      ]
     },
     "metadata": {},
     "output_type": "display_data"
    },
    {
     "data": {
      "text/html": [
       "<pre>| 788     | 18m 16s      | 1.97064                |</pre>"
      ],
      "text/plain": [
       "| 788     | 18m 16s      | 1.97064                |"
      ]
     },
     "metadata": {},
     "output_type": "display_data"
    },
    {
     "data": {
      "text/html": [
       "<pre>| 789     | 18m 17s      | 1.97063                |</pre>"
      ],
      "text/plain": [
       "| 789     | 18m 17s      | 1.97063                |"
      ]
     },
     "metadata": {},
     "output_type": "display_data"
    },
    {
     "data": {
      "text/html": [
       "<pre>| 790     | 18m 19s      | 1.97062                |</pre>"
      ],
      "text/plain": [
       "| 790     | 18m 19s      | 1.97062                |"
      ]
     },
     "metadata": {},
     "output_type": "display_data"
    },
    {
     "data": {
      "text/html": [
       "<pre>| 791     | 18m 20s      | 1.97061                |</pre>"
      ],
      "text/plain": [
       "| 791     | 18m 20s      | 1.97061                |"
      ]
     },
     "metadata": {},
     "output_type": "display_data"
    },
    {
     "data": {
      "text/html": [
       "<pre>| 792     | 18m 22s      | 1.9706                 |</pre>"
      ],
      "text/plain": [
       "| 792     | 18m 22s      | 1.9706                 |"
      ]
     },
     "metadata": {},
     "output_type": "display_data"
    },
    {
     "data": {
      "text/html": [
       "<pre>| 793     | 18m 23s      | 1.9706                 |</pre>"
      ],
      "text/plain": [
       "| 793     | 18m 23s      | 1.9706                 |"
      ]
     },
     "metadata": {},
     "output_type": "display_data"
    },
    {
     "data": {
      "text/html": [
       "<pre>| 794     | 18m 24s      | 1.97059                |</pre>"
      ],
      "text/plain": [
       "| 794     | 18m 24s      | 1.97059                |"
      ]
     },
     "metadata": {},
     "output_type": "display_data"
    },
    {
     "data": {
      "text/html": [
       "<pre>| 795     | 18m 26s      | 1.97058                |</pre>"
      ],
      "text/plain": [
       "| 795     | 18m 26s      | 1.97058                |"
      ]
     },
     "metadata": {},
     "output_type": "display_data"
    },
    {
     "data": {
      "text/html": [
       "<pre>| 796     | 18m 27s      | 1.97057                |</pre>"
      ],
      "text/plain": [
       "| 796     | 18m 27s      | 1.97057                |"
      ]
     },
     "metadata": {},
     "output_type": "display_data"
    },
    {
     "data": {
      "text/html": [
       "<pre>| 797     | 18m 28s      | 1.97056                |</pre>"
      ],
      "text/plain": [
       "| 797     | 18m 28s      | 1.97056                |"
      ]
     },
     "metadata": {},
     "output_type": "display_data"
    },
    {
     "data": {
      "text/html": [
       "<pre>| 798     | 18m 30s      | 1.97056                |</pre>"
      ],
      "text/plain": [
       "| 798     | 18m 30s      | 1.97056                |"
      ]
     },
     "metadata": {},
     "output_type": "display_data"
    },
    {
     "data": {
      "text/html": [
       "<pre>| 799     | 18m 31s      | 1.97055                |</pre>"
      ],
      "text/plain": [
       "| 799     | 18m 31s      | 1.97055                |"
      ]
     },
     "metadata": {},
     "output_type": "display_data"
    },
    {
     "data": {
      "text/html": [
       "<pre>| 800     | 18m 32s      | 1.97054                |</pre>"
      ],
      "text/plain": [
       "| 800     | 18m 32s      | 1.97054                |"
      ]
     },
     "metadata": {},
     "output_type": "display_data"
    },
    {
     "data": {
      "text/html": [
       "<pre>| 801     | 18m 34s      | 1.97053                |</pre>"
      ],
      "text/plain": [
       "| 801     | 18m 34s      | 1.97053                |"
      ]
     },
     "metadata": {},
     "output_type": "display_data"
    },
    {
     "data": {
      "text/html": [
       "<pre>| 802     | 18m 35s      | 1.97052                |</pre>"
      ],
      "text/plain": [
       "| 802     | 18m 35s      | 1.97052                |"
      ]
     },
     "metadata": {},
     "output_type": "display_data"
    },
    {
     "data": {
      "text/html": [
       "<pre>| 803     | 18m 36s      | 1.97051                |</pre>"
      ],
      "text/plain": [
       "| 803     | 18m 36s      | 1.97051                |"
      ]
     },
     "metadata": {},
     "output_type": "display_data"
    },
    {
     "data": {
      "text/html": [
       "<pre>| 804     | 18m 38s      | 1.97051                |</pre>"
      ],
      "text/plain": [
       "| 804     | 18m 38s      | 1.97051                |"
      ]
     },
     "metadata": {},
     "output_type": "display_data"
    },
    {
     "data": {
      "text/html": [
       "<pre>| 805     | 18m 40s      | 1.9705                 |</pre>"
      ],
      "text/plain": [
       "| 805     | 18m 40s      | 1.9705                 |"
      ]
     },
     "metadata": {},
     "output_type": "display_data"
    },
    {
     "data": {
      "text/html": [
       "<pre>| 806     | 18m 41s      | 1.97049                |</pre>"
      ],
      "text/plain": [
       "| 806     | 18m 41s      | 1.97049                |"
      ]
     },
     "metadata": {},
     "output_type": "display_data"
    },
    {
     "data": {
      "text/html": [
       "<pre>| 807     | 18m 42s      | 1.97048                |</pre>"
      ],
      "text/plain": [
       "| 807     | 18m 42s      | 1.97048                |"
      ]
     },
     "metadata": {},
     "output_type": "display_data"
    },
    {
     "data": {
      "text/html": [
       "<pre>| 808     | 18m 44s      | 1.97047                |</pre>"
      ],
      "text/plain": [
       "| 808     | 18m 44s      | 1.97047                |"
      ]
     },
     "metadata": {},
     "output_type": "display_data"
    },
    {
     "data": {
      "text/html": [
       "<pre>| 809     | 18m 45s      | 1.97047                |</pre>"
      ],
      "text/plain": [
       "| 809     | 18m 45s      | 1.97047                |"
      ]
     },
     "metadata": {},
     "output_type": "display_data"
    },
    {
     "data": {
      "text/html": [
       "<pre>| 810     | 18m 46s      | 1.97046                |</pre>"
      ],
      "text/plain": [
       "| 810     | 18m 46s      | 1.97046                |"
      ]
     },
     "metadata": {},
     "output_type": "display_data"
    },
    {
     "data": {
      "text/html": [
       "<pre>| 811     | 18m 48s      | 1.97045                |</pre>"
      ],
      "text/plain": [
       "| 811     | 18m 48s      | 1.97045                |"
      ]
     },
     "metadata": {},
     "output_type": "display_data"
    },
    {
     "data": {
      "text/html": [
       "<pre>| 812     | 18m 49s      | 1.97044                |</pre>"
      ],
      "text/plain": [
       "| 812     | 18m 49s      | 1.97044                |"
      ]
     },
     "metadata": {},
     "output_type": "display_data"
    },
    {
     "data": {
      "text/html": [
       "<pre>| 813     | 18m 51s      | 1.97043                |</pre>"
      ],
      "text/plain": [
       "| 813     | 18m 51s      | 1.97043                |"
      ]
     },
     "metadata": {},
     "output_type": "display_data"
    },
    {
     "data": {
      "text/html": [
       "<pre>| 814     | 18m 52s      | 1.97042                |</pre>"
      ],
      "text/plain": [
       "| 814     | 18m 52s      | 1.97042                |"
      ]
     },
     "metadata": {},
     "output_type": "display_data"
    },
    {
     "data": {
      "text/html": [
       "<pre>| 815     | 18m 54s      | 1.97042                |</pre>"
      ],
      "text/plain": [
       "| 815     | 18m 54s      | 1.97042                |"
      ]
     },
     "metadata": {},
     "output_type": "display_data"
    },
    {
     "data": {
      "text/html": [
       "<pre>| 816     | 18m 55s      | 1.97041                |</pre>"
      ],
      "text/plain": [
       "| 816     | 18m 55s      | 1.97041                |"
      ]
     },
     "metadata": {},
     "output_type": "display_data"
    },
    {
     "data": {
      "text/html": [
       "<pre>| 817     | 18m 56s      | 1.9704                 |</pre>"
      ],
      "text/plain": [
       "| 817     | 18m 56s      | 1.9704                 |"
      ]
     },
     "metadata": {},
     "output_type": "display_data"
    },
    {
     "data": {
      "text/html": [
       "<pre>| 818     | 18m 57s      | 1.97039                |</pre>"
      ],
      "text/plain": [
       "| 818     | 18m 57s      | 1.97039                |"
      ]
     },
     "metadata": {},
     "output_type": "display_data"
    },
    {
     "data": {
      "text/html": [
       "<pre>| 819     | 18m 59s      | 1.97038                |</pre>"
      ],
      "text/plain": [
       "| 819     | 18m 59s      | 1.97038                |"
      ]
     },
     "metadata": {},
     "output_type": "display_data"
    },
    {
     "data": {
      "text/html": [
       "<pre>| 820     | 19m 0s       | 1.97037                |</pre>"
      ],
      "text/plain": [
       "| 820     | 19m 0s       | 1.97037                |"
      ]
     },
     "metadata": {},
     "output_type": "display_data"
    },
    {
     "data": {
      "text/html": [
       "<pre>| 821     | 19m 1s       | 1.97036                |</pre>"
      ],
      "text/plain": [
       "| 821     | 19m 1s       | 1.97036                |"
      ]
     },
     "metadata": {},
     "output_type": "display_data"
    },
    {
     "data": {
      "text/html": [
       "<pre>| 822     | 19m 3s       | 1.97035                |</pre>"
      ],
      "text/plain": [
       "| 822     | 19m 3s       | 1.97035                |"
      ]
     },
     "metadata": {},
     "output_type": "display_data"
    },
    {
     "data": {
      "text/html": [
       "<pre>| 823     | 19m 5s       | 1.97035                |</pre>"
      ],
      "text/plain": [
       "| 823     | 19m 5s       | 1.97035                |"
      ]
     },
     "metadata": {},
     "output_type": "display_data"
    },
    {
     "data": {
      "text/html": [
       "<pre>| 824     | 19m 6s       | 1.97034                |</pre>"
      ],
      "text/plain": [
       "| 824     | 19m 6s       | 1.97034                |"
      ]
     },
     "metadata": {},
     "output_type": "display_data"
    },
    {
     "data": {
      "text/html": [
       "<pre>| 825     | 19m 8s       | 1.97033                |</pre>"
      ],
      "text/plain": [
       "| 825     | 19m 8s       | 1.97033                |"
      ]
     },
     "metadata": {},
     "output_type": "display_data"
    },
    {
     "data": {
      "text/html": [
       "<pre>| 826     | 19m 9s       | 1.97032                |</pre>"
      ],
      "text/plain": [
       "| 826     | 19m 9s       | 1.97032                |"
      ]
     },
     "metadata": {},
     "output_type": "display_data"
    },
    {
     "data": {
      "text/html": [
       "<pre>| 827     | 19m 10s      | 1.97031                |</pre>"
      ],
      "text/plain": [
       "| 827     | 19m 10s      | 1.97031                |"
      ]
     },
     "metadata": {},
     "output_type": "display_data"
    },
    {
     "data": {
      "text/html": [
       "<pre>| 828     | 19m 12s      | 1.9703                 |</pre>"
      ],
      "text/plain": [
       "| 828     | 19m 12s      | 1.9703                 |"
      ]
     },
     "metadata": {},
     "output_type": "display_data"
    },
    {
     "data": {
      "text/html": [
       "<pre>| 829     | 19m 13s      | 1.97029                |</pre>"
      ],
      "text/plain": [
       "| 829     | 19m 13s      | 1.97029                |"
      ]
     },
     "metadata": {},
     "output_type": "display_data"
    },
    {
     "data": {
      "text/html": [
       "<pre>| 830     | 19m 15s      | 1.97028                |</pre>"
      ],
      "text/plain": [
       "| 830     | 19m 15s      | 1.97028                |"
      ]
     },
     "metadata": {},
     "output_type": "display_data"
    },
    {
     "data": {
      "text/html": [
       "<pre>| 831     | 19m 16s      | 1.97028                |</pre>"
      ],
      "text/plain": [
       "| 831     | 19m 16s      | 1.97028                |"
      ]
     },
     "metadata": {},
     "output_type": "display_data"
    },
    {
     "data": {
      "text/html": [
       "<pre>| 832     | 19m 18s      | 1.97027                |</pre>"
      ],
      "text/plain": [
       "| 832     | 19m 18s      | 1.97027                |"
      ]
     },
     "metadata": {},
     "output_type": "display_data"
    },
    {
     "data": {
      "text/html": [
       "<pre>| 833     | 19m 20s      | 1.97026                |</pre>"
      ],
      "text/plain": [
       "| 833     | 19m 20s      | 1.97026                |"
      ]
     },
     "metadata": {},
     "output_type": "display_data"
    },
    {
     "data": {
      "text/html": [
       "<pre>| 834     | 19m 22s      | 1.97025                |</pre>"
      ],
      "text/plain": [
       "| 834     | 19m 22s      | 1.97025                |"
      ]
     },
     "metadata": {},
     "output_type": "display_data"
    },
    {
     "data": {
      "text/html": [
       "<pre>| 835     | 19m 23s      | 1.97024                |</pre>"
      ],
      "text/plain": [
       "| 835     | 19m 23s      | 1.97024                |"
      ]
     },
     "metadata": {},
     "output_type": "display_data"
    },
    {
     "data": {
      "text/html": [
       "<pre>| 836     | 19m 25s      | 1.97023                |</pre>"
      ],
      "text/plain": [
       "| 836     | 19m 25s      | 1.97023                |"
      ]
     },
     "metadata": {},
     "output_type": "display_data"
    },
    {
     "data": {
      "text/html": [
       "<pre>| 837     | 19m 27s      | 1.97022                |</pre>"
      ],
      "text/plain": [
       "| 837     | 19m 27s      | 1.97022                |"
      ]
     },
     "metadata": {},
     "output_type": "display_data"
    },
    {
     "data": {
      "text/html": [
       "<pre>| 838     | 19m 29s      | 1.97021                |</pre>"
      ],
      "text/plain": [
       "| 838     | 19m 29s      | 1.97021                |"
      ]
     },
     "metadata": {},
     "output_type": "display_data"
    },
    {
     "data": {
      "text/html": [
       "<pre>| 839     | 19m 30s      | 1.9702                 |</pre>"
      ],
      "text/plain": [
       "| 839     | 19m 30s      | 1.9702                 |"
      ]
     },
     "metadata": {},
     "output_type": "display_data"
    },
    {
     "data": {
      "text/html": [
       "<pre>| 840     | 19m 32s      | 1.97019                |</pre>"
      ],
      "text/plain": [
       "| 840     | 19m 32s      | 1.97019                |"
      ]
     },
     "metadata": {},
     "output_type": "display_data"
    },
    {
     "data": {
      "text/html": [
       "<pre>| 841     | 19m 33s      | 1.97018                |</pre>"
      ],
      "text/plain": [
       "| 841     | 19m 33s      | 1.97018                |"
      ]
     },
     "metadata": {},
     "output_type": "display_data"
    },
    {
     "data": {
      "text/html": [
       "<pre>| 842     | 19m 35s      | 1.97017                |</pre>"
      ],
      "text/plain": [
       "| 842     | 19m 35s      | 1.97017                |"
      ]
     },
     "metadata": {},
     "output_type": "display_data"
    },
    {
     "data": {
      "text/html": [
       "<pre>| 843     | 19m 36s      | 1.97016                |</pre>"
      ],
      "text/plain": [
       "| 843     | 19m 36s      | 1.97016                |"
      ]
     },
     "metadata": {},
     "output_type": "display_data"
    },
    {
     "data": {
      "text/html": [
       "<pre>| 844     | 19m 38s      | 1.97015                |</pre>"
      ],
      "text/plain": [
       "| 844     | 19m 38s      | 1.97015                |"
      ]
     },
     "metadata": {},
     "output_type": "display_data"
    },
    {
     "data": {
      "text/html": [
       "<pre>| 845     | 19m 40s      | 1.97014                |</pre>"
      ],
      "text/plain": [
       "| 845     | 19m 40s      | 1.97014                |"
      ]
     },
     "metadata": {},
     "output_type": "display_data"
    },
    {
     "data": {
      "text/html": [
       "<pre>| 846     | 19m 41s      | 1.97014                |</pre>"
      ],
      "text/plain": [
       "| 846     | 19m 41s      | 1.97014                |"
      ]
     },
     "metadata": {},
     "output_type": "display_data"
    },
    {
     "data": {
      "text/html": [
       "<pre>| 847     | 19m 42s      | 1.97013                |</pre>"
      ],
      "text/plain": [
       "| 847     | 19m 42s      | 1.97013                |"
      ]
     },
     "metadata": {},
     "output_type": "display_data"
    },
    {
     "data": {
      "text/html": [
       "<pre>| 848     | 19m 44s      | 1.97012                |</pre>"
      ],
      "text/plain": [
       "| 848     | 19m 44s      | 1.97012                |"
      ]
     },
     "metadata": {},
     "output_type": "display_data"
    },
    {
     "data": {
      "text/html": [
       "<pre>| 849     | 19m 45s      | 1.97011                |</pre>"
      ],
      "text/plain": [
       "| 849     | 19m 45s      | 1.97011                |"
      ]
     },
     "metadata": {},
     "output_type": "display_data"
    },
    {
     "data": {
      "text/html": [
       "<pre>| 850     | 19m 47s      | 1.9701                 |</pre>"
      ],
      "text/plain": [
       "| 850     | 19m 47s      | 1.9701                 |"
      ]
     },
     "metadata": {},
     "output_type": "display_data"
    },
    {
     "data": {
      "text/html": [
       "<pre>| 851     | 19m 48s      | 1.97009                |</pre>"
      ],
      "text/plain": [
       "| 851     | 19m 48s      | 1.97009                |"
      ]
     },
     "metadata": {},
     "output_type": "display_data"
    },
    {
     "data": {
      "text/html": [
       "<pre>| 852     | 19m 49s      | 1.97008                |</pre>"
      ],
      "text/plain": [
       "| 852     | 19m 49s      | 1.97008                |"
      ]
     },
     "metadata": {},
     "output_type": "display_data"
    },
    {
     "data": {
      "text/html": [
       "<pre>| 853     | 19m 51s      | 1.97007                |</pre>"
      ],
      "text/plain": [
       "| 853     | 19m 51s      | 1.97007                |"
      ]
     },
     "metadata": {},
     "output_type": "display_data"
    },
    {
     "data": {
      "text/html": [
       "<pre>| 854     | 19m 52s      | 1.97006                |</pre>"
      ],
      "text/plain": [
       "| 854     | 19m 52s      | 1.97006                |"
      ]
     },
     "metadata": {},
     "output_type": "display_data"
    },
    {
     "data": {
      "text/html": [
       "<pre>| 855     | 19m 54s      | 1.97005                |</pre>"
      ],
      "text/plain": [
       "| 855     | 19m 54s      | 1.97005                |"
      ]
     },
     "metadata": {},
     "output_type": "display_data"
    },
    {
     "data": {
      "text/html": [
       "<pre>| 856     | 19m 55s      | 1.97005                |</pre>"
      ],
      "text/plain": [
       "| 856     | 19m 55s      | 1.97005                |"
      ]
     },
     "metadata": {},
     "output_type": "display_data"
    },
    {
     "data": {
      "text/html": [
       "<pre>| 857     | 19m 57s      | 1.97004                |</pre>"
      ],
      "text/plain": [
       "| 857     | 19m 57s      | 1.97004                |"
      ]
     },
     "metadata": {},
     "output_type": "display_data"
    },
    {
     "data": {
      "text/html": [
       "<pre>| 858     | 19m 58s      | 1.97003                |</pre>"
      ],
      "text/plain": [
       "| 858     | 19m 58s      | 1.97003                |"
      ]
     },
     "metadata": {},
     "output_type": "display_data"
    },
    {
     "data": {
      "text/html": [
       "<pre>| 859     | 19m 59s      | 1.97002                |</pre>"
      ],
      "text/plain": [
       "| 859     | 19m 59s      | 1.97002                |"
      ]
     },
     "metadata": {},
     "output_type": "display_data"
    },
    {
     "data": {
      "text/html": [
       "<pre>| 860     | 20m 1s       | 1.97001                |</pre>"
      ],
      "text/plain": [
       "| 860     | 20m 1s       | 1.97001                |"
      ]
     },
     "metadata": {},
     "output_type": "display_data"
    },
    {
     "data": {
      "text/html": [
       "<pre>| 861     | 20m 3s       | 1.97                   |</pre>"
      ],
      "text/plain": [
       "| 861     | 20m 3s       | 1.97                   |"
      ]
     },
     "metadata": {},
     "output_type": "display_data"
    },
    {
     "data": {
      "text/html": [
       "<pre>| 862     | 20m 5s       | 1.96999                |</pre>"
      ],
      "text/plain": [
       "| 862     | 20m 5s       | 1.96999                |"
      ]
     },
     "metadata": {},
     "output_type": "display_data"
    },
    {
     "data": {
      "text/html": [
       "<pre>| 863     | 20m 7s       | 1.96999                |</pre>"
      ],
      "text/plain": [
       "| 863     | 20m 7s       | 1.96999                |"
      ]
     },
     "metadata": {},
     "output_type": "display_data"
    },
    {
     "data": {
      "text/html": [
       "<pre>| 864     | 20m 8s       | 1.96998                |</pre>"
      ],
      "text/plain": [
       "| 864     | 20m 8s       | 1.96998                |"
      ]
     },
     "metadata": {},
     "output_type": "display_data"
    },
    {
     "data": {
      "text/html": [
       "<pre>| 865     | 20m 10s      | 1.96997                |</pre>"
      ],
      "text/plain": [
       "| 865     | 20m 10s      | 1.96997                |"
      ]
     },
     "metadata": {},
     "output_type": "display_data"
    },
    {
     "data": {
      "text/html": [
       "<pre>| 866     | 20m 12s      | 1.96996                |</pre>"
      ],
      "text/plain": [
       "| 866     | 20m 12s      | 1.96996                |"
      ]
     },
     "metadata": {},
     "output_type": "display_data"
    },
    {
     "data": {
      "text/html": [
       "<pre>| 867     | 20m 13s      | 1.96995                |</pre>"
      ],
      "text/plain": [
       "| 867     | 20m 13s      | 1.96995                |"
      ]
     },
     "metadata": {},
     "output_type": "display_data"
    },
    {
     "data": {
      "text/html": [
       "<pre>| 868     | 20m 15s      | 1.96994                |</pre>"
      ],
      "text/plain": [
       "| 868     | 20m 15s      | 1.96994                |"
      ]
     },
     "metadata": {},
     "output_type": "display_data"
    },
    {
     "data": {
      "text/html": [
       "<pre>| 869     | 20m 17s      | 1.96994                |</pre>"
      ],
      "text/plain": [
       "| 869     | 20m 17s      | 1.96994                |"
      ]
     },
     "metadata": {},
     "output_type": "display_data"
    },
    {
     "data": {
      "text/html": [
       "<pre>| 870     | 20m 19s      | 1.96993                |</pre>"
      ],
      "text/plain": [
       "| 870     | 20m 19s      | 1.96993                |"
      ]
     },
     "metadata": {},
     "output_type": "display_data"
    },
    {
     "data": {
      "text/html": [
       "<pre>| 871     | 20m 21s      | 1.96992                |</pre>"
      ],
      "text/plain": [
       "| 871     | 20m 21s      | 1.96992                |"
      ]
     },
     "metadata": {},
     "output_type": "display_data"
    },
    {
     "data": {
      "text/html": [
       "<pre>| 872     | 20m 23s      | 1.96991                |</pre>"
      ],
      "text/plain": [
       "| 872     | 20m 23s      | 1.96991                |"
      ]
     },
     "metadata": {},
     "output_type": "display_data"
    },
    {
     "data": {
      "text/html": [
       "<pre>| 873     | 20m 24s      | 1.9699                 |</pre>"
      ],
      "text/plain": [
       "| 873     | 20m 24s      | 1.9699                 |"
      ]
     },
     "metadata": {},
     "output_type": "display_data"
    },
    {
     "data": {
      "text/html": [
       "<pre>| 874     | 20m 26s      | 1.9699                 |</pre>"
      ],
      "text/plain": [
       "| 874     | 20m 26s      | 1.9699                 |"
      ]
     },
     "metadata": {},
     "output_type": "display_data"
    },
    {
     "data": {
      "text/html": [
       "<pre>| 875     | 20m 27s      | 1.96989                |</pre>"
      ],
      "text/plain": [
       "| 875     | 20m 27s      | 1.96989                |"
      ]
     },
     "metadata": {},
     "output_type": "display_data"
    },
    {
     "data": {
      "text/html": [
       "<pre>| 876     | 20m 28s      | 1.96988                |</pre>"
      ],
      "text/plain": [
       "| 876     | 20m 28s      | 1.96988                |"
      ]
     },
     "metadata": {},
     "output_type": "display_data"
    },
    {
     "data": {
      "text/html": [
       "<pre>| 877     | 20m 30s      | 1.96987                |</pre>"
      ],
      "text/plain": [
       "| 877     | 20m 30s      | 1.96987                |"
      ]
     },
     "metadata": {},
     "output_type": "display_data"
    },
    {
     "data": {
      "text/html": [
       "<pre>| 878     | 20m 31s      | 1.96986                |</pre>"
      ],
      "text/plain": [
       "| 878     | 20m 31s      | 1.96986                |"
      ]
     },
     "metadata": {},
     "output_type": "display_data"
    },
    {
     "data": {
      "text/html": [
       "<pre>| 879     | 20m 33s      | 1.96986                |</pre>"
      ],
      "text/plain": [
       "| 879     | 20m 33s      | 1.96986                |"
      ]
     },
     "metadata": {},
     "output_type": "display_data"
    },
    {
     "data": {
      "text/html": [
       "<pre>| 880     | 20m 34s      | 1.96985                |</pre>"
      ],
      "text/plain": [
       "| 880     | 20m 34s      | 1.96985                |"
      ]
     },
     "metadata": {},
     "output_type": "display_data"
    },
    {
     "data": {
      "text/html": [
       "<pre>| 881     | 20m 35s      | 1.96984                |</pre>"
      ],
      "text/plain": [
       "| 881     | 20m 35s      | 1.96984                |"
      ]
     },
     "metadata": {},
     "output_type": "display_data"
    },
    {
     "data": {
      "text/html": [
       "<pre>| 882     | 20m 37s      | 1.96983                |</pre>"
      ],
      "text/plain": [
       "| 882     | 20m 37s      | 1.96983                |"
      ]
     },
     "metadata": {},
     "output_type": "display_data"
    },
    {
     "data": {
      "text/html": [
       "<pre>| 883     | 20m 38s      | 1.96983                |</pre>"
      ],
      "text/plain": [
       "| 883     | 20m 38s      | 1.96983                |"
      ]
     },
     "metadata": {},
     "output_type": "display_data"
    },
    {
     "data": {
      "text/html": [
       "<pre>| 884     | 20m 40s      | 1.96982                |</pre>"
      ],
      "text/plain": [
       "| 884     | 20m 40s      | 1.96982                |"
      ]
     },
     "metadata": {},
     "output_type": "display_data"
    },
    {
     "data": {
      "text/html": [
       "<pre>| 885     | 20m 41s      | 1.96981                |</pre>"
      ],
      "text/plain": [
       "| 885     | 20m 41s      | 1.96981                |"
      ]
     },
     "metadata": {},
     "output_type": "display_data"
    },
    {
     "data": {
      "text/html": [
       "<pre>| 886     | 20m 42s      | 1.9698                 |</pre>"
      ],
      "text/plain": [
       "| 886     | 20m 42s      | 1.9698                 |"
      ]
     },
     "metadata": {},
     "output_type": "display_data"
    },
    {
     "data": {
      "text/html": [
       "<pre>| 887     | 20m 44s      | 1.9698                 |</pre>"
      ],
      "text/plain": [
       "| 887     | 20m 44s      | 1.9698                 |"
      ]
     },
     "metadata": {},
     "output_type": "display_data"
    },
    {
     "data": {
      "text/html": [
       "<pre>| 888     | 20m 45s      | 1.96979                |</pre>"
      ],
      "text/plain": [
       "| 888     | 20m 45s      | 1.96979                |"
      ]
     },
     "metadata": {},
     "output_type": "display_data"
    },
    {
     "data": {
      "text/html": [
       "<pre>| 889     | 20m 47s      | 1.96978                |</pre>"
      ],
      "text/plain": [
       "| 889     | 20m 47s      | 1.96978                |"
      ]
     },
     "metadata": {},
     "output_type": "display_data"
    },
    {
     "data": {
      "text/html": [
       "<pre>| 890     | 20m 48s      | 1.96977                |</pre>"
      ],
      "text/plain": [
       "| 890     | 20m 48s      | 1.96977                |"
      ]
     },
     "metadata": {},
     "output_type": "display_data"
    },
    {
     "data": {
      "text/html": [
       "<pre>| 891     | 20m 50s      | 1.96977                |</pre>"
      ],
      "text/plain": [
       "| 891     | 20m 50s      | 1.96977                |"
      ]
     },
     "metadata": {},
     "output_type": "display_data"
    },
    {
     "data": {
      "text/html": [
       "<pre>| 892     | 20m 51s      | 1.96976                |</pre>"
      ],
      "text/plain": [
       "| 892     | 20m 51s      | 1.96976                |"
      ]
     },
     "metadata": {},
     "output_type": "display_data"
    },
    {
     "data": {
      "text/html": [
       "<pre>| 893     | 20m 53s      | 1.96975                |</pre>"
      ],
      "text/plain": [
       "| 893     | 20m 53s      | 1.96975                |"
      ]
     },
     "metadata": {},
     "output_type": "display_data"
    },
    {
     "data": {
      "text/html": [
       "<pre>| 894     | 20m 54s      | 1.96975                |</pre>"
      ],
      "text/plain": [
       "| 894     | 20m 54s      | 1.96975                |"
      ]
     },
     "metadata": {},
     "output_type": "display_data"
    },
    {
     "data": {
      "text/html": [
       "<pre>| 895     | 20m 55s      | 1.96974                |</pre>"
      ],
      "text/plain": [
       "| 895     | 20m 55s      | 1.96974                |"
      ]
     },
     "metadata": {},
     "output_type": "display_data"
    },
    {
     "data": {
      "text/html": [
       "<pre>| 896     | 20m 57s      | 1.96973                |</pre>"
      ],
      "text/plain": [
       "| 896     | 20m 57s      | 1.96973                |"
      ]
     },
     "metadata": {},
     "output_type": "display_data"
    },
    {
     "data": {
      "text/html": [
       "<pre>| 897     | 20m 58s      | 1.96972                |</pre>"
      ],
      "text/plain": [
       "| 897     | 20m 58s      | 1.96972                |"
      ]
     },
     "metadata": {},
     "output_type": "display_data"
    },
    {
     "data": {
      "text/html": [
       "<pre>| 898     | 21m 0s       | 1.96972                |</pre>"
      ],
      "text/plain": [
       "| 898     | 21m 0s       | 1.96972                |"
      ]
     },
     "metadata": {},
     "output_type": "display_data"
    },
    {
     "data": {
      "text/html": [
       "<pre>| 899     | 21m 1s       | 1.96971                |</pre>"
      ],
      "text/plain": [
       "| 899     | 21m 1s       | 1.96971                |"
      ]
     },
     "metadata": {},
     "output_type": "display_data"
    },
    {
     "data": {
      "text/html": [
       "<pre>| 900     | 21m 3s       | 1.9697                 |</pre>"
      ],
      "text/plain": [
       "| 900     | 21m 3s       | 1.9697                 |"
      ]
     },
     "metadata": {},
     "output_type": "display_data"
    },
    {
     "data": {
      "text/html": [
       "<pre>| 901     | 21m 4s       | 1.96969                |</pre>"
      ],
      "text/plain": [
       "| 901     | 21m 4s       | 1.96969                |"
      ]
     },
     "metadata": {},
     "output_type": "display_data"
    },
    {
     "data": {
      "text/html": [
       "<pre>| 902     | 21m 5s       | 1.96969                |</pre>"
      ],
      "text/plain": [
       "| 902     | 21m 5s       | 1.96969                |"
      ]
     },
     "metadata": {},
     "output_type": "display_data"
    },
    {
     "data": {
      "text/html": [
       "<pre>| 903     | 21m 6s       | 1.96968                |</pre>"
      ],
      "text/plain": [
       "| 903     | 21m 6s       | 1.96968                |"
      ]
     },
     "metadata": {},
     "output_type": "display_data"
    },
    {
     "data": {
      "text/html": [
       "<pre>| 904     | 21m 8s       | 1.96967                |</pre>"
      ],
      "text/plain": [
       "| 904     | 21m 8s       | 1.96967                |"
      ]
     },
     "metadata": {},
     "output_type": "display_data"
    },
    {
     "data": {
      "text/html": [
       "<pre>| 905     | 21m 9s       | 1.96966                |</pre>"
      ],
      "text/plain": [
       "| 905     | 21m 9s       | 1.96966                |"
      ]
     },
     "metadata": {},
     "output_type": "display_data"
    },
    {
     "data": {
      "text/html": [
       "<pre>| 906     | 21m 10s      | 1.96965                |</pre>"
      ],
      "text/plain": [
       "| 906     | 21m 10s      | 1.96965                |"
      ]
     },
     "metadata": {},
     "output_type": "display_data"
    },
    {
     "data": {
      "text/html": [
       "<pre>| 907     | 21m 11s      | 1.96965                |</pre>"
      ],
      "text/plain": [
       "| 907     | 21m 11s      | 1.96965                |"
      ]
     },
     "metadata": {},
     "output_type": "display_data"
    },
    {
     "data": {
      "text/html": [
       "<pre>| 908     | 21m 13s      | 1.96964                |</pre>"
      ],
      "text/plain": [
       "| 908     | 21m 13s      | 1.96964                |"
      ]
     },
     "metadata": {},
     "output_type": "display_data"
    },
    {
     "data": {
      "text/html": [
       "<pre>| 909     | 21m 14s      | 1.96963                |</pre>"
      ],
      "text/plain": [
       "| 909     | 21m 14s      | 1.96963                |"
      ]
     },
     "metadata": {},
     "output_type": "display_data"
    },
    {
     "data": {
      "text/html": [
       "<pre>| 910     | 21m 15s      | 1.96962                |</pre>"
      ],
      "text/plain": [
       "| 910     | 21m 15s      | 1.96962                |"
      ]
     },
     "metadata": {},
     "output_type": "display_data"
    },
    {
     "data": {
      "text/html": [
       "<pre>| 911     | 21m 17s      | 1.96962                |</pre>"
      ],
      "text/plain": [
       "| 911     | 21m 17s      | 1.96962                |"
      ]
     },
     "metadata": {},
     "output_type": "display_data"
    },
    {
     "data": {
      "text/html": [
       "<pre>| 912     | 21m 18s      | 1.96961                |</pre>"
      ],
      "text/plain": [
       "| 912     | 21m 18s      | 1.96961                |"
      ]
     },
     "metadata": {},
     "output_type": "display_data"
    },
    {
     "data": {
      "text/html": [
       "<pre>| 913     | 21m 19s      | 1.9696                 |</pre>"
      ],
      "text/plain": [
       "| 913     | 21m 19s      | 1.9696                 |"
      ]
     },
     "metadata": {},
     "output_type": "display_data"
    },
    {
     "data": {
      "text/html": [
       "<pre>| 914     | 21m 21s      | 1.9696                 |</pre>"
      ],
      "text/plain": [
       "| 914     | 21m 21s      | 1.9696                 |"
      ]
     },
     "metadata": {},
     "output_type": "display_data"
    },
    {
     "data": {
      "text/html": [
       "<pre>| 915     | 21m 23s      | 1.96959                |</pre>"
      ],
      "text/plain": [
       "| 915     | 21m 23s      | 1.96959                |"
      ]
     },
     "metadata": {},
     "output_type": "display_data"
    },
    {
     "data": {
      "text/html": [
       "<pre>| 916     | 21m 24s      | 1.96958                |</pre>"
      ],
      "text/plain": [
       "| 916     | 21m 24s      | 1.96958                |"
      ]
     },
     "metadata": {},
     "output_type": "display_data"
    },
    {
     "data": {
      "text/html": [
       "<pre>| 917     | 21m 26s      | 1.96958                |</pre>"
      ],
      "text/plain": [
       "| 917     | 21m 26s      | 1.96958                |"
      ]
     },
     "metadata": {},
     "output_type": "display_data"
    },
    {
     "data": {
      "text/html": [
       "<pre>| 918     | 21m 27s      | 1.96957                |</pre>"
      ],
      "text/plain": [
       "| 918     | 21m 27s      | 1.96957                |"
      ]
     },
     "metadata": {},
     "output_type": "display_data"
    },
    {
     "data": {
      "text/html": [
       "<pre>| 919     | 21m 28s      | 1.96956                |</pre>"
      ],
      "text/plain": [
       "| 919     | 21m 28s      | 1.96956                |"
      ]
     },
     "metadata": {},
     "output_type": "display_data"
    },
    {
     "data": {
      "text/html": [
       "<pre>| 920     | 21m 30s      | 1.96955                |</pre>"
      ],
      "text/plain": [
       "| 920     | 21m 30s      | 1.96955                |"
      ]
     },
     "metadata": {},
     "output_type": "display_data"
    },
    {
     "data": {
      "text/html": [
       "<pre>| 921     | 21m 31s      | 1.96955                |</pre>"
      ],
      "text/plain": [
       "| 921     | 21m 31s      | 1.96955                |"
      ]
     },
     "metadata": {},
     "output_type": "display_data"
    },
    {
     "data": {
      "text/html": [
       "<pre>| 922     | 21m 32s      | 1.96954                |</pre>"
      ],
      "text/plain": [
       "| 922     | 21m 32s      | 1.96954                |"
      ]
     },
     "metadata": {},
     "output_type": "display_data"
    },
    {
     "data": {
      "text/html": [
       "<pre>| 923     | 21m 34s      | 1.96953                |</pre>"
      ],
      "text/plain": [
       "| 923     | 21m 34s      | 1.96953                |"
      ]
     },
     "metadata": {},
     "output_type": "display_data"
    },
    {
     "data": {
      "text/html": [
       "<pre>| 924     | 21m 35s      | 1.96953                |</pre>"
      ],
      "text/plain": [
       "| 924     | 21m 35s      | 1.96953                |"
      ]
     },
     "metadata": {},
     "output_type": "display_data"
    },
    {
     "data": {
      "text/html": [
       "<pre>| 925     | 21m 36s      | 1.96952                |</pre>"
      ],
      "text/plain": [
       "| 925     | 21m 36s      | 1.96952                |"
      ]
     },
     "metadata": {},
     "output_type": "display_data"
    },
    {
     "data": {
      "text/html": [
       "<pre>| 926     | 21m 38s      | 1.96951                |</pre>"
      ],
      "text/plain": [
       "| 926     | 21m 38s      | 1.96951                |"
      ]
     },
     "metadata": {},
     "output_type": "display_data"
    },
    {
     "data": {
      "text/html": [
       "<pre>| 927     | 21m 40s      | 1.96951                |</pre>"
      ],
      "text/plain": [
       "| 927     | 21m 40s      | 1.96951                |"
      ]
     },
     "metadata": {},
     "output_type": "display_data"
    },
    {
     "data": {
      "text/html": [
       "<pre>| 928     | 21m 41s      | 1.9695                 |</pre>"
      ],
      "text/plain": [
       "| 928     | 21m 41s      | 1.9695                 |"
      ]
     },
     "metadata": {},
     "output_type": "display_data"
    },
    {
     "data": {
      "text/html": [
       "<pre>| 929     | 21m 43s      | 1.9695                 |</pre>"
      ],
      "text/plain": [
       "| 929     | 21m 43s      | 1.9695                 |"
      ]
     },
     "metadata": {},
     "output_type": "display_data"
    },
    {
     "data": {
      "text/html": [
       "<pre>| 930     | 21m 44s      | 1.96949                |</pre>"
      ],
      "text/plain": [
       "| 930     | 21m 44s      | 1.96949                |"
      ]
     },
     "metadata": {},
     "output_type": "display_data"
    },
    {
     "data": {
      "text/html": [
       "<pre>| 931     | 21m 46s      | 1.96948                |</pre>"
      ],
      "text/plain": [
       "| 931     | 21m 46s      | 1.96948                |"
      ]
     },
     "metadata": {},
     "output_type": "display_data"
    },
    {
     "data": {
      "text/html": [
       "<pre>| 932     | 21m 47s      | 1.96948                |</pre>"
      ],
      "text/plain": [
       "| 932     | 21m 47s      | 1.96948                |"
      ]
     },
     "metadata": {},
     "output_type": "display_data"
    },
    {
     "data": {
      "text/html": [
       "<pre>| 933     | 21m 49s      | 1.96947                |</pre>"
      ],
      "text/plain": [
       "| 933     | 21m 49s      | 1.96947                |"
      ]
     },
     "metadata": {},
     "output_type": "display_data"
    },
    {
     "data": {
      "text/html": [
       "<pre>| 934     | 21m 50s      | 1.96946                |</pre>"
      ],
      "text/plain": [
       "| 934     | 21m 50s      | 1.96946                |"
      ]
     },
     "metadata": {},
     "output_type": "display_data"
    },
    {
     "data": {
      "text/html": [
       "<pre>| 935     | 21m 51s      | 1.96946                |</pre>"
      ],
      "text/plain": [
       "| 935     | 21m 51s      | 1.96946                |"
      ]
     },
     "metadata": {},
     "output_type": "display_data"
    },
    {
     "data": {
      "text/html": [
       "<pre>| 936     | 21m 52s      | 1.96945                |</pre>"
      ],
      "text/plain": [
       "| 936     | 21m 52s      | 1.96945                |"
      ]
     },
     "metadata": {},
     "output_type": "display_data"
    },
    {
     "data": {
      "text/html": [
       "<pre>| 937     | 21m 54s      | 1.96944                |</pre>"
      ],
      "text/plain": [
       "| 937     | 21m 54s      | 1.96944                |"
      ]
     },
     "metadata": {},
     "output_type": "display_data"
    },
    {
     "data": {
      "text/html": [
       "<pre>| 938     | 21m 55s      | 1.96944                |</pre>"
      ],
      "text/plain": [
       "| 938     | 21m 55s      | 1.96944                |"
      ]
     },
     "metadata": {},
     "output_type": "display_data"
    },
    {
     "data": {
      "text/html": [
       "<pre>| 939     | 21m 56s      | 1.96943                |</pre>"
      ],
      "text/plain": [
       "| 939     | 21m 56s      | 1.96943                |"
      ]
     },
     "metadata": {},
     "output_type": "display_data"
    },
    {
     "data": {
      "text/html": [
       "<pre>| 940     | 21m 58s      | 1.96942                |</pre>"
      ],
      "text/plain": [
       "| 940     | 21m 58s      | 1.96942                |"
      ]
     },
     "metadata": {},
     "output_type": "display_data"
    },
    {
     "data": {
      "text/html": [
       "<pre>| 941     | 21m 59s      | 1.96942                |</pre>"
      ],
      "text/plain": [
       "| 941     | 21m 59s      | 1.96942                |"
      ]
     },
     "metadata": {},
     "output_type": "display_data"
    },
    {
     "data": {
      "text/html": [
       "<pre>| 942     | 22m 1s       | 1.96941                |</pre>"
      ],
      "text/plain": [
       "| 942     | 22m 1s       | 1.96941                |"
      ]
     },
     "metadata": {},
     "output_type": "display_data"
    },
    {
     "data": {
      "text/html": [
       "<pre>| 943     | 22m 2s       | 1.9694                 |</pre>"
      ],
      "text/plain": [
       "| 943     | 22m 2s       | 1.9694                 |"
      ]
     },
     "metadata": {},
     "output_type": "display_data"
    },
    {
     "data": {
      "text/html": [
       "<pre>| 944     | 22m 3s       | 1.9694                 |</pre>"
      ],
      "text/plain": [
       "| 944     | 22m 3s       | 1.9694                 |"
      ]
     },
     "metadata": {},
     "output_type": "display_data"
    },
    {
     "data": {
      "text/html": [
       "<pre>| 945     | 22m 4s       | 1.96939                |</pre>"
      ],
      "text/plain": [
       "| 945     | 22m 4s       | 1.96939                |"
      ]
     },
     "metadata": {},
     "output_type": "display_data"
    },
    {
     "data": {
      "text/html": [
       "<pre>| 946     | 22m 6s       | 1.96938                |</pre>"
      ],
      "text/plain": [
       "| 946     | 22m 6s       | 1.96938                |"
      ]
     },
     "metadata": {},
     "output_type": "display_data"
    },
    {
     "data": {
      "text/html": [
       "<pre>| 947     | 22m 7s       | 1.96938                |</pre>"
      ],
      "text/plain": [
       "| 947     | 22m 7s       | 1.96938                |"
      ]
     },
     "metadata": {},
     "output_type": "display_data"
    },
    {
     "data": {
      "text/html": [
       "<pre>| 948     | 22m 8s       | 1.96937                |</pre>"
      ],
      "text/plain": [
       "| 948     | 22m 8s       | 1.96937                |"
      ]
     },
     "metadata": {},
     "output_type": "display_data"
    },
    {
     "data": {
      "text/html": [
       "<pre>| 949     | 22m 10s      | 1.96936                |</pre>"
      ],
      "text/plain": [
       "| 949     | 22m 10s      | 1.96936                |"
      ]
     },
     "metadata": {},
     "output_type": "display_data"
    },
    {
     "data": {
      "text/html": [
       "<pre>| 950     | 22m 11s      | 1.96936                |</pre>"
      ],
      "text/plain": [
       "| 950     | 22m 11s      | 1.96936                |"
      ]
     },
     "metadata": {},
     "output_type": "display_data"
    },
    {
     "data": {
      "text/html": [
       "<pre>| 951     | 22m 12s      | 1.96935                |</pre>"
      ],
      "text/plain": [
       "| 951     | 22m 12s      | 1.96935                |"
      ]
     },
     "metadata": {},
     "output_type": "display_data"
    },
    {
     "data": {
      "text/html": [
       "<pre>| 952     | 22m 14s      | 1.96934                |</pre>"
      ],
      "text/plain": [
       "| 952     | 22m 14s      | 1.96934                |"
      ]
     },
     "metadata": {},
     "output_type": "display_data"
    },
    {
     "data": {
      "text/html": [
       "<pre>| 953     | 22m 15s      | 1.96934                |</pre>"
      ],
      "text/plain": [
       "| 953     | 22m 15s      | 1.96934                |"
      ]
     },
     "metadata": {},
     "output_type": "display_data"
    },
    {
     "data": {
      "text/html": [
       "<pre>| 954     | 22m 16s      | 1.96933                |</pre>"
      ],
      "text/plain": [
       "| 954     | 22m 16s      | 1.96933                |"
      ]
     },
     "metadata": {},
     "output_type": "display_data"
    },
    {
     "data": {
      "text/html": [
       "<pre>| 955     | 22m 18s      | 1.96933                |</pre>"
      ],
      "text/plain": [
       "| 955     | 22m 18s      | 1.96933                |"
      ]
     },
     "metadata": {},
     "output_type": "display_data"
    },
    {
     "data": {
      "text/html": [
       "<pre>| 956     | 22m 19s      | 1.96932                |</pre>"
      ],
      "text/plain": [
       "| 956     | 22m 19s      | 1.96932                |"
      ]
     },
     "metadata": {},
     "output_type": "display_data"
    },
    {
     "data": {
      "text/html": [
       "<pre>| 957     | 22m 20s      | 1.96932                |</pre>"
      ],
      "text/plain": [
       "| 957     | 22m 20s      | 1.96932                |"
      ]
     },
     "metadata": {},
     "output_type": "display_data"
    },
    {
     "data": {
      "text/html": [
       "<pre>| 958     | 22m 21s      | 1.96931                |</pre>"
      ],
      "text/plain": [
       "| 958     | 22m 21s      | 1.96931                |"
      ]
     },
     "metadata": {},
     "output_type": "display_data"
    },
    {
     "data": {
      "text/html": [
       "<pre>| 959     | 22m 23s      | 1.9693                 |</pre>"
      ],
      "text/plain": [
       "| 959     | 22m 23s      | 1.9693                 |"
      ]
     },
     "metadata": {},
     "output_type": "display_data"
    },
    {
     "data": {
      "text/html": [
       "<pre>| 960     | 22m 24s      | 1.9693                 |</pre>"
      ],
      "text/plain": [
       "| 960     | 22m 24s      | 1.9693                 |"
      ]
     },
     "metadata": {},
     "output_type": "display_data"
    },
    {
     "data": {
      "text/html": [
       "<pre>| 961     | 22m 25s      | 1.96929                |</pre>"
      ],
      "text/plain": [
       "| 961     | 22m 25s      | 1.96929                |"
      ]
     },
     "metadata": {},
     "output_type": "display_data"
    },
    {
     "data": {
      "text/html": [
       "<pre>| 962     | 22m 27s      | 1.96929                |</pre>"
      ],
      "text/plain": [
       "| 962     | 22m 27s      | 1.96929                |"
      ]
     },
     "metadata": {},
     "output_type": "display_data"
    },
    {
     "data": {
      "text/html": [
       "<pre>| 963     | 22m 28s      | 1.96928                |</pre>"
      ],
      "text/plain": [
       "| 963     | 22m 28s      | 1.96928                |"
      ]
     },
     "metadata": {},
     "output_type": "display_data"
    },
    {
     "data": {
      "text/html": [
       "<pre>| 964     | 22m 29s      | 1.96927                |</pre>"
      ],
      "text/plain": [
       "| 964     | 22m 29s      | 1.96927                |"
      ]
     },
     "metadata": {},
     "output_type": "display_data"
    },
    {
     "data": {
      "text/html": [
       "<pre>| 965     | 22m 31s      | 1.96927                |</pre>"
      ],
      "text/plain": [
       "| 965     | 22m 31s      | 1.96927                |"
      ]
     },
     "metadata": {},
     "output_type": "display_data"
    },
    {
     "data": {
      "text/html": [
       "<pre>| 966     | 22m 32s      | 1.96926                |</pre>"
      ],
      "text/plain": [
       "| 966     | 22m 32s      | 1.96926                |"
      ]
     },
     "metadata": {},
     "output_type": "display_data"
    },
    {
     "data": {
      "text/html": [
       "<pre>| 967     | 22m 34s      | 1.96926                |</pre>"
      ],
      "text/plain": [
       "| 967     | 22m 34s      | 1.96926                |"
      ]
     },
     "metadata": {},
     "output_type": "display_data"
    },
    {
     "data": {
      "text/html": [
       "<pre>| 968     | 22m 36s      | 1.96925                |</pre>"
      ],
      "text/plain": [
       "| 968     | 22m 36s      | 1.96925                |"
      ]
     },
     "metadata": {},
     "output_type": "display_data"
    },
    {
     "data": {
      "text/html": [
       "<pre>| 969     | 22m 38s      | 1.96925                |</pre>"
      ],
      "text/plain": [
       "| 969     | 22m 38s      | 1.96925                |"
      ]
     },
     "metadata": {},
     "output_type": "display_data"
    },
    {
     "data": {
      "text/html": [
       "<pre>| 970     | 22m 40s      | 1.96924                |</pre>"
      ],
      "text/plain": [
       "| 970     | 22m 40s      | 1.96924                |"
      ]
     },
     "metadata": {},
     "output_type": "display_data"
    },
    {
     "data": {
      "text/html": [
       "<pre>| 971     | 22m 41s      | 1.96924                |</pre>"
      ],
      "text/plain": [
       "| 971     | 22m 41s      | 1.96924                |"
      ]
     },
     "metadata": {},
     "output_type": "display_data"
    },
    {
     "data": {
      "text/html": [
       "<pre>| 972     | 22m 43s      | 1.96923                |</pre>"
      ],
      "text/plain": [
       "| 972     | 22m 43s      | 1.96923                |"
      ]
     },
     "metadata": {},
     "output_type": "display_data"
    },
    {
     "data": {
      "text/html": [
       "<pre>| 973     | 22m 44s      | 1.96923                |</pre>"
      ],
      "text/plain": [
       "| 973     | 22m 44s      | 1.96923                |"
      ]
     },
     "metadata": {},
     "output_type": "display_data"
    },
    {
     "data": {
      "text/html": [
       "<pre>| 974     | 22m 47s      | 1.96922                |</pre>"
      ],
      "text/plain": [
       "| 974     | 22m 47s      | 1.96922                |"
      ]
     },
     "metadata": {},
     "output_type": "display_data"
    },
    {
     "data": {
      "text/html": [
       "<pre>| 975     | 22m 48s      | 1.96922                |</pre>"
      ],
      "text/plain": [
       "| 975     | 22m 48s      | 1.96922                |"
      ]
     },
     "metadata": {},
     "output_type": "display_data"
    },
    {
     "data": {
      "text/html": [
       "<pre>| 976     | 22m 49s      | 1.96921                |</pre>"
      ],
      "text/plain": [
       "| 976     | 22m 49s      | 1.96921                |"
      ]
     },
     "metadata": {},
     "output_type": "display_data"
    },
    {
     "data": {
      "text/html": [
       "<pre>| 977     | 22m 51s      | 1.9692                 |</pre>"
      ],
      "text/plain": [
       "| 977     | 22m 51s      | 1.9692                 |"
      ]
     },
     "metadata": {},
     "output_type": "display_data"
    },
    {
     "data": {
      "text/html": [
       "<pre>| 978     | 22m 53s      | 1.9692                 |</pre>"
      ],
      "text/plain": [
       "| 978     | 22m 53s      | 1.9692                 |"
      ]
     },
     "metadata": {},
     "output_type": "display_data"
    },
    {
     "data": {
      "text/html": [
       "<pre>| 979     | 22m 55s      | 1.96919                |</pre>"
      ],
      "text/plain": [
       "| 979     | 22m 55s      | 1.96919                |"
      ]
     },
     "metadata": {},
     "output_type": "display_data"
    },
    {
     "data": {
      "text/html": [
       "<pre>| 980     | 22m 56s      | 1.96919                |</pre>"
      ],
      "text/plain": [
       "| 980     | 22m 56s      | 1.96919                |"
      ]
     },
     "metadata": {},
     "output_type": "display_data"
    },
    {
     "data": {
      "text/html": [
       "<pre>| 981     | 22m 58s      | 1.96918                |</pre>"
      ],
      "text/plain": [
       "| 981     | 22m 58s      | 1.96918                |"
      ]
     },
     "metadata": {},
     "output_type": "display_data"
    },
    {
     "data": {
      "text/html": [
       "<pre>| 982     | 22m 59s      | 1.96918                |</pre>"
      ],
      "text/plain": [
       "| 982     | 22m 59s      | 1.96918                |"
      ]
     },
     "metadata": {},
     "output_type": "display_data"
    },
    {
     "data": {
      "text/html": [
       "<pre>| 983     | 23m 1s       | 1.96917                |</pre>"
      ],
      "text/plain": [
       "| 983     | 23m 1s       | 1.96917                |"
      ]
     },
     "metadata": {},
     "output_type": "display_data"
    },
    {
     "data": {
      "text/html": [
       "<pre>| 984     | 23m 2s       | 1.96917                |</pre>"
      ],
      "text/plain": [
       "| 984     | 23m 2s       | 1.96917                |"
      ]
     },
     "metadata": {},
     "output_type": "display_data"
    },
    {
     "data": {
      "text/html": [
       "<pre>| 985     | 23m 4s       | 1.96916                |</pre>"
      ],
      "text/plain": [
       "| 985     | 23m 4s       | 1.96916                |"
      ]
     },
     "metadata": {},
     "output_type": "display_data"
    },
    {
     "data": {
      "text/html": [
       "<pre>| 986     | 23m 5s       | 1.96916                |</pre>"
      ],
      "text/plain": [
       "| 986     | 23m 5s       | 1.96916                |"
      ]
     },
     "metadata": {},
     "output_type": "display_data"
    },
    {
     "data": {
      "text/html": [
       "<pre>| 987     | 23m 6s       | 1.96915                |</pre>"
      ],
      "text/plain": [
       "| 987     | 23m 6s       | 1.96915                |"
      ]
     },
     "metadata": {},
     "output_type": "display_data"
    },
    {
     "data": {
      "text/html": [
       "<pre>| 988     | 23m 8s       | 1.96914                |</pre>"
      ],
      "text/plain": [
       "| 988     | 23m 8s       | 1.96914                |"
      ]
     },
     "metadata": {},
     "output_type": "display_data"
    },
    {
     "data": {
      "text/html": [
       "<pre>| 989     | 23m 9s       | 1.96914                |</pre>"
      ],
      "text/plain": [
       "| 989     | 23m 9s       | 1.96914                |"
      ]
     },
     "metadata": {},
     "output_type": "display_data"
    },
    {
     "data": {
      "text/html": [
       "<pre>| 990     | 23m 11s      | 1.96913                |</pre>"
      ],
      "text/plain": [
       "| 990     | 23m 11s      | 1.96913                |"
      ]
     },
     "metadata": {},
     "output_type": "display_data"
    },
    {
     "data": {
      "text/html": [
       "<pre>| 991     | 23m 12s      | 1.96913                |</pre>"
      ],
      "text/plain": [
       "| 991     | 23m 12s      | 1.96913                |"
      ]
     },
     "metadata": {},
     "output_type": "display_data"
    },
    {
     "data": {
      "text/html": [
       "<pre>| 992     | 23m 13s      | 1.96912                |</pre>"
      ],
      "text/plain": [
       "| 992     | 23m 13s      | 1.96912                |"
      ]
     },
     "metadata": {},
     "output_type": "display_data"
    },
    {
     "data": {
      "text/html": [
       "<pre>| 993     | 23m 15s      | 1.96912                |</pre>"
      ],
      "text/plain": [
       "| 993     | 23m 15s      | 1.96912                |"
      ]
     },
     "metadata": {},
     "output_type": "display_data"
    },
    {
     "data": {
      "text/html": [
       "<pre>| 994     | 23m 16s      | 1.96911                |</pre>"
      ],
      "text/plain": [
       "| 994     | 23m 16s      | 1.96911                |"
      ]
     },
     "metadata": {},
     "output_type": "display_data"
    },
    {
     "data": {
      "text/html": [
       "<pre>| 995     | 23m 18s      | 1.9691                 |</pre>"
      ],
      "text/plain": [
       "| 995     | 23m 18s      | 1.9691                 |"
      ]
     },
     "metadata": {},
     "output_type": "display_data"
    },
    {
     "data": {
      "text/html": [
       "<pre>| 996     | 23m 19s      | 1.9691                 |</pre>"
      ],
      "text/plain": [
       "| 996     | 23m 19s      | 1.9691                 |"
      ]
     },
     "metadata": {},
     "output_type": "display_data"
    },
    {
     "data": {
      "text/html": [
       "<pre>| 997     | 23m 20s      | 1.96909                |</pre>"
      ],
      "text/plain": [
       "| 997     | 23m 20s      | 1.96909                |"
      ]
     },
     "metadata": {},
     "output_type": "display_data"
    },
    {
     "data": {
      "text/html": [
       "<pre>| 998     | 23m 22s      | 1.96909                |</pre>"
      ],
      "text/plain": [
       "| 998     | 23m 22s      | 1.96909                |"
      ]
     },
     "metadata": {},
     "output_type": "display_data"
    },
    {
     "data": {
      "text/html": [
       "<pre>| 999     | 23m 23s      | 1.96908                |</pre>"
      ],
      "text/plain": [
       "| 999     | 23m 23s      | 1.96908                |"
      ]
     },
     "metadata": {},
     "output_type": "display_data"
    },
    {
     "data": {
      "text/html": [
       "<pre>| 1000    | 23m 25s      | 1.96908                |</pre>"
      ],
      "text/plain": [
       "| 1000    | 23m 25s      | 1.96908                |"
      ]
     },
     "metadata": {},
     "output_type": "display_data"
    },
    {
     "data": {
      "text/html": [
       "<pre>| 1001    | 23m 26s      | 1.96907                |</pre>"
      ],
      "text/plain": [
       "| 1001    | 23m 26s      | 1.96907                |"
      ]
     },
     "metadata": {},
     "output_type": "display_data"
    },
    {
     "data": {
      "text/html": [
       "<pre>| 1002    | 23m 28s      | 1.96907                |</pre>"
      ],
      "text/plain": [
       "| 1002    | 23m 28s      | 1.96907                |"
      ]
     },
     "metadata": {},
     "output_type": "display_data"
    },
    {
     "data": {
      "text/html": [
       "<pre>| 1003    | 23m 29s      | 1.96906                |</pre>"
      ],
      "text/plain": [
       "| 1003    | 23m 29s      | 1.96906                |"
      ]
     },
     "metadata": {},
     "output_type": "display_data"
    },
    {
     "data": {
      "text/html": [
       "<pre>| 1004    | 23m 31s      | 1.96906                |</pre>"
      ],
      "text/plain": [
       "| 1004    | 23m 31s      | 1.96906                |"
      ]
     },
     "metadata": {},
     "output_type": "display_data"
    },
    {
     "data": {
      "text/html": [
       "<pre>| 1005    | 23m 32s      | 1.96905                |</pre>"
      ],
      "text/plain": [
       "| 1005    | 23m 32s      | 1.96905                |"
      ]
     },
     "metadata": {},
     "output_type": "display_data"
    },
    {
     "data": {
      "text/html": [
       "<pre>| 1006    | 23m 34s      | 1.96905                |</pre>"
      ],
      "text/plain": [
       "| 1006    | 23m 34s      | 1.96905                |"
      ]
     },
     "metadata": {},
     "output_type": "display_data"
    },
    {
     "data": {
      "text/html": [
       "<pre>| 1007    | 23m 35s      | 1.96904                |</pre>"
      ],
      "text/plain": [
       "| 1007    | 23m 35s      | 1.96904                |"
      ]
     },
     "metadata": {},
     "output_type": "display_data"
    },
    {
     "data": {
      "text/html": [
       "<pre>| 1008    | 23m 37s      | 1.96903                |</pre>"
      ],
      "text/plain": [
       "| 1008    | 23m 37s      | 1.96903                |"
      ]
     },
     "metadata": {},
     "output_type": "display_data"
    },
    {
     "data": {
      "text/html": [
       "<pre>| 1009    | 23m 40s      | 1.96903                |</pre>"
      ],
      "text/plain": [
       "| 1009    | 23m 40s      | 1.96903                |"
      ]
     },
     "metadata": {},
     "output_type": "display_data"
    },
    {
     "data": {
      "text/html": [
       "<pre>| 1010    | 23m 42s      | 1.96902                |</pre>"
      ],
      "text/plain": [
       "| 1010    | 23m 42s      | 1.96902                |"
      ]
     },
     "metadata": {},
     "output_type": "display_data"
    },
    {
     "data": {
      "text/html": [
       "<pre>| 1011    | 23m 44s      | 1.96902                |</pre>"
      ],
      "text/plain": [
       "| 1011    | 23m 44s      | 1.96902                |"
      ]
     },
     "metadata": {},
     "output_type": "display_data"
    },
    {
     "data": {
      "text/html": [
       "<pre>| 1012    | 23m 45s      | 1.96901                |</pre>"
      ],
      "text/plain": [
       "| 1012    | 23m 45s      | 1.96901                |"
      ]
     },
     "metadata": {},
     "output_type": "display_data"
    },
    {
     "data": {
      "text/html": [
       "<pre>| 1013    | 23m 47s      | 1.96901                |</pre>"
      ],
      "text/plain": [
       "| 1013    | 23m 47s      | 1.96901                |"
      ]
     },
     "metadata": {},
     "output_type": "display_data"
    },
    {
     "data": {
      "text/html": [
       "<pre>| 1014    | 23m 48s      | 1.969                  |</pre>"
      ],
      "text/plain": [
       "| 1014    | 23m 48s      | 1.969                  |"
      ]
     },
     "metadata": {},
     "output_type": "display_data"
    },
    {
     "data": {
      "text/html": [
       "<pre>| 1015    | 23m 50s      | 1.969                  |</pre>"
      ],
      "text/plain": [
       "| 1015    | 23m 50s      | 1.969                  |"
      ]
     },
     "metadata": {},
     "output_type": "display_data"
    },
    {
     "data": {
      "text/html": [
       "<pre>| 1016    | 23m 51s      | 1.96899                |</pre>"
      ],
      "text/plain": [
       "| 1016    | 23m 51s      | 1.96899                |"
      ]
     },
     "metadata": {},
     "output_type": "display_data"
    },
    {
     "data": {
      "text/html": [
       "<pre>| 1017    | 23m 53s      | 1.96899                |</pre>"
      ],
      "text/plain": [
       "| 1017    | 23m 53s      | 1.96899                |"
      ]
     },
     "metadata": {},
     "output_type": "display_data"
    },
    {
     "data": {
      "text/html": [
       "<pre>| 1018    | 23m 54s      | 1.96898                |</pre>"
      ],
      "text/plain": [
       "| 1018    | 23m 54s      | 1.96898                |"
      ]
     },
     "metadata": {},
     "output_type": "display_data"
    },
    {
     "data": {
      "text/html": [
       "<pre>| 1019    | 23m 56s      | 1.96898                |</pre>"
      ],
      "text/plain": [
       "| 1019    | 23m 56s      | 1.96898                |"
      ]
     },
     "metadata": {},
     "output_type": "display_data"
    },
    {
     "data": {
      "text/html": [
       "<pre>| 1020    | 23m 58s      | 1.96897                |</pre>"
      ],
      "text/plain": [
       "| 1020    | 23m 58s      | 1.96897                |"
      ]
     },
     "metadata": {},
     "output_type": "display_data"
    },
    {
     "data": {
      "text/html": [
       "<pre>| 1021    | 23m 59s      | 1.96896                |</pre>"
      ],
      "text/plain": [
       "| 1021    | 23m 59s      | 1.96896                |"
      ]
     },
     "metadata": {},
     "output_type": "display_data"
    },
    {
     "data": {
      "text/html": [
       "<pre>| 1022    | 24m 0s       | 1.96896                |</pre>"
      ],
      "text/plain": [
       "| 1022    | 24m 0s       | 1.96896                |"
      ]
     },
     "metadata": {},
     "output_type": "display_data"
    },
    {
     "data": {
      "text/html": [
       "<pre>| 1023    | 24m 1s       | 1.96895                |</pre>"
      ],
      "text/plain": [
       "| 1023    | 24m 1s       | 1.96895                |"
      ]
     },
     "metadata": {},
     "output_type": "display_data"
    },
    {
     "data": {
      "text/html": [
       "<pre>| 1024    | 24m 3s       | 1.96894                |</pre>"
      ],
      "text/plain": [
       "| 1024    | 24m 3s       | 1.96894                |"
      ]
     },
     "metadata": {},
     "output_type": "display_data"
    },
    {
     "data": {
      "text/html": [
       "<pre>| 1025    | 24m 4s       | 1.96894                |</pre>"
      ],
      "text/plain": [
       "| 1025    | 24m 4s       | 1.96894                |"
      ]
     },
     "metadata": {},
     "output_type": "display_data"
    },
    {
     "data": {
      "text/html": [
       "<pre>| 1026    | 24m 5s       | 1.96893                |</pre>"
      ],
      "text/plain": [
       "| 1026    | 24m 5s       | 1.96893                |"
      ]
     },
     "metadata": {},
     "output_type": "display_data"
    },
    {
     "data": {
      "text/html": [
       "<pre>| 1027    | 24m 7s       | 1.96892                |</pre>"
      ],
      "text/plain": [
       "| 1027    | 24m 7s       | 1.96892                |"
      ]
     },
     "metadata": {},
     "output_type": "display_data"
    },
    {
     "data": {
      "text/html": [
       "<pre>| 1028    | 24m 8s       | 1.96892                |</pre>"
      ],
      "text/plain": [
       "| 1028    | 24m 8s       | 1.96892                |"
      ]
     },
     "metadata": {},
     "output_type": "display_data"
    },
    {
     "data": {
      "text/html": [
       "<pre>| 1029    | 24m 9s       | 1.96891                |</pre>"
      ],
      "text/plain": [
       "| 1029    | 24m 9s       | 1.96891                |"
      ]
     },
     "metadata": {},
     "output_type": "display_data"
    },
    {
     "data": {
      "text/html": [
       "<pre>| 1030    | 24m 10s      | 1.9689                 |</pre>"
      ],
      "text/plain": [
       "| 1030    | 24m 10s      | 1.9689                 |"
      ]
     },
     "metadata": {},
     "output_type": "display_data"
    },
    {
     "data": {
      "text/html": [
       "<pre>| 1031    | 24m 12s      | 1.9689                 |</pre>"
      ],
      "text/plain": [
       "| 1031    | 24m 12s      | 1.9689                 |"
      ]
     },
     "metadata": {},
     "output_type": "display_data"
    },
    {
     "data": {
      "text/html": [
       "<pre>| 1032    | 24m 13s      | 1.96889                |</pre>"
      ],
      "text/plain": [
       "| 1032    | 24m 13s      | 1.96889                |"
      ]
     },
     "metadata": {},
     "output_type": "display_data"
    },
    {
     "data": {
      "text/html": [
       "<pre>| 1033    | 24m 14s      | 1.96889                |</pre>"
      ],
      "text/plain": [
       "| 1033    | 24m 14s      | 1.96889                |"
      ]
     },
     "metadata": {},
     "output_type": "display_data"
    },
    {
     "data": {
      "text/html": [
       "<pre>| 1034    | 24m 16s      | 1.96888                |</pre>"
      ],
      "text/plain": [
       "| 1034    | 24m 16s      | 1.96888                |"
      ]
     },
     "metadata": {},
     "output_type": "display_data"
    },
    {
     "data": {
      "text/html": [
       "<pre>| 1035    | 24m 17s      | 1.96888                |</pre>"
      ],
      "text/plain": [
       "| 1035    | 24m 17s      | 1.96888                |"
      ]
     },
     "metadata": {},
     "output_type": "display_data"
    },
    {
     "data": {
      "text/html": [
       "<pre>| 1036    | 24m 19s      | 1.96887                |</pre>"
      ],
      "text/plain": [
       "| 1036    | 24m 19s      | 1.96887                |"
      ]
     },
     "metadata": {},
     "output_type": "display_data"
    },
    {
     "data": {
      "text/html": [
       "<pre>| 1037    | 24m 20s      | 1.96887                |</pre>"
      ],
      "text/plain": [
       "| 1037    | 24m 20s      | 1.96887                |"
      ]
     },
     "metadata": {},
     "output_type": "display_data"
    },
    {
     "data": {
      "text/html": [
       "<pre>| 1038    | 24m 21s      | 1.96886                |</pre>"
      ],
      "text/plain": [
       "| 1038    | 24m 21s      | 1.96886                |"
      ]
     },
     "metadata": {},
     "output_type": "display_data"
    },
    {
     "data": {
      "text/html": [
       "<pre>| 1039    | 24m 23s      | 1.96885                |</pre>"
      ],
      "text/plain": [
       "| 1039    | 24m 23s      | 1.96885                |"
      ]
     },
     "metadata": {},
     "output_type": "display_data"
    },
    {
     "data": {
      "text/html": [
       "<pre>| 1040    | 24m 25s      | 1.96885                |</pre>"
      ],
      "text/plain": [
       "| 1040    | 24m 25s      | 1.96885                |"
      ]
     },
     "metadata": {},
     "output_type": "display_data"
    },
    {
     "data": {
      "text/html": [
       "<pre>| 1041    | 24m 26s      | 1.96884                |</pre>"
      ],
      "text/plain": [
       "| 1041    | 24m 26s      | 1.96884                |"
      ]
     },
     "metadata": {},
     "output_type": "display_data"
    },
    {
     "data": {
      "text/html": [
       "<pre>| 1042    | 24m 28s      | 1.96884                |</pre>"
      ],
      "text/plain": [
       "| 1042    | 24m 28s      | 1.96884                |"
      ]
     },
     "metadata": {},
     "output_type": "display_data"
    },
    {
     "data": {
      "text/html": [
       "<pre>| 1043    | 24m 29s      | 1.96883                |</pre>"
      ],
      "text/plain": [
       "| 1043    | 24m 29s      | 1.96883                |"
      ]
     },
     "metadata": {},
     "output_type": "display_data"
    },
    {
     "data": {
      "text/html": [
       "<pre>| 1044    | 24m 31s      | 1.96883                |</pre>"
      ],
      "text/plain": [
       "| 1044    | 24m 31s      | 1.96883                |"
      ]
     },
     "metadata": {},
     "output_type": "display_data"
    },
    {
     "data": {
      "text/html": [
       "<pre>| 1045    | 24m 32s      | 1.96883                |</pre>"
      ],
      "text/plain": [
       "| 1045    | 24m 32s      | 1.96883                |"
      ]
     },
     "metadata": {},
     "output_type": "display_data"
    },
    {
     "data": {
      "text/html": [
       "<pre>| 1046    | 24m 33s      | 1.96882                |</pre>"
      ],
      "text/plain": [
       "| 1046    | 24m 33s      | 1.96882                |"
      ]
     },
     "metadata": {},
     "output_type": "display_data"
    },
    {
     "data": {
      "text/html": [
       "<pre>| 1047    | 24m 35s      | 1.96882                |</pre>"
      ],
      "text/plain": [
       "| 1047    | 24m 35s      | 1.96882                |"
      ]
     },
     "metadata": {},
     "output_type": "display_data"
    },
    {
     "data": {
      "text/html": [
       "<pre>| 1048    | 24m 36s      | 1.96881                |</pre>"
      ],
      "text/plain": [
       "| 1048    | 24m 36s      | 1.96881                |"
      ]
     },
     "metadata": {},
     "output_type": "display_data"
    },
    {
     "data": {
      "text/html": [
       "<pre>| 1049    | 24m 37s      | 1.96881                |</pre>"
      ],
      "text/plain": [
       "| 1049    | 24m 37s      | 1.96881                |"
      ]
     },
     "metadata": {},
     "output_type": "display_data"
    },
    {
     "data": {
      "text/html": [
       "<pre>| 1050    | 24m 38s      | 1.9688                 |</pre>"
      ],
      "text/plain": [
       "| 1050    | 24m 38s      | 1.9688                 |"
      ]
     },
     "metadata": {},
     "output_type": "display_data"
    },
    {
     "data": {
      "text/html": [
       "<pre>| 1051    | 24m 40s      | 1.9688                 |</pre>"
      ],
      "text/plain": [
       "| 1051    | 24m 40s      | 1.9688                 |"
      ]
     },
     "metadata": {},
     "output_type": "display_data"
    },
    {
     "data": {
      "text/html": [
       "<pre>| 1052    | 24m 41s      | 1.96879                |</pre>"
      ],
      "text/plain": [
       "| 1052    | 24m 41s      | 1.96879                |"
      ]
     },
     "metadata": {},
     "output_type": "display_data"
    },
    {
     "data": {
      "text/html": [
       "<pre>| 1053    | 24m 42s      | 1.96879                |</pre>"
      ],
      "text/plain": [
       "| 1053    | 24m 42s      | 1.96879                |"
      ]
     },
     "metadata": {},
     "output_type": "display_data"
    },
    {
     "data": {
      "text/html": [
       "<pre>| 1054    | 24m 43s      | 1.96878                |</pre>"
      ],
      "text/plain": [
       "| 1054    | 24m 43s      | 1.96878                |"
      ]
     },
     "metadata": {},
     "output_type": "display_data"
    },
    {
     "data": {
      "text/html": [
       "<pre>| 1055    | 24m 45s      | 1.96878                |</pre>"
      ],
      "text/plain": [
       "| 1055    | 24m 45s      | 1.96878                |"
      ]
     },
     "metadata": {},
     "output_type": "display_data"
    },
    {
     "data": {
      "text/html": [
       "<pre>| 1056    | 24m 46s      | 1.96877                |</pre>"
      ],
      "text/plain": [
       "| 1056    | 24m 46s      | 1.96877                |"
      ]
     },
     "metadata": {},
     "output_type": "display_data"
    },
    {
     "data": {
      "text/html": [
       "<pre>| 1057    | 24m 47s      | 1.96877                |</pre>"
      ],
      "text/plain": [
       "| 1057    | 24m 47s      | 1.96877                |"
      ]
     },
     "metadata": {},
     "output_type": "display_data"
    },
    {
     "data": {
      "text/html": [
       "<pre>| 1058    | 24m 49s      | 1.96876                |</pre>"
      ],
      "text/plain": [
       "| 1058    | 24m 49s      | 1.96876                |"
      ]
     },
     "metadata": {},
     "output_type": "display_data"
    },
    {
     "data": {
      "text/html": [
       "<pre>| 1059    | 24m 50s      | 1.96876                |</pre>"
      ],
      "text/plain": [
       "| 1059    | 24m 50s      | 1.96876                |"
      ]
     },
     "metadata": {},
     "output_type": "display_data"
    },
    {
     "data": {
      "text/html": [
       "<pre>| 1060    | 24m 52s      | 1.96875                |</pre>"
      ],
      "text/plain": [
       "| 1060    | 24m 52s      | 1.96875                |"
      ]
     },
     "metadata": {},
     "output_type": "display_data"
    },
    {
     "data": {
      "text/html": [
       "<pre>| 1061    | 24m 53s      | 1.96875                |</pre>"
      ],
      "text/plain": [
       "| 1061    | 24m 53s      | 1.96875                |"
      ]
     },
     "metadata": {},
     "output_type": "display_data"
    },
    {
     "data": {
      "text/html": [
       "<pre>| 1062    | 24m 54s      | 1.96875                |</pre>"
      ],
      "text/plain": [
       "| 1062    | 24m 54s      | 1.96875                |"
      ]
     },
     "metadata": {},
     "output_type": "display_data"
    },
    {
     "data": {
      "text/html": [
       "<pre>| 1063    | 24m 56s      | 1.96874                |</pre>"
      ],
      "text/plain": [
       "| 1063    | 24m 56s      | 1.96874                |"
      ]
     },
     "metadata": {},
     "output_type": "display_data"
    },
    {
     "data": {
      "text/html": [
       "<pre>| 1064    | 24m 57s      | 1.96874                |</pre>"
      ],
      "text/plain": [
       "| 1064    | 24m 57s      | 1.96874                |"
      ]
     },
     "metadata": {},
     "output_type": "display_data"
    },
    {
     "data": {
      "text/html": [
       "<pre>| 1065    | 24m 58s      | 1.96873                |</pre>"
      ],
      "text/plain": [
       "| 1065    | 24m 58s      | 1.96873                |"
      ]
     },
     "metadata": {},
     "output_type": "display_data"
    },
    {
     "data": {
      "text/html": [
       "<pre>| 1066    | 25m 0s       | 1.96873                |</pre>"
      ],
      "text/plain": [
       "| 1066    | 25m 0s       | 1.96873                |"
      ]
     },
     "metadata": {},
     "output_type": "display_data"
    },
    {
     "data": {
      "text/html": [
       "<pre>| 1067    | 25m 1s       | 1.96872                |</pre>"
      ],
      "text/plain": [
       "| 1067    | 25m 1s       | 1.96872                |"
      ]
     },
     "metadata": {},
     "output_type": "display_data"
    },
    {
     "data": {
      "text/html": [
       "<pre>| 1068    | 25m 2s       | 1.96872                |</pre>"
      ],
      "text/plain": [
       "| 1068    | 25m 2s       | 1.96872                |"
      ]
     },
     "metadata": {},
     "output_type": "display_data"
    },
    {
     "data": {
      "text/html": [
       "<pre>| 1069    | 25m 4s       | 1.96871                |</pre>"
      ],
      "text/plain": [
       "| 1069    | 25m 4s       | 1.96871                |"
      ]
     },
     "metadata": {},
     "output_type": "display_data"
    },
    {
     "data": {
      "text/html": [
       "<pre>| 1070    | 25m 5s       | 1.96871                |</pre>"
      ],
      "text/plain": [
       "| 1070    | 25m 5s       | 1.96871                |"
      ]
     },
     "metadata": {},
     "output_type": "display_data"
    },
    {
     "data": {
      "text/html": [
       "<pre>| 1071    | 25m 7s       | 1.96871                |</pre>"
      ],
      "text/plain": [
       "| 1071    | 25m 7s       | 1.96871                |"
      ]
     },
     "metadata": {},
     "output_type": "display_data"
    },
    {
     "data": {
      "text/html": [
       "<pre>| 1072    | 25m 8s       | 1.9687                 |</pre>"
      ],
      "text/plain": [
       "| 1072    | 25m 8s       | 1.9687                 |"
      ]
     },
     "metadata": {},
     "output_type": "display_data"
    },
    {
     "data": {
      "text/html": [
       "<pre>| 1073    | 25m 9s       | 1.9687                 |</pre>"
      ],
      "text/plain": [
       "| 1073    | 25m 9s       | 1.9687                 |"
      ]
     },
     "metadata": {},
     "output_type": "display_data"
    },
    {
     "data": {
      "text/html": [
       "<pre>| 1074    | 25m 11s      | 1.96869                |</pre>"
      ],
      "text/plain": [
       "| 1074    | 25m 11s      | 1.96869                |"
      ]
     },
     "metadata": {},
     "output_type": "display_data"
    },
    {
     "data": {
      "text/html": [
       "<pre>| 1075    | 25m 12s      | 1.96869                |</pre>"
      ],
      "text/plain": [
       "| 1075    | 25m 12s      | 1.96869                |"
      ]
     },
     "metadata": {},
     "output_type": "display_data"
    },
    {
     "data": {
      "text/html": [
       "<pre>| 1076    | 25m 14s      | 1.96868                |</pre>"
      ],
      "text/plain": [
       "| 1076    | 25m 14s      | 1.96868                |"
      ]
     },
     "metadata": {},
     "output_type": "display_data"
    },
    {
     "data": {
      "text/html": [
       "<pre>| 1077    | 25m 15s      | 1.96868                |</pre>"
      ],
      "text/plain": [
       "| 1077    | 25m 15s      | 1.96868                |"
      ]
     },
     "metadata": {},
     "output_type": "display_data"
    },
    {
     "data": {
      "text/html": [
       "<pre>| 1078    | 25m 16s      | 1.96868                |</pre>"
      ],
      "text/plain": [
       "| 1078    | 25m 16s      | 1.96868                |"
      ]
     },
     "metadata": {},
     "output_type": "display_data"
    },
    {
     "data": {
      "text/html": [
       "<pre>| 1079    | 25m 18s      | 1.96867                |</pre>"
      ],
      "text/plain": [
       "| 1079    | 25m 18s      | 1.96867                |"
      ]
     },
     "metadata": {},
     "output_type": "display_data"
    },
    {
     "data": {
      "text/html": [
       "<pre>| 1080    | 25m 19s      | 1.96867                |</pre>"
      ],
      "text/plain": [
       "| 1080    | 25m 19s      | 1.96867                |"
      ]
     },
     "metadata": {},
     "output_type": "display_data"
    },
    {
     "data": {
      "text/html": [
       "<pre>| 1081    | 25m 21s      | 1.96866                |</pre>"
      ],
      "text/plain": [
       "| 1081    | 25m 21s      | 1.96866                |"
      ]
     },
     "metadata": {},
     "output_type": "display_data"
    },
    {
     "data": {
      "text/html": [
       "<pre>| 1082    | 25m 22s      | 1.96866                |</pre>"
      ],
      "text/plain": [
       "| 1082    | 25m 22s      | 1.96866                |"
      ]
     },
     "metadata": {},
     "output_type": "display_data"
    },
    {
     "data": {
      "text/html": [
       "<pre>| 1083    | 25m 23s      | 1.96865                |</pre>"
      ],
      "text/plain": [
       "| 1083    | 25m 23s      | 1.96865                |"
      ]
     },
     "metadata": {},
     "output_type": "display_data"
    },
    {
     "data": {
      "text/html": [
       "<pre>| 1084    | 25m 24s      | 1.96865                |</pre>"
      ],
      "text/plain": [
       "| 1084    | 25m 24s      | 1.96865                |"
      ]
     },
     "metadata": {},
     "output_type": "display_data"
    },
    {
     "data": {
      "text/html": [
       "<pre>| 1085    | 25m 26s      | 1.96865                |</pre>"
      ],
      "text/plain": [
       "| 1085    | 25m 26s      | 1.96865                |"
      ]
     },
     "metadata": {},
     "output_type": "display_data"
    },
    {
     "data": {
      "text/html": [
       "<pre>| 1086    | 25m 27s      | 1.96864                |</pre>"
      ],
      "text/plain": [
       "| 1086    | 25m 27s      | 1.96864                |"
      ]
     },
     "metadata": {},
     "output_type": "display_data"
    },
    {
     "data": {
      "text/html": [
       "<pre>| 1087    | 25m 28s      | 1.96864                |</pre>"
      ],
      "text/plain": [
       "| 1087    | 25m 28s      | 1.96864                |"
      ]
     },
     "metadata": {},
     "output_type": "display_data"
    },
    {
     "data": {
      "text/html": [
       "<pre>| 1088    | 25m 30s      | 1.96863                |</pre>"
      ],
      "text/plain": [
       "| 1088    | 25m 30s      | 1.96863                |"
      ]
     },
     "metadata": {},
     "output_type": "display_data"
    },
    {
     "data": {
      "text/html": [
       "<pre>| 1089    | 25m 31s      | 1.96863                |</pre>"
      ],
      "text/plain": [
       "| 1089    | 25m 31s      | 1.96863                |"
      ]
     },
     "metadata": {},
     "output_type": "display_data"
    },
    {
     "data": {
      "text/html": [
       "<pre>| 1090    | 25m 33s      | 1.96862                |</pre>"
      ],
      "text/plain": [
       "| 1090    | 25m 33s      | 1.96862                |"
      ]
     },
     "metadata": {},
     "output_type": "display_data"
    },
    {
     "data": {
      "text/html": [
       "<pre>| 1091    | 25m 34s      | 1.96862                |</pre>"
      ],
      "text/plain": [
       "| 1091    | 25m 34s      | 1.96862                |"
      ]
     },
     "metadata": {},
     "output_type": "display_data"
    },
    {
     "data": {
      "text/html": [
       "<pre>| 1092    | 25m 35s      | 1.96862                |</pre>"
      ],
      "text/plain": [
       "| 1092    | 25m 35s      | 1.96862                |"
      ]
     },
     "metadata": {},
     "output_type": "display_data"
    },
    {
     "data": {
      "text/html": [
       "<pre>| 1093    | 25m 37s      | 1.96861                |</pre>"
      ],
      "text/plain": [
       "| 1093    | 25m 37s      | 1.96861                |"
      ]
     },
     "metadata": {},
     "output_type": "display_data"
    },
    {
     "data": {
      "text/html": [
       "<pre>| 1094    | 25m 39s      | 1.96861                |</pre>"
      ],
      "text/plain": [
       "| 1094    | 25m 39s      | 1.96861                |"
      ]
     },
     "metadata": {},
     "output_type": "display_data"
    },
    {
     "data": {
      "text/html": [
       "<pre>| 1095    | 25m 41s      | 1.9686                 |</pre>"
      ],
      "text/plain": [
       "| 1095    | 25m 41s      | 1.9686                 |"
      ]
     },
     "metadata": {},
     "output_type": "display_data"
    },
    {
     "data": {
      "text/html": [
       "<pre>| 1096    | 25m 43s      | 1.9686                 |</pre>"
      ],
      "text/plain": [
       "| 1096    | 25m 43s      | 1.9686                 |"
      ]
     },
     "metadata": {},
     "output_type": "display_data"
    },
    {
     "data": {
      "text/html": [
       "<pre>| 1097    | 25m 44s      | 1.9686                 |</pre>"
      ],
      "text/plain": [
       "| 1097    | 25m 44s      | 1.9686                 |"
      ]
     },
     "metadata": {},
     "output_type": "display_data"
    },
    {
     "data": {
      "text/html": [
       "<pre>| 1098    | 25m 45s      | 1.96859                |</pre>"
      ],
      "text/plain": [
       "| 1098    | 25m 45s      | 1.96859                |"
      ]
     },
     "metadata": {},
     "output_type": "display_data"
    },
    {
     "data": {
      "text/html": [
       "<pre>| 1099    | 25m 47s      | 1.96859                |</pre>"
      ],
      "text/plain": [
       "| 1099    | 25m 47s      | 1.96859                |"
      ]
     },
     "metadata": {},
     "output_type": "display_data"
    },
    {
     "data": {
      "text/html": [
       "<pre>| 1100    | 25m 48s      | 1.96858                |</pre>"
      ],
      "text/plain": [
       "| 1100    | 25m 48s      | 1.96858                |"
      ]
     },
     "metadata": {},
     "output_type": "display_data"
    },
    {
     "data": {
      "text/html": [
       "<pre>| 1101    | 25m 49s      | 1.96858                |</pre>"
      ],
      "text/plain": [
       "| 1101    | 25m 49s      | 1.96858                |"
      ]
     },
     "metadata": {},
     "output_type": "display_data"
    },
    {
     "data": {
      "text/html": [
       "<pre>| 1102    | 25m 50s      | 1.96858                |</pre>"
      ],
      "text/plain": [
       "| 1102    | 25m 50s      | 1.96858                |"
      ]
     },
     "metadata": {},
     "output_type": "display_data"
    },
    {
     "data": {
      "text/html": [
       "<pre>| 1103    | 25m 52s      | 1.96857                |</pre>"
      ],
      "text/plain": [
       "| 1103    | 25m 52s      | 1.96857                |"
      ]
     },
     "metadata": {},
     "output_type": "display_data"
    },
    {
     "data": {
      "text/html": [
       "<pre>| 1104    | 25m 53s      | 1.96857                |</pre>"
      ],
      "text/plain": [
       "| 1104    | 25m 53s      | 1.96857                |"
      ]
     },
     "metadata": {},
     "output_type": "display_data"
    },
    {
     "data": {
      "text/html": [
       "<pre>| 1105    | 25m 54s      | 1.96856                |</pre>"
      ],
      "text/plain": [
       "| 1105    | 25m 54s      | 1.96856                |"
      ]
     },
     "metadata": {},
     "output_type": "display_data"
    },
    {
     "data": {
      "text/html": [
       "<pre>| 1106    | 25m 55s      | 1.96856                |</pre>"
      ],
      "text/plain": [
       "| 1106    | 25m 55s      | 1.96856                |"
      ]
     },
     "metadata": {},
     "output_type": "display_data"
    },
    {
     "data": {
      "text/html": [
       "<pre>| 1107    | 25m 57s      | 1.96856                |</pre>"
      ],
      "text/plain": [
       "| 1107    | 25m 57s      | 1.96856                |"
      ]
     },
     "metadata": {},
     "output_type": "display_data"
    },
    {
     "data": {
      "text/html": [
       "<pre>| 1108    | 25m 58s      | 1.96855                |</pre>"
      ],
      "text/plain": [
       "| 1108    | 25m 58s      | 1.96855                |"
      ]
     },
     "metadata": {},
     "output_type": "display_data"
    },
    {
     "data": {
      "text/html": [
       "<pre>| 1109    | 26m 0s       | 1.96855                |</pre>"
      ],
      "text/plain": [
       "| 1109    | 26m 0s       | 1.96855                |"
      ]
     },
     "metadata": {},
     "output_type": "display_data"
    },
    {
     "data": {
      "text/html": [
       "<pre>| 1110    | 26m 1s       | 1.96854                |</pre>"
      ],
      "text/plain": [
       "| 1110    | 26m 1s       | 1.96854                |"
      ]
     },
     "metadata": {},
     "output_type": "display_data"
    },
    {
     "data": {
      "text/html": [
       "<pre>| 1111    | 26m 2s       | 1.96854                |</pre>"
      ],
      "text/plain": [
       "| 1111    | 26m 2s       | 1.96854                |"
      ]
     },
     "metadata": {},
     "output_type": "display_data"
    },
    {
     "data": {
      "text/html": [
       "<pre>| 1112    | 26m 4s       | 1.96854                |</pre>"
      ],
      "text/plain": [
       "| 1112    | 26m 4s       | 1.96854                |"
      ]
     },
     "metadata": {},
     "output_type": "display_data"
    },
    {
     "data": {
      "text/html": [
       "<pre>| 1113    | 26m 5s       | 1.96853                |</pre>"
      ],
      "text/plain": [
       "| 1113    | 26m 5s       | 1.96853                |"
      ]
     },
     "metadata": {},
     "output_type": "display_data"
    },
    {
     "data": {
      "text/html": [
       "<pre>| 1114    | 26m 6s       | 1.96853                |</pre>"
      ],
      "text/plain": [
       "| 1114    | 26m 6s       | 1.96853                |"
      ]
     },
     "metadata": {},
     "output_type": "display_data"
    },
    {
     "data": {
      "text/html": [
       "<pre>| 1115    | 26m 7s       | 1.96852                |</pre>"
      ],
      "text/plain": [
       "| 1115    | 26m 7s       | 1.96852                |"
      ]
     },
     "metadata": {},
     "output_type": "display_data"
    },
    {
     "data": {
      "text/html": [
       "<pre>| 1116    | 26m 9s       | 1.96852                |</pre>"
      ],
      "text/plain": [
       "| 1116    | 26m 9s       | 1.96852                |"
      ]
     },
     "metadata": {},
     "output_type": "display_data"
    },
    {
     "data": {
      "text/html": [
       "<pre>| 1117    | 26m 10s      | 1.96852                |</pre>"
      ],
      "text/plain": [
       "| 1117    | 26m 10s      | 1.96852                |"
      ]
     },
     "metadata": {},
     "output_type": "display_data"
    },
    {
     "data": {
      "text/html": [
       "<pre>| 1118    | 26m 12s      | 1.96851                |</pre>"
      ],
      "text/plain": [
       "| 1118    | 26m 12s      | 1.96851                |"
      ]
     },
     "metadata": {},
     "output_type": "display_data"
    },
    {
     "data": {
      "text/html": [
       "<pre>| 1119    | 26m 13s      | 1.96851                |</pre>"
      ],
      "text/plain": [
       "| 1119    | 26m 13s      | 1.96851                |"
      ]
     },
     "metadata": {},
     "output_type": "display_data"
    },
    {
     "data": {
      "text/html": [
       "<pre>| 1120    | 26m 14s      | 1.96851                |</pre>"
      ],
      "text/plain": [
       "| 1120    | 26m 14s      | 1.96851                |"
      ]
     },
     "metadata": {},
     "output_type": "display_data"
    },
    {
     "data": {
      "text/html": [
       "<pre>| 1121    | 26m 16s      | 1.9685                 |</pre>"
      ],
      "text/plain": [
       "| 1121    | 26m 16s      | 1.9685                 |"
      ]
     },
     "metadata": {},
     "output_type": "display_data"
    },
    {
     "data": {
      "text/html": [
       "<pre>| 1122    | 26m 17s      | 1.9685                 |</pre>"
      ],
      "text/plain": [
       "| 1122    | 26m 17s      | 1.9685                 |"
      ]
     },
     "metadata": {},
     "output_type": "display_data"
    },
    {
     "data": {
      "text/html": [
       "<pre>| 1123    | 26m 19s      | 1.96849                |</pre>"
      ],
      "text/plain": [
       "| 1123    | 26m 19s      | 1.96849                |"
      ]
     },
     "metadata": {},
     "output_type": "display_data"
    },
    {
     "data": {
      "text/html": [
       "<pre>| 1124    | 26m 20s      | 1.96849                |</pre>"
      ],
      "text/plain": [
       "| 1124    | 26m 20s      | 1.96849                |"
      ]
     },
     "metadata": {},
     "output_type": "display_data"
    },
    {
     "data": {
      "text/html": [
       "<pre>| 1125    | 26m 21s      | 1.96848                |</pre>"
      ],
      "text/plain": [
       "| 1125    | 26m 21s      | 1.96848                |"
      ]
     },
     "metadata": {},
     "output_type": "display_data"
    },
    {
     "data": {
      "text/html": [
       "<pre>| 1126    | 26m 23s      | 1.96848                |</pre>"
      ],
      "text/plain": [
       "| 1126    | 26m 23s      | 1.96848                |"
      ]
     },
     "metadata": {},
     "output_type": "display_data"
    },
    {
     "data": {
      "text/html": [
       "<pre>| 1127    | 26m 24s      | 1.96847                |</pre>"
      ],
      "text/plain": [
       "| 1127    | 26m 24s      | 1.96847                |"
      ]
     },
     "metadata": {},
     "output_type": "display_data"
    },
    {
     "data": {
      "text/html": [
       "<pre>| 1128    | 26m 25s      | 1.96847                |</pre>"
      ],
      "text/plain": [
       "| 1128    | 26m 25s      | 1.96847                |"
      ]
     },
     "metadata": {},
     "output_type": "display_data"
    },
    {
     "data": {
      "text/html": [
       "<pre>| 1129    | 26m 26s      | 1.96846                |</pre>"
      ],
      "text/plain": [
       "| 1129    | 26m 26s      | 1.96846                |"
      ]
     },
     "metadata": {},
     "output_type": "display_data"
    },
    {
     "data": {
      "text/html": [
       "<pre>| 1130    | 26m 28s      | 1.96846                |</pre>"
      ],
      "text/plain": [
       "| 1130    | 26m 28s      | 1.96846                |"
      ]
     },
     "metadata": {},
     "output_type": "display_data"
    },
    {
     "data": {
      "text/html": [
       "<pre>| 1131    | 26m 29s      | 1.96845                |</pre>"
      ],
      "text/plain": [
       "| 1131    | 26m 29s      | 1.96845                |"
      ]
     },
     "metadata": {},
     "output_type": "display_data"
    },
    {
     "data": {
      "text/html": [
       "<pre>| 1132    | 26m 31s      | 1.96845                |</pre>"
      ],
      "text/plain": [
       "| 1132    | 26m 31s      | 1.96845                |"
      ]
     },
     "metadata": {},
     "output_type": "display_data"
    },
    {
     "data": {
      "text/html": [
       "<pre>| 1133    | 26m 32s      | 1.96844                |</pre>"
      ],
      "text/plain": [
       "| 1133    | 26m 32s      | 1.96844                |"
      ]
     },
     "metadata": {},
     "output_type": "display_data"
    },
    {
     "data": {
      "text/html": [
       "<pre>| 1134    | 26m 34s      | 1.96844                |</pre>"
      ],
      "text/plain": [
       "| 1134    | 26m 34s      | 1.96844                |"
      ]
     },
     "metadata": {},
     "output_type": "display_data"
    },
    {
     "data": {
      "text/html": [
       "<pre>| 1135    | 26m 35s      | 1.96844                |</pre>"
      ],
      "text/plain": [
       "| 1135    | 26m 35s      | 1.96844                |"
      ]
     },
     "metadata": {},
     "output_type": "display_data"
    },
    {
     "data": {
      "text/html": [
       "<pre>| 1136    | 26m 36s      | 1.96843                |</pre>"
      ],
      "text/plain": [
       "| 1136    | 26m 36s      | 1.96843                |"
      ]
     },
     "metadata": {},
     "output_type": "display_data"
    },
    {
     "data": {
      "text/html": [
       "<pre>| 1137    | 26m 37s      | 1.96843                |</pre>"
      ],
      "text/plain": [
       "| 1137    | 26m 37s      | 1.96843                |"
      ]
     },
     "metadata": {},
     "output_type": "display_data"
    },
    {
     "data": {
      "text/html": [
       "<pre>| 1138    | 26m 39s      | 1.96842                |</pre>"
      ],
      "text/plain": [
       "| 1138    | 26m 39s      | 1.96842                |"
      ]
     },
     "metadata": {},
     "output_type": "display_data"
    },
    {
     "data": {
      "text/html": [
       "<pre>| 1139    | 26m 40s      | 1.96842                |</pre>"
      ],
      "text/plain": [
       "| 1139    | 26m 40s      | 1.96842                |"
      ]
     },
     "metadata": {},
     "output_type": "display_data"
    },
    {
     "data": {
      "text/html": [
       "<pre>| 1140    | 26m 42s      | 1.96842                |</pre>"
      ],
      "text/plain": [
       "| 1140    | 26m 42s      | 1.96842                |"
      ]
     },
     "metadata": {},
     "output_type": "display_data"
    },
    {
     "data": {
      "text/html": [
       "<pre>| 1141    | 26m 44s      | 1.96841                |</pre>"
      ],
      "text/plain": [
       "| 1141    | 26m 44s      | 1.96841                |"
      ]
     },
     "metadata": {},
     "output_type": "display_data"
    },
    {
     "data": {
      "text/html": [
       "<pre>| 1142    | 26m 45s      | 1.96841                |</pre>"
      ],
      "text/plain": [
       "| 1142    | 26m 45s      | 1.96841                |"
      ]
     },
     "metadata": {},
     "output_type": "display_data"
    },
    {
     "data": {
      "text/html": [
       "<pre>| 1143    | 26m 47s      | 1.9684                 |</pre>"
      ],
      "text/plain": [
       "| 1143    | 26m 47s      | 1.9684                 |"
      ]
     },
     "metadata": {},
     "output_type": "display_data"
    },
    {
     "data": {
      "text/html": [
       "<pre>| 1144    | 26m 48s      | 1.9684                 |</pre>"
      ],
      "text/plain": [
       "| 1144    | 26m 48s      | 1.9684                 |"
      ]
     },
     "metadata": {},
     "output_type": "display_data"
    },
    {
     "data": {
      "text/html": [
       "<pre>| 1145    | 26m 49s      | 1.9684                 |</pre>"
      ],
      "text/plain": [
       "| 1145    | 26m 49s      | 1.9684                 |"
      ]
     },
     "metadata": {},
     "output_type": "display_data"
    },
    {
     "data": {
      "text/html": [
       "<pre>| 1146    | 26m 51s      | 1.96839                |</pre>"
      ],
      "text/plain": [
       "| 1146    | 26m 51s      | 1.96839                |"
      ]
     },
     "metadata": {},
     "output_type": "display_data"
    },
    {
     "data": {
      "text/html": [
       "<pre>| 1147    | 26m 52s      | 1.96839                |</pre>"
      ],
      "text/plain": [
       "| 1147    | 26m 52s      | 1.96839                |"
      ]
     },
     "metadata": {},
     "output_type": "display_data"
    },
    {
     "data": {
      "text/html": [
       "<pre>| 1148    | 26m 53s      | 1.96838                |</pre>"
      ],
      "text/plain": [
       "| 1148    | 26m 53s      | 1.96838                |"
      ]
     },
     "metadata": {},
     "output_type": "display_data"
    },
    {
     "data": {
      "text/html": [
       "<pre>| 1149    | 26m 54s      | 1.96838                |</pre>"
      ],
      "text/plain": [
       "| 1149    | 26m 54s      | 1.96838                |"
      ]
     },
     "metadata": {},
     "output_type": "display_data"
    },
    {
     "data": {
      "text/html": [
       "<pre>| 1150    | 26m 56s      | 1.96837                |</pre>"
      ],
      "text/plain": [
       "| 1150    | 26m 56s      | 1.96837                |"
      ]
     },
     "metadata": {},
     "output_type": "display_data"
    },
    {
     "data": {
      "text/html": [
       "<pre>| 1151    | 26m 57s      | 1.96837                |</pre>"
      ],
      "text/plain": [
       "| 1151    | 26m 57s      | 1.96837                |"
      ]
     },
     "metadata": {},
     "output_type": "display_data"
    },
    {
     "data": {
      "text/html": [
       "<pre>| 1152    | 26m 58s      | 1.96837                |</pre>"
      ],
      "text/plain": [
       "| 1152    | 26m 58s      | 1.96837                |"
      ]
     },
     "metadata": {},
     "output_type": "display_data"
    },
    {
     "data": {
      "text/html": [
       "<pre>| 1153    | 26m 59s      | 1.96836                |</pre>"
      ],
      "text/plain": [
       "| 1153    | 26m 59s      | 1.96836                |"
      ]
     },
     "metadata": {},
     "output_type": "display_data"
    },
    {
     "data": {
      "text/html": [
       "<pre>| 1154    | 27m 1s       | 1.96836                |</pre>"
      ],
      "text/plain": [
       "| 1154    | 27m 1s       | 1.96836                |"
      ]
     },
     "metadata": {},
     "output_type": "display_data"
    },
    {
     "data": {
      "text/html": [
       "<pre>| 1155    | 27m 2s       | 1.96836                |</pre>"
      ],
      "text/plain": [
       "| 1155    | 27m 2s       | 1.96836                |"
      ]
     },
     "metadata": {},
     "output_type": "display_data"
    },
    {
     "data": {
      "text/html": [
       "<pre>| 1156    | 27m 3s       | 1.96835                |</pre>"
      ],
      "text/plain": [
       "| 1156    | 27m 3s       | 1.96835                |"
      ]
     },
     "metadata": {},
     "output_type": "display_data"
    },
    {
     "data": {
      "text/html": [
       "<pre>| 1157    | 27m 4s       | 1.96835                |</pre>"
      ],
      "text/plain": [
       "| 1157    | 27m 4s       | 1.96835                |"
      ]
     },
     "metadata": {},
     "output_type": "display_data"
    },
    {
     "data": {
      "text/html": [
       "<pre>| 1158    | 27m 6s       | 1.96834                |</pre>"
      ],
      "text/plain": [
       "| 1158    | 27m 6s       | 1.96834                |"
      ]
     },
     "metadata": {},
     "output_type": "display_data"
    },
    {
     "data": {
      "text/html": [
       "<pre>| 1159    | 27m 7s       | 1.96834                |</pre>"
      ],
      "text/plain": [
       "| 1159    | 27m 7s       | 1.96834                |"
      ]
     },
     "metadata": {},
     "output_type": "display_data"
    },
    {
     "data": {
      "text/html": [
       "<pre>| 1160    | 27m 8s       | 1.96834                |</pre>"
      ],
      "text/plain": [
       "| 1160    | 27m 8s       | 1.96834                |"
      ]
     },
     "metadata": {},
     "output_type": "display_data"
    },
    {
     "data": {
      "text/html": [
       "<pre>| 1161    | 27m 9s       | 1.96833                |</pre>"
      ],
      "text/plain": [
       "| 1161    | 27m 9s       | 1.96833                |"
      ]
     },
     "metadata": {},
     "output_type": "display_data"
    },
    {
     "data": {
      "text/html": [
       "<pre>| 1162    | 27m 11s      | 1.96833                |</pre>"
      ],
      "text/plain": [
       "| 1162    | 27m 11s      | 1.96833                |"
      ]
     },
     "metadata": {},
     "output_type": "display_data"
    },
    {
     "data": {
      "text/html": [
       "<pre>| 1163    | 27m 12s      | 1.96833                |</pre>"
      ],
      "text/plain": [
       "| 1163    | 27m 12s      | 1.96833                |"
      ]
     },
     "metadata": {},
     "output_type": "display_data"
    },
    {
     "data": {
      "text/html": [
       "<pre>| 1164    | 27m 13s      | 1.96832                |</pre>"
      ],
      "text/plain": [
       "| 1164    | 27m 13s      | 1.96832                |"
      ]
     },
     "metadata": {},
     "output_type": "display_data"
    },
    {
     "data": {
      "text/html": [
       "<pre>| 1165    | 27m 15s      | 1.96832                |</pre>"
      ],
      "text/plain": [
       "| 1165    | 27m 15s      | 1.96832                |"
      ]
     },
     "metadata": {},
     "output_type": "display_data"
    },
    {
     "data": {
      "text/html": [
       "<pre>| 1166    | 27m 16s      | 1.96832                |</pre>"
      ],
      "text/plain": [
       "| 1166    | 27m 16s      | 1.96832                |"
      ]
     },
     "metadata": {},
     "output_type": "display_data"
    },
    {
     "data": {
      "text/html": [
       "<pre>| 1167    | 27m 18s      | 1.96831                |</pre>"
      ],
      "text/plain": [
       "| 1167    | 27m 18s      | 1.96831                |"
      ]
     },
     "metadata": {},
     "output_type": "display_data"
    },
    {
     "data": {
      "text/html": [
       "<pre>| 1168    | 27m 19s      | 1.96831                |</pre>"
      ],
      "text/plain": [
       "| 1168    | 27m 19s      | 1.96831                |"
      ]
     },
     "metadata": {},
     "output_type": "display_data"
    },
    {
     "data": {
      "text/html": [
       "<pre>| 1169    | 27m 20s      | 1.96831                |</pre>"
      ],
      "text/plain": [
       "| 1169    | 27m 20s      | 1.96831                |"
      ]
     },
     "metadata": {},
     "output_type": "display_data"
    },
    {
     "data": {
      "text/html": [
       "<pre>| 1170    | 27m 22s      | 1.9683                 |</pre>"
      ],
      "text/plain": [
       "| 1170    | 27m 22s      | 1.9683                 |"
      ]
     },
     "metadata": {},
     "output_type": "display_data"
    },
    {
     "data": {
      "text/html": [
       "<pre>| 1171    | 27m 23s      | 1.9683                 |</pre>"
      ],
      "text/plain": [
       "| 1171    | 27m 23s      | 1.9683                 |"
      ]
     },
     "metadata": {},
     "output_type": "display_data"
    },
    {
     "data": {
      "text/html": [
       "<pre>| 1172    | 27m 24s      | 1.9683                 |</pre>"
      ],
      "text/plain": [
       "| 1172    | 27m 24s      | 1.9683                 |"
      ]
     },
     "metadata": {},
     "output_type": "display_data"
    },
    {
     "data": {
      "text/html": [
       "<pre>| 1173    | 27m 26s      | 1.96829                |</pre>"
      ],
      "text/plain": [
       "| 1173    | 27m 26s      | 1.96829                |"
      ]
     },
     "metadata": {},
     "output_type": "display_data"
    },
    {
     "data": {
      "text/html": [
       "<pre>| 1174    | 27m 27s      | 1.96829                |</pre>"
      ],
      "text/plain": [
       "| 1174    | 27m 27s      | 1.96829                |"
      ]
     },
     "metadata": {},
     "output_type": "display_data"
    },
    {
     "data": {
      "text/html": [
       "<pre>| 1175    | 27m 28s      | 1.96829                |</pre>"
      ],
      "text/plain": [
       "| 1175    | 27m 28s      | 1.96829                |"
      ]
     },
     "metadata": {},
     "output_type": "display_data"
    },
    {
     "data": {
      "text/html": [
       "<pre>| 1176    | 27m 29s      | 1.96828                |</pre>"
      ],
      "text/plain": [
       "| 1176    | 27m 29s      | 1.96828                |"
      ]
     },
     "metadata": {},
     "output_type": "display_data"
    },
    {
     "data": {
      "text/html": [
       "<pre>| 1177    | 27m 31s      | 1.96828                |</pre>"
      ],
      "text/plain": [
       "| 1177    | 27m 31s      | 1.96828                |"
      ]
     },
     "metadata": {},
     "output_type": "display_data"
    },
    {
     "data": {
      "text/html": [
       "<pre>| 1178    | 27m 32s      | 1.96828                |</pre>"
      ],
      "text/plain": [
       "| 1178    | 27m 32s      | 1.96828                |"
      ]
     },
     "metadata": {},
     "output_type": "display_data"
    },
    {
     "data": {
      "text/html": [
       "<pre>| 1179    | 27m 33s      | 1.96827                |</pre>"
      ],
      "text/plain": [
       "| 1179    | 27m 33s      | 1.96827                |"
      ]
     },
     "metadata": {},
     "output_type": "display_data"
    },
    {
     "data": {
      "text/html": [
       "<pre>| 1180    | 27m 35s      | 1.96827                |</pre>"
      ],
      "text/plain": [
       "| 1180    | 27m 35s      | 1.96827                |"
      ]
     },
     "metadata": {},
     "output_type": "display_data"
    },
    {
     "data": {
      "text/html": [
       "<pre>| 1181    | 27m 36s      | 1.96827                |</pre>"
      ],
      "text/plain": [
       "| 1181    | 27m 36s      | 1.96827                |"
      ]
     },
     "metadata": {},
     "output_type": "display_data"
    },
    {
     "data": {
      "text/html": [
       "<pre>| 1182    | 27m 38s      | 1.96826                |</pre>"
      ],
      "text/plain": [
       "| 1182    | 27m 38s      | 1.96826                |"
      ]
     },
     "metadata": {},
     "output_type": "display_data"
    },
    {
     "data": {
      "text/html": [
       "<pre>| 1183    | 27m 40s      | 1.96826                |</pre>"
      ],
      "text/plain": [
       "| 1183    | 27m 40s      | 1.96826                |"
      ]
     },
     "metadata": {},
     "output_type": "display_data"
    },
    {
     "data": {
      "text/html": [
       "<pre>| 1184    | 27m 41s      | 1.96826                |</pre>"
      ],
      "text/plain": [
       "| 1184    | 27m 41s      | 1.96826                |"
      ]
     },
     "metadata": {},
     "output_type": "display_data"
    },
    {
     "data": {
      "text/html": [
       "<pre>| 1185    | 27m 43s      | 1.96826                |</pre>"
      ],
      "text/plain": [
       "| 1185    | 27m 43s      | 1.96826                |"
      ]
     },
     "metadata": {},
     "output_type": "display_data"
    },
    {
     "data": {
      "text/html": [
       "<pre>| 1186    | 27m 44s      | 1.96825                |</pre>"
      ],
      "text/plain": [
       "| 1186    | 27m 44s      | 1.96825                |"
      ]
     },
     "metadata": {},
     "output_type": "display_data"
    },
    {
     "data": {
      "text/html": [
       "<pre>| 1187    | 27m 46s      | 1.96825                |</pre>"
      ],
      "text/plain": [
       "| 1187    | 27m 46s      | 1.96825                |"
      ]
     },
     "metadata": {},
     "output_type": "display_data"
    },
    {
     "data": {
      "text/html": [
       "<pre>| 1188    | 27m 47s      | 1.96824                |</pre>"
      ],
      "text/plain": [
       "| 1188    | 27m 47s      | 1.96824                |"
      ]
     },
     "metadata": {},
     "output_type": "display_data"
    },
    {
     "data": {
      "text/html": [
       "<pre>| 1189    | 27m 48s      | 1.96824                |</pre>"
      ],
      "text/plain": [
       "| 1189    | 27m 48s      | 1.96824                |"
      ]
     },
     "metadata": {},
     "output_type": "display_data"
    },
    {
     "data": {
      "text/html": [
       "<pre>| 1190    | 27m 49s      | 1.96824                |</pre>"
      ],
      "text/plain": [
       "| 1190    | 27m 49s      | 1.96824                |"
      ]
     },
     "metadata": {},
     "output_type": "display_data"
    },
    {
     "data": {
      "text/html": [
       "<pre>| 1191    | 27m 51s      | 1.96824                |</pre>"
      ],
      "text/plain": [
       "| 1191    | 27m 51s      | 1.96824                |"
      ]
     },
     "metadata": {},
     "output_type": "display_data"
    },
    {
     "data": {
      "text/html": [
       "<pre>| 1192    | 27m 52s      | 1.96823                |</pre>"
      ],
      "text/plain": [
       "| 1192    | 27m 52s      | 1.96823                |"
      ]
     },
     "metadata": {},
     "output_type": "display_data"
    },
    {
     "data": {
      "text/html": [
       "<pre>| 1193    | 27m 54s      | 1.96823                |</pre>"
      ],
      "text/plain": [
       "| 1193    | 27m 54s      | 1.96823                |"
      ]
     },
     "metadata": {},
     "output_type": "display_data"
    },
    {
     "data": {
      "text/html": [
       "<pre>| 1194    | 27m 55s      | 1.96823                |</pre>"
      ],
      "text/plain": [
       "| 1194    | 27m 55s      | 1.96823                |"
      ]
     },
     "metadata": {},
     "output_type": "display_data"
    },
    {
     "data": {
      "text/html": [
       "<pre>| 1195    | 27m 56s      | 1.96822                |</pre>"
      ],
      "text/plain": [
       "| 1195    | 27m 56s      | 1.96822                |"
      ]
     },
     "metadata": {},
     "output_type": "display_data"
    },
    {
     "data": {
      "text/html": [
       "<pre>| 1196    | 27m 58s      | 1.96822                |</pre>"
      ],
      "text/plain": [
       "| 1196    | 27m 58s      | 1.96822                |"
      ]
     },
     "metadata": {},
     "output_type": "display_data"
    },
    {
     "data": {
      "text/html": [
       "<pre>| 1197    | 27m 59s      | 1.96822                |</pre>"
      ],
      "text/plain": [
       "| 1197    | 27m 59s      | 1.96822                |"
      ]
     },
     "metadata": {},
     "output_type": "display_data"
    },
    {
     "data": {
      "text/html": [
       "<pre>| 1198    | 28m 0s       | 1.96822                |</pre>"
      ],
      "text/plain": [
       "| 1198    | 28m 0s       | 1.96822                |"
      ]
     },
     "metadata": {},
     "output_type": "display_data"
    },
    {
     "data": {
      "text/html": [
       "<pre>| 1199    | 28m 2s       | 1.96821                |</pre>"
      ],
      "text/plain": [
       "| 1199    | 28m 2s       | 1.96821                |"
      ]
     },
     "metadata": {},
     "output_type": "display_data"
    },
    {
     "data": {
      "text/html": [
       "<pre>| 1200    | 28m 3s       | 1.96821                |</pre>"
      ],
      "text/plain": [
       "| 1200    | 28m 3s       | 1.96821                |"
      ]
     },
     "metadata": {},
     "output_type": "display_data"
    },
    {
     "data": {
      "text/html": [
       "<pre>| 1201    | 28m 5s       | 1.96821                |</pre>"
      ],
      "text/plain": [
       "| 1201    | 28m 5s       | 1.96821                |"
      ]
     },
     "metadata": {},
     "output_type": "display_data"
    },
    {
     "data": {
      "text/html": [
       "<pre>| 1202    | 28m 6s       | 1.9682                 |</pre>"
      ],
      "text/plain": [
       "| 1202    | 28m 6s       | 1.9682                 |"
      ]
     },
     "metadata": {},
     "output_type": "display_data"
    },
    {
     "data": {
      "text/html": [
       "<pre>| 1203    | 28m 7s       | 1.9682                 |</pre>"
      ],
      "text/plain": [
       "| 1203    | 28m 7s       | 1.9682                 |"
      ]
     },
     "metadata": {},
     "output_type": "display_data"
    },
    {
     "data": {
      "text/html": [
       "<pre>| 1204    | 28m 9s       | 1.9682                 |</pre>"
      ],
      "text/plain": [
       "| 1204    | 28m 9s       | 1.9682                 |"
      ]
     },
     "metadata": {},
     "output_type": "display_data"
    },
    {
     "data": {
      "text/html": [
       "<pre>| 1205    | 28m 10s      | 1.96819                |</pre>"
      ],
      "text/plain": [
       "| 1205    | 28m 10s      | 1.96819                |"
      ]
     },
     "metadata": {},
     "output_type": "display_data"
    },
    {
     "data": {
      "text/html": [
       "<pre>| 1206    | 28m 12s      | 1.96819                |</pre>"
      ],
      "text/plain": [
       "| 1206    | 28m 12s      | 1.96819                |"
      ]
     },
     "metadata": {},
     "output_type": "display_data"
    },
    {
     "data": {
      "text/html": [
       "<pre>| 1207    | 28m 14s      | 1.96819                |</pre>"
      ],
      "text/plain": [
       "| 1207    | 28m 14s      | 1.96819                |"
      ]
     },
     "metadata": {},
     "output_type": "display_data"
    },
    {
     "data": {
      "text/html": [
       "<pre>| 1208    | 28m 15s      | 1.96819                |</pre>"
      ],
      "text/plain": [
       "| 1208    | 28m 15s      | 1.96819                |"
      ]
     },
     "metadata": {},
     "output_type": "display_data"
    },
    {
     "data": {
      "text/html": [
       "<pre>| 1209    | 28m 17s      | 1.96818                |</pre>"
      ],
      "text/plain": [
       "| 1209    | 28m 17s      | 1.96818                |"
      ]
     },
     "metadata": {},
     "output_type": "display_data"
    },
    {
     "data": {
      "text/html": [
       "<pre>| 1210    | 28m 18s      | 1.96818                |</pre>"
      ],
      "text/plain": [
       "| 1210    | 28m 18s      | 1.96818                |"
      ]
     },
     "metadata": {},
     "output_type": "display_data"
    },
    {
     "data": {
      "text/html": [
       "<pre>| 1211    | 28m 20s      | 1.96818                |</pre>"
      ],
      "text/plain": [
       "| 1211    | 28m 20s      | 1.96818                |"
      ]
     },
     "metadata": {},
     "output_type": "display_data"
    },
    {
     "data": {
      "text/html": [
       "<pre>| 1212    | 28m 21s      | 1.96817                |</pre>"
      ],
      "text/plain": [
       "| 1212    | 28m 21s      | 1.96817                |"
      ]
     },
     "metadata": {},
     "output_type": "display_data"
    },
    {
     "data": {
      "text/html": [
       "<pre>| 1213    | 28m 23s      | 1.96817                |</pre>"
      ],
      "text/plain": [
       "| 1213    | 28m 23s      | 1.96817                |"
      ]
     },
     "metadata": {},
     "output_type": "display_data"
    },
    {
     "data": {
      "text/html": [
       "<pre>| 1214    | 28m 25s      | 1.96817                |</pre>"
      ],
      "text/plain": [
       "| 1214    | 28m 25s      | 1.96817                |"
      ]
     },
     "metadata": {},
     "output_type": "display_data"
    },
    {
     "data": {
      "text/html": [
       "<pre>| 1215    | 28m 26s      | 1.96816                |</pre>"
      ],
      "text/plain": [
       "| 1215    | 28m 26s      | 1.96816                |"
      ]
     },
     "metadata": {},
     "output_type": "display_data"
    },
    {
     "data": {
      "text/html": [
       "<pre>| 1216    | 28m 28s      | 1.96816                |</pre>"
      ],
      "text/plain": [
       "| 1216    | 28m 28s      | 1.96816                |"
      ]
     },
     "metadata": {},
     "output_type": "display_data"
    },
    {
     "data": {
      "text/html": [
       "<pre>| 1217    | 28m 29s      | 1.96816                |</pre>"
      ],
      "text/plain": [
       "| 1217    | 28m 29s      | 1.96816                |"
      ]
     },
     "metadata": {},
     "output_type": "display_data"
    },
    {
     "data": {
      "text/html": [
       "<pre>| 1218    | 28m 31s      | 1.96816                |</pre>"
      ],
      "text/plain": [
       "| 1218    | 28m 31s      | 1.96816                |"
      ]
     },
     "metadata": {},
     "output_type": "display_data"
    },
    {
     "data": {
      "text/html": [
       "<pre>| 1219    | 28m 33s      | 1.96815                |</pre>"
      ],
      "text/plain": [
       "| 1219    | 28m 33s      | 1.96815                |"
      ]
     },
     "metadata": {},
     "output_type": "display_data"
    },
    {
     "data": {
      "text/html": [
       "<pre>| 1220    | 28m 34s      | 1.96815                |</pre>"
      ],
      "text/plain": [
       "| 1220    | 28m 34s      | 1.96815                |"
      ]
     },
     "metadata": {},
     "output_type": "display_data"
    },
    {
     "data": {
      "text/html": [
       "<pre>| 1221    | 28m 36s      | 1.96815                |</pre>"
      ],
      "text/plain": [
       "| 1221    | 28m 36s      | 1.96815                |"
      ]
     },
     "metadata": {},
     "output_type": "display_data"
    },
    {
     "data": {
      "text/html": [
       "<pre>| 1222    | 28m 37s      | 1.96814                |</pre>"
      ],
      "text/plain": [
       "| 1222    | 28m 37s      | 1.96814                |"
      ]
     },
     "metadata": {},
     "output_type": "display_data"
    },
    {
     "data": {
      "text/html": [
       "<pre>| 1223    | 28m 39s      | 1.96814                |</pre>"
      ],
      "text/plain": [
       "| 1223    | 28m 39s      | 1.96814                |"
      ]
     },
     "metadata": {},
     "output_type": "display_data"
    },
    {
     "data": {
      "text/html": [
       "<pre>| 1224    | 28m 40s      | 1.96814                |</pre>"
      ],
      "text/plain": [
       "| 1224    | 28m 40s      | 1.96814                |"
      ]
     },
     "metadata": {},
     "output_type": "display_data"
    },
    {
     "data": {
      "text/html": [
       "<pre>| 1225    | 28m 42s      | 1.96814                |</pre>"
      ],
      "text/plain": [
       "| 1225    | 28m 42s      | 1.96814                |"
      ]
     },
     "metadata": {},
     "output_type": "display_data"
    },
    {
     "data": {
      "text/html": [
       "<pre>| 1226    | 28m 44s      | 1.96813                |</pre>"
      ],
      "text/plain": [
       "| 1226    | 28m 44s      | 1.96813                |"
      ]
     },
     "metadata": {},
     "output_type": "display_data"
    },
    {
     "data": {
      "text/html": [
       "<pre>| 1227    | 28m 46s      | 1.96813                |</pre>"
      ],
      "text/plain": [
       "| 1227    | 28m 46s      | 1.96813                |"
      ]
     },
     "metadata": {},
     "output_type": "display_data"
    },
    {
     "data": {
      "text/html": [
       "<pre>| 1228    | 28m 47s      | 1.96813                |</pre>"
      ],
      "text/plain": [
       "| 1228    | 28m 47s      | 1.96813                |"
      ]
     },
     "metadata": {},
     "output_type": "display_data"
    },
    {
     "data": {
      "text/html": [
       "<pre>| 1229    | 28m 49s      | 1.96813                |</pre>"
      ],
      "text/plain": [
       "| 1229    | 28m 49s      | 1.96813                |"
      ]
     },
     "metadata": {},
     "output_type": "display_data"
    },
    {
     "data": {
      "text/html": [
       "<pre>| 1230    | 28m 50s      | 1.96812                |</pre>"
      ],
      "text/plain": [
       "| 1230    | 28m 50s      | 1.96812                |"
      ]
     },
     "metadata": {},
     "output_type": "display_data"
    },
    {
     "data": {
      "text/html": [
       "<pre>| 1231    | 28m 52s      | 1.96812                |</pre>"
      ],
      "text/plain": [
       "| 1231    | 28m 52s      | 1.96812                |"
      ]
     },
     "metadata": {},
     "output_type": "display_data"
    },
    {
     "data": {
      "text/html": [
       "<pre>| 1232    | 28m 53s      | 1.96812                |</pre>"
      ],
      "text/plain": [
       "| 1232    | 28m 53s      | 1.96812                |"
      ]
     },
     "metadata": {},
     "output_type": "display_data"
    },
    {
     "data": {
      "text/html": [
       "<pre>| 1233    | 28m 55s      | 1.96811                |</pre>"
      ],
      "text/plain": [
       "| 1233    | 28m 55s      | 1.96811                |"
      ]
     },
     "metadata": {},
     "output_type": "display_data"
    },
    {
     "data": {
      "text/html": [
       "<pre>| 1234    | 28m 56s      | 1.96811                |</pre>"
      ],
      "text/plain": [
       "| 1234    | 28m 56s      | 1.96811                |"
      ]
     },
     "metadata": {},
     "output_type": "display_data"
    },
    {
     "data": {
      "text/html": [
       "<pre>| 1235    | 28m 58s      | 1.96811                |</pre>"
      ],
      "text/plain": [
       "| 1235    | 28m 58s      | 1.96811                |"
      ]
     },
     "metadata": {},
     "output_type": "display_data"
    },
    {
     "data": {
      "text/html": [
       "<pre>| 1236    | 29m 0s       | 1.96811                |</pre>"
      ],
      "text/plain": [
       "| 1236    | 29m 0s       | 1.96811                |"
      ]
     },
     "metadata": {},
     "output_type": "display_data"
    },
    {
     "data": {
      "text/html": [
       "<pre>| 1237    | 29m 1s       | 1.9681                 |</pre>"
      ],
      "text/plain": [
       "| 1237    | 29m 1s       | 1.9681                 |"
      ]
     },
     "metadata": {},
     "output_type": "display_data"
    },
    {
     "data": {
      "text/html": [
       "<pre>| 1238    | 29m 3s       | 1.9681                 |</pre>"
      ],
      "text/plain": [
       "| 1238    | 29m 3s       | 1.9681                 |"
      ]
     },
     "metadata": {},
     "output_type": "display_data"
    },
    {
     "data": {
      "text/html": [
       "<pre>| 1239    | 29m 4s       | 1.9681                 |</pre>"
      ],
      "text/plain": [
       "| 1239    | 29m 4s       | 1.9681                 |"
      ]
     },
     "metadata": {},
     "output_type": "display_data"
    },
    {
     "data": {
      "text/html": [
       "<pre>| 1240    | 29m 6s       | 1.9681                 |</pre>"
      ],
      "text/plain": [
       "| 1240    | 29m 6s       | 1.9681                 |"
      ]
     },
     "metadata": {},
     "output_type": "display_data"
    },
    {
     "data": {
      "text/html": [
       "<pre>| 1241    | 29m 7s       | 1.96809                |</pre>"
      ],
      "text/plain": [
       "| 1241    | 29m 7s       | 1.96809                |"
      ]
     },
     "metadata": {},
     "output_type": "display_data"
    },
    {
     "data": {
      "text/html": [
       "<pre>| 1242    | 29m 9s       | 1.96809                |</pre>"
      ],
      "text/plain": [
       "| 1242    | 29m 9s       | 1.96809                |"
      ]
     },
     "metadata": {},
     "output_type": "display_data"
    },
    {
     "data": {
      "text/html": [
       "<pre>| 1243    | 29m 10s      | 1.96809                |</pre>"
      ],
      "text/plain": [
       "| 1243    | 29m 10s      | 1.96809                |"
      ]
     },
     "metadata": {},
     "output_type": "display_data"
    },
    {
     "data": {
      "text/html": [
       "<pre>| 1244    | 29m 12s      | 1.96809                |</pre>"
      ],
      "text/plain": [
       "| 1244    | 29m 12s      | 1.96809                |"
      ]
     },
     "metadata": {},
     "output_type": "display_data"
    },
    {
     "data": {
      "text/html": [
       "<pre>| 1245    | 29m 13s      | 1.96808                |</pre>"
      ],
      "text/plain": [
       "| 1245    | 29m 13s      | 1.96808                |"
      ]
     },
     "metadata": {},
     "output_type": "display_data"
    },
    {
     "data": {
      "text/html": [
       "<pre>| 1246    | 29m 15s      | 1.96808                |</pre>"
      ],
      "text/plain": [
       "| 1246    | 29m 15s      | 1.96808                |"
      ]
     },
     "metadata": {},
     "output_type": "display_data"
    },
    {
     "data": {
      "text/html": [
       "<pre>| 1247    | 29m 17s      | 1.96808                |</pre>"
      ],
      "text/plain": [
       "| 1247    | 29m 17s      | 1.96808                |"
      ]
     },
     "metadata": {},
     "output_type": "display_data"
    },
    {
     "data": {
      "text/html": [
       "<pre>| 1248    | 29m 18s      | 1.96808                |</pre>"
      ],
      "text/plain": [
       "| 1248    | 29m 18s      | 1.96808                |"
      ]
     },
     "metadata": {},
     "output_type": "display_data"
    },
    {
     "data": {
      "text/html": [
       "<pre>| 1249    | 29m 20s      | 1.96807                |</pre>"
      ],
      "text/plain": [
       "| 1249    | 29m 20s      | 1.96807                |"
      ]
     },
     "metadata": {},
     "output_type": "display_data"
    },
    {
     "data": {
      "text/html": [
       "<pre>| 1250    | 29m 21s      | 1.96807                |</pre>"
      ],
      "text/plain": [
       "| 1250    | 29m 21s      | 1.96807                |"
      ]
     },
     "metadata": {},
     "output_type": "display_data"
    },
    {
     "data": {
      "text/html": [
       "<pre>| 1251    | 29m 23s      | 1.96807                |</pre>"
      ],
      "text/plain": [
       "| 1251    | 29m 23s      | 1.96807                |"
      ]
     },
     "metadata": {},
     "output_type": "display_data"
    },
    {
     "data": {
      "text/html": [
       "<pre>| 1252    | 29m 24s      | 1.96807                |</pre>"
      ],
      "text/plain": [
       "| 1252    | 29m 24s      | 1.96807                |"
      ]
     },
     "metadata": {},
     "output_type": "display_data"
    },
    {
     "data": {
      "text/html": [
       "<pre>| 1253    | 29m 26s      | 1.96806                |</pre>"
      ],
      "text/plain": [
       "| 1253    | 29m 26s      | 1.96806                |"
      ]
     },
     "metadata": {},
     "output_type": "display_data"
    },
    {
     "data": {
      "text/html": [
       "<pre>| 1254    | 29m 27s      | 1.96806                |</pre>"
      ],
      "text/plain": [
       "| 1254    | 29m 27s      | 1.96806                |"
      ]
     },
     "metadata": {},
     "output_type": "display_data"
    },
    {
     "data": {
      "text/html": [
       "<pre>| 1255    | 29m 29s      | 1.96806                |</pre>"
      ],
      "text/plain": [
       "| 1255    | 29m 29s      | 1.96806                |"
      ]
     },
     "metadata": {},
     "output_type": "display_data"
    },
    {
     "data": {
      "text/html": [
       "<pre>| 1256    | 29m 30s      | 1.96806                |</pre>"
      ],
      "text/plain": [
       "| 1256    | 29m 30s      | 1.96806                |"
      ]
     },
     "metadata": {},
     "output_type": "display_data"
    },
    {
     "data": {
      "text/html": [
       "<pre>| 1257    | 29m 32s      | 1.96805                |</pre>"
      ],
      "text/plain": [
       "| 1257    | 29m 32s      | 1.96805                |"
      ]
     },
     "metadata": {},
     "output_type": "display_data"
    },
    {
     "data": {
      "text/html": [
       "<pre>| 1258    | 29m 34s      | 1.96805                |</pre>"
      ],
      "text/plain": [
       "| 1258    | 29m 34s      | 1.96805                |"
      ]
     },
     "metadata": {},
     "output_type": "display_data"
    },
    {
     "data": {
      "text/html": [
       "<pre>| 1259    | 29m 35s      | 1.96805                |</pre>"
      ],
      "text/plain": [
       "| 1259    | 29m 35s      | 1.96805                |"
      ]
     },
     "metadata": {},
     "output_type": "display_data"
    },
    {
     "data": {
      "text/html": [
       "<pre>| 1260    | 29m 37s      | 1.96805                |</pre>"
      ],
      "text/plain": [
       "| 1260    | 29m 37s      | 1.96805                |"
      ]
     },
     "metadata": {},
     "output_type": "display_data"
    },
    {
     "data": {
      "text/html": [
       "<pre>| 1261    | 29m 40s      | 1.96804                |</pre>"
      ],
      "text/plain": [
       "| 1261    | 29m 40s      | 1.96804                |"
      ]
     },
     "metadata": {},
     "output_type": "display_data"
    },
    {
     "data": {
      "text/html": [
       "<pre>| 1262    | 29m 42s      | 1.96804                |</pre>"
      ],
      "text/plain": [
       "| 1262    | 29m 42s      | 1.96804                |"
      ]
     },
     "metadata": {},
     "output_type": "display_data"
    },
    {
     "data": {
      "text/html": [
       "<pre>| 1263    | 29m 43s      | 1.96804                |</pre>"
      ],
      "text/plain": [
       "| 1263    | 29m 43s      | 1.96804                |"
      ]
     },
     "metadata": {},
     "output_type": "display_data"
    },
    {
     "data": {
      "text/html": [
       "<pre>| 1264    | 29m 45s      | 1.96804                |</pre>"
      ],
      "text/plain": [
       "| 1264    | 29m 45s      | 1.96804                |"
      ]
     },
     "metadata": {},
     "output_type": "display_data"
    },
    {
     "data": {
      "text/html": [
       "<pre>| 1265    | 29m 47s      | 1.96803                |</pre>"
      ],
      "text/plain": [
       "| 1265    | 29m 47s      | 1.96803                |"
      ]
     },
     "metadata": {},
     "output_type": "display_data"
    },
    {
     "data": {
      "text/html": [
       "<pre>| 1266    | 29m 49s      | 1.96803                |</pre>"
      ],
      "text/plain": [
       "| 1266    | 29m 49s      | 1.96803                |"
      ]
     },
     "metadata": {},
     "output_type": "display_data"
    },
    {
     "data": {
      "text/html": [
       "<pre>| 1267    | 29m 51s      | 1.96803                |</pre>"
      ],
      "text/plain": [
       "| 1267    | 29m 51s      | 1.96803                |"
      ]
     },
     "metadata": {},
     "output_type": "display_data"
    },
    {
     "data": {
      "text/html": [
       "<pre>| 1268    | 29m 53s      | 1.96803                |</pre>"
      ],
      "text/plain": [
       "| 1268    | 29m 53s      | 1.96803                |"
      ]
     },
     "metadata": {},
     "output_type": "display_data"
    },
    {
     "data": {
      "text/html": [
       "<pre>| 1269    | 29m 55s      | 1.96802                |</pre>"
      ],
      "text/plain": [
       "| 1269    | 29m 55s      | 1.96802                |"
      ]
     },
     "metadata": {},
     "output_type": "display_data"
    },
    {
     "data": {
      "text/html": [
       "<pre>| 1270    | 29m 57s      | 1.96802                |</pre>"
      ],
      "text/plain": [
       "| 1270    | 29m 57s      | 1.96802                |"
      ]
     },
     "metadata": {},
     "output_type": "display_data"
    },
    {
     "data": {
      "text/html": [
       "<pre>| 1271    | 29m 59s      | 1.96802                |</pre>"
      ],
      "text/plain": [
       "| 1271    | 29m 59s      | 1.96802                |"
      ]
     },
     "metadata": {},
     "output_type": "display_data"
    },
    {
     "data": {
      "text/html": [
       "<pre>| 1272    | 30m 0s       | 1.96801                |</pre>"
      ],
      "text/plain": [
       "| 1272    | 30m 0s       | 1.96801                |"
      ]
     },
     "metadata": {},
     "output_type": "display_data"
    },
    {
     "data": {
      "text/html": [
       "<pre>| 1273    | 30m 2s       | 1.96801                |</pre>"
      ],
      "text/plain": [
       "| 1273    | 30m 2s       | 1.96801                |"
      ]
     },
     "metadata": {},
     "output_type": "display_data"
    },
    {
     "data": {
      "text/html": [
       "<pre>| 1274    | 30m 4s       | 1.96801                |</pre>"
      ],
      "text/plain": [
       "| 1274    | 30m 4s       | 1.96801                |"
      ]
     },
     "metadata": {},
     "output_type": "display_data"
    },
    {
     "data": {
      "text/html": [
       "<pre>| 1275    | 30m 6s       | 1.96801                |</pre>"
      ],
      "text/plain": [
       "| 1275    | 30m 6s       | 1.96801                |"
      ]
     },
     "metadata": {},
     "output_type": "display_data"
    },
    {
     "data": {
      "text/html": [
       "<pre>| 1276    | 30m 8s       | 1.96801                |</pre>"
      ],
      "text/plain": [
       "| 1276    | 30m 8s       | 1.96801                |"
      ]
     },
     "metadata": {},
     "output_type": "display_data"
    },
    {
     "data": {
      "text/html": [
       "<pre>| 1277    | 30m 10s      | 1.968                  |</pre>"
      ],
      "text/plain": [
       "| 1277    | 30m 10s      | 1.968                  |"
      ]
     },
     "metadata": {},
     "output_type": "display_data"
    },
    {
     "data": {
      "text/html": [
       "<pre>| 1278    | 30m 11s      | 1.968                  |</pre>"
      ],
      "text/plain": [
       "| 1278    | 30m 11s      | 1.968                  |"
      ]
     },
     "metadata": {},
     "output_type": "display_data"
    },
    {
     "data": {
      "text/html": [
       "<pre>| 1279    | 30m 13s      | 1.968                  |</pre>"
      ],
      "text/plain": [
       "| 1279    | 30m 13s      | 1.968                  |"
      ]
     },
     "metadata": {},
     "output_type": "display_data"
    },
    {
     "data": {
      "text/html": [
       "<pre>| 1280    | 30m 15s      | 1.968                  |</pre>"
      ],
      "text/plain": [
       "| 1280    | 30m 15s      | 1.968                  |"
      ]
     },
     "metadata": {},
     "output_type": "display_data"
    },
    {
     "data": {
      "text/html": [
       "<pre>| 1281    | 30m 17s      | 1.96799                |</pre>"
      ],
      "text/plain": [
       "| 1281    | 30m 17s      | 1.96799                |"
      ]
     },
     "metadata": {},
     "output_type": "display_data"
    },
    {
     "data": {
      "text/html": [
       "<pre>| 1282    | 30m 19s      | 1.96799                |</pre>"
      ],
      "text/plain": [
       "| 1282    | 30m 19s      | 1.96799                |"
      ]
     },
     "metadata": {},
     "output_type": "display_data"
    },
    {
     "data": {
      "text/html": [
       "<pre>| 1283    | 30m 21s      | 1.96799                |</pre>"
      ],
      "text/plain": [
       "| 1283    | 30m 21s      | 1.96799                |"
      ]
     },
     "metadata": {},
     "output_type": "display_data"
    },
    {
     "data": {
      "text/html": [
       "<pre>| 1284    | 30m 22s      | 1.96798                |</pre>"
      ],
      "text/plain": [
       "| 1284    | 30m 22s      | 1.96798                |"
      ]
     },
     "metadata": {},
     "output_type": "display_data"
    },
    {
     "data": {
      "text/html": [
       "<pre>| 1285    | 30m 24s      | 1.96798                |</pre>"
      ],
      "text/plain": [
       "| 1285    | 30m 24s      | 1.96798                |"
      ]
     },
     "metadata": {},
     "output_type": "display_data"
    },
    {
     "data": {
      "text/html": [
       "<pre>| 1286    | 30m 25s      | 1.96798                |</pre>"
      ],
      "text/plain": [
       "| 1286    | 30m 25s      | 1.96798                |"
      ]
     },
     "metadata": {},
     "output_type": "display_data"
    },
    {
     "data": {
      "text/html": [
       "<pre>| 1287    | 30m 27s      | 1.96798                |</pre>"
      ],
      "text/plain": [
       "| 1287    | 30m 27s      | 1.96798                |"
      ]
     },
     "metadata": {},
     "output_type": "display_data"
    },
    {
     "data": {
      "text/html": [
       "<pre>| 1288    | 30m 29s      | 1.96797                |</pre>"
      ],
      "text/plain": [
       "| 1288    | 30m 29s      | 1.96797                |"
      ]
     },
     "metadata": {},
     "output_type": "display_data"
    },
    {
     "data": {
      "text/html": [
       "<pre>| 1289    | 30m 30s      | 1.96797                |</pre>"
      ],
      "text/plain": [
       "| 1289    | 30m 30s      | 1.96797                |"
      ]
     },
     "metadata": {},
     "output_type": "display_data"
    },
    {
     "data": {
      "text/html": [
       "<pre>| 1290    | 30m 32s      | 1.96797                |</pre>"
      ],
      "text/plain": [
       "| 1290    | 30m 32s      | 1.96797                |"
      ]
     },
     "metadata": {},
     "output_type": "display_data"
    },
    {
     "data": {
      "text/html": [
       "<pre>| 1291    | 30m 33s      | 1.96796                |</pre>"
      ],
      "text/plain": [
       "| 1291    | 30m 33s      | 1.96796                |"
      ]
     },
     "metadata": {},
     "output_type": "display_data"
    },
    {
     "data": {
      "text/html": [
       "<pre>| 1292    | 30m 35s      | 1.96796                |</pre>"
      ],
      "text/plain": [
       "| 1292    | 30m 35s      | 1.96796                |"
      ]
     },
     "metadata": {},
     "output_type": "display_data"
    },
    {
     "data": {
      "text/html": [
       "<pre>| 1293    | 30m 36s      | 1.96796                |</pre>"
      ],
      "text/plain": [
       "| 1293    | 30m 36s      | 1.96796                |"
      ]
     },
     "metadata": {},
     "output_type": "display_data"
    },
    {
     "data": {
      "text/html": [
       "<pre>| 1294    | 30m 38s      | 1.96795                |</pre>"
      ],
      "text/plain": [
       "| 1294    | 30m 38s      | 1.96795                |"
      ]
     },
     "metadata": {},
     "output_type": "display_data"
    },
    {
     "data": {
      "text/html": [
       "<pre>| 1295    | 30m 39s      | 1.96795                |</pre>"
      ],
      "text/plain": [
       "| 1295    | 30m 39s      | 1.96795                |"
      ]
     },
     "metadata": {},
     "output_type": "display_data"
    },
    {
     "data": {
      "text/html": [
       "<pre>| 1296    | 30m 41s      | 1.96794                |</pre>"
      ],
      "text/plain": [
       "| 1296    | 30m 41s      | 1.96794                |"
      ]
     },
     "metadata": {},
     "output_type": "display_data"
    },
    {
     "data": {
      "text/html": [
       "<pre>| 1297    | 30m 43s      | 1.96794                |</pre>"
      ],
      "text/plain": [
       "| 1297    | 30m 43s      | 1.96794                |"
      ]
     },
     "metadata": {},
     "output_type": "display_data"
    },
    {
     "data": {
      "text/html": [
       "<pre>| 1298    | 30m 44s      | 1.96794                |</pre>"
      ],
      "text/plain": [
       "| 1298    | 30m 44s      | 1.96794                |"
      ]
     },
     "metadata": {},
     "output_type": "display_data"
    },
    {
     "data": {
      "text/html": [
       "<pre>| 1299    | 30m 46s      | 1.96793                |</pre>"
      ],
      "text/plain": [
       "| 1299    | 30m 46s      | 1.96793                |"
      ]
     },
     "metadata": {},
     "output_type": "display_data"
    },
    {
     "data": {
      "text/html": [
       "<pre>| 1300    | 30m 47s      | 1.96794                |</pre>"
      ],
      "text/plain": [
       "| 1300    | 30m 47s      | 1.96794                |"
      ]
     },
     "metadata": {},
     "output_type": "display_data"
    },
    {
     "data": {
      "text/html": [
       "<pre>| 1301    | 30m 49s      | 1.96793                |</pre>"
      ],
      "text/plain": [
       "| 1301    | 30m 49s      | 1.96793                |"
      ]
     },
     "metadata": {},
     "output_type": "display_data"
    },
    {
     "data": {
      "text/html": [
       "<pre>| 1302    | 30m 51s      | 1.96793                |</pre>"
      ],
      "text/plain": [
       "| 1302    | 30m 51s      | 1.96793                |"
      ]
     },
     "metadata": {},
     "output_type": "display_data"
    },
    {
     "data": {
      "text/html": [
       "<pre>| 1303    | 30m 52s      | 1.96793                |</pre>"
      ],
      "text/plain": [
       "| 1303    | 30m 52s      | 1.96793                |"
      ]
     },
     "metadata": {},
     "output_type": "display_data"
    },
    {
     "data": {
      "text/html": [
       "<pre>| 1304    | 30m 54s      | 1.96792                |</pre>"
      ],
      "text/plain": [
       "| 1304    | 30m 54s      | 1.96792                |"
      ]
     },
     "metadata": {},
     "output_type": "display_data"
    },
    {
     "data": {
      "text/html": [
       "<pre>| 1305    | 30m 56s      | 1.96792                |</pre>"
      ],
      "text/plain": [
       "| 1305    | 30m 56s      | 1.96792                |"
      ]
     },
     "metadata": {},
     "output_type": "display_data"
    },
    {
     "data": {
      "text/html": [
       "<pre>| 1306    | 30m 57s      | 1.96792                |</pre>"
      ],
      "text/plain": [
       "| 1306    | 30m 57s      | 1.96792                |"
      ]
     },
     "metadata": {},
     "output_type": "display_data"
    },
    {
     "data": {
      "text/html": [
       "<pre>| 1307    | 30m 59s      | 1.96791                |</pre>"
      ],
      "text/plain": [
       "| 1307    | 30m 59s      | 1.96791                |"
      ]
     },
     "metadata": {},
     "output_type": "display_data"
    },
    {
     "data": {
      "text/html": [
       "<pre>| 1308    | 31m 0s       | 1.96791                |</pre>"
      ],
      "text/plain": [
       "| 1308    | 31m 0s       | 1.96791                |"
      ]
     },
     "metadata": {},
     "output_type": "display_data"
    },
    {
     "data": {
      "text/html": [
       "<pre>| 1309    | 31m 2s       | 1.96791                |</pre>"
      ],
      "text/plain": [
       "| 1309    | 31m 2s       | 1.96791                |"
      ]
     },
     "metadata": {},
     "output_type": "display_data"
    },
    {
     "data": {
      "text/html": [
       "<pre>| 1310    | 31m 3s       | 1.96791                |</pre>"
      ],
      "text/plain": [
       "| 1310    | 31m 3s       | 1.96791                |"
      ]
     },
     "metadata": {},
     "output_type": "display_data"
    },
    {
     "data": {
      "text/html": [
       "<pre>| 1311    | 31m 5s       | 1.9679                 |</pre>"
      ],
      "text/plain": [
       "| 1311    | 31m 5s       | 1.9679                 |"
      ]
     },
     "metadata": {},
     "output_type": "display_data"
    },
    {
     "data": {
      "text/html": [
       "<pre>| 1312    | 31m 7s       | 1.9679                 |</pre>"
      ],
      "text/plain": [
       "| 1312    | 31m 7s       | 1.9679                 |"
      ]
     },
     "metadata": {},
     "output_type": "display_data"
    },
    {
     "data": {
      "text/html": [
       "<pre>| 1313    | 31m 8s       | 1.9679                 |</pre>"
      ],
      "text/plain": [
       "| 1313    | 31m 8s       | 1.9679                 |"
      ]
     },
     "metadata": {},
     "output_type": "display_data"
    },
    {
     "data": {
      "text/html": [
       "<pre>| 1314    | 31m 10s      | 1.9679                 |</pre>"
      ],
      "text/plain": [
       "| 1314    | 31m 10s      | 1.9679                 |"
      ]
     },
     "metadata": {},
     "output_type": "display_data"
    },
    {
     "data": {
      "text/html": [
       "<pre>| 1315    | 31m 11s      | 1.96789                |</pre>"
      ],
      "text/plain": [
       "| 1315    | 31m 11s      | 1.96789                |"
      ]
     },
     "metadata": {},
     "output_type": "display_data"
    },
    {
     "data": {
      "text/html": [
       "<pre>| 1316    | 31m 13s      | 1.9679                 |</pre>"
      ],
      "text/plain": [
       "| 1316    | 31m 13s      | 1.9679                 |"
      ]
     },
     "metadata": {},
     "output_type": "display_data"
    },
    {
     "data": {
      "text/html": [
       "<pre>| 1317    | 31m 14s      | 1.96789                |</pre>"
      ],
      "text/plain": [
       "| 1317    | 31m 14s      | 1.96789                |"
      ]
     },
     "metadata": {},
     "output_type": "display_data"
    },
    {
     "data": {
      "text/html": [
       "<pre>| 1318    | 31m 16s      | 1.96789                |</pre>"
      ],
      "text/plain": [
       "| 1318    | 31m 16s      | 1.96789                |"
      ]
     },
     "metadata": {},
     "output_type": "display_data"
    },
    {
     "data": {
      "text/html": [
       "<pre>| 1319    | 31m 17s      | 1.96788                |</pre>"
      ],
      "text/plain": [
       "| 1319    | 31m 17s      | 1.96788                |"
      ]
     },
     "metadata": {},
     "output_type": "display_data"
    },
    {
     "data": {
      "text/html": [
       "<pre>| 1320    | 31m 19s      | 1.96788                |</pre>"
      ],
      "text/plain": [
       "| 1320    | 31m 19s      | 1.96788                |"
      ]
     },
     "metadata": {},
     "output_type": "display_data"
    },
    {
     "data": {
      "text/html": [
       "<pre>| 1321    | 31m 21s      | 1.96788                |</pre>"
      ],
      "text/plain": [
       "| 1321    | 31m 21s      | 1.96788                |"
      ]
     },
     "metadata": {},
     "output_type": "display_data"
    },
    {
     "data": {
      "text/html": [
       "<pre>| 1322    | 31m 22s      | 1.96788                |</pre>"
      ],
      "text/plain": [
       "| 1322    | 31m 22s      | 1.96788                |"
      ]
     },
     "metadata": {},
     "output_type": "display_data"
    },
    {
     "data": {
      "text/html": [
       "<pre>| 1323    | 31m 24s      | 1.96787                |</pre>"
      ],
      "text/plain": [
       "| 1323    | 31m 24s      | 1.96787                |"
      ]
     },
     "metadata": {},
     "output_type": "display_data"
    },
    {
     "data": {
      "text/html": [
       "<pre>| 1324    | 31m 25s      | 1.96787                |</pre>"
      ],
      "text/plain": [
       "| 1324    | 31m 25s      | 1.96787                |"
      ]
     },
     "metadata": {},
     "output_type": "display_data"
    },
    {
     "data": {
      "text/html": [
       "<pre>| 1325    | 31m 27s      | 1.96787                |</pre>"
      ],
      "text/plain": [
       "| 1325    | 31m 27s      | 1.96787                |"
      ]
     },
     "metadata": {},
     "output_type": "display_data"
    },
    {
     "data": {
      "text/html": [
       "<pre>| 1326    | 31m 28s      | 1.96787                |</pre>"
      ],
      "text/plain": [
       "| 1326    | 31m 28s      | 1.96787                |"
      ]
     },
     "metadata": {},
     "output_type": "display_data"
    },
    {
     "data": {
      "text/html": [
       "<pre>| 1327    | 31m 30s      | 1.96787                |</pre>"
      ],
      "text/plain": [
       "| 1327    | 31m 30s      | 1.96787                |"
      ]
     },
     "metadata": {},
     "output_type": "display_data"
    },
    {
     "data": {
      "text/html": [
       "<pre>| 1328    | 31m 31s      | 1.96787                |</pre>"
      ],
      "text/plain": [
       "| 1328    | 31m 31s      | 1.96787                |"
      ]
     },
     "metadata": {},
     "output_type": "display_data"
    },
    {
     "data": {
      "text/html": [
       "<pre>| 1329    | 31m 33s      | 1.96786                |</pre>"
      ],
      "text/plain": [
       "| 1329    | 31m 33s      | 1.96786                |"
      ]
     },
     "metadata": {},
     "output_type": "display_data"
    },
    {
     "data": {
      "text/html": [
       "<pre>| 1330    | 31m 35s      | 1.96786                |</pre>"
      ],
      "text/plain": [
       "| 1330    | 31m 35s      | 1.96786                |"
      ]
     },
     "metadata": {},
     "output_type": "display_data"
    },
    {
     "data": {
      "text/html": [
       "<pre>| 1331    | 31m 36s      | 1.96786                |</pre>"
      ],
      "text/plain": [
       "| 1331    | 31m 36s      | 1.96786                |"
      ]
     },
     "metadata": {},
     "output_type": "display_data"
    },
    {
     "data": {
      "text/html": [
       "<pre>| 1332    | 31m 38s      | 1.96786                |</pre>"
      ],
      "text/plain": [
       "| 1332    | 31m 38s      | 1.96786                |"
      ]
     },
     "metadata": {},
     "output_type": "display_data"
    },
    {
     "data": {
      "text/html": [
       "<pre>| 1333    | 31m 39s      | 1.96785                |</pre>"
      ],
      "text/plain": [
       "| 1333    | 31m 39s      | 1.96785                |"
      ]
     },
     "metadata": {},
     "output_type": "display_data"
    },
    {
     "data": {
      "text/html": [
       "<pre>| 1334    | 31m 41s      | 1.96786                |</pre>"
      ],
      "text/plain": [
       "| 1334    | 31m 41s      | 1.96786                |"
      ]
     },
     "metadata": {},
     "output_type": "display_data"
    },
    {
     "data": {
      "text/html": [
       "<pre>| 1335    | 31m 42s      | 1.96785                |</pre>"
      ],
      "text/plain": [
       "| 1335    | 31m 42s      | 1.96785                |"
      ]
     },
     "metadata": {},
     "output_type": "display_data"
    },
    {
     "data": {
      "text/html": [
       "<pre>| 1336    | 31m 44s      | 1.96785                |</pre>"
      ],
      "text/plain": [
       "| 1336    | 31m 44s      | 1.96785                |"
      ]
     },
     "metadata": {},
     "output_type": "display_data"
    },
    {
     "data": {
      "text/html": [
       "<pre>| 1337    | 31m 45s      | 1.96785                |</pre>"
      ],
      "text/plain": [
       "| 1337    | 31m 45s      | 1.96785                |"
      ]
     },
     "metadata": {},
     "output_type": "display_data"
    },
    {
     "data": {
      "text/html": [
       "<pre>| 1338    | 31m 47s      | 1.96784                |</pre>"
      ],
      "text/plain": [
       "| 1338    | 31m 47s      | 1.96784                |"
      ]
     },
     "metadata": {},
     "output_type": "display_data"
    },
    {
     "data": {
      "text/html": [
       "<pre>| 1339    | 31m 49s      | 1.96784                |</pre>"
      ],
      "text/plain": [
       "| 1339    | 31m 49s      | 1.96784                |"
      ]
     },
     "metadata": {},
     "output_type": "display_data"
    },
    {
     "data": {
      "text/html": [
       "<pre>| 1340    | 31m 50s      | 1.96784                |</pre>"
      ],
      "text/plain": [
       "| 1340    | 31m 50s      | 1.96784                |"
      ]
     },
     "metadata": {},
     "output_type": "display_data"
    },
    {
     "data": {
      "text/html": [
       "<pre>| 1341    | 31m 52s      | 1.96784                |</pre>"
      ],
      "text/plain": [
       "| 1341    | 31m 52s      | 1.96784                |"
      ]
     },
     "metadata": {},
     "output_type": "display_data"
    },
    {
     "data": {
      "text/html": [
       "<pre>| 1342    | 31m 53s      | 1.96784                |</pre>"
      ],
      "text/plain": [
       "| 1342    | 31m 53s      | 1.96784                |"
      ]
     },
     "metadata": {},
     "output_type": "display_data"
    },
    {
     "data": {
      "text/html": [
       "<pre>| 1343    | 31m 55s      | 1.96783                |</pre>"
      ],
      "text/plain": [
       "| 1343    | 31m 55s      | 1.96783                |"
      ]
     },
     "metadata": {},
     "output_type": "display_data"
    },
    {
     "data": {
      "text/html": [
       "<pre>| 1344    | 31m 56s      | 1.96783                |</pre>"
      ],
      "text/plain": [
       "| 1344    | 31m 56s      | 1.96783                |"
      ]
     },
     "metadata": {},
     "output_type": "display_data"
    },
    {
     "data": {
      "text/html": [
       "<pre>| 1345    | 31m 58s      | 1.96784                |</pre>"
      ],
      "text/plain": [
       "| 1345    | 31m 58s      | 1.96784                |"
      ]
     },
     "metadata": {},
     "output_type": "display_data"
    },
    {
     "data": {
      "text/html": [
       "<pre>| 1346    | 32m 0s       | 1.96783                |</pre>"
      ],
      "text/plain": [
       "| 1346    | 32m 0s       | 1.96783                |"
      ]
     },
     "metadata": {},
     "output_type": "display_data"
    },
    {
     "data": {
      "text/html": [
       "<pre>| 1347    | 32m 2s       | 1.96783                |</pre>"
      ],
      "text/plain": [
       "| 1347    | 32m 2s       | 1.96783                |"
      ]
     },
     "metadata": {},
     "output_type": "display_data"
    },
    {
     "data": {
      "text/html": [
       "<pre>| 1348    | 32m 4s       | 1.96782                |</pre>"
      ],
      "text/plain": [
       "| 1348    | 32m 4s       | 1.96782                |"
      ]
     },
     "metadata": {},
     "output_type": "display_data"
    },
    {
     "data": {
      "text/html": [
       "<pre>| 1349    | 32m 6s       | 1.96782                |</pre>"
      ],
      "text/plain": [
       "| 1349    | 32m 6s       | 1.96782                |"
      ]
     },
     "metadata": {},
     "output_type": "display_data"
    },
    {
     "data": {
      "text/html": [
       "<pre>| 1350    | 32m 8s       | 1.96782                |</pre>"
      ],
      "text/plain": [
       "| 1350    | 32m 8s       | 1.96782                |"
      ]
     },
     "metadata": {},
     "output_type": "display_data"
    },
    {
     "data": {
      "text/html": [
       "<pre>| 1351    | 32m 9s       | 1.96782                |</pre>"
      ],
      "text/plain": [
       "| 1351    | 32m 9s       | 1.96782                |"
      ]
     },
     "metadata": {},
     "output_type": "display_data"
    },
    {
     "data": {
      "text/html": [
       "<pre>| 1352    | 32m 11s      | 1.96782                |</pre>"
      ],
      "text/plain": [
       "| 1352    | 32m 11s      | 1.96782                |"
      ]
     },
     "metadata": {},
     "output_type": "display_data"
    },
    {
     "data": {
      "text/html": [
       "<pre>| 1353    | 32m 12s      | 1.96782                |</pre>"
      ],
      "text/plain": [
       "| 1353    | 32m 12s      | 1.96782                |"
      ]
     },
     "metadata": {},
     "output_type": "display_data"
    },
    {
     "data": {
      "text/html": [
       "<pre>| 1354    | 32m 14s      | 1.96781                |</pre>"
      ],
      "text/plain": [
       "| 1354    | 32m 14s      | 1.96781                |"
      ]
     },
     "metadata": {},
     "output_type": "display_data"
    },
    {
     "data": {
      "text/html": [
       "<pre>| 1355    | 32m 16s      | 1.96781                |</pre>"
      ],
      "text/plain": [
       "| 1355    | 32m 16s      | 1.96781                |"
      ]
     },
     "metadata": {},
     "output_type": "display_data"
    },
    {
     "data": {
      "text/html": [
       "<pre>| 1356    | 32m 18s      | 1.96781                |</pre>"
      ],
      "text/plain": [
       "| 1356    | 32m 18s      | 1.96781                |"
      ]
     },
     "metadata": {},
     "output_type": "display_data"
    },
    {
     "data": {
      "text/html": [
       "<pre>| 1357    | 32m 20s      | 1.96781                |</pre>"
      ],
      "text/plain": [
       "| 1357    | 32m 20s      | 1.96781                |"
      ]
     },
     "metadata": {},
     "output_type": "display_data"
    },
    {
     "data": {
      "text/html": [
       "<pre>| 1358    | 32m 21s      | 1.96781                |</pre>"
      ],
      "text/plain": [
       "| 1358    | 32m 21s      | 1.96781                |"
      ]
     },
     "metadata": {},
     "output_type": "display_data"
    },
    {
     "data": {
      "text/html": [
       "<pre>| 1359    | 32m 23s      | 1.9678                 |</pre>"
      ],
      "text/plain": [
       "| 1359    | 32m 23s      | 1.9678                 |"
      ]
     },
     "metadata": {},
     "output_type": "display_data"
    },
    {
     "data": {
      "text/html": [
       "<pre>| 1360    | 32m 24s      | 1.96781                |</pre>"
      ],
      "text/plain": [
       "| 1360    | 32m 24s      | 1.96781                |"
      ]
     },
     "metadata": {},
     "output_type": "display_data"
    },
    {
     "data": {
      "text/html": [
       "<pre>| 1361    | 32m 26s      | 1.9678                 |</pre>"
      ],
      "text/plain": [
       "| 1361    | 32m 26s      | 1.9678                 |"
      ]
     },
     "metadata": {},
     "output_type": "display_data"
    },
    {
     "data": {
      "text/html": [
       "<pre>| 1362    | 32m 27s      | 1.9678                 |</pre>"
      ],
      "text/plain": [
       "| 1362    | 32m 27s      | 1.9678                 |"
      ]
     },
     "metadata": {},
     "output_type": "display_data"
    },
    {
     "data": {
      "text/html": [
       "<pre>| 1363    | 32m 29s      | 1.9678                 |</pre>"
      ],
      "text/plain": [
       "| 1363    | 32m 29s      | 1.9678                 |"
      ]
     },
     "metadata": {},
     "output_type": "display_data"
    },
    {
     "data": {
      "text/html": [
       "<pre>| 1364    | 32m 31s      | 1.9678                 |</pre>"
      ],
      "text/plain": [
       "| 1364    | 32m 31s      | 1.9678                 |"
      ]
     },
     "metadata": {},
     "output_type": "display_data"
    },
    {
     "data": {
      "text/html": [
       "<pre>| 1365    | 32m 32s      | 1.96779                |</pre>"
      ],
      "text/plain": [
       "| 1365    | 32m 32s      | 1.96779                |"
      ]
     },
     "metadata": {},
     "output_type": "display_data"
    },
    {
     "data": {
      "text/html": [
       "<pre>| 1366    | 32m 34s      | 1.96779                |</pre>"
      ],
      "text/plain": [
       "| 1366    | 32m 34s      | 1.96779                |"
      ]
     },
     "metadata": {},
     "output_type": "display_data"
    },
    {
     "data": {
      "text/html": [
       "<pre>| 1367    | 32m 36s      | 1.96779                |</pre>"
      ],
      "text/plain": [
       "| 1367    | 32m 36s      | 1.96779                |"
      ]
     },
     "metadata": {},
     "output_type": "display_data"
    },
    {
     "data": {
      "text/html": [
       "<pre>| 1368    | 32m 37s      | 1.9678                 |</pre>"
      ],
      "text/plain": [
       "| 1368    | 32m 37s      | 1.9678                 |"
      ]
     },
     "metadata": {},
     "output_type": "display_data"
    },
    {
     "data": {
      "text/html": [
       "<pre>| 1369    | 32m 38s      | 1.96779                |</pre>"
      ],
      "text/plain": [
       "| 1369    | 32m 38s      | 1.96779                |"
      ]
     },
     "metadata": {},
     "output_type": "display_data"
    },
    {
     "data": {
      "text/html": [
       "<pre>| 1370    | 32m 40s      | 1.9678                 |</pre>"
      ],
      "text/plain": [
       "| 1370    | 32m 40s      | 1.9678                 |"
      ]
     },
     "metadata": {},
     "output_type": "display_data"
    },
    {
     "data": {
      "text/html": [
       "<pre>| 1371    | 32m 41s      | 1.96778                |</pre>"
      ],
      "text/plain": [
       "| 1371    | 32m 41s      | 1.96778                |"
      ]
     },
     "metadata": {},
     "output_type": "display_data"
    },
    {
     "data": {
      "text/html": [
       "<pre>| 1372    | 32m 42s      | 1.96779                |</pre>"
      ],
      "text/plain": [
       "| 1372    | 32m 42s      | 1.96779                |"
      ]
     },
     "metadata": {},
     "output_type": "display_data"
    },
    {
     "data": {
      "text/html": [
       "<pre>| 1373    | 32m 44s      | 1.96777                |</pre>"
      ],
      "text/plain": [
       "| 1373    | 32m 44s      | 1.96777                |"
      ]
     },
     "metadata": {},
     "output_type": "display_data"
    },
    {
     "data": {
      "text/html": [
       "<pre>| 1374    | 32m 45s      | 1.9678                 |</pre>"
      ],
      "text/plain": [
       "| 1374    | 32m 45s      | 1.9678                 |"
      ]
     },
     "metadata": {},
     "output_type": "display_data"
    },
    {
     "data": {
      "text/html": [
       "<pre>| 1375    | 32m 46s      | 1.96779                |</pre>"
      ],
      "text/plain": [
       "| 1375    | 32m 46s      | 1.96779                |"
      ]
     },
     "metadata": {},
     "output_type": "display_data"
    },
    {
     "data": {
      "text/html": [
       "<pre>| 1376    | 32m 47s      | 1.96779                |</pre>"
      ],
      "text/plain": [
       "| 1376    | 32m 47s      | 1.96779                |"
      ]
     },
     "metadata": {},
     "output_type": "display_data"
    },
    {
     "data": {
      "text/html": [
       "<pre>| 1377    | 32m 49s      | 1.96779                |</pre>"
      ],
      "text/plain": [
       "| 1377    | 32m 49s      | 1.96779                |"
      ]
     },
     "metadata": {},
     "output_type": "display_data"
    },
    {
     "data": {
      "text/html": [
       "<pre>| 1378    | 32m 50s      | 1.96778                |</pre>"
      ],
      "text/plain": [
       "| 1378    | 32m 50s      | 1.96778                |"
      ]
     },
     "metadata": {},
     "output_type": "display_data"
    },
    {
     "data": {
      "text/html": [
       "<pre>| 1379    | 32m 51s      | 1.96777                |</pre>"
      ],
      "text/plain": [
       "| 1379    | 32m 51s      | 1.96777                |"
      ]
     },
     "metadata": {},
     "output_type": "display_data"
    },
    {
     "data": {
      "text/html": [
       "<pre>| 1380    | 32m 53s      | 1.9678                 |</pre>"
      ],
      "text/plain": [
       "| 1380    | 32m 53s      | 1.9678                 |"
      ]
     },
     "metadata": {},
     "output_type": "display_data"
    },
    {
     "data": {
      "text/html": [
       "<pre>| 1381    | 32m 54s      | 1.96779                |</pre>"
      ],
      "text/plain": [
       "| 1381    | 32m 54s      | 1.96779                |"
      ]
     },
     "metadata": {},
     "output_type": "display_data"
    },
    {
     "data": {
      "text/html": [
       "<pre>| 1382    | 32m 56s      | 1.9678                 |</pre>"
      ],
      "text/plain": [
       "| 1382    | 32m 56s      | 1.9678                 |"
      ]
     },
     "metadata": {},
     "output_type": "display_data"
    },
    {
     "data": {
      "text/html": [
       "<pre>| 1383    | 32m 57s      | 1.9678                 |</pre>"
      ],
      "text/plain": [
       "| 1383    | 32m 57s      | 1.9678                 |"
      ]
     },
     "metadata": {},
     "output_type": "display_data"
    },
    {
     "data": {
      "text/html": [
       "<pre>| 1384    | 32m 58s      | 1.96779                |</pre>"
      ],
      "text/plain": [
       "| 1384    | 32m 58s      | 1.96779                |"
      ]
     },
     "metadata": {},
     "output_type": "display_data"
    },
    {
     "data": {
      "text/html": [
       "<pre>| 1385    | 33m 0s       | 1.9678                 |</pre>"
      ],
      "text/plain": [
       "| 1385    | 33m 0s       | 1.9678                 |"
      ]
     },
     "metadata": {},
     "output_type": "display_data"
    },
    {
     "data": {
      "text/html": [
       "<pre>| 1386    | 33m 1s       | 1.96782                |</pre>"
      ],
      "text/plain": [
       "| 1386    | 33m 1s       | 1.96782                |"
      ]
     },
     "metadata": {},
     "output_type": "display_data"
    },
    {
     "data": {
      "text/html": [
       "<pre>| 1387    | 33m 3s       | 1.96779                |</pre>"
      ],
      "text/plain": [
       "| 1387    | 33m 3s       | 1.96779                |"
      ]
     },
     "metadata": {},
     "output_type": "display_data"
    },
    {
     "data": {
      "text/html": [
       "<pre>| 1388    | 33m 4s       | 1.96779                |</pre>"
      ],
      "text/plain": [
       "| 1388    | 33m 4s       | 1.96779                |"
      ]
     },
     "metadata": {},
     "output_type": "display_data"
    },
    {
     "data": {
      "text/html": [
       "<pre>| 1389    | 33m 5s       | 1.9678                 |</pre>"
      ],
      "text/plain": [
       "| 1389    | 33m 5s       | 1.9678                 |"
      ]
     },
     "metadata": {},
     "output_type": "display_data"
    },
    {
     "data": {
      "text/html": [
       "<pre>| 1390    | 33m 7s       | 1.96779                |</pre>"
      ],
      "text/plain": [
       "| 1390    | 33m 7s       | 1.96779                |"
      ]
     },
     "metadata": {},
     "output_type": "display_data"
    },
    {
     "data": {
      "text/html": [
       "<pre>| 1391    | 33m 8s       | 1.96785                |</pre>"
      ],
      "text/plain": [
       "| 1391    | 33m 8s       | 1.96785                |"
      ]
     },
     "metadata": {},
     "output_type": "display_data"
    },
    {
     "data": {
      "text/html": [
       "<pre>| 1392    | 33m 10s      | 1.96781                |</pre>"
      ],
      "text/plain": [
       "| 1392    | 33m 10s      | 1.96781                |"
      ]
     },
     "metadata": {},
     "output_type": "display_data"
    },
    {
     "data": {
      "text/html": [
       "<pre>| 1393    | 33m 11s      | 1.96781                |</pre>"
      ],
      "text/plain": [
       "| 1393    | 33m 11s      | 1.96781                |"
      ]
     },
     "metadata": {},
     "output_type": "display_data"
    },
    {
     "data": {
      "text/html": [
       "<pre>| 1394    | 33m 12s      | 1.96781                |</pre>"
      ],
      "text/plain": [
       "| 1394    | 33m 12s      | 1.96781                |"
      ]
     },
     "metadata": {},
     "output_type": "display_data"
    },
    {
     "data": {
      "text/html": [
       "<pre>| 1395    | 33m 14s      | 1.96783                |</pre>"
      ],
      "text/plain": [
       "| 1395    | 33m 14s      | 1.96783                |"
      ]
     },
     "metadata": {},
     "output_type": "display_data"
    },
    {
     "data": {
      "text/html": [
       "<pre>| 1396    | 33m 16s      | 1.96788                |</pre>"
      ],
      "text/plain": [
       "| 1396    | 33m 16s      | 1.96788                |"
      ]
     },
     "metadata": {},
     "output_type": "display_data"
    },
    {
     "data": {
      "text/html": [
       "<pre>| 1397    | 33m 17s      | 1.96784                |</pre>"
      ],
      "text/plain": [
       "| 1397    | 33m 17s      | 1.96784                |"
      ]
     },
     "metadata": {},
     "output_type": "display_data"
    },
    {
     "data": {
      "text/html": [
       "<pre>| 1398    | 33m 18s      | 1.96783                |</pre>"
      ],
      "text/plain": [
       "| 1398    | 33m 18s      | 1.96783                |"
      ]
     },
     "metadata": {},
     "output_type": "display_data"
    },
    {
     "data": {
      "text/html": [
       "<pre>| 1399    | 33m 20s      | 1.96786                |</pre>"
      ],
      "text/plain": [
       "| 1399    | 33m 20s      | 1.96786                |"
      ]
     },
     "metadata": {},
     "output_type": "display_data"
    },
    {
     "data": {
      "text/html": [
       "<pre>| 1400    | 33m 21s      | 1.96786                |</pre>"
      ],
      "text/plain": [
       "| 1400    | 33m 21s      | 1.96786                |"
      ]
     },
     "metadata": {},
     "output_type": "display_data"
    },
    {
     "data": {
      "text/html": [
       "<pre>| 1401    | 33m 22s      | 1.9679                 |</pre>"
      ],
      "text/plain": [
       "| 1401    | 33m 22s      | 1.9679                 |"
      ]
     },
     "metadata": {},
     "output_type": "display_data"
    },
    {
     "data": {
      "text/html": [
       "<pre>| 1402    | 33m 24s      | 1.96793                |</pre>"
      ],
      "text/plain": [
       "| 1402    | 33m 24s      | 1.96793                |"
      ]
     },
     "metadata": {},
     "output_type": "display_data"
    },
    {
     "data": {
      "text/html": [
       "<pre>| 1403    | 33m 25s      | 1.96798                |</pre>"
      ],
      "text/plain": [
       "| 1403    | 33m 25s      | 1.96798                |"
      ]
     },
     "metadata": {},
     "output_type": "display_data"
    },
    {
     "data": {
      "text/html": [
       "<pre>| 1404    | 33m 26s      | 1.96798                |</pre>"
      ],
      "text/plain": [
       "| 1404    | 33m 26s      | 1.96798                |"
      ]
     },
     "metadata": {},
     "output_type": "display_data"
    },
    {
     "data": {
      "text/html": [
       "<pre>| 1405    | 33m 27s      | 1.9683                 |</pre>"
      ],
      "text/plain": [
       "| 1405    | 33m 27s      | 1.9683                 |"
      ]
     },
     "metadata": {},
     "output_type": "display_data"
    },
    {
     "data": {
      "text/html": [
       "<pre>| 1406    | 33m 29s      | 1.96831                |</pre>"
      ],
      "text/plain": [
       "| 1406    | 33m 29s      | 1.96831                |"
      ]
     },
     "metadata": {},
     "output_type": "display_data"
    },
    {
     "data": {
      "text/html": [
       "<pre>| 1407    | 33m 30s      | 1.96827                |</pre>"
      ],
      "text/plain": [
       "| 1407    | 33m 30s      | 1.96827                |"
      ]
     },
     "metadata": {},
     "output_type": "display_data"
    },
    {
     "data": {
      "text/html": [
       "<pre>| 1408    | 33m 32s      | 1.96879                |</pre>"
      ],
      "text/plain": [
       "| 1408    | 33m 32s      | 1.96879                |"
      ]
     },
     "metadata": {},
     "output_type": "display_data"
    },
    {
     "data": {
      "text/html": [
       "<pre>| 1409    | 33m 33s      | 1.96874                |</pre>"
      ],
      "text/plain": [
       "| 1409    | 33m 33s      | 1.96874                |"
      ]
     },
     "metadata": {},
     "output_type": "display_data"
    },
    {
     "data": {
      "text/html": [
       "<pre>| 1410    | 33m 34s      | 1.96891                |</pre>"
      ],
      "text/plain": [
       "| 1410    | 33m 34s      | 1.96891                |"
      ]
     },
     "metadata": {},
     "output_type": "display_data"
    },
    {
     "data": {
      "text/html": [
       "<pre>| 1411    | 33m 35s      | 1.96865                |</pre>"
      ],
      "text/plain": [
       "| 1411    | 33m 35s      | 1.96865                |"
      ]
     },
     "metadata": {},
     "output_type": "display_data"
    },
    {
     "data": {
      "text/html": [
       "<pre>| 1412    | 33m 37s      | 1.97027                |</pre>"
      ],
      "text/plain": [
       "| 1412    | 33m 37s      | 1.97027                |"
      ]
     },
     "metadata": {},
     "output_type": "display_data"
    },
    {
     "data": {
      "text/html": [
       "<pre>| 1413    | 33m 38s      | 1.97176                |</pre>"
      ],
      "text/plain": [
       "| 1413    | 33m 38s      | 1.97176                |"
      ]
     },
     "metadata": {},
     "output_type": "display_data"
    },
    {
     "data": {
      "text/html": [
       "<pre>| 1414    | 33m 39s      | 1.98464                |</pre>"
      ],
      "text/plain": [
       "| 1414    | 33m 39s      | 1.98464                |"
      ]
     },
     "metadata": {},
     "output_type": "display_data"
    },
    {
     "data": {
      "text/html": [
       "<pre>| 1415    | 33m 41s      | 1.98019                |</pre>"
      ],
      "text/plain": [
       "| 1415    | 33m 41s      | 1.98019                |"
      ]
     },
     "metadata": {},
     "output_type": "display_data"
    },
    {
     "data": {
      "text/html": [
       "<pre>| 1416    | 33m 42s      | 2.38014                |</pre>"
      ],
      "text/plain": [
       "| 1416    | 33m 42s      | 2.38014                |"
      ]
     },
     "metadata": {},
     "output_type": "display_data"
    },
    {
     "data": {
      "text/html": [
       "<pre>| 1417    | 33m 43s      | 1.96791                |</pre>"
      ],
      "text/plain": [
       "| 1417    | 33m 43s      | 1.96791                |"
      ]
     },
     "metadata": {},
     "output_type": "display_data"
    },
    {
     "data": {
      "text/html": [
       "<pre>| 1418    | 33m 45s      | 1.96791                |</pre>"
      ],
      "text/plain": [
       "| 1418    | 33m 45s      | 1.96791                |"
      ]
     },
     "metadata": {},
     "output_type": "display_data"
    },
    {
     "data": {
      "text/html": [
       "<pre>| 1419    | 33m 46s      | 1.9679                 |</pre>"
      ],
      "text/plain": [
       "| 1419    | 33m 46s      | 1.9679                 |"
      ]
     },
     "metadata": {},
     "output_type": "display_data"
    },
    {
     "data": {
      "text/html": [
       "<pre>| 1420    | 33m 48s      | 1.96787                |</pre>"
      ],
      "text/plain": [
       "| 1420    | 33m 48s      | 1.96787                |"
      ]
     },
     "metadata": {},
     "output_type": "display_data"
    },
    {
     "data": {
      "text/html": [
       "<pre>| 1421    | 33m 50s      | 1.96788                |</pre>"
      ],
      "text/plain": [
       "| 1421    | 33m 50s      | 1.96788                |"
      ]
     },
     "metadata": {},
     "output_type": "display_data"
    },
    {
     "data": {
      "text/html": [
       "<pre>| 1422    | 33m 52s      | 1.96787                |</pre>"
      ],
      "text/plain": [
       "| 1422    | 33m 52s      | 1.96787                |"
      ]
     },
     "metadata": {},
     "output_type": "display_data"
    },
    {
     "data": {
      "text/html": [
       "<pre>| 1423    | 33m 53s      | 1.96787                |</pre>"
      ],
      "text/plain": [
       "| 1423    | 33m 53s      | 1.96787                |"
      ]
     },
     "metadata": {},
     "output_type": "display_data"
    },
    {
     "data": {
      "text/html": [
       "<pre>| 1424    | 33m 55s      | 1.96786                |</pre>"
      ],
      "text/plain": [
       "| 1424    | 33m 55s      | 1.96786                |"
      ]
     },
     "metadata": {},
     "output_type": "display_data"
    },
    {
     "data": {
      "text/html": [
       "<pre>| 1425    | 33m 56s      | 1.96785                |</pre>"
      ],
      "text/plain": [
       "| 1425    | 33m 56s      | 1.96785                |"
      ]
     },
     "metadata": {},
     "output_type": "display_data"
    },
    {
     "data": {
      "text/html": [
       "<pre>| 1426    | 33m 58s      | 1.96787                |</pre>"
      ],
      "text/plain": [
       "| 1426    | 33m 58s      | 1.96787                |"
      ]
     },
     "metadata": {},
     "output_type": "display_data"
    },
    {
     "data": {
      "text/html": [
       "<pre>| 1427    | 33m 59s      | 1.96784                |</pre>"
      ],
      "text/plain": [
       "| 1427    | 33m 59s      | 1.96784                |"
      ]
     },
     "metadata": {},
     "output_type": "display_data"
    },
    {
     "data": {
      "text/html": [
       "<pre>| 1428    | 34m 0s       | 1.96787                |</pre>"
      ],
      "text/plain": [
       "| 1428    | 34m 0s       | 1.96787                |"
      ]
     },
     "metadata": {},
     "output_type": "display_data"
    },
    {
     "data": {
      "text/html": [
       "<pre>| 1429    | 34m 2s       | 1.96784                |</pre>"
      ],
      "text/plain": [
       "| 1429    | 34m 2s       | 1.96784                |"
      ]
     },
     "metadata": {},
     "output_type": "display_data"
    },
    {
     "data": {
      "text/html": [
       "<pre>| 1430    | 34m 3s       | 1.96785                |</pre>"
      ],
      "text/plain": [
       "| 1430    | 34m 3s       | 1.96785                |"
      ]
     },
     "metadata": {},
     "output_type": "display_data"
    },
    {
     "data": {
      "text/html": [
       "<pre>| 1431    | 34m 4s       | 1.9679                 |</pre>"
      ],
      "text/plain": [
       "| 1431    | 34m 4s       | 1.9679                 |"
      ]
     },
     "metadata": {},
     "output_type": "display_data"
    },
    {
     "data": {
      "text/html": [
       "<pre>| 1432    | 34m 5s       | 1.96787                |</pre>"
      ],
      "text/plain": [
       "| 1432    | 34m 5s       | 1.96787                |"
      ]
     },
     "metadata": {},
     "output_type": "display_data"
    },
    {
     "data": {
      "text/html": [
       "<pre>| 1433    | 34m 7s       | 1.96783                |</pre>"
      ],
      "text/plain": [
       "| 1433    | 34m 7s       | 1.96783                |"
      ]
     },
     "metadata": {},
     "output_type": "display_data"
    },
    {
     "data": {
      "text/html": [
       "<pre>| 1434    | 34m 8s       | 1.96793                |</pre>"
      ],
      "text/plain": [
       "| 1434    | 34m 8s       | 1.96793                |"
      ]
     },
     "metadata": {},
     "output_type": "display_data"
    },
    {
     "data": {
      "text/html": [
       "<pre>| 1435    | 34m 10s      | 1.96786                |</pre>"
      ],
      "text/plain": [
       "| 1435    | 34m 10s      | 1.96786                |"
      ]
     },
     "metadata": {},
     "output_type": "display_data"
    },
    {
     "data": {
      "text/html": [
       "<pre>| 1436    | 34m 11s      | 1.96793                |</pre>"
      ],
      "text/plain": [
       "| 1436    | 34m 11s      | 1.96793                |"
      ]
     },
     "metadata": {},
     "output_type": "display_data"
    },
    {
     "data": {
      "text/html": [
       "<pre>| 1437    | 34m 12s      | 1.96787                |</pre>"
      ],
      "text/plain": [
       "| 1437    | 34m 12s      | 1.96787                |"
      ]
     },
     "metadata": {},
     "output_type": "display_data"
    },
    {
     "data": {
      "text/html": [
       "<pre>| 1438    | 34m 14s      | 1.96787                |</pre>"
      ],
      "text/plain": [
       "| 1438    | 34m 14s      | 1.96787                |"
      ]
     },
     "metadata": {},
     "output_type": "display_data"
    },
    {
     "data": {
      "text/html": [
       "<pre>| 1439    | 34m 15s      | 1.96806                |</pre>"
      ],
      "text/plain": [
       "| 1439    | 34m 15s      | 1.96806                |"
      ]
     },
     "metadata": {},
     "output_type": "display_data"
    },
    {
     "data": {
      "text/html": [
       "<pre>| 1440    | 34m 17s      | 1.96804                |</pre>"
      ],
      "text/plain": [
       "| 1440    | 34m 17s      | 1.96804                |"
      ]
     },
     "metadata": {},
     "output_type": "display_data"
    },
    {
     "data": {
      "text/html": [
       "<pre>| 1441    | 34m 18s      | 1.96803                |</pre>"
      ],
      "text/plain": [
       "| 1441    | 34m 18s      | 1.96803                |"
      ]
     },
     "metadata": {},
     "output_type": "display_data"
    },
    {
     "data": {
      "text/html": [
       "<pre>| 1442    | 34m 19s      | 1.96804                |</pre>"
      ],
      "text/plain": [
       "| 1442    | 34m 19s      | 1.96804                |"
      ]
     },
     "metadata": {},
     "output_type": "display_data"
    },
    {
     "data": {
      "text/html": [
       "<pre>| 1443    | 34m 20s      | 1.96808                |</pre>"
      ],
      "text/plain": [
       "| 1443    | 34m 20s      | 1.96808                |"
      ]
     },
     "metadata": {},
     "output_type": "display_data"
    },
    {
     "data": {
      "text/html": [
       "<pre>| 1444    | 34m 22s      | 1.96821                |</pre>"
      ],
      "text/plain": [
       "| 1444    | 34m 22s      | 1.96821                |"
      ]
     },
     "metadata": {},
     "output_type": "display_data"
    },
    {
     "data": {
      "text/html": [
       "<pre>| 1445    | 34m 23s      | 1.96894                |</pre>"
      ],
      "text/plain": [
       "| 1445    | 34m 23s      | 1.96894                |"
      ]
     },
     "metadata": {},
     "output_type": "display_data"
    },
    {
     "data": {
      "text/html": [
       "<pre>| 1446    | 34m 24s      | 1.96872                |</pre>"
      ],
      "text/plain": [
       "| 1446    | 34m 24s      | 1.96872                |"
      ]
     },
     "metadata": {},
     "output_type": "display_data"
    },
    {
     "data": {
      "text/html": [
       "<pre>| 1447    | 34m 26s      | 1.97                   |</pre>"
      ],
      "text/plain": [
       "| 1447    | 34m 26s      | 1.97                   |"
      ]
     },
     "metadata": {},
     "output_type": "display_data"
    },
    {
     "data": {
      "text/html": [
       "<pre>| 1448    | 34m 27s      | 1.97485                |</pre>"
      ],
      "text/plain": [
       "| 1448    | 34m 27s      | 1.97485                |"
      ]
     },
     "metadata": {},
     "output_type": "display_data"
    },
    {
     "data": {
      "text/html": [
       "<pre>| 1449    | 34m 28s      | 1.97178                |</pre>"
      ],
      "text/plain": [
       "| 1449    | 34m 28s      | 1.97178                |"
      ]
     },
     "metadata": {},
     "output_type": "display_data"
    },
    {
     "data": {
      "text/html": [
       "<pre>| 1450    | 34m 30s      | 2.00018                |</pre>"
      ],
      "text/plain": [
       "| 1450    | 34m 30s      | 2.00018                |"
      ]
     },
     "metadata": {},
     "output_type": "display_data"
    },
    {
     "data": {
      "text/html": [
       "<pre>| 1451    | 34m 32s      | 2.25296                |</pre>"
      ],
      "text/plain": [
       "| 1451    | 34m 32s      | 2.25296                |"
      ]
     },
     "metadata": {},
     "output_type": "display_data"
    },
    {
     "data": {
      "text/html": [
       "<pre>| 1452    | 34m 33s      | 2.36351                |</pre>"
      ],
      "text/plain": [
       "| 1452    | 34m 33s      | 2.36351                |"
      ]
     },
     "metadata": {},
     "output_type": "display_data"
    },
    {
     "data": {
      "text/html": [
       "<pre>| 1453    | 34m 35s      | 1.96805                |</pre>"
      ],
      "text/plain": [
       "| 1453    | 34m 35s      | 1.96805                |"
      ]
     },
     "metadata": {},
     "output_type": "display_data"
    },
    {
     "data": {
      "text/html": [
       "<pre>| 1454    | 34m 36s      | 1.96804                |</pre>"
      ],
      "text/plain": [
       "| 1454    | 34m 36s      | 1.96804                |"
      ]
     },
     "metadata": {},
     "output_type": "display_data"
    },
    {
     "data": {
      "text/html": [
       "<pre>| 1455    | 34m 38s      | 1.96842                |</pre>"
      ],
      "text/plain": [
       "| 1455    | 34m 38s      | 1.96842                |"
      ]
     },
     "metadata": {},
     "output_type": "display_data"
    },
    {
     "data": {
      "text/html": [
       "<pre>| 1456    | 34m 39s      | 1.97059                |</pre>"
      ],
      "text/plain": [
       "| 1456    | 34m 39s      | 1.97059                |"
      ]
     },
     "metadata": {},
     "output_type": "display_data"
    },
    {
     "data": {
      "text/html": [
       "<pre>| 1457    | 34m 41s      | 1.96856                |</pre>"
      ],
      "text/plain": [
       "| 1457    | 34m 41s      | 1.96856                |"
      ]
     },
     "metadata": {},
     "output_type": "display_data"
    },
    {
     "data": {
      "text/html": [
       "<pre>| 1458    | 34m 42s      | 1.96882                |</pre>"
      ],
      "text/plain": [
       "| 1458    | 34m 42s      | 1.96882                |"
      ]
     },
     "metadata": {},
     "output_type": "display_data"
    },
    {
     "data": {
      "text/html": [
       "<pre>| 1459    | 34m 44s      | 1.97164                |</pre>"
      ],
      "text/plain": [
       "| 1459    | 34m 44s      | 1.97164                |"
      ]
     },
     "metadata": {},
     "output_type": "display_data"
    },
    {
     "data": {
      "text/html": [
       "<pre>| 1460    | 34m 45s      | 1.98061                |</pre>"
      ],
      "text/plain": [
       "| 1460    | 34m 45s      | 1.98061                |"
      ]
     },
     "metadata": {},
     "output_type": "display_data"
    },
    {
     "data": {
      "text/html": [
       "<pre>| 1461    | 34m 46s      | 1.97955                |</pre>"
      ],
      "text/plain": [
       "| 1461    | 34m 46s      | 1.97955                |"
      ]
     },
     "metadata": {},
     "output_type": "display_data"
    },
    {
     "data": {
      "text/html": [
       "<pre>| 1462    | 34m 48s      | 2.03773                |</pre>"
      ],
      "text/plain": [
       "| 1462    | 34m 48s      | 2.03773                |"
      ]
     },
     "metadata": {},
     "output_type": "display_data"
    },
    {
     "data": {
      "text/html": [
       "<pre>| 1463    | 34m 49s      | 2.84929                |</pre>"
      ],
      "text/plain": [
       "| 1463    | 34m 49s      | 2.84929                |"
      ]
     },
     "metadata": {},
     "output_type": "display_data"
    },
    {
     "data": {
      "text/html": [
       "<pre>| 1464    | 34m 51s      | 3.13566                |</pre>"
      ],
      "text/plain": [
       "| 1464    | 34m 51s      | 3.13566                |"
      ]
     },
     "metadata": {},
     "output_type": "display_data"
    },
    {
     "data": {
      "text/html": [
       "<pre>| 1465    | 34m 52s      | 2.03568                |</pre>"
      ],
      "text/plain": [
       "| 1465    | 34m 52s      | 2.03568                |"
      ]
     },
     "metadata": {},
     "output_type": "display_data"
    },
    {
     "data": {
      "text/html": [
       "<pre>| 1466    | 34m 53s      | 2.02707                |</pre>"
      ],
      "text/plain": [
       "| 1466    | 34m 53s      | 2.02707                |"
      ]
     },
     "metadata": {},
     "output_type": "display_data"
    },
    {
     "data": {
      "text/html": [
       "<pre>| 1467    | 34m 54s      | 2.02352                |</pre>"
      ],
      "text/plain": [
       "| 1467    | 34m 54s      | 2.02352                |"
      ]
     },
     "metadata": {},
     "output_type": "display_data"
    },
    {
     "data": {
      "text/html": [
       "<pre>| 1468    | 34m 56s      | 2.02133                |</pre>"
      ],
      "text/plain": [
       "| 1468    | 34m 56s      | 2.02133                |"
      ]
     },
     "metadata": {},
     "output_type": "display_data"
    },
    {
     "data": {
      "text/html": [
       "<pre>| 1469    | 34m 57s      | 2.0199                 |</pre>"
      ],
      "text/plain": [
       "| 1469    | 34m 57s      | 2.0199                 |"
      ]
     },
     "metadata": {},
     "output_type": "display_data"
    },
    {
     "data": {
      "text/html": [
       "<pre>| 1470    | 34m 58s      | 2.01859                |</pre>"
      ],
      "text/plain": [
       "| 1470    | 34m 58s      | 2.01859                |"
      ]
     },
     "metadata": {},
     "output_type": "display_data"
    },
    {
     "data": {
      "text/html": [
       "<pre>| 1471    | 34m 59s      | 2.01738                |</pre>"
      ],
      "text/plain": [
       "| 1471    | 34m 59s      | 2.01738                |"
      ]
     },
     "metadata": {},
     "output_type": "display_data"
    },
    {
     "data": {
      "text/html": [
       "<pre>| 1472    | 35m 1s       | 2.01641                |</pre>"
      ],
      "text/plain": [
       "| 1472    | 35m 1s       | 2.01641                |"
      ]
     },
     "metadata": {},
     "output_type": "display_data"
    },
    {
     "data": {
      "text/html": [
       "<pre>| 1473    | 35m 2s       | 2.0155                 |</pre>"
      ],
      "text/plain": [
       "| 1473    | 35m 2s       | 2.0155                 |"
      ]
     },
     "metadata": {},
     "output_type": "display_data"
    },
    {
     "data": {
      "text/html": [
       "<pre>| 1474    | 35m 3s       | 2.0147                 |</pre>"
      ],
      "text/plain": [
       "| 1474    | 35m 3s       | 2.0147                 |"
      ]
     },
     "metadata": {},
     "output_type": "display_data"
    },
    {
     "data": {
      "text/html": [
       "<pre>| 1475    | 35m 5s       | 2.0138                 |</pre>"
      ],
      "text/plain": [
       "| 1475    | 35m 5s       | 2.0138                 |"
      ]
     },
     "metadata": {},
     "output_type": "display_data"
    },
    {
     "data": {
      "text/html": [
       "<pre>| 1476    | 35m 6s       | 2.013                  |</pre>"
      ],
      "text/plain": [
       "| 1476    | 35m 6s       | 2.013                  |"
      ]
     },
     "metadata": {},
     "output_type": "display_data"
    },
    {
     "data": {
      "text/html": [
       "<pre>| 1477    | 35m 7s       | 2.01211                |</pre>"
      ],
      "text/plain": [
       "| 1477    | 35m 7s       | 2.01211                |"
      ]
     },
     "metadata": {},
     "output_type": "display_data"
    },
    {
     "data": {
      "text/html": [
       "<pre>| 1478    | 35m 8s       | 2.01141                |</pre>"
      ],
      "text/plain": [
       "| 1478    | 35m 8s       | 2.01141                |"
      ]
     },
     "metadata": {},
     "output_type": "display_data"
    },
    {
     "data": {
      "text/html": [
       "<pre>| 1479    | 35m 10s      | 2.01069                |</pre>"
      ],
      "text/plain": [
       "| 1479    | 35m 10s      | 2.01069                |"
      ]
     },
     "metadata": {},
     "output_type": "display_data"
    },
    {
     "data": {
      "text/html": [
       "<pre>| 1480    | 35m 11s      | 2.00997                |</pre>"
      ],
      "text/plain": [
       "| 1480    | 35m 11s      | 2.00997                |"
      ]
     },
     "metadata": {},
     "output_type": "display_data"
    },
    {
     "data": {
      "text/html": [
       "<pre>| 1481    | 35m 12s      | 2.00929                |</pre>"
      ],
      "text/plain": [
       "| 1481    | 35m 12s      | 2.00929                |"
      ]
     },
     "metadata": {},
     "output_type": "display_data"
    },
    {
     "data": {
      "text/html": [
       "<pre>| 1482    | 35m 13s      | 2.00859                |</pre>"
      ],
      "text/plain": [
       "| 1482    | 35m 13s      | 2.00859                |"
      ]
     },
     "metadata": {},
     "output_type": "display_data"
    },
    {
     "data": {
      "text/html": [
       "<pre>| 1483    | 35m 15s      | 2.00792                |</pre>"
      ],
      "text/plain": [
       "| 1483    | 35m 15s      | 2.00792                |"
      ]
     },
     "metadata": {},
     "output_type": "display_data"
    },
    {
     "data": {
      "text/html": [
       "<pre>| 1484    | 35m 16s      | 2.00727                |</pre>"
      ],
      "text/plain": [
       "| 1484    | 35m 16s      | 2.00727                |"
      ]
     },
     "metadata": {},
     "output_type": "display_data"
    },
    {
     "data": {
      "text/html": [
       "<pre>| 1485    | 35m 17s      | 2.00659                |</pre>"
      ],
      "text/plain": [
       "| 1485    | 35m 17s      | 2.00659                |"
      ]
     },
     "metadata": {},
     "output_type": "display_data"
    },
    {
     "data": {
      "text/html": [
       "<pre>| 1486    | 35m 19s      | 2.00592                |</pre>"
      ],
      "text/plain": [
       "| 1486    | 35m 19s      | 2.00592                |"
      ]
     },
     "metadata": {},
     "output_type": "display_data"
    },
    {
     "data": {
      "text/html": [
       "<pre>| 1487    | 35m 20s      | 2.00534                |</pre>"
      ],
      "text/plain": [
       "| 1487    | 35m 20s      | 2.00534                |"
      ]
     },
     "metadata": {},
     "output_type": "display_data"
    },
    {
     "data": {
      "text/html": [
       "<pre>| 1488    | 35m 21s      | 2.00461                |</pre>"
      ],
      "text/plain": [
       "| 1488    | 35m 21s      | 2.00461                |"
      ]
     },
     "metadata": {},
     "output_type": "display_data"
    },
    {
     "data": {
      "text/html": [
       "<pre>| 1489    | 35m 23s      | 2.00397                |</pre>"
      ],
      "text/plain": [
       "| 1489    | 35m 23s      | 2.00397                |"
      ]
     },
     "metadata": {},
     "output_type": "display_data"
    },
    {
     "data": {
      "text/html": [
       "<pre>| 1490    | 35m 25s      | 2.00329                |</pre>"
      ],
      "text/plain": [
       "| 1490    | 35m 25s      | 2.00329                |"
      ]
     },
     "metadata": {},
     "output_type": "display_data"
    },
    {
     "data": {
      "text/html": [
       "<pre>| 1491    | 35m 26s      | 2.00254                |</pre>"
      ],
      "text/plain": [
       "| 1491    | 35m 26s      | 2.00254                |"
      ]
     },
     "metadata": {},
     "output_type": "display_data"
    },
    {
     "data": {
      "text/html": [
       "<pre>| 1492    | 35m 28s      | 2.00192                |</pre>"
      ],
      "text/plain": [
       "| 1492    | 35m 28s      | 2.00192                |"
      ]
     },
     "metadata": {},
     "output_type": "display_data"
    },
    {
     "data": {
      "text/html": [
       "<pre>| 1493    | 35m 30s      | 2.00132                |</pre>"
      ],
      "text/plain": [
       "| 1493    | 35m 30s      | 2.00132                |"
      ]
     },
     "metadata": {},
     "output_type": "display_data"
    },
    {
     "data": {
      "text/html": [
       "<pre>| 1494    | 35m 32s      | 2.00068                |</pre>"
      ],
      "text/plain": [
       "| 1494    | 35m 32s      | 2.00068                |"
      ]
     },
     "metadata": {},
     "output_type": "display_data"
    },
    {
     "data": {
      "text/html": [
       "<pre>| 1495    | 35m 34s      | 2.00008                |</pre>"
      ],
      "text/plain": [
       "| 1495    | 35m 34s      | 2.00008                |"
      ]
     },
     "metadata": {},
     "output_type": "display_data"
    },
    {
     "data": {
      "text/html": [
       "<pre>| 1496    | 35m 35s      | 1.99934                |</pre>"
      ],
      "text/plain": [
       "| 1496    | 35m 35s      | 1.99934                |"
      ]
     },
     "metadata": {},
     "output_type": "display_data"
    },
    {
     "data": {
      "text/html": [
       "<pre>| 1497    | 35m 37s      | 1.99882                |</pre>"
      ],
      "text/plain": [
       "| 1497    | 35m 37s      | 1.99882                |"
      ]
     },
     "metadata": {},
     "output_type": "display_data"
    },
    {
     "data": {
      "text/html": [
       "<pre>| 1498    | 35m 38s      | 1.9982                 |</pre>"
      ],
      "text/plain": [
       "| 1498    | 35m 38s      | 1.9982                 |"
      ]
     },
     "metadata": {},
     "output_type": "display_data"
    },
    {
     "data": {
      "text/html": [
       "<pre>| 1499    | 35m 40s      | 1.99748                |</pre>"
      ],
      "text/plain": [
       "| 1499    | 35m 40s      | 1.99748                |"
      ]
     },
     "metadata": {},
     "output_type": "display_data"
    },
    {
     "data": {
      "text/html": [
       "<pre>| 1500    | 35m 42s      | 1.99701                |</pre>"
      ],
      "text/plain": [
       "| 1500    | 35m 42s      | 1.99701                |"
      ]
     },
     "metadata": {},
     "output_type": "display_data"
    },
    {
     "data": {
      "text/html": [
       "<pre>| 1501    | 35m 43s      | 1.99649                |</pre>"
      ],
      "text/plain": [
       "| 1501    | 35m 43s      | 1.99649                |"
      ]
     },
     "metadata": {},
     "output_type": "display_data"
    },
    {
     "data": {
      "text/html": [
       "<pre>| 1502    | 35m 45s      | 1.99611                |</pre>"
      ],
      "text/plain": [
       "| 1502    | 35m 45s      | 1.99611                |"
      ]
     },
     "metadata": {},
     "output_type": "display_data"
    },
    {
     "data": {
      "text/html": [
       "<pre>| 1503    | 35m 47s      | 1.99578                |</pre>"
      ],
      "text/plain": [
       "| 1503    | 35m 47s      | 1.99578                |"
      ]
     },
     "metadata": {},
     "output_type": "display_data"
    },
    {
     "data": {
      "text/html": [
       "<pre>| 1504    | 35m 49s      | 1.99547                |</pre>"
      ],
      "text/plain": [
       "| 1504    | 35m 49s      | 1.99547                |"
      ]
     },
     "metadata": {},
     "output_type": "display_data"
    },
    {
     "data": {
      "text/html": [
       "<pre>| 1505    | 35m 51s      | 1.99544                |</pre>"
      ],
      "text/plain": [
       "| 1505    | 35m 51s      | 1.99544                |"
      ]
     },
     "metadata": {},
     "output_type": "display_data"
    },
    {
     "data": {
      "text/html": [
       "<pre>| 1506    | 35m 52s      | 1.99457                |</pre>"
      ],
      "text/plain": [
       "| 1506    | 35m 52s      | 1.99457                |"
      ]
     },
     "metadata": {},
     "output_type": "display_data"
    },
    {
     "data": {
      "text/html": [
       "<pre>| 1507    | 35m 54s      | 1.99537                |</pre>"
      ],
      "text/plain": [
       "| 1507    | 35m 54s      | 1.99537                |"
      ]
     },
     "metadata": {},
     "output_type": "display_data"
    },
    {
     "data": {
      "text/html": [
       "<pre>| 1508    | 35m 55s      | 1.99517                |</pre>"
      ],
      "text/plain": [
       "| 1508    | 35m 55s      | 1.99517                |"
      ]
     },
     "metadata": {},
     "output_type": "display_data"
    },
    {
     "data": {
      "text/html": [
       "<pre>| 1509    | 35m 56s      | 1.99549                |</pre>"
      ],
      "text/plain": [
       "| 1509    | 35m 56s      | 1.99549                |"
      ]
     },
     "metadata": {},
     "output_type": "display_data"
    },
    {
     "data": {
      "text/html": [
       "<pre>| 1510    | 35m 57s      | 1.99338                |</pre>"
      ],
      "text/plain": [
       "| 1510    | 35m 57s      | 1.99338                |"
      ]
     },
     "metadata": {},
     "output_type": "display_data"
    },
    {
     "data": {
      "text/html": [
       "<pre>| 1511    | 35m 59s      | 1.99422                |</pre>"
      ],
      "text/plain": [
       "| 1511    | 35m 59s      | 1.99422                |"
      ]
     },
     "metadata": {},
     "output_type": "display_data"
    },
    {
     "data": {
      "text/html": [
       "<pre>| 1512    | 36m 0s       | 2.00329                |</pre>"
      ],
      "text/plain": [
       "| 1512    | 36m 0s       | 2.00329                |"
      ]
     },
     "metadata": {},
     "output_type": "display_data"
    },
    {
     "data": {
      "text/html": [
       "<pre>| 1513    | 36m 1s       | 2.00966                |</pre>"
      ],
      "text/plain": [
       "| 1513    | 36m 1s       | 2.00966                |"
      ]
     },
     "metadata": {},
     "output_type": "display_data"
    },
    {
     "data": {
      "text/html": [
       "<pre>| 1514    | 36m 3s       | 2.17236                |</pre>"
      ],
      "text/plain": [
       "| 1514    | 36m 3s       | 2.17236                |"
      ]
     },
     "metadata": {},
     "output_type": "display_data"
    },
    {
     "data": {
      "text/html": [
       "<pre>| 1515    | 36m 4s       | 2.32984                |</pre>"
      ],
      "text/plain": [
       "| 1515    | 36m 4s       | 2.32984                |"
      ]
     },
     "metadata": {},
     "output_type": "display_data"
    },
    {
     "data": {
      "text/html": [
       "<pre>| 1516    | 36m 5s       | 1.99005                |</pre>"
      ],
      "text/plain": [
       "| 1516    | 36m 5s       | 1.99005                |"
      ]
     },
     "metadata": {},
     "output_type": "display_data"
    },
    {
     "data": {
      "text/html": [
       "<pre>| 1517    | 36m 7s       | 1.98934                |</pre>"
      ],
      "text/plain": [
       "| 1517    | 36m 7s       | 1.98934                |"
      ]
     },
     "metadata": {},
     "output_type": "display_data"
    },
    {
     "data": {
      "text/html": [
       "<pre>| 1518    | 36m 8s       | 1.98869                |</pre>"
      ],
      "text/plain": [
       "| 1518    | 36m 8s       | 1.98869                |"
      ]
     },
     "metadata": {},
     "output_type": "display_data"
    },
    {
     "data": {
      "text/html": [
       "<pre>| 1519    | 36m 10s      | 1.9881                 |</pre>"
      ],
      "text/plain": [
       "| 1519    | 36m 10s      | 1.9881                 |"
      ]
     },
     "metadata": {},
     "output_type": "display_data"
    },
    {
     "data": {
      "text/html": [
       "<pre>| 1520    | 36m 11s      | 1.98755                |</pre>"
      ],
      "text/plain": [
       "| 1520    | 36m 11s      | 1.98755                |"
      ]
     },
     "metadata": {},
     "output_type": "display_data"
    },
    {
     "data": {
      "text/html": [
       "<pre>| 1521    | 36m 12s      | 1.98703                |</pre>"
      ],
      "text/plain": [
       "| 1521    | 36m 12s      | 1.98703                |"
      ]
     },
     "metadata": {},
     "output_type": "display_data"
    },
    {
     "data": {
      "text/html": [
       "<pre>| 1522    | 36m 14s      | 1.98656                |</pre>"
      ],
      "text/plain": [
       "| 1522    | 36m 14s      | 1.98656                |"
      ]
     },
     "metadata": {},
     "output_type": "display_data"
    },
    {
     "data": {
      "text/html": [
       "<pre>| 1523    | 36m 15s      | 1.9861                 |</pre>"
      ],
      "text/plain": [
       "| 1523    | 36m 15s      | 1.9861                 |"
      ]
     },
     "metadata": {},
     "output_type": "display_data"
    },
    {
     "data": {
      "text/html": [
       "<pre>| 1524    | 36m 16s      | 1.98568                |</pre>"
      ],
      "text/plain": [
       "| 1524    | 36m 16s      | 1.98568                |"
      ]
     },
     "metadata": {},
     "output_type": "display_data"
    },
    {
     "data": {
      "text/html": [
       "<pre>| 1525    | 36m 17s      | 1.98527                |</pre>"
      ],
      "text/plain": [
       "| 1525    | 36m 17s      | 1.98527                |"
      ]
     },
     "metadata": {},
     "output_type": "display_data"
    },
    {
     "data": {
      "text/html": [
       "<pre>| 1526    | 36m 19s      | 1.98489                |</pre>"
      ],
      "text/plain": [
       "| 1526    | 36m 19s      | 1.98489                |"
      ]
     },
     "metadata": {},
     "output_type": "display_data"
    },
    {
     "data": {
      "text/html": [
       "<pre>| 1527    | 36m 20s      | 1.98452                |</pre>"
      ],
      "text/plain": [
       "| 1527    | 36m 20s      | 1.98452                |"
      ]
     },
     "metadata": {},
     "output_type": "display_data"
    },
    {
     "data": {
      "text/html": [
       "<pre>| 1528    | 36m 21s      | 1.98417                |</pre>"
      ],
      "text/plain": [
       "| 1528    | 36m 21s      | 1.98417                |"
      ]
     },
     "metadata": {},
     "output_type": "display_data"
    },
    {
     "data": {
      "text/html": [
       "<pre>| 1529    | 36m 22s      | 1.98383                |</pre>"
      ],
      "text/plain": [
       "| 1529    | 36m 22s      | 1.98383                |"
      ]
     },
     "metadata": {},
     "output_type": "display_data"
    },
    {
     "data": {
      "text/html": [
       "<pre>| 1530    | 36m 24s      | 1.98351                |</pre>"
      ],
      "text/plain": [
       "| 1530    | 36m 24s      | 1.98351                |"
      ]
     },
     "metadata": {},
     "output_type": "display_data"
    },
    {
     "data": {
      "text/html": [
       "<pre>| 1531    | 36m 25s      | 1.98321                |</pre>"
      ],
      "text/plain": [
       "| 1531    | 36m 25s      | 1.98321                |"
      ]
     },
     "metadata": {},
     "output_type": "display_data"
    },
    {
     "data": {
      "text/html": [
       "<pre>| 1532    | 36m 26s      | 1.98291                |</pre>"
      ],
      "text/plain": [
       "| 1532    | 36m 26s      | 1.98291                |"
      ]
     },
     "metadata": {},
     "output_type": "display_data"
    },
    {
     "data": {
      "text/html": [
       "<pre>| 1533    | 36m 27s      | 1.98263                |</pre>"
      ],
      "text/plain": [
       "| 1533    | 36m 27s      | 1.98263                |"
      ]
     },
     "metadata": {},
     "output_type": "display_data"
    },
    {
     "data": {
      "text/html": [
       "<pre>| 1534    | 36m 29s      | 1.98236                |</pre>"
      ],
      "text/plain": [
       "| 1534    | 36m 29s      | 1.98236                |"
      ]
     },
     "metadata": {},
     "output_type": "display_data"
    },
    {
     "data": {
      "text/html": [
       "<pre>| 1535    | 36m 30s      | 1.9821                 |</pre>"
      ],
      "text/plain": [
       "| 1535    | 36m 30s      | 1.9821                 |"
      ]
     },
     "metadata": {},
     "output_type": "display_data"
    },
    {
     "data": {
      "text/html": [
       "<pre>| 1536    | 36m 31s      | 1.98185                |</pre>"
      ],
      "text/plain": [
       "| 1536    | 36m 31s      | 1.98185                |"
      ]
     },
     "metadata": {},
     "output_type": "display_data"
    },
    {
     "data": {
      "text/html": [
       "<pre>| 1537    | 36m 32s      | 1.9816                 |</pre>"
      ],
      "text/plain": [
       "| 1537    | 36m 32s      | 1.9816                 |"
      ]
     },
     "metadata": {},
     "output_type": "display_data"
    },
    {
     "data": {
      "text/html": [
       "<pre>| 1538    | 36m 34s      | 1.98137                |</pre>"
      ],
      "text/plain": [
       "| 1538    | 36m 34s      | 1.98137                |"
      ]
     },
     "metadata": {},
     "output_type": "display_data"
    },
    {
     "data": {
      "text/html": [
       "<pre>| 1539    | 36m 35s      | 1.98115                |</pre>"
      ],
      "text/plain": [
       "| 1539    | 36m 35s      | 1.98115                |"
      ]
     },
     "metadata": {},
     "output_type": "display_data"
    },
    {
     "data": {
      "text/html": [
       "<pre>| 1540    | 36m 36s      | 1.98093                |</pre>"
      ],
      "text/plain": [
       "| 1540    | 36m 36s      | 1.98093                |"
      ]
     },
     "metadata": {},
     "output_type": "display_data"
    },
    {
     "data": {
      "text/html": [
       "<pre>| 1541    | 36m 38s      | 1.98072                |</pre>"
      ],
      "text/plain": [
       "| 1541    | 36m 38s      | 1.98072                |"
      ]
     },
     "metadata": {},
     "output_type": "display_data"
    },
    {
     "data": {
      "text/html": [
       "<pre>| 1542    | 36m 39s      | 1.98051                |</pre>"
      ],
      "text/plain": [
       "| 1542    | 36m 39s      | 1.98051                |"
      ]
     },
     "metadata": {},
     "output_type": "display_data"
    },
    {
     "data": {
      "text/html": [
       "<pre>| 1543    | 36m 40s      | 1.98032                |</pre>"
      ],
      "text/plain": [
       "| 1543    | 36m 40s      | 1.98032                |"
      ]
     },
     "metadata": {},
     "output_type": "display_data"
    },
    {
     "data": {
      "text/html": [
       "<pre>| 1544    | 36m 41s      | 1.98013                |</pre>"
      ],
      "text/plain": [
       "| 1544    | 36m 41s      | 1.98013                |"
      ]
     },
     "metadata": {},
     "output_type": "display_data"
    },
    {
     "data": {
      "text/html": [
       "<pre>| 1545    | 36m 43s      | 1.97995                |</pre>"
      ],
      "text/plain": [
       "| 1545    | 36m 43s      | 1.97995                |"
      ]
     },
     "metadata": {},
     "output_type": "display_data"
    },
    {
     "data": {
      "text/html": [
       "<pre>| 1546    | 36m 44s      | 1.97977                |</pre>"
      ],
      "text/plain": [
       "| 1546    | 36m 44s      | 1.97977                |"
      ]
     },
     "metadata": {},
     "output_type": "display_data"
    },
    {
     "data": {
      "text/html": [
       "<pre>| 1547    | 36m 45s      | 1.9796                 |</pre>"
      ],
      "text/plain": [
       "| 1547    | 36m 45s      | 1.9796                 |"
      ]
     },
     "metadata": {},
     "output_type": "display_data"
    },
    {
     "data": {
      "text/html": [
       "<pre>| 1548    | 36m 47s      | 1.97944                |</pre>"
      ],
      "text/plain": [
       "| 1548    | 36m 47s      | 1.97944                |"
      ]
     },
     "metadata": {},
     "output_type": "display_data"
    },
    {
     "data": {
      "text/html": [
       "<pre>| 1549    | 36m 48s      | 1.97928                |</pre>"
      ],
      "text/plain": [
       "| 1549    | 36m 48s      | 1.97928                |"
      ]
     },
     "metadata": {},
     "output_type": "display_data"
    },
    {
     "data": {
      "text/html": [
       "<pre>| 1550    | 36m 49s      | 1.97912                |</pre>"
      ],
      "text/plain": [
       "| 1550    | 36m 49s      | 1.97912                |"
      ]
     },
     "metadata": {},
     "output_type": "display_data"
    },
    {
     "data": {
      "text/html": [
       "<pre>| 1551    | 36m 50s      | 1.97897                |</pre>"
      ],
      "text/plain": [
       "| 1551    | 36m 50s      | 1.97897                |"
      ]
     },
     "metadata": {},
     "output_type": "display_data"
    },
    {
     "data": {
      "text/html": [
       "<pre>| 1552    | 36m 52s      | 1.97883                |</pre>"
      ],
      "text/plain": [
       "| 1552    | 36m 52s      | 1.97883                |"
      ]
     },
     "metadata": {},
     "output_type": "display_data"
    },
    {
     "data": {
      "text/html": [
       "<pre>| 1553    | 36m 53s      | 1.97869                |</pre>"
      ],
      "text/plain": [
       "| 1553    | 36m 53s      | 1.97869                |"
      ]
     },
     "metadata": {},
     "output_type": "display_data"
    },
    {
     "data": {
      "text/html": [
       "<pre>| 1554    | 36m 54s      | 1.97855                |</pre>"
      ],
      "text/plain": [
       "| 1554    | 36m 54s      | 1.97855                |"
      ]
     },
     "metadata": {},
     "output_type": "display_data"
    },
    {
     "data": {
      "text/html": [
       "<pre>| 1555    | 36m 56s      | 1.97842                |</pre>"
      ],
      "text/plain": [
       "| 1555    | 36m 56s      | 1.97842                |"
      ]
     },
     "metadata": {},
     "output_type": "display_data"
    },
    {
     "data": {
      "text/html": [
       "<pre>| 1556    | 36m 57s      | 1.97829                |</pre>"
      ],
      "text/plain": [
       "| 1556    | 36m 57s      | 1.97829                |"
      ]
     },
     "metadata": {},
     "output_type": "display_data"
    },
    {
     "data": {
      "text/html": [
       "<pre>| 1557    | 36m 58s      | 1.97816                |</pre>"
      ],
      "text/plain": [
       "| 1557    | 36m 58s      | 1.97816                |"
      ]
     },
     "metadata": {},
     "output_type": "display_data"
    },
    {
     "data": {
      "text/html": [
       "<pre>| 1558    | 36m 59s      | 1.97804                |</pre>"
      ],
      "text/plain": [
       "| 1558    | 36m 59s      | 1.97804                |"
      ]
     },
     "metadata": {},
     "output_type": "display_data"
    },
    {
     "data": {
      "text/html": [
       "<pre>| 1559    | 37m 1s       | 1.97792                |</pre>"
      ],
      "text/plain": [
       "| 1559    | 37m 1s       | 1.97792                |"
      ]
     },
     "metadata": {},
     "output_type": "display_data"
    },
    {
     "data": {
      "text/html": [
       "<pre>| 1560    | 37m 2s       | 1.9778                 |</pre>"
      ],
      "text/plain": [
       "| 1560    | 37m 2s       | 1.9778                 |"
      ]
     },
     "metadata": {},
     "output_type": "display_data"
    },
    {
     "data": {
      "text/html": [
       "<pre>| 1561    | 37m 3s       | 1.97769                |</pre>"
      ],
      "text/plain": [
       "| 1561    | 37m 3s       | 1.97769                |"
      ]
     },
     "metadata": {},
     "output_type": "display_data"
    },
    {
     "data": {
      "text/html": [
       "<pre>| 1562    | 37m 4s       | 1.97758                |</pre>"
      ],
      "text/plain": [
       "| 1562    | 37m 4s       | 1.97758                |"
      ]
     },
     "metadata": {},
     "output_type": "display_data"
    },
    {
     "data": {
      "text/html": [
       "<pre>| 1563    | 37m 6s       | 1.97747                |</pre>"
      ],
      "text/plain": [
       "| 1563    | 37m 6s       | 1.97747                |"
      ]
     },
     "metadata": {},
     "output_type": "display_data"
    },
    {
     "data": {
      "text/html": [
       "<pre>| 1564    | 37m 7s       | 1.97736                |</pre>"
      ],
      "text/plain": [
       "| 1564    | 37m 7s       | 1.97736                |"
      ]
     },
     "metadata": {},
     "output_type": "display_data"
    },
    {
     "data": {
      "text/html": [
       "<pre>| 1565    | 37m 8s       | 1.97725                |</pre>"
      ],
      "text/plain": [
       "| 1565    | 37m 8s       | 1.97725                |"
      ]
     },
     "metadata": {},
     "output_type": "display_data"
    },
    {
     "data": {
      "text/html": [
       "<pre>| 1566    | 37m 9s       | 1.97715                |</pre>"
      ],
      "text/plain": [
       "| 1566    | 37m 9s       | 1.97715                |"
      ]
     },
     "metadata": {},
     "output_type": "display_data"
    },
    {
     "data": {
      "text/html": [
       "<pre>| 1567    | 37m 11s      | 1.97705                |</pre>"
      ],
      "text/plain": [
       "| 1567    | 37m 11s      | 1.97705                |"
      ]
     },
     "metadata": {},
     "output_type": "display_data"
    },
    {
     "data": {
      "text/html": [
       "<pre>| 1568    | 37m 12s      | 1.97696                |</pre>"
      ],
      "text/plain": [
       "| 1568    | 37m 12s      | 1.97696                |"
      ]
     },
     "metadata": {},
     "output_type": "display_data"
    },
    {
     "data": {
      "text/html": [
       "<pre>| 1569    | 37m 13s      | 1.97686                |</pre>"
      ],
      "text/plain": [
       "| 1569    | 37m 13s      | 1.97686                |"
      ]
     },
     "metadata": {},
     "output_type": "display_data"
    },
    {
     "data": {
      "text/html": [
       "<pre>| 1570    | 37m 14s      | 1.97677                |</pre>"
      ],
      "text/plain": [
       "| 1570    | 37m 14s      | 1.97677                |"
      ]
     },
     "metadata": {},
     "output_type": "display_data"
    },
    {
     "data": {
      "text/html": [
       "<pre>| 1571    | 37m 16s      | 1.97668                |</pre>"
      ],
      "text/plain": [
       "| 1571    | 37m 16s      | 1.97668                |"
      ]
     },
     "metadata": {},
     "output_type": "display_data"
    },
    {
     "data": {
      "text/html": [
       "<pre>| 1572    | 37m 17s      | 1.97659                |</pre>"
      ],
      "text/plain": [
       "| 1572    | 37m 17s      | 1.97659                |"
      ]
     },
     "metadata": {},
     "output_type": "display_data"
    },
    {
     "data": {
      "text/html": [
       "<pre>| 1573    | 37m 18s      | 1.9765                 |</pre>"
      ],
      "text/plain": [
       "| 1573    | 37m 18s      | 1.9765                 |"
      ]
     },
     "metadata": {},
     "output_type": "display_data"
    },
    {
     "data": {
      "text/html": [
       "<pre>| 1574    | 37m 19s      | 1.97642                |</pre>"
      ],
      "text/plain": [
       "| 1574    | 37m 19s      | 1.97642                |"
      ]
     },
     "metadata": {},
     "output_type": "display_data"
    },
    {
     "data": {
      "text/html": [
       "<pre>| 1575    | 37m 21s      | 1.97633                |</pre>"
      ],
      "text/plain": [
       "| 1575    | 37m 21s      | 1.97633                |"
      ]
     },
     "metadata": {},
     "output_type": "display_data"
    },
    {
     "data": {
      "text/html": [
       "<pre>| 1576    | 37m 22s      | 1.97625                |</pre>"
      ],
      "text/plain": [
       "| 1576    | 37m 22s      | 1.97625                |"
      ]
     },
     "metadata": {},
     "output_type": "display_data"
    },
    {
     "data": {
      "text/html": [
       "<pre>| 1577    | 37m 23s      | 1.97617                |</pre>"
      ],
      "text/plain": [
       "| 1577    | 37m 23s      | 1.97617                |"
      ]
     },
     "metadata": {},
     "output_type": "display_data"
    },
    {
     "data": {
      "text/html": [
       "<pre>| 1578    | 37m 25s      | 1.97609                |</pre>"
      ],
      "text/plain": [
       "| 1578    | 37m 25s      | 1.97609                |"
      ]
     },
     "metadata": {},
     "output_type": "display_data"
    },
    {
     "data": {
      "text/html": [
       "<pre>| 1579    | 37m 26s      | 1.97601                |</pre>"
      ],
      "text/plain": [
       "| 1579    | 37m 26s      | 1.97601                |"
      ]
     },
     "metadata": {},
     "output_type": "display_data"
    },
    {
     "data": {
      "text/html": [
       "<pre>| 1580    | 37m 27s      | 1.97593                |</pre>"
      ],
      "text/plain": [
       "| 1580    | 37m 27s      | 1.97593                |"
      ]
     },
     "metadata": {},
     "output_type": "display_data"
    },
    {
     "data": {
      "text/html": [
       "<pre>| 1581    | 37m 28s      | 1.97586                |</pre>"
      ],
      "text/plain": [
       "| 1581    | 37m 28s      | 1.97586                |"
      ]
     },
     "metadata": {},
     "output_type": "display_data"
    },
    {
     "data": {
      "text/html": [
       "<pre>| 1582    | 37m 30s      | 1.97578                |</pre>"
      ],
      "text/plain": [
       "| 1582    | 37m 30s      | 1.97578                |"
      ]
     },
     "metadata": {},
     "output_type": "display_data"
    },
    {
     "data": {
      "text/html": [
       "<pre>| 1583    | 37m 31s      | 1.97571                |</pre>"
      ],
      "text/plain": [
       "| 1583    | 37m 31s      | 1.97571                |"
      ]
     },
     "metadata": {},
     "output_type": "display_data"
    },
    {
     "data": {
      "text/html": [
       "<pre>| 1584    | 37m 32s      | 1.97564                |</pre>"
      ],
      "text/plain": [
       "| 1584    | 37m 32s      | 1.97564                |"
      ]
     },
     "metadata": {},
     "output_type": "display_data"
    },
    {
     "data": {
      "text/html": [
       "<pre>| 1585    | 37m 33s      | 1.97557                |</pre>"
      ],
      "text/plain": [
       "| 1585    | 37m 33s      | 1.97557                |"
      ]
     },
     "metadata": {},
     "output_type": "display_data"
    },
    {
     "data": {
      "text/html": [
       "<pre>| 1586    | 37m 35s      | 1.9755                 |</pre>"
      ],
      "text/plain": [
       "| 1586    | 37m 35s      | 1.9755                 |"
      ]
     },
     "metadata": {},
     "output_type": "display_data"
    },
    {
     "data": {
      "text/html": [
       "<pre>| 1587    | 37m 36s      | 1.97543                |</pre>"
      ],
      "text/plain": [
       "| 1587    | 37m 36s      | 1.97543                |"
      ]
     },
     "metadata": {},
     "output_type": "display_data"
    },
    {
     "data": {
      "text/html": [
       "<pre>| 1588    | 37m 37s      | 1.97536                |</pre>"
      ],
      "text/plain": [
       "| 1588    | 37m 37s      | 1.97536                |"
      ]
     },
     "metadata": {},
     "output_type": "display_data"
    },
    {
     "data": {
      "text/html": [
       "<pre>| 1589    | 37m 38s      | 1.9753                 |</pre>"
      ],
      "text/plain": [
       "| 1589    | 37m 38s      | 1.9753                 |"
      ]
     },
     "metadata": {},
     "output_type": "display_data"
    },
    {
     "data": {
      "text/html": [
       "<pre>| 1590    | 37m 40s      | 1.97523                |</pre>"
      ],
      "text/plain": [
       "| 1590    | 37m 40s      | 1.97523                |"
      ]
     },
     "metadata": {},
     "output_type": "display_data"
    },
    {
     "data": {
      "text/html": [
       "<pre>| 1591    | 37m 41s      | 1.97517                |</pre>"
      ],
      "text/plain": [
       "| 1591    | 37m 41s      | 1.97517                |"
      ]
     },
     "metadata": {},
     "output_type": "display_data"
    },
    {
     "data": {
      "text/html": [
       "<pre>| 1592    | 37m 42s      | 1.97511                |</pre>"
      ],
      "text/plain": [
       "| 1592    | 37m 42s      | 1.97511                |"
      ]
     },
     "metadata": {},
     "output_type": "display_data"
    },
    {
     "data": {
      "text/html": [
       "<pre>| 1593    | 37m 43s      | 1.97504                |</pre>"
      ],
      "text/plain": [
       "| 1593    | 37m 43s      | 1.97504                |"
      ]
     },
     "metadata": {},
     "output_type": "display_data"
    },
    {
     "data": {
      "text/html": [
       "<pre>| 1594    | 37m 45s      | 1.97498                |</pre>"
      ],
      "text/plain": [
       "| 1594    | 37m 45s      | 1.97498                |"
      ]
     },
     "metadata": {},
     "output_type": "display_data"
    },
    {
     "data": {
      "text/html": [
       "<pre>| 1595    | 37m 46s      | 1.97491                |</pre>"
      ],
      "text/plain": [
       "| 1595    | 37m 46s      | 1.97491                |"
      ]
     },
     "metadata": {},
     "output_type": "display_data"
    },
    {
     "data": {
      "text/html": [
       "<pre>| 1596    | 37m 47s      | 1.97485                |</pre>"
      ],
      "text/plain": [
       "| 1596    | 37m 47s      | 1.97485                |"
      ]
     },
     "metadata": {},
     "output_type": "display_data"
    },
    {
     "data": {
      "text/html": [
       "<pre>| 1597    | 37m 48s      | 1.97479                |</pre>"
      ],
      "text/plain": [
       "| 1597    | 37m 48s      | 1.97479                |"
      ]
     },
     "metadata": {},
     "output_type": "display_data"
    },
    {
     "data": {
      "text/html": [
       "<pre>| 1598    | 37m 50s      | 1.97473                |</pre>"
      ],
      "text/plain": [
       "| 1598    | 37m 50s      | 1.97473                |"
      ]
     },
     "metadata": {},
     "output_type": "display_data"
    },
    {
     "data": {
      "text/html": [
       "<pre>| 1599    | 37m 51s      | 1.97467                |</pre>"
      ],
      "text/plain": [
       "| 1599    | 37m 51s      | 1.97467                |"
      ]
     },
     "metadata": {},
     "output_type": "display_data"
    },
    {
     "data": {
      "text/html": [
       "<pre>| 1600    | 37m 52s      | 1.97462                |</pre>"
      ],
      "text/plain": [
       "| 1600    | 37m 52s      | 1.97462                |"
      ]
     },
     "metadata": {},
     "output_type": "display_data"
    },
    {
     "data": {
      "text/html": [
       "<pre>| 1601    | 37m 54s      | 1.97456                |</pre>"
      ],
      "text/plain": [
       "| 1601    | 37m 54s      | 1.97456                |"
      ]
     },
     "metadata": {},
     "output_type": "display_data"
    },
    {
     "data": {
      "text/html": [
       "<pre>| 1602    | 37m 55s      | 1.97451                |</pre>"
      ],
      "text/plain": [
       "| 1602    | 37m 55s      | 1.97451                |"
      ]
     },
     "metadata": {},
     "output_type": "display_data"
    },
    {
     "data": {
      "text/html": [
       "<pre>| 1603    | 37m 56s      | 1.97446                |</pre>"
      ],
      "text/plain": [
       "| 1603    | 37m 56s      | 1.97446                |"
      ]
     },
     "metadata": {},
     "output_type": "display_data"
    },
    {
     "data": {
      "text/html": [
       "<pre>| 1604    | 37m 58s      | 1.9744                 |</pre>"
      ],
      "text/plain": [
       "| 1604    | 37m 58s      | 1.9744                 |"
      ]
     },
     "metadata": {},
     "output_type": "display_data"
    },
    {
     "data": {
      "text/html": [
       "<pre>| 1605    | 38m 0s       | 1.97435                |</pre>"
      ],
      "text/plain": [
       "| 1605    | 38m 0s       | 1.97435                |"
      ]
     },
     "metadata": {},
     "output_type": "display_data"
    },
    {
     "data": {
      "text/html": [
       "<pre>| 1606    | 38m 1s       | 1.9743                 |</pre>"
      ],
      "text/plain": [
       "| 1606    | 38m 1s       | 1.9743                 |"
      ]
     },
     "metadata": {},
     "output_type": "display_data"
    },
    {
     "data": {
      "text/html": [
       "<pre>| 1607    | 38m 3s       | 1.97425                |</pre>"
      ],
      "text/plain": [
       "| 1607    | 38m 3s       | 1.97425                |"
      ]
     },
     "metadata": {},
     "output_type": "display_data"
    },
    {
     "data": {
      "text/html": [
       "<pre>| 1608    | 38m 4s       | 1.9742                 |</pre>"
      ],
      "text/plain": [
       "| 1608    | 38m 4s       | 1.9742                 |"
      ]
     },
     "metadata": {},
     "output_type": "display_data"
    },
    {
     "data": {
      "text/html": [
       "<pre>| 1609    | 38m 6s       | 1.97416                |</pre>"
      ],
      "text/plain": [
       "| 1609    | 38m 6s       | 1.97416                |"
      ]
     },
     "metadata": {},
     "output_type": "display_data"
    },
    {
     "data": {
      "text/html": [
       "<pre>| 1610    | 38m 7s       | 1.97411                |</pre>"
      ],
      "text/plain": [
       "| 1610    | 38m 7s       | 1.97411                |"
      ]
     },
     "metadata": {},
     "output_type": "display_data"
    },
    {
     "data": {
      "text/html": [
       "<pre>| 1611    | 38m 8s       | 1.97406                |</pre>"
      ],
      "text/plain": [
       "| 1611    | 38m 8s       | 1.97406                |"
      ]
     },
     "metadata": {},
     "output_type": "display_data"
    },
    {
     "data": {
      "text/html": [
       "<pre>| 1612    | 38m 9s       | 1.97402                |</pre>"
      ],
      "text/plain": [
       "| 1612    | 38m 9s       | 1.97402                |"
      ]
     },
     "metadata": {},
     "output_type": "display_data"
    },
    {
     "data": {
      "text/html": [
       "<pre>| 1613    | 38m 11s      | 1.97397                |</pre>"
      ],
      "text/plain": [
       "| 1613    | 38m 11s      | 1.97397                |"
      ]
     },
     "metadata": {},
     "output_type": "display_data"
    },
    {
     "data": {
      "text/html": [
       "<pre>| 1614    | 38m 12s      | 1.97392                |</pre>"
      ],
      "text/plain": [
       "| 1614    | 38m 12s      | 1.97392                |"
      ]
     },
     "metadata": {},
     "output_type": "display_data"
    },
    {
     "data": {
      "text/html": [
       "<pre>| 1615    | 38m 13s      | 1.97388                |</pre>"
      ],
      "text/plain": [
       "| 1615    | 38m 13s      | 1.97388                |"
      ]
     },
     "metadata": {},
     "output_type": "display_data"
    },
    {
     "data": {
      "text/html": [
       "<pre>| 1616    | 38m 14s      | 1.97384                |</pre>"
      ],
      "text/plain": [
       "| 1616    | 38m 14s      | 1.97384                |"
      ]
     },
     "metadata": {},
     "output_type": "display_data"
    },
    {
     "data": {
      "text/html": [
       "<pre>| 1617    | 38m 16s      | 1.97379                |</pre>"
      ],
      "text/plain": [
       "| 1617    | 38m 16s      | 1.97379                |"
      ]
     },
     "metadata": {},
     "output_type": "display_data"
    },
    {
     "data": {
      "text/html": [
       "<pre>| 1618    | 38m 17s      | 1.97375                |</pre>"
      ],
      "text/plain": [
       "| 1618    | 38m 17s      | 1.97375                |"
      ]
     },
     "metadata": {},
     "output_type": "display_data"
    },
    {
     "data": {
      "text/html": [
       "<pre>| 1619    | 38m 18s      | 1.97371                |</pre>"
      ],
      "text/plain": [
       "| 1619    | 38m 18s      | 1.97371                |"
      ]
     },
     "metadata": {},
     "output_type": "display_data"
    },
    {
     "data": {
      "text/html": [
       "<pre>| 1620    | 38m 19s      | 1.97367                |</pre>"
      ],
      "text/plain": [
       "| 1620    | 38m 19s      | 1.97367                |"
      ]
     },
     "metadata": {},
     "output_type": "display_data"
    },
    {
     "data": {
      "text/html": [
       "<pre>| 1621    | 38m 21s      | 1.97363                |</pre>"
      ],
      "text/plain": [
       "| 1621    | 38m 21s      | 1.97363                |"
      ]
     },
     "metadata": {},
     "output_type": "display_data"
    },
    {
     "data": {
      "text/html": [
       "<pre>| 1622    | 38m 22s      | 1.97359                |</pre>"
      ],
      "text/plain": [
       "| 1622    | 38m 22s      | 1.97359                |"
      ]
     },
     "metadata": {},
     "output_type": "display_data"
    },
    {
     "data": {
      "text/html": [
       "<pre>| 1623    | 38m 23s      | 1.97355                |</pre>"
      ],
      "text/plain": [
       "| 1623    | 38m 23s      | 1.97355                |"
      ]
     },
     "metadata": {},
     "output_type": "display_data"
    },
    {
     "data": {
      "text/html": [
       "<pre>| 1624    | 38m 24s      | 1.97351                |</pre>"
      ],
      "text/plain": [
       "| 1624    | 38m 24s      | 1.97351                |"
      ]
     },
     "metadata": {},
     "output_type": "display_data"
    },
    {
     "data": {
      "text/html": [
       "<pre>| 1625    | 38m 26s      | 1.97347                |</pre>"
      ],
      "text/plain": [
       "| 1625    | 38m 26s      | 1.97347                |"
      ]
     },
     "metadata": {},
     "output_type": "display_data"
    },
    {
     "data": {
      "text/html": [
       "<pre>| 1626    | 38m 27s      | 1.97343                |</pre>"
      ],
      "text/plain": [
       "| 1626    | 38m 27s      | 1.97343                |"
      ]
     },
     "metadata": {},
     "output_type": "display_data"
    },
    {
     "data": {
      "text/html": [
       "<pre>| 1627    | 38m 28s      | 1.97339                |</pre>"
      ],
      "text/plain": [
       "| 1627    | 38m 28s      | 1.97339                |"
      ]
     },
     "metadata": {},
     "output_type": "display_data"
    },
    {
     "data": {
      "text/html": [
       "<pre>| 1628    | 38m 30s      | 1.97336                |</pre>"
      ],
      "text/plain": [
       "| 1628    | 38m 30s      | 1.97336                |"
      ]
     },
     "metadata": {},
     "output_type": "display_data"
    },
    {
     "data": {
      "text/html": [
       "<pre>| 1629    | 38m 31s      | 1.97332                |</pre>"
      ],
      "text/plain": [
       "| 1629    | 38m 31s      | 1.97332                |"
      ]
     },
     "metadata": {},
     "output_type": "display_data"
    },
    {
     "data": {
      "text/html": [
       "<pre>| 1630    | 38m 33s      | 1.97328                |</pre>"
      ],
      "text/plain": [
       "| 1630    | 38m 33s      | 1.97328                |"
      ]
     },
     "metadata": {},
     "output_type": "display_data"
    },
    {
     "data": {
      "text/html": [
       "<pre>| 1631    | 38m 35s      | 1.97324                |</pre>"
      ],
      "text/plain": [
       "| 1631    | 38m 35s      | 1.97324                |"
      ]
     },
     "metadata": {},
     "output_type": "display_data"
    },
    {
     "data": {
      "text/html": [
       "<pre>| 1632    | 38m 36s      | 1.97321                |</pre>"
      ],
      "text/plain": [
       "| 1632    | 38m 36s      | 1.97321                |"
      ]
     },
     "metadata": {},
     "output_type": "display_data"
    },
    {
     "data": {
      "text/html": [
       "<pre>| 1633    | 38m 38s      | 1.97317                |</pre>"
      ],
      "text/plain": [
       "| 1633    | 38m 38s      | 1.97317                |"
      ]
     },
     "metadata": {},
     "output_type": "display_data"
    },
    {
     "data": {
      "text/html": [
       "<pre>| 1634    | 38m 39s      | 1.97314                |</pre>"
      ],
      "text/plain": [
       "| 1634    | 38m 39s      | 1.97314                |"
      ]
     },
     "metadata": {},
     "output_type": "display_data"
    },
    {
     "data": {
      "text/html": [
       "<pre>| 1635    | 38m 41s      | 1.97309                |</pre>"
      ],
      "text/plain": [
       "| 1635    | 38m 41s      | 1.97309                |"
      ]
     },
     "metadata": {},
     "output_type": "display_data"
    },
    {
     "data": {
      "text/html": [
       "<pre>| 1636    | 38m 43s      | 1.97306                |</pre>"
      ],
      "text/plain": [
       "| 1636    | 38m 43s      | 1.97306                |"
      ]
     },
     "metadata": {},
     "output_type": "display_data"
    },
    {
     "data": {
      "text/html": [
       "<pre>| 1637    | 38m 44s      | 1.97302                |</pre>"
      ],
      "text/plain": [
       "| 1637    | 38m 44s      | 1.97302                |"
      ]
     },
     "metadata": {},
     "output_type": "display_data"
    },
    {
     "data": {
      "text/html": [
       "<pre>| 1638    | 38m 46s      | 1.973                  |</pre>"
      ],
      "text/plain": [
       "| 1638    | 38m 46s      | 1.973                  |"
      ]
     },
     "metadata": {},
     "output_type": "display_data"
    },
    {
     "data": {
      "text/html": [
       "<pre>| 1639    | 38m 48s      | 1.97295                |</pre>"
      ],
      "text/plain": [
       "| 1639    | 38m 48s      | 1.97295                |"
      ]
     },
     "metadata": {},
     "output_type": "display_data"
    },
    {
     "data": {
      "text/html": [
       "<pre>| 1640    | 38m 49s      | 1.97292                |</pre>"
      ],
      "text/plain": [
       "| 1640    | 38m 49s      | 1.97292                |"
      ]
     },
     "metadata": {},
     "output_type": "display_data"
    },
    {
     "data": {
      "text/html": [
       "<pre>| 1641    | 38m 51s      | 1.97289                |</pre>"
      ],
      "text/plain": [
       "| 1641    | 38m 51s      | 1.97289                |"
      ]
     },
     "metadata": {},
     "output_type": "display_data"
    },
    {
     "data": {
      "text/html": [
       "<pre>| 1642    | 38m 52s      | 1.97285                |</pre>"
      ],
      "text/plain": [
       "| 1642    | 38m 52s      | 1.97285                |"
      ]
     },
     "metadata": {},
     "output_type": "display_data"
    },
    {
     "data": {
      "text/html": [
       "<pre>| 1643    | 38m 54s      | 1.97283                |</pre>"
      ],
      "text/plain": [
       "| 1643    | 38m 54s      | 1.97283                |"
      ]
     },
     "metadata": {},
     "output_type": "display_data"
    },
    {
     "data": {
      "text/html": [
       "<pre>| 1644    | 38m 56s      | 1.97279                |</pre>"
      ],
      "text/plain": [
       "| 1644    | 38m 56s      | 1.97279                |"
      ]
     },
     "metadata": {},
     "output_type": "display_data"
    },
    {
     "data": {
      "text/html": [
       "<pre>| 1645    | 38m 57s      | 1.97276                |</pre>"
      ],
      "text/plain": [
       "| 1645    | 38m 57s      | 1.97276                |"
      ]
     },
     "metadata": {},
     "output_type": "display_data"
    },
    {
     "data": {
      "text/html": [
       "<pre>| 1646    | 38m 58s      | 1.97273                |</pre>"
      ],
      "text/plain": [
       "| 1646    | 38m 58s      | 1.97273                |"
      ]
     },
     "metadata": {},
     "output_type": "display_data"
    },
    {
     "data": {
      "text/html": [
       "<pre>| 1647    | 39m 0s       | 1.97269                |</pre>"
      ],
      "text/plain": [
       "| 1647    | 39m 0s       | 1.97269                |"
      ]
     },
     "metadata": {},
     "output_type": "display_data"
    },
    {
     "data": {
      "text/html": [
       "<pre>| 1648    | 39m 2s       | 1.97266                |</pre>"
      ],
      "text/plain": [
       "| 1648    | 39m 2s       | 1.97266                |"
      ]
     },
     "metadata": {},
     "output_type": "display_data"
    },
    {
     "data": {
      "text/html": [
       "<pre>| 1649    | 39m 3s       | 1.97264                |</pre>"
      ],
      "text/plain": [
       "| 1649    | 39m 3s       | 1.97264                |"
      ]
     },
     "metadata": {},
     "output_type": "display_data"
    },
    {
     "data": {
      "text/html": [
       "<pre>| 1650    | 39m 5s       | 1.97261                |</pre>"
      ],
      "text/plain": [
       "| 1650    | 39m 5s       | 1.97261                |"
      ]
     },
     "metadata": {},
     "output_type": "display_data"
    },
    {
     "data": {
      "text/html": [
       "<pre>| 1651    | 39m 6s       | 1.97257                |</pre>"
      ],
      "text/plain": [
       "| 1651    | 39m 6s       | 1.97257                |"
      ]
     },
     "metadata": {},
     "output_type": "display_data"
    },
    {
     "data": {
      "text/html": [
       "<pre>| 1652    | 39m 8s       | 1.97255                |</pre>"
      ],
      "text/plain": [
       "| 1652    | 39m 8s       | 1.97255                |"
      ]
     },
     "metadata": {},
     "output_type": "display_data"
    },
    {
     "data": {
      "text/html": [
       "<pre>| 1653    | 39m 9s       | 1.97254                |</pre>"
      ],
      "text/plain": [
       "| 1653    | 39m 9s       | 1.97254                |"
      ]
     },
     "metadata": {},
     "output_type": "display_data"
    },
    {
     "data": {
      "text/html": [
       "<pre>| 1654    | 39m 10s      | 1.97251                |</pre>"
      ],
      "text/plain": [
       "| 1654    | 39m 10s      | 1.97251                |"
      ]
     },
     "metadata": {},
     "output_type": "display_data"
    },
    {
     "data": {
      "text/html": [
       "<pre>| 1655    | 39m 12s      | 1.97248                |</pre>"
      ],
      "text/plain": [
       "| 1655    | 39m 12s      | 1.97248                |"
      ]
     },
     "metadata": {},
     "output_type": "display_data"
    },
    {
     "data": {
      "text/html": [
       "<pre>| 1656    | 39m 13s      | 1.97245                |</pre>"
      ],
      "text/plain": [
       "| 1656    | 39m 13s      | 1.97245                |"
      ]
     },
     "metadata": {},
     "output_type": "display_data"
    },
    {
     "data": {
      "text/html": [
       "<pre>| 1657    | 39m 15s      | 1.97243                |</pre>"
      ],
      "text/plain": [
       "| 1657    | 39m 15s      | 1.97243                |"
      ]
     },
     "metadata": {},
     "output_type": "display_data"
    },
    {
     "data": {
      "text/html": [
       "<pre>| 1658    | 39m 16s      | 1.97241                |</pre>"
      ],
      "text/plain": [
       "| 1658    | 39m 16s      | 1.97241                |"
      ]
     },
     "metadata": {},
     "output_type": "display_data"
    },
    {
     "data": {
      "text/html": [
       "<pre>| 1659    | 39m 18s      | 1.97238                |</pre>"
      ],
      "text/plain": [
       "| 1659    | 39m 18s      | 1.97238                |"
      ]
     },
     "metadata": {},
     "output_type": "display_data"
    },
    {
     "data": {
      "text/html": [
       "<pre>| 1660    | 39m 19s      | 1.97237                |</pre>"
      ],
      "text/plain": [
       "| 1660    | 39m 19s      | 1.97237                |"
      ]
     },
     "metadata": {},
     "output_type": "display_data"
    },
    {
     "data": {
      "text/html": [
       "<pre>| 1661    | 39m 21s      | 1.97235                |</pre>"
      ],
      "text/plain": [
       "| 1661    | 39m 21s      | 1.97235                |"
      ]
     },
     "metadata": {},
     "output_type": "display_data"
    },
    {
     "data": {
      "text/html": [
       "<pre>| 1662    | 39m 22s      | 1.97231                |</pre>"
      ],
      "text/plain": [
       "| 1662    | 39m 22s      | 1.97231                |"
      ]
     },
     "metadata": {},
     "output_type": "display_data"
    },
    {
     "data": {
      "text/html": [
       "<pre>| 1663    | 39m 23s      | 1.97232                |</pre>"
      ],
      "text/plain": [
       "| 1663    | 39m 23s      | 1.97232                |"
      ]
     },
     "metadata": {},
     "output_type": "display_data"
    },
    {
     "data": {
      "text/html": [
       "<pre>| 1664    | 39m 25s      | 1.97229                |</pre>"
      ],
      "text/plain": [
       "| 1664    | 39m 25s      | 1.97229                |"
      ]
     },
     "metadata": {},
     "output_type": "display_data"
    },
    {
     "data": {
      "text/html": [
       "<pre>| 1665    | 39m 26s      | 1.97231                |</pre>"
      ],
      "text/plain": [
       "| 1665    | 39m 26s      | 1.97231                |"
      ]
     },
     "metadata": {},
     "output_type": "display_data"
    },
    {
     "data": {
      "text/html": [
       "<pre>| 1666    | 39m 28s      | 1.97224                |</pre>"
      ],
      "text/plain": [
       "| 1666    | 39m 28s      | 1.97224                |"
      ]
     },
     "metadata": {},
     "output_type": "display_data"
    },
    {
     "data": {
      "text/html": [
       "<pre>| 1667    | 39m 29s      | 1.97228                |</pre>"
      ],
      "text/plain": [
       "| 1667    | 39m 29s      | 1.97228                |"
      ]
     },
     "metadata": {},
     "output_type": "display_data"
    },
    {
     "data": {
      "text/html": [
       "<pre>| 1668    | 39m 30s      | 1.97223                |</pre>"
      ],
      "text/plain": [
       "| 1668    | 39m 30s      | 1.97223                |"
      ]
     },
     "metadata": {},
     "output_type": "display_data"
    },
    {
     "data": {
      "text/html": [
       "<pre>| 1669    | 39m 32s      | 1.97216                |</pre>"
      ],
      "text/plain": [
       "| 1669    | 39m 32s      | 1.97216                |"
      ]
     },
     "metadata": {},
     "output_type": "display_data"
    },
    {
     "data": {
      "text/html": [
       "<pre>| 1670    | 39m 33s      | 1.97224                |</pre>"
      ],
      "text/plain": [
       "| 1670    | 39m 33s      | 1.97224                |"
      ]
     },
     "metadata": {},
     "output_type": "display_data"
    },
    {
     "data": {
      "text/html": [
       "<pre>| 1671    | 39m 35s      | 1.97215                |</pre>"
      ],
      "text/plain": [
       "| 1671    | 39m 35s      | 1.97215                |"
      ]
     },
     "metadata": {},
     "output_type": "display_data"
    },
    {
     "data": {
      "text/html": [
       "<pre>| 1672    | 39m 36s      | 1.97217                |</pre>"
      ],
      "text/plain": [
       "| 1672    | 39m 36s      | 1.97217                |"
      ]
     },
     "metadata": {},
     "output_type": "display_data"
    },
    {
     "data": {
      "text/html": [
       "<pre>| 1673    | 39m 38s      | 1.97229                |</pre>"
      ],
      "text/plain": [
       "| 1673    | 39m 38s      | 1.97229                |"
      ]
     },
     "metadata": {},
     "output_type": "display_data"
    },
    {
     "data": {
      "text/html": [
       "<pre>| 1674    | 39m 39s      | 1.97215                |</pre>"
      ],
      "text/plain": [
       "| 1674    | 39m 39s      | 1.97215                |"
      ]
     },
     "metadata": {},
     "output_type": "display_data"
    },
    {
     "data": {
      "text/html": [
       "<pre>| 1675    | 39m 40s      | 1.9723                 |</pre>"
      ],
      "text/plain": [
       "| 1675    | 39m 40s      | 1.9723                 |"
      ]
     },
     "metadata": {},
     "output_type": "display_data"
    },
    {
     "data": {
      "text/html": [
       "<pre>| 1676    | 39m 42s      | 1.97235                |</pre>"
      ],
      "text/plain": [
       "| 1676    | 39m 42s      | 1.97235                |"
      ]
     },
     "metadata": {},
     "output_type": "display_data"
    },
    {
     "data": {
      "text/html": [
       "<pre>| 1677    | 39m 43s      | 1.97229                |</pre>"
      ],
      "text/plain": [
       "| 1677    | 39m 43s      | 1.97229                |"
      ]
     },
     "metadata": {},
     "output_type": "display_data"
    },
    {
     "data": {
      "text/html": [
       "<pre>| 1678    | 39m 44s      | 1.97247                |</pre>"
      ],
      "text/plain": [
       "| 1678    | 39m 44s      | 1.97247                |"
      ]
     },
     "metadata": {},
     "output_type": "display_data"
    },
    {
     "data": {
      "text/html": [
       "<pre>| 1679    | 39m 46s      | 1.97238                |</pre>"
      ],
      "text/plain": [
       "| 1679    | 39m 46s      | 1.97238                |"
      ]
     },
     "metadata": {},
     "output_type": "display_data"
    },
    {
     "data": {
      "text/html": [
       "<pre>| 1680    | 39m 47s      | 1.97232                |</pre>"
      ],
      "text/plain": [
       "| 1680    | 39m 47s      | 1.97232                |"
      ]
     },
     "metadata": {},
     "output_type": "display_data"
    },
    {
     "data": {
      "text/html": [
       "<pre>| 1681    | 39m 48s      | 1.97313                |</pre>"
      ],
      "text/plain": [
       "| 1681    | 39m 48s      | 1.97313                |"
      ]
     },
     "metadata": {},
     "output_type": "display_data"
    },
    {
     "data": {
      "text/html": [
       "<pre>| 1682    | 39m 49s      | 1.97258                |</pre>"
      ],
      "text/plain": [
       "| 1682    | 39m 49s      | 1.97258                |"
      ]
     },
     "metadata": {},
     "output_type": "display_data"
    },
    {
     "data": {
      "text/html": [
       "<pre>| 1683    | 39m 51s      | 1.9729                 |</pre>"
      ],
      "text/plain": [
       "| 1683    | 39m 51s      | 1.9729                 |"
      ]
     },
     "metadata": {},
     "output_type": "display_data"
    },
    {
     "data": {
      "text/html": [
       "<pre>| 1684    | 39m 52s      | 1.97387                |</pre>"
      ],
      "text/plain": [
       "| 1684    | 39m 52s      | 1.97387                |"
      ]
     },
     "metadata": {},
     "output_type": "display_data"
    },
    {
     "data": {
      "text/html": [
       "<pre>| 1685    | 39m 53s      | 1.97522                |</pre>"
      ],
      "text/plain": [
       "| 1685    | 39m 53s      | 1.97522                |"
      ]
     },
     "metadata": {},
     "output_type": "display_data"
    },
    {
     "data": {
      "text/html": [
       "<pre>| 1686    | 39m 55s      | 1.97588                |</pre>"
      ],
      "text/plain": [
       "| 1686    | 39m 55s      | 1.97588                |"
      ]
     },
     "metadata": {},
     "output_type": "display_data"
    },
    {
     "data": {
      "text/html": [
       "<pre>| 1687    | 39m 56s      | 1.97913                |</pre>"
      ],
      "text/plain": [
       "| 1687    | 39m 56s      | 1.97913                |"
      ]
     },
     "metadata": {},
     "output_type": "display_data"
    },
    {
     "data": {
      "text/html": [
       "<pre>| 1688    | 39m 58s      | 1.98107                |</pre>"
      ],
      "text/plain": [
       "| 1688    | 39m 58s      | 1.98107                |"
      ]
     },
     "metadata": {},
     "output_type": "display_data"
    },
    {
     "data": {
      "text/html": [
       "<pre>| 1689    | 39m 59s      | 2.01262                |</pre>"
      ],
      "text/plain": [
       "| 1689    | 39m 59s      | 2.01262                |"
      ]
     },
     "metadata": {},
     "output_type": "display_data"
    },
    {
     "data": {
      "text/html": [
       "<pre>| 1690    | 40m 1s       | 4.12578                |</pre>"
      ],
      "text/plain": [
       "| 1690    | 40m 1s       | 4.12578                |"
      ]
     },
     "metadata": {},
     "output_type": "display_data"
    },
    {
     "data": {
      "text/html": [
       "<pre>| 1691    | 40m 2s       | 2.25292                |</pre>"
      ],
      "text/plain": [
       "| 1691    | 40m 2s       | 2.25292                |"
      ]
     },
     "metadata": {},
     "output_type": "display_data"
    },
    {
     "data": {
      "text/html": [
       "<pre>| 1692    | 40m 4s       | 1.97196                |</pre>"
      ],
      "text/plain": [
       "| 1692    | 40m 4s       | 1.97196                |"
      ]
     },
     "metadata": {},
     "output_type": "display_data"
    },
    {
     "data": {
      "text/html": [
       "<pre>| 1693    | 40m 5s       | 1.97182                |</pre>"
      ],
      "text/plain": [
       "| 1693    | 40m 5s       | 1.97182                |"
      ]
     },
     "metadata": {},
     "output_type": "display_data"
    },
    {
     "data": {
      "text/html": [
       "<pre>| 1694    | 40m 7s       | 1.97171                |</pre>"
      ],
      "text/plain": [
       "| 1694    | 40m 7s       | 1.97171                |"
      ]
     },
     "metadata": {},
     "output_type": "display_data"
    },
    {
     "data": {
      "text/html": [
       "<pre>| 1695    | 40m 8s       | 1.97163                |</pre>"
      ],
      "text/plain": [
       "| 1695    | 40m 8s       | 1.97163                |"
      ]
     },
     "metadata": {},
     "output_type": "display_data"
    },
    {
     "data": {
      "text/html": [
       "<pre>| 1696    | 40m 10s      | 1.97155                |</pre>"
      ],
      "text/plain": [
       "| 1696    | 40m 10s      | 1.97155                |"
      ]
     },
     "metadata": {},
     "output_type": "display_data"
    },
    {
     "data": {
      "text/html": [
       "<pre>| 1697    | 40m 11s      | 1.9715                 |</pre>"
      ],
      "text/plain": [
       "| 1697    | 40m 11s      | 1.9715                 |"
      ]
     },
     "metadata": {},
     "output_type": "display_data"
    },
    {
     "data": {
      "text/html": [
       "<pre>| 1698    | 40m 13s      | 1.97144                |</pre>"
      ],
      "text/plain": [
       "| 1698    | 40m 13s      | 1.97144                |"
      ]
     },
     "metadata": {},
     "output_type": "display_data"
    },
    {
     "data": {
      "text/html": [
       "<pre>| 1699    | 40m 14s      | 1.97139                |</pre>"
      ],
      "text/plain": [
       "| 1699    | 40m 14s      | 1.97139                |"
      ]
     },
     "metadata": {},
     "output_type": "display_data"
    },
    {
     "data": {
      "text/html": [
       "<pre>| 1700    | 40m 15s      | 1.97135                |</pre>"
      ],
      "text/plain": [
       "| 1700    | 40m 15s      | 1.97135                |"
      ]
     },
     "metadata": {},
     "output_type": "display_data"
    },
    {
     "data": {
      "text/html": [
       "<pre>| 1701    | 40m 16s      | 1.9713                 |</pre>"
      ],
      "text/plain": [
       "| 1701    | 40m 16s      | 1.9713                 |"
      ]
     },
     "metadata": {},
     "output_type": "display_data"
    },
    {
     "data": {
      "text/html": [
       "<pre>| 1702    | 40m 18s      | 1.97126                |</pre>"
      ],
      "text/plain": [
       "| 1702    | 40m 18s      | 1.97126                |"
      ]
     },
     "metadata": {},
     "output_type": "display_data"
    },
    {
     "data": {
      "text/html": [
       "<pre>| 1703    | 40m 19s      | 1.97122                |</pre>"
      ],
      "text/plain": [
       "| 1703    | 40m 19s      | 1.97122                |"
      ]
     },
     "metadata": {},
     "output_type": "display_data"
    },
    {
     "data": {
      "text/html": [
       "<pre>| 1704    | 40m 20s      | 1.97119                |</pre>"
      ],
      "text/plain": [
       "| 1704    | 40m 20s      | 1.97119                |"
      ]
     },
     "metadata": {},
     "output_type": "display_data"
    },
    {
     "data": {
      "text/html": [
       "<pre>| 1705    | 40m 22s      | 1.97116                |</pre>"
      ],
      "text/plain": [
       "| 1705    | 40m 22s      | 1.97116                |"
      ]
     },
     "metadata": {},
     "output_type": "display_data"
    },
    {
     "data": {
      "text/html": [
       "<pre>| 1706    | 40m 23s      | 1.97112                |</pre>"
      ],
      "text/plain": [
       "| 1706    | 40m 23s      | 1.97112                |"
      ]
     },
     "metadata": {},
     "output_type": "display_data"
    },
    {
     "data": {
      "text/html": [
       "<pre>| 1707    | 40m 24s      | 1.97109                |</pre>"
      ],
      "text/plain": [
       "| 1707    | 40m 24s      | 1.97109                |"
      ]
     },
     "metadata": {},
     "output_type": "display_data"
    },
    {
     "data": {
      "text/html": [
       "<pre>| 1708    | 40m 25s      | 1.97106                |</pre>"
      ],
      "text/plain": [
       "| 1708    | 40m 25s      | 1.97106                |"
      ]
     },
     "metadata": {},
     "output_type": "display_data"
    },
    {
     "data": {
      "text/html": [
       "<pre>| 1709    | 40m 27s      | 1.97103                |</pre>"
      ],
      "text/plain": [
       "| 1709    | 40m 27s      | 1.97103                |"
      ]
     },
     "metadata": {},
     "output_type": "display_data"
    },
    {
     "data": {
      "text/html": [
       "<pre>| 1710    | 40m 28s      | 1.971                  |</pre>"
      ],
      "text/plain": [
       "| 1710    | 40m 28s      | 1.971                  |"
      ]
     },
     "metadata": {},
     "output_type": "display_data"
    },
    {
     "data": {
      "text/html": [
       "<pre>| 1711    | 40m 29s      | 1.97097                |</pre>"
      ],
      "text/plain": [
       "| 1711    | 40m 29s      | 1.97097                |"
      ]
     },
     "metadata": {},
     "output_type": "display_data"
    },
    {
     "data": {
      "text/html": [
       "<pre>| 1712    | 40m 30s      | 1.97095                |</pre>"
      ],
      "text/plain": [
       "| 1712    | 40m 30s      | 1.97095                |"
      ]
     },
     "metadata": {},
     "output_type": "display_data"
    },
    {
     "data": {
      "text/html": [
       "<pre>| 1713    | 40m 32s      | 1.97092                |</pre>"
      ],
      "text/plain": [
       "| 1713    | 40m 32s      | 1.97092                |"
      ]
     },
     "metadata": {},
     "output_type": "display_data"
    },
    {
     "data": {
      "text/html": [
       "<pre>| 1714    | 40m 33s      | 1.97089                |</pre>"
      ],
      "text/plain": [
       "| 1714    | 40m 33s      | 1.97089                |"
      ]
     },
     "metadata": {},
     "output_type": "display_data"
    },
    {
     "data": {
      "text/html": [
       "<pre>| 1715    | 40m 34s      | 1.97086                |</pre>"
      ],
      "text/plain": [
       "| 1715    | 40m 34s      | 1.97086                |"
      ]
     },
     "metadata": {},
     "output_type": "display_data"
    },
    {
     "data": {
      "text/html": [
       "<pre>| 1716    | 40m 35s      | 1.97084                |</pre>"
      ],
      "text/plain": [
       "| 1716    | 40m 35s      | 1.97084                |"
      ]
     },
     "metadata": {},
     "output_type": "display_data"
    },
    {
     "data": {
      "text/html": [
       "<pre>| 1717    | 40m 37s      | 1.97081                |</pre>"
      ],
      "text/plain": [
       "| 1717    | 40m 37s      | 1.97081                |"
      ]
     },
     "metadata": {},
     "output_type": "display_data"
    },
    {
     "data": {
      "text/html": [
       "<pre>| 1718    | 40m 38s      | 1.97079                |</pre>"
      ],
      "text/plain": [
       "| 1718    | 40m 38s      | 1.97079                |"
      ]
     },
     "metadata": {},
     "output_type": "display_data"
    },
    {
     "data": {
      "text/html": [
       "<pre>| 1719    | 40m 39s      | 1.97077                |</pre>"
      ],
      "text/plain": [
       "| 1719    | 40m 39s      | 1.97077                |"
      ]
     },
     "metadata": {},
     "output_type": "display_data"
    },
    {
     "data": {
      "text/html": [
       "<pre>| 1720    | 40m 40s      | 1.97074                |</pre>"
      ],
      "text/plain": [
       "| 1720    | 40m 40s      | 1.97074                |"
      ]
     },
     "metadata": {},
     "output_type": "display_data"
    },
    {
     "data": {
      "text/html": [
       "<pre>| 1721    | 40m 42s      | 1.97072                |</pre>"
      ],
      "text/plain": [
       "| 1721    | 40m 42s      | 1.97072                |"
      ]
     },
     "metadata": {},
     "output_type": "display_data"
    },
    {
     "data": {
      "text/html": [
       "<pre>| 1722    | 40m 43s      | 1.9707                 |</pre>"
      ],
      "text/plain": [
       "| 1722    | 40m 43s      | 1.9707                 |"
      ]
     },
     "metadata": {},
     "output_type": "display_data"
    },
    {
     "data": {
      "text/html": [
       "<pre>| 1723    | 40m 44s      | 1.97067                |</pre>"
      ],
      "text/plain": [
       "| 1723    | 40m 44s      | 1.97067                |"
      ]
     },
     "metadata": {},
     "output_type": "display_data"
    },
    {
     "data": {
      "text/html": [
       "<pre>| 1724    | 40m 46s      | 1.97065                |</pre>"
      ],
      "text/plain": [
       "| 1724    | 40m 46s      | 1.97065                |"
      ]
     },
     "metadata": {},
     "output_type": "display_data"
    },
    {
     "data": {
      "text/html": [
       "<pre>| 1725    | 40m 47s      | 1.97063                |</pre>"
      ],
      "text/plain": [
       "| 1725    | 40m 47s      | 1.97063                |"
      ]
     },
     "metadata": {},
     "output_type": "display_data"
    },
    {
     "data": {
      "text/html": [
       "<pre>| 1726    | 40m 49s      | 1.97061                |</pre>"
      ],
      "text/plain": [
       "| 1726    | 40m 49s      | 1.97061                |"
      ]
     },
     "metadata": {},
     "output_type": "display_data"
    },
    {
     "data": {
      "text/html": [
       "<pre>| 1727    | 40m 50s      | 1.9706                 |</pre>"
      ],
      "text/plain": [
       "| 1727    | 40m 50s      | 1.9706                 |"
      ]
     },
     "metadata": {},
     "output_type": "display_data"
    },
    {
     "data": {
      "text/html": [
       "<pre>| 1728    | 40m 52s      | 1.97057                |</pre>"
      ],
      "text/plain": [
       "| 1728    | 40m 52s      | 1.97057                |"
      ]
     },
     "metadata": {},
     "output_type": "display_data"
    },
    {
     "data": {
      "text/html": [
       "<pre>| 1729    | 40m 53s      | 1.97054                |</pre>"
      ],
      "text/plain": [
       "| 1729    | 40m 53s      | 1.97054                |"
      ]
     },
     "metadata": {},
     "output_type": "display_data"
    },
    {
     "data": {
      "text/html": [
       "<pre>| 1730    | 40m 55s      | 1.97053                |</pre>"
      ],
      "text/plain": [
       "| 1730    | 40m 55s      | 1.97053                |"
      ]
     },
     "metadata": {},
     "output_type": "display_data"
    },
    {
     "data": {
      "text/html": [
       "<pre>| 1731    | 40m 56s      | 1.9705                 |</pre>"
      ],
      "text/plain": [
       "| 1731    | 40m 56s      | 1.9705                 |"
      ]
     },
     "metadata": {},
     "output_type": "display_data"
    },
    {
     "data": {
      "text/html": [
       "<pre>| 1732    | 40m 58s      | 1.97048                |</pre>"
      ],
      "text/plain": [
       "| 1732    | 40m 58s      | 1.97048                |"
      ]
     },
     "metadata": {},
     "output_type": "display_data"
    },
    {
     "data": {
      "text/html": [
       "<pre>| 1733    | 40m 59s      | 1.97046                |</pre>"
      ],
      "text/plain": [
       "| 1733    | 40m 59s      | 1.97046                |"
      ]
     },
     "metadata": {},
     "output_type": "display_data"
    },
    {
     "data": {
      "text/html": [
       "<pre>| 1734    | 41m 0s       | 1.97045                |</pre>"
      ],
      "text/plain": [
       "| 1734    | 41m 0s       | 1.97045                |"
      ]
     },
     "metadata": {},
     "output_type": "display_data"
    },
    {
     "data": {
      "text/html": [
       "<pre>| 1735    | 41m 2s       | 1.97041                |</pre>"
      ],
      "text/plain": [
       "| 1735    | 41m 2s       | 1.97041                |"
      ]
     },
     "metadata": {},
     "output_type": "display_data"
    },
    {
     "data": {
      "text/html": [
       "<pre>| 1736    | 41m 3s       | 1.97041                |</pre>"
      ],
      "text/plain": [
       "| 1736    | 41m 3s       | 1.97041                |"
      ]
     },
     "metadata": {},
     "output_type": "display_data"
    },
    {
     "data": {
      "text/html": [
       "<pre>| 1737    | 41m 4s       | 1.97038                |</pre>"
      ],
      "text/plain": [
       "| 1737    | 41m 4s       | 1.97038                |"
      ]
     },
     "metadata": {},
     "output_type": "display_data"
    },
    {
     "data": {
      "text/html": [
       "<pre>| 1738    | 41m 5s       | 1.97036                |</pre>"
      ],
      "text/plain": [
       "| 1738    | 41m 5s       | 1.97036                |"
      ]
     },
     "metadata": {},
     "output_type": "display_data"
    },
    {
     "data": {
      "text/html": [
       "<pre>| 1739    | 41m 7s       | 1.97035                |</pre>"
      ],
      "text/plain": [
       "| 1739    | 41m 7s       | 1.97035                |"
      ]
     },
     "metadata": {},
     "output_type": "display_data"
    },
    {
     "data": {
      "text/html": [
       "<pre>| 1740    | 41m 8s       | 1.97033                |</pre>"
      ],
      "text/plain": [
       "| 1740    | 41m 8s       | 1.97033                |"
      ]
     },
     "metadata": {},
     "output_type": "display_data"
    },
    {
     "data": {
      "text/html": [
       "<pre>| 1741    | 41m 9s       | 1.9703                 |</pre>"
      ],
      "text/plain": [
       "| 1741    | 41m 9s       | 1.9703                 |"
      ]
     },
     "metadata": {},
     "output_type": "display_data"
    },
    {
     "data": {
      "text/html": [
       "<pre>| 1742    | 41m 11s      | 1.97029                |</pre>"
      ],
      "text/plain": [
       "| 1742    | 41m 11s      | 1.97029                |"
      ]
     },
     "metadata": {},
     "output_type": "display_data"
    },
    {
     "data": {
      "text/html": [
       "<pre>| 1743    | 41m 12s      | 1.97028                |</pre>"
      ],
      "text/plain": [
       "| 1743    | 41m 12s      | 1.97028                |"
      ]
     },
     "metadata": {},
     "output_type": "display_data"
    },
    {
     "data": {
      "text/html": [
       "<pre>| 1744    | 41m 13s      | 1.97027                |</pre>"
      ],
      "text/plain": [
       "| 1744    | 41m 13s      | 1.97027                |"
      ]
     },
     "metadata": {},
     "output_type": "display_data"
    },
    {
     "data": {
      "text/html": [
       "<pre>| 1745    | 41m 15s      | 1.97026                |</pre>"
      ],
      "text/plain": [
       "| 1745    | 41m 15s      | 1.97026                |"
      ]
     },
     "metadata": {},
     "output_type": "display_data"
    },
    {
     "data": {
      "text/html": [
       "<pre>| 1746    | 41m 16s      | 1.97025                |</pre>"
      ],
      "text/plain": [
       "| 1746    | 41m 16s      | 1.97025                |"
      ]
     },
     "metadata": {},
     "output_type": "display_data"
    },
    {
     "data": {
      "text/html": [
       "<pre>| 1747    | 41m 17s      | 1.97025                |</pre>"
      ],
      "text/plain": [
       "| 1747    | 41m 17s      | 1.97025                |"
      ]
     },
     "metadata": {},
     "output_type": "display_data"
    },
    {
     "data": {
      "text/html": [
       "<pre>| 1748    | 41m 19s      | 1.97023                |</pre>"
      ],
      "text/plain": [
       "| 1748    | 41m 19s      | 1.97023                |"
      ]
     },
     "metadata": {},
     "output_type": "display_data"
    },
    {
     "data": {
      "text/html": [
       "<pre>| 1749    | 41m 20s      | 1.97023                |</pre>"
      ],
      "text/plain": [
       "| 1749    | 41m 20s      | 1.97023                |"
      ]
     },
     "metadata": {},
     "output_type": "display_data"
    },
    {
     "data": {
      "text/html": [
       "<pre>| 1750    | 41m 21s      | 1.97021                |</pre>"
      ],
      "text/plain": [
       "| 1750    | 41m 21s      | 1.97021                |"
      ]
     },
     "metadata": {},
     "output_type": "display_data"
    },
    {
     "data": {
      "text/html": [
       "<pre>| 1751    | 41m 23s      | 1.9702                 |</pre>"
      ],
      "text/plain": [
       "| 1751    | 41m 23s      | 1.9702                 |"
      ]
     },
     "metadata": {},
     "output_type": "display_data"
    },
    {
     "data": {
      "text/html": [
       "<pre>| 1752    | 41m 24s      | 1.97023                |</pre>"
      ],
      "text/plain": [
       "| 1752    | 41m 24s      | 1.97023                |"
      ]
     },
     "metadata": {},
     "output_type": "display_data"
    },
    {
     "data": {
      "text/html": [
       "<pre>| 1753    | 41m 25s      | 1.97021                |</pre>"
      ],
      "text/plain": [
       "| 1753    | 41m 25s      | 1.97021                |"
      ]
     },
     "metadata": {},
     "output_type": "display_data"
    },
    {
     "data": {
      "text/html": [
       "<pre>| 1754    | 41m 27s      | 1.97022                |</pre>"
      ],
      "text/plain": [
       "| 1754    | 41m 27s      | 1.97022                |"
      ]
     },
     "metadata": {},
     "output_type": "display_data"
    },
    {
     "data": {
      "text/html": [
       "<pre>| 1755    | 41m 28s      | 1.97026                |</pre>"
      ],
      "text/plain": [
       "| 1755    | 41m 28s      | 1.97026                |"
      ]
     },
     "metadata": {},
     "output_type": "display_data"
    },
    {
     "data": {
      "text/html": [
       "<pre>| 1756    | 41m 29s      | 1.97024                |</pre>"
      ],
      "text/plain": [
       "| 1756    | 41m 29s      | 1.97024                |"
      ]
     },
     "metadata": {},
     "output_type": "display_data"
    },
    {
     "data": {
      "text/html": [
       "<pre>| 1757    | 41m 32s      | 1.97032                |</pre>"
      ],
      "text/plain": [
       "| 1757    | 41m 32s      | 1.97032                |"
      ]
     },
     "metadata": {},
     "output_type": "display_data"
    },
    {
     "data": {
      "text/html": [
       "<pre>| 1758    | 41m 34s      | 1.97036                |</pre>"
      ],
      "text/plain": [
       "| 1758    | 41m 34s      | 1.97036                |"
      ]
     },
     "metadata": {},
     "output_type": "display_data"
    },
    {
     "data": {
      "text/html": [
       "<pre>| 1759    | 41m 37s      | 1.97034                |</pre>"
      ],
      "text/plain": [
       "| 1759    | 41m 37s      | 1.97034                |"
      ]
     },
     "metadata": {},
     "output_type": "display_data"
    },
    {
     "data": {
      "text/html": [
       "<pre>| 1760    | 41m 40s      | 1.97037                |</pre>"
      ],
      "text/plain": [
       "| 1760    | 41m 40s      | 1.97037                |"
      ]
     },
     "metadata": {},
     "output_type": "display_data"
    },
    {
     "data": {
      "text/html": [
       "<pre>| 1761    | 41m 43s      | 1.97055                |</pre>"
      ],
      "text/plain": [
       "| 1761    | 41m 43s      | 1.97055                |"
      ]
     },
     "metadata": {},
     "output_type": "display_data"
    },
    {
     "data": {
      "text/html": [
       "<pre>| 1762    | 41m 46s      | 1.97077                |</pre>"
      ],
      "text/plain": [
       "| 1762    | 41m 46s      | 1.97077                |"
      ]
     },
     "metadata": {},
     "output_type": "display_data"
    },
    {
     "data": {
      "text/html": [
       "<pre>| 1763    | 41m 49s      | 1.97098                |</pre>"
      ],
      "text/plain": [
       "| 1763    | 41m 49s      | 1.97098                |"
      ]
     },
     "metadata": {},
     "output_type": "display_data"
    },
    {
     "data": {
      "text/html": [
       "<pre>| 1764    | 41m 53s      | 1.97111                |</pre>"
      ],
      "text/plain": [
       "| 1764    | 41m 53s      | 1.97111                |"
      ]
     },
     "metadata": {},
     "output_type": "display_data"
    },
    {
     "data": {
      "text/html": [
       "<pre>| 1765    | 41m 56s      | 1.97129                |</pre>"
      ],
      "text/plain": [
       "| 1765    | 41m 56s      | 1.97129                |"
      ]
     },
     "metadata": {},
     "output_type": "display_data"
    },
    {
     "data": {
      "text/html": [
       "<pre>| 1766    | 41m 59s      | 1.97151                |</pre>"
      ],
      "text/plain": [
       "| 1766    | 41m 59s      | 1.97151                |"
      ]
     },
     "metadata": {},
     "output_type": "display_data"
    },
    {
     "data": {
      "text/html": [
       "<pre>| 1767    | 42m 3s       | 1.97209                |</pre>"
      ],
      "text/plain": [
       "| 1767    | 42m 3s       | 1.97209                |"
      ]
     },
     "metadata": {},
     "output_type": "display_data"
    },
    {
     "data": {
      "text/html": [
       "<pre>| 1768    | 42m 6s       | 1.9734                 |</pre>"
      ],
      "text/plain": [
       "| 1768    | 42m 6s       | 1.9734                 |"
      ]
     },
     "metadata": {},
     "output_type": "display_data"
    },
    {
     "data": {
      "text/html": [
       "<pre>| 1769    | 42m 9s       | 1.9727                 |</pre>"
      ],
      "text/plain": [
       "| 1769    | 42m 9s       | 1.9727                 |"
      ]
     },
     "metadata": {},
     "output_type": "display_data"
    },
    {
     "data": {
      "text/html": [
       "<pre>| 1770    | 42m 12s      | 1.97448                |</pre>"
      ],
      "text/plain": [
       "| 1770    | 42m 12s      | 1.97448                |"
      ]
     },
     "metadata": {},
     "output_type": "display_data"
    },
    {
     "data": {
      "text/html": [
       "<pre>| 1771    | 42m 16s      | 1.97283                |</pre>"
      ],
      "text/plain": [
       "| 1771    | 42m 16s      | 1.97283                |"
      ]
     },
     "metadata": {},
     "output_type": "display_data"
    },
    {
     "data": {
      "text/html": [
       "<pre>| 1772    | 42m 19s      | 1.97432                |</pre>"
      ],
      "text/plain": [
       "| 1772    | 42m 19s      | 1.97432                |"
      ]
     },
     "metadata": {},
     "output_type": "display_data"
    },
    {
     "data": {
      "text/html": [
       "<pre>| 1773    | 42m 22s      | 1.97594                |</pre>"
      ],
      "text/plain": [
       "| 1773    | 42m 22s      | 1.97594                |"
      ]
     },
     "metadata": {},
     "output_type": "display_data"
    },
    {
     "data": {
      "text/html": [
       "<pre>| 1774    | 42m 25s      | 2.01225                |</pre>"
      ],
      "text/plain": [
       "| 1774    | 42m 25s      | 2.01225                |"
      ]
     },
     "metadata": {},
     "output_type": "display_data"
    },
    {
     "data": {
      "text/html": [
       "<pre>| 1775    | 42m 28s      | 14.4224                |</pre>"
      ],
      "text/plain": [
       "| 1775    | 42m 28s      | 14.4224                |"
      ]
     },
     "metadata": {},
     "output_type": "display_data"
    },
    {
     "data": {
      "text/html": [
       "<pre>| 1776    | 42m 30s      | 5.79226                |</pre>"
      ],
      "text/plain": [
       "| 1776    | 42m 30s      | 5.79226                |"
      ]
     },
     "metadata": {},
     "output_type": "display_data"
    },
    {
     "data": {
      "text/html": [
       "<pre>| 1777    | 42m 33s      | 3.11277                |</pre>"
      ],
      "text/plain": [
       "| 1777    | 42m 33s      | 3.11277                |"
      ]
     },
     "metadata": {},
     "output_type": "display_data"
    },
    {
     "data": {
      "text/html": [
       "<pre>| 1778    | 42m 35s      | 2.46327                |</pre>"
      ],
      "text/plain": [
       "| 1778    | 42m 35s      | 2.46327                |"
      ]
     },
     "metadata": {},
     "output_type": "display_data"
    },
    {
     "data": {
      "text/html": [
       "<pre>| 1779    | 42m 37s      | 2.35856                |</pre>"
      ],
      "text/plain": [
       "| 1779    | 42m 37s      | 2.35856                |"
      ]
     },
     "metadata": {},
     "output_type": "display_data"
    },
    {
     "data": {
      "text/html": [
       "<pre>| 1780    | 42m 40s      | 2.29631                |</pre>"
      ],
      "text/plain": [
       "| 1780    | 42m 40s      | 2.29631                |"
      ]
     },
     "metadata": {},
     "output_type": "display_data"
    },
    {
     "data": {
      "text/html": [
       "<pre>| 1781    | 42m 42s      | 2.25635                |</pre>"
      ],
      "text/plain": [
       "| 1781    | 42m 42s      | 2.25635                |"
      ]
     },
     "metadata": {},
     "output_type": "display_data"
    },
    {
     "data": {
      "text/html": [
       "<pre>| 1782    | 42m 45s      | 2.22774                |</pre>"
      ],
      "text/plain": [
       "| 1782    | 42m 45s      | 2.22774                |"
      ]
     },
     "metadata": {},
     "output_type": "display_data"
    },
    {
     "data": {
      "text/html": [
       "<pre>| 1783    | 42m 47s      | 2.20542                |</pre>"
      ],
      "text/plain": [
       "| 1783    | 42m 47s      | 2.20542                |"
      ]
     },
     "metadata": {},
     "output_type": "display_data"
    },
    {
     "data": {
      "text/html": [
       "<pre>| 1784    | 42m 49s      | 2.18682                |</pre>"
      ],
      "text/plain": [
       "| 1784    | 42m 49s      | 2.18682                |"
      ]
     },
     "metadata": {},
     "output_type": "display_data"
    },
    {
     "data": {
      "text/html": [
       "<pre>| 1785    | 42m 52s      | 2.17027                |</pre>"
      ],
      "text/plain": [
       "| 1785    | 42m 52s      | 2.17027                |"
      ]
     },
     "metadata": {},
     "output_type": "display_data"
    },
    {
     "data": {
      "text/html": [
       "<pre>| 1786    | 42m 55s      | 2.1555                 |</pre>"
      ],
      "text/plain": [
       "| 1786    | 42m 55s      | 2.1555                 |"
      ]
     },
     "metadata": {},
     "output_type": "display_data"
    },
    {
     "data": {
      "text/html": [
       "<pre>| 1787    | 42m 58s      | 2.14225                |</pre>"
      ],
      "text/plain": [
       "| 1787    | 42m 58s      | 2.14225                |"
      ]
     },
     "metadata": {},
     "output_type": "display_data"
    },
    {
     "data": {
      "text/html": [
       "<pre>| 1788    | 43m 1s       | 2.13028                |</pre>"
      ],
      "text/plain": [
       "| 1788    | 43m 1s       | 2.13028                |"
      ]
     },
     "metadata": {},
     "output_type": "display_data"
    },
    {
     "data": {
      "text/html": [
       "<pre>| 1789    | 43m 4s       | 2.11953                |</pre>"
      ],
      "text/plain": [
       "| 1789    | 43m 4s       | 2.11953                |"
      ]
     },
     "metadata": {},
     "output_type": "display_data"
    },
    {
     "data": {
      "text/html": [
       "<pre>| 1790    | 43m 7s       | 2.10995                |</pre>"
      ],
      "text/plain": [
       "| 1790    | 43m 7s       | 2.10995                |"
      ]
     },
     "metadata": {},
     "output_type": "display_data"
    },
    {
     "data": {
      "text/html": [
       "<pre>| 1791    | 43m 10s      | 2.10144                |</pre>"
      ],
      "text/plain": [
       "| 1791    | 43m 10s      | 2.10144                |"
      ]
     },
     "metadata": {},
     "output_type": "display_data"
    },
    {
     "data": {
      "text/html": [
       "<pre>| 1792    | 43m 13s      | 2.0939                 |</pre>"
      ],
      "text/plain": [
       "| 1792    | 43m 13s      | 2.0939                 |"
      ]
     },
     "metadata": {},
     "output_type": "display_data"
    },
    {
     "data": {
      "text/html": [
       "<pre>| 1793    | 43m 16s      | 2.08732                |</pre>"
      ],
      "text/plain": [
       "| 1793    | 43m 16s      | 2.08732                |"
      ]
     },
     "metadata": {},
     "output_type": "display_data"
    },
    {
     "data": {
      "text/html": [
       "<pre>| 1794    | 43m 19s      | 2.08153                |</pre>"
      ],
      "text/plain": [
       "| 1794    | 43m 19s      | 2.08153                |"
      ]
     },
     "metadata": {},
     "output_type": "display_data"
    },
    {
     "data": {
      "text/html": [
       "<pre>| 1795    | 43m 22s      | 2.07644                |</pre>"
      ],
      "text/plain": [
       "| 1795    | 43m 22s      | 2.07644                |"
      ]
     },
     "metadata": {},
     "output_type": "display_data"
    },
    {
     "data": {
      "text/html": [
       "<pre>| 1796    | 43m 25s      | 2.07194                |</pre>"
      ],
      "text/plain": [
       "| 1796    | 43m 25s      | 2.07194                |"
      ]
     },
     "metadata": {},
     "output_type": "display_data"
    },
    {
     "data": {
      "text/html": [
       "<pre>| 1797    | 43m 28s      | 2.06793                |</pre>"
      ],
      "text/plain": [
       "| 1797    | 43m 28s      | 2.06793                |"
      ]
     },
     "metadata": {},
     "output_type": "display_data"
    },
    {
     "data": {
      "text/html": [
       "<pre>| 1798    | 43m 30s      | 2.06433                |</pre>"
      ],
      "text/plain": [
       "| 1798    | 43m 30s      | 2.06433                |"
      ]
     },
     "metadata": {},
     "output_type": "display_data"
    },
    {
     "data": {
      "text/html": [
       "<pre>| 1799    | 43m 33s      | 2.06108                |</pre>"
      ],
      "text/plain": [
       "| 1799    | 43m 33s      | 2.06108                |"
      ]
     },
     "metadata": {},
     "output_type": "display_data"
    },
    {
     "data": {
      "text/html": [
       "<pre>| 1800    | 43m 36s      | 2.05813                |</pre>"
      ],
      "text/plain": [
       "| 1800    | 43m 36s      | 2.05813                |"
      ]
     },
     "metadata": {},
     "output_type": "display_data"
    },
    {
     "data": {
      "text/html": [
       "<pre>| 1801    | 43m 39s      | 2.05545                |</pre>"
      ],
      "text/plain": [
       "| 1801    | 43m 39s      | 2.05545                |"
      ]
     },
     "metadata": {},
     "output_type": "display_data"
    },
    {
     "data": {
      "text/html": [
       "<pre>| 1802    | 43m 42s      | 2.05296                |</pre>"
      ],
      "text/plain": [
       "| 1802    | 43m 42s      | 2.05296                |"
      ]
     },
     "metadata": {},
     "output_type": "display_data"
    },
    {
     "data": {
      "text/html": [
       "<pre>| 1803    | 43m 45s      | 2.05063                |</pre>"
      ],
      "text/plain": [
       "| 1803    | 43m 45s      | 2.05063                |"
      ]
     },
     "metadata": {},
     "output_type": "display_data"
    },
    {
     "data": {
      "text/html": [
       "<pre>| 1804    | 43m 48s      | 2.04848                |</pre>"
      ],
      "text/plain": [
       "| 1804    | 43m 48s      | 2.04848                |"
      ]
     },
     "metadata": {},
     "output_type": "display_data"
    },
    {
     "data": {
      "text/html": [
       "<pre>| 1805    | 43m 50s      | 2.04647                |</pre>"
      ],
      "text/plain": [
       "| 1805    | 43m 50s      | 2.04647                |"
      ]
     },
     "metadata": {},
     "output_type": "display_data"
    },
    {
     "data": {
      "text/html": [
       "<pre>| 1806    | 43m 53s      | 2.04455                |</pre>"
      ],
      "text/plain": [
       "| 1806    | 43m 53s      | 2.04455                |"
      ]
     },
     "metadata": {},
     "output_type": "display_data"
    },
    {
     "data": {
      "text/html": [
       "<pre>| 1807    | 43m 55s      | 2.04276                |</pre>"
      ],
      "text/plain": [
       "| 1807    | 43m 55s      | 2.04276                |"
      ]
     },
     "metadata": {},
     "output_type": "display_data"
    },
    {
     "data": {
      "text/html": [
       "<pre>| 1808    | 43m 58s      | 2.04106                |</pre>"
      ],
      "text/plain": [
       "| 1808    | 43m 58s      | 2.04106                |"
      ]
     },
     "metadata": {},
     "output_type": "display_data"
    },
    {
     "data": {
      "text/html": [
       "<pre>| 1809    | 44m 2s       | 2.03945                |</pre>"
      ],
      "text/plain": [
       "| 1809    | 44m 2s       | 2.03945                |"
      ]
     },
     "metadata": {},
     "output_type": "display_data"
    },
    {
     "data": {
      "text/html": [
       "<pre>| 1810    | 44m 5s       | 2.03791                |</pre>"
      ],
      "text/plain": [
       "| 1810    | 44m 5s       | 2.03791                |"
      ]
     },
     "metadata": {},
     "output_type": "display_data"
    },
    {
     "data": {
      "text/html": [
       "<pre>| 1811    | 44m 8s       | 2.03646                |</pre>"
      ],
      "text/plain": [
       "| 1811    | 44m 8s       | 2.03646                |"
      ]
     },
     "metadata": {},
     "output_type": "display_data"
    },
    {
     "data": {
      "text/html": [
       "<pre>| 1812    | 44m 10s      | 2.03509                |</pre>"
      ],
      "text/plain": [
       "| 1812    | 44m 10s      | 2.03509                |"
      ]
     },
     "metadata": {},
     "output_type": "display_data"
    },
    {
     "data": {
      "text/html": [
       "<pre>| 1813    | 44m 13s      | 2.03375                |</pre>"
      ],
      "text/plain": [
       "| 1813    | 44m 13s      | 2.03375                |"
      ]
     },
     "metadata": {},
     "output_type": "display_data"
    },
    {
     "data": {
      "text/html": [
       "<pre>| 1814    | 44m 15s      | 2.03247                |</pre>"
      ],
      "text/plain": [
       "| 1814    | 44m 15s      | 2.03247                |"
      ]
     },
     "metadata": {},
     "output_type": "display_data"
    },
    {
     "data": {
      "text/html": [
       "<pre>| 1815    | 44m 18s      | 2.03125                |</pre>"
      ],
      "text/plain": [
       "| 1815    | 44m 18s      | 2.03125                |"
      ]
     },
     "metadata": {},
     "output_type": "display_data"
    },
    {
     "data": {
      "text/html": [
       "<pre>| 1816    | 44m 20s      | 2.03007                |</pre>"
      ],
      "text/plain": [
       "| 1816    | 44m 20s      | 2.03007                |"
      ]
     },
     "metadata": {},
     "output_type": "display_data"
    },
    {
     "data": {
      "text/html": [
       "<pre>| 1817    | 44m 23s      | 2.02892                |</pre>"
      ],
      "text/plain": [
       "| 1817    | 44m 23s      | 2.02892                |"
      ]
     },
     "metadata": {},
     "output_type": "display_data"
    },
    {
     "data": {
      "text/html": [
       "<pre>| 1818    | 44m 27s      | 2.02781                |</pre>"
      ],
      "text/plain": [
       "| 1818    | 44m 27s      | 2.02781                |"
      ]
     },
     "metadata": {},
     "output_type": "display_data"
    },
    {
     "data": {
      "text/html": [
       "<pre>| 1819    | 44m 30s      | 2.02674                |</pre>"
      ],
      "text/plain": [
       "| 1819    | 44m 30s      | 2.02674                |"
      ]
     },
     "metadata": {},
     "output_type": "display_data"
    },
    {
     "data": {
      "text/html": [
       "<pre>| 1820    | 44m 33s      | 2.02569                |</pre>"
      ],
      "text/plain": [
       "| 1820    | 44m 33s      | 2.02569                |"
      ]
     },
     "metadata": {},
     "output_type": "display_data"
    },
    {
     "data": {
      "text/html": [
       "<pre>| 1821    | 44m 36s      | 2.02467                |</pre>"
      ],
      "text/plain": [
       "| 1821    | 44m 36s      | 2.02467                |"
      ]
     },
     "metadata": {},
     "output_type": "display_data"
    },
    {
     "data": {
      "text/html": [
       "<pre>| 1822    | 44m 40s      | 2.02367                |</pre>"
      ],
      "text/plain": [
       "| 1822    | 44m 40s      | 2.02367                |"
      ]
     },
     "metadata": {},
     "output_type": "display_data"
    },
    {
     "data": {
      "text/html": [
       "<pre>| 1823    | 44m 43s      | 2.0227                 |</pre>"
      ],
      "text/plain": [
       "| 1823    | 44m 43s      | 2.0227                 |"
      ]
     },
     "metadata": {},
     "output_type": "display_data"
    },
    {
     "data": {
      "text/html": [
       "<pre>| 1824    | 44m 47s      | 2.02176                |</pre>"
      ],
      "text/plain": [
       "| 1824    | 44m 47s      | 2.02176                |"
      ]
     },
     "metadata": {},
     "output_type": "display_data"
    },
    {
     "data": {
      "text/html": [
       "<pre>| 1825    | 44m 50s      | 2.02084                |</pre>"
      ],
      "text/plain": [
       "| 1825    | 44m 50s      | 2.02084                |"
      ]
     },
     "metadata": {},
     "output_type": "display_data"
    },
    {
     "data": {
      "text/html": [
       "<pre>| 1826    | 44m 53s      | 2.01993                |</pre>"
      ],
      "text/plain": [
       "| 1826    | 44m 53s      | 2.01993                |"
      ]
     },
     "metadata": {},
     "output_type": "display_data"
    },
    {
     "data": {
      "text/html": [
       "<pre>| 1827    | 44m 56s      | 2.01906                |</pre>"
      ],
      "text/plain": [
       "| 1827    | 44m 56s      | 2.01906                |"
      ]
     },
     "metadata": {},
     "output_type": "display_data"
    },
    {
     "data": {
      "text/html": [
       "<pre>| 1828    | 44m 59s      | 2.01823                |</pre>"
      ],
      "text/plain": [
       "| 1828    | 44m 59s      | 2.01823                |"
      ]
     },
     "metadata": {},
     "output_type": "display_data"
    },
    {
     "data": {
      "text/html": [
       "<pre>| 1829    | 45m 2s       | 2.01742                |</pre>"
      ],
      "text/plain": [
       "| 1829    | 45m 2s       | 2.01742                |"
      ]
     },
     "metadata": {},
     "output_type": "display_data"
    },
    {
     "data": {
      "text/html": [
       "<pre>| 1830    | 45m 4s       | 2.01663                |</pre>"
      ],
      "text/plain": [
       "| 1830    | 45m 4s       | 2.01663                |"
      ]
     },
     "metadata": {},
     "output_type": "display_data"
    },
    {
     "data": {
      "text/html": [
       "<pre>| 1831    | 45m 7s       | 2.01589                |</pre>"
      ],
      "text/plain": [
       "| 1831    | 45m 7s       | 2.01589                |"
      ]
     },
     "metadata": {},
     "output_type": "display_data"
    },
    {
     "data": {
      "text/html": [
       "<pre>| 1832    | 45m 9s       | 2.01518                |</pre>"
      ],
      "text/plain": [
       "| 1832    | 45m 9s       | 2.01518                |"
      ]
     },
     "metadata": {},
     "output_type": "display_data"
    },
    {
     "data": {
      "text/html": [
       "<pre>| 1833    | 45m 12s      | 2.01448                |</pre>"
      ],
      "text/plain": [
       "| 1833    | 45m 12s      | 2.01448                |"
      ]
     },
     "metadata": {},
     "output_type": "display_data"
    },
    {
     "data": {
      "text/html": [
       "<pre>| 1834    | 45m 14s      | 2.01383                |</pre>"
      ],
      "text/plain": [
       "| 1834    | 45m 14s      | 2.01383                |"
      ]
     },
     "metadata": {},
     "output_type": "display_data"
    },
    {
     "data": {
      "text/html": [
       "<pre>| 1835    | 45m 16s      | 2.0132                 |</pre>"
      ],
      "text/plain": [
       "| 1835    | 45m 16s      | 2.0132                 |"
      ]
     },
     "metadata": {},
     "output_type": "display_data"
    },
    {
     "data": {
      "text/html": [
       "<pre>| 1836    | 45m 19s      | 2.0126                 |</pre>"
      ],
      "text/plain": [
       "| 1836    | 45m 19s      | 2.0126                 |"
      ]
     },
     "metadata": {},
     "output_type": "display_data"
    },
    {
     "data": {
      "text/html": [
       "<pre>| 1837    | 45m 21s      | 2.01203                |</pre>"
      ],
      "text/plain": [
       "| 1837    | 45m 21s      | 2.01203                |"
      ]
     },
     "metadata": {},
     "output_type": "display_data"
    },
    {
     "data": {
      "text/html": [
       "<pre>| 1838    | 45m 24s      | 2.01147                |</pre>"
      ],
      "text/plain": [
       "| 1838    | 45m 24s      | 2.01147                |"
      ]
     },
     "metadata": {},
     "output_type": "display_data"
    },
    {
     "data": {
      "text/html": [
       "<pre>| 1839    | 45m 26s      | 2.01094                |</pre>"
      ],
      "text/plain": [
       "| 1839    | 45m 26s      | 2.01094                |"
      ]
     },
     "metadata": {},
     "output_type": "display_data"
    },
    {
     "data": {
      "text/html": [
       "<pre>| 1840    | 45m 28s      | 2.01043                |</pre>"
      ],
      "text/plain": [
       "| 1840    | 45m 28s      | 2.01043                |"
      ]
     },
     "metadata": {},
     "output_type": "display_data"
    },
    {
     "data": {
      "text/html": [
       "<pre>| 1841    | 45m 31s      | 2.00994                |</pre>"
      ],
      "text/plain": [
       "| 1841    | 45m 31s      | 2.00994                |"
      ]
     },
     "metadata": {},
     "output_type": "display_data"
    },
    {
     "data": {
      "text/html": [
       "<pre>| 1842    | 45m 33s      | 2.00946                |</pre>"
      ],
      "text/plain": [
       "| 1842    | 45m 33s      | 2.00946                |"
      ]
     },
     "metadata": {},
     "output_type": "display_data"
    },
    {
     "data": {
      "text/html": [
       "<pre>| 1843    | 45m 36s      | 2.00901                |</pre>"
      ],
      "text/plain": [
       "| 1843    | 45m 36s      | 2.00901                |"
      ]
     },
     "metadata": {},
     "output_type": "display_data"
    },
    {
     "data": {
      "text/html": [
       "<pre>| 1844    | 45m 38s      | 2.00856                |</pre>"
      ],
      "text/plain": [
       "| 1844    | 45m 38s      | 2.00856                |"
      ]
     },
     "metadata": {},
     "output_type": "display_data"
    },
    {
     "data": {
      "text/html": [
       "<pre>| 1845    | 45m 41s      | 2.00812                |</pre>"
      ],
      "text/plain": [
       "| 1845    | 45m 41s      | 2.00812                |"
      ]
     },
     "metadata": {},
     "output_type": "display_data"
    },
    {
     "data": {
      "text/html": [
       "<pre>| 1846    | 45m 43s      | 2.0077                 |</pre>"
      ],
      "text/plain": [
       "| 1846    | 45m 43s      | 2.0077                 |"
      ]
     },
     "metadata": {},
     "output_type": "display_data"
    },
    {
     "data": {
      "text/html": [
       "<pre>| 1847    | 45m 46s      | 2.0073                 |</pre>"
      ],
      "text/plain": [
       "| 1847    | 45m 46s      | 2.0073                 |"
      ]
     },
     "metadata": {},
     "output_type": "display_data"
    },
    {
     "data": {
      "text/html": [
       "<pre>| 1848    | 45m 49s      | 2.0069                 |</pre>"
      ],
      "text/plain": [
       "| 1848    | 45m 49s      | 2.0069                 |"
      ]
     },
     "metadata": {},
     "output_type": "display_data"
    },
    {
     "data": {
      "text/html": [
       "<pre>| 1849    | 45m 52s      | 2.00651                |</pre>"
      ],
      "text/plain": [
       "| 1849    | 45m 52s      | 2.00651                |"
      ]
     },
     "metadata": {},
     "output_type": "display_data"
    },
    {
     "data": {
      "text/html": [
       "<pre>| 1850    | 45m 56s      | 2.00614                |</pre>"
      ],
      "text/plain": [
       "| 1850    | 45m 56s      | 2.00614                |"
      ]
     },
     "metadata": {},
     "output_type": "display_data"
    },
    {
     "data": {
      "text/html": [
       "<pre>| 1851    | 46m 1s       | 2.00579                |</pre>"
      ],
      "text/plain": [
       "| 1851    | 46m 1s       | 2.00579                |"
      ]
     },
     "metadata": {},
     "output_type": "display_data"
    },
    {
     "data": {
      "text/html": [
       "<pre>| 1852    | 46m 6s       | 2.00543                |</pre>"
      ],
      "text/plain": [
       "| 1852    | 46m 6s       | 2.00543                |"
      ]
     },
     "metadata": {},
     "output_type": "display_data"
    },
    {
     "data": {
      "text/html": [
       "<pre>| 1853    | 46m 10s      | 2.00509                |</pre>"
      ],
      "text/plain": [
       "| 1853    | 46m 10s      | 2.00509                |"
      ]
     },
     "metadata": {},
     "output_type": "display_data"
    },
    {
     "data": {
      "text/html": [
       "<pre>| 1854    | 46m 13s      | 2.00476                |</pre>"
      ],
      "text/plain": [
       "| 1854    | 46m 13s      | 2.00476                |"
      ]
     },
     "metadata": {},
     "output_type": "display_data"
    },
    {
     "data": {
      "text/html": [
       "<pre>| 1855    | 46m 18s      | 2.00443                |</pre>"
      ],
      "text/plain": [
       "| 1855    | 46m 18s      | 2.00443                |"
      ]
     },
     "metadata": {},
     "output_type": "display_data"
    },
    {
     "data": {
      "text/html": [
       "<pre>| 1856    | 46m 22s      | 2.00412                |</pre>"
      ],
      "text/plain": [
       "| 1856    | 46m 22s      | 2.00412                |"
      ]
     },
     "metadata": {},
     "output_type": "display_data"
    },
    {
     "data": {
      "text/html": [
       "<pre>| 1857    | 46m 25s      | 2.00381                |</pre>"
      ],
      "text/plain": [
       "| 1857    | 46m 25s      | 2.00381                |"
      ]
     },
     "metadata": {},
     "output_type": "display_data"
    },
    {
     "data": {
      "text/html": [
       "<pre>| 1858    | 46m 28s      | 2.00351                |</pre>"
      ],
      "text/plain": [
       "| 1858    | 46m 28s      | 2.00351                |"
      ]
     },
     "metadata": {},
     "output_type": "display_data"
    },
    {
     "data": {
      "text/html": [
       "<pre>| 1859    | 46m 32s      | 2.00321                |</pre>"
      ],
      "text/plain": [
       "| 1859    | 46m 32s      | 2.00321                |"
      ]
     },
     "metadata": {},
     "output_type": "display_data"
    },
    {
     "data": {
      "text/html": [
       "<pre>| 1860    | 46m 35s      | 2.00293                |</pre>"
      ],
      "text/plain": [
       "| 1860    | 46m 35s      | 2.00293                |"
      ]
     },
     "metadata": {},
     "output_type": "display_data"
    },
    {
     "data": {
      "text/html": [
       "<pre>| 1861    | 46m 38s      | 2.00265                |</pre>"
      ],
      "text/plain": [
       "| 1861    | 46m 38s      | 2.00265                |"
      ]
     },
     "metadata": {},
     "output_type": "display_data"
    },
    {
     "data": {
      "text/html": [
       "<pre>| 1862    | 46m 42s      | 2.00238                |</pre>"
      ],
      "text/plain": [
       "| 1862    | 46m 42s      | 2.00238                |"
      ]
     },
     "metadata": {},
     "output_type": "display_data"
    },
    {
     "data": {
      "text/html": [
       "<pre>| 1863    | 46m 45s      | 2.00211                |</pre>"
      ],
      "text/plain": [
       "| 1863    | 46m 45s      | 2.00211                |"
      ]
     },
     "metadata": {},
     "output_type": "display_data"
    },
    {
     "data": {
      "text/html": [
       "<pre>| 1864    | 46m 49s      | 2.00185                |</pre>"
      ],
      "text/plain": [
       "| 1864    | 46m 49s      | 2.00185                |"
      ]
     },
     "metadata": {},
     "output_type": "display_data"
    },
    {
     "data": {
      "text/html": [
       "<pre>| 1865    | 46m 51s      | 2.00159                |</pre>"
      ],
      "text/plain": [
       "| 1865    | 46m 51s      | 2.00159                |"
      ]
     },
     "metadata": {},
     "output_type": "display_data"
    },
    {
     "data": {
      "text/html": [
       "<pre>| 1866    | 46m 54s      | 2.00134                |</pre>"
      ],
      "text/plain": [
       "| 1866    | 46m 54s      | 2.00134                |"
      ]
     },
     "metadata": {},
     "output_type": "display_data"
    },
    {
     "data": {
      "text/html": [
       "<pre>| 1867    | 46m 57s      | 2.0011                 |</pre>"
      ],
      "text/plain": [
       "| 1867    | 46m 57s      | 2.0011                 |"
      ]
     },
     "metadata": {},
     "output_type": "display_data"
    },
    {
     "data": {
      "text/html": [
       "<pre>| 1868    | 47m 0s       | 2.00086                |</pre>"
      ],
      "text/plain": [
       "| 1868    | 47m 0s       | 2.00086                |"
      ]
     },
     "metadata": {},
     "output_type": "display_data"
    },
    {
     "data": {
      "text/html": [
       "<pre>| 1869    | 47m 3s       | 2.00062                |</pre>"
      ],
      "text/plain": [
       "| 1869    | 47m 3s       | 2.00062                |"
      ]
     },
     "metadata": {},
     "output_type": "display_data"
    },
    {
     "data": {
      "text/html": [
       "<pre>| 1870    | 47m 7s       | 2.0004                 |</pre>"
      ],
      "text/plain": [
       "| 1870    | 47m 7s       | 2.0004                 |"
      ]
     },
     "metadata": {},
     "output_type": "display_data"
    },
    {
     "data": {
      "text/html": [
       "<pre>| 1871    | 47m 10s      | 2.00017                |</pre>"
      ],
      "text/plain": [
       "| 1871    | 47m 10s      | 2.00017                |"
      ]
     },
     "metadata": {},
     "output_type": "display_data"
    },
    {
     "data": {
      "text/html": [
       "<pre>| 1872    | 47m 13s      | 1.99994                |</pre>"
      ],
      "text/plain": [
       "| 1872    | 47m 13s      | 1.99994                |"
      ]
     },
     "metadata": {},
     "output_type": "display_data"
    },
    {
     "data": {
      "text/html": [
       "<pre>| 1873    | 47m 16s      | 1.99973                |</pre>"
      ],
      "text/plain": [
       "| 1873    | 47m 16s      | 1.99973                |"
      ]
     },
     "metadata": {},
     "output_type": "display_data"
    },
    {
     "data": {
      "text/html": [
       "<pre>| 1874    | 47m 19s      | 1.99951                |</pre>"
      ],
      "text/plain": [
       "| 1874    | 47m 19s      | 1.99951                |"
      ]
     },
     "metadata": {},
     "output_type": "display_data"
    },
    {
     "data": {
      "text/html": [
       "<pre>| 1875    | 47m 22s      | 1.9993                 |</pre>"
      ],
      "text/plain": [
       "| 1875    | 47m 22s      | 1.9993                 |"
      ]
     },
     "metadata": {},
     "output_type": "display_data"
    },
    {
     "data": {
      "text/html": [
       "<pre>| 1876    | 47m 25s      | 1.99909                |</pre>"
      ],
      "text/plain": [
       "| 1876    | 47m 25s      | 1.99909                |"
      ]
     },
     "metadata": {},
     "output_type": "display_data"
    },
    {
     "data": {
      "text/html": [
       "<pre>| 1877    | 47m 28s      | 1.99889                |</pre>"
      ],
      "text/plain": [
       "| 1877    | 47m 28s      | 1.99889                |"
      ]
     },
     "metadata": {},
     "output_type": "display_data"
    },
    {
     "data": {
      "text/html": [
       "<pre>| 1878    | 47m 31s      | 1.99868                |</pre>"
      ],
      "text/plain": [
       "| 1878    | 47m 31s      | 1.99868                |"
      ]
     },
     "metadata": {},
     "output_type": "display_data"
    },
    {
     "data": {
      "text/html": [
       "<pre>| 1879    | 47m 34s      | 1.99848                |</pre>"
      ],
      "text/plain": [
       "| 1879    | 47m 34s      | 1.99848                |"
      ]
     },
     "metadata": {},
     "output_type": "display_data"
    },
    {
     "data": {
      "text/html": [
       "<pre>| 1880    | 47m 36s      | 1.99828                |</pre>"
      ],
      "text/plain": [
       "| 1880    | 47m 36s      | 1.99828                |"
      ]
     },
     "metadata": {},
     "output_type": "display_data"
    },
    {
     "data": {
      "text/html": [
       "<pre>| 1881    | 47m 39s      | 1.99809                |</pre>"
      ],
      "text/plain": [
       "| 1881    | 47m 39s      | 1.99809                |"
      ]
     },
     "metadata": {},
     "output_type": "display_data"
    },
    {
     "data": {
      "text/html": [
       "<pre>| 1882    | 47m 42s      | 1.99789                |</pre>"
      ],
      "text/plain": [
       "| 1882    | 47m 42s      | 1.99789                |"
      ]
     },
     "metadata": {},
     "output_type": "display_data"
    },
    {
     "data": {
      "text/html": [
       "<pre>| 1883    | 47m 44s      | 1.99771                |</pre>"
      ],
      "text/plain": [
       "| 1883    | 47m 44s      | 1.99771                |"
      ]
     },
     "metadata": {},
     "output_type": "display_data"
    },
    {
     "data": {
      "text/html": [
       "<pre>| 1884    | 47m 47s      | 1.99752                |</pre>"
      ],
      "text/plain": [
       "| 1884    | 47m 47s      | 1.99752                |"
      ]
     },
     "metadata": {},
     "output_type": "display_data"
    },
    {
     "data": {
      "text/html": [
       "<pre>| 1885    | 47m 50s      | 1.99734                |</pre>"
      ],
      "text/plain": [
       "| 1885    | 47m 50s      | 1.99734                |"
      ]
     },
     "metadata": {},
     "output_type": "display_data"
    },
    {
     "data": {
      "text/html": [
       "<pre>| 1886    | 47m 53s      | 1.99715                |</pre>"
      ],
      "text/plain": [
       "| 1886    | 47m 53s      | 1.99715                |"
      ]
     },
     "metadata": {},
     "output_type": "display_data"
    },
    {
     "data": {
      "text/html": [
       "<pre>| 1887    | 47m 56s      | 1.99697                |</pre>"
      ],
      "text/plain": [
       "| 1887    | 47m 56s      | 1.99697                |"
      ]
     },
     "metadata": {},
     "output_type": "display_data"
    },
    {
     "data": {
      "text/html": [
       "<pre>| 1888    | 47m 59s      | 1.9968                 |</pre>"
      ],
      "text/plain": [
       "| 1888    | 47m 59s      | 1.9968                 |"
      ]
     },
     "metadata": {},
     "output_type": "display_data"
    },
    {
     "data": {
      "text/html": [
       "<pre>| 1889    | 48m 2s       | 1.99662                |</pre>"
      ],
      "text/plain": [
       "| 1889    | 48m 2s       | 1.99662                |"
      ]
     },
     "metadata": {},
     "output_type": "display_data"
    },
    {
     "data": {
      "text/html": [
       "<pre>| 1890    | 48m 6s       | 1.99645                |</pre>"
      ],
      "text/plain": [
       "| 1890    | 48m 6s       | 1.99645                |"
      ]
     },
     "metadata": {},
     "output_type": "display_data"
    },
    {
     "data": {
      "text/html": [
       "<pre>| 1891    | 48m 9s       | 1.99627                |</pre>"
      ],
      "text/plain": [
       "| 1891    | 48m 9s       | 1.99627                |"
      ]
     },
     "metadata": {},
     "output_type": "display_data"
    },
    {
     "data": {
      "text/html": [
       "<pre>| 1892    | 48m 12s      | 1.9961                 |</pre>"
      ],
      "text/plain": [
       "| 1892    | 48m 12s      | 1.9961                 |"
      ]
     },
     "metadata": {},
     "output_type": "display_data"
    },
    {
     "data": {
      "text/html": [
       "<pre>| 1893    | 48m 15s      | 1.99594                |</pre>"
      ],
      "text/plain": [
       "| 1893    | 48m 15s      | 1.99594                |"
      ]
     },
     "metadata": {},
     "output_type": "display_data"
    },
    {
     "data": {
      "text/html": [
       "<pre>| 1894    | 48m 19s      | 1.99577                |</pre>"
      ],
      "text/plain": [
       "| 1894    | 48m 19s      | 1.99577                |"
      ]
     },
     "metadata": {},
     "output_type": "display_data"
    },
    {
     "data": {
      "text/html": [
       "<pre>| 1895    | 48m 23s      | 1.99561                |</pre>"
      ],
      "text/plain": [
       "| 1895    | 48m 23s      | 1.99561                |"
      ]
     },
     "metadata": {},
     "output_type": "display_data"
    },
    {
     "data": {
      "text/html": [
       "<pre>| 1896    | 48m 25s      | 1.99544                |</pre>"
      ],
      "text/plain": [
       "| 1896    | 48m 25s      | 1.99544                |"
      ]
     },
     "metadata": {},
     "output_type": "display_data"
    },
    {
     "data": {
      "text/html": [
       "<pre>| 1897    | 48m 28s      | 1.99528                |</pre>"
      ],
      "text/plain": [
       "| 1897    | 48m 28s      | 1.99528                |"
      ]
     },
     "metadata": {},
     "output_type": "display_data"
    },
    {
     "data": {
      "text/html": [
       "<pre>| 1898    | 48m 31s      | 1.99513                |</pre>"
      ],
      "text/plain": [
       "| 1898    | 48m 31s      | 1.99513                |"
      ]
     },
     "metadata": {},
     "output_type": "display_data"
    },
    {
     "data": {
      "text/html": [
       "<pre>| 1899    | 48m 35s      | 1.99497                |</pre>"
      ],
      "text/plain": [
       "| 1899    | 48m 35s      | 1.99497                |"
      ]
     },
     "metadata": {},
     "output_type": "display_data"
    },
    {
     "data": {
      "text/html": [
       "<pre>| 1900    | 48m 38s      | 1.99481                |</pre>"
      ],
      "text/plain": [
       "| 1900    | 48m 38s      | 1.99481                |"
      ]
     },
     "metadata": {},
     "output_type": "display_data"
    },
    {
     "data": {
      "text/html": [
       "<pre>| 1901    | 48m 42s      | 1.99466                |</pre>"
      ],
      "text/plain": [
       "| 1901    | 48m 42s      | 1.99466                |"
      ]
     },
     "metadata": {},
     "output_type": "display_data"
    },
    {
     "data": {
      "text/html": [
       "<pre>| 1902    | 48m 45s      | 1.9945                 |</pre>"
      ],
      "text/plain": [
       "| 1902    | 48m 45s      | 1.9945                 |"
      ]
     },
     "metadata": {},
     "output_type": "display_data"
    },
    {
     "data": {
      "text/html": [
       "<pre>| 1903    | 48m 48s      | 1.99435                |</pre>"
      ],
      "text/plain": [
       "| 1903    | 48m 48s      | 1.99435                |"
      ]
     },
     "metadata": {},
     "output_type": "display_data"
    },
    {
     "data": {
      "text/html": [
       "<pre>| 1904    | 48m 51s      | 1.9942                 |</pre>"
      ],
      "text/plain": [
       "| 1904    | 48m 51s      | 1.9942                 |"
      ]
     },
     "metadata": {},
     "output_type": "display_data"
    },
    {
     "data": {
      "text/html": [
       "<pre>| 1905    | 48m 54s      | 1.99405                |</pre>"
      ],
      "text/plain": [
       "| 1905    | 48m 54s      | 1.99405                |"
      ]
     },
     "metadata": {},
     "output_type": "display_data"
    },
    {
     "data": {
      "text/html": [
       "<pre>| 1906    | 48m 56s      | 1.99391                |</pre>"
      ],
      "text/plain": [
       "| 1906    | 48m 56s      | 1.99391                |"
      ]
     },
     "metadata": {},
     "output_type": "display_data"
    },
    {
     "data": {
      "text/html": [
       "<pre>| 1907    | 48m 59s      | 1.99376                |</pre>"
      ],
      "text/plain": [
       "| 1907    | 48m 59s      | 1.99376                |"
      ]
     },
     "metadata": {},
     "output_type": "display_data"
    },
    {
     "data": {
      "text/html": [
       "<pre>| 1908    | 49m 1s       | 1.99362                |</pre>"
      ],
      "text/plain": [
       "| 1908    | 49m 1s       | 1.99362                |"
      ]
     },
     "metadata": {},
     "output_type": "display_data"
    },
    {
     "data": {
      "text/html": [
       "<pre>| 1909    | 49m 3s       | 1.99347                |</pre>"
      ],
      "text/plain": [
       "| 1909    | 49m 3s       | 1.99347                |"
      ]
     },
     "metadata": {},
     "output_type": "display_data"
    },
    {
     "data": {
      "text/html": [
       "<pre>| 1910    | 49m 6s       | 1.99333                |</pre>"
      ],
      "text/plain": [
       "| 1910    | 49m 6s       | 1.99333                |"
      ]
     },
     "metadata": {},
     "output_type": "display_data"
    },
    {
     "data": {
      "text/html": [
       "<pre>| 1911    | 49m 8s       | 1.99319                |</pre>"
      ],
      "text/plain": [
       "| 1911    | 49m 8s       | 1.99319                |"
      ]
     },
     "metadata": {},
     "output_type": "display_data"
    },
    {
     "data": {
      "text/html": [
       "<pre>| 1912    | 49m 10s      | 1.99306                |</pre>"
      ],
      "text/plain": [
       "| 1912    | 49m 10s      | 1.99306                |"
      ]
     },
     "metadata": {},
     "output_type": "display_data"
    },
    {
     "data": {
      "text/html": [
       "<pre>| 1913    | 49m 13s      | 1.99292                |</pre>"
      ],
      "text/plain": [
       "| 1913    | 49m 13s      | 1.99292                |"
      ]
     },
     "metadata": {},
     "output_type": "display_data"
    },
    {
     "data": {
      "text/html": [
       "<pre>| 1914    | 49m 15s      | 1.99278                |</pre>"
      ],
      "text/plain": [
       "| 1914    | 49m 15s      | 1.99278                |"
      ]
     },
     "metadata": {},
     "output_type": "display_data"
    },
    {
     "data": {
      "text/html": [
       "<pre>| 1915    | 49m 17s      | 1.99265                |</pre>"
      ],
      "text/plain": [
       "| 1915    | 49m 17s      | 1.99265                |"
      ]
     },
     "metadata": {},
     "output_type": "display_data"
    },
    {
     "data": {
      "text/html": [
       "<pre>| 1916    | 49m 20s      | 1.99252                |</pre>"
      ],
      "text/plain": [
       "| 1916    | 49m 20s      | 1.99252                |"
      ]
     },
     "metadata": {},
     "output_type": "display_data"
    },
    {
     "data": {
      "text/html": [
       "<pre>| 1917    | 49m 22s      | 1.99238                |</pre>"
      ],
      "text/plain": [
       "| 1917    | 49m 22s      | 1.99238                |"
      ]
     },
     "metadata": {},
     "output_type": "display_data"
    },
    {
     "data": {
      "text/html": [
       "<pre>| 1918    | 49m 25s      | 1.99225                |</pre>"
      ],
      "text/plain": [
       "| 1918    | 49m 25s      | 1.99225                |"
      ]
     },
     "metadata": {},
     "output_type": "display_data"
    },
    {
     "data": {
      "text/html": [
       "<pre>| 1919    | 49m 27s      | 1.99212                |</pre>"
      ],
      "text/plain": [
       "| 1919    | 49m 27s      | 1.99212                |"
      ]
     },
     "metadata": {},
     "output_type": "display_data"
    },
    {
     "data": {
      "text/html": [
       "<pre>| 1920    | 49m 29s      | 1.992                  |</pre>"
      ],
      "text/plain": [
       "| 1920    | 49m 29s      | 1.992                  |"
      ]
     },
     "metadata": {},
     "output_type": "display_data"
    },
    {
     "data": {
      "text/html": [
       "<pre>| 1921    | 49m 32s      | 1.99187                |</pre>"
      ],
      "text/plain": [
       "| 1921    | 49m 32s      | 1.99187                |"
      ]
     },
     "metadata": {},
     "output_type": "display_data"
    },
    {
     "data": {
      "text/html": [
       "<pre>| 1922    | 49m 34s      | 1.99174                |</pre>"
      ],
      "text/plain": [
       "| 1922    | 49m 34s      | 1.99174                |"
      ]
     },
     "metadata": {},
     "output_type": "display_data"
    },
    {
     "data": {
      "text/html": [
       "<pre>| 1923    | 49m 37s      | 1.99161                |</pre>"
      ],
      "text/plain": [
       "| 1923    | 49m 37s      | 1.99161                |"
      ]
     },
     "metadata": {},
     "output_type": "display_data"
    },
    {
     "data": {
      "text/html": [
       "<pre>| 1924    | 49m 39s      | 1.99149                |</pre>"
      ],
      "text/plain": [
       "| 1924    | 49m 39s      | 1.99149                |"
      ]
     },
     "metadata": {},
     "output_type": "display_data"
    },
    {
     "data": {
      "text/html": [
       "<pre>| 1925    | 49m 41s      | 1.99137                |</pre>"
      ],
      "text/plain": [
       "| 1925    | 49m 41s      | 1.99137                |"
      ]
     },
     "metadata": {},
     "output_type": "display_data"
    },
    {
     "data": {
      "text/html": [
       "<pre>| 1926    | 49m 44s      | 1.99124                |</pre>"
      ],
      "text/plain": [
       "| 1926    | 49m 44s      | 1.99124                |"
      ]
     },
     "metadata": {},
     "output_type": "display_data"
    },
    {
     "data": {
      "text/html": [
       "<pre>| 1927    | 49m 46s      | 1.99112                |</pre>"
      ],
      "text/plain": [
       "| 1927    | 49m 46s      | 1.99112                |"
      ]
     },
     "metadata": {},
     "output_type": "display_data"
    },
    {
     "data": {
      "text/html": [
       "<pre>| 1928    | 49m 48s      | 1.991                  |</pre>"
      ],
      "text/plain": [
       "| 1928    | 49m 48s      | 1.991                  |"
      ]
     },
     "metadata": {},
     "output_type": "display_data"
    },
    {
     "data": {
      "text/html": [
       "<pre>| 1929    | 49m 51s      | 1.99088                |</pre>"
      ],
      "text/plain": [
       "| 1929    | 49m 51s      | 1.99088                |"
      ]
     },
     "metadata": {},
     "output_type": "display_data"
    },
    {
     "data": {
      "text/html": [
       "<pre>| 1930    | 49m 53s      | 1.99076                |</pre>"
      ],
      "text/plain": [
       "| 1930    | 49m 53s      | 1.99076                |"
      ]
     },
     "metadata": {},
     "output_type": "display_data"
    },
    {
     "data": {
      "text/html": [
       "<pre>| 1931    | 49m 56s      | 1.99064                |</pre>"
      ],
      "text/plain": [
       "| 1931    | 49m 56s      | 1.99064                |"
      ]
     },
     "metadata": {},
     "output_type": "display_data"
    },
    {
     "data": {
      "text/html": [
       "<pre>| 1932    | 49m 58s      | 1.99053                |</pre>"
      ],
      "text/plain": [
       "| 1932    | 49m 58s      | 1.99053                |"
      ]
     },
     "metadata": {},
     "output_type": "display_data"
    },
    {
     "data": {
      "text/html": [
       "<pre>| 1933    | 50m 0s       | 1.99041                |</pre>"
      ],
      "text/plain": [
       "| 1933    | 50m 0s       | 1.99041                |"
      ]
     },
     "metadata": {},
     "output_type": "display_data"
    },
    {
     "data": {
      "text/html": [
       "<pre>| 1934    | 50m 3s       | 1.99029                |</pre>"
      ],
      "text/plain": [
       "| 1934    | 50m 3s       | 1.99029                |"
      ]
     },
     "metadata": {},
     "output_type": "display_data"
    },
    {
     "data": {
      "text/html": [
       "<pre>| 1935    | 50m 5s       | 1.99018                |</pre>"
      ],
      "text/plain": [
       "| 1935    | 50m 5s       | 1.99018                |"
      ]
     },
     "metadata": {},
     "output_type": "display_data"
    },
    {
     "data": {
      "text/html": [
       "<pre>| 1936    | 50m 8s       | 1.99006                |</pre>"
      ],
      "text/plain": [
       "| 1936    | 50m 8s       | 1.99006                |"
      ]
     },
     "metadata": {},
     "output_type": "display_data"
    },
    {
     "data": {
      "text/html": [
       "<pre>| 1937    | 50m 10s      | 1.98995                |</pre>"
      ],
      "text/plain": [
       "| 1937    | 50m 10s      | 1.98995                |"
      ]
     },
     "metadata": {},
     "output_type": "display_data"
    },
    {
     "data": {
      "text/html": [
       "<pre>| 1938    | 50m 12s      | 1.98984                |</pre>"
      ],
      "text/plain": [
       "| 1938    | 50m 12s      | 1.98984                |"
      ]
     },
     "metadata": {},
     "output_type": "display_data"
    },
    {
     "data": {
      "text/html": [
       "<pre>| 1939    | 50m 15s      | 1.98972                |</pre>"
      ],
      "text/plain": [
       "| 1939    | 50m 15s      | 1.98972                |"
      ]
     },
     "metadata": {},
     "output_type": "display_data"
    },
    {
     "data": {
      "text/html": [
       "<pre>| 1940    | 50m 17s      | 1.98961                |</pre>"
      ],
      "text/plain": [
       "| 1940    | 50m 17s      | 1.98961                |"
      ]
     },
     "metadata": {},
     "output_type": "display_data"
    },
    {
     "data": {
      "text/html": [
       "<pre>| 1941    | 50m 19s      | 1.9895                 |</pre>"
      ],
      "text/plain": [
       "| 1941    | 50m 19s      | 1.9895                 |"
      ]
     },
     "metadata": {},
     "output_type": "display_data"
    },
    {
     "data": {
      "text/html": [
       "<pre>| 1942    | 50m 22s      | 1.98939                |</pre>"
      ],
      "text/plain": [
       "| 1942    | 50m 22s      | 1.98939                |"
      ]
     },
     "metadata": {},
     "output_type": "display_data"
    },
    {
     "data": {
      "text/html": [
       "<pre>| 1943    | 50m 24s      | 1.98928                |</pre>"
      ],
      "text/plain": [
       "| 1943    | 50m 24s      | 1.98928                |"
      ]
     },
     "metadata": {},
     "output_type": "display_data"
    },
    {
     "data": {
      "text/html": [
       "<pre>| 1944    | 50m 26s      | 1.98917                |</pre>"
      ],
      "text/plain": [
       "| 1944    | 50m 26s      | 1.98917                |"
      ]
     },
     "metadata": {},
     "output_type": "display_data"
    },
    {
     "data": {
      "text/html": [
       "<pre>| 1945    | 50m 29s      | 1.98906                |</pre>"
      ],
      "text/plain": [
       "| 1945    | 50m 29s      | 1.98906                |"
      ]
     },
     "metadata": {},
     "output_type": "display_data"
    },
    {
     "data": {
      "text/html": [
       "<pre>| 1946    | 50m 31s      | 1.98895                |</pre>"
      ],
      "text/plain": [
       "| 1946    | 50m 31s      | 1.98895                |"
      ]
     },
     "metadata": {},
     "output_type": "display_data"
    },
    {
     "data": {
      "text/html": [
       "<pre>| 1947    | 50m 34s      | 1.98884                |</pre>"
      ],
      "text/plain": [
       "| 1947    | 50m 34s      | 1.98884                |"
      ]
     },
     "metadata": {},
     "output_type": "display_data"
    },
    {
     "data": {
      "text/html": [
       "<pre>| 1948    | 50m 36s      | 1.98873                |</pre>"
      ],
      "text/plain": [
       "| 1948    | 50m 36s      | 1.98873                |"
      ]
     },
     "metadata": {},
     "output_type": "display_data"
    },
    {
     "data": {
      "text/html": [
       "<pre>| 1949    | 50m 39s      | 1.98862                |</pre>"
      ],
      "text/plain": [
       "| 1949    | 50m 39s      | 1.98862                |"
      ]
     },
     "metadata": {},
     "output_type": "display_data"
    },
    {
     "data": {
      "text/html": [
       "<pre>| 1950    | 50m 42s      | 1.9885                 |</pre>"
      ],
      "text/plain": [
       "| 1950    | 50m 42s      | 1.9885                 |"
      ]
     },
     "metadata": {},
     "output_type": "display_data"
    },
    {
     "data": {
      "text/html": [
       "<pre>| 1951    | 50m 46s      | 1.98839                |</pre>"
      ],
      "text/plain": [
       "| 1951    | 50m 46s      | 1.98839                |"
      ]
     },
     "metadata": {},
     "output_type": "display_data"
    },
    {
     "data": {
      "text/html": [
       "<pre>| 1952    | 50m 49s      | 1.98828                |</pre>"
      ],
      "text/plain": [
       "| 1952    | 50m 49s      | 1.98828                |"
      ]
     },
     "metadata": {},
     "output_type": "display_data"
    },
    {
     "data": {
      "text/html": [
       "<pre>| 1953    | 50m 52s      | 1.98817                |</pre>"
      ],
      "text/plain": [
       "| 1953    | 50m 52s      | 1.98817                |"
      ]
     },
     "metadata": {},
     "output_type": "display_data"
    },
    {
     "data": {
      "text/html": [
       "<pre>| 1954    | 50m 56s      | 1.98806                |</pre>"
      ],
      "text/plain": [
       "| 1954    | 50m 56s      | 1.98806                |"
      ]
     },
     "metadata": {},
     "output_type": "display_data"
    },
    {
     "data": {
      "text/html": [
       "<pre>| 1955    | 50m 59s      | 1.98795                |</pre>"
      ],
      "text/plain": [
       "| 1955    | 50m 59s      | 1.98795                |"
      ]
     },
     "metadata": {},
     "output_type": "display_data"
    },
    {
     "data": {
      "text/html": [
       "<pre>| 1956    | 51m 2s       | 1.98784                |</pre>"
      ],
      "text/plain": [
       "| 1956    | 51m 2s       | 1.98784                |"
      ]
     },
     "metadata": {},
     "output_type": "display_data"
    },
    {
     "data": {
      "text/html": [
       "<pre>| 1957    | 51m 4s       | 1.98773                |</pre>"
      ],
      "text/plain": [
       "| 1957    | 51m 4s       | 1.98773                |"
      ]
     },
     "metadata": {},
     "output_type": "display_data"
    },
    {
     "data": {
      "text/html": [
       "<pre>| 1958    | 51m 6s       | 1.98762                |</pre>"
      ],
      "text/plain": [
       "| 1958    | 51m 6s       | 1.98762                |"
      ]
     },
     "metadata": {},
     "output_type": "display_data"
    },
    {
     "data": {
      "text/html": [
       "<pre>| 1959    | 51m 8s       | 1.98751                |</pre>"
      ],
      "text/plain": [
       "| 1959    | 51m 8s       | 1.98751                |"
      ]
     },
     "metadata": {},
     "output_type": "display_data"
    },
    {
     "data": {
      "text/html": [
       "<pre>| 1960    | 51m 10s      | 1.9874                 |</pre>"
      ],
      "text/plain": [
       "| 1960    | 51m 10s      | 1.9874                 |"
      ]
     },
     "metadata": {},
     "output_type": "display_data"
    },
    {
     "data": {
      "text/html": [
       "<pre>| 1961    | 51m 12s      | 1.98729                |</pre>"
      ],
      "text/plain": [
       "| 1961    | 51m 12s      | 1.98729                |"
      ]
     },
     "metadata": {},
     "output_type": "display_data"
    },
    {
     "data": {
      "text/html": [
       "<pre>| 1962    | 51m 13s      | 1.98718                |</pre>"
      ],
      "text/plain": [
       "| 1962    | 51m 13s      | 1.98718                |"
      ]
     },
     "metadata": {},
     "output_type": "display_data"
    },
    {
     "data": {
      "text/html": [
       "<pre>| 1963    | 51m 15s      | 1.98707                |</pre>"
      ],
      "text/plain": [
       "| 1963    | 51m 15s      | 1.98707                |"
      ]
     },
     "metadata": {},
     "output_type": "display_data"
    },
    {
     "data": {
      "text/html": [
       "<pre>| 1964    | 51m 16s      | 1.98696                |</pre>"
      ],
      "text/plain": [
       "| 1964    | 51m 16s      | 1.98696                |"
      ]
     },
     "metadata": {},
     "output_type": "display_data"
    },
    {
     "data": {
      "text/html": [
       "<pre>| 1965    | 51m 18s      | 1.98685                |</pre>"
      ],
      "text/plain": [
       "| 1965    | 51m 18s      | 1.98685                |"
      ]
     },
     "metadata": {},
     "output_type": "display_data"
    },
    {
     "data": {
      "text/html": [
       "<pre>| 1966    | 51m 19s      | 1.98674                |</pre>"
      ],
      "text/plain": [
       "| 1966    | 51m 19s      | 1.98674                |"
      ]
     },
     "metadata": {},
     "output_type": "display_data"
    },
    {
     "data": {
      "text/html": [
       "<pre>| 1967    | 51m 21s      | 1.98663                |</pre>"
      ],
      "text/plain": [
       "| 1967    | 51m 21s      | 1.98663                |"
      ]
     },
     "metadata": {},
     "output_type": "display_data"
    },
    {
     "data": {
      "text/html": [
       "<pre>| 1968    | 51m 22s      | 1.98652                |</pre>"
      ],
      "text/plain": [
       "| 1968    | 51m 22s      | 1.98652                |"
      ]
     },
     "metadata": {},
     "output_type": "display_data"
    },
    {
     "data": {
      "text/html": [
       "<pre>| 1969    | 51m 24s      | 1.9864                 |</pre>"
      ],
      "text/plain": [
       "| 1969    | 51m 24s      | 1.9864                 |"
      ]
     },
     "metadata": {},
     "output_type": "display_data"
    },
    {
     "data": {
      "text/html": [
       "<pre>| 1970    | 51m 26s      | 1.98629                |</pre>"
      ],
      "text/plain": [
       "| 1970    | 51m 26s      | 1.98629                |"
      ]
     },
     "metadata": {},
     "output_type": "display_data"
    },
    {
     "data": {
      "text/html": [
       "<pre>| 1971    | 51m 27s      | 1.98619                |</pre>"
      ],
      "text/plain": [
       "| 1971    | 51m 27s      | 1.98619                |"
      ]
     },
     "metadata": {},
     "output_type": "display_data"
    },
    {
     "data": {
      "text/html": [
       "<pre>| 1972    | 51m 29s      | 1.98608                |</pre>"
      ],
      "text/plain": [
       "| 1972    | 51m 29s      | 1.98608                |"
      ]
     },
     "metadata": {},
     "output_type": "display_data"
    },
    {
     "data": {
      "text/html": [
       "<pre>| 1973    | 51m 30s      | 1.98597                |</pre>"
      ],
      "text/plain": [
       "| 1973    | 51m 30s      | 1.98597                |"
      ]
     },
     "metadata": {},
     "output_type": "display_data"
    },
    {
     "data": {
      "text/html": [
       "<pre>| 1974    | 51m 32s      | 1.98586                |</pre>"
      ],
      "text/plain": [
       "| 1974    | 51m 32s      | 1.98586                |"
      ]
     },
     "metadata": {},
     "output_type": "display_data"
    },
    {
     "data": {
      "text/html": [
       "<pre>| 1975    | 51m 33s      | 1.98576                |</pre>"
      ],
      "text/plain": [
       "| 1975    | 51m 33s      | 1.98576                |"
      ]
     },
     "metadata": {},
     "output_type": "display_data"
    },
    {
     "data": {
      "text/html": [
       "<pre>| 1976    | 51m 35s      | 1.98565                |</pre>"
      ],
      "text/plain": [
       "| 1976    | 51m 35s      | 1.98565                |"
      ]
     },
     "metadata": {},
     "output_type": "display_data"
    },
    {
     "data": {
      "text/html": [
       "<pre>| 1977    | 51m 36s      | 1.98555                |</pre>"
      ],
      "text/plain": [
       "| 1977    | 51m 36s      | 1.98555                |"
      ]
     },
     "metadata": {},
     "output_type": "display_data"
    },
    {
     "data": {
      "text/html": [
       "<pre>| 1978    | 51m 38s      | 1.98545                |</pre>"
      ],
      "text/plain": [
       "| 1978    | 51m 38s      | 1.98545                |"
      ]
     },
     "metadata": {},
     "output_type": "display_data"
    },
    {
     "data": {
      "text/html": [
       "<pre>| 1979    | 51m 39s      | 1.98535                |</pre>"
      ],
      "text/plain": [
       "| 1979    | 51m 39s      | 1.98535                |"
      ]
     },
     "metadata": {},
     "output_type": "display_data"
    },
    {
     "data": {
      "text/html": [
       "<pre>| 1980    | 51m 41s      | 1.98525                |</pre>"
      ],
      "text/plain": [
       "| 1980    | 51m 41s      | 1.98525                |"
      ]
     },
     "metadata": {},
     "output_type": "display_data"
    },
    {
     "data": {
      "text/html": [
       "<pre>| 1981    | 51m 43s      | 1.98516                |</pre>"
      ],
      "text/plain": [
       "| 1981    | 51m 43s      | 1.98516                |"
      ]
     },
     "metadata": {},
     "output_type": "display_data"
    },
    {
     "data": {
      "text/html": [
       "<pre>| 1982    | 51m 44s      | 1.98506                |</pre>"
      ],
      "text/plain": [
       "| 1982    | 51m 44s      | 1.98506                |"
      ]
     },
     "metadata": {},
     "output_type": "display_data"
    },
    {
     "data": {
      "text/html": [
       "<pre>| 1983    | 51m 46s      | 1.98497                |</pre>"
      ],
      "text/plain": [
       "| 1983    | 51m 46s      | 1.98497                |"
      ]
     },
     "metadata": {},
     "output_type": "display_data"
    },
    {
     "data": {
      "text/html": [
       "<pre>| 1984    | 51m 47s      | 1.98487                |</pre>"
      ],
      "text/plain": [
       "| 1984    | 51m 47s      | 1.98487                |"
      ]
     },
     "metadata": {},
     "output_type": "display_data"
    },
    {
     "data": {
      "text/html": [
       "<pre>| 1985    | 51m 49s      | 1.98479                |</pre>"
      ],
      "text/plain": [
       "| 1985    | 51m 49s      | 1.98479                |"
      ]
     },
     "metadata": {},
     "output_type": "display_data"
    },
    {
     "data": {
      "text/html": [
       "<pre>| 1986    | 51m 50s      | 1.9847                 |</pre>"
      ],
      "text/plain": [
       "| 1986    | 51m 50s      | 1.9847                 |"
      ]
     },
     "metadata": {},
     "output_type": "display_data"
    },
    {
     "data": {
      "text/html": [
       "<pre>| 1987    | 51m 52s      | 1.98461                |</pre>"
      ],
      "text/plain": [
       "| 1987    | 51m 52s      | 1.98461                |"
      ]
     },
     "metadata": {},
     "output_type": "display_data"
    },
    {
     "data": {
      "text/html": [
       "<pre>| 1988    | 51m 53s      | 1.98453                |</pre>"
      ],
      "text/plain": [
       "| 1988    | 51m 53s      | 1.98453                |"
      ]
     },
     "metadata": {},
     "output_type": "display_data"
    },
    {
     "data": {
      "text/html": [
       "<pre>| 1989    | 51m 55s      | 1.98445                |</pre>"
      ],
      "text/plain": [
       "| 1989    | 51m 55s      | 1.98445                |"
      ]
     },
     "metadata": {},
     "output_type": "display_data"
    },
    {
     "data": {
      "text/html": [
       "<pre>| 1990    | 51m 57s      | 1.98437                |</pre>"
      ],
      "text/plain": [
       "| 1990    | 51m 57s      | 1.98437                |"
      ]
     },
     "metadata": {},
     "output_type": "display_data"
    },
    {
     "data": {
      "text/html": [
       "<pre>| 1991    | 51m 59s      | 1.98429                |</pre>"
      ],
      "text/plain": [
       "| 1991    | 51m 59s      | 1.98429                |"
      ]
     },
     "metadata": {},
     "output_type": "display_data"
    },
    {
     "data": {
      "text/html": [
       "<pre>| 1992    | 52m 1s       | 1.98421                |</pre>"
      ],
      "text/plain": [
       "| 1992    | 52m 1s       | 1.98421                |"
      ]
     },
     "metadata": {},
     "output_type": "display_data"
    },
    {
     "data": {
      "text/html": [
       "<pre>| 1993    | 52m 3s       | 1.98414                |</pre>"
      ],
      "text/plain": [
       "| 1993    | 52m 3s       | 1.98414                |"
      ]
     },
     "metadata": {},
     "output_type": "display_data"
    },
    {
     "data": {
      "text/html": [
       "<pre>| 1994    | 52m 4s       | 1.98406                |</pre>"
      ],
      "text/plain": [
       "| 1994    | 52m 4s       | 1.98406                |"
      ]
     },
     "metadata": {},
     "output_type": "display_data"
    },
    {
     "data": {
      "text/html": [
       "<pre>| 1995    | 52m 6s       | 1.98399                |</pre>"
      ],
      "text/plain": [
       "| 1995    | 52m 6s       | 1.98399                |"
      ]
     },
     "metadata": {},
     "output_type": "display_data"
    },
    {
     "data": {
      "text/html": [
       "<pre>| 1996    | 52m 7s       | 1.98392                |</pre>"
      ],
      "text/plain": [
       "| 1996    | 52m 7s       | 1.98392                |"
      ]
     },
     "metadata": {},
     "output_type": "display_data"
    },
    {
     "data": {
      "text/html": [
       "<pre>| 1997    | 52m 9s       | 1.98385                |</pre>"
      ],
      "text/plain": [
       "| 1997    | 52m 9s       | 1.98385                |"
      ]
     },
     "metadata": {},
     "output_type": "display_data"
    },
    {
     "data": {
      "text/html": [
       "<pre>| 1998    | 52m 11s      | 1.98378                |</pre>"
      ],
      "text/plain": [
       "| 1998    | 52m 11s      | 1.98378                |"
      ]
     },
     "metadata": {},
     "output_type": "display_data"
    },
    {
     "data": {
      "text/html": [
       "<pre>| 1999    | 52m 12s      | 1.98371                |</pre>"
      ],
      "text/plain": [
       "| 1999    | 52m 12s      | 1.98371                |"
      ]
     },
     "metadata": {},
     "output_type": "display_data"
    },
    {
     "data": {
      "text/html": [
       "<pre>| FINAL   | 52m 12s      | 1.98371                |</pre>"
      ],
      "text/plain": [
       "| FINAL   | 52m 12s      | 1.98371                |"
      ]
     },
     "metadata": {},
     "output_type": "display_data"
    },
    {
     "data": {
      "text/html": [
       "<pre>+---------+--------------+------------------------+</pre>"
      ],
      "text/plain": [
       "+---------+--------------+------------------------+"
      ]
     },
     "metadata": {},
     "output_type": "display_data"
    },
    {
     "data": {
      "text/html": [
       "<pre>Optimization Complete: Iteration limit reached.</pre>"
      ],
      "text/plain": [
       "Optimization Complete: Iteration limit reached."
      ]
     },
     "metadata": {},
     "output_type": "display_data"
    }
   ],
   "source": [
    "rec_als = graphlab.recommender.factorization_recommender.create(\n",
    "                sf_train,\n",
    "                user_id='user_id',\n",
    "                item_id='joke_id',\n",
    "                target='rating',\n",
    "                solver='als',\n",
    "                regularization=1e-08,  #default is 1e-08; change to 1e-06 not help\n",
    "                linear_regularization=1e-8, #default is 1e-10 \n",
    "                max_iterations=2000,\n",
    "                num_factors=20,\n",
    "                side_data_factorization=False)"
   ]
  },
  {
   "cell_type": "code",
   "execution_count": 21,
   "metadata": {
    "collapsed": false
   },
   "outputs": [
    {
     "data": {
      "text/html": [
       "<div>\n",
       "<table border=\"1\" class=\"dataframe\">\n",
       "  <thead>\n",
       "    <tr style=\"text-align: right;\">\n",
       "      <th></th>\n",
       "      <th>user_id</th>\n",
       "      <th>joke_id</th>\n",
       "      <th>rating_target</th>\n",
       "    </tr>\n",
       "  </thead>\n",
       "  <tbody>\n",
       "    <tr>\n",
       "      <th>0</th>\n",
       "      <td>30762</td>\n",
       "      <td>24</td>\n",
       "      <td>2.968247</td>\n",
       "    </tr>\n",
       "    <tr>\n",
       "      <th>1</th>\n",
       "      <td>54667</td>\n",
       "      <td>128</td>\n",
       "      <td>0.603346</td>\n",
       "    </tr>\n",
       "    <tr>\n",
       "      <th>2</th>\n",
       "      <td>38515</td>\n",
       "      <td>68</td>\n",
       "      <td>6.740459</td>\n",
       "    </tr>\n",
       "    <tr>\n",
       "      <th>3</th>\n",
       "      <td>44643</td>\n",
       "      <td>39</td>\n",
       "      <td>5.207355</td>\n",
       "    </tr>\n",
       "    <tr>\n",
       "      <th>4</th>\n",
       "      <td>58677</td>\n",
       "      <td>13</td>\n",
       "      <td>1.271774</td>\n",
       "    </tr>\n",
       "  </tbody>\n",
       "</table>\n",
       "</div>"
      ],
      "text/plain": [
       "   user_id  joke_id  rating_target\n",
       "0    30762       24       2.968247\n",
       "1    54667      128       0.603346\n",
       "2    38515       68       6.740459\n",
       "3    44643       39       5.207355\n",
       "4    58677       13       1.271774"
      ]
     },
     "execution_count": 21,
     "metadata": {},
     "output_type": "execute_result"
    }
   ],
   "source": [
    "sf_test = graphlab.SFrame(df_test[['user_id', 'joke_id']])\n",
    "test_als_pred = rec_als.predict(sf_test)\n",
    "sf_test_als = sf_test.copy()\n",
    "sf_test_als['rating_target'] = test_als_pred\n",
    "df_test_als = sf_test_als.to_dataframe()\n",
    "df_test_als.head()"
   ]
  },
  {
   "cell_type": "code",
   "execution_count": 22,
   "metadata": {
    "collapsed": false
   },
   "outputs": [
    {
     "data": {
      "text/plain": [
       "2.844295315317613"
      ]
     },
     "execution_count": 22,
     "metadata": {},
     "output_type": "execute_result"
    }
   ],
   "source": [
    "score_top_5_percent(df_test_als)"
   ]
  },
  {
   "cell_type": "markdown",
   "metadata": {},
   "source": [
    "# BEST ONE!!!!!!   The score with 200 iterations is 2.84"
   ]
  },
  {
   "cell_type": "code",
   "execution_count": null,
   "metadata": {
    "collapsed": true
   },
   "outputs": [],
   "source": []
  }
 ],
 "metadata": {
  "kernelspec": {
   "display_name": "Python 2",
   "language": "python",
   "name": "python2"
  },
  "language_info": {
   "codemirror_mode": {
    "name": "ipython",
    "version": 2
   },
   "file_extension": ".py",
   "mimetype": "text/x-python",
   "name": "python",
   "nbconvert_exporter": "python",
   "pygments_lexer": "ipython2",
   "version": "2.7.11"
  }
 },
 "nbformat": 4,
 "nbformat_minor": 0
}
